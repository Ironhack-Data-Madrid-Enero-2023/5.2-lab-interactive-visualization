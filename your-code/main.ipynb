{
 "cells": [
  {
   "cell_type": "markdown",
   "metadata": {},
   "source": [
    "# Interactive Visualization Lab\n",
    "\n",
    "Complete the following set of exercises to solidify your knowledge of interactive visualization using Plotly, Cufflinks, and IPyWidgets."
   ]
  },
  {
   "cell_type": "code",
   "execution_count": 71,
   "metadata": {},
   "outputs": [
    {
     "name": "stdout",
     "output_type": "stream",
     "text": [
      "Requirement already satisfied: chart-studio in /Users/ronaldhernandez/opt/anaconda3/lib/python3.9/site-packages (1.1.0)\n",
      "Requirement already satisfied: retrying>=1.3.3 in /Users/ronaldhernandez/opt/anaconda3/lib/python3.9/site-packages (from chart-studio) (1.3.4)\n",
      "Requirement already satisfied: six in /Users/ronaldhernandez/opt/anaconda3/lib/python3.9/site-packages (from chart-studio) (1.16.0)\n",
      "Requirement already satisfied: requests in /Users/ronaldhernandez/opt/anaconda3/lib/python3.9/site-packages (from chart-studio) (2.28.1)\n",
      "Requirement already satisfied: plotly in /Users/ronaldhernandez/opt/anaconda3/lib/python3.9/site-packages (from chart-studio) (5.9.0)\n",
      "Requirement already satisfied: tenacity>=6.2.0 in /Users/ronaldhernandez/opt/anaconda3/lib/python3.9/site-packages (from plotly->chart-studio) (8.0.1)\n",
      "Requirement already satisfied: certifi>=2017.4.17 in /Users/ronaldhernandez/opt/anaconda3/lib/python3.9/site-packages (from requests->chart-studio) (2022.9.24)\n",
      "Requirement already satisfied: urllib3<1.27,>=1.21.1 in /Users/ronaldhernandez/opt/anaconda3/lib/python3.9/site-packages (from requests->chart-studio) (1.26.11)\n",
      "Requirement already satisfied: charset-normalizer<3,>=2 in /Users/ronaldhernandez/opt/anaconda3/lib/python3.9/site-packages (from requests->chart-studio) (2.0.4)\n",
      "Requirement already satisfied: idna<4,>=2.5 in /Users/ronaldhernandez/opt/anaconda3/lib/python3.9/site-packages (from requests->chart-studio) (3.3)\n",
      "Note: you may need to restart the kernel to use updated packages.\n",
      "Requirement already satisfied: cufflinks in /Users/ronaldhernandez/opt/anaconda3/lib/python3.9/site-packages (0.17.3)\n",
      "Requirement already satisfied: colorlover>=0.2.1 in /Users/ronaldhernandez/opt/anaconda3/lib/python3.9/site-packages (from cufflinks) (0.3.0)\n",
      "Requirement already satisfied: pandas>=0.19.2 in /Users/ronaldhernandez/opt/anaconda3/lib/python3.9/site-packages (from cufflinks) (1.4.4)\n",
      "Requirement already satisfied: ipython>=5.3.0 in /Users/ronaldhernandez/opt/anaconda3/lib/python3.9/site-packages (from cufflinks) (7.31.1)\n",
      "Requirement already satisfied: ipywidgets>=7.0.0 in /Users/ronaldhernandez/opt/anaconda3/lib/python3.9/site-packages (from cufflinks) (7.6.5)\n",
      "Requirement already satisfied: numpy>=1.9.2 in /Users/ronaldhernandez/opt/anaconda3/lib/python3.9/site-packages (from cufflinks) (1.21.5)\n",
      "Requirement already satisfied: setuptools>=34.4.1 in /Users/ronaldhernandez/opt/anaconda3/lib/python3.9/site-packages (from cufflinks) (63.4.1)\n",
      "Requirement already satisfied: plotly>=4.1.1 in /Users/ronaldhernandez/opt/anaconda3/lib/python3.9/site-packages (from cufflinks) (5.9.0)\n",
      "Requirement already satisfied: six>=1.9.0 in /Users/ronaldhernandez/opt/anaconda3/lib/python3.9/site-packages (from cufflinks) (1.16.0)\n",
      "Requirement already satisfied: pygments in /Users/ronaldhernandez/opt/anaconda3/lib/python3.9/site-packages (from ipython>=5.3.0->cufflinks) (2.11.2)\n",
      "Requirement already satisfied: prompt-toolkit!=3.0.0,!=3.0.1,<3.1.0,>=2.0.0 in /Users/ronaldhernandez/opt/anaconda3/lib/python3.9/site-packages (from ipython>=5.3.0->cufflinks) (3.0.20)\n",
      "Requirement already satisfied: jedi>=0.16 in /Users/ronaldhernandez/opt/anaconda3/lib/python3.9/site-packages (from ipython>=5.3.0->cufflinks) (0.18.1)\n",
      "Requirement already satisfied: matplotlib-inline in /Users/ronaldhernandez/opt/anaconda3/lib/python3.9/site-packages (from ipython>=5.3.0->cufflinks) (0.1.6)\n",
      "Requirement already satisfied: decorator in /Users/ronaldhernandez/opt/anaconda3/lib/python3.9/site-packages (from ipython>=5.3.0->cufflinks) (5.1.1)\n",
      "Requirement already satisfied: backcall in /Users/ronaldhernandez/opt/anaconda3/lib/python3.9/site-packages (from ipython>=5.3.0->cufflinks) (0.2.0)\n",
      "Requirement already satisfied: pexpect>4.3 in /Users/ronaldhernandez/opt/anaconda3/lib/python3.9/site-packages (from ipython>=5.3.0->cufflinks) (4.8.0)\n",
      "Requirement already satisfied: traitlets>=4.2 in /Users/ronaldhernandez/opt/anaconda3/lib/python3.9/site-packages (from ipython>=5.3.0->cufflinks) (5.1.1)\n",
      "Requirement already satisfied: appnope in /Users/ronaldhernandez/opt/anaconda3/lib/python3.9/site-packages (from ipython>=5.3.0->cufflinks) (0.1.2)\n",
      "Requirement already satisfied: pickleshare in /Users/ronaldhernandez/opt/anaconda3/lib/python3.9/site-packages (from ipython>=5.3.0->cufflinks) (0.7.5)\n",
      "Requirement already satisfied: nbformat>=4.2.0 in /Users/ronaldhernandez/opt/anaconda3/lib/python3.9/site-packages (from ipywidgets>=7.0.0->cufflinks) (5.5.0)\n",
      "Requirement already satisfied: jupyterlab-widgets>=1.0.0 in /Users/ronaldhernandez/opt/anaconda3/lib/python3.9/site-packages (from ipywidgets>=7.0.0->cufflinks) (1.0.0)\n",
      "Requirement already satisfied: ipython-genutils~=0.2.0 in /Users/ronaldhernandez/opt/anaconda3/lib/python3.9/site-packages (from ipywidgets>=7.0.0->cufflinks) (0.2.0)\n",
      "Requirement already satisfied: widgetsnbextension~=3.5.0 in /Users/ronaldhernandez/opt/anaconda3/lib/python3.9/site-packages (from ipywidgets>=7.0.0->cufflinks) (3.5.2)\n",
      "Requirement already satisfied: ipykernel>=4.5.1 in /Users/ronaldhernandez/opt/anaconda3/lib/python3.9/site-packages (from ipywidgets>=7.0.0->cufflinks) (6.15.2)\n",
      "Requirement already satisfied: python-dateutil>=2.8.1 in /Users/ronaldhernandez/opt/anaconda3/lib/python3.9/site-packages (from pandas>=0.19.2->cufflinks) (2.8.2)\n",
      "Requirement already satisfied: pytz>=2020.1 in /Users/ronaldhernandez/opt/anaconda3/lib/python3.9/site-packages (from pandas>=0.19.2->cufflinks) (2022.1)\n",
      "Requirement already satisfied: tenacity>=6.2.0 in /Users/ronaldhernandez/opt/anaconda3/lib/python3.9/site-packages (from plotly>=4.1.1->cufflinks) (8.0.1)\n",
      "Requirement already satisfied: psutil in /Users/ronaldhernandez/opt/anaconda3/lib/python3.9/site-packages (from ipykernel>=4.5.1->ipywidgets>=7.0.0->cufflinks) (5.9.0)\n",
      "Requirement already satisfied: debugpy>=1.0 in /Users/ronaldhernandez/opt/anaconda3/lib/python3.9/site-packages (from ipykernel>=4.5.1->ipywidgets>=7.0.0->cufflinks) (1.5.1)\n",
      "Requirement already satisfied: nest-asyncio in /Users/ronaldhernandez/opt/anaconda3/lib/python3.9/site-packages (from ipykernel>=4.5.1->ipywidgets>=7.0.0->cufflinks) (1.5.5)\n",
      "Requirement already satisfied: pyzmq>=17 in /Users/ronaldhernandez/opt/anaconda3/lib/python3.9/site-packages (from ipykernel>=4.5.1->ipywidgets>=7.0.0->cufflinks) (23.2.0)\n",
      "Requirement already satisfied: tornado>=6.1 in /Users/ronaldhernandez/opt/anaconda3/lib/python3.9/site-packages (from ipykernel>=4.5.1->ipywidgets>=7.0.0->cufflinks) (6.1)\n",
      "Requirement already satisfied: jupyter-client>=6.1.12 in /Users/ronaldhernandez/opt/anaconda3/lib/python3.9/site-packages (from ipykernel>=4.5.1->ipywidgets>=7.0.0->cufflinks) (7.3.4)\n",
      "Requirement already satisfied: packaging in /Users/ronaldhernandez/opt/anaconda3/lib/python3.9/site-packages (from ipykernel>=4.5.1->ipywidgets>=7.0.0->cufflinks) (21.3)\n",
      "Requirement already satisfied: parso<0.9.0,>=0.8.0 in /Users/ronaldhernandez/opt/anaconda3/lib/python3.9/site-packages (from jedi>=0.16->ipython>=5.3.0->cufflinks) (0.8.3)\n",
      "Requirement already satisfied: fastjsonschema in /Users/ronaldhernandez/opt/anaconda3/lib/python3.9/site-packages (from nbformat>=4.2.0->ipywidgets>=7.0.0->cufflinks) (2.16.2)\n",
      "Requirement already satisfied: jupyter_core in /Users/ronaldhernandez/opt/anaconda3/lib/python3.9/site-packages (from nbformat>=4.2.0->ipywidgets>=7.0.0->cufflinks) (4.11.1)\n",
      "Requirement already satisfied: jsonschema>=2.6 in /Users/ronaldhernandez/opt/anaconda3/lib/python3.9/site-packages (from nbformat>=4.2.0->ipywidgets>=7.0.0->cufflinks) (4.16.0)\n",
      "Requirement already satisfied: ptyprocess>=0.5 in /Users/ronaldhernandez/opt/anaconda3/lib/python3.9/site-packages (from pexpect>4.3->ipython>=5.3.0->cufflinks) (0.7.0)\n",
      "Requirement already satisfied: wcwidth in /Users/ronaldhernandez/opt/anaconda3/lib/python3.9/site-packages (from prompt-toolkit!=3.0.0,!=3.0.1,<3.1.0,>=2.0.0->ipython>=5.3.0->cufflinks) (0.2.5)\n",
      "Requirement already satisfied: notebook>=4.4.1 in /Users/ronaldhernandez/opt/anaconda3/lib/python3.9/site-packages (from widgetsnbextension~=3.5.0->ipywidgets>=7.0.0->cufflinks) (6.4.12)\n",
      "Requirement already satisfied: attrs>=17.4.0 in /Users/ronaldhernandez/opt/anaconda3/lib/python3.9/site-packages (from jsonschema>=2.6->nbformat>=4.2.0->ipywidgets>=7.0.0->cufflinks) (21.4.0)\n",
      "Requirement already satisfied: pyrsistent!=0.17.0,!=0.17.1,!=0.17.2,>=0.14.0 in /Users/ronaldhernandez/opt/anaconda3/lib/python3.9/site-packages (from jsonschema>=2.6->nbformat>=4.2.0->ipywidgets>=7.0.0->cufflinks) (0.18.0)\n",
      "Requirement already satisfied: entrypoints in /Users/ronaldhernandez/opt/anaconda3/lib/python3.9/site-packages (from jupyter-client>=6.1.12->ipykernel>=4.5.1->ipywidgets>=7.0.0->cufflinks) (0.4)\n",
      "Requirement already satisfied: jinja2 in /Users/ronaldhernandez/opt/anaconda3/lib/python3.9/site-packages (from notebook>=4.4.1->widgetsnbextension~=3.5.0->ipywidgets>=7.0.0->cufflinks) (2.11.3)\n",
      "Requirement already satisfied: nbconvert>=5 in /Users/ronaldhernandez/opt/anaconda3/lib/python3.9/site-packages (from notebook>=4.4.1->widgetsnbextension~=3.5.0->ipywidgets>=7.0.0->cufflinks) (6.4.4)\n",
      "Requirement already satisfied: prometheus-client in /Users/ronaldhernandez/opt/anaconda3/lib/python3.9/site-packages (from notebook>=4.4.1->widgetsnbextension~=3.5.0->ipywidgets>=7.0.0->cufflinks) (0.14.1)\n",
      "Requirement already satisfied: argon2-cffi in /Users/ronaldhernandez/opt/anaconda3/lib/python3.9/site-packages (from notebook>=4.4.1->widgetsnbextension~=3.5.0->ipywidgets>=7.0.0->cufflinks) (21.3.0)\n",
      "Requirement already satisfied: Send2Trash>=1.8.0 in /Users/ronaldhernandez/opt/anaconda3/lib/python3.9/site-packages (from notebook>=4.4.1->widgetsnbextension~=3.5.0->ipywidgets>=7.0.0->cufflinks) (1.8.0)\n",
      "Requirement already satisfied: terminado>=0.8.3 in /Users/ronaldhernandez/opt/anaconda3/lib/python3.9/site-packages (from notebook>=4.4.1->widgetsnbextension~=3.5.0->ipywidgets>=7.0.0->cufflinks) (0.13.1)\n",
      "Requirement already satisfied: pyparsing!=3.0.5,>=2.0.2 in /Users/ronaldhernandez/opt/anaconda3/lib/python3.9/site-packages (from packaging->ipykernel>=4.5.1->ipywidgets>=7.0.0->cufflinks) (3.0.9)\n",
      "Requirement already satisfied: testpath in /Users/ronaldhernandez/opt/anaconda3/lib/python3.9/site-packages (from nbconvert>=5->notebook>=4.4.1->widgetsnbextension~=3.5.0->ipywidgets>=7.0.0->cufflinks) (0.6.0)\n",
      "Requirement already satisfied: defusedxml in /Users/ronaldhernandez/opt/anaconda3/lib/python3.9/site-packages (from nbconvert>=5->notebook>=4.4.1->widgetsnbextension~=3.5.0->ipywidgets>=7.0.0->cufflinks) (0.7.1)\n",
      "Requirement already satisfied: bleach in /Users/ronaldhernandez/opt/anaconda3/lib/python3.9/site-packages (from nbconvert>=5->notebook>=4.4.1->widgetsnbextension~=3.5.0->ipywidgets>=7.0.0->cufflinks) (4.1.0)\n",
      "Requirement already satisfied: nbclient<0.6.0,>=0.5.0 in /Users/ronaldhernandez/opt/anaconda3/lib/python3.9/site-packages (from nbconvert>=5->notebook>=4.4.1->widgetsnbextension~=3.5.0->ipywidgets>=7.0.0->cufflinks) (0.5.13)\n",
      "Requirement already satisfied: mistune<2,>=0.8.1 in /Users/ronaldhernandez/opt/anaconda3/lib/python3.9/site-packages (from nbconvert>=5->notebook>=4.4.1->widgetsnbextension~=3.5.0->ipywidgets>=7.0.0->cufflinks) (0.8.4)\n",
      "Requirement already satisfied: pandocfilters>=1.4.1 in /Users/ronaldhernandez/opt/anaconda3/lib/python3.9/site-packages (from nbconvert>=5->notebook>=4.4.1->widgetsnbextension~=3.5.0->ipywidgets>=7.0.0->cufflinks) (1.5.0)\n",
      "Requirement already satisfied: beautifulsoup4 in /Users/ronaldhernandez/opt/anaconda3/lib/python3.9/site-packages (from nbconvert>=5->notebook>=4.4.1->widgetsnbextension~=3.5.0->ipywidgets>=7.0.0->cufflinks) (4.11.1)\n",
      "Requirement already satisfied: jupyterlab-pygments in /Users/ronaldhernandez/opt/anaconda3/lib/python3.9/site-packages (from nbconvert>=5->notebook>=4.4.1->widgetsnbextension~=3.5.0->ipywidgets>=7.0.0->cufflinks) (0.1.2)\n",
      "Requirement already satisfied: MarkupSafe>=0.23 in /Users/ronaldhernandez/opt/anaconda3/lib/python3.9/site-packages (from jinja2->notebook>=4.4.1->widgetsnbextension~=3.5.0->ipywidgets>=7.0.0->cufflinks) (2.0.1)\n",
      "Requirement already satisfied: argon2-cffi-bindings in /Users/ronaldhernandez/opt/anaconda3/lib/python3.9/site-packages (from argon2-cffi->notebook>=4.4.1->widgetsnbextension~=3.5.0->ipywidgets>=7.0.0->cufflinks) (21.2.0)\n",
      "Requirement already satisfied: cffi>=1.0.1 in /Users/ronaldhernandez/opt/anaconda3/lib/python3.9/site-packages (from argon2-cffi-bindings->argon2-cffi->notebook>=4.4.1->widgetsnbextension~=3.5.0->ipywidgets>=7.0.0->cufflinks) (1.15.1)\n",
      "Requirement already satisfied: soupsieve>1.2 in /Users/ronaldhernandez/opt/anaconda3/lib/python3.9/site-packages (from beautifulsoup4->nbconvert>=5->notebook>=4.4.1->widgetsnbextension~=3.5.0->ipywidgets>=7.0.0->cufflinks) (2.3.1)\n",
      "Requirement already satisfied: webencodings in /Users/ronaldhernandez/opt/anaconda3/lib/python3.9/site-packages (from bleach->nbconvert>=5->notebook>=4.4.1->widgetsnbextension~=3.5.0->ipywidgets>=7.0.0->cufflinks) (0.5.1)\n",
      "Requirement already satisfied: pycparser in /Users/ronaldhernandez/opt/anaconda3/lib/python3.9/site-packages (from cffi>=1.0.1->argon2-cffi-bindings->argon2-cffi->notebook>=4.4.1->widgetsnbextension~=3.5.0->ipywidgets>=7.0.0->cufflinks) (2.21)\n",
      "Note: you may need to restart the kernel to use updated packages.\n"
     ]
    }
   ],
   "source": [
    "%pip install chart-studio\n",
    "%pip install cufflinks"
   ]
  },
  {
   "cell_type": "code",
   "execution_count": 72,
   "metadata": {},
   "outputs": [
    {
     "data": {
      "text/html": [
       "        <script type=\"text/javascript\">\n",
       "        window.PlotlyConfig = {MathJaxConfig: 'local'};\n",
       "        if (window.MathJax && window.MathJax.Hub && window.MathJax.Hub.Config) {window.MathJax.Hub.Config({SVG: {font: \"STIX-Web\"}});}\n",
       "        if (typeof require !== 'undefined') {\n",
       "        require.undef(\"plotly\");\n",
       "        requirejs.config({\n",
       "            paths: {\n",
       "                'plotly': ['https://cdn.plot.ly/plotly-2.12.1.min']\n",
       "            }\n",
       "        });\n",
       "        require(['plotly'], function(Plotly) {\n",
       "            window._Plotly = Plotly;\n",
       "        });\n",
       "        }\n",
       "        </script>\n",
       "        "
      ]
     },
     "metadata": {},
     "output_type": "display_data"
    }
   ],
   "source": [
    "import pandas as pd\n",
    "import chart_studio.plotly as py\n",
    "import cufflinks as cf\n",
    "from ipywidgets import interact\n",
    "\n",
    "cf.go_offline()"
   ]
  },
  {
   "cell_type": "code",
   "execution_count": 73,
   "metadata": {},
   "outputs": [
    {
     "data": {
      "text/html": [
       "<div>\n",
       "<style scoped>\n",
       "    .dataframe tbody tr th:only-of-type {\n",
       "        vertical-align: middle;\n",
       "    }\n",
       "\n",
       "    .dataframe tbody tr th {\n",
       "        vertical-align: top;\n",
       "    }\n",
       "\n",
       "    .dataframe thead th {\n",
       "        text-align: right;\n",
       "    }\n",
       "</style>\n",
       "<table border=\"1\" class=\"dataframe\">\n",
       "  <thead>\n",
       "    <tr style=\"text-align: right;\">\n",
       "      <th></th>\n",
       "      <th>InvoiceNo</th>\n",
       "      <th>InvoiceDate</th>\n",
       "      <th>StockCode</th>\n",
       "      <th>Description</th>\n",
       "      <th>Quantity</th>\n",
       "      <th>UnitPrice</th>\n",
       "      <th>Revenue</th>\n",
       "      <th>CustomerID</th>\n",
       "      <th>Country</th>\n",
       "    </tr>\n",
       "  </thead>\n",
       "  <tbody>\n",
       "    <tr>\n",
       "      <th>0</th>\n",
       "      <td>536365</td>\n",
       "      <td>2010-12-01 08:26:00</td>\n",
       "      <td>85123A</td>\n",
       "      <td>CREAM HANGING HEART T-LIGHT HOLDER</td>\n",
       "      <td>6</td>\n",
       "      <td>2.55</td>\n",
       "      <td>15.3</td>\n",
       "      <td>17850</td>\n",
       "      <td>United Kingdom</td>\n",
       "    </tr>\n",
       "    <tr>\n",
       "      <th>1</th>\n",
       "      <td>536373</td>\n",
       "      <td>2010-12-01 09:02:00</td>\n",
       "      <td>85123A</td>\n",
       "      <td>CREAM HANGING HEART T-LIGHT HOLDER</td>\n",
       "      <td>6</td>\n",
       "      <td>2.55</td>\n",
       "      <td>15.3</td>\n",
       "      <td>17850</td>\n",
       "      <td>United Kingdom</td>\n",
       "    </tr>\n",
       "    <tr>\n",
       "      <th>2</th>\n",
       "      <td>536375</td>\n",
       "      <td>2010-12-01 09:32:00</td>\n",
       "      <td>85123A</td>\n",
       "      <td>CREAM HANGING HEART T-LIGHT HOLDER</td>\n",
       "      <td>6</td>\n",
       "      <td>2.55</td>\n",
       "      <td>15.3</td>\n",
       "      <td>17850</td>\n",
       "      <td>United Kingdom</td>\n",
       "    </tr>\n",
       "    <tr>\n",
       "      <th>3</th>\n",
       "      <td>536390</td>\n",
       "      <td>2010-12-01 10:19:00</td>\n",
       "      <td>85123A</td>\n",
       "      <td>CREAM HANGING HEART T-LIGHT HOLDER</td>\n",
       "      <td>64</td>\n",
       "      <td>2.55</td>\n",
       "      <td>163.2</td>\n",
       "      <td>17511</td>\n",
       "      <td>United Kingdom</td>\n",
       "    </tr>\n",
       "    <tr>\n",
       "      <th>4</th>\n",
       "      <td>536394</td>\n",
       "      <td>2010-12-01 10:39:00</td>\n",
       "      <td>85123A</td>\n",
       "      <td>CREAM HANGING HEART T-LIGHT HOLDER</td>\n",
       "      <td>32</td>\n",
       "      <td>2.55</td>\n",
       "      <td>81.6</td>\n",
       "      <td>13408</td>\n",
       "      <td>United Kingdom</td>\n",
       "    </tr>\n",
       "  </tbody>\n",
       "</table>\n",
       "</div>"
      ],
      "text/plain": [
       "   InvoiceNo         InvoiceDate StockCode  \\\n",
       "0     536365 2010-12-01 08:26:00    85123A   \n",
       "1     536373 2010-12-01 09:02:00    85123A   \n",
       "2     536375 2010-12-01 09:32:00    85123A   \n",
       "3     536390 2010-12-01 10:19:00    85123A   \n",
       "4     536394 2010-12-01 10:39:00    85123A   \n",
       "\n",
       "                          Description  Quantity  UnitPrice  Revenue  \\\n",
       "0  CREAM HANGING HEART T-LIGHT HOLDER         6       2.55     15.3   \n",
       "1  CREAM HANGING HEART T-LIGHT HOLDER         6       2.55     15.3   \n",
       "2  CREAM HANGING HEART T-LIGHT HOLDER         6       2.55     15.3   \n",
       "3  CREAM HANGING HEART T-LIGHT HOLDER        64       2.55    163.2   \n",
       "4  CREAM HANGING HEART T-LIGHT HOLDER        32       2.55     81.6   \n",
       "\n",
       "   CustomerID         Country  \n",
       "0       17850  United Kingdom  \n",
       "1       17850  United Kingdom  \n",
       "2       17850  United Kingdom  \n",
       "3       17511  United Kingdom  \n",
       "4       13408  United Kingdom  "
      ]
     },
     "execution_count": 73,
     "metadata": {},
     "output_type": "execute_result"
    }
   ],
   "source": [
    "a =pd.read_excel('../data/Online Retail.xlsx')\n",
    "\n",
    "a.head()"
   ]
  },
  {
   "cell_type": "code",
   "execution_count": null,
   "metadata": {},
   "outputs": [],
   "source": []
  },
  {
   "cell_type": "code",
   "execution_count": null,
   "metadata": {},
   "outputs": [],
   "source": []
  },
  {
   "cell_type": "markdown",
   "metadata": {},
   "source": [
    "## 1. Create an interactive bar chart showing total quantity and revenue by country (excluding United Kingdom) for the month of April 2011."
   ]
  },
  {
   "cell_type": "code",
   "execution_count": 103,
   "metadata": {},
   "outputs": [],
   "source": [
    "data=a[a.Country!='United Kingdom']\n",
    "\n",
    "data=data.loc[(data.InvoiceDate >= '2011-4-1') & (data.InvoiceDate <= '2011-4-30')]\n"
   ]
  },
  {
   "cell_type": "code",
   "execution_count": 104,
   "metadata": {},
   "outputs": [
    {
     "data": {
      "text/html": [
       "<div>\n",
       "<style scoped>\n",
       "    .dataframe tbody tr th:only-of-type {\n",
       "        vertical-align: middle;\n",
       "    }\n",
       "\n",
       "    .dataframe tbody tr th {\n",
       "        vertical-align: top;\n",
       "    }\n",
       "\n",
       "    .dataframe thead th {\n",
       "        text-align: right;\n",
       "    }\n",
       "</style>\n",
       "<table border=\"1\" class=\"dataframe\">\n",
       "  <thead>\n",
       "    <tr style=\"text-align: right;\">\n",
       "      <th></th>\n",
       "      <th>Quantity</th>\n",
       "      <th>Revenue</th>\n",
       "    </tr>\n",
       "    <tr>\n",
       "      <th>Country</th>\n",
       "      <th></th>\n",
       "      <th></th>\n",
       "    </tr>\n",
       "  </thead>\n",
       "  <tbody>\n",
       "    <tr>\n",
       "      <th>Australia</th>\n",
       "      <td>224</td>\n",
       "      <td>421.60</td>\n",
       "    </tr>\n",
       "    <tr>\n",
       "      <th>Austria</th>\n",
       "      <td>308</td>\n",
       "      <td>584.78</td>\n",
       "    </tr>\n",
       "    <tr>\n",
       "      <th>Belgium</th>\n",
       "      <td>1170</td>\n",
       "      <td>1788.48</td>\n",
       "    </tr>\n",
       "    <tr>\n",
       "      <th>Brazil</th>\n",
       "      <td>356</td>\n",
       "      <td>1143.60</td>\n",
       "    </tr>\n",
       "    <tr>\n",
       "      <th>Channel Islands</th>\n",
       "      <td>96</td>\n",
       "      <td>243.00</td>\n",
       "    </tr>\n",
       "  </tbody>\n",
       "</table>\n",
       "</div>"
      ],
      "text/plain": [
       "                 Quantity  Revenue\n",
       "Country                           \n",
       "Australia             224   421.60\n",
       "Austria               308   584.78\n",
       "Belgium              1170  1788.48\n",
       "Brazil                356  1143.60\n",
       "Channel Islands        96   243.00"
      ]
     },
     "execution_count": 104,
     "metadata": {},
     "output_type": "execute_result"
    }
   ],
   "source": [
    "data=data.groupby('Country').sum()\n",
    "\n",
    "data=data[['Quantity', 'Revenue']]\n",
    "\n",
    "data.head()"
   ]
  },
  {
   "cell_type": "code",
   "execution_count": 105,
   "metadata": {},
   "outputs": [
    {
     "data": {
      "application/vnd.plotly.v1+json": {
       "config": {
        "linkText": "Export to plot.ly",
        "plotlyServerURL": "https://plot.ly",
        "showLink": true
       },
       "data": [
        {
         "marker": {
          "color": "rgba(255, 153, 51, 0.6)",
          "line": {
           "color": "rgba(255, 153, 51, 1.0)",
           "width": 1
          }
         },
         "name": "Quantity",
         "orientation": "v",
         "text": "",
         "type": "bar",
         "x": [
          "Australia",
          "Austria",
          "Belgium",
          "Brazil",
          "Channel Islands",
          "EIRE",
          "Finland",
          "France",
          "Germany",
          "Greece",
          "Iceland",
          "Italy",
          "Japan",
          "Netherlands",
          "Poland",
          "Portugal",
          "Singapore",
          "Spain",
          "Sweden",
          "Switzerland",
          "USA"
         ],
         "y": [
          224,
          308,
          1170,
          356,
          96,
          4129,
          810,
          2265,
          5702,
          260,
          483,
          653,
          8058,
          1762,
          432,
          951,
          1384,
          948,
          306,
          878,
          137
         ]
        },
        {
         "marker": {
          "color": "rgba(55, 128, 191, 0.6)",
          "line": {
           "color": "rgba(55, 128, 191, 1.0)",
           "width": 1
          }
         },
         "name": "Revenue",
         "orientation": "v",
         "text": "",
         "type": "bar",
         "x": [
          "Australia",
          "Austria",
          "Belgium",
          "Brazil",
          "Channel Islands",
          "EIRE",
          "Finland",
          "France",
          "Germany",
          "Greece",
          "Iceland",
          "Italy",
          "Japan",
          "Netherlands",
          "Poland",
          "Portugal",
          "Singapore",
          "Spain",
          "Sweden",
          "Switzerland",
          "USA"
         ],
         "y": [
          421.6,
          584.78,
          1788.48,
          1143.6,
          243,
          7270.5,
          1368.92,
          3899.31,
          10994.79,
          509.74,
          636.25,
          737.83,
          6548.5,
          2886.56,
          705.8399999999999,
          1687.75,
          2118.74,
          1645.65,
          649.1,
          1756.94,
          383.95
         ]
        }
       ],
       "layout": {
        "legend": {
         "bgcolor": "#F5F6F9",
         "font": {
          "color": "#4D5663"
         }
        },
        "paper_bgcolor": "#F5F6F9",
        "plot_bgcolor": "#F5F6F9",
        "template": {
         "data": {
          "bar": [
           {
            "error_x": {
             "color": "#2a3f5f"
            },
            "error_y": {
             "color": "#2a3f5f"
            },
            "marker": {
             "line": {
              "color": "#E5ECF6",
              "width": 0.5
             },
             "pattern": {
              "fillmode": "overlay",
              "size": 10,
              "solidity": 0.2
             }
            },
            "type": "bar"
           }
          ],
          "barpolar": [
           {
            "marker": {
             "line": {
              "color": "#E5ECF6",
              "width": 0.5
             },
             "pattern": {
              "fillmode": "overlay",
              "size": 10,
              "solidity": 0.2
             }
            },
            "type": "barpolar"
           }
          ],
          "carpet": [
           {
            "aaxis": {
             "endlinecolor": "#2a3f5f",
             "gridcolor": "white",
             "linecolor": "white",
             "minorgridcolor": "white",
             "startlinecolor": "#2a3f5f"
            },
            "baxis": {
             "endlinecolor": "#2a3f5f",
             "gridcolor": "white",
             "linecolor": "white",
             "minorgridcolor": "white",
             "startlinecolor": "#2a3f5f"
            },
            "type": "carpet"
           }
          ],
          "choropleth": [
           {
            "colorbar": {
             "outlinewidth": 0,
             "ticks": ""
            },
            "type": "choropleth"
           }
          ],
          "contour": [
           {
            "colorbar": {
             "outlinewidth": 0,
             "ticks": ""
            },
            "colorscale": [
             [
              0,
              "#0d0887"
             ],
             [
              0.1111111111111111,
              "#46039f"
             ],
             [
              0.2222222222222222,
              "#7201a8"
             ],
             [
              0.3333333333333333,
              "#9c179e"
             ],
             [
              0.4444444444444444,
              "#bd3786"
             ],
             [
              0.5555555555555556,
              "#d8576b"
             ],
             [
              0.6666666666666666,
              "#ed7953"
             ],
             [
              0.7777777777777778,
              "#fb9f3a"
             ],
             [
              0.8888888888888888,
              "#fdca26"
             ],
             [
              1,
              "#f0f921"
             ]
            ],
            "type": "contour"
           }
          ],
          "contourcarpet": [
           {
            "colorbar": {
             "outlinewidth": 0,
             "ticks": ""
            },
            "type": "contourcarpet"
           }
          ],
          "heatmap": [
           {
            "colorbar": {
             "outlinewidth": 0,
             "ticks": ""
            },
            "colorscale": [
             [
              0,
              "#0d0887"
             ],
             [
              0.1111111111111111,
              "#46039f"
             ],
             [
              0.2222222222222222,
              "#7201a8"
             ],
             [
              0.3333333333333333,
              "#9c179e"
             ],
             [
              0.4444444444444444,
              "#bd3786"
             ],
             [
              0.5555555555555556,
              "#d8576b"
             ],
             [
              0.6666666666666666,
              "#ed7953"
             ],
             [
              0.7777777777777778,
              "#fb9f3a"
             ],
             [
              0.8888888888888888,
              "#fdca26"
             ],
             [
              1,
              "#f0f921"
             ]
            ],
            "type": "heatmap"
           }
          ],
          "heatmapgl": [
           {
            "colorbar": {
             "outlinewidth": 0,
             "ticks": ""
            },
            "colorscale": [
             [
              0,
              "#0d0887"
             ],
             [
              0.1111111111111111,
              "#46039f"
             ],
             [
              0.2222222222222222,
              "#7201a8"
             ],
             [
              0.3333333333333333,
              "#9c179e"
             ],
             [
              0.4444444444444444,
              "#bd3786"
             ],
             [
              0.5555555555555556,
              "#d8576b"
             ],
             [
              0.6666666666666666,
              "#ed7953"
             ],
             [
              0.7777777777777778,
              "#fb9f3a"
             ],
             [
              0.8888888888888888,
              "#fdca26"
             ],
             [
              1,
              "#f0f921"
             ]
            ],
            "type": "heatmapgl"
           }
          ],
          "histogram": [
           {
            "marker": {
             "pattern": {
              "fillmode": "overlay",
              "size": 10,
              "solidity": 0.2
             }
            },
            "type": "histogram"
           }
          ],
          "histogram2d": [
           {
            "colorbar": {
             "outlinewidth": 0,
             "ticks": ""
            },
            "colorscale": [
             [
              0,
              "#0d0887"
             ],
             [
              0.1111111111111111,
              "#46039f"
             ],
             [
              0.2222222222222222,
              "#7201a8"
             ],
             [
              0.3333333333333333,
              "#9c179e"
             ],
             [
              0.4444444444444444,
              "#bd3786"
             ],
             [
              0.5555555555555556,
              "#d8576b"
             ],
             [
              0.6666666666666666,
              "#ed7953"
             ],
             [
              0.7777777777777778,
              "#fb9f3a"
             ],
             [
              0.8888888888888888,
              "#fdca26"
             ],
             [
              1,
              "#f0f921"
             ]
            ],
            "type": "histogram2d"
           }
          ],
          "histogram2dcontour": [
           {
            "colorbar": {
             "outlinewidth": 0,
             "ticks": ""
            },
            "colorscale": [
             [
              0,
              "#0d0887"
             ],
             [
              0.1111111111111111,
              "#46039f"
             ],
             [
              0.2222222222222222,
              "#7201a8"
             ],
             [
              0.3333333333333333,
              "#9c179e"
             ],
             [
              0.4444444444444444,
              "#bd3786"
             ],
             [
              0.5555555555555556,
              "#d8576b"
             ],
             [
              0.6666666666666666,
              "#ed7953"
             ],
             [
              0.7777777777777778,
              "#fb9f3a"
             ],
             [
              0.8888888888888888,
              "#fdca26"
             ],
             [
              1,
              "#f0f921"
             ]
            ],
            "type": "histogram2dcontour"
           }
          ],
          "mesh3d": [
           {
            "colorbar": {
             "outlinewidth": 0,
             "ticks": ""
            },
            "type": "mesh3d"
           }
          ],
          "parcoords": [
           {
            "line": {
             "colorbar": {
              "outlinewidth": 0,
              "ticks": ""
             }
            },
            "type": "parcoords"
           }
          ],
          "pie": [
           {
            "automargin": true,
            "type": "pie"
           }
          ],
          "scatter": [
           {
            "fillpattern": {
             "fillmode": "overlay",
             "size": 10,
             "solidity": 0.2
            },
            "type": "scatter"
           }
          ],
          "scatter3d": [
           {
            "line": {
             "colorbar": {
              "outlinewidth": 0,
              "ticks": ""
             }
            },
            "marker": {
             "colorbar": {
              "outlinewidth": 0,
              "ticks": ""
             }
            },
            "type": "scatter3d"
           }
          ],
          "scattercarpet": [
           {
            "marker": {
             "colorbar": {
              "outlinewidth": 0,
              "ticks": ""
             }
            },
            "type": "scattercarpet"
           }
          ],
          "scattergeo": [
           {
            "marker": {
             "colorbar": {
              "outlinewidth": 0,
              "ticks": ""
             }
            },
            "type": "scattergeo"
           }
          ],
          "scattergl": [
           {
            "marker": {
             "colorbar": {
              "outlinewidth": 0,
              "ticks": ""
             }
            },
            "type": "scattergl"
           }
          ],
          "scattermapbox": [
           {
            "marker": {
             "colorbar": {
              "outlinewidth": 0,
              "ticks": ""
             }
            },
            "type": "scattermapbox"
           }
          ],
          "scatterpolar": [
           {
            "marker": {
             "colorbar": {
              "outlinewidth": 0,
              "ticks": ""
             }
            },
            "type": "scatterpolar"
           }
          ],
          "scatterpolargl": [
           {
            "marker": {
             "colorbar": {
              "outlinewidth": 0,
              "ticks": ""
             }
            },
            "type": "scatterpolargl"
           }
          ],
          "scatterternary": [
           {
            "marker": {
             "colorbar": {
              "outlinewidth": 0,
              "ticks": ""
             }
            },
            "type": "scatterternary"
           }
          ],
          "surface": [
           {
            "colorbar": {
             "outlinewidth": 0,
             "ticks": ""
            },
            "colorscale": [
             [
              0,
              "#0d0887"
             ],
             [
              0.1111111111111111,
              "#46039f"
             ],
             [
              0.2222222222222222,
              "#7201a8"
             ],
             [
              0.3333333333333333,
              "#9c179e"
             ],
             [
              0.4444444444444444,
              "#bd3786"
             ],
             [
              0.5555555555555556,
              "#d8576b"
             ],
             [
              0.6666666666666666,
              "#ed7953"
             ],
             [
              0.7777777777777778,
              "#fb9f3a"
             ],
             [
              0.8888888888888888,
              "#fdca26"
             ],
             [
              1,
              "#f0f921"
             ]
            ],
            "type": "surface"
           }
          ],
          "table": [
           {
            "cells": {
             "fill": {
              "color": "#EBF0F8"
             },
             "line": {
              "color": "white"
             }
            },
            "header": {
             "fill": {
              "color": "#C8D4E3"
             },
             "line": {
              "color": "white"
             }
            },
            "type": "table"
           }
          ]
         },
         "layout": {
          "annotationdefaults": {
           "arrowcolor": "#2a3f5f",
           "arrowhead": 0,
           "arrowwidth": 1
          },
          "autotypenumbers": "strict",
          "coloraxis": {
           "colorbar": {
            "outlinewidth": 0,
            "ticks": ""
           }
          },
          "colorscale": {
           "diverging": [
            [
             0,
             "#8e0152"
            ],
            [
             0.1,
             "#c51b7d"
            ],
            [
             0.2,
             "#de77ae"
            ],
            [
             0.3,
             "#f1b6da"
            ],
            [
             0.4,
             "#fde0ef"
            ],
            [
             0.5,
             "#f7f7f7"
            ],
            [
             0.6,
             "#e6f5d0"
            ],
            [
             0.7,
             "#b8e186"
            ],
            [
             0.8,
             "#7fbc41"
            ],
            [
             0.9,
             "#4d9221"
            ],
            [
             1,
             "#276419"
            ]
           ],
           "sequential": [
            [
             0,
             "#0d0887"
            ],
            [
             0.1111111111111111,
             "#46039f"
            ],
            [
             0.2222222222222222,
             "#7201a8"
            ],
            [
             0.3333333333333333,
             "#9c179e"
            ],
            [
             0.4444444444444444,
             "#bd3786"
            ],
            [
             0.5555555555555556,
             "#d8576b"
            ],
            [
             0.6666666666666666,
             "#ed7953"
            ],
            [
             0.7777777777777778,
             "#fb9f3a"
            ],
            [
             0.8888888888888888,
             "#fdca26"
            ],
            [
             1,
             "#f0f921"
            ]
           ],
           "sequentialminus": [
            [
             0,
             "#0d0887"
            ],
            [
             0.1111111111111111,
             "#46039f"
            ],
            [
             0.2222222222222222,
             "#7201a8"
            ],
            [
             0.3333333333333333,
             "#9c179e"
            ],
            [
             0.4444444444444444,
             "#bd3786"
            ],
            [
             0.5555555555555556,
             "#d8576b"
            ],
            [
             0.6666666666666666,
             "#ed7953"
            ],
            [
             0.7777777777777778,
             "#fb9f3a"
            ],
            [
             0.8888888888888888,
             "#fdca26"
            ],
            [
             1,
             "#f0f921"
            ]
           ]
          },
          "colorway": [
           "#636efa",
           "#EF553B",
           "#00cc96",
           "#ab63fa",
           "#FFA15A",
           "#19d3f3",
           "#FF6692",
           "#B6E880",
           "#FF97FF",
           "#FECB52"
          ],
          "font": {
           "color": "#2a3f5f"
          },
          "geo": {
           "bgcolor": "white",
           "lakecolor": "white",
           "landcolor": "#E5ECF6",
           "showlakes": true,
           "showland": true,
           "subunitcolor": "white"
          },
          "hoverlabel": {
           "align": "left"
          },
          "hovermode": "closest",
          "mapbox": {
           "style": "light"
          },
          "paper_bgcolor": "white",
          "plot_bgcolor": "#E5ECF6",
          "polar": {
           "angularaxis": {
            "gridcolor": "white",
            "linecolor": "white",
            "ticks": ""
           },
           "bgcolor": "#E5ECF6",
           "radialaxis": {
            "gridcolor": "white",
            "linecolor": "white",
            "ticks": ""
           }
          },
          "scene": {
           "xaxis": {
            "backgroundcolor": "#E5ECF6",
            "gridcolor": "white",
            "gridwidth": 2,
            "linecolor": "white",
            "showbackground": true,
            "ticks": "",
            "zerolinecolor": "white"
           },
           "yaxis": {
            "backgroundcolor": "#E5ECF6",
            "gridcolor": "white",
            "gridwidth": 2,
            "linecolor": "white",
            "showbackground": true,
            "ticks": "",
            "zerolinecolor": "white"
           },
           "zaxis": {
            "backgroundcolor": "#E5ECF6",
            "gridcolor": "white",
            "gridwidth": 2,
            "linecolor": "white",
            "showbackground": true,
            "ticks": "",
            "zerolinecolor": "white"
           }
          },
          "shapedefaults": {
           "line": {
            "color": "#2a3f5f"
           }
          },
          "ternary": {
           "aaxis": {
            "gridcolor": "white",
            "linecolor": "white",
            "ticks": ""
           },
           "baxis": {
            "gridcolor": "white",
            "linecolor": "white",
            "ticks": ""
           },
           "bgcolor": "#E5ECF6",
           "caxis": {
            "gridcolor": "white",
            "linecolor": "white",
            "ticks": ""
           }
          },
          "title": {
           "x": 0.05
          },
          "xaxis": {
           "automargin": true,
           "gridcolor": "white",
           "linecolor": "white",
           "ticks": "",
           "title": {
            "standoff": 15
           },
           "zerolinecolor": "white",
           "zerolinewidth": 2
          },
          "yaxis": {
           "automargin": true,
           "gridcolor": "white",
           "linecolor": "white",
           "ticks": "",
           "title": {
            "standoff": 15
           },
           "zerolinecolor": "white",
           "zerolinewidth": 2
          }
         }
        },
        "title": {
         "font": {
          "color": "#4D5663"
         },
         "text": "Total Quantity and Revenue"
        },
        "xaxis": {
         "gridcolor": "#E1E5ED",
         "showgrid": true,
         "tickfont": {
          "color": "#4D5663"
         },
         "title": {
          "font": {
           "color": "#4D5663"
          },
          "text": "Country"
         },
         "zerolinecolor": "#E1E5ED"
        },
        "yaxis": {
         "gridcolor": "#E1E5ED",
         "showgrid": true,
         "tickfont": {
          "color": "#4D5663"
         },
         "title": {
          "font": {
           "color": "#4D5663"
          },
          "text": ""
         },
         "zerolinecolor": "#E1E5ED"
        }
       }
      },
      "text/html": [
       "<div>                            <div id=\"c40d871b-d4b6-4f59-944f-7251554edd19\" class=\"plotly-graph-div\" style=\"height:525px; width:100%;\"></div>            <script type=\"text/javascript\">                require([\"plotly\"], function(Plotly) {                    window.PLOTLYENV=window.PLOTLYENV || {};\n",
       "                    window.PLOTLYENV.BASE_URL='https://plot.ly';                                    if (document.getElementById(\"c40d871b-d4b6-4f59-944f-7251554edd19\")) {                    Plotly.newPlot(                        \"c40d871b-d4b6-4f59-944f-7251554edd19\",                        [{\"marker\":{\"color\":\"rgba(255, 153, 51, 0.6)\",\"line\":{\"color\":\"rgba(255, 153, 51, 1.0)\",\"width\":1}},\"name\":\"Quantity\",\"orientation\":\"v\",\"text\":\"\",\"x\":[\"Australia\",\"Austria\",\"Belgium\",\"Brazil\",\"Channel Islands\",\"EIRE\",\"Finland\",\"France\",\"Germany\",\"Greece\",\"Iceland\",\"Italy\",\"Japan\",\"Netherlands\",\"Poland\",\"Portugal\",\"Singapore\",\"Spain\",\"Sweden\",\"Switzerland\",\"USA\"],\"y\":[224,308,1170,356,96,4129,810,2265,5702,260,483,653,8058,1762,432,951,1384,948,306,878,137],\"type\":\"bar\"},{\"marker\":{\"color\":\"rgba(55, 128, 191, 0.6)\",\"line\":{\"color\":\"rgba(55, 128, 191, 1.0)\",\"width\":1}},\"name\":\"Revenue\",\"orientation\":\"v\",\"text\":\"\",\"x\":[\"Australia\",\"Austria\",\"Belgium\",\"Brazil\",\"Channel Islands\",\"EIRE\",\"Finland\",\"France\",\"Germany\",\"Greece\",\"Iceland\",\"Italy\",\"Japan\",\"Netherlands\",\"Poland\",\"Portugal\",\"Singapore\",\"Spain\",\"Sweden\",\"Switzerland\",\"USA\"],\"y\":[421.6,584.78,1788.48,1143.6,243.0,7270.5,1368.92,3899.31,10994.79,509.74,636.25,737.83,6548.5,2886.56,705.8399999999999,1687.75,2118.74,1645.65,649.1,1756.94,383.95],\"type\":\"bar\"}],                        {\"legend\":{\"bgcolor\":\"#F5F6F9\",\"font\":{\"color\":\"#4D5663\"}},\"paper_bgcolor\":\"#F5F6F9\",\"plot_bgcolor\":\"#F5F6F9\",\"template\":{\"data\":{\"barpolar\":[{\"marker\":{\"line\":{\"color\":\"#E5ECF6\",\"width\":0.5},\"pattern\":{\"fillmode\":\"overlay\",\"size\":10,\"solidity\":0.2}},\"type\":\"barpolar\"}],\"bar\":[{\"error_x\":{\"color\":\"#2a3f5f\"},\"error_y\":{\"color\":\"#2a3f5f\"},\"marker\":{\"line\":{\"color\":\"#E5ECF6\",\"width\":0.5},\"pattern\":{\"fillmode\":\"overlay\",\"size\":10,\"solidity\":0.2}},\"type\":\"bar\"}],\"carpet\":[{\"aaxis\":{\"endlinecolor\":\"#2a3f5f\",\"gridcolor\":\"white\",\"linecolor\":\"white\",\"minorgridcolor\":\"white\",\"startlinecolor\":\"#2a3f5f\"},\"baxis\":{\"endlinecolor\":\"#2a3f5f\",\"gridcolor\":\"white\",\"linecolor\":\"white\",\"minorgridcolor\":\"white\",\"startlinecolor\":\"#2a3f5f\"},\"type\":\"carpet\"}],\"choropleth\":[{\"colorbar\":{\"outlinewidth\":0,\"ticks\":\"\"},\"type\":\"choropleth\"}],\"contourcarpet\":[{\"colorbar\":{\"outlinewidth\":0,\"ticks\":\"\"},\"type\":\"contourcarpet\"}],\"contour\":[{\"colorbar\":{\"outlinewidth\":0,\"ticks\":\"\"},\"colorscale\":[[0.0,\"#0d0887\"],[0.1111111111111111,\"#46039f\"],[0.2222222222222222,\"#7201a8\"],[0.3333333333333333,\"#9c179e\"],[0.4444444444444444,\"#bd3786\"],[0.5555555555555556,\"#d8576b\"],[0.6666666666666666,\"#ed7953\"],[0.7777777777777778,\"#fb9f3a\"],[0.8888888888888888,\"#fdca26\"],[1.0,\"#f0f921\"]],\"type\":\"contour\"}],\"heatmapgl\":[{\"colorbar\":{\"outlinewidth\":0,\"ticks\":\"\"},\"colorscale\":[[0.0,\"#0d0887\"],[0.1111111111111111,\"#46039f\"],[0.2222222222222222,\"#7201a8\"],[0.3333333333333333,\"#9c179e\"],[0.4444444444444444,\"#bd3786\"],[0.5555555555555556,\"#d8576b\"],[0.6666666666666666,\"#ed7953\"],[0.7777777777777778,\"#fb9f3a\"],[0.8888888888888888,\"#fdca26\"],[1.0,\"#f0f921\"]],\"type\":\"heatmapgl\"}],\"heatmap\":[{\"colorbar\":{\"outlinewidth\":0,\"ticks\":\"\"},\"colorscale\":[[0.0,\"#0d0887\"],[0.1111111111111111,\"#46039f\"],[0.2222222222222222,\"#7201a8\"],[0.3333333333333333,\"#9c179e\"],[0.4444444444444444,\"#bd3786\"],[0.5555555555555556,\"#d8576b\"],[0.6666666666666666,\"#ed7953\"],[0.7777777777777778,\"#fb9f3a\"],[0.8888888888888888,\"#fdca26\"],[1.0,\"#f0f921\"]],\"type\":\"heatmap\"}],\"histogram2dcontour\":[{\"colorbar\":{\"outlinewidth\":0,\"ticks\":\"\"},\"colorscale\":[[0.0,\"#0d0887\"],[0.1111111111111111,\"#46039f\"],[0.2222222222222222,\"#7201a8\"],[0.3333333333333333,\"#9c179e\"],[0.4444444444444444,\"#bd3786\"],[0.5555555555555556,\"#d8576b\"],[0.6666666666666666,\"#ed7953\"],[0.7777777777777778,\"#fb9f3a\"],[0.8888888888888888,\"#fdca26\"],[1.0,\"#f0f921\"]],\"type\":\"histogram2dcontour\"}],\"histogram2d\":[{\"colorbar\":{\"outlinewidth\":0,\"ticks\":\"\"},\"colorscale\":[[0.0,\"#0d0887\"],[0.1111111111111111,\"#46039f\"],[0.2222222222222222,\"#7201a8\"],[0.3333333333333333,\"#9c179e\"],[0.4444444444444444,\"#bd3786\"],[0.5555555555555556,\"#d8576b\"],[0.6666666666666666,\"#ed7953\"],[0.7777777777777778,\"#fb9f3a\"],[0.8888888888888888,\"#fdca26\"],[1.0,\"#f0f921\"]],\"type\":\"histogram2d\"}],\"histogram\":[{\"marker\":{\"pattern\":{\"fillmode\":\"overlay\",\"size\":10,\"solidity\":0.2}},\"type\":\"histogram\"}],\"mesh3d\":[{\"colorbar\":{\"outlinewidth\":0,\"ticks\":\"\"},\"type\":\"mesh3d\"}],\"parcoords\":[{\"line\":{\"colorbar\":{\"outlinewidth\":0,\"ticks\":\"\"}},\"type\":\"parcoords\"}],\"pie\":[{\"automargin\":true,\"type\":\"pie\"}],\"scatter3d\":[{\"line\":{\"colorbar\":{\"outlinewidth\":0,\"ticks\":\"\"}},\"marker\":{\"colorbar\":{\"outlinewidth\":0,\"ticks\":\"\"}},\"type\":\"scatter3d\"}],\"scattercarpet\":[{\"marker\":{\"colorbar\":{\"outlinewidth\":0,\"ticks\":\"\"}},\"type\":\"scattercarpet\"}],\"scattergeo\":[{\"marker\":{\"colorbar\":{\"outlinewidth\":0,\"ticks\":\"\"}},\"type\":\"scattergeo\"}],\"scattergl\":[{\"marker\":{\"colorbar\":{\"outlinewidth\":0,\"ticks\":\"\"}},\"type\":\"scattergl\"}],\"scattermapbox\":[{\"marker\":{\"colorbar\":{\"outlinewidth\":0,\"ticks\":\"\"}},\"type\":\"scattermapbox\"}],\"scatterpolargl\":[{\"marker\":{\"colorbar\":{\"outlinewidth\":0,\"ticks\":\"\"}},\"type\":\"scatterpolargl\"}],\"scatterpolar\":[{\"marker\":{\"colorbar\":{\"outlinewidth\":0,\"ticks\":\"\"}},\"type\":\"scatterpolar\"}],\"scatter\":[{\"fillpattern\":{\"fillmode\":\"overlay\",\"size\":10,\"solidity\":0.2},\"type\":\"scatter\"}],\"scatterternary\":[{\"marker\":{\"colorbar\":{\"outlinewidth\":0,\"ticks\":\"\"}},\"type\":\"scatterternary\"}],\"surface\":[{\"colorbar\":{\"outlinewidth\":0,\"ticks\":\"\"},\"colorscale\":[[0.0,\"#0d0887\"],[0.1111111111111111,\"#46039f\"],[0.2222222222222222,\"#7201a8\"],[0.3333333333333333,\"#9c179e\"],[0.4444444444444444,\"#bd3786\"],[0.5555555555555556,\"#d8576b\"],[0.6666666666666666,\"#ed7953\"],[0.7777777777777778,\"#fb9f3a\"],[0.8888888888888888,\"#fdca26\"],[1.0,\"#f0f921\"]],\"type\":\"surface\"}],\"table\":[{\"cells\":{\"fill\":{\"color\":\"#EBF0F8\"},\"line\":{\"color\":\"white\"}},\"header\":{\"fill\":{\"color\":\"#C8D4E3\"},\"line\":{\"color\":\"white\"}},\"type\":\"table\"}]},\"layout\":{\"annotationdefaults\":{\"arrowcolor\":\"#2a3f5f\",\"arrowhead\":0,\"arrowwidth\":1},\"autotypenumbers\":\"strict\",\"coloraxis\":{\"colorbar\":{\"outlinewidth\":0,\"ticks\":\"\"}},\"colorscale\":{\"diverging\":[[0,\"#8e0152\"],[0.1,\"#c51b7d\"],[0.2,\"#de77ae\"],[0.3,\"#f1b6da\"],[0.4,\"#fde0ef\"],[0.5,\"#f7f7f7\"],[0.6,\"#e6f5d0\"],[0.7,\"#b8e186\"],[0.8,\"#7fbc41\"],[0.9,\"#4d9221\"],[1,\"#276419\"]],\"sequential\":[[0.0,\"#0d0887\"],[0.1111111111111111,\"#46039f\"],[0.2222222222222222,\"#7201a8\"],[0.3333333333333333,\"#9c179e\"],[0.4444444444444444,\"#bd3786\"],[0.5555555555555556,\"#d8576b\"],[0.6666666666666666,\"#ed7953\"],[0.7777777777777778,\"#fb9f3a\"],[0.8888888888888888,\"#fdca26\"],[1.0,\"#f0f921\"]],\"sequentialminus\":[[0.0,\"#0d0887\"],[0.1111111111111111,\"#46039f\"],[0.2222222222222222,\"#7201a8\"],[0.3333333333333333,\"#9c179e\"],[0.4444444444444444,\"#bd3786\"],[0.5555555555555556,\"#d8576b\"],[0.6666666666666666,\"#ed7953\"],[0.7777777777777778,\"#fb9f3a\"],[0.8888888888888888,\"#fdca26\"],[1.0,\"#f0f921\"]]},\"colorway\":[\"#636efa\",\"#EF553B\",\"#00cc96\",\"#ab63fa\",\"#FFA15A\",\"#19d3f3\",\"#FF6692\",\"#B6E880\",\"#FF97FF\",\"#FECB52\"],\"font\":{\"color\":\"#2a3f5f\"},\"geo\":{\"bgcolor\":\"white\",\"lakecolor\":\"white\",\"landcolor\":\"#E5ECF6\",\"showlakes\":true,\"showland\":true,\"subunitcolor\":\"white\"},\"hoverlabel\":{\"align\":\"left\"},\"hovermode\":\"closest\",\"mapbox\":{\"style\":\"light\"},\"paper_bgcolor\":\"white\",\"plot_bgcolor\":\"#E5ECF6\",\"polar\":{\"angularaxis\":{\"gridcolor\":\"white\",\"linecolor\":\"white\",\"ticks\":\"\"},\"bgcolor\":\"#E5ECF6\",\"radialaxis\":{\"gridcolor\":\"white\",\"linecolor\":\"white\",\"ticks\":\"\"}},\"scene\":{\"xaxis\":{\"backgroundcolor\":\"#E5ECF6\",\"gridcolor\":\"white\",\"gridwidth\":2,\"linecolor\":\"white\",\"showbackground\":true,\"ticks\":\"\",\"zerolinecolor\":\"white\"},\"yaxis\":{\"backgroundcolor\":\"#E5ECF6\",\"gridcolor\":\"white\",\"gridwidth\":2,\"linecolor\":\"white\",\"showbackground\":true,\"ticks\":\"\",\"zerolinecolor\":\"white\"},\"zaxis\":{\"backgroundcolor\":\"#E5ECF6\",\"gridcolor\":\"white\",\"gridwidth\":2,\"linecolor\":\"white\",\"showbackground\":true,\"ticks\":\"\",\"zerolinecolor\":\"white\"}},\"shapedefaults\":{\"line\":{\"color\":\"#2a3f5f\"}},\"ternary\":{\"aaxis\":{\"gridcolor\":\"white\",\"linecolor\":\"white\",\"ticks\":\"\"},\"baxis\":{\"gridcolor\":\"white\",\"linecolor\":\"white\",\"ticks\":\"\"},\"bgcolor\":\"#E5ECF6\",\"caxis\":{\"gridcolor\":\"white\",\"linecolor\":\"white\",\"ticks\":\"\"}},\"title\":{\"x\":0.05},\"xaxis\":{\"automargin\":true,\"gridcolor\":\"white\",\"linecolor\":\"white\",\"ticks\":\"\",\"title\":{\"standoff\":15},\"zerolinecolor\":\"white\",\"zerolinewidth\":2},\"yaxis\":{\"automargin\":true,\"gridcolor\":\"white\",\"linecolor\":\"white\",\"ticks\":\"\",\"title\":{\"standoff\":15},\"zerolinecolor\":\"white\",\"zerolinewidth\":2}}},\"title\":{\"font\":{\"color\":\"#4D5663\"},\"text\":\"Total Quantity and Revenue\"},\"xaxis\":{\"gridcolor\":\"#E1E5ED\",\"showgrid\":true,\"tickfont\":{\"color\":\"#4D5663\"},\"title\":{\"font\":{\"color\":\"#4D5663\"},\"text\":\"Country\"},\"zerolinecolor\":\"#E1E5ED\"},\"yaxis\":{\"gridcolor\":\"#E1E5ED\",\"showgrid\":true,\"tickfont\":{\"color\":\"#4D5663\"},\"title\":{\"font\":{\"color\":\"#4D5663\"},\"text\":\"\"},\"zerolinecolor\":\"#E1E5ED\"}},                        {\"showLink\": true, \"linkText\": \"Export to plot.ly\", \"plotlyServerURL\": \"https://plot.ly\", \"responsive\": true}                    ).then(function(){\n",
       "                            \n",
       "var gd = document.getElementById('c40d871b-d4b6-4f59-944f-7251554edd19');\n",
       "var x = new MutationObserver(function (mutations, observer) {{\n",
       "        var display = window.getComputedStyle(gd).display;\n",
       "        if (!display || display === 'none') {{\n",
       "            console.log([gd, 'removed!']);\n",
       "            Plotly.purge(gd);\n",
       "            observer.disconnect();\n",
       "        }}\n",
       "}});\n",
       "\n",
       "// Listen for the removal of the full notebook cells\n",
       "var notebookContainer = gd.closest('#notebook-container');\n",
       "if (notebookContainer) {{\n",
       "    x.observe(notebookContainer, {childList: true});\n",
       "}}\n",
       "\n",
       "// Listen for the clearing of the current output cell\n",
       "var outputEl = gd.closest('.output');\n",
       "if (outputEl) {{\n",
       "    x.observe(outputEl, {childList: true});\n",
       "}}\n",
       "\n",
       "                        })                };                });            </script>        </div>"
      ]
     },
     "metadata": {},
     "output_type": "display_data"
    }
   ],
   "source": [
    "data.iplot(kind='bar', xTitle='Country', title='Total Quantity and Revenue')"
   ]
  },
  {
   "cell_type": "markdown",
   "metadata": {},
   "source": [
    "## 2. Create an interactive line chart showing quantity and revenue sold to France between January 1st and May 31st 2011."
   ]
  },
  {
   "cell_type": "code",
   "execution_count": 106,
   "metadata": {},
   "outputs": [
    {
     "data": {
      "text/plain": [
       "Quantity    34817.00\n",
       "Revenue     57220.98\n",
       "Name: France, dtype: float64"
      ]
     },
     "execution_count": 106,
     "metadata": {},
     "output_type": "execute_result"
    }
   ],
   "source": [
    "data=a[a.Country =='France']\n",
    "\n",
    "data=data.loc[(data.InvoiceDate >= '2011-1-1') & (data.InvoiceDate <= '2011-5-31')]\n",
    "\n",
    "data = data.groupby('Country').sum()\n",
    "\n",
    "data=data.loc['France', ['Quantity', 'Revenue']]\n",
    "\n",
    "data.head()"
   ]
  },
  {
   "cell_type": "code",
   "execution_count": 107,
   "metadata": {},
   "outputs": [
    {
     "data": {
      "application/vnd.plotly.v1+json": {
       "config": {
        "linkText": "Export to plot.ly",
        "plotlyServerURL": "https://plot.ly",
        "showLink": true
       },
       "data": [
        {
         "marker": {
          "color": "rgba(55, 128, 191, 0.6)",
          "line": {
           "color": "rgba(55, 128, 191, 1.0)",
           "width": 1
          }
         },
         "name": "France",
         "orientation": "v",
         "text": "",
         "type": "bar",
         "x": [
          "Quantity",
          "Revenue"
         ],
         "y": [
          34817,
          57220.98
         ]
        }
       ],
       "layout": {
        "legend": {
         "bgcolor": "#F5F6F9",
         "font": {
          "color": "#4D5663"
         }
        },
        "paper_bgcolor": "#F5F6F9",
        "plot_bgcolor": "#F5F6F9",
        "template": {
         "data": {
          "bar": [
           {
            "error_x": {
             "color": "#2a3f5f"
            },
            "error_y": {
             "color": "#2a3f5f"
            },
            "marker": {
             "line": {
              "color": "#E5ECF6",
              "width": 0.5
             },
             "pattern": {
              "fillmode": "overlay",
              "size": 10,
              "solidity": 0.2
             }
            },
            "type": "bar"
           }
          ],
          "barpolar": [
           {
            "marker": {
             "line": {
              "color": "#E5ECF6",
              "width": 0.5
             },
             "pattern": {
              "fillmode": "overlay",
              "size": 10,
              "solidity": 0.2
             }
            },
            "type": "barpolar"
           }
          ],
          "carpet": [
           {
            "aaxis": {
             "endlinecolor": "#2a3f5f",
             "gridcolor": "white",
             "linecolor": "white",
             "minorgridcolor": "white",
             "startlinecolor": "#2a3f5f"
            },
            "baxis": {
             "endlinecolor": "#2a3f5f",
             "gridcolor": "white",
             "linecolor": "white",
             "minorgridcolor": "white",
             "startlinecolor": "#2a3f5f"
            },
            "type": "carpet"
           }
          ],
          "choropleth": [
           {
            "colorbar": {
             "outlinewidth": 0,
             "ticks": ""
            },
            "type": "choropleth"
           }
          ],
          "contour": [
           {
            "colorbar": {
             "outlinewidth": 0,
             "ticks": ""
            },
            "colorscale": [
             [
              0,
              "#0d0887"
             ],
             [
              0.1111111111111111,
              "#46039f"
             ],
             [
              0.2222222222222222,
              "#7201a8"
             ],
             [
              0.3333333333333333,
              "#9c179e"
             ],
             [
              0.4444444444444444,
              "#bd3786"
             ],
             [
              0.5555555555555556,
              "#d8576b"
             ],
             [
              0.6666666666666666,
              "#ed7953"
             ],
             [
              0.7777777777777778,
              "#fb9f3a"
             ],
             [
              0.8888888888888888,
              "#fdca26"
             ],
             [
              1,
              "#f0f921"
             ]
            ],
            "type": "contour"
           }
          ],
          "contourcarpet": [
           {
            "colorbar": {
             "outlinewidth": 0,
             "ticks": ""
            },
            "type": "contourcarpet"
           }
          ],
          "heatmap": [
           {
            "colorbar": {
             "outlinewidth": 0,
             "ticks": ""
            },
            "colorscale": [
             [
              0,
              "#0d0887"
             ],
             [
              0.1111111111111111,
              "#46039f"
             ],
             [
              0.2222222222222222,
              "#7201a8"
             ],
             [
              0.3333333333333333,
              "#9c179e"
             ],
             [
              0.4444444444444444,
              "#bd3786"
             ],
             [
              0.5555555555555556,
              "#d8576b"
             ],
             [
              0.6666666666666666,
              "#ed7953"
             ],
             [
              0.7777777777777778,
              "#fb9f3a"
             ],
             [
              0.8888888888888888,
              "#fdca26"
             ],
             [
              1,
              "#f0f921"
             ]
            ],
            "type": "heatmap"
           }
          ],
          "heatmapgl": [
           {
            "colorbar": {
             "outlinewidth": 0,
             "ticks": ""
            },
            "colorscale": [
             [
              0,
              "#0d0887"
             ],
             [
              0.1111111111111111,
              "#46039f"
             ],
             [
              0.2222222222222222,
              "#7201a8"
             ],
             [
              0.3333333333333333,
              "#9c179e"
             ],
             [
              0.4444444444444444,
              "#bd3786"
             ],
             [
              0.5555555555555556,
              "#d8576b"
             ],
             [
              0.6666666666666666,
              "#ed7953"
             ],
             [
              0.7777777777777778,
              "#fb9f3a"
             ],
             [
              0.8888888888888888,
              "#fdca26"
             ],
             [
              1,
              "#f0f921"
             ]
            ],
            "type": "heatmapgl"
           }
          ],
          "histogram": [
           {
            "marker": {
             "pattern": {
              "fillmode": "overlay",
              "size": 10,
              "solidity": 0.2
             }
            },
            "type": "histogram"
           }
          ],
          "histogram2d": [
           {
            "colorbar": {
             "outlinewidth": 0,
             "ticks": ""
            },
            "colorscale": [
             [
              0,
              "#0d0887"
             ],
             [
              0.1111111111111111,
              "#46039f"
             ],
             [
              0.2222222222222222,
              "#7201a8"
             ],
             [
              0.3333333333333333,
              "#9c179e"
             ],
             [
              0.4444444444444444,
              "#bd3786"
             ],
             [
              0.5555555555555556,
              "#d8576b"
             ],
             [
              0.6666666666666666,
              "#ed7953"
             ],
             [
              0.7777777777777778,
              "#fb9f3a"
             ],
             [
              0.8888888888888888,
              "#fdca26"
             ],
             [
              1,
              "#f0f921"
             ]
            ],
            "type": "histogram2d"
           }
          ],
          "histogram2dcontour": [
           {
            "colorbar": {
             "outlinewidth": 0,
             "ticks": ""
            },
            "colorscale": [
             [
              0,
              "#0d0887"
             ],
             [
              0.1111111111111111,
              "#46039f"
             ],
             [
              0.2222222222222222,
              "#7201a8"
             ],
             [
              0.3333333333333333,
              "#9c179e"
             ],
             [
              0.4444444444444444,
              "#bd3786"
             ],
             [
              0.5555555555555556,
              "#d8576b"
             ],
             [
              0.6666666666666666,
              "#ed7953"
             ],
             [
              0.7777777777777778,
              "#fb9f3a"
             ],
             [
              0.8888888888888888,
              "#fdca26"
             ],
             [
              1,
              "#f0f921"
             ]
            ],
            "type": "histogram2dcontour"
           }
          ],
          "mesh3d": [
           {
            "colorbar": {
             "outlinewidth": 0,
             "ticks": ""
            },
            "type": "mesh3d"
           }
          ],
          "parcoords": [
           {
            "line": {
             "colorbar": {
              "outlinewidth": 0,
              "ticks": ""
             }
            },
            "type": "parcoords"
           }
          ],
          "pie": [
           {
            "automargin": true,
            "type": "pie"
           }
          ],
          "scatter": [
           {
            "fillpattern": {
             "fillmode": "overlay",
             "size": 10,
             "solidity": 0.2
            },
            "type": "scatter"
           }
          ],
          "scatter3d": [
           {
            "line": {
             "colorbar": {
              "outlinewidth": 0,
              "ticks": ""
             }
            },
            "marker": {
             "colorbar": {
              "outlinewidth": 0,
              "ticks": ""
             }
            },
            "type": "scatter3d"
           }
          ],
          "scattercarpet": [
           {
            "marker": {
             "colorbar": {
              "outlinewidth": 0,
              "ticks": ""
             }
            },
            "type": "scattercarpet"
           }
          ],
          "scattergeo": [
           {
            "marker": {
             "colorbar": {
              "outlinewidth": 0,
              "ticks": ""
             }
            },
            "type": "scattergeo"
           }
          ],
          "scattergl": [
           {
            "marker": {
             "colorbar": {
              "outlinewidth": 0,
              "ticks": ""
             }
            },
            "type": "scattergl"
           }
          ],
          "scattermapbox": [
           {
            "marker": {
             "colorbar": {
              "outlinewidth": 0,
              "ticks": ""
             }
            },
            "type": "scattermapbox"
           }
          ],
          "scatterpolar": [
           {
            "marker": {
             "colorbar": {
              "outlinewidth": 0,
              "ticks": ""
             }
            },
            "type": "scatterpolar"
           }
          ],
          "scatterpolargl": [
           {
            "marker": {
             "colorbar": {
              "outlinewidth": 0,
              "ticks": ""
             }
            },
            "type": "scatterpolargl"
           }
          ],
          "scatterternary": [
           {
            "marker": {
             "colorbar": {
              "outlinewidth": 0,
              "ticks": ""
             }
            },
            "type": "scatterternary"
           }
          ],
          "surface": [
           {
            "colorbar": {
             "outlinewidth": 0,
             "ticks": ""
            },
            "colorscale": [
             [
              0,
              "#0d0887"
             ],
             [
              0.1111111111111111,
              "#46039f"
             ],
             [
              0.2222222222222222,
              "#7201a8"
             ],
             [
              0.3333333333333333,
              "#9c179e"
             ],
             [
              0.4444444444444444,
              "#bd3786"
             ],
             [
              0.5555555555555556,
              "#d8576b"
             ],
             [
              0.6666666666666666,
              "#ed7953"
             ],
             [
              0.7777777777777778,
              "#fb9f3a"
             ],
             [
              0.8888888888888888,
              "#fdca26"
             ],
             [
              1,
              "#f0f921"
             ]
            ],
            "type": "surface"
           }
          ],
          "table": [
           {
            "cells": {
             "fill": {
              "color": "#EBF0F8"
             },
             "line": {
              "color": "white"
             }
            },
            "header": {
             "fill": {
              "color": "#C8D4E3"
             },
             "line": {
              "color": "white"
             }
            },
            "type": "table"
           }
          ]
         },
         "layout": {
          "annotationdefaults": {
           "arrowcolor": "#2a3f5f",
           "arrowhead": 0,
           "arrowwidth": 1
          },
          "autotypenumbers": "strict",
          "coloraxis": {
           "colorbar": {
            "outlinewidth": 0,
            "ticks": ""
           }
          },
          "colorscale": {
           "diverging": [
            [
             0,
             "#8e0152"
            ],
            [
             0.1,
             "#c51b7d"
            ],
            [
             0.2,
             "#de77ae"
            ],
            [
             0.3,
             "#f1b6da"
            ],
            [
             0.4,
             "#fde0ef"
            ],
            [
             0.5,
             "#f7f7f7"
            ],
            [
             0.6,
             "#e6f5d0"
            ],
            [
             0.7,
             "#b8e186"
            ],
            [
             0.8,
             "#7fbc41"
            ],
            [
             0.9,
             "#4d9221"
            ],
            [
             1,
             "#276419"
            ]
           ],
           "sequential": [
            [
             0,
             "#0d0887"
            ],
            [
             0.1111111111111111,
             "#46039f"
            ],
            [
             0.2222222222222222,
             "#7201a8"
            ],
            [
             0.3333333333333333,
             "#9c179e"
            ],
            [
             0.4444444444444444,
             "#bd3786"
            ],
            [
             0.5555555555555556,
             "#d8576b"
            ],
            [
             0.6666666666666666,
             "#ed7953"
            ],
            [
             0.7777777777777778,
             "#fb9f3a"
            ],
            [
             0.8888888888888888,
             "#fdca26"
            ],
            [
             1,
             "#f0f921"
            ]
           ],
           "sequentialminus": [
            [
             0,
             "#0d0887"
            ],
            [
             0.1111111111111111,
             "#46039f"
            ],
            [
             0.2222222222222222,
             "#7201a8"
            ],
            [
             0.3333333333333333,
             "#9c179e"
            ],
            [
             0.4444444444444444,
             "#bd3786"
            ],
            [
             0.5555555555555556,
             "#d8576b"
            ],
            [
             0.6666666666666666,
             "#ed7953"
            ],
            [
             0.7777777777777778,
             "#fb9f3a"
            ],
            [
             0.8888888888888888,
             "#fdca26"
            ],
            [
             1,
             "#f0f921"
            ]
           ]
          },
          "colorway": [
           "#636efa",
           "#EF553B",
           "#00cc96",
           "#ab63fa",
           "#FFA15A",
           "#19d3f3",
           "#FF6692",
           "#B6E880",
           "#FF97FF",
           "#FECB52"
          ],
          "font": {
           "color": "#2a3f5f"
          },
          "geo": {
           "bgcolor": "white",
           "lakecolor": "white",
           "landcolor": "#E5ECF6",
           "showlakes": true,
           "showland": true,
           "subunitcolor": "white"
          },
          "hoverlabel": {
           "align": "left"
          },
          "hovermode": "closest",
          "mapbox": {
           "style": "light"
          },
          "paper_bgcolor": "white",
          "plot_bgcolor": "#E5ECF6",
          "polar": {
           "angularaxis": {
            "gridcolor": "white",
            "linecolor": "white",
            "ticks": ""
           },
           "bgcolor": "#E5ECF6",
           "radialaxis": {
            "gridcolor": "white",
            "linecolor": "white",
            "ticks": ""
           }
          },
          "scene": {
           "xaxis": {
            "backgroundcolor": "#E5ECF6",
            "gridcolor": "white",
            "gridwidth": 2,
            "linecolor": "white",
            "showbackground": true,
            "ticks": "",
            "zerolinecolor": "white"
           },
           "yaxis": {
            "backgroundcolor": "#E5ECF6",
            "gridcolor": "white",
            "gridwidth": 2,
            "linecolor": "white",
            "showbackground": true,
            "ticks": "",
            "zerolinecolor": "white"
           },
           "zaxis": {
            "backgroundcolor": "#E5ECF6",
            "gridcolor": "white",
            "gridwidth": 2,
            "linecolor": "white",
            "showbackground": true,
            "ticks": "",
            "zerolinecolor": "white"
           }
          },
          "shapedefaults": {
           "line": {
            "color": "#2a3f5f"
           }
          },
          "ternary": {
           "aaxis": {
            "gridcolor": "white",
            "linecolor": "white",
            "ticks": ""
           },
           "baxis": {
            "gridcolor": "white",
            "linecolor": "white",
            "ticks": ""
           },
           "bgcolor": "#E5ECF6",
           "caxis": {
            "gridcolor": "white",
            "linecolor": "white",
            "ticks": ""
           }
          },
          "title": {
           "x": 0.05
          },
          "xaxis": {
           "automargin": true,
           "gridcolor": "white",
           "linecolor": "white",
           "ticks": "",
           "title": {
            "standoff": 15
           },
           "zerolinecolor": "white",
           "zerolinewidth": 2
          },
          "yaxis": {
           "automargin": true,
           "gridcolor": "white",
           "linecolor": "white",
           "ticks": "",
           "title": {
            "standoff": 15
           },
           "zerolinecolor": "white",
           "zerolinewidth": 2
          }
         }
        },
        "title": {
         "font": {
          "color": "#4D5663"
         },
         "text": "Total Quantity and Revenue"
        },
        "xaxis": {
         "gridcolor": "#E1E5ED",
         "showgrid": true,
         "tickfont": {
          "color": "#4D5663"
         },
         "title": {
          "font": {
           "color": "#4D5663"
          },
          "text": "France"
         },
         "zerolinecolor": "#E1E5ED"
        },
        "yaxis": {
         "gridcolor": "#E1E5ED",
         "showgrid": true,
         "tickfont": {
          "color": "#4D5663"
         },
         "title": {
          "font": {
           "color": "#4D5663"
          },
          "text": ""
         },
         "zerolinecolor": "#E1E5ED"
        }
       }
      },
      "text/html": [
       "<div>                            <div id=\"3f7a0e45-a00b-482d-af1c-0326f853860b\" class=\"plotly-graph-div\" style=\"height:525px; width:100%;\"></div>            <script type=\"text/javascript\">                require([\"plotly\"], function(Plotly) {                    window.PLOTLYENV=window.PLOTLYENV || {};\n",
       "                    window.PLOTLYENV.BASE_URL='https://plot.ly';                                    if (document.getElementById(\"3f7a0e45-a00b-482d-af1c-0326f853860b\")) {                    Plotly.newPlot(                        \"3f7a0e45-a00b-482d-af1c-0326f853860b\",                        [{\"marker\":{\"color\":\"rgba(55, 128, 191, 0.6)\",\"line\":{\"color\":\"rgba(55, 128, 191, 1.0)\",\"width\":1}},\"name\":\"France\",\"orientation\":\"v\",\"text\":\"\",\"x\":[\"Quantity\",\"Revenue\"],\"y\":[34817.0,57220.98],\"type\":\"bar\"}],                        {\"legend\":{\"bgcolor\":\"#F5F6F9\",\"font\":{\"color\":\"#4D5663\"}},\"paper_bgcolor\":\"#F5F6F9\",\"plot_bgcolor\":\"#F5F6F9\",\"template\":{\"data\":{\"barpolar\":[{\"marker\":{\"line\":{\"color\":\"#E5ECF6\",\"width\":0.5},\"pattern\":{\"fillmode\":\"overlay\",\"size\":10,\"solidity\":0.2}},\"type\":\"barpolar\"}],\"bar\":[{\"error_x\":{\"color\":\"#2a3f5f\"},\"error_y\":{\"color\":\"#2a3f5f\"},\"marker\":{\"line\":{\"color\":\"#E5ECF6\",\"width\":0.5},\"pattern\":{\"fillmode\":\"overlay\",\"size\":10,\"solidity\":0.2}},\"type\":\"bar\"}],\"carpet\":[{\"aaxis\":{\"endlinecolor\":\"#2a3f5f\",\"gridcolor\":\"white\",\"linecolor\":\"white\",\"minorgridcolor\":\"white\",\"startlinecolor\":\"#2a3f5f\"},\"baxis\":{\"endlinecolor\":\"#2a3f5f\",\"gridcolor\":\"white\",\"linecolor\":\"white\",\"minorgridcolor\":\"white\",\"startlinecolor\":\"#2a3f5f\"},\"type\":\"carpet\"}],\"choropleth\":[{\"colorbar\":{\"outlinewidth\":0,\"ticks\":\"\"},\"type\":\"choropleth\"}],\"contourcarpet\":[{\"colorbar\":{\"outlinewidth\":0,\"ticks\":\"\"},\"type\":\"contourcarpet\"}],\"contour\":[{\"colorbar\":{\"outlinewidth\":0,\"ticks\":\"\"},\"colorscale\":[[0.0,\"#0d0887\"],[0.1111111111111111,\"#46039f\"],[0.2222222222222222,\"#7201a8\"],[0.3333333333333333,\"#9c179e\"],[0.4444444444444444,\"#bd3786\"],[0.5555555555555556,\"#d8576b\"],[0.6666666666666666,\"#ed7953\"],[0.7777777777777778,\"#fb9f3a\"],[0.8888888888888888,\"#fdca26\"],[1.0,\"#f0f921\"]],\"type\":\"contour\"}],\"heatmapgl\":[{\"colorbar\":{\"outlinewidth\":0,\"ticks\":\"\"},\"colorscale\":[[0.0,\"#0d0887\"],[0.1111111111111111,\"#46039f\"],[0.2222222222222222,\"#7201a8\"],[0.3333333333333333,\"#9c179e\"],[0.4444444444444444,\"#bd3786\"],[0.5555555555555556,\"#d8576b\"],[0.6666666666666666,\"#ed7953\"],[0.7777777777777778,\"#fb9f3a\"],[0.8888888888888888,\"#fdca26\"],[1.0,\"#f0f921\"]],\"type\":\"heatmapgl\"}],\"heatmap\":[{\"colorbar\":{\"outlinewidth\":0,\"ticks\":\"\"},\"colorscale\":[[0.0,\"#0d0887\"],[0.1111111111111111,\"#46039f\"],[0.2222222222222222,\"#7201a8\"],[0.3333333333333333,\"#9c179e\"],[0.4444444444444444,\"#bd3786\"],[0.5555555555555556,\"#d8576b\"],[0.6666666666666666,\"#ed7953\"],[0.7777777777777778,\"#fb9f3a\"],[0.8888888888888888,\"#fdca26\"],[1.0,\"#f0f921\"]],\"type\":\"heatmap\"}],\"histogram2dcontour\":[{\"colorbar\":{\"outlinewidth\":0,\"ticks\":\"\"},\"colorscale\":[[0.0,\"#0d0887\"],[0.1111111111111111,\"#46039f\"],[0.2222222222222222,\"#7201a8\"],[0.3333333333333333,\"#9c179e\"],[0.4444444444444444,\"#bd3786\"],[0.5555555555555556,\"#d8576b\"],[0.6666666666666666,\"#ed7953\"],[0.7777777777777778,\"#fb9f3a\"],[0.8888888888888888,\"#fdca26\"],[1.0,\"#f0f921\"]],\"type\":\"histogram2dcontour\"}],\"histogram2d\":[{\"colorbar\":{\"outlinewidth\":0,\"ticks\":\"\"},\"colorscale\":[[0.0,\"#0d0887\"],[0.1111111111111111,\"#46039f\"],[0.2222222222222222,\"#7201a8\"],[0.3333333333333333,\"#9c179e\"],[0.4444444444444444,\"#bd3786\"],[0.5555555555555556,\"#d8576b\"],[0.6666666666666666,\"#ed7953\"],[0.7777777777777778,\"#fb9f3a\"],[0.8888888888888888,\"#fdca26\"],[1.0,\"#f0f921\"]],\"type\":\"histogram2d\"}],\"histogram\":[{\"marker\":{\"pattern\":{\"fillmode\":\"overlay\",\"size\":10,\"solidity\":0.2}},\"type\":\"histogram\"}],\"mesh3d\":[{\"colorbar\":{\"outlinewidth\":0,\"ticks\":\"\"},\"type\":\"mesh3d\"}],\"parcoords\":[{\"line\":{\"colorbar\":{\"outlinewidth\":0,\"ticks\":\"\"}},\"type\":\"parcoords\"}],\"pie\":[{\"automargin\":true,\"type\":\"pie\"}],\"scatter3d\":[{\"line\":{\"colorbar\":{\"outlinewidth\":0,\"ticks\":\"\"}},\"marker\":{\"colorbar\":{\"outlinewidth\":0,\"ticks\":\"\"}},\"type\":\"scatter3d\"}],\"scattercarpet\":[{\"marker\":{\"colorbar\":{\"outlinewidth\":0,\"ticks\":\"\"}},\"type\":\"scattercarpet\"}],\"scattergeo\":[{\"marker\":{\"colorbar\":{\"outlinewidth\":0,\"ticks\":\"\"}},\"type\":\"scattergeo\"}],\"scattergl\":[{\"marker\":{\"colorbar\":{\"outlinewidth\":0,\"ticks\":\"\"}},\"type\":\"scattergl\"}],\"scattermapbox\":[{\"marker\":{\"colorbar\":{\"outlinewidth\":0,\"ticks\":\"\"}},\"type\":\"scattermapbox\"}],\"scatterpolargl\":[{\"marker\":{\"colorbar\":{\"outlinewidth\":0,\"ticks\":\"\"}},\"type\":\"scatterpolargl\"}],\"scatterpolar\":[{\"marker\":{\"colorbar\":{\"outlinewidth\":0,\"ticks\":\"\"}},\"type\":\"scatterpolar\"}],\"scatter\":[{\"fillpattern\":{\"fillmode\":\"overlay\",\"size\":10,\"solidity\":0.2},\"type\":\"scatter\"}],\"scatterternary\":[{\"marker\":{\"colorbar\":{\"outlinewidth\":0,\"ticks\":\"\"}},\"type\":\"scatterternary\"}],\"surface\":[{\"colorbar\":{\"outlinewidth\":0,\"ticks\":\"\"},\"colorscale\":[[0.0,\"#0d0887\"],[0.1111111111111111,\"#46039f\"],[0.2222222222222222,\"#7201a8\"],[0.3333333333333333,\"#9c179e\"],[0.4444444444444444,\"#bd3786\"],[0.5555555555555556,\"#d8576b\"],[0.6666666666666666,\"#ed7953\"],[0.7777777777777778,\"#fb9f3a\"],[0.8888888888888888,\"#fdca26\"],[1.0,\"#f0f921\"]],\"type\":\"surface\"}],\"table\":[{\"cells\":{\"fill\":{\"color\":\"#EBF0F8\"},\"line\":{\"color\":\"white\"}},\"header\":{\"fill\":{\"color\":\"#C8D4E3\"},\"line\":{\"color\":\"white\"}},\"type\":\"table\"}]},\"layout\":{\"annotationdefaults\":{\"arrowcolor\":\"#2a3f5f\",\"arrowhead\":0,\"arrowwidth\":1},\"autotypenumbers\":\"strict\",\"coloraxis\":{\"colorbar\":{\"outlinewidth\":0,\"ticks\":\"\"}},\"colorscale\":{\"diverging\":[[0,\"#8e0152\"],[0.1,\"#c51b7d\"],[0.2,\"#de77ae\"],[0.3,\"#f1b6da\"],[0.4,\"#fde0ef\"],[0.5,\"#f7f7f7\"],[0.6,\"#e6f5d0\"],[0.7,\"#b8e186\"],[0.8,\"#7fbc41\"],[0.9,\"#4d9221\"],[1,\"#276419\"]],\"sequential\":[[0.0,\"#0d0887\"],[0.1111111111111111,\"#46039f\"],[0.2222222222222222,\"#7201a8\"],[0.3333333333333333,\"#9c179e\"],[0.4444444444444444,\"#bd3786\"],[0.5555555555555556,\"#d8576b\"],[0.6666666666666666,\"#ed7953\"],[0.7777777777777778,\"#fb9f3a\"],[0.8888888888888888,\"#fdca26\"],[1.0,\"#f0f921\"]],\"sequentialminus\":[[0.0,\"#0d0887\"],[0.1111111111111111,\"#46039f\"],[0.2222222222222222,\"#7201a8\"],[0.3333333333333333,\"#9c179e\"],[0.4444444444444444,\"#bd3786\"],[0.5555555555555556,\"#d8576b\"],[0.6666666666666666,\"#ed7953\"],[0.7777777777777778,\"#fb9f3a\"],[0.8888888888888888,\"#fdca26\"],[1.0,\"#f0f921\"]]},\"colorway\":[\"#636efa\",\"#EF553B\",\"#00cc96\",\"#ab63fa\",\"#FFA15A\",\"#19d3f3\",\"#FF6692\",\"#B6E880\",\"#FF97FF\",\"#FECB52\"],\"font\":{\"color\":\"#2a3f5f\"},\"geo\":{\"bgcolor\":\"white\",\"lakecolor\":\"white\",\"landcolor\":\"#E5ECF6\",\"showlakes\":true,\"showland\":true,\"subunitcolor\":\"white\"},\"hoverlabel\":{\"align\":\"left\"},\"hovermode\":\"closest\",\"mapbox\":{\"style\":\"light\"},\"paper_bgcolor\":\"white\",\"plot_bgcolor\":\"#E5ECF6\",\"polar\":{\"angularaxis\":{\"gridcolor\":\"white\",\"linecolor\":\"white\",\"ticks\":\"\"},\"bgcolor\":\"#E5ECF6\",\"radialaxis\":{\"gridcolor\":\"white\",\"linecolor\":\"white\",\"ticks\":\"\"}},\"scene\":{\"xaxis\":{\"backgroundcolor\":\"#E5ECF6\",\"gridcolor\":\"white\",\"gridwidth\":2,\"linecolor\":\"white\",\"showbackground\":true,\"ticks\":\"\",\"zerolinecolor\":\"white\"},\"yaxis\":{\"backgroundcolor\":\"#E5ECF6\",\"gridcolor\":\"white\",\"gridwidth\":2,\"linecolor\":\"white\",\"showbackground\":true,\"ticks\":\"\",\"zerolinecolor\":\"white\"},\"zaxis\":{\"backgroundcolor\":\"#E5ECF6\",\"gridcolor\":\"white\",\"gridwidth\":2,\"linecolor\":\"white\",\"showbackground\":true,\"ticks\":\"\",\"zerolinecolor\":\"white\"}},\"shapedefaults\":{\"line\":{\"color\":\"#2a3f5f\"}},\"ternary\":{\"aaxis\":{\"gridcolor\":\"white\",\"linecolor\":\"white\",\"ticks\":\"\"},\"baxis\":{\"gridcolor\":\"white\",\"linecolor\":\"white\",\"ticks\":\"\"},\"bgcolor\":\"#E5ECF6\",\"caxis\":{\"gridcolor\":\"white\",\"linecolor\":\"white\",\"ticks\":\"\"}},\"title\":{\"x\":0.05},\"xaxis\":{\"automargin\":true,\"gridcolor\":\"white\",\"linecolor\":\"white\",\"ticks\":\"\",\"title\":{\"standoff\":15},\"zerolinecolor\":\"white\",\"zerolinewidth\":2},\"yaxis\":{\"automargin\":true,\"gridcolor\":\"white\",\"linecolor\":\"white\",\"ticks\":\"\",\"title\":{\"standoff\":15},\"zerolinecolor\":\"white\",\"zerolinewidth\":2}}},\"title\":{\"font\":{\"color\":\"#4D5663\"},\"text\":\"Total Quantity and Revenue\"},\"xaxis\":{\"gridcolor\":\"#E1E5ED\",\"showgrid\":true,\"tickfont\":{\"color\":\"#4D5663\"},\"title\":{\"font\":{\"color\":\"#4D5663\"},\"text\":\"France\"},\"zerolinecolor\":\"#E1E5ED\"},\"yaxis\":{\"gridcolor\":\"#E1E5ED\",\"showgrid\":true,\"tickfont\":{\"color\":\"#4D5663\"},\"title\":{\"font\":{\"color\":\"#4D5663\"},\"text\":\"\"},\"zerolinecolor\":\"#E1E5ED\"}},                        {\"showLink\": true, \"linkText\": \"Export to plot.ly\", \"plotlyServerURL\": \"https://plot.ly\", \"responsive\": true}                    ).then(function(){\n",
       "                            \n",
       "var gd = document.getElementById('3f7a0e45-a00b-482d-af1c-0326f853860b');\n",
       "var x = new MutationObserver(function (mutations, observer) {{\n",
       "        var display = window.getComputedStyle(gd).display;\n",
       "        if (!display || display === 'none') {{\n",
       "            console.log([gd, 'removed!']);\n",
       "            Plotly.purge(gd);\n",
       "            observer.disconnect();\n",
       "        }}\n",
       "}});\n",
       "\n",
       "// Listen for the removal of the full notebook cells\n",
       "var notebookContainer = gd.closest('#notebook-container');\n",
       "if (notebookContainer) {{\n",
       "    x.observe(notebookContainer, {childList: true});\n",
       "}}\n",
       "\n",
       "// Listen for the clearing of the current output cell\n",
       "var outputEl = gd.closest('.output');\n",
       "if (outputEl) {{\n",
       "    x.observe(outputEl, {childList: true});\n",
       "}}\n",
       "\n",
       "                        })                };                });            </script>        </div>"
      ]
     },
     "metadata": {},
     "output_type": "display_data"
    }
   ],
   "source": [
    "data.iplot(kind='bar', xTitle='France', title='Total Quantity and Revenue', color='Blue')"
   ]
  },
  {
   "cell_type": "markdown",
   "metadata": {},
   "source": [
    "## 3. Create an interactive scatter plot showing the relationship between average quantity (x-axis) and average unit price (y-axis) for the product PARTY BUNTING with the plot points color-coded by country (categories)."
   ]
  },
  {
   "cell_type": "code",
   "execution_count": 108,
   "metadata": {},
   "outputs": [
    {
     "name": "stderr",
     "output_type": "stream",
     "text": [
      "/Users/ronaldhernandez/opt/anaconda3/lib/python3.9/site-packages/cufflinks/plotlytools.py:807: FutureWarning:\n",
      "\n",
      "The pandas.np module is deprecated and will be removed from pandas in a future version. Import numpy directly instead.\n",
      "\n",
      "/Users/ronaldhernandez/opt/anaconda3/lib/python3.9/site-packages/cufflinks/plotlytools.py:810: FutureWarning:\n",
      "\n",
      "The pandas.np module is deprecated and will be removed from pandas in a future version. Import numpy directly instead.\n",
      "\n"
     ]
    },
    {
     "data": {
      "application/vnd.plotly.v1+json": {
       "config": {
        "linkText": "Export to plot.ly",
        "plotlyServerURL": "https://plot.ly",
        "showLink": true
       },
       "data": [
        {
         "marker": {
          "color": "rgba(0, 128, 0, 1.0)",
          "line": {
           "width": 1.3
          },
          "opacity": 0.8,
          "size": 12,
          "symbol": "circle"
         },
         "mode": "markers",
         "name": "Australia",
         "textfont": {
          "color": "#4D5663"
         },
         "type": "scatter",
         "x": [
          33.125
         ],
         "y": [
          4.7125
         ]
        },
        {
         "marker": {
          "color": "rgba(0, 128, 0, 0.96)",
          "line": {
           "width": 1.3
          },
          "opacity": 0.8,
          "size": 12,
          "symbol": "circle"
         },
         "mode": "markers",
         "name": "Austria",
         "textfont": {
          "color": "#4D5663"
         },
         "type": "scatter",
         "x": [
          8
         ],
         "y": [
          4.95
         ]
        },
        {
         "marker": {
          "color": "rgba(0, 128, 0, 0.9199999999999999)",
          "line": {
           "width": 1.3
          },
          "opacity": 0.8,
          "size": 12,
          "symbol": "circle"
         },
         "mode": "markers",
         "name": "Belgium",
         "textfont": {
          "color": "#4D5663"
         },
         "type": "scatter",
         "x": [
          4
         ],
         "y": [
          4.95
         ]
        },
        {
         "marker": {
          "color": "rgba(0, 128, 0, 0.8799999999999999)",
          "line": {
           "width": 1.3
          },
          "opacity": 0.8,
          "size": 12,
          "symbol": "circle"
         },
         "mode": "markers",
         "name": "Channel Islands",
         "textfont": {
          "color": "#4D5663"
         },
         "type": "scatter",
         "x": [
          13.333333333333334
         ],
         "y": [
          4.95
         ]
        },
        {
         "marker": {
          "color": "rgba(0, 128, 0, 0.8399999999999999)",
          "line": {
           "width": 1.3
          },
          "opacity": 0.8,
          "size": 12,
          "symbol": "circle"
         },
         "mode": "markers",
         "name": "Cyprus",
         "textfont": {
          "color": "#4D5663"
         },
         "type": "scatter",
         "x": [
          2.3333333333333335
         ],
         "y": [
          4.75
         ]
        },
        {
         "marker": {
          "color": "rgba(0, 128, 0, 0.8)",
          "line": {
           "width": 1.3
          },
          "opacity": 0.8,
          "size": 12,
          "symbol": "circle"
         },
         "mode": "markers",
         "name": "Denmark",
         "textfont": {
          "color": "#4D5663"
         },
         "type": "scatter",
         "x": [
          12
         ],
         "y": [
          4.95
         ]
        },
        {
         "marker": {
          "color": "rgba(0, 128, 0, 0.76)",
          "line": {
           "width": 1.3
          },
          "opacity": 0.8,
          "size": 12,
          "symbol": "circle"
         },
         "mode": "markers",
         "name": "EIRE",
         "textfont": {
          "color": "#4D5663"
         },
         "type": "scatter",
         "x": [
          21.210526315789473
         ],
         "y": [
          4.739473684210527
         ]
        },
        {
         "marker": {
          "color": "rgba(0, 128, 0, 0.72)",
          "line": {
           "width": 1.3
          },
          "opacity": 0.8,
          "size": 12,
          "symbol": "circle"
         },
         "mode": "markers",
         "name": "Finland",
         "textfont": {
          "color": "#4D5663"
         },
         "type": "scatter",
         "x": [
          6
         ],
         "y": [
          4.95
         ]
        },
        {
         "marker": {
          "color": "rgba(0, 128, 0, 0.6799999999999999)",
          "line": {
           "width": 1.3
          },
          "opacity": 0.8,
          "size": 12,
          "symbol": "circle"
         },
         "mode": "markers",
         "name": "France",
         "textfont": {
          "color": "#4D5663"
         },
         "type": "scatter",
         "x": [
          5.7272727272727275
         ],
         "y": [
          4.922727272727273
         ]
        },
        {
         "marker": {
          "color": "rgba(0, 128, 0, 0.6399999999999999)",
          "line": {
           "width": 1.3
          },
          "opacity": 0.8,
          "size": 12,
          "symbol": "circle"
         },
         "mode": "markers",
         "name": "Germany",
         "textfont": {
          "color": "#4D5663"
         },
         "type": "scatter",
         "x": [
          6.8
         ],
         "y": [
          4.890000000000001
         ]
        },
        {
         "marker": {
          "color": "rgba(0, 128, 0, 0.5999999999999999)",
          "line": {
           "width": 1.3
          },
          "opacity": 0.8,
          "size": 12,
          "symbol": "circle"
         },
         "mode": "markers",
         "name": "Israel",
         "textfont": {
          "color": "#4D5663"
         },
         "type": "scatter",
         "x": [
          1
         ],
         "y": [
          4.95
         ]
        },
        {
         "marker": {
          "color": "rgba(0, 128, 0, 0.5599999999999998)",
          "line": {
           "width": 1.3
          },
          "opacity": 0.8,
          "size": 12,
          "symbol": "circle"
         },
         "mode": "markers",
         "name": "Japan",
         "textfont": {
          "color": "#4D5663"
         },
         "type": "scatter",
         "x": [
          56.666666666666664
         ],
         "y": [
          4.183333333333334
         ]
        },
        {
         "marker": {
          "color": "rgba(0, 128, 0, 0.5199999999999998)",
          "line": {
           "width": 1.3
          },
          "opacity": 0.8,
          "size": 12,
          "symbol": "circle"
         },
         "mode": "markers",
         "name": "Lebanon",
         "textfont": {
          "color": "#4D5663"
         },
         "type": "scatter",
         "x": [
          15
         ],
         "y": [
          4.65
         ]
        },
        {
         "marker": {
          "color": "rgba(0, 128, 0, 0.4799999999999998)",
          "line": {
           "width": 1.3
          },
          "opacity": 0.8,
          "size": 12,
          "symbol": "circle"
         },
         "mode": "markers",
         "name": "Netherlands",
         "textfont": {
          "color": "#4D5663"
         },
         "type": "scatter",
         "x": [
          50
         ],
         "y": [
          4.15
         ]
        },
        {
         "marker": {
          "color": "rgba(0, 128, 0, 0.44)",
          "line": {
           "width": 1.3
          },
          "opacity": 0.8,
          "size": 12,
          "symbol": "circle"
         },
         "mode": "markers",
         "name": "Norway",
         "textfont": {
          "color": "#4D5663"
         },
         "type": "scatter",
         "x": [
          6
         ],
         "y": [
          4.95
         ]
        },
        {
         "marker": {
          "color": "rgba(0, 128, 0, 0.39999999999999997)",
          "line": {
           "width": 1.3
          },
          "opacity": 0.8,
          "size": 12,
          "symbol": "circle"
         },
         "mode": "markers",
         "name": "Singapore",
         "textfont": {
          "color": "#4D5663"
         },
         "type": "scatter",
         "x": [
          8
         ],
         "y": [
          4.95
         ]
        },
        {
         "marker": {
          "color": "rgba(0, 128, 0, 0.35999999999999993)",
          "line": {
           "width": 1.3
          },
          "opacity": 0.8,
          "size": 12,
          "symbol": "circle"
         },
         "mode": "markers",
         "name": "South Africa",
         "textfont": {
          "color": "#4D5663"
         },
         "type": "scatter",
         "x": [
          4
         ],
         "y": [
          4.95
         ]
        },
        {
         "marker": {
          "color": "rgba(0, 128, 0, 0.3199999999999999)",
          "line": {
           "width": 1.3
          },
          "opacity": 0.8,
          "size": 12,
          "symbol": "circle"
         },
         "mode": "markers",
         "name": "Spain",
         "textfont": {
          "color": "#4D5663"
         },
         "type": "scatter",
         "x": [
          4.75
         ],
         "y": [
          4.8375
         ]
        },
        {
         "marker": {
          "color": "rgba(0, 128, 0, 0.27999999999999986)",
          "line": {
           "width": 1.3
          },
          "opacity": 0.8,
          "size": 12,
          "symbol": "circle"
         },
         "mode": "markers",
         "name": "Switzerland",
         "textfont": {
          "color": "#4D5663"
         },
         "type": "scatter",
         "x": [
          17.2
         ],
         "y": [
          4.790000000000001
         ]
        },
        {
         "marker": {
          "color": "rgba(0, 128, 0, 0.23999999999999982)",
          "line": {
           "width": 1.3
          },
          "opacity": 0.8,
          "size": 12,
          "symbol": "circle"
         },
         "mode": "markers",
         "name": "United Kingdom",
         "textfont": {
          "color": "#4D5663"
         },
         "type": "scatter",
         "x": [
          10.705432287681713
         ],
         "y": [
          4.880925784238714
         ]
        }
       ],
       "layout": {
        "legend": {
         "bgcolor": "#F5F6F9",
         "font": {
          "color": "#4D5663"
         }
        },
        "paper_bgcolor": "#F5F6F9",
        "plot_bgcolor": "#F5F6F9",
        "template": {
         "data": {
          "bar": [
           {
            "error_x": {
             "color": "#2a3f5f"
            },
            "error_y": {
             "color": "#2a3f5f"
            },
            "marker": {
             "line": {
              "color": "#E5ECF6",
              "width": 0.5
             },
             "pattern": {
              "fillmode": "overlay",
              "size": 10,
              "solidity": 0.2
             }
            },
            "type": "bar"
           }
          ],
          "barpolar": [
           {
            "marker": {
             "line": {
              "color": "#E5ECF6",
              "width": 0.5
             },
             "pattern": {
              "fillmode": "overlay",
              "size": 10,
              "solidity": 0.2
             }
            },
            "type": "barpolar"
           }
          ],
          "carpet": [
           {
            "aaxis": {
             "endlinecolor": "#2a3f5f",
             "gridcolor": "white",
             "linecolor": "white",
             "minorgridcolor": "white",
             "startlinecolor": "#2a3f5f"
            },
            "baxis": {
             "endlinecolor": "#2a3f5f",
             "gridcolor": "white",
             "linecolor": "white",
             "minorgridcolor": "white",
             "startlinecolor": "#2a3f5f"
            },
            "type": "carpet"
           }
          ],
          "choropleth": [
           {
            "colorbar": {
             "outlinewidth": 0,
             "ticks": ""
            },
            "type": "choropleth"
           }
          ],
          "contour": [
           {
            "colorbar": {
             "outlinewidth": 0,
             "ticks": ""
            },
            "colorscale": [
             [
              0,
              "#0d0887"
             ],
             [
              0.1111111111111111,
              "#46039f"
             ],
             [
              0.2222222222222222,
              "#7201a8"
             ],
             [
              0.3333333333333333,
              "#9c179e"
             ],
             [
              0.4444444444444444,
              "#bd3786"
             ],
             [
              0.5555555555555556,
              "#d8576b"
             ],
             [
              0.6666666666666666,
              "#ed7953"
             ],
             [
              0.7777777777777778,
              "#fb9f3a"
             ],
             [
              0.8888888888888888,
              "#fdca26"
             ],
             [
              1,
              "#f0f921"
             ]
            ],
            "type": "contour"
           }
          ],
          "contourcarpet": [
           {
            "colorbar": {
             "outlinewidth": 0,
             "ticks": ""
            },
            "type": "contourcarpet"
           }
          ],
          "heatmap": [
           {
            "colorbar": {
             "outlinewidth": 0,
             "ticks": ""
            },
            "colorscale": [
             [
              0,
              "#0d0887"
             ],
             [
              0.1111111111111111,
              "#46039f"
             ],
             [
              0.2222222222222222,
              "#7201a8"
             ],
             [
              0.3333333333333333,
              "#9c179e"
             ],
             [
              0.4444444444444444,
              "#bd3786"
             ],
             [
              0.5555555555555556,
              "#d8576b"
             ],
             [
              0.6666666666666666,
              "#ed7953"
             ],
             [
              0.7777777777777778,
              "#fb9f3a"
             ],
             [
              0.8888888888888888,
              "#fdca26"
             ],
             [
              1,
              "#f0f921"
             ]
            ],
            "type": "heatmap"
           }
          ],
          "heatmapgl": [
           {
            "colorbar": {
             "outlinewidth": 0,
             "ticks": ""
            },
            "colorscale": [
             [
              0,
              "#0d0887"
             ],
             [
              0.1111111111111111,
              "#46039f"
             ],
             [
              0.2222222222222222,
              "#7201a8"
             ],
             [
              0.3333333333333333,
              "#9c179e"
             ],
             [
              0.4444444444444444,
              "#bd3786"
             ],
             [
              0.5555555555555556,
              "#d8576b"
             ],
             [
              0.6666666666666666,
              "#ed7953"
             ],
             [
              0.7777777777777778,
              "#fb9f3a"
             ],
             [
              0.8888888888888888,
              "#fdca26"
             ],
             [
              1,
              "#f0f921"
             ]
            ],
            "type": "heatmapgl"
           }
          ],
          "histogram": [
           {
            "marker": {
             "pattern": {
              "fillmode": "overlay",
              "size": 10,
              "solidity": 0.2
             }
            },
            "type": "histogram"
           }
          ],
          "histogram2d": [
           {
            "colorbar": {
             "outlinewidth": 0,
             "ticks": ""
            },
            "colorscale": [
             [
              0,
              "#0d0887"
             ],
             [
              0.1111111111111111,
              "#46039f"
             ],
             [
              0.2222222222222222,
              "#7201a8"
             ],
             [
              0.3333333333333333,
              "#9c179e"
             ],
             [
              0.4444444444444444,
              "#bd3786"
             ],
             [
              0.5555555555555556,
              "#d8576b"
             ],
             [
              0.6666666666666666,
              "#ed7953"
             ],
             [
              0.7777777777777778,
              "#fb9f3a"
             ],
             [
              0.8888888888888888,
              "#fdca26"
             ],
             [
              1,
              "#f0f921"
             ]
            ],
            "type": "histogram2d"
           }
          ],
          "histogram2dcontour": [
           {
            "colorbar": {
             "outlinewidth": 0,
             "ticks": ""
            },
            "colorscale": [
             [
              0,
              "#0d0887"
             ],
             [
              0.1111111111111111,
              "#46039f"
             ],
             [
              0.2222222222222222,
              "#7201a8"
             ],
             [
              0.3333333333333333,
              "#9c179e"
             ],
             [
              0.4444444444444444,
              "#bd3786"
             ],
             [
              0.5555555555555556,
              "#d8576b"
             ],
             [
              0.6666666666666666,
              "#ed7953"
             ],
             [
              0.7777777777777778,
              "#fb9f3a"
             ],
             [
              0.8888888888888888,
              "#fdca26"
             ],
             [
              1,
              "#f0f921"
             ]
            ],
            "type": "histogram2dcontour"
           }
          ],
          "mesh3d": [
           {
            "colorbar": {
             "outlinewidth": 0,
             "ticks": ""
            },
            "type": "mesh3d"
           }
          ],
          "parcoords": [
           {
            "line": {
             "colorbar": {
              "outlinewidth": 0,
              "ticks": ""
             }
            },
            "type": "parcoords"
           }
          ],
          "pie": [
           {
            "automargin": true,
            "type": "pie"
           }
          ],
          "scatter": [
           {
            "fillpattern": {
             "fillmode": "overlay",
             "size": 10,
             "solidity": 0.2
            },
            "type": "scatter"
           }
          ],
          "scatter3d": [
           {
            "line": {
             "colorbar": {
              "outlinewidth": 0,
              "ticks": ""
             }
            },
            "marker": {
             "colorbar": {
              "outlinewidth": 0,
              "ticks": ""
             }
            },
            "type": "scatter3d"
           }
          ],
          "scattercarpet": [
           {
            "marker": {
             "colorbar": {
              "outlinewidth": 0,
              "ticks": ""
             }
            },
            "type": "scattercarpet"
           }
          ],
          "scattergeo": [
           {
            "marker": {
             "colorbar": {
              "outlinewidth": 0,
              "ticks": ""
             }
            },
            "type": "scattergeo"
           }
          ],
          "scattergl": [
           {
            "marker": {
             "colorbar": {
              "outlinewidth": 0,
              "ticks": ""
             }
            },
            "type": "scattergl"
           }
          ],
          "scattermapbox": [
           {
            "marker": {
             "colorbar": {
              "outlinewidth": 0,
              "ticks": ""
             }
            },
            "type": "scattermapbox"
           }
          ],
          "scatterpolar": [
           {
            "marker": {
             "colorbar": {
              "outlinewidth": 0,
              "ticks": ""
             }
            },
            "type": "scatterpolar"
           }
          ],
          "scatterpolargl": [
           {
            "marker": {
             "colorbar": {
              "outlinewidth": 0,
              "ticks": ""
             }
            },
            "type": "scatterpolargl"
           }
          ],
          "scatterternary": [
           {
            "marker": {
             "colorbar": {
              "outlinewidth": 0,
              "ticks": ""
             }
            },
            "type": "scatterternary"
           }
          ],
          "surface": [
           {
            "colorbar": {
             "outlinewidth": 0,
             "ticks": ""
            },
            "colorscale": [
             [
              0,
              "#0d0887"
             ],
             [
              0.1111111111111111,
              "#46039f"
             ],
             [
              0.2222222222222222,
              "#7201a8"
             ],
             [
              0.3333333333333333,
              "#9c179e"
             ],
             [
              0.4444444444444444,
              "#bd3786"
             ],
             [
              0.5555555555555556,
              "#d8576b"
             ],
             [
              0.6666666666666666,
              "#ed7953"
             ],
             [
              0.7777777777777778,
              "#fb9f3a"
             ],
             [
              0.8888888888888888,
              "#fdca26"
             ],
             [
              1,
              "#f0f921"
             ]
            ],
            "type": "surface"
           }
          ],
          "table": [
           {
            "cells": {
             "fill": {
              "color": "#EBF0F8"
             },
             "line": {
              "color": "white"
             }
            },
            "header": {
             "fill": {
              "color": "#C8D4E3"
             },
             "line": {
              "color": "white"
             }
            },
            "type": "table"
           }
          ]
         },
         "layout": {
          "annotationdefaults": {
           "arrowcolor": "#2a3f5f",
           "arrowhead": 0,
           "arrowwidth": 1
          },
          "autotypenumbers": "strict",
          "coloraxis": {
           "colorbar": {
            "outlinewidth": 0,
            "ticks": ""
           }
          },
          "colorscale": {
           "diverging": [
            [
             0,
             "#8e0152"
            ],
            [
             0.1,
             "#c51b7d"
            ],
            [
             0.2,
             "#de77ae"
            ],
            [
             0.3,
             "#f1b6da"
            ],
            [
             0.4,
             "#fde0ef"
            ],
            [
             0.5,
             "#f7f7f7"
            ],
            [
             0.6,
             "#e6f5d0"
            ],
            [
             0.7,
             "#b8e186"
            ],
            [
             0.8,
             "#7fbc41"
            ],
            [
             0.9,
             "#4d9221"
            ],
            [
             1,
             "#276419"
            ]
           ],
           "sequential": [
            [
             0,
             "#0d0887"
            ],
            [
             0.1111111111111111,
             "#46039f"
            ],
            [
             0.2222222222222222,
             "#7201a8"
            ],
            [
             0.3333333333333333,
             "#9c179e"
            ],
            [
             0.4444444444444444,
             "#bd3786"
            ],
            [
             0.5555555555555556,
             "#d8576b"
            ],
            [
             0.6666666666666666,
             "#ed7953"
            ],
            [
             0.7777777777777778,
             "#fb9f3a"
            ],
            [
             0.8888888888888888,
             "#fdca26"
            ],
            [
             1,
             "#f0f921"
            ]
           ],
           "sequentialminus": [
            [
             0,
             "#0d0887"
            ],
            [
             0.1111111111111111,
             "#46039f"
            ],
            [
             0.2222222222222222,
             "#7201a8"
            ],
            [
             0.3333333333333333,
             "#9c179e"
            ],
            [
             0.4444444444444444,
             "#bd3786"
            ],
            [
             0.5555555555555556,
             "#d8576b"
            ],
            [
             0.6666666666666666,
             "#ed7953"
            ],
            [
             0.7777777777777778,
             "#fb9f3a"
            ],
            [
             0.8888888888888888,
             "#fdca26"
            ],
            [
             1,
             "#f0f921"
            ]
           ]
          },
          "colorway": [
           "#636efa",
           "#EF553B",
           "#00cc96",
           "#ab63fa",
           "#FFA15A",
           "#19d3f3",
           "#FF6692",
           "#B6E880",
           "#FF97FF",
           "#FECB52"
          ],
          "font": {
           "color": "#2a3f5f"
          },
          "geo": {
           "bgcolor": "white",
           "lakecolor": "white",
           "landcolor": "#E5ECF6",
           "showlakes": true,
           "showland": true,
           "subunitcolor": "white"
          },
          "hoverlabel": {
           "align": "left"
          },
          "hovermode": "closest",
          "mapbox": {
           "style": "light"
          },
          "paper_bgcolor": "white",
          "plot_bgcolor": "#E5ECF6",
          "polar": {
           "angularaxis": {
            "gridcolor": "white",
            "linecolor": "white",
            "ticks": ""
           },
           "bgcolor": "#E5ECF6",
           "radialaxis": {
            "gridcolor": "white",
            "linecolor": "white",
            "ticks": ""
           }
          },
          "scene": {
           "xaxis": {
            "backgroundcolor": "#E5ECF6",
            "gridcolor": "white",
            "gridwidth": 2,
            "linecolor": "white",
            "showbackground": true,
            "ticks": "",
            "zerolinecolor": "white"
           },
           "yaxis": {
            "backgroundcolor": "#E5ECF6",
            "gridcolor": "white",
            "gridwidth": 2,
            "linecolor": "white",
            "showbackground": true,
            "ticks": "",
            "zerolinecolor": "white"
           },
           "zaxis": {
            "backgroundcolor": "#E5ECF6",
            "gridcolor": "white",
            "gridwidth": 2,
            "linecolor": "white",
            "showbackground": true,
            "ticks": "",
            "zerolinecolor": "white"
           }
          },
          "shapedefaults": {
           "line": {
            "color": "#2a3f5f"
           }
          },
          "ternary": {
           "aaxis": {
            "gridcolor": "white",
            "linecolor": "white",
            "ticks": ""
           },
           "baxis": {
            "gridcolor": "white",
            "linecolor": "white",
            "ticks": ""
           },
           "bgcolor": "#E5ECF6",
           "caxis": {
            "gridcolor": "white",
            "linecolor": "white",
            "ticks": ""
           }
          },
          "title": {
           "x": 0.05
          },
          "xaxis": {
           "automargin": true,
           "gridcolor": "white",
           "linecolor": "white",
           "ticks": "",
           "title": {
            "standoff": 15
           },
           "zerolinecolor": "white",
           "zerolinewidth": 2
          },
          "yaxis": {
           "automargin": true,
           "gridcolor": "white",
           "linecolor": "white",
           "ticks": "",
           "title": {
            "standoff": 15
           },
           "zerolinecolor": "white",
           "zerolinewidth": 2
          }
         }
        },
        "title": {
         "font": {
          "color": "#4D5663"
         },
         "text": "AVG by Country"
        },
        "xaxis": {
         "gridcolor": "#E1E5ED",
         "showgrid": true,
         "tickfont": {
          "color": "#4D5663"
         },
         "title": {
          "font": {
           "color": "#4D5663"
          },
          "text": "Avg qty"
         },
         "zerolinecolor": "#E1E5ED"
        },
        "yaxis": {
         "gridcolor": "#E1E5ED",
         "showgrid": true,
         "tickfont": {
          "color": "#4D5663"
         },
         "title": {
          "font": {
           "color": "#4D5663"
          },
          "text": "Avg unit price"
         },
         "zerolinecolor": "#E1E5ED"
        }
       }
      },
      "text/html": [
       "<div>                            <div id=\"0ebb35a5-9219-43cd-b3f5-8dc2d1f8ccf9\" class=\"plotly-graph-div\" style=\"height:525px; width:100%;\"></div>            <script type=\"text/javascript\">                require([\"plotly\"], function(Plotly) {                    window.PLOTLYENV=window.PLOTLYENV || {};\n",
       "                    window.PLOTLYENV.BASE_URL='https://plot.ly';                                    if (document.getElementById(\"0ebb35a5-9219-43cd-b3f5-8dc2d1f8ccf9\")) {                    Plotly.newPlot(                        \"0ebb35a5-9219-43cd-b3f5-8dc2d1f8ccf9\",                        [{\"marker\":{\"color\":\"rgba(0, 128, 0, 1.0)\",\"line\":{\"width\":1.3},\"opacity\":0.8,\"size\":12,\"symbol\":\"circle\"},\"mode\":\"markers\",\"name\":\"Australia\",\"textfont\":{\"color\":\"#4D5663\"},\"x\":[33.125],\"y\":[4.7125],\"type\":\"scatter\"},{\"marker\":{\"color\":\"rgba(0, 128, 0, 0.96)\",\"line\":{\"width\":1.3},\"opacity\":0.8,\"size\":12,\"symbol\":\"circle\"},\"mode\":\"markers\",\"name\":\"Austria\",\"textfont\":{\"color\":\"#4D5663\"},\"x\":[8.0],\"y\":[4.95],\"type\":\"scatter\"},{\"marker\":{\"color\":\"rgba(0, 128, 0, 0.9199999999999999)\",\"line\":{\"width\":1.3},\"opacity\":0.8,\"size\":12,\"symbol\":\"circle\"},\"mode\":\"markers\",\"name\":\"Belgium\",\"textfont\":{\"color\":\"#4D5663\"},\"x\":[4.0],\"y\":[4.95],\"type\":\"scatter\"},{\"marker\":{\"color\":\"rgba(0, 128, 0, 0.8799999999999999)\",\"line\":{\"width\":1.3},\"opacity\":0.8,\"size\":12,\"symbol\":\"circle\"},\"mode\":\"markers\",\"name\":\"Channel Islands\",\"textfont\":{\"color\":\"#4D5663\"},\"x\":[13.333333333333334],\"y\":[4.95],\"type\":\"scatter\"},{\"marker\":{\"color\":\"rgba(0, 128, 0, 0.8399999999999999)\",\"line\":{\"width\":1.3},\"opacity\":0.8,\"size\":12,\"symbol\":\"circle\"},\"mode\":\"markers\",\"name\":\"Cyprus\",\"textfont\":{\"color\":\"#4D5663\"},\"x\":[2.3333333333333335],\"y\":[4.75],\"type\":\"scatter\"},{\"marker\":{\"color\":\"rgba(0, 128, 0, 0.8)\",\"line\":{\"width\":1.3},\"opacity\":0.8,\"size\":12,\"symbol\":\"circle\"},\"mode\":\"markers\",\"name\":\"Denmark\",\"textfont\":{\"color\":\"#4D5663\"},\"x\":[12.0],\"y\":[4.95],\"type\":\"scatter\"},{\"marker\":{\"color\":\"rgba(0, 128, 0, 0.76)\",\"line\":{\"width\":1.3},\"opacity\":0.8,\"size\":12,\"symbol\":\"circle\"},\"mode\":\"markers\",\"name\":\"EIRE\",\"textfont\":{\"color\":\"#4D5663\"},\"x\":[21.210526315789473],\"y\":[4.739473684210527],\"type\":\"scatter\"},{\"marker\":{\"color\":\"rgba(0, 128, 0, 0.72)\",\"line\":{\"width\":1.3},\"opacity\":0.8,\"size\":12,\"symbol\":\"circle\"},\"mode\":\"markers\",\"name\":\"Finland\",\"textfont\":{\"color\":\"#4D5663\"},\"x\":[6.0],\"y\":[4.95],\"type\":\"scatter\"},{\"marker\":{\"color\":\"rgba(0, 128, 0, 0.6799999999999999)\",\"line\":{\"width\":1.3},\"opacity\":0.8,\"size\":12,\"symbol\":\"circle\"},\"mode\":\"markers\",\"name\":\"France\",\"textfont\":{\"color\":\"#4D5663\"},\"x\":[5.7272727272727275],\"y\":[4.922727272727273],\"type\":\"scatter\"},{\"marker\":{\"color\":\"rgba(0, 128, 0, 0.6399999999999999)\",\"line\":{\"width\":1.3},\"opacity\":0.8,\"size\":12,\"symbol\":\"circle\"},\"mode\":\"markers\",\"name\":\"Germany\",\"textfont\":{\"color\":\"#4D5663\"},\"x\":[6.8],\"y\":[4.890000000000001],\"type\":\"scatter\"},{\"marker\":{\"color\":\"rgba(0, 128, 0, 0.5999999999999999)\",\"line\":{\"width\":1.3},\"opacity\":0.8,\"size\":12,\"symbol\":\"circle\"},\"mode\":\"markers\",\"name\":\"Israel\",\"textfont\":{\"color\":\"#4D5663\"},\"x\":[1.0],\"y\":[4.95],\"type\":\"scatter\"},{\"marker\":{\"color\":\"rgba(0, 128, 0, 0.5599999999999998)\",\"line\":{\"width\":1.3},\"opacity\":0.8,\"size\":12,\"symbol\":\"circle\"},\"mode\":\"markers\",\"name\":\"Japan\",\"textfont\":{\"color\":\"#4D5663\"},\"x\":[56.666666666666664],\"y\":[4.183333333333334],\"type\":\"scatter\"},{\"marker\":{\"color\":\"rgba(0, 128, 0, 0.5199999999999998)\",\"line\":{\"width\":1.3},\"opacity\":0.8,\"size\":12,\"symbol\":\"circle\"},\"mode\":\"markers\",\"name\":\"Lebanon\",\"textfont\":{\"color\":\"#4D5663\"},\"x\":[15.0],\"y\":[4.65],\"type\":\"scatter\"},{\"marker\":{\"color\":\"rgba(0, 128, 0, 0.4799999999999998)\",\"line\":{\"width\":1.3},\"opacity\":0.8,\"size\":12,\"symbol\":\"circle\"},\"mode\":\"markers\",\"name\":\"Netherlands\",\"textfont\":{\"color\":\"#4D5663\"},\"x\":[50.0],\"y\":[4.15],\"type\":\"scatter\"},{\"marker\":{\"color\":\"rgba(0, 128, 0, 0.44)\",\"line\":{\"width\":1.3},\"opacity\":0.8,\"size\":12,\"symbol\":\"circle\"},\"mode\":\"markers\",\"name\":\"Norway\",\"textfont\":{\"color\":\"#4D5663\"},\"x\":[6.0],\"y\":[4.95],\"type\":\"scatter\"},{\"marker\":{\"color\":\"rgba(0, 128, 0, 0.39999999999999997)\",\"line\":{\"width\":1.3},\"opacity\":0.8,\"size\":12,\"symbol\":\"circle\"},\"mode\":\"markers\",\"name\":\"Singapore\",\"textfont\":{\"color\":\"#4D5663\"},\"x\":[8.0],\"y\":[4.95],\"type\":\"scatter\"},{\"marker\":{\"color\":\"rgba(0, 128, 0, 0.35999999999999993)\",\"line\":{\"width\":1.3},\"opacity\":0.8,\"size\":12,\"symbol\":\"circle\"},\"mode\":\"markers\",\"name\":\"South Africa\",\"textfont\":{\"color\":\"#4D5663\"},\"x\":[4.0],\"y\":[4.95],\"type\":\"scatter\"},{\"marker\":{\"color\":\"rgba(0, 128, 0, 0.3199999999999999)\",\"line\":{\"width\":1.3},\"opacity\":0.8,\"size\":12,\"symbol\":\"circle\"},\"mode\":\"markers\",\"name\":\"Spain\",\"textfont\":{\"color\":\"#4D5663\"},\"x\":[4.75],\"y\":[4.8375],\"type\":\"scatter\"},{\"marker\":{\"color\":\"rgba(0, 128, 0, 0.27999999999999986)\",\"line\":{\"width\":1.3},\"opacity\":0.8,\"size\":12,\"symbol\":\"circle\"},\"mode\":\"markers\",\"name\":\"Switzerland\",\"textfont\":{\"color\":\"#4D5663\"},\"x\":[17.2],\"y\":[4.790000000000001],\"type\":\"scatter\"},{\"marker\":{\"color\":\"rgba(0, 128, 0, 0.23999999999999982)\",\"line\":{\"width\":1.3},\"opacity\":0.8,\"size\":12,\"symbol\":\"circle\"},\"mode\":\"markers\",\"name\":\"United Kingdom\",\"textfont\":{\"color\":\"#4D5663\"},\"x\":[10.705432287681713],\"y\":[4.880925784238714],\"type\":\"scatter\"}],                        {\"legend\":{\"bgcolor\":\"#F5F6F9\",\"font\":{\"color\":\"#4D5663\"}},\"paper_bgcolor\":\"#F5F6F9\",\"plot_bgcolor\":\"#F5F6F9\",\"template\":{\"data\":{\"barpolar\":[{\"marker\":{\"line\":{\"color\":\"#E5ECF6\",\"width\":0.5},\"pattern\":{\"fillmode\":\"overlay\",\"size\":10,\"solidity\":0.2}},\"type\":\"barpolar\"}],\"bar\":[{\"error_x\":{\"color\":\"#2a3f5f\"},\"error_y\":{\"color\":\"#2a3f5f\"},\"marker\":{\"line\":{\"color\":\"#E5ECF6\",\"width\":0.5},\"pattern\":{\"fillmode\":\"overlay\",\"size\":10,\"solidity\":0.2}},\"type\":\"bar\"}],\"carpet\":[{\"aaxis\":{\"endlinecolor\":\"#2a3f5f\",\"gridcolor\":\"white\",\"linecolor\":\"white\",\"minorgridcolor\":\"white\",\"startlinecolor\":\"#2a3f5f\"},\"baxis\":{\"endlinecolor\":\"#2a3f5f\",\"gridcolor\":\"white\",\"linecolor\":\"white\",\"minorgridcolor\":\"white\",\"startlinecolor\":\"#2a3f5f\"},\"type\":\"carpet\"}],\"choropleth\":[{\"colorbar\":{\"outlinewidth\":0,\"ticks\":\"\"},\"type\":\"choropleth\"}],\"contourcarpet\":[{\"colorbar\":{\"outlinewidth\":0,\"ticks\":\"\"},\"type\":\"contourcarpet\"}],\"contour\":[{\"colorbar\":{\"outlinewidth\":0,\"ticks\":\"\"},\"colorscale\":[[0.0,\"#0d0887\"],[0.1111111111111111,\"#46039f\"],[0.2222222222222222,\"#7201a8\"],[0.3333333333333333,\"#9c179e\"],[0.4444444444444444,\"#bd3786\"],[0.5555555555555556,\"#d8576b\"],[0.6666666666666666,\"#ed7953\"],[0.7777777777777778,\"#fb9f3a\"],[0.8888888888888888,\"#fdca26\"],[1.0,\"#f0f921\"]],\"type\":\"contour\"}],\"heatmapgl\":[{\"colorbar\":{\"outlinewidth\":0,\"ticks\":\"\"},\"colorscale\":[[0.0,\"#0d0887\"],[0.1111111111111111,\"#46039f\"],[0.2222222222222222,\"#7201a8\"],[0.3333333333333333,\"#9c179e\"],[0.4444444444444444,\"#bd3786\"],[0.5555555555555556,\"#d8576b\"],[0.6666666666666666,\"#ed7953\"],[0.7777777777777778,\"#fb9f3a\"],[0.8888888888888888,\"#fdca26\"],[1.0,\"#f0f921\"]],\"type\":\"heatmapgl\"}],\"heatmap\":[{\"colorbar\":{\"outlinewidth\":0,\"ticks\":\"\"},\"colorscale\":[[0.0,\"#0d0887\"],[0.1111111111111111,\"#46039f\"],[0.2222222222222222,\"#7201a8\"],[0.3333333333333333,\"#9c179e\"],[0.4444444444444444,\"#bd3786\"],[0.5555555555555556,\"#d8576b\"],[0.6666666666666666,\"#ed7953\"],[0.7777777777777778,\"#fb9f3a\"],[0.8888888888888888,\"#fdca26\"],[1.0,\"#f0f921\"]],\"type\":\"heatmap\"}],\"histogram2dcontour\":[{\"colorbar\":{\"outlinewidth\":0,\"ticks\":\"\"},\"colorscale\":[[0.0,\"#0d0887\"],[0.1111111111111111,\"#46039f\"],[0.2222222222222222,\"#7201a8\"],[0.3333333333333333,\"#9c179e\"],[0.4444444444444444,\"#bd3786\"],[0.5555555555555556,\"#d8576b\"],[0.6666666666666666,\"#ed7953\"],[0.7777777777777778,\"#fb9f3a\"],[0.8888888888888888,\"#fdca26\"],[1.0,\"#f0f921\"]],\"type\":\"histogram2dcontour\"}],\"histogram2d\":[{\"colorbar\":{\"outlinewidth\":0,\"ticks\":\"\"},\"colorscale\":[[0.0,\"#0d0887\"],[0.1111111111111111,\"#46039f\"],[0.2222222222222222,\"#7201a8\"],[0.3333333333333333,\"#9c179e\"],[0.4444444444444444,\"#bd3786\"],[0.5555555555555556,\"#d8576b\"],[0.6666666666666666,\"#ed7953\"],[0.7777777777777778,\"#fb9f3a\"],[0.8888888888888888,\"#fdca26\"],[1.0,\"#f0f921\"]],\"type\":\"histogram2d\"}],\"histogram\":[{\"marker\":{\"pattern\":{\"fillmode\":\"overlay\",\"size\":10,\"solidity\":0.2}},\"type\":\"histogram\"}],\"mesh3d\":[{\"colorbar\":{\"outlinewidth\":0,\"ticks\":\"\"},\"type\":\"mesh3d\"}],\"parcoords\":[{\"line\":{\"colorbar\":{\"outlinewidth\":0,\"ticks\":\"\"}},\"type\":\"parcoords\"}],\"pie\":[{\"automargin\":true,\"type\":\"pie\"}],\"scatter3d\":[{\"line\":{\"colorbar\":{\"outlinewidth\":0,\"ticks\":\"\"}},\"marker\":{\"colorbar\":{\"outlinewidth\":0,\"ticks\":\"\"}},\"type\":\"scatter3d\"}],\"scattercarpet\":[{\"marker\":{\"colorbar\":{\"outlinewidth\":0,\"ticks\":\"\"}},\"type\":\"scattercarpet\"}],\"scattergeo\":[{\"marker\":{\"colorbar\":{\"outlinewidth\":0,\"ticks\":\"\"}},\"type\":\"scattergeo\"}],\"scattergl\":[{\"marker\":{\"colorbar\":{\"outlinewidth\":0,\"ticks\":\"\"}},\"type\":\"scattergl\"}],\"scattermapbox\":[{\"marker\":{\"colorbar\":{\"outlinewidth\":0,\"ticks\":\"\"}},\"type\":\"scattermapbox\"}],\"scatterpolargl\":[{\"marker\":{\"colorbar\":{\"outlinewidth\":0,\"ticks\":\"\"}},\"type\":\"scatterpolargl\"}],\"scatterpolar\":[{\"marker\":{\"colorbar\":{\"outlinewidth\":0,\"ticks\":\"\"}},\"type\":\"scatterpolar\"}],\"scatter\":[{\"fillpattern\":{\"fillmode\":\"overlay\",\"size\":10,\"solidity\":0.2},\"type\":\"scatter\"}],\"scatterternary\":[{\"marker\":{\"colorbar\":{\"outlinewidth\":0,\"ticks\":\"\"}},\"type\":\"scatterternary\"}],\"surface\":[{\"colorbar\":{\"outlinewidth\":0,\"ticks\":\"\"},\"colorscale\":[[0.0,\"#0d0887\"],[0.1111111111111111,\"#46039f\"],[0.2222222222222222,\"#7201a8\"],[0.3333333333333333,\"#9c179e\"],[0.4444444444444444,\"#bd3786\"],[0.5555555555555556,\"#d8576b\"],[0.6666666666666666,\"#ed7953\"],[0.7777777777777778,\"#fb9f3a\"],[0.8888888888888888,\"#fdca26\"],[1.0,\"#f0f921\"]],\"type\":\"surface\"}],\"table\":[{\"cells\":{\"fill\":{\"color\":\"#EBF0F8\"},\"line\":{\"color\":\"white\"}},\"header\":{\"fill\":{\"color\":\"#C8D4E3\"},\"line\":{\"color\":\"white\"}},\"type\":\"table\"}]},\"layout\":{\"annotationdefaults\":{\"arrowcolor\":\"#2a3f5f\",\"arrowhead\":0,\"arrowwidth\":1},\"autotypenumbers\":\"strict\",\"coloraxis\":{\"colorbar\":{\"outlinewidth\":0,\"ticks\":\"\"}},\"colorscale\":{\"diverging\":[[0,\"#8e0152\"],[0.1,\"#c51b7d\"],[0.2,\"#de77ae\"],[0.3,\"#f1b6da\"],[0.4,\"#fde0ef\"],[0.5,\"#f7f7f7\"],[0.6,\"#e6f5d0\"],[0.7,\"#b8e186\"],[0.8,\"#7fbc41\"],[0.9,\"#4d9221\"],[1,\"#276419\"]],\"sequential\":[[0.0,\"#0d0887\"],[0.1111111111111111,\"#46039f\"],[0.2222222222222222,\"#7201a8\"],[0.3333333333333333,\"#9c179e\"],[0.4444444444444444,\"#bd3786\"],[0.5555555555555556,\"#d8576b\"],[0.6666666666666666,\"#ed7953\"],[0.7777777777777778,\"#fb9f3a\"],[0.8888888888888888,\"#fdca26\"],[1.0,\"#f0f921\"]],\"sequentialminus\":[[0.0,\"#0d0887\"],[0.1111111111111111,\"#46039f\"],[0.2222222222222222,\"#7201a8\"],[0.3333333333333333,\"#9c179e\"],[0.4444444444444444,\"#bd3786\"],[0.5555555555555556,\"#d8576b\"],[0.6666666666666666,\"#ed7953\"],[0.7777777777777778,\"#fb9f3a\"],[0.8888888888888888,\"#fdca26\"],[1.0,\"#f0f921\"]]},\"colorway\":[\"#636efa\",\"#EF553B\",\"#00cc96\",\"#ab63fa\",\"#FFA15A\",\"#19d3f3\",\"#FF6692\",\"#B6E880\",\"#FF97FF\",\"#FECB52\"],\"font\":{\"color\":\"#2a3f5f\"},\"geo\":{\"bgcolor\":\"white\",\"lakecolor\":\"white\",\"landcolor\":\"#E5ECF6\",\"showlakes\":true,\"showland\":true,\"subunitcolor\":\"white\"},\"hoverlabel\":{\"align\":\"left\"},\"hovermode\":\"closest\",\"mapbox\":{\"style\":\"light\"},\"paper_bgcolor\":\"white\",\"plot_bgcolor\":\"#E5ECF6\",\"polar\":{\"angularaxis\":{\"gridcolor\":\"white\",\"linecolor\":\"white\",\"ticks\":\"\"},\"bgcolor\":\"#E5ECF6\",\"radialaxis\":{\"gridcolor\":\"white\",\"linecolor\":\"white\",\"ticks\":\"\"}},\"scene\":{\"xaxis\":{\"backgroundcolor\":\"#E5ECF6\",\"gridcolor\":\"white\",\"gridwidth\":2,\"linecolor\":\"white\",\"showbackground\":true,\"ticks\":\"\",\"zerolinecolor\":\"white\"},\"yaxis\":{\"backgroundcolor\":\"#E5ECF6\",\"gridcolor\":\"white\",\"gridwidth\":2,\"linecolor\":\"white\",\"showbackground\":true,\"ticks\":\"\",\"zerolinecolor\":\"white\"},\"zaxis\":{\"backgroundcolor\":\"#E5ECF6\",\"gridcolor\":\"white\",\"gridwidth\":2,\"linecolor\":\"white\",\"showbackground\":true,\"ticks\":\"\",\"zerolinecolor\":\"white\"}},\"shapedefaults\":{\"line\":{\"color\":\"#2a3f5f\"}},\"ternary\":{\"aaxis\":{\"gridcolor\":\"white\",\"linecolor\":\"white\",\"ticks\":\"\"},\"baxis\":{\"gridcolor\":\"white\",\"linecolor\":\"white\",\"ticks\":\"\"},\"bgcolor\":\"#E5ECF6\",\"caxis\":{\"gridcolor\":\"white\",\"linecolor\":\"white\",\"ticks\":\"\"}},\"title\":{\"x\":0.05},\"xaxis\":{\"automargin\":true,\"gridcolor\":\"white\",\"linecolor\":\"white\",\"ticks\":\"\",\"title\":{\"standoff\":15},\"zerolinecolor\":\"white\",\"zerolinewidth\":2},\"yaxis\":{\"automargin\":true,\"gridcolor\":\"white\",\"linecolor\":\"white\",\"ticks\":\"\",\"title\":{\"standoff\":15},\"zerolinecolor\":\"white\",\"zerolinewidth\":2}}},\"title\":{\"font\":{\"color\":\"#4D5663\"},\"text\":\"AVG by Country\"},\"xaxis\":{\"gridcolor\":\"#E1E5ED\",\"showgrid\":true,\"tickfont\":{\"color\":\"#4D5663\"},\"title\":{\"font\":{\"color\":\"#4D5663\"},\"text\":\"Avg qty\"},\"zerolinecolor\":\"#E1E5ED\"},\"yaxis\":{\"gridcolor\":\"#E1E5ED\",\"showgrid\":true,\"tickfont\":{\"color\":\"#4D5663\"},\"title\":{\"font\":{\"color\":\"#4D5663\"},\"text\":\"Avg unit price\"},\"zerolinecolor\":\"#E1E5ED\"}},                        {\"showLink\": true, \"linkText\": \"Export to plot.ly\", \"plotlyServerURL\": \"https://plot.ly\", \"responsive\": true}                    ).then(function(){\n",
       "                            \n",
       "var gd = document.getElementById('0ebb35a5-9219-43cd-b3f5-8dc2d1f8ccf9');\n",
       "var x = new MutationObserver(function (mutations, observer) {{\n",
       "        var display = window.getComputedStyle(gd).display;\n",
       "        if (!display || display === 'none') {{\n",
       "            console.log([gd, 'removed!']);\n",
       "            Plotly.purge(gd);\n",
       "            observer.disconnect();\n",
       "        }}\n",
       "}});\n",
       "\n",
       "// Listen for the removal of the full notebook cells\n",
       "var notebookContainer = gd.closest('#notebook-container');\n",
       "if (notebookContainer) {{\n",
       "    x.observe(notebookContainer, {childList: true});\n",
       "}}\n",
       "\n",
       "// Listen for the clearing of the current output cell\n",
       "var outputEl = gd.closest('.output');\n",
       "if (outputEl) {{\n",
       "    x.observe(outputEl, {childList: true});\n",
       "}}\n",
       "\n",
       "                        })                };                });            </script>        </div>"
      ]
     },
     "metadata": {},
     "output_type": "display_data"
    }
   ],
   "source": [
    "data=a.loc[a.Description=='PARTY BUNTING']\n",
    "\n",
    "data=data.groupby('Country').mean()\n",
    "data=data[['Quantity', 'UnitPrice']]\n",
    "\n",
    "\n",
    "data.reset_index(inplace=True)\n",
    "\n",
    "\n",
    "data.iplot(x='Quantity', y='UnitPrice', categories='Country',\n",
    "           xTitle='Avg qty', yTitle='Avg unit price',\n",
    "           color='Green', title='AVG by Country')"
   ]
  },
  {
   "cell_type": "code",
   "execution_count": null,
   "metadata": {},
   "outputs": [],
   "source": []
  },
  {
   "cell_type": "markdown",
   "metadata": {},
   "source": [
    "## 4. Create a set of interactive histograms showing the distributions of quantity per invoice for the following countries: EIRE, Germany, France, and Netherlands."
   ]
  },
  {
   "cell_type": "code",
   "execution_count": 160,
   "metadata": {},
   "outputs": [
    {
     "data": {
      "application/vnd.plotly.v1+json": {
       "config": {
        "linkText": "Export to plot.ly",
        "plotlyServerURL": "https://plot.ly",
        "showLink": true
       },
       "data": [
        {
         "histfunc": "count",
         "histnorm": "",
         "marker": {
          "color": "rgba(255, 153, 51, 1.0)",
          "line": {
           "color": "#4D5663",
           "width": 1.3
          }
         },
         "name": "InvoiceNo",
         "nbinsx": 256,
         "opacity": 0.8,
         "orientation": "v",
         "type": "histogram",
         "x": [
          536540,
          536541,
          536803,
          536890,
          536975,
          537368,
          537378,
          537386,
          538009,
          538255,
          539320,
          539421,
          539473,
          539722,
          539984,
          540547,
          541220,
          541434,
          541670,
          541979,
          542216,
          542278,
          542777,
          543114,
          543178,
          543828,
          544074,
          544075,
          544210,
          544390,
          544690,
          545320,
          545634,
          545657,
          546172,
          546212,
          546213,
          546263,
          546509,
          546520,
          546541,
          546569,
          546580,
          546660,
          546861,
          546917,
          547048,
          547702,
          547789,
          547882,
          548449,
          548664,
          548718,
          548858,
          549118,
          549196,
          549242,
          549667,
          549721,
          550302,
          550618,
          551187,
          551656,
          551657,
          551950,
          552038,
          552262,
          553203,
          553206,
          553210,
          553348,
          553375,
          553686,
          553897,
          553901,
          553931,
          554139,
          554770,
          554776,
          554791,
          555650,
          555858,
          555947,
          556060,
          556126,
          556206,
          556510,
          556927,
          556928,
          556953,
          557136,
          557318,
          557605,
          557742,
          557759,
          557872,
          557880,
          558067,
          558069,
          558113,
          558114,
          558417,
          558431,
          558613,
          558640,
          558644,
          558684,
          559010,
          560036,
          560041,
          560300,
          560445,
          560446,
          560451,
          560534,
          560894,
          560916,
          560922,
          561257,
          561471,
          561472,
          561631,
          561645,
          561798,
          561870,
          561901,
          562374,
          562560,
          562670,
          562935,
          562960,
          562973,
          563098,
          563169,
          563355,
          563558,
          563559,
          563685,
          563848,
          563913,
          564565,
          564654,
          565213,
          565214,
          565289,
          565412,
          565475,
          565476,
          565748,
          565749,
          565800,
          565851,
          565857,
          565916,
          566625,
          566776,
          566846,
          567334,
          567378,
          567428,
          567616,
          567720,
          567899,
          567900,
          568048,
          568095,
          568221,
          568310,
          568417,
          568654,
          568656,
          568698,
          568706,
          568707,
          569010,
          569028,
          569130,
          569739,
          570016,
          570253,
          570388,
          570485,
          570651,
          570657,
          570674,
          570694,
          570700,
          570703,
          570706,
          570839,
          571129,
          571313,
          571314,
          571377,
          571409,
          571425,
          571446,
          571447,
          571559,
          571562,
          571745,
          571937,
          572069,
          572124,
          572127,
          572459,
          573391,
          573581,
          573748,
          573892,
          574745,
          574841,
          574874,
          574938,
          575486,
          575728,
          575735,
          575751,
          575871,
          575933,
          576051,
          576141,
          576371,
          576595,
          576596,
          576602,
          576603,
          576653,
          576880,
          576899,
          577061,
          577355,
          577479,
          577607,
          577613,
          577850,
          578054,
          578093,
          578105,
          578331,
          578792,
          578994,
          579069,
          579102,
          579539,
          579553,
          579768,
          579910,
          580127,
          580528,
          580555,
          580557,
          581003,
          581006,
          581098,
          581433
         ]
        }
       ],
       "layout": {
        "barmode": "overlay",
        "legend": {
         "bgcolor": "#F5F6F9",
         "font": {
          "color": "#4D5663"
         }
        },
        "paper_bgcolor": "#F5F6F9",
        "plot_bgcolor": "#F5F6F9",
        "template": {
         "data": {
          "bar": [
           {
            "error_x": {
             "color": "#2a3f5f"
            },
            "error_y": {
             "color": "#2a3f5f"
            },
            "marker": {
             "line": {
              "color": "#E5ECF6",
              "width": 0.5
             },
             "pattern": {
              "fillmode": "overlay",
              "size": 10,
              "solidity": 0.2
             }
            },
            "type": "bar"
           }
          ],
          "barpolar": [
           {
            "marker": {
             "line": {
              "color": "#E5ECF6",
              "width": 0.5
             },
             "pattern": {
              "fillmode": "overlay",
              "size": 10,
              "solidity": 0.2
             }
            },
            "type": "barpolar"
           }
          ],
          "carpet": [
           {
            "aaxis": {
             "endlinecolor": "#2a3f5f",
             "gridcolor": "white",
             "linecolor": "white",
             "minorgridcolor": "white",
             "startlinecolor": "#2a3f5f"
            },
            "baxis": {
             "endlinecolor": "#2a3f5f",
             "gridcolor": "white",
             "linecolor": "white",
             "minorgridcolor": "white",
             "startlinecolor": "#2a3f5f"
            },
            "type": "carpet"
           }
          ],
          "choropleth": [
           {
            "colorbar": {
             "outlinewidth": 0,
             "ticks": ""
            },
            "type": "choropleth"
           }
          ],
          "contour": [
           {
            "colorbar": {
             "outlinewidth": 0,
             "ticks": ""
            },
            "colorscale": [
             [
              0,
              "#0d0887"
             ],
             [
              0.1111111111111111,
              "#46039f"
             ],
             [
              0.2222222222222222,
              "#7201a8"
             ],
             [
              0.3333333333333333,
              "#9c179e"
             ],
             [
              0.4444444444444444,
              "#bd3786"
             ],
             [
              0.5555555555555556,
              "#d8576b"
             ],
             [
              0.6666666666666666,
              "#ed7953"
             ],
             [
              0.7777777777777778,
              "#fb9f3a"
             ],
             [
              0.8888888888888888,
              "#fdca26"
             ],
             [
              1,
              "#f0f921"
             ]
            ],
            "type": "contour"
           }
          ],
          "contourcarpet": [
           {
            "colorbar": {
             "outlinewidth": 0,
             "ticks": ""
            },
            "type": "contourcarpet"
           }
          ],
          "heatmap": [
           {
            "colorbar": {
             "outlinewidth": 0,
             "ticks": ""
            },
            "colorscale": [
             [
              0,
              "#0d0887"
             ],
             [
              0.1111111111111111,
              "#46039f"
             ],
             [
              0.2222222222222222,
              "#7201a8"
             ],
             [
              0.3333333333333333,
              "#9c179e"
             ],
             [
              0.4444444444444444,
              "#bd3786"
             ],
             [
              0.5555555555555556,
              "#d8576b"
             ],
             [
              0.6666666666666666,
              "#ed7953"
             ],
             [
              0.7777777777777778,
              "#fb9f3a"
             ],
             [
              0.8888888888888888,
              "#fdca26"
             ],
             [
              1,
              "#f0f921"
             ]
            ],
            "type": "heatmap"
           }
          ],
          "heatmapgl": [
           {
            "colorbar": {
             "outlinewidth": 0,
             "ticks": ""
            },
            "colorscale": [
             [
              0,
              "#0d0887"
             ],
             [
              0.1111111111111111,
              "#46039f"
             ],
             [
              0.2222222222222222,
              "#7201a8"
             ],
             [
              0.3333333333333333,
              "#9c179e"
             ],
             [
              0.4444444444444444,
              "#bd3786"
             ],
             [
              0.5555555555555556,
              "#d8576b"
             ],
             [
              0.6666666666666666,
              "#ed7953"
             ],
             [
              0.7777777777777778,
              "#fb9f3a"
             ],
             [
              0.8888888888888888,
              "#fdca26"
             ],
             [
              1,
              "#f0f921"
             ]
            ],
            "type": "heatmapgl"
           }
          ],
          "histogram": [
           {
            "marker": {
             "pattern": {
              "fillmode": "overlay",
              "size": 10,
              "solidity": 0.2
             }
            },
            "type": "histogram"
           }
          ],
          "histogram2d": [
           {
            "colorbar": {
             "outlinewidth": 0,
             "ticks": ""
            },
            "colorscale": [
             [
              0,
              "#0d0887"
             ],
             [
              0.1111111111111111,
              "#46039f"
             ],
             [
              0.2222222222222222,
              "#7201a8"
             ],
             [
              0.3333333333333333,
              "#9c179e"
             ],
             [
              0.4444444444444444,
              "#bd3786"
             ],
             [
              0.5555555555555556,
              "#d8576b"
             ],
             [
              0.6666666666666666,
              "#ed7953"
             ],
             [
              0.7777777777777778,
              "#fb9f3a"
             ],
             [
              0.8888888888888888,
              "#fdca26"
             ],
             [
              1,
              "#f0f921"
             ]
            ],
            "type": "histogram2d"
           }
          ],
          "histogram2dcontour": [
           {
            "colorbar": {
             "outlinewidth": 0,
             "ticks": ""
            },
            "colorscale": [
             [
              0,
              "#0d0887"
             ],
             [
              0.1111111111111111,
              "#46039f"
             ],
             [
              0.2222222222222222,
              "#7201a8"
             ],
             [
              0.3333333333333333,
              "#9c179e"
             ],
             [
              0.4444444444444444,
              "#bd3786"
             ],
             [
              0.5555555555555556,
              "#d8576b"
             ],
             [
              0.6666666666666666,
              "#ed7953"
             ],
             [
              0.7777777777777778,
              "#fb9f3a"
             ],
             [
              0.8888888888888888,
              "#fdca26"
             ],
             [
              1,
              "#f0f921"
             ]
            ],
            "type": "histogram2dcontour"
           }
          ],
          "mesh3d": [
           {
            "colorbar": {
             "outlinewidth": 0,
             "ticks": ""
            },
            "type": "mesh3d"
           }
          ],
          "parcoords": [
           {
            "line": {
             "colorbar": {
              "outlinewidth": 0,
              "ticks": ""
             }
            },
            "type": "parcoords"
           }
          ],
          "pie": [
           {
            "automargin": true,
            "type": "pie"
           }
          ],
          "scatter": [
           {
            "fillpattern": {
             "fillmode": "overlay",
             "size": 10,
             "solidity": 0.2
            },
            "type": "scatter"
           }
          ],
          "scatter3d": [
           {
            "line": {
             "colorbar": {
              "outlinewidth": 0,
              "ticks": ""
             }
            },
            "marker": {
             "colorbar": {
              "outlinewidth": 0,
              "ticks": ""
             }
            },
            "type": "scatter3d"
           }
          ],
          "scattercarpet": [
           {
            "marker": {
             "colorbar": {
              "outlinewidth": 0,
              "ticks": ""
             }
            },
            "type": "scattercarpet"
           }
          ],
          "scattergeo": [
           {
            "marker": {
             "colorbar": {
              "outlinewidth": 0,
              "ticks": ""
             }
            },
            "type": "scattergeo"
           }
          ],
          "scattergl": [
           {
            "marker": {
             "colorbar": {
              "outlinewidth": 0,
              "ticks": ""
             }
            },
            "type": "scattergl"
           }
          ],
          "scattermapbox": [
           {
            "marker": {
             "colorbar": {
              "outlinewidth": 0,
              "ticks": ""
             }
            },
            "type": "scattermapbox"
           }
          ],
          "scatterpolar": [
           {
            "marker": {
             "colorbar": {
              "outlinewidth": 0,
              "ticks": ""
             }
            },
            "type": "scatterpolar"
           }
          ],
          "scatterpolargl": [
           {
            "marker": {
             "colorbar": {
              "outlinewidth": 0,
              "ticks": ""
             }
            },
            "type": "scatterpolargl"
           }
          ],
          "scatterternary": [
           {
            "marker": {
             "colorbar": {
              "outlinewidth": 0,
              "ticks": ""
             }
            },
            "type": "scatterternary"
           }
          ],
          "surface": [
           {
            "colorbar": {
             "outlinewidth": 0,
             "ticks": ""
            },
            "colorscale": [
             [
              0,
              "#0d0887"
             ],
             [
              0.1111111111111111,
              "#46039f"
             ],
             [
              0.2222222222222222,
              "#7201a8"
             ],
             [
              0.3333333333333333,
              "#9c179e"
             ],
             [
              0.4444444444444444,
              "#bd3786"
             ],
             [
              0.5555555555555556,
              "#d8576b"
             ],
             [
              0.6666666666666666,
              "#ed7953"
             ],
             [
              0.7777777777777778,
              "#fb9f3a"
             ],
             [
              0.8888888888888888,
              "#fdca26"
             ],
             [
              1,
              "#f0f921"
             ]
            ],
            "type": "surface"
           }
          ],
          "table": [
           {
            "cells": {
             "fill": {
              "color": "#EBF0F8"
             },
             "line": {
              "color": "white"
             }
            },
            "header": {
             "fill": {
              "color": "#C8D4E3"
             },
             "line": {
              "color": "white"
             }
            },
            "type": "table"
           }
          ]
         },
         "layout": {
          "annotationdefaults": {
           "arrowcolor": "#2a3f5f",
           "arrowhead": 0,
           "arrowwidth": 1
          },
          "autotypenumbers": "strict",
          "coloraxis": {
           "colorbar": {
            "outlinewidth": 0,
            "ticks": ""
           }
          },
          "colorscale": {
           "diverging": [
            [
             0,
             "#8e0152"
            ],
            [
             0.1,
             "#c51b7d"
            ],
            [
             0.2,
             "#de77ae"
            ],
            [
             0.3,
             "#f1b6da"
            ],
            [
             0.4,
             "#fde0ef"
            ],
            [
             0.5,
             "#f7f7f7"
            ],
            [
             0.6,
             "#e6f5d0"
            ],
            [
             0.7,
             "#b8e186"
            ],
            [
             0.8,
             "#7fbc41"
            ],
            [
             0.9,
             "#4d9221"
            ],
            [
             1,
             "#276419"
            ]
           ],
           "sequential": [
            [
             0,
             "#0d0887"
            ],
            [
             0.1111111111111111,
             "#46039f"
            ],
            [
             0.2222222222222222,
             "#7201a8"
            ],
            [
             0.3333333333333333,
             "#9c179e"
            ],
            [
             0.4444444444444444,
             "#bd3786"
            ],
            [
             0.5555555555555556,
             "#d8576b"
            ],
            [
             0.6666666666666666,
             "#ed7953"
            ],
            [
             0.7777777777777778,
             "#fb9f3a"
            ],
            [
             0.8888888888888888,
             "#fdca26"
            ],
            [
             1,
             "#f0f921"
            ]
           ],
           "sequentialminus": [
            [
             0,
             "#0d0887"
            ],
            [
             0.1111111111111111,
             "#46039f"
            ],
            [
             0.2222222222222222,
             "#7201a8"
            ],
            [
             0.3333333333333333,
             "#9c179e"
            ],
            [
             0.4444444444444444,
             "#bd3786"
            ],
            [
             0.5555555555555556,
             "#d8576b"
            ],
            [
             0.6666666666666666,
             "#ed7953"
            ],
            [
             0.7777777777777778,
             "#fb9f3a"
            ],
            [
             0.8888888888888888,
             "#fdca26"
            ],
            [
             1,
             "#f0f921"
            ]
           ]
          },
          "colorway": [
           "#636efa",
           "#EF553B",
           "#00cc96",
           "#ab63fa",
           "#FFA15A",
           "#19d3f3",
           "#FF6692",
           "#B6E880",
           "#FF97FF",
           "#FECB52"
          ],
          "font": {
           "color": "#2a3f5f"
          },
          "geo": {
           "bgcolor": "white",
           "lakecolor": "white",
           "landcolor": "#E5ECF6",
           "showlakes": true,
           "showland": true,
           "subunitcolor": "white"
          },
          "hoverlabel": {
           "align": "left"
          },
          "hovermode": "closest",
          "mapbox": {
           "style": "light"
          },
          "paper_bgcolor": "white",
          "plot_bgcolor": "#E5ECF6",
          "polar": {
           "angularaxis": {
            "gridcolor": "white",
            "linecolor": "white",
            "ticks": ""
           },
           "bgcolor": "#E5ECF6",
           "radialaxis": {
            "gridcolor": "white",
            "linecolor": "white",
            "ticks": ""
           }
          },
          "scene": {
           "xaxis": {
            "backgroundcolor": "#E5ECF6",
            "gridcolor": "white",
            "gridwidth": 2,
            "linecolor": "white",
            "showbackground": true,
            "ticks": "",
            "zerolinecolor": "white"
           },
           "yaxis": {
            "backgroundcolor": "#E5ECF6",
            "gridcolor": "white",
            "gridwidth": 2,
            "linecolor": "white",
            "showbackground": true,
            "ticks": "",
            "zerolinecolor": "white"
           },
           "zaxis": {
            "backgroundcolor": "#E5ECF6",
            "gridcolor": "white",
            "gridwidth": 2,
            "linecolor": "white",
            "showbackground": true,
            "ticks": "",
            "zerolinecolor": "white"
           }
          },
          "shapedefaults": {
           "line": {
            "color": "#2a3f5f"
           }
          },
          "ternary": {
           "aaxis": {
            "gridcolor": "white",
            "linecolor": "white",
            "ticks": ""
           },
           "baxis": {
            "gridcolor": "white",
            "linecolor": "white",
            "ticks": ""
           },
           "bgcolor": "#E5ECF6",
           "caxis": {
            "gridcolor": "white",
            "linecolor": "white",
            "ticks": ""
           }
          },
          "title": {
           "x": 0.05
          },
          "xaxis": {
           "automargin": true,
           "gridcolor": "white",
           "linecolor": "white",
           "ticks": "",
           "title": {
            "standoff": 15
           },
           "zerolinecolor": "white",
           "zerolinewidth": 2
          },
          "yaxis": {
           "automargin": true,
           "gridcolor": "white",
           "linecolor": "white",
           "ticks": "",
           "title": {
            "standoff": 15
           },
           "zerolinecolor": "white",
           "zerolinewidth": 2
          }
         }
        },
        "title": {
         "font": {
          "color": "#4D5663"
         },
         "text": "Quantity per Invoice [EIRE]"
        },
        "xaxis": {
         "gridcolor": "#E1E5ED",
         "showgrid": true,
         "tickfont": {
          "color": "#4D5663"
         },
         "title": {
          "font": {
           "color": "#4D5663"
          },
          "text": ""
         },
         "zerolinecolor": "#E1E5ED"
        },
        "yaxis": {
         "gridcolor": "#E1E5ED",
         "showgrid": true,
         "tickfont": {
          "color": "#4D5663"
         },
         "title": {
          "font": {
           "color": "#4D5663"
          },
          "text": ""
         },
         "zerolinecolor": "#E1E5ED"
        }
       }
      },
      "text/html": [
       "<div>                            <div id=\"c2fb7be3-aeac-4c4e-86ed-241e5999f49a\" class=\"plotly-graph-div\" style=\"height:525px; width:100%;\"></div>            <script type=\"text/javascript\">                require([\"plotly\"], function(Plotly) {                    window.PLOTLYENV=window.PLOTLYENV || {};\n",
       "                    window.PLOTLYENV.BASE_URL='https://plot.ly';                                    if (document.getElementById(\"c2fb7be3-aeac-4c4e-86ed-241e5999f49a\")) {                    Plotly.newPlot(                        \"c2fb7be3-aeac-4c4e-86ed-241e5999f49a\",                        [{\"histfunc\":\"count\",\"histnorm\":\"\",\"marker\":{\"color\":\"rgba(255, 153, 51, 1.0)\",\"line\":{\"color\":\"#4D5663\",\"width\":1.3}},\"name\":\"InvoiceNo\",\"nbinsx\":256,\"opacity\":0.8,\"orientation\":\"v\",\"x\":[536540,536541,536803,536890,536975,537368,537378,537386,538009,538255,539320,539421,539473,539722,539984,540547,541220,541434,541670,541979,542216,542278,542777,543114,543178,543828,544074,544075,544210,544390,544690,545320,545634,545657,546172,546212,546213,546263,546509,546520,546541,546569,546580,546660,546861,546917,547048,547702,547789,547882,548449,548664,548718,548858,549118,549196,549242,549667,549721,550302,550618,551187,551656,551657,551950,552038,552262,553203,553206,553210,553348,553375,553686,553897,553901,553931,554139,554770,554776,554791,555650,555858,555947,556060,556126,556206,556510,556927,556928,556953,557136,557318,557605,557742,557759,557872,557880,558067,558069,558113,558114,558417,558431,558613,558640,558644,558684,559010,560036,560041,560300,560445,560446,560451,560534,560894,560916,560922,561257,561471,561472,561631,561645,561798,561870,561901,562374,562560,562670,562935,562960,562973,563098,563169,563355,563558,563559,563685,563848,563913,564565,564654,565213,565214,565289,565412,565475,565476,565748,565749,565800,565851,565857,565916,566625,566776,566846,567334,567378,567428,567616,567720,567899,567900,568048,568095,568221,568310,568417,568654,568656,568698,568706,568707,569010,569028,569130,569739,570016,570253,570388,570485,570651,570657,570674,570694,570700,570703,570706,570839,571129,571313,571314,571377,571409,571425,571446,571447,571559,571562,571745,571937,572069,572124,572127,572459,573391,573581,573748,573892,574745,574841,574874,574938,575486,575728,575735,575751,575871,575933,576051,576141,576371,576595,576596,576602,576603,576653,576880,576899,577061,577355,577479,577607,577613,577850,578054,578093,578105,578331,578792,578994,579069,579102,579539,579553,579768,579910,580127,580528,580555,580557,581003,581006,581098,581433],\"type\":\"histogram\"}],                        {\"barmode\":\"overlay\",\"legend\":{\"bgcolor\":\"#F5F6F9\",\"font\":{\"color\":\"#4D5663\"}},\"paper_bgcolor\":\"#F5F6F9\",\"plot_bgcolor\":\"#F5F6F9\",\"template\":{\"data\":{\"barpolar\":[{\"marker\":{\"line\":{\"color\":\"#E5ECF6\",\"width\":0.5},\"pattern\":{\"fillmode\":\"overlay\",\"size\":10,\"solidity\":0.2}},\"type\":\"barpolar\"}],\"bar\":[{\"error_x\":{\"color\":\"#2a3f5f\"},\"error_y\":{\"color\":\"#2a3f5f\"},\"marker\":{\"line\":{\"color\":\"#E5ECF6\",\"width\":0.5},\"pattern\":{\"fillmode\":\"overlay\",\"size\":10,\"solidity\":0.2}},\"type\":\"bar\"}],\"carpet\":[{\"aaxis\":{\"endlinecolor\":\"#2a3f5f\",\"gridcolor\":\"white\",\"linecolor\":\"white\",\"minorgridcolor\":\"white\",\"startlinecolor\":\"#2a3f5f\"},\"baxis\":{\"endlinecolor\":\"#2a3f5f\",\"gridcolor\":\"white\",\"linecolor\":\"white\",\"minorgridcolor\":\"white\",\"startlinecolor\":\"#2a3f5f\"},\"type\":\"carpet\"}],\"choropleth\":[{\"colorbar\":{\"outlinewidth\":0,\"ticks\":\"\"},\"type\":\"choropleth\"}],\"contourcarpet\":[{\"colorbar\":{\"outlinewidth\":0,\"ticks\":\"\"},\"type\":\"contourcarpet\"}],\"contour\":[{\"colorbar\":{\"outlinewidth\":0,\"ticks\":\"\"},\"colorscale\":[[0.0,\"#0d0887\"],[0.1111111111111111,\"#46039f\"],[0.2222222222222222,\"#7201a8\"],[0.3333333333333333,\"#9c179e\"],[0.4444444444444444,\"#bd3786\"],[0.5555555555555556,\"#d8576b\"],[0.6666666666666666,\"#ed7953\"],[0.7777777777777778,\"#fb9f3a\"],[0.8888888888888888,\"#fdca26\"],[1.0,\"#f0f921\"]],\"type\":\"contour\"}],\"heatmapgl\":[{\"colorbar\":{\"outlinewidth\":0,\"ticks\":\"\"},\"colorscale\":[[0.0,\"#0d0887\"],[0.1111111111111111,\"#46039f\"],[0.2222222222222222,\"#7201a8\"],[0.3333333333333333,\"#9c179e\"],[0.4444444444444444,\"#bd3786\"],[0.5555555555555556,\"#d8576b\"],[0.6666666666666666,\"#ed7953\"],[0.7777777777777778,\"#fb9f3a\"],[0.8888888888888888,\"#fdca26\"],[1.0,\"#f0f921\"]],\"type\":\"heatmapgl\"}],\"heatmap\":[{\"colorbar\":{\"outlinewidth\":0,\"ticks\":\"\"},\"colorscale\":[[0.0,\"#0d0887\"],[0.1111111111111111,\"#46039f\"],[0.2222222222222222,\"#7201a8\"],[0.3333333333333333,\"#9c179e\"],[0.4444444444444444,\"#bd3786\"],[0.5555555555555556,\"#d8576b\"],[0.6666666666666666,\"#ed7953\"],[0.7777777777777778,\"#fb9f3a\"],[0.8888888888888888,\"#fdca26\"],[1.0,\"#f0f921\"]],\"type\":\"heatmap\"}],\"histogram2dcontour\":[{\"colorbar\":{\"outlinewidth\":0,\"ticks\":\"\"},\"colorscale\":[[0.0,\"#0d0887\"],[0.1111111111111111,\"#46039f\"],[0.2222222222222222,\"#7201a8\"],[0.3333333333333333,\"#9c179e\"],[0.4444444444444444,\"#bd3786\"],[0.5555555555555556,\"#d8576b\"],[0.6666666666666666,\"#ed7953\"],[0.7777777777777778,\"#fb9f3a\"],[0.8888888888888888,\"#fdca26\"],[1.0,\"#f0f921\"]],\"type\":\"histogram2dcontour\"}],\"histogram2d\":[{\"colorbar\":{\"outlinewidth\":0,\"ticks\":\"\"},\"colorscale\":[[0.0,\"#0d0887\"],[0.1111111111111111,\"#46039f\"],[0.2222222222222222,\"#7201a8\"],[0.3333333333333333,\"#9c179e\"],[0.4444444444444444,\"#bd3786\"],[0.5555555555555556,\"#d8576b\"],[0.6666666666666666,\"#ed7953\"],[0.7777777777777778,\"#fb9f3a\"],[0.8888888888888888,\"#fdca26\"],[1.0,\"#f0f921\"]],\"type\":\"histogram2d\"}],\"histogram\":[{\"marker\":{\"pattern\":{\"fillmode\":\"overlay\",\"size\":10,\"solidity\":0.2}},\"type\":\"histogram\"}],\"mesh3d\":[{\"colorbar\":{\"outlinewidth\":0,\"ticks\":\"\"},\"type\":\"mesh3d\"}],\"parcoords\":[{\"line\":{\"colorbar\":{\"outlinewidth\":0,\"ticks\":\"\"}},\"type\":\"parcoords\"}],\"pie\":[{\"automargin\":true,\"type\":\"pie\"}],\"scatter3d\":[{\"line\":{\"colorbar\":{\"outlinewidth\":0,\"ticks\":\"\"}},\"marker\":{\"colorbar\":{\"outlinewidth\":0,\"ticks\":\"\"}},\"type\":\"scatter3d\"}],\"scattercarpet\":[{\"marker\":{\"colorbar\":{\"outlinewidth\":0,\"ticks\":\"\"}},\"type\":\"scattercarpet\"}],\"scattergeo\":[{\"marker\":{\"colorbar\":{\"outlinewidth\":0,\"ticks\":\"\"}},\"type\":\"scattergeo\"}],\"scattergl\":[{\"marker\":{\"colorbar\":{\"outlinewidth\":0,\"ticks\":\"\"}},\"type\":\"scattergl\"}],\"scattermapbox\":[{\"marker\":{\"colorbar\":{\"outlinewidth\":0,\"ticks\":\"\"}},\"type\":\"scattermapbox\"}],\"scatterpolargl\":[{\"marker\":{\"colorbar\":{\"outlinewidth\":0,\"ticks\":\"\"}},\"type\":\"scatterpolargl\"}],\"scatterpolar\":[{\"marker\":{\"colorbar\":{\"outlinewidth\":0,\"ticks\":\"\"}},\"type\":\"scatterpolar\"}],\"scatter\":[{\"fillpattern\":{\"fillmode\":\"overlay\",\"size\":10,\"solidity\":0.2},\"type\":\"scatter\"}],\"scatterternary\":[{\"marker\":{\"colorbar\":{\"outlinewidth\":0,\"ticks\":\"\"}},\"type\":\"scatterternary\"}],\"surface\":[{\"colorbar\":{\"outlinewidth\":0,\"ticks\":\"\"},\"colorscale\":[[0.0,\"#0d0887\"],[0.1111111111111111,\"#46039f\"],[0.2222222222222222,\"#7201a8\"],[0.3333333333333333,\"#9c179e\"],[0.4444444444444444,\"#bd3786\"],[0.5555555555555556,\"#d8576b\"],[0.6666666666666666,\"#ed7953\"],[0.7777777777777778,\"#fb9f3a\"],[0.8888888888888888,\"#fdca26\"],[1.0,\"#f0f921\"]],\"type\":\"surface\"}],\"table\":[{\"cells\":{\"fill\":{\"color\":\"#EBF0F8\"},\"line\":{\"color\":\"white\"}},\"header\":{\"fill\":{\"color\":\"#C8D4E3\"},\"line\":{\"color\":\"white\"}},\"type\":\"table\"}]},\"layout\":{\"annotationdefaults\":{\"arrowcolor\":\"#2a3f5f\",\"arrowhead\":0,\"arrowwidth\":1},\"autotypenumbers\":\"strict\",\"coloraxis\":{\"colorbar\":{\"outlinewidth\":0,\"ticks\":\"\"}},\"colorscale\":{\"diverging\":[[0,\"#8e0152\"],[0.1,\"#c51b7d\"],[0.2,\"#de77ae\"],[0.3,\"#f1b6da\"],[0.4,\"#fde0ef\"],[0.5,\"#f7f7f7\"],[0.6,\"#e6f5d0\"],[0.7,\"#b8e186\"],[0.8,\"#7fbc41\"],[0.9,\"#4d9221\"],[1,\"#276419\"]],\"sequential\":[[0.0,\"#0d0887\"],[0.1111111111111111,\"#46039f\"],[0.2222222222222222,\"#7201a8\"],[0.3333333333333333,\"#9c179e\"],[0.4444444444444444,\"#bd3786\"],[0.5555555555555556,\"#d8576b\"],[0.6666666666666666,\"#ed7953\"],[0.7777777777777778,\"#fb9f3a\"],[0.8888888888888888,\"#fdca26\"],[1.0,\"#f0f921\"]],\"sequentialminus\":[[0.0,\"#0d0887\"],[0.1111111111111111,\"#46039f\"],[0.2222222222222222,\"#7201a8\"],[0.3333333333333333,\"#9c179e\"],[0.4444444444444444,\"#bd3786\"],[0.5555555555555556,\"#d8576b\"],[0.6666666666666666,\"#ed7953\"],[0.7777777777777778,\"#fb9f3a\"],[0.8888888888888888,\"#fdca26\"],[1.0,\"#f0f921\"]]},\"colorway\":[\"#636efa\",\"#EF553B\",\"#00cc96\",\"#ab63fa\",\"#FFA15A\",\"#19d3f3\",\"#FF6692\",\"#B6E880\",\"#FF97FF\",\"#FECB52\"],\"font\":{\"color\":\"#2a3f5f\"},\"geo\":{\"bgcolor\":\"white\",\"lakecolor\":\"white\",\"landcolor\":\"#E5ECF6\",\"showlakes\":true,\"showland\":true,\"subunitcolor\":\"white\"},\"hoverlabel\":{\"align\":\"left\"},\"hovermode\":\"closest\",\"mapbox\":{\"style\":\"light\"},\"paper_bgcolor\":\"white\",\"plot_bgcolor\":\"#E5ECF6\",\"polar\":{\"angularaxis\":{\"gridcolor\":\"white\",\"linecolor\":\"white\",\"ticks\":\"\"},\"bgcolor\":\"#E5ECF6\",\"radialaxis\":{\"gridcolor\":\"white\",\"linecolor\":\"white\",\"ticks\":\"\"}},\"scene\":{\"xaxis\":{\"backgroundcolor\":\"#E5ECF6\",\"gridcolor\":\"white\",\"gridwidth\":2,\"linecolor\":\"white\",\"showbackground\":true,\"ticks\":\"\",\"zerolinecolor\":\"white\"},\"yaxis\":{\"backgroundcolor\":\"#E5ECF6\",\"gridcolor\":\"white\",\"gridwidth\":2,\"linecolor\":\"white\",\"showbackground\":true,\"ticks\":\"\",\"zerolinecolor\":\"white\"},\"zaxis\":{\"backgroundcolor\":\"#E5ECF6\",\"gridcolor\":\"white\",\"gridwidth\":2,\"linecolor\":\"white\",\"showbackground\":true,\"ticks\":\"\",\"zerolinecolor\":\"white\"}},\"shapedefaults\":{\"line\":{\"color\":\"#2a3f5f\"}},\"ternary\":{\"aaxis\":{\"gridcolor\":\"white\",\"linecolor\":\"white\",\"ticks\":\"\"},\"baxis\":{\"gridcolor\":\"white\",\"linecolor\":\"white\",\"ticks\":\"\"},\"bgcolor\":\"#E5ECF6\",\"caxis\":{\"gridcolor\":\"white\",\"linecolor\":\"white\",\"ticks\":\"\"}},\"title\":{\"x\":0.05},\"xaxis\":{\"automargin\":true,\"gridcolor\":\"white\",\"linecolor\":\"white\",\"ticks\":\"\",\"title\":{\"standoff\":15},\"zerolinecolor\":\"white\",\"zerolinewidth\":2},\"yaxis\":{\"automargin\":true,\"gridcolor\":\"white\",\"linecolor\":\"white\",\"ticks\":\"\",\"title\":{\"standoff\":15},\"zerolinecolor\":\"white\",\"zerolinewidth\":2}}},\"title\":{\"font\":{\"color\":\"#4D5663\"},\"text\":\"Quantity per Invoice [EIRE]\"},\"xaxis\":{\"gridcolor\":\"#E1E5ED\",\"showgrid\":true,\"tickfont\":{\"color\":\"#4D5663\"},\"title\":{\"font\":{\"color\":\"#4D5663\"},\"text\":\"\"},\"zerolinecolor\":\"#E1E5ED\"},\"yaxis\":{\"gridcolor\":\"#E1E5ED\",\"showgrid\":true,\"tickfont\":{\"color\":\"#4D5663\"},\"title\":{\"font\":{\"color\":\"#4D5663\"},\"text\":\"\"},\"zerolinecolor\":\"#E1E5ED\"}},                        {\"showLink\": true, \"linkText\": \"Export to plot.ly\", \"plotlyServerURL\": \"https://plot.ly\", \"responsive\": true}                    ).then(function(){\n",
       "                            \n",
       "var gd = document.getElementById('c2fb7be3-aeac-4c4e-86ed-241e5999f49a');\n",
       "var x = new MutationObserver(function (mutations, observer) {{\n",
       "        var display = window.getComputedStyle(gd).display;\n",
       "        if (!display || display === 'none') {{\n",
       "            console.log([gd, 'removed!']);\n",
       "            Plotly.purge(gd);\n",
       "            observer.disconnect();\n",
       "        }}\n",
       "}});\n",
       "\n",
       "// Listen for the removal of the full notebook cells\n",
       "var notebookContainer = gd.closest('#notebook-container');\n",
       "if (notebookContainer) {{\n",
       "    x.observe(notebookContainer, {childList: true});\n",
       "}}\n",
       "\n",
       "// Listen for the clearing of the current output cell\n",
       "var outputEl = gd.closest('.output');\n",
       "if (outputEl) {{\n",
       "    x.observe(outputEl, {childList: true});\n",
       "}}\n",
       "\n",
       "                        })                };                });            </script>        </div>"
      ]
     },
     "metadata": {},
     "output_type": "display_data"
    },
    {
     "data": {
      "application/vnd.plotly.v1+json": {
       "config": {
        "linkText": "Export to plot.ly",
        "plotlyServerURL": "https://plot.ly",
        "showLink": true
       },
       "data": [
        {
         "histfunc": "count",
         "histnorm": "",
         "marker": {
          "color": "rgba(255, 153, 51, 1.0)",
          "line": {
           "color": "#4D5663",
           "width": 1.3
          }
         },
         "name": "InvoiceNo",
         "nbinsx": 443,
         "opacity": 0.8,
         "orientation": "v",
         "type": "histogram",
         "x": [
          536527,
          536840,
          536861,
          536967,
          536983,
          537197,
          537198,
          537201,
          537212,
          537250,
          537594,
          537673,
          537892,
          537894,
          537995,
          538174,
          538644,
          539327,
          539395,
          539398,
          539401,
          539403,
          539405,
          539408,
          539446,
          539466,
          539636,
          539946,
          539957,
          540410,
          540414,
          540458,
          540480,
          540553,
          540562,
          540769,
          540900,
          541093,
          541122,
          541125,
          541224,
          541269,
          541277,
          541480,
          541517,
          541877,
          541962,
          541965,
          542080,
          542106,
          542128,
          542215,
          542229,
          542369,
          542371,
          542375,
          542621,
          542626,
          542648,
          542713,
          542782,
          542926,
          543048,
          543056,
          543121,
          543492,
          543550,
          543587,
          543737,
          543833,
          543900,
          544281,
          544302,
          544340,
          544483,
          544573,
          544811,
          544933,
          544996,
          545295,
          545533,
          545557,
          545706,
          545709,
          545718,
          545916,
          545988,
          545994,
          546365,
          546759,
          546843,
          546851,
          546919,
          546920,
          546921,
          546925,
          547005,
          547071,
          547085,
          547379,
          547383,
          547715,
          547821,
          547822,
          547925,
          547926,
          547934,
          548320,
          548412,
          548489,
          548654,
          548745,
          548746,
          549193,
          549316,
          549434,
          549614,
          549680,
          550002,
          550004,
          550137,
          550162,
          550178,
          550187,
          550527,
          550620,
          550625,
          550665,
          550946,
          550960,
          551258,
          551467,
          551529,
          551728,
          551729,
          551818,
          551820,
          551886,
          552008,
          552211,
          552337,
          552649,
          552656,
          552844,
          552871,
          552874,
          552875,
          552878,
          552978,
          553037,
          553038,
          553547,
          553731,
          553732,
          553741,
          553842,
          553884,
          553885,
          554104,
          554106,
          554137,
          554263,
          554324,
          554325,
          554363,
          554699,
          554700,
          554711,
          554713,
          554794,
          554861,
          554985,
          555093,
          555162,
          555282,
          555383,
          555417,
          555523,
          555553,
          555719,
          556114,
          556118,
          556443,
          556469,
          556509,
          556517,
          556578,
          557055,
          557056,
          557466,
          557569,
          557850,
          557972,
          558109,
          558608,
          558626,
          558628,
          558717,
          558881,
          559298,
          559300,
          559316,
          559362,
          559421,
          559710,
          559797,
          559798,
          559899,
          559987,
          560038,
          560202,
          560211,
          560230,
          560544,
          560545,
          560566,
          560569,
          560590,
          560635,
          560728,
          560876,
          560901,
          560997,
          561037,
          561094,
          561194,
          561468,
          561583,
          561911,
          562035,
          562038,
          562045,
          562137,
          562370,
          562435,
          562527,
          562537,
          562568,
          562605,
          562729,
          563345,
          563373,
          563540,
          563548,
          563776,
          563808,
          563914,
          563950,
          564039,
          564079,
          564140,
          564216,
          564309,
          564328,
          564329,
          564337,
          564338,
          564360,
          564367,
          564475,
          564638,
          564666,
          564749,
          564856,
          564972,
          565261,
          565416,
          565423,
          565430,
          565440,
          565442,
          565759,
          565760,
          565765,
          565777,
          566041,
          566054,
          566059,
          566233,
          566267,
          566268,
          566586,
          566739,
          566984,
          566987,
          567134,
          567291,
          567298,
          567305,
          567336,
          567512,
          567578,
          567666,
          567904,
          567914,
          567924,
          567958,
          567959,
          568056,
          568103,
          568350,
          568472,
          568674,
          568987,
          569001,
          569017,
          569562,
          569563,
          569640,
          569721,
          569727,
          569844,
          569860,
          569861,
          569867,
          569893,
          569907,
          570002,
          570007,
          570082,
          570095,
          570189,
          570452,
          570637,
          570640,
          570718,
          570754,
          570784,
          570792,
          570881,
          571065,
          571215,
          571227,
          571304,
          571308,
          571312,
          571328,
          571556,
          571565,
          571658,
          571724,
          571729,
          571739,
          571824,
          571904,
          572054,
          572060,
          572061,
          572134,
          572241,
          572559,
          572560,
          572894,
          572895,
          573106,
          573136,
          573284,
          573289,
          573417,
          573424,
          573430,
          573629,
          574071,
          574097,
          574255,
          574653,
          574679,
          574713,
          574869,
          574885,
          575352,
          575498,
          575713,
          575732,
          575733,
          575750,
          575787,
          575886,
          575896,
          576322,
          576327,
          576390,
          576607,
          576629,
          576630,
          576657,
          576787,
          576789,
          576790,
          576863,
          576869,
          576890,
          576891,
          576893,
          576909,
          576910,
          577027,
          577054,
          577135,
          577168,
          577299,
          577301,
          577406,
          577615,
          577776,
          578024,
          578043,
          578273,
          578295,
          578298,
          578333,
          578469,
          578472,
          578509,
          578547,
          578550,
          578626,
          578705,
          579094,
          579152,
          579276,
          579393,
          579416,
          579419,
          579747,
          579786,
          579901,
          579927,
          580154,
          580511,
          580512,
          580531,
          580548,
          580648,
          581000,
          581179,
          581183,
          581184,
          581266,
          581494,
          581570,
          581574,
          581578
         ]
        }
       ],
       "layout": {
        "barmode": "overlay",
        "legend": {
         "bgcolor": "#F5F6F9",
         "font": {
          "color": "#4D5663"
         }
        },
        "paper_bgcolor": "#F5F6F9",
        "plot_bgcolor": "#F5F6F9",
        "template": {
         "data": {
          "bar": [
           {
            "error_x": {
             "color": "#2a3f5f"
            },
            "error_y": {
             "color": "#2a3f5f"
            },
            "marker": {
             "line": {
              "color": "#E5ECF6",
              "width": 0.5
             },
             "pattern": {
              "fillmode": "overlay",
              "size": 10,
              "solidity": 0.2
             }
            },
            "type": "bar"
           }
          ],
          "barpolar": [
           {
            "marker": {
             "line": {
              "color": "#E5ECF6",
              "width": 0.5
             },
             "pattern": {
              "fillmode": "overlay",
              "size": 10,
              "solidity": 0.2
             }
            },
            "type": "barpolar"
           }
          ],
          "carpet": [
           {
            "aaxis": {
             "endlinecolor": "#2a3f5f",
             "gridcolor": "white",
             "linecolor": "white",
             "minorgridcolor": "white",
             "startlinecolor": "#2a3f5f"
            },
            "baxis": {
             "endlinecolor": "#2a3f5f",
             "gridcolor": "white",
             "linecolor": "white",
             "minorgridcolor": "white",
             "startlinecolor": "#2a3f5f"
            },
            "type": "carpet"
           }
          ],
          "choropleth": [
           {
            "colorbar": {
             "outlinewidth": 0,
             "ticks": ""
            },
            "type": "choropleth"
           }
          ],
          "contour": [
           {
            "colorbar": {
             "outlinewidth": 0,
             "ticks": ""
            },
            "colorscale": [
             [
              0,
              "#0d0887"
             ],
             [
              0.1111111111111111,
              "#46039f"
             ],
             [
              0.2222222222222222,
              "#7201a8"
             ],
             [
              0.3333333333333333,
              "#9c179e"
             ],
             [
              0.4444444444444444,
              "#bd3786"
             ],
             [
              0.5555555555555556,
              "#d8576b"
             ],
             [
              0.6666666666666666,
              "#ed7953"
             ],
             [
              0.7777777777777778,
              "#fb9f3a"
             ],
             [
              0.8888888888888888,
              "#fdca26"
             ],
             [
              1,
              "#f0f921"
             ]
            ],
            "type": "contour"
           }
          ],
          "contourcarpet": [
           {
            "colorbar": {
             "outlinewidth": 0,
             "ticks": ""
            },
            "type": "contourcarpet"
           }
          ],
          "heatmap": [
           {
            "colorbar": {
             "outlinewidth": 0,
             "ticks": ""
            },
            "colorscale": [
             [
              0,
              "#0d0887"
             ],
             [
              0.1111111111111111,
              "#46039f"
             ],
             [
              0.2222222222222222,
              "#7201a8"
             ],
             [
              0.3333333333333333,
              "#9c179e"
             ],
             [
              0.4444444444444444,
              "#bd3786"
             ],
             [
              0.5555555555555556,
              "#d8576b"
             ],
             [
              0.6666666666666666,
              "#ed7953"
             ],
             [
              0.7777777777777778,
              "#fb9f3a"
             ],
             [
              0.8888888888888888,
              "#fdca26"
             ],
             [
              1,
              "#f0f921"
             ]
            ],
            "type": "heatmap"
           }
          ],
          "heatmapgl": [
           {
            "colorbar": {
             "outlinewidth": 0,
             "ticks": ""
            },
            "colorscale": [
             [
              0,
              "#0d0887"
             ],
             [
              0.1111111111111111,
              "#46039f"
             ],
             [
              0.2222222222222222,
              "#7201a8"
             ],
             [
              0.3333333333333333,
              "#9c179e"
             ],
             [
              0.4444444444444444,
              "#bd3786"
             ],
             [
              0.5555555555555556,
              "#d8576b"
             ],
             [
              0.6666666666666666,
              "#ed7953"
             ],
             [
              0.7777777777777778,
              "#fb9f3a"
             ],
             [
              0.8888888888888888,
              "#fdca26"
             ],
             [
              1,
              "#f0f921"
             ]
            ],
            "type": "heatmapgl"
           }
          ],
          "histogram": [
           {
            "marker": {
             "pattern": {
              "fillmode": "overlay",
              "size": 10,
              "solidity": 0.2
             }
            },
            "type": "histogram"
           }
          ],
          "histogram2d": [
           {
            "colorbar": {
             "outlinewidth": 0,
             "ticks": ""
            },
            "colorscale": [
             [
              0,
              "#0d0887"
             ],
             [
              0.1111111111111111,
              "#46039f"
             ],
             [
              0.2222222222222222,
              "#7201a8"
             ],
             [
              0.3333333333333333,
              "#9c179e"
             ],
             [
              0.4444444444444444,
              "#bd3786"
             ],
             [
              0.5555555555555556,
              "#d8576b"
             ],
             [
              0.6666666666666666,
              "#ed7953"
             ],
             [
              0.7777777777777778,
              "#fb9f3a"
             ],
             [
              0.8888888888888888,
              "#fdca26"
             ],
             [
              1,
              "#f0f921"
             ]
            ],
            "type": "histogram2d"
           }
          ],
          "histogram2dcontour": [
           {
            "colorbar": {
             "outlinewidth": 0,
             "ticks": ""
            },
            "colorscale": [
             [
              0,
              "#0d0887"
             ],
             [
              0.1111111111111111,
              "#46039f"
             ],
             [
              0.2222222222222222,
              "#7201a8"
             ],
             [
              0.3333333333333333,
              "#9c179e"
             ],
             [
              0.4444444444444444,
              "#bd3786"
             ],
             [
              0.5555555555555556,
              "#d8576b"
             ],
             [
              0.6666666666666666,
              "#ed7953"
             ],
             [
              0.7777777777777778,
              "#fb9f3a"
             ],
             [
              0.8888888888888888,
              "#fdca26"
             ],
             [
              1,
              "#f0f921"
             ]
            ],
            "type": "histogram2dcontour"
           }
          ],
          "mesh3d": [
           {
            "colorbar": {
             "outlinewidth": 0,
             "ticks": ""
            },
            "type": "mesh3d"
           }
          ],
          "parcoords": [
           {
            "line": {
             "colorbar": {
              "outlinewidth": 0,
              "ticks": ""
             }
            },
            "type": "parcoords"
           }
          ],
          "pie": [
           {
            "automargin": true,
            "type": "pie"
           }
          ],
          "scatter": [
           {
            "fillpattern": {
             "fillmode": "overlay",
             "size": 10,
             "solidity": 0.2
            },
            "type": "scatter"
           }
          ],
          "scatter3d": [
           {
            "line": {
             "colorbar": {
              "outlinewidth": 0,
              "ticks": ""
             }
            },
            "marker": {
             "colorbar": {
              "outlinewidth": 0,
              "ticks": ""
             }
            },
            "type": "scatter3d"
           }
          ],
          "scattercarpet": [
           {
            "marker": {
             "colorbar": {
              "outlinewidth": 0,
              "ticks": ""
             }
            },
            "type": "scattercarpet"
           }
          ],
          "scattergeo": [
           {
            "marker": {
             "colorbar": {
              "outlinewidth": 0,
              "ticks": ""
             }
            },
            "type": "scattergeo"
           }
          ],
          "scattergl": [
           {
            "marker": {
             "colorbar": {
              "outlinewidth": 0,
              "ticks": ""
             }
            },
            "type": "scattergl"
           }
          ],
          "scattermapbox": [
           {
            "marker": {
             "colorbar": {
              "outlinewidth": 0,
              "ticks": ""
             }
            },
            "type": "scattermapbox"
           }
          ],
          "scatterpolar": [
           {
            "marker": {
             "colorbar": {
              "outlinewidth": 0,
              "ticks": ""
             }
            },
            "type": "scatterpolar"
           }
          ],
          "scatterpolargl": [
           {
            "marker": {
             "colorbar": {
              "outlinewidth": 0,
              "ticks": ""
             }
            },
            "type": "scatterpolargl"
           }
          ],
          "scatterternary": [
           {
            "marker": {
             "colorbar": {
              "outlinewidth": 0,
              "ticks": ""
             }
            },
            "type": "scatterternary"
           }
          ],
          "surface": [
           {
            "colorbar": {
             "outlinewidth": 0,
             "ticks": ""
            },
            "colorscale": [
             [
              0,
              "#0d0887"
             ],
             [
              0.1111111111111111,
              "#46039f"
             ],
             [
              0.2222222222222222,
              "#7201a8"
             ],
             [
              0.3333333333333333,
              "#9c179e"
             ],
             [
              0.4444444444444444,
              "#bd3786"
             ],
             [
              0.5555555555555556,
              "#d8576b"
             ],
             [
              0.6666666666666666,
              "#ed7953"
             ],
             [
              0.7777777777777778,
              "#fb9f3a"
             ],
             [
              0.8888888888888888,
              "#fdca26"
             ],
             [
              1,
              "#f0f921"
             ]
            ],
            "type": "surface"
           }
          ],
          "table": [
           {
            "cells": {
             "fill": {
              "color": "#EBF0F8"
             },
             "line": {
              "color": "white"
             }
            },
            "header": {
             "fill": {
              "color": "#C8D4E3"
             },
             "line": {
              "color": "white"
             }
            },
            "type": "table"
           }
          ]
         },
         "layout": {
          "annotationdefaults": {
           "arrowcolor": "#2a3f5f",
           "arrowhead": 0,
           "arrowwidth": 1
          },
          "autotypenumbers": "strict",
          "coloraxis": {
           "colorbar": {
            "outlinewidth": 0,
            "ticks": ""
           }
          },
          "colorscale": {
           "diverging": [
            [
             0,
             "#8e0152"
            ],
            [
             0.1,
             "#c51b7d"
            ],
            [
             0.2,
             "#de77ae"
            ],
            [
             0.3,
             "#f1b6da"
            ],
            [
             0.4,
             "#fde0ef"
            ],
            [
             0.5,
             "#f7f7f7"
            ],
            [
             0.6,
             "#e6f5d0"
            ],
            [
             0.7,
             "#b8e186"
            ],
            [
             0.8,
             "#7fbc41"
            ],
            [
             0.9,
             "#4d9221"
            ],
            [
             1,
             "#276419"
            ]
           ],
           "sequential": [
            [
             0,
             "#0d0887"
            ],
            [
             0.1111111111111111,
             "#46039f"
            ],
            [
             0.2222222222222222,
             "#7201a8"
            ],
            [
             0.3333333333333333,
             "#9c179e"
            ],
            [
             0.4444444444444444,
             "#bd3786"
            ],
            [
             0.5555555555555556,
             "#d8576b"
            ],
            [
             0.6666666666666666,
             "#ed7953"
            ],
            [
             0.7777777777777778,
             "#fb9f3a"
            ],
            [
             0.8888888888888888,
             "#fdca26"
            ],
            [
             1,
             "#f0f921"
            ]
           ],
           "sequentialminus": [
            [
             0,
             "#0d0887"
            ],
            [
             0.1111111111111111,
             "#46039f"
            ],
            [
             0.2222222222222222,
             "#7201a8"
            ],
            [
             0.3333333333333333,
             "#9c179e"
            ],
            [
             0.4444444444444444,
             "#bd3786"
            ],
            [
             0.5555555555555556,
             "#d8576b"
            ],
            [
             0.6666666666666666,
             "#ed7953"
            ],
            [
             0.7777777777777778,
             "#fb9f3a"
            ],
            [
             0.8888888888888888,
             "#fdca26"
            ],
            [
             1,
             "#f0f921"
            ]
           ]
          },
          "colorway": [
           "#636efa",
           "#EF553B",
           "#00cc96",
           "#ab63fa",
           "#FFA15A",
           "#19d3f3",
           "#FF6692",
           "#B6E880",
           "#FF97FF",
           "#FECB52"
          ],
          "font": {
           "color": "#2a3f5f"
          },
          "geo": {
           "bgcolor": "white",
           "lakecolor": "white",
           "landcolor": "#E5ECF6",
           "showlakes": true,
           "showland": true,
           "subunitcolor": "white"
          },
          "hoverlabel": {
           "align": "left"
          },
          "hovermode": "closest",
          "mapbox": {
           "style": "light"
          },
          "paper_bgcolor": "white",
          "plot_bgcolor": "#E5ECF6",
          "polar": {
           "angularaxis": {
            "gridcolor": "white",
            "linecolor": "white",
            "ticks": ""
           },
           "bgcolor": "#E5ECF6",
           "radialaxis": {
            "gridcolor": "white",
            "linecolor": "white",
            "ticks": ""
           }
          },
          "scene": {
           "xaxis": {
            "backgroundcolor": "#E5ECF6",
            "gridcolor": "white",
            "gridwidth": 2,
            "linecolor": "white",
            "showbackground": true,
            "ticks": "",
            "zerolinecolor": "white"
           },
           "yaxis": {
            "backgroundcolor": "#E5ECF6",
            "gridcolor": "white",
            "gridwidth": 2,
            "linecolor": "white",
            "showbackground": true,
            "ticks": "",
            "zerolinecolor": "white"
           },
           "zaxis": {
            "backgroundcolor": "#E5ECF6",
            "gridcolor": "white",
            "gridwidth": 2,
            "linecolor": "white",
            "showbackground": true,
            "ticks": "",
            "zerolinecolor": "white"
           }
          },
          "shapedefaults": {
           "line": {
            "color": "#2a3f5f"
           }
          },
          "ternary": {
           "aaxis": {
            "gridcolor": "white",
            "linecolor": "white",
            "ticks": ""
           },
           "baxis": {
            "gridcolor": "white",
            "linecolor": "white",
            "ticks": ""
           },
           "bgcolor": "#E5ECF6",
           "caxis": {
            "gridcolor": "white",
            "linecolor": "white",
            "ticks": ""
           }
          },
          "title": {
           "x": 0.05
          },
          "xaxis": {
           "automargin": true,
           "gridcolor": "white",
           "linecolor": "white",
           "ticks": "",
           "title": {
            "standoff": 15
           },
           "zerolinecolor": "white",
           "zerolinewidth": 2
          },
          "yaxis": {
           "automargin": true,
           "gridcolor": "white",
           "linecolor": "white",
           "ticks": "",
           "title": {
            "standoff": 15
           },
           "zerolinecolor": "white",
           "zerolinewidth": 2
          }
         }
        },
        "title": {
         "font": {
          "color": "#4D5663"
         },
         "text": "Quantity per Invoice [Germany]"
        },
        "xaxis": {
         "gridcolor": "#E1E5ED",
         "showgrid": true,
         "tickfont": {
          "color": "#4D5663"
         },
         "title": {
          "font": {
           "color": "#4D5663"
          },
          "text": ""
         },
         "zerolinecolor": "#E1E5ED"
        },
        "yaxis": {
         "gridcolor": "#E1E5ED",
         "showgrid": true,
         "tickfont": {
          "color": "#4D5663"
         },
         "title": {
          "font": {
           "color": "#4D5663"
          },
          "text": ""
         },
         "zerolinecolor": "#E1E5ED"
        }
       }
      },
      "text/html": [
       "<div>                            <div id=\"90078f65-4a9a-4e8d-bdcc-d83ab606195b\" class=\"plotly-graph-div\" style=\"height:525px; width:100%;\"></div>            <script type=\"text/javascript\">                require([\"plotly\"], function(Plotly) {                    window.PLOTLYENV=window.PLOTLYENV || {};\n",
       "                    window.PLOTLYENV.BASE_URL='https://plot.ly';                                    if (document.getElementById(\"90078f65-4a9a-4e8d-bdcc-d83ab606195b\")) {                    Plotly.newPlot(                        \"90078f65-4a9a-4e8d-bdcc-d83ab606195b\",                        [{\"histfunc\":\"count\",\"histnorm\":\"\",\"marker\":{\"color\":\"rgba(255, 153, 51, 1.0)\",\"line\":{\"color\":\"#4D5663\",\"width\":1.3}},\"name\":\"InvoiceNo\",\"nbinsx\":443,\"opacity\":0.8,\"orientation\":\"v\",\"x\":[536527,536840,536861,536967,536983,537197,537198,537201,537212,537250,537594,537673,537892,537894,537995,538174,538644,539327,539395,539398,539401,539403,539405,539408,539446,539466,539636,539946,539957,540410,540414,540458,540480,540553,540562,540769,540900,541093,541122,541125,541224,541269,541277,541480,541517,541877,541962,541965,542080,542106,542128,542215,542229,542369,542371,542375,542621,542626,542648,542713,542782,542926,543048,543056,543121,543492,543550,543587,543737,543833,543900,544281,544302,544340,544483,544573,544811,544933,544996,545295,545533,545557,545706,545709,545718,545916,545988,545994,546365,546759,546843,546851,546919,546920,546921,546925,547005,547071,547085,547379,547383,547715,547821,547822,547925,547926,547934,548320,548412,548489,548654,548745,548746,549193,549316,549434,549614,549680,550002,550004,550137,550162,550178,550187,550527,550620,550625,550665,550946,550960,551258,551467,551529,551728,551729,551818,551820,551886,552008,552211,552337,552649,552656,552844,552871,552874,552875,552878,552978,553037,553038,553547,553731,553732,553741,553842,553884,553885,554104,554106,554137,554263,554324,554325,554363,554699,554700,554711,554713,554794,554861,554985,555093,555162,555282,555383,555417,555523,555553,555719,556114,556118,556443,556469,556509,556517,556578,557055,557056,557466,557569,557850,557972,558109,558608,558626,558628,558717,558881,559298,559300,559316,559362,559421,559710,559797,559798,559899,559987,560038,560202,560211,560230,560544,560545,560566,560569,560590,560635,560728,560876,560901,560997,561037,561094,561194,561468,561583,561911,562035,562038,562045,562137,562370,562435,562527,562537,562568,562605,562729,563345,563373,563540,563548,563776,563808,563914,563950,564039,564079,564140,564216,564309,564328,564329,564337,564338,564360,564367,564475,564638,564666,564749,564856,564972,565261,565416,565423,565430,565440,565442,565759,565760,565765,565777,566041,566054,566059,566233,566267,566268,566586,566739,566984,566987,567134,567291,567298,567305,567336,567512,567578,567666,567904,567914,567924,567958,567959,568056,568103,568350,568472,568674,568987,569001,569017,569562,569563,569640,569721,569727,569844,569860,569861,569867,569893,569907,570002,570007,570082,570095,570189,570452,570637,570640,570718,570754,570784,570792,570881,571065,571215,571227,571304,571308,571312,571328,571556,571565,571658,571724,571729,571739,571824,571904,572054,572060,572061,572134,572241,572559,572560,572894,572895,573106,573136,573284,573289,573417,573424,573430,573629,574071,574097,574255,574653,574679,574713,574869,574885,575352,575498,575713,575732,575733,575750,575787,575886,575896,576322,576327,576390,576607,576629,576630,576657,576787,576789,576790,576863,576869,576890,576891,576893,576909,576910,577027,577054,577135,577168,577299,577301,577406,577615,577776,578024,578043,578273,578295,578298,578333,578469,578472,578509,578547,578550,578626,578705,579094,579152,579276,579393,579416,579419,579747,579786,579901,579927,580154,580511,580512,580531,580548,580648,581000,581179,581183,581184,581266,581494,581570,581574,581578],\"type\":\"histogram\"}],                        {\"barmode\":\"overlay\",\"legend\":{\"bgcolor\":\"#F5F6F9\",\"font\":{\"color\":\"#4D5663\"}},\"paper_bgcolor\":\"#F5F6F9\",\"plot_bgcolor\":\"#F5F6F9\",\"template\":{\"data\":{\"barpolar\":[{\"marker\":{\"line\":{\"color\":\"#E5ECF6\",\"width\":0.5},\"pattern\":{\"fillmode\":\"overlay\",\"size\":10,\"solidity\":0.2}},\"type\":\"barpolar\"}],\"bar\":[{\"error_x\":{\"color\":\"#2a3f5f\"},\"error_y\":{\"color\":\"#2a3f5f\"},\"marker\":{\"line\":{\"color\":\"#E5ECF6\",\"width\":0.5},\"pattern\":{\"fillmode\":\"overlay\",\"size\":10,\"solidity\":0.2}},\"type\":\"bar\"}],\"carpet\":[{\"aaxis\":{\"endlinecolor\":\"#2a3f5f\",\"gridcolor\":\"white\",\"linecolor\":\"white\",\"minorgridcolor\":\"white\",\"startlinecolor\":\"#2a3f5f\"},\"baxis\":{\"endlinecolor\":\"#2a3f5f\",\"gridcolor\":\"white\",\"linecolor\":\"white\",\"minorgridcolor\":\"white\",\"startlinecolor\":\"#2a3f5f\"},\"type\":\"carpet\"}],\"choropleth\":[{\"colorbar\":{\"outlinewidth\":0,\"ticks\":\"\"},\"type\":\"choropleth\"}],\"contourcarpet\":[{\"colorbar\":{\"outlinewidth\":0,\"ticks\":\"\"},\"type\":\"contourcarpet\"}],\"contour\":[{\"colorbar\":{\"outlinewidth\":0,\"ticks\":\"\"},\"colorscale\":[[0.0,\"#0d0887\"],[0.1111111111111111,\"#46039f\"],[0.2222222222222222,\"#7201a8\"],[0.3333333333333333,\"#9c179e\"],[0.4444444444444444,\"#bd3786\"],[0.5555555555555556,\"#d8576b\"],[0.6666666666666666,\"#ed7953\"],[0.7777777777777778,\"#fb9f3a\"],[0.8888888888888888,\"#fdca26\"],[1.0,\"#f0f921\"]],\"type\":\"contour\"}],\"heatmapgl\":[{\"colorbar\":{\"outlinewidth\":0,\"ticks\":\"\"},\"colorscale\":[[0.0,\"#0d0887\"],[0.1111111111111111,\"#46039f\"],[0.2222222222222222,\"#7201a8\"],[0.3333333333333333,\"#9c179e\"],[0.4444444444444444,\"#bd3786\"],[0.5555555555555556,\"#d8576b\"],[0.6666666666666666,\"#ed7953\"],[0.7777777777777778,\"#fb9f3a\"],[0.8888888888888888,\"#fdca26\"],[1.0,\"#f0f921\"]],\"type\":\"heatmapgl\"}],\"heatmap\":[{\"colorbar\":{\"outlinewidth\":0,\"ticks\":\"\"},\"colorscale\":[[0.0,\"#0d0887\"],[0.1111111111111111,\"#46039f\"],[0.2222222222222222,\"#7201a8\"],[0.3333333333333333,\"#9c179e\"],[0.4444444444444444,\"#bd3786\"],[0.5555555555555556,\"#d8576b\"],[0.6666666666666666,\"#ed7953\"],[0.7777777777777778,\"#fb9f3a\"],[0.8888888888888888,\"#fdca26\"],[1.0,\"#f0f921\"]],\"type\":\"heatmap\"}],\"histogram2dcontour\":[{\"colorbar\":{\"outlinewidth\":0,\"ticks\":\"\"},\"colorscale\":[[0.0,\"#0d0887\"],[0.1111111111111111,\"#46039f\"],[0.2222222222222222,\"#7201a8\"],[0.3333333333333333,\"#9c179e\"],[0.4444444444444444,\"#bd3786\"],[0.5555555555555556,\"#d8576b\"],[0.6666666666666666,\"#ed7953\"],[0.7777777777777778,\"#fb9f3a\"],[0.8888888888888888,\"#fdca26\"],[1.0,\"#f0f921\"]],\"type\":\"histogram2dcontour\"}],\"histogram2d\":[{\"colorbar\":{\"outlinewidth\":0,\"ticks\":\"\"},\"colorscale\":[[0.0,\"#0d0887\"],[0.1111111111111111,\"#46039f\"],[0.2222222222222222,\"#7201a8\"],[0.3333333333333333,\"#9c179e\"],[0.4444444444444444,\"#bd3786\"],[0.5555555555555556,\"#d8576b\"],[0.6666666666666666,\"#ed7953\"],[0.7777777777777778,\"#fb9f3a\"],[0.8888888888888888,\"#fdca26\"],[1.0,\"#f0f921\"]],\"type\":\"histogram2d\"}],\"histogram\":[{\"marker\":{\"pattern\":{\"fillmode\":\"overlay\",\"size\":10,\"solidity\":0.2}},\"type\":\"histogram\"}],\"mesh3d\":[{\"colorbar\":{\"outlinewidth\":0,\"ticks\":\"\"},\"type\":\"mesh3d\"}],\"parcoords\":[{\"line\":{\"colorbar\":{\"outlinewidth\":0,\"ticks\":\"\"}},\"type\":\"parcoords\"}],\"pie\":[{\"automargin\":true,\"type\":\"pie\"}],\"scatter3d\":[{\"line\":{\"colorbar\":{\"outlinewidth\":0,\"ticks\":\"\"}},\"marker\":{\"colorbar\":{\"outlinewidth\":0,\"ticks\":\"\"}},\"type\":\"scatter3d\"}],\"scattercarpet\":[{\"marker\":{\"colorbar\":{\"outlinewidth\":0,\"ticks\":\"\"}},\"type\":\"scattercarpet\"}],\"scattergeo\":[{\"marker\":{\"colorbar\":{\"outlinewidth\":0,\"ticks\":\"\"}},\"type\":\"scattergeo\"}],\"scattergl\":[{\"marker\":{\"colorbar\":{\"outlinewidth\":0,\"ticks\":\"\"}},\"type\":\"scattergl\"}],\"scattermapbox\":[{\"marker\":{\"colorbar\":{\"outlinewidth\":0,\"ticks\":\"\"}},\"type\":\"scattermapbox\"}],\"scatterpolargl\":[{\"marker\":{\"colorbar\":{\"outlinewidth\":0,\"ticks\":\"\"}},\"type\":\"scatterpolargl\"}],\"scatterpolar\":[{\"marker\":{\"colorbar\":{\"outlinewidth\":0,\"ticks\":\"\"}},\"type\":\"scatterpolar\"}],\"scatter\":[{\"fillpattern\":{\"fillmode\":\"overlay\",\"size\":10,\"solidity\":0.2},\"type\":\"scatter\"}],\"scatterternary\":[{\"marker\":{\"colorbar\":{\"outlinewidth\":0,\"ticks\":\"\"}},\"type\":\"scatterternary\"}],\"surface\":[{\"colorbar\":{\"outlinewidth\":0,\"ticks\":\"\"},\"colorscale\":[[0.0,\"#0d0887\"],[0.1111111111111111,\"#46039f\"],[0.2222222222222222,\"#7201a8\"],[0.3333333333333333,\"#9c179e\"],[0.4444444444444444,\"#bd3786\"],[0.5555555555555556,\"#d8576b\"],[0.6666666666666666,\"#ed7953\"],[0.7777777777777778,\"#fb9f3a\"],[0.8888888888888888,\"#fdca26\"],[1.0,\"#f0f921\"]],\"type\":\"surface\"}],\"table\":[{\"cells\":{\"fill\":{\"color\":\"#EBF0F8\"},\"line\":{\"color\":\"white\"}},\"header\":{\"fill\":{\"color\":\"#C8D4E3\"},\"line\":{\"color\":\"white\"}},\"type\":\"table\"}]},\"layout\":{\"annotationdefaults\":{\"arrowcolor\":\"#2a3f5f\",\"arrowhead\":0,\"arrowwidth\":1},\"autotypenumbers\":\"strict\",\"coloraxis\":{\"colorbar\":{\"outlinewidth\":0,\"ticks\":\"\"}},\"colorscale\":{\"diverging\":[[0,\"#8e0152\"],[0.1,\"#c51b7d\"],[0.2,\"#de77ae\"],[0.3,\"#f1b6da\"],[0.4,\"#fde0ef\"],[0.5,\"#f7f7f7\"],[0.6,\"#e6f5d0\"],[0.7,\"#b8e186\"],[0.8,\"#7fbc41\"],[0.9,\"#4d9221\"],[1,\"#276419\"]],\"sequential\":[[0.0,\"#0d0887\"],[0.1111111111111111,\"#46039f\"],[0.2222222222222222,\"#7201a8\"],[0.3333333333333333,\"#9c179e\"],[0.4444444444444444,\"#bd3786\"],[0.5555555555555556,\"#d8576b\"],[0.6666666666666666,\"#ed7953\"],[0.7777777777777778,\"#fb9f3a\"],[0.8888888888888888,\"#fdca26\"],[1.0,\"#f0f921\"]],\"sequentialminus\":[[0.0,\"#0d0887\"],[0.1111111111111111,\"#46039f\"],[0.2222222222222222,\"#7201a8\"],[0.3333333333333333,\"#9c179e\"],[0.4444444444444444,\"#bd3786\"],[0.5555555555555556,\"#d8576b\"],[0.6666666666666666,\"#ed7953\"],[0.7777777777777778,\"#fb9f3a\"],[0.8888888888888888,\"#fdca26\"],[1.0,\"#f0f921\"]]},\"colorway\":[\"#636efa\",\"#EF553B\",\"#00cc96\",\"#ab63fa\",\"#FFA15A\",\"#19d3f3\",\"#FF6692\",\"#B6E880\",\"#FF97FF\",\"#FECB52\"],\"font\":{\"color\":\"#2a3f5f\"},\"geo\":{\"bgcolor\":\"white\",\"lakecolor\":\"white\",\"landcolor\":\"#E5ECF6\",\"showlakes\":true,\"showland\":true,\"subunitcolor\":\"white\"},\"hoverlabel\":{\"align\":\"left\"},\"hovermode\":\"closest\",\"mapbox\":{\"style\":\"light\"},\"paper_bgcolor\":\"white\",\"plot_bgcolor\":\"#E5ECF6\",\"polar\":{\"angularaxis\":{\"gridcolor\":\"white\",\"linecolor\":\"white\",\"ticks\":\"\"},\"bgcolor\":\"#E5ECF6\",\"radialaxis\":{\"gridcolor\":\"white\",\"linecolor\":\"white\",\"ticks\":\"\"}},\"scene\":{\"xaxis\":{\"backgroundcolor\":\"#E5ECF6\",\"gridcolor\":\"white\",\"gridwidth\":2,\"linecolor\":\"white\",\"showbackground\":true,\"ticks\":\"\",\"zerolinecolor\":\"white\"},\"yaxis\":{\"backgroundcolor\":\"#E5ECF6\",\"gridcolor\":\"white\",\"gridwidth\":2,\"linecolor\":\"white\",\"showbackground\":true,\"ticks\":\"\",\"zerolinecolor\":\"white\"},\"zaxis\":{\"backgroundcolor\":\"#E5ECF6\",\"gridcolor\":\"white\",\"gridwidth\":2,\"linecolor\":\"white\",\"showbackground\":true,\"ticks\":\"\",\"zerolinecolor\":\"white\"}},\"shapedefaults\":{\"line\":{\"color\":\"#2a3f5f\"}},\"ternary\":{\"aaxis\":{\"gridcolor\":\"white\",\"linecolor\":\"white\",\"ticks\":\"\"},\"baxis\":{\"gridcolor\":\"white\",\"linecolor\":\"white\",\"ticks\":\"\"},\"bgcolor\":\"#E5ECF6\",\"caxis\":{\"gridcolor\":\"white\",\"linecolor\":\"white\",\"ticks\":\"\"}},\"title\":{\"x\":0.05},\"xaxis\":{\"automargin\":true,\"gridcolor\":\"white\",\"linecolor\":\"white\",\"ticks\":\"\",\"title\":{\"standoff\":15},\"zerolinecolor\":\"white\",\"zerolinewidth\":2},\"yaxis\":{\"automargin\":true,\"gridcolor\":\"white\",\"linecolor\":\"white\",\"ticks\":\"\",\"title\":{\"standoff\":15},\"zerolinecolor\":\"white\",\"zerolinewidth\":2}}},\"title\":{\"font\":{\"color\":\"#4D5663\"},\"text\":\"Quantity per Invoice [Germany]\"},\"xaxis\":{\"gridcolor\":\"#E1E5ED\",\"showgrid\":true,\"tickfont\":{\"color\":\"#4D5663\"},\"title\":{\"font\":{\"color\":\"#4D5663\"},\"text\":\"\"},\"zerolinecolor\":\"#E1E5ED\"},\"yaxis\":{\"gridcolor\":\"#E1E5ED\",\"showgrid\":true,\"tickfont\":{\"color\":\"#4D5663\"},\"title\":{\"font\":{\"color\":\"#4D5663\"},\"text\":\"\"},\"zerolinecolor\":\"#E1E5ED\"}},                        {\"showLink\": true, \"linkText\": \"Export to plot.ly\", \"plotlyServerURL\": \"https://plot.ly\", \"responsive\": true}                    ).then(function(){\n",
       "                            \n",
       "var gd = document.getElementById('90078f65-4a9a-4e8d-bdcc-d83ab606195b');\n",
       "var x = new MutationObserver(function (mutations, observer) {{\n",
       "        var display = window.getComputedStyle(gd).display;\n",
       "        if (!display || display === 'none') {{\n",
       "            console.log([gd, 'removed!']);\n",
       "            Plotly.purge(gd);\n",
       "            observer.disconnect();\n",
       "        }}\n",
       "}});\n",
       "\n",
       "// Listen for the removal of the full notebook cells\n",
       "var notebookContainer = gd.closest('#notebook-container');\n",
       "if (notebookContainer) {{\n",
       "    x.observe(notebookContainer, {childList: true});\n",
       "}}\n",
       "\n",
       "// Listen for the clearing of the current output cell\n",
       "var outputEl = gd.closest('.output');\n",
       "if (outputEl) {{\n",
       "    x.observe(outputEl, {childList: true});\n",
       "}}\n",
       "\n",
       "                        })                };                });            </script>        </div>"
      ]
     },
     "metadata": {},
     "output_type": "display_data"
    },
    {
     "data": {
      "application/vnd.plotly.v1+json": {
       "config": {
        "linkText": "Export to plot.ly",
        "plotlyServerURL": "https://plot.ly",
        "showLink": true
       },
       "data": [
        {
         "histfunc": "count",
         "histnorm": "",
         "marker": {
          "color": "rgba(255, 153, 51, 1.0)",
          "line": {
           "color": "#4D5663",
           "width": 1.3
          }
         },
         "name": "InvoiceNo",
         "nbinsx": 379,
         "opacity": 0.8,
         "orientation": "v",
         "type": "histogram",
         "x": [
          536370,
          536852,
          536974,
          537065,
          537463,
          537468,
          537693,
          537897,
          537967,
          538008,
          538093,
          538196,
          539050,
          539113,
          539407,
          539435,
          539551,
          539607,
          539727,
          539829,
          540178,
          540239,
          540351,
          540365,
          540455,
          540463,
          540521,
          540642,
          540688,
          540789,
          540824,
          540835,
          540851,
          540972,
          540976,
          541120,
          541121,
          541138,
          541405,
          541567,
          541631,
          541857,
          541981,
          542425,
          542433,
          542535,
          542629,
          542735,
          542904,
          542922,
          543030,
          543188,
          543459,
          543484,
          543625,
          544069,
          544115,
          544200,
          544355,
          544423,
          544470,
          544585,
          544817,
          544818,
          545051,
          545086,
          545105,
          545180,
          545181,
          545235,
          545301,
          545515,
          545517,
          545583,
          546373,
          546428,
          546479,
          546678,
          546765,
          546770,
          547087,
          547194,
          547196,
          547327,
          547492,
          547504,
          547508,
          547520,
          547722,
          547863,
          547892,
          548409,
          548410,
          548496,
          548553,
          548606,
          548737,
          549274,
          550145,
          550313,
          550338,
          550661,
          550821,
          550827,
          551163,
          551389,
          551539,
          551544,
          551545,
          551649,
          551652,
          551887,
          552315,
          552325,
          552464,
          552631,
          552826,
          552851,
          552946,
          553044,
          553143,
          553161,
          553195,
          553208,
          553316,
          553411,
          553566,
          553577,
          553666,
          553838,
          553843,
          553997,
          554097,
          554109,
          554134,
          554356,
          554555,
          554648,
          554650,
          554826,
          554840,
          554940,
          555096,
          555531,
          555547,
          555569,
          555637,
          555933,
          555936,
          555937,
          555941,
          556258,
          556259,
          556305,
          556463,
          556507,
          556526,
          556529,
          556816,
          556819,
          556820,
          556886,
          557069,
          557247,
          557295,
          557483,
          557489,
          557627,
          557669,
          557734,
          558045,
          558124,
          558334,
          558687,
          558699,
          558813,
          559036,
          559134,
          559418,
          559422,
          559441,
          559607,
          559685,
          559699,
          559704,
          559782,
          559819,
          559889,
          560272,
          560363,
          560398,
          560452,
          561029,
          561470,
          561795,
          562039,
          562207,
          562275,
          562450,
          562520,
          562894,
          563189,
          563202,
          563288,
          563502,
          563662,
          563712,
          563753,
          563897,
          563926,
          564159,
          564173,
          564226,
          564314,
          564372,
          564471,
          564479,
          564531,
          564670,
          564897,
          564906,
          564912,
          565239,
          565321,
          565322,
          565443,
          565587,
          565612,
          565801,
          565854,
          565865,
          565930,
          565931,
          566074,
          566115,
          566163,
          566256,
          566492,
          566736,
          566816,
          566873,
          566918,
          567191,
          567293,
          567296,
          567300,
          567380,
          567552,
          567618,
          567640,
          567657,
          567756,
          567793,
          567910,
          567915,
          568040,
          568137,
          568176,
          568518,
          568645,
          568798,
          568953,
          568988,
          568994,
          569097,
          569120,
          569122,
          569332,
          569402,
          569531,
          569568,
          569686,
          569699,
          569701,
          569921,
          570020,
          570030,
          570267,
          570409,
          570672,
          570724,
          570798,
          570823,
          570841,
          570851,
          570879,
          571240,
          571864,
          571923,
          572087,
          572925,
          572986,
          572992,
          573036,
          573153,
          573273,
          573316,
          573402,
          573428,
          573442,
          573867,
          573868,
          573891,
          574068,
          574093,
          574104,
          574252,
          574501,
          574506,
          575049,
          575067,
          575193,
          575326,
          575519,
          575581,
          575584,
          575629,
          575661,
          575671,
          575692,
          575747,
          575845,
          575880,
          575884,
          575916,
          576064,
          576087,
          576222,
          576245,
          576373,
          576399,
          576669,
          576672,
          576894,
          576927,
          576941,
          577121,
          577152,
          577295,
          577344,
          577502,
          577512,
          577687,
          577856,
          578033,
          578277,
          578287,
          578348,
          578541,
          578698,
          578736,
          578835,
          579153,
          579190,
          579193,
          579345,
          579492,
          579529,
          579634,
          579708,
          579792,
          579870,
          580120,
          580126,
          580144,
          580160,
          580285,
          580509,
          580534,
          580536,
          580705,
          580736,
          580753,
          580756,
          580986,
          581001,
          581171,
          581279,
          581587
         ]
        }
       ],
       "layout": {
        "barmode": "overlay",
        "legend": {
         "bgcolor": "#F5F6F9",
         "font": {
          "color": "#4D5663"
         }
        },
        "paper_bgcolor": "#F5F6F9",
        "plot_bgcolor": "#F5F6F9",
        "template": {
         "data": {
          "bar": [
           {
            "error_x": {
             "color": "#2a3f5f"
            },
            "error_y": {
             "color": "#2a3f5f"
            },
            "marker": {
             "line": {
              "color": "#E5ECF6",
              "width": 0.5
             },
             "pattern": {
              "fillmode": "overlay",
              "size": 10,
              "solidity": 0.2
             }
            },
            "type": "bar"
           }
          ],
          "barpolar": [
           {
            "marker": {
             "line": {
              "color": "#E5ECF6",
              "width": 0.5
             },
             "pattern": {
              "fillmode": "overlay",
              "size": 10,
              "solidity": 0.2
             }
            },
            "type": "barpolar"
           }
          ],
          "carpet": [
           {
            "aaxis": {
             "endlinecolor": "#2a3f5f",
             "gridcolor": "white",
             "linecolor": "white",
             "minorgridcolor": "white",
             "startlinecolor": "#2a3f5f"
            },
            "baxis": {
             "endlinecolor": "#2a3f5f",
             "gridcolor": "white",
             "linecolor": "white",
             "minorgridcolor": "white",
             "startlinecolor": "#2a3f5f"
            },
            "type": "carpet"
           }
          ],
          "choropleth": [
           {
            "colorbar": {
             "outlinewidth": 0,
             "ticks": ""
            },
            "type": "choropleth"
           }
          ],
          "contour": [
           {
            "colorbar": {
             "outlinewidth": 0,
             "ticks": ""
            },
            "colorscale": [
             [
              0,
              "#0d0887"
             ],
             [
              0.1111111111111111,
              "#46039f"
             ],
             [
              0.2222222222222222,
              "#7201a8"
             ],
             [
              0.3333333333333333,
              "#9c179e"
             ],
             [
              0.4444444444444444,
              "#bd3786"
             ],
             [
              0.5555555555555556,
              "#d8576b"
             ],
             [
              0.6666666666666666,
              "#ed7953"
             ],
             [
              0.7777777777777778,
              "#fb9f3a"
             ],
             [
              0.8888888888888888,
              "#fdca26"
             ],
             [
              1,
              "#f0f921"
             ]
            ],
            "type": "contour"
           }
          ],
          "contourcarpet": [
           {
            "colorbar": {
             "outlinewidth": 0,
             "ticks": ""
            },
            "type": "contourcarpet"
           }
          ],
          "heatmap": [
           {
            "colorbar": {
             "outlinewidth": 0,
             "ticks": ""
            },
            "colorscale": [
             [
              0,
              "#0d0887"
             ],
             [
              0.1111111111111111,
              "#46039f"
             ],
             [
              0.2222222222222222,
              "#7201a8"
             ],
             [
              0.3333333333333333,
              "#9c179e"
             ],
             [
              0.4444444444444444,
              "#bd3786"
             ],
             [
              0.5555555555555556,
              "#d8576b"
             ],
             [
              0.6666666666666666,
              "#ed7953"
             ],
             [
              0.7777777777777778,
              "#fb9f3a"
             ],
             [
              0.8888888888888888,
              "#fdca26"
             ],
             [
              1,
              "#f0f921"
             ]
            ],
            "type": "heatmap"
           }
          ],
          "heatmapgl": [
           {
            "colorbar": {
             "outlinewidth": 0,
             "ticks": ""
            },
            "colorscale": [
             [
              0,
              "#0d0887"
             ],
             [
              0.1111111111111111,
              "#46039f"
             ],
             [
              0.2222222222222222,
              "#7201a8"
             ],
             [
              0.3333333333333333,
              "#9c179e"
             ],
             [
              0.4444444444444444,
              "#bd3786"
             ],
             [
              0.5555555555555556,
              "#d8576b"
             ],
             [
              0.6666666666666666,
              "#ed7953"
             ],
             [
              0.7777777777777778,
              "#fb9f3a"
             ],
             [
              0.8888888888888888,
              "#fdca26"
             ],
             [
              1,
              "#f0f921"
             ]
            ],
            "type": "heatmapgl"
           }
          ],
          "histogram": [
           {
            "marker": {
             "pattern": {
              "fillmode": "overlay",
              "size": 10,
              "solidity": 0.2
             }
            },
            "type": "histogram"
           }
          ],
          "histogram2d": [
           {
            "colorbar": {
             "outlinewidth": 0,
             "ticks": ""
            },
            "colorscale": [
             [
              0,
              "#0d0887"
             ],
             [
              0.1111111111111111,
              "#46039f"
             ],
             [
              0.2222222222222222,
              "#7201a8"
             ],
             [
              0.3333333333333333,
              "#9c179e"
             ],
             [
              0.4444444444444444,
              "#bd3786"
             ],
             [
              0.5555555555555556,
              "#d8576b"
             ],
             [
              0.6666666666666666,
              "#ed7953"
             ],
             [
              0.7777777777777778,
              "#fb9f3a"
             ],
             [
              0.8888888888888888,
              "#fdca26"
             ],
             [
              1,
              "#f0f921"
             ]
            ],
            "type": "histogram2d"
           }
          ],
          "histogram2dcontour": [
           {
            "colorbar": {
             "outlinewidth": 0,
             "ticks": ""
            },
            "colorscale": [
             [
              0,
              "#0d0887"
             ],
             [
              0.1111111111111111,
              "#46039f"
             ],
             [
              0.2222222222222222,
              "#7201a8"
             ],
             [
              0.3333333333333333,
              "#9c179e"
             ],
             [
              0.4444444444444444,
              "#bd3786"
             ],
             [
              0.5555555555555556,
              "#d8576b"
             ],
             [
              0.6666666666666666,
              "#ed7953"
             ],
             [
              0.7777777777777778,
              "#fb9f3a"
             ],
             [
              0.8888888888888888,
              "#fdca26"
             ],
             [
              1,
              "#f0f921"
             ]
            ],
            "type": "histogram2dcontour"
           }
          ],
          "mesh3d": [
           {
            "colorbar": {
             "outlinewidth": 0,
             "ticks": ""
            },
            "type": "mesh3d"
           }
          ],
          "parcoords": [
           {
            "line": {
             "colorbar": {
              "outlinewidth": 0,
              "ticks": ""
             }
            },
            "type": "parcoords"
           }
          ],
          "pie": [
           {
            "automargin": true,
            "type": "pie"
           }
          ],
          "scatter": [
           {
            "fillpattern": {
             "fillmode": "overlay",
             "size": 10,
             "solidity": 0.2
            },
            "type": "scatter"
           }
          ],
          "scatter3d": [
           {
            "line": {
             "colorbar": {
              "outlinewidth": 0,
              "ticks": ""
             }
            },
            "marker": {
             "colorbar": {
              "outlinewidth": 0,
              "ticks": ""
             }
            },
            "type": "scatter3d"
           }
          ],
          "scattercarpet": [
           {
            "marker": {
             "colorbar": {
              "outlinewidth": 0,
              "ticks": ""
             }
            },
            "type": "scattercarpet"
           }
          ],
          "scattergeo": [
           {
            "marker": {
             "colorbar": {
              "outlinewidth": 0,
              "ticks": ""
             }
            },
            "type": "scattergeo"
           }
          ],
          "scattergl": [
           {
            "marker": {
             "colorbar": {
              "outlinewidth": 0,
              "ticks": ""
             }
            },
            "type": "scattergl"
           }
          ],
          "scattermapbox": [
           {
            "marker": {
             "colorbar": {
              "outlinewidth": 0,
              "ticks": ""
             }
            },
            "type": "scattermapbox"
           }
          ],
          "scatterpolar": [
           {
            "marker": {
             "colorbar": {
              "outlinewidth": 0,
              "ticks": ""
             }
            },
            "type": "scatterpolar"
           }
          ],
          "scatterpolargl": [
           {
            "marker": {
             "colorbar": {
              "outlinewidth": 0,
              "ticks": ""
             }
            },
            "type": "scatterpolargl"
           }
          ],
          "scatterternary": [
           {
            "marker": {
             "colorbar": {
              "outlinewidth": 0,
              "ticks": ""
             }
            },
            "type": "scatterternary"
           }
          ],
          "surface": [
           {
            "colorbar": {
             "outlinewidth": 0,
             "ticks": ""
            },
            "colorscale": [
             [
              0,
              "#0d0887"
             ],
             [
              0.1111111111111111,
              "#46039f"
             ],
             [
              0.2222222222222222,
              "#7201a8"
             ],
             [
              0.3333333333333333,
              "#9c179e"
             ],
             [
              0.4444444444444444,
              "#bd3786"
             ],
             [
              0.5555555555555556,
              "#d8576b"
             ],
             [
              0.6666666666666666,
              "#ed7953"
             ],
             [
              0.7777777777777778,
              "#fb9f3a"
             ],
             [
              0.8888888888888888,
              "#fdca26"
             ],
             [
              1,
              "#f0f921"
             ]
            ],
            "type": "surface"
           }
          ],
          "table": [
           {
            "cells": {
             "fill": {
              "color": "#EBF0F8"
             },
             "line": {
              "color": "white"
             }
            },
            "header": {
             "fill": {
              "color": "#C8D4E3"
             },
             "line": {
              "color": "white"
             }
            },
            "type": "table"
           }
          ]
         },
         "layout": {
          "annotationdefaults": {
           "arrowcolor": "#2a3f5f",
           "arrowhead": 0,
           "arrowwidth": 1
          },
          "autotypenumbers": "strict",
          "coloraxis": {
           "colorbar": {
            "outlinewidth": 0,
            "ticks": ""
           }
          },
          "colorscale": {
           "diverging": [
            [
             0,
             "#8e0152"
            ],
            [
             0.1,
             "#c51b7d"
            ],
            [
             0.2,
             "#de77ae"
            ],
            [
             0.3,
             "#f1b6da"
            ],
            [
             0.4,
             "#fde0ef"
            ],
            [
             0.5,
             "#f7f7f7"
            ],
            [
             0.6,
             "#e6f5d0"
            ],
            [
             0.7,
             "#b8e186"
            ],
            [
             0.8,
             "#7fbc41"
            ],
            [
             0.9,
             "#4d9221"
            ],
            [
             1,
             "#276419"
            ]
           ],
           "sequential": [
            [
             0,
             "#0d0887"
            ],
            [
             0.1111111111111111,
             "#46039f"
            ],
            [
             0.2222222222222222,
             "#7201a8"
            ],
            [
             0.3333333333333333,
             "#9c179e"
            ],
            [
             0.4444444444444444,
             "#bd3786"
            ],
            [
             0.5555555555555556,
             "#d8576b"
            ],
            [
             0.6666666666666666,
             "#ed7953"
            ],
            [
             0.7777777777777778,
             "#fb9f3a"
            ],
            [
             0.8888888888888888,
             "#fdca26"
            ],
            [
             1,
             "#f0f921"
            ]
           ],
           "sequentialminus": [
            [
             0,
             "#0d0887"
            ],
            [
             0.1111111111111111,
             "#46039f"
            ],
            [
             0.2222222222222222,
             "#7201a8"
            ],
            [
             0.3333333333333333,
             "#9c179e"
            ],
            [
             0.4444444444444444,
             "#bd3786"
            ],
            [
             0.5555555555555556,
             "#d8576b"
            ],
            [
             0.6666666666666666,
             "#ed7953"
            ],
            [
             0.7777777777777778,
             "#fb9f3a"
            ],
            [
             0.8888888888888888,
             "#fdca26"
            ],
            [
             1,
             "#f0f921"
            ]
           ]
          },
          "colorway": [
           "#636efa",
           "#EF553B",
           "#00cc96",
           "#ab63fa",
           "#FFA15A",
           "#19d3f3",
           "#FF6692",
           "#B6E880",
           "#FF97FF",
           "#FECB52"
          ],
          "font": {
           "color": "#2a3f5f"
          },
          "geo": {
           "bgcolor": "white",
           "lakecolor": "white",
           "landcolor": "#E5ECF6",
           "showlakes": true,
           "showland": true,
           "subunitcolor": "white"
          },
          "hoverlabel": {
           "align": "left"
          },
          "hovermode": "closest",
          "mapbox": {
           "style": "light"
          },
          "paper_bgcolor": "white",
          "plot_bgcolor": "#E5ECF6",
          "polar": {
           "angularaxis": {
            "gridcolor": "white",
            "linecolor": "white",
            "ticks": ""
           },
           "bgcolor": "#E5ECF6",
           "radialaxis": {
            "gridcolor": "white",
            "linecolor": "white",
            "ticks": ""
           }
          },
          "scene": {
           "xaxis": {
            "backgroundcolor": "#E5ECF6",
            "gridcolor": "white",
            "gridwidth": 2,
            "linecolor": "white",
            "showbackground": true,
            "ticks": "",
            "zerolinecolor": "white"
           },
           "yaxis": {
            "backgroundcolor": "#E5ECF6",
            "gridcolor": "white",
            "gridwidth": 2,
            "linecolor": "white",
            "showbackground": true,
            "ticks": "",
            "zerolinecolor": "white"
           },
           "zaxis": {
            "backgroundcolor": "#E5ECF6",
            "gridcolor": "white",
            "gridwidth": 2,
            "linecolor": "white",
            "showbackground": true,
            "ticks": "",
            "zerolinecolor": "white"
           }
          },
          "shapedefaults": {
           "line": {
            "color": "#2a3f5f"
           }
          },
          "ternary": {
           "aaxis": {
            "gridcolor": "white",
            "linecolor": "white",
            "ticks": ""
           },
           "baxis": {
            "gridcolor": "white",
            "linecolor": "white",
            "ticks": ""
           },
           "bgcolor": "#E5ECF6",
           "caxis": {
            "gridcolor": "white",
            "linecolor": "white",
            "ticks": ""
           }
          },
          "title": {
           "x": 0.05
          },
          "xaxis": {
           "automargin": true,
           "gridcolor": "white",
           "linecolor": "white",
           "ticks": "",
           "title": {
            "standoff": 15
           },
           "zerolinecolor": "white",
           "zerolinewidth": 2
          },
          "yaxis": {
           "automargin": true,
           "gridcolor": "white",
           "linecolor": "white",
           "ticks": "",
           "title": {
            "standoff": 15
           },
           "zerolinecolor": "white",
           "zerolinewidth": 2
          }
         }
        },
        "title": {
         "font": {
          "color": "#4D5663"
         },
         "text": "Quantity per Invoice [France]"
        },
        "xaxis": {
         "gridcolor": "#E1E5ED",
         "showgrid": true,
         "tickfont": {
          "color": "#4D5663"
         },
         "title": {
          "font": {
           "color": "#4D5663"
          },
          "text": ""
         },
         "zerolinecolor": "#E1E5ED"
        },
        "yaxis": {
         "gridcolor": "#E1E5ED",
         "showgrid": true,
         "tickfont": {
          "color": "#4D5663"
         },
         "title": {
          "font": {
           "color": "#4D5663"
          },
          "text": ""
         },
         "zerolinecolor": "#E1E5ED"
        }
       }
      },
      "text/html": [
       "<div>                            <div id=\"f3bb703d-1ae7-4912-861e-5e222cc3633e\" class=\"plotly-graph-div\" style=\"height:525px; width:100%;\"></div>            <script type=\"text/javascript\">                require([\"plotly\"], function(Plotly) {                    window.PLOTLYENV=window.PLOTLYENV || {};\n",
       "                    window.PLOTLYENV.BASE_URL='https://plot.ly';                                    if (document.getElementById(\"f3bb703d-1ae7-4912-861e-5e222cc3633e\")) {                    Plotly.newPlot(                        \"f3bb703d-1ae7-4912-861e-5e222cc3633e\",                        [{\"histfunc\":\"count\",\"histnorm\":\"\",\"marker\":{\"color\":\"rgba(255, 153, 51, 1.0)\",\"line\":{\"color\":\"#4D5663\",\"width\":1.3}},\"name\":\"InvoiceNo\",\"nbinsx\":379,\"opacity\":0.8,\"orientation\":\"v\",\"x\":[536370,536852,536974,537065,537463,537468,537693,537897,537967,538008,538093,538196,539050,539113,539407,539435,539551,539607,539727,539829,540178,540239,540351,540365,540455,540463,540521,540642,540688,540789,540824,540835,540851,540972,540976,541120,541121,541138,541405,541567,541631,541857,541981,542425,542433,542535,542629,542735,542904,542922,543030,543188,543459,543484,543625,544069,544115,544200,544355,544423,544470,544585,544817,544818,545051,545086,545105,545180,545181,545235,545301,545515,545517,545583,546373,546428,546479,546678,546765,546770,547087,547194,547196,547327,547492,547504,547508,547520,547722,547863,547892,548409,548410,548496,548553,548606,548737,549274,550145,550313,550338,550661,550821,550827,551163,551389,551539,551544,551545,551649,551652,551887,552315,552325,552464,552631,552826,552851,552946,553044,553143,553161,553195,553208,553316,553411,553566,553577,553666,553838,553843,553997,554097,554109,554134,554356,554555,554648,554650,554826,554840,554940,555096,555531,555547,555569,555637,555933,555936,555937,555941,556258,556259,556305,556463,556507,556526,556529,556816,556819,556820,556886,557069,557247,557295,557483,557489,557627,557669,557734,558045,558124,558334,558687,558699,558813,559036,559134,559418,559422,559441,559607,559685,559699,559704,559782,559819,559889,560272,560363,560398,560452,561029,561470,561795,562039,562207,562275,562450,562520,562894,563189,563202,563288,563502,563662,563712,563753,563897,563926,564159,564173,564226,564314,564372,564471,564479,564531,564670,564897,564906,564912,565239,565321,565322,565443,565587,565612,565801,565854,565865,565930,565931,566074,566115,566163,566256,566492,566736,566816,566873,566918,567191,567293,567296,567300,567380,567552,567618,567640,567657,567756,567793,567910,567915,568040,568137,568176,568518,568645,568798,568953,568988,568994,569097,569120,569122,569332,569402,569531,569568,569686,569699,569701,569921,570020,570030,570267,570409,570672,570724,570798,570823,570841,570851,570879,571240,571864,571923,572087,572925,572986,572992,573036,573153,573273,573316,573402,573428,573442,573867,573868,573891,574068,574093,574104,574252,574501,574506,575049,575067,575193,575326,575519,575581,575584,575629,575661,575671,575692,575747,575845,575880,575884,575916,576064,576087,576222,576245,576373,576399,576669,576672,576894,576927,576941,577121,577152,577295,577344,577502,577512,577687,577856,578033,578277,578287,578348,578541,578698,578736,578835,579153,579190,579193,579345,579492,579529,579634,579708,579792,579870,580120,580126,580144,580160,580285,580509,580534,580536,580705,580736,580753,580756,580986,581001,581171,581279,581587],\"type\":\"histogram\"}],                        {\"barmode\":\"overlay\",\"legend\":{\"bgcolor\":\"#F5F6F9\",\"font\":{\"color\":\"#4D5663\"}},\"paper_bgcolor\":\"#F5F6F9\",\"plot_bgcolor\":\"#F5F6F9\",\"template\":{\"data\":{\"barpolar\":[{\"marker\":{\"line\":{\"color\":\"#E5ECF6\",\"width\":0.5},\"pattern\":{\"fillmode\":\"overlay\",\"size\":10,\"solidity\":0.2}},\"type\":\"barpolar\"}],\"bar\":[{\"error_x\":{\"color\":\"#2a3f5f\"},\"error_y\":{\"color\":\"#2a3f5f\"},\"marker\":{\"line\":{\"color\":\"#E5ECF6\",\"width\":0.5},\"pattern\":{\"fillmode\":\"overlay\",\"size\":10,\"solidity\":0.2}},\"type\":\"bar\"}],\"carpet\":[{\"aaxis\":{\"endlinecolor\":\"#2a3f5f\",\"gridcolor\":\"white\",\"linecolor\":\"white\",\"minorgridcolor\":\"white\",\"startlinecolor\":\"#2a3f5f\"},\"baxis\":{\"endlinecolor\":\"#2a3f5f\",\"gridcolor\":\"white\",\"linecolor\":\"white\",\"minorgridcolor\":\"white\",\"startlinecolor\":\"#2a3f5f\"},\"type\":\"carpet\"}],\"choropleth\":[{\"colorbar\":{\"outlinewidth\":0,\"ticks\":\"\"},\"type\":\"choropleth\"}],\"contourcarpet\":[{\"colorbar\":{\"outlinewidth\":0,\"ticks\":\"\"},\"type\":\"contourcarpet\"}],\"contour\":[{\"colorbar\":{\"outlinewidth\":0,\"ticks\":\"\"},\"colorscale\":[[0.0,\"#0d0887\"],[0.1111111111111111,\"#46039f\"],[0.2222222222222222,\"#7201a8\"],[0.3333333333333333,\"#9c179e\"],[0.4444444444444444,\"#bd3786\"],[0.5555555555555556,\"#d8576b\"],[0.6666666666666666,\"#ed7953\"],[0.7777777777777778,\"#fb9f3a\"],[0.8888888888888888,\"#fdca26\"],[1.0,\"#f0f921\"]],\"type\":\"contour\"}],\"heatmapgl\":[{\"colorbar\":{\"outlinewidth\":0,\"ticks\":\"\"},\"colorscale\":[[0.0,\"#0d0887\"],[0.1111111111111111,\"#46039f\"],[0.2222222222222222,\"#7201a8\"],[0.3333333333333333,\"#9c179e\"],[0.4444444444444444,\"#bd3786\"],[0.5555555555555556,\"#d8576b\"],[0.6666666666666666,\"#ed7953\"],[0.7777777777777778,\"#fb9f3a\"],[0.8888888888888888,\"#fdca26\"],[1.0,\"#f0f921\"]],\"type\":\"heatmapgl\"}],\"heatmap\":[{\"colorbar\":{\"outlinewidth\":0,\"ticks\":\"\"},\"colorscale\":[[0.0,\"#0d0887\"],[0.1111111111111111,\"#46039f\"],[0.2222222222222222,\"#7201a8\"],[0.3333333333333333,\"#9c179e\"],[0.4444444444444444,\"#bd3786\"],[0.5555555555555556,\"#d8576b\"],[0.6666666666666666,\"#ed7953\"],[0.7777777777777778,\"#fb9f3a\"],[0.8888888888888888,\"#fdca26\"],[1.0,\"#f0f921\"]],\"type\":\"heatmap\"}],\"histogram2dcontour\":[{\"colorbar\":{\"outlinewidth\":0,\"ticks\":\"\"},\"colorscale\":[[0.0,\"#0d0887\"],[0.1111111111111111,\"#46039f\"],[0.2222222222222222,\"#7201a8\"],[0.3333333333333333,\"#9c179e\"],[0.4444444444444444,\"#bd3786\"],[0.5555555555555556,\"#d8576b\"],[0.6666666666666666,\"#ed7953\"],[0.7777777777777778,\"#fb9f3a\"],[0.8888888888888888,\"#fdca26\"],[1.0,\"#f0f921\"]],\"type\":\"histogram2dcontour\"}],\"histogram2d\":[{\"colorbar\":{\"outlinewidth\":0,\"ticks\":\"\"},\"colorscale\":[[0.0,\"#0d0887\"],[0.1111111111111111,\"#46039f\"],[0.2222222222222222,\"#7201a8\"],[0.3333333333333333,\"#9c179e\"],[0.4444444444444444,\"#bd3786\"],[0.5555555555555556,\"#d8576b\"],[0.6666666666666666,\"#ed7953\"],[0.7777777777777778,\"#fb9f3a\"],[0.8888888888888888,\"#fdca26\"],[1.0,\"#f0f921\"]],\"type\":\"histogram2d\"}],\"histogram\":[{\"marker\":{\"pattern\":{\"fillmode\":\"overlay\",\"size\":10,\"solidity\":0.2}},\"type\":\"histogram\"}],\"mesh3d\":[{\"colorbar\":{\"outlinewidth\":0,\"ticks\":\"\"},\"type\":\"mesh3d\"}],\"parcoords\":[{\"line\":{\"colorbar\":{\"outlinewidth\":0,\"ticks\":\"\"}},\"type\":\"parcoords\"}],\"pie\":[{\"automargin\":true,\"type\":\"pie\"}],\"scatter3d\":[{\"line\":{\"colorbar\":{\"outlinewidth\":0,\"ticks\":\"\"}},\"marker\":{\"colorbar\":{\"outlinewidth\":0,\"ticks\":\"\"}},\"type\":\"scatter3d\"}],\"scattercarpet\":[{\"marker\":{\"colorbar\":{\"outlinewidth\":0,\"ticks\":\"\"}},\"type\":\"scattercarpet\"}],\"scattergeo\":[{\"marker\":{\"colorbar\":{\"outlinewidth\":0,\"ticks\":\"\"}},\"type\":\"scattergeo\"}],\"scattergl\":[{\"marker\":{\"colorbar\":{\"outlinewidth\":0,\"ticks\":\"\"}},\"type\":\"scattergl\"}],\"scattermapbox\":[{\"marker\":{\"colorbar\":{\"outlinewidth\":0,\"ticks\":\"\"}},\"type\":\"scattermapbox\"}],\"scatterpolargl\":[{\"marker\":{\"colorbar\":{\"outlinewidth\":0,\"ticks\":\"\"}},\"type\":\"scatterpolargl\"}],\"scatterpolar\":[{\"marker\":{\"colorbar\":{\"outlinewidth\":0,\"ticks\":\"\"}},\"type\":\"scatterpolar\"}],\"scatter\":[{\"fillpattern\":{\"fillmode\":\"overlay\",\"size\":10,\"solidity\":0.2},\"type\":\"scatter\"}],\"scatterternary\":[{\"marker\":{\"colorbar\":{\"outlinewidth\":0,\"ticks\":\"\"}},\"type\":\"scatterternary\"}],\"surface\":[{\"colorbar\":{\"outlinewidth\":0,\"ticks\":\"\"},\"colorscale\":[[0.0,\"#0d0887\"],[0.1111111111111111,\"#46039f\"],[0.2222222222222222,\"#7201a8\"],[0.3333333333333333,\"#9c179e\"],[0.4444444444444444,\"#bd3786\"],[0.5555555555555556,\"#d8576b\"],[0.6666666666666666,\"#ed7953\"],[0.7777777777777778,\"#fb9f3a\"],[0.8888888888888888,\"#fdca26\"],[1.0,\"#f0f921\"]],\"type\":\"surface\"}],\"table\":[{\"cells\":{\"fill\":{\"color\":\"#EBF0F8\"},\"line\":{\"color\":\"white\"}},\"header\":{\"fill\":{\"color\":\"#C8D4E3\"},\"line\":{\"color\":\"white\"}},\"type\":\"table\"}]},\"layout\":{\"annotationdefaults\":{\"arrowcolor\":\"#2a3f5f\",\"arrowhead\":0,\"arrowwidth\":1},\"autotypenumbers\":\"strict\",\"coloraxis\":{\"colorbar\":{\"outlinewidth\":0,\"ticks\":\"\"}},\"colorscale\":{\"diverging\":[[0,\"#8e0152\"],[0.1,\"#c51b7d\"],[0.2,\"#de77ae\"],[0.3,\"#f1b6da\"],[0.4,\"#fde0ef\"],[0.5,\"#f7f7f7\"],[0.6,\"#e6f5d0\"],[0.7,\"#b8e186\"],[0.8,\"#7fbc41\"],[0.9,\"#4d9221\"],[1,\"#276419\"]],\"sequential\":[[0.0,\"#0d0887\"],[0.1111111111111111,\"#46039f\"],[0.2222222222222222,\"#7201a8\"],[0.3333333333333333,\"#9c179e\"],[0.4444444444444444,\"#bd3786\"],[0.5555555555555556,\"#d8576b\"],[0.6666666666666666,\"#ed7953\"],[0.7777777777777778,\"#fb9f3a\"],[0.8888888888888888,\"#fdca26\"],[1.0,\"#f0f921\"]],\"sequentialminus\":[[0.0,\"#0d0887\"],[0.1111111111111111,\"#46039f\"],[0.2222222222222222,\"#7201a8\"],[0.3333333333333333,\"#9c179e\"],[0.4444444444444444,\"#bd3786\"],[0.5555555555555556,\"#d8576b\"],[0.6666666666666666,\"#ed7953\"],[0.7777777777777778,\"#fb9f3a\"],[0.8888888888888888,\"#fdca26\"],[1.0,\"#f0f921\"]]},\"colorway\":[\"#636efa\",\"#EF553B\",\"#00cc96\",\"#ab63fa\",\"#FFA15A\",\"#19d3f3\",\"#FF6692\",\"#B6E880\",\"#FF97FF\",\"#FECB52\"],\"font\":{\"color\":\"#2a3f5f\"},\"geo\":{\"bgcolor\":\"white\",\"lakecolor\":\"white\",\"landcolor\":\"#E5ECF6\",\"showlakes\":true,\"showland\":true,\"subunitcolor\":\"white\"},\"hoverlabel\":{\"align\":\"left\"},\"hovermode\":\"closest\",\"mapbox\":{\"style\":\"light\"},\"paper_bgcolor\":\"white\",\"plot_bgcolor\":\"#E5ECF6\",\"polar\":{\"angularaxis\":{\"gridcolor\":\"white\",\"linecolor\":\"white\",\"ticks\":\"\"},\"bgcolor\":\"#E5ECF6\",\"radialaxis\":{\"gridcolor\":\"white\",\"linecolor\":\"white\",\"ticks\":\"\"}},\"scene\":{\"xaxis\":{\"backgroundcolor\":\"#E5ECF6\",\"gridcolor\":\"white\",\"gridwidth\":2,\"linecolor\":\"white\",\"showbackground\":true,\"ticks\":\"\",\"zerolinecolor\":\"white\"},\"yaxis\":{\"backgroundcolor\":\"#E5ECF6\",\"gridcolor\":\"white\",\"gridwidth\":2,\"linecolor\":\"white\",\"showbackground\":true,\"ticks\":\"\",\"zerolinecolor\":\"white\"},\"zaxis\":{\"backgroundcolor\":\"#E5ECF6\",\"gridcolor\":\"white\",\"gridwidth\":2,\"linecolor\":\"white\",\"showbackground\":true,\"ticks\":\"\",\"zerolinecolor\":\"white\"}},\"shapedefaults\":{\"line\":{\"color\":\"#2a3f5f\"}},\"ternary\":{\"aaxis\":{\"gridcolor\":\"white\",\"linecolor\":\"white\",\"ticks\":\"\"},\"baxis\":{\"gridcolor\":\"white\",\"linecolor\":\"white\",\"ticks\":\"\"},\"bgcolor\":\"#E5ECF6\",\"caxis\":{\"gridcolor\":\"white\",\"linecolor\":\"white\",\"ticks\":\"\"}},\"title\":{\"x\":0.05},\"xaxis\":{\"automargin\":true,\"gridcolor\":\"white\",\"linecolor\":\"white\",\"ticks\":\"\",\"title\":{\"standoff\":15},\"zerolinecolor\":\"white\",\"zerolinewidth\":2},\"yaxis\":{\"automargin\":true,\"gridcolor\":\"white\",\"linecolor\":\"white\",\"ticks\":\"\",\"title\":{\"standoff\":15},\"zerolinecolor\":\"white\",\"zerolinewidth\":2}}},\"title\":{\"font\":{\"color\":\"#4D5663\"},\"text\":\"Quantity per Invoice [France]\"},\"xaxis\":{\"gridcolor\":\"#E1E5ED\",\"showgrid\":true,\"tickfont\":{\"color\":\"#4D5663\"},\"title\":{\"font\":{\"color\":\"#4D5663\"},\"text\":\"\"},\"zerolinecolor\":\"#E1E5ED\"},\"yaxis\":{\"gridcolor\":\"#E1E5ED\",\"showgrid\":true,\"tickfont\":{\"color\":\"#4D5663\"},\"title\":{\"font\":{\"color\":\"#4D5663\"},\"text\":\"\"},\"zerolinecolor\":\"#E1E5ED\"}},                        {\"showLink\": true, \"linkText\": \"Export to plot.ly\", \"plotlyServerURL\": \"https://plot.ly\", \"responsive\": true}                    ).then(function(){\n",
       "                            \n",
       "var gd = document.getElementById('f3bb703d-1ae7-4912-861e-5e222cc3633e');\n",
       "var x = new MutationObserver(function (mutations, observer) {{\n",
       "        var display = window.getComputedStyle(gd).display;\n",
       "        if (!display || display === 'none') {{\n",
       "            console.log([gd, 'removed!']);\n",
       "            Plotly.purge(gd);\n",
       "            observer.disconnect();\n",
       "        }}\n",
       "}});\n",
       "\n",
       "// Listen for the removal of the full notebook cells\n",
       "var notebookContainer = gd.closest('#notebook-container');\n",
       "if (notebookContainer) {{\n",
       "    x.observe(notebookContainer, {childList: true});\n",
       "}}\n",
       "\n",
       "// Listen for the clearing of the current output cell\n",
       "var outputEl = gd.closest('.output');\n",
       "if (outputEl) {{\n",
       "    x.observe(outputEl, {childList: true});\n",
       "}}\n",
       "\n",
       "                        })                };                });            </script>        </div>"
      ]
     },
     "metadata": {},
     "output_type": "display_data"
    },
    {
     "data": {
      "application/vnd.plotly.v1+json": {
       "config": {
        "linkText": "Export to plot.ly",
        "plotlyServerURL": "https://plot.ly",
        "showLink": true
       },
       "data": [
        {
         "histfunc": "count",
         "histnorm": "",
         "marker": {
          "color": "rgba(255, 153, 51, 1.0)",
          "line": {
           "color": "#4D5663",
           "width": 1.3
          }
         },
         "name": "InvoiceNo",
         "nbinsx": 93,
         "opacity": 0.8,
         "orientation": "v",
         "type": "histogram",
         "x": [
          536403,
          539491,
          539731,
          541206,
          541570,
          541608,
          541711,
          542720,
          542894,
          543387,
          544479,
          544480,
          544672,
          546027,
          546433,
          547365,
          547796,
          547825,
          548010,
          548011,
          548211,
          548969,
          548970,
          551345,
          552845,
          552846,
          552882,
          552883,
          552885,
          553682,
          554038,
          554642,
          554827,
          555003,
          555106,
          555160,
          555164,
          555407,
          555589,
          556235,
          557263,
          557328,
          557525,
          558262,
          558263,
          558311,
          560710,
          562789,
          562790,
          563076,
          563165,
          564169,
          564650,
          564652,
          565967,
          565975,
          566173,
          566557,
          567280,
          567290,
          567795,
          569665,
          569719,
          569720,
          570191,
          571697,
          572035,
          572051,
          572052,
          572123,
          572233,
          572236,
          573002,
          573003,
          573004,
          574056,
          574058,
          574059,
          575508,
          575510,
          575709,
          576664,
          577326,
          577474,
          578034,
          578082,
          578140,
          578141,
          578143,
          579528,
          581175,
          581176,
          581338
         ]
        }
       ],
       "layout": {
        "barmode": "overlay",
        "legend": {
         "bgcolor": "#F5F6F9",
         "font": {
          "color": "#4D5663"
         }
        },
        "paper_bgcolor": "#F5F6F9",
        "plot_bgcolor": "#F5F6F9",
        "template": {
         "data": {
          "bar": [
           {
            "error_x": {
             "color": "#2a3f5f"
            },
            "error_y": {
             "color": "#2a3f5f"
            },
            "marker": {
             "line": {
              "color": "#E5ECF6",
              "width": 0.5
             },
             "pattern": {
              "fillmode": "overlay",
              "size": 10,
              "solidity": 0.2
             }
            },
            "type": "bar"
           }
          ],
          "barpolar": [
           {
            "marker": {
             "line": {
              "color": "#E5ECF6",
              "width": 0.5
             },
             "pattern": {
              "fillmode": "overlay",
              "size": 10,
              "solidity": 0.2
             }
            },
            "type": "barpolar"
           }
          ],
          "carpet": [
           {
            "aaxis": {
             "endlinecolor": "#2a3f5f",
             "gridcolor": "white",
             "linecolor": "white",
             "minorgridcolor": "white",
             "startlinecolor": "#2a3f5f"
            },
            "baxis": {
             "endlinecolor": "#2a3f5f",
             "gridcolor": "white",
             "linecolor": "white",
             "minorgridcolor": "white",
             "startlinecolor": "#2a3f5f"
            },
            "type": "carpet"
           }
          ],
          "choropleth": [
           {
            "colorbar": {
             "outlinewidth": 0,
             "ticks": ""
            },
            "type": "choropleth"
           }
          ],
          "contour": [
           {
            "colorbar": {
             "outlinewidth": 0,
             "ticks": ""
            },
            "colorscale": [
             [
              0,
              "#0d0887"
             ],
             [
              0.1111111111111111,
              "#46039f"
             ],
             [
              0.2222222222222222,
              "#7201a8"
             ],
             [
              0.3333333333333333,
              "#9c179e"
             ],
             [
              0.4444444444444444,
              "#bd3786"
             ],
             [
              0.5555555555555556,
              "#d8576b"
             ],
             [
              0.6666666666666666,
              "#ed7953"
             ],
             [
              0.7777777777777778,
              "#fb9f3a"
             ],
             [
              0.8888888888888888,
              "#fdca26"
             ],
             [
              1,
              "#f0f921"
             ]
            ],
            "type": "contour"
           }
          ],
          "contourcarpet": [
           {
            "colorbar": {
             "outlinewidth": 0,
             "ticks": ""
            },
            "type": "contourcarpet"
           }
          ],
          "heatmap": [
           {
            "colorbar": {
             "outlinewidth": 0,
             "ticks": ""
            },
            "colorscale": [
             [
              0,
              "#0d0887"
             ],
             [
              0.1111111111111111,
              "#46039f"
             ],
             [
              0.2222222222222222,
              "#7201a8"
             ],
             [
              0.3333333333333333,
              "#9c179e"
             ],
             [
              0.4444444444444444,
              "#bd3786"
             ],
             [
              0.5555555555555556,
              "#d8576b"
             ],
             [
              0.6666666666666666,
              "#ed7953"
             ],
             [
              0.7777777777777778,
              "#fb9f3a"
             ],
             [
              0.8888888888888888,
              "#fdca26"
             ],
             [
              1,
              "#f0f921"
             ]
            ],
            "type": "heatmap"
           }
          ],
          "heatmapgl": [
           {
            "colorbar": {
             "outlinewidth": 0,
             "ticks": ""
            },
            "colorscale": [
             [
              0,
              "#0d0887"
             ],
             [
              0.1111111111111111,
              "#46039f"
             ],
             [
              0.2222222222222222,
              "#7201a8"
             ],
             [
              0.3333333333333333,
              "#9c179e"
             ],
             [
              0.4444444444444444,
              "#bd3786"
             ],
             [
              0.5555555555555556,
              "#d8576b"
             ],
             [
              0.6666666666666666,
              "#ed7953"
             ],
             [
              0.7777777777777778,
              "#fb9f3a"
             ],
             [
              0.8888888888888888,
              "#fdca26"
             ],
             [
              1,
              "#f0f921"
             ]
            ],
            "type": "heatmapgl"
           }
          ],
          "histogram": [
           {
            "marker": {
             "pattern": {
              "fillmode": "overlay",
              "size": 10,
              "solidity": 0.2
             }
            },
            "type": "histogram"
           }
          ],
          "histogram2d": [
           {
            "colorbar": {
             "outlinewidth": 0,
             "ticks": ""
            },
            "colorscale": [
             [
              0,
              "#0d0887"
             ],
             [
              0.1111111111111111,
              "#46039f"
             ],
             [
              0.2222222222222222,
              "#7201a8"
             ],
             [
              0.3333333333333333,
              "#9c179e"
             ],
             [
              0.4444444444444444,
              "#bd3786"
             ],
             [
              0.5555555555555556,
              "#d8576b"
             ],
             [
              0.6666666666666666,
              "#ed7953"
             ],
             [
              0.7777777777777778,
              "#fb9f3a"
             ],
             [
              0.8888888888888888,
              "#fdca26"
             ],
             [
              1,
              "#f0f921"
             ]
            ],
            "type": "histogram2d"
           }
          ],
          "histogram2dcontour": [
           {
            "colorbar": {
             "outlinewidth": 0,
             "ticks": ""
            },
            "colorscale": [
             [
              0,
              "#0d0887"
             ],
             [
              0.1111111111111111,
              "#46039f"
             ],
             [
              0.2222222222222222,
              "#7201a8"
             ],
             [
              0.3333333333333333,
              "#9c179e"
             ],
             [
              0.4444444444444444,
              "#bd3786"
             ],
             [
              0.5555555555555556,
              "#d8576b"
             ],
             [
              0.6666666666666666,
              "#ed7953"
             ],
             [
              0.7777777777777778,
              "#fb9f3a"
             ],
             [
              0.8888888888888888,
              "#fdca26"
             ],
             [
              1,
              "#f0f921"
             ]
            ],
            "type": "histogram2dcontour"
           }
          ],
          "mesh3d": [
           {
            "colorbar": {
             "outlinewidth": 0,
             "ticks": ""
            },
            "type": "mesh3d"
           }
          ],
          "parcoords": [
           {
            "line": {
             "colorbar": {
              "outlinewidth": 0,
              "ticks": ""
             }
            },
            "type": "parcoords"
           }
          ],
          "pie": [
           {
            "automargin": true,
            "type": "pie"
           }
          ],
          "scatter": [
           {
            "fillpattern": {
             "fillmode": "overlay",
             "size": 10,
             "solidity": 0.2
            },
            "type": "scatter"
           }
          ],
          "scatter3d": [
           {
            "line": {
             "colorbar": {
              "outlinewidth": 0,
              "ticks": ""
             }
            },
            "marker": {
             "colorbar": {
              "outlinewidth": 0,
              "ticks": ""
             }
            },
            "type": "scatter3d"
           }
          ],
          "scattercarpet": [
           {
            "marker": {
             "colorbar": {
              "outlinewidth": 0,
              "ticks": ""
             }
            },
            "type": "scattercarpet"
           }
          ],
          "scattergeo": [
           {
            "marker": {
             "colorbar": {
              "outlinewidth": 0,
              "ticks": ""
             }
            },
            "type": "scattergeo"
           }
          ],
          "scattergl": [
           {
            "marker": {
             "colorbar": {
              "outlinewidth": 0,
              "ticks": ""
             }
            },
            "type": "scattergl"
           }
          ],
          "scattermapbox": [
           {
            "marker": {
             "colorbar": {
              "outlinewidth": 0,
              "ticks": ""
             }
            },
            "type": "scattermapbox"
           }
          ],
          "scatterpolar": [
           {
            "marker": {
             "colorbar": {
              "outlinewidth": 0,
              "ticks": ""
             }
            },
            "type": "scatterpolar"
           }
          ],
          "scatterpolargl": [
           {
            "marker": {
             "colorbar": {
              "outlinewidth": 0,
              "ticks": ""
             }
            },
            "type": "scatterpolargl"
           }
          ],
          "scatterternary": [
           {
            "marker": {
             "colorbar": {
              "outlinewidth": 0,
              "ticks": ""
             }
            },
            "type": "scatterternary"
           }
          ],
          "surface": [
           {
            "colorbar": {
             "outlinewidth": 0,
             "ticks": ""
            },
            "colorscale": [
             [
              0,
              "#0d0887"
             ],
             [
              0.1111111111111111,
              "#46039f"
             ],
             [
              0.2222222222222222,
              "#7201a8"
             ],
             [
              0.3333333333333333,
              "#9c179e"
             ],
             [
              0.4444444444444444,
              "#bd3786"
             ],
             [
              0.5555555555555556,
              "#d8576b"
             ],
             [
              0.6666666666666666,
              "#ed7953"
             ],
             [
              0.7777777777777778,
              "#fb9f3a"
             ],
             [
              0.8888888888888888,
              "#fdca26"
             ],
             [
              1,
              "#f0f921"
             ]
            ],
            "type": "surface"
           }
          ],
          "table": [
           {
            "cells": {
             "fill": {
              "color": "#EBF0F8"
             },
             "line": {
              "color": "white"
             }
            },
            "header": {
             "fill": {
              "color": "#C8D4E3"
             },
             "line": {
              "color": "white"
             }
            },
            "type": "table"
           }
          ]
         },
         "layout": {
          "annotationdefaults": {
           "arrowcolor": "#2a3f5f",
           "arrowhead": 0,
           "arrowwidth": 1
          },
          "autotypenumbers": "strict",
          "coloraxis": {
           "colorbar": {
            "outlinewidth": 0,
            "ticks": ""
           }
          },
          "colorscale": {
           "diverging": [
            [
             0,
             "#8e0152"
            ],
            [
             0.1,
             "#c51b7d"
            ],
            [
             0.2,
             "#de77ae"
            ],
            [
             0.3,
             "#f1b6da"
            ],
            [
             0.4,
             "#fde0ef"
            ],
            [
             0.5,
             "#f7f7f7"
            ],
            [
             0.6,
             "#e6f5d0"
            ],
            [
             0.7,
             "#b8e186"
            ],
            [
             0.8,
             "#7fbc41"
            ],
            [
             0.9,
             "#4d9221"
            ],
            [
             1,
             "#276419"
            ]
           ],
           "sequential": [
            [
             0,
             "#0d0887"
            ],
            [
             0.1111111111111111,
             "#46039f"
            ],
            [
             0.2222222222222222,
             "#7201a8"
            ],
            [
             0.3333333333333333,
             "#9c179e"
            ],
            [
             0.4444444444444444,
             "#bd3786"
            ],
            [
             0.5555555555555556,
             "#d8576b"
            ],
            [
             0.6666666666666666,
             "#ed7953"
            ],
            [
             0.7777777777777778,
             "#fb9f3a"
            ],
            [
             0.8888888888888888,
             "#fdca26"
            ],
            [
             1,
             "#f0f921"
            ]
           ],
           "sequentialminus": [
            [
             0,
             "#0d0887"
            ],
            [
             0.1111111111111111,
             "#46039f"
            ],
            [
             0.2222222222222222,
             "#7201a8"
            ],
            [
             0.3333333333333333,
             "#9c179e"
            ],
            [
             0.4444444444444444,
             "#bd3786"
            ],
            [
             0.5555555555555556,
             "#d8576b"
            ],
            [
             0.6666666666666666,
             "#ed7953"
            ],
            [
             0.7777777777777778,
             "#fb9f3a"
            ],
            [
             0.8888888888888888,
             "#fdca26"
            ],
            [
             1,
             "#f0f921"
            ]
           ]
          },
          "colorway": [
           "#636efa",
           "#EF553B",
           "#00cc96",
           "#ab63fa",
           "#FFA15A",
           "#19d3f3",
           "#FF6692",
           "#B6E880",
           "#FF97FF",
           "#FECB52"
          ],
          "font": {
           "color": "#2a3f5f"
          },
          "geo": {
           "bgcolor": "white",
           "lakecolor": "white",
           "landcolor": "#E5ECF6",
           "showlakes": true,
           "showland": true,
           "subunitcolor": "white"
          },
          "hoverlabel": {
           "align": "left"
          },
          "hovermode": "closest",
          "mapbox": {
           "style": "light"
          },
          "paper_bgcolor": "white",
          "plot_bgcolor": "#E5ECF6",
          "polar": {
           "angularaxis": {
            "gridcolor": "white",
            "linecolor": "white",
            "ticks": ""
           },
           "bgcolor": "#E5ECF6",
           "radialaxis": {
            "gridcolor": "white",
            "linecolor": "white",
            "ticks": ""
           }
          },
          "scene": {
           "xaxis": {
            "backgroundcolor": "#E5ECF6",
            "gridcolor": "white",
            "gridwidth": 2,
            "linecolor": "white",
            "showbackground": true,
            "ticks": "",
            "zerolinecolor": "white"
           },
           "yaxis": {
            "backgroundcolor": "#E5ECF6",
            "gridcolor": "white",
            "gridwidth": 2,
            "linecolor": "white",
            "showbackground": true,
            "ticks": "",
            "zerolinecolor": "white"
           },
           "zaxis": {
            "backgroundcolor": "#E5ECF6",
            "gridcolor": "white",
            "gridwidth": 2,
            "linecolor": "white",
            "showbackground": true,
            "ticks": "",
            "zerolinecolor": "white"
           }
          },
          "shapedefaults": {
           "line": {
            "color": "#2a3f5f"
           }
          },
          "ternary": {
           "aaxis": {
            "gridcolor": "white",
            "linecolor": "white",
            "ticks": ""
           },
           "baxis": {
            "gridcolor": "white",
            "linecolor": "white",
            "ticks": ""
           },
           "bgcolor": "#E5ECF6",
           "caxis": {
            "gridcolor": "white",
            "linecolor": "white",
            "ticks": ""
           }
          },
          "title": {
           "x": 0.05
          },
          "xaxis": {
           "automargin": true,
           "gridcolor": "white",
           "linecolor": "white",
           "ticks": "",
           "title": {
            "standoff": 15
           },
           "zerolinecolor": "white",
           "zerolinewidth": 2
          },
          "yaxis": {
           "automargin": true,
           "gridcolor": "white",
           "linecolor": "white",
           "ticks": "",
           "title": {
            "standoff": 15
           },
           "zerolinecolor": "white",
           "zerolinewidth": 2
          }
         }
        },
        "title": {
         "font": {
          "color": "#4D5663"
         },
         "text": "Quantity per Invoice [Netherlands]"
        },
        "xaxis": {
         "gridcolor": "#E1E5ED",
         "showgrid": true,
         "tickfont": {
          "color": "#4D5663"
         },
         "title": {
          "font": {
           "color": "#4D5663"
          },
          "text": ""
         },
         "zerolinecolor": "#E1E5ED"
        },
        "yaxis": {
         "gridcolor": "#E1E5ED",
         "showgrid": true,
         "tickfont": {
          "color": "#4D5663"
         },
         "title": {
          "font": {
           "color": "#4D5663"
          },
          "text": ""
         },
         "zerolinecolor": "#E1E5ED"
        }
       }
      },
      "text/html": [
       "<div>                            <div id=\"b5de42f8-69e1-4ec7-83db-c46384ec3f7e\" class=\"plotly-graph-div\" style=\"height:525px; width:100%;\"></div>            <script type=\"text/javascript\">                require([\"plotly\"], function(Plotly) {                    window.PLOTLYENV=window.PLOTLYENV || {};\n",
       "                    window.PLOTLYENV.BASE_URL='https://plot.ly';                                    if (document.getElementById(\"b5de42f8-69e1-4ec7-83db-c46384ec3f7e\")) {                    Plotly.newPlot(                        \"b5de42f8-69e1-4ec7-83db-c46384ec3f7e\",                        [{\"histfunc\":\"count\",\"histnorm\":\"\",\"marker\":{\"color\":\"rgba(255, 153, 51, 1.0)\",\"line\":{\"color\":\"#4D5663\",\"width\":1.3}},\"name\":\"InvoiceNo\",\"nbinsx\":93,\"opacity\":0.8,\"orientation\":\"v\",\"x\":[536403,539491,539731,541206,541570,541608,541711,542720,542894,543387,544479,544480,544672,546027,546433,547365,547796,547825,548010,548011,548211,548969,548970,551345,552845,552846,552882,552883,552885,553682,554038,554642,554827,555003,555106,555160,555164,555407,555589,556235,557263,557328,557525,558262,558263,558311,560710,562789,562790,563076,563165,564169,564650,564652,565967,565975,566173,566557,567280,567290,567795,569665,569719,569720,570191,571697,572035,572051,572052,572123,572233,572236,573002,573003,573004,574056,574058,574059,575508,575510,575709,576664,577326,577474,578034,578082,578140,578141,578143,579528,581175,581176,581338],\"type\":\"histogram\"}],                        {\"barmode\":\"overlay\",\"legend\":{\"bgcolor\":\"#F5F6F9\",\"font\":{\"color\":\"#4D5663\"}},\"paper_bgcolor\":\"#F5F6F9\",\"plot_bgcolor\":\"#F5F6F9\",\"template\":{\"data\":{\"barpolar\":[{\"marker\":{\"line\":{\"color\":\"#E5ECF6\",\"width\":0.5},\"pattern\":{\"fillmode\":\"overlay\",\"size\":10,\"solidity\":0.2}},\"type\":\"barpolar\"}],\"bar\":[{\"error_x\":{\"color\":\"#2a3f5f\"},\"error_y\":{\"color\":\"#2a3f5f\"},\"marker\":{\"line\":{\"color\":\"#E5ECF6\",\"width\":0.5},\"pattern\":{\"fillmode\":\"overlay\",\"size\":10,\"solidity\":0.2}},\"type\":\"bar\"}],\"carpet\":[{\"aaxis\":{\"endlinecolor\":\"#2a3f5f\",\"gridcolor\":\"white\",\"linecolor\":\"white\",\"minorgridcolor\":\"white\",\"startlinecolor\":\"#2a3f5f\"},\"baxis\":{\"endlinecolor\":\"#2a3f5f\",\"gridcolor\":\"white\",\"linecolor\":\"white\",\"minorgridcolor\":\"white\",\"startlinecolor\":\"#2a3f5f\"},\"type\":\"carpet\"}],\"choropleth\":[{\"colorbar\":{\"outlinewidth\":0,\"ticks\":\"\"},\"type\":\"choropleth\"}],\"contourcarpet\":[{\"colorbar\":{\"outlinewidth\":0,\"ticks\":\"\"},\"type\":\"contourcarpet\"}],\"contour\":[{\"colorbar\":{\"outlinewidth\":0,\"ticks\":\"\"},\"colorscale\":[[0.0,\"#0d0887\"],[0.1111111111111111,\"#46039f\"],[0.2222222222222222,\"#7201a8\"],[0.3333333333333333,\"#9c179e\"],[0.4444444444444444,\"#bd3786\"],[0.5555555555555556,\"#d8576b\"],[0.6666666666666666,\"#ed7953\"],[0.7777777777777778,\"#fb9f3a\"],[0.8888888888888888,\"#fdca26\"],[1.0,\"#f0f921\"]],\"type\":\"contour\"}],\"heatmapgl\":[{\"colorbar\":{\"outlinewidth\":0,\"ticks\":\"\"},\"colorscale\":[[0.0,\"#0d0887\"],[0.1111111111111111,\"#46039f\"],[0.2222222222222222,\"#7201a8\"],[0.3333333333333333,\"#9c179e\"],[0.4444444444444444,\"#bd3786\"],[0.5555555555555556,\"#d8576b\"],[0.6666666666666666,\"#ed7953\"],[0.7777777777777778,\"#fb9f3a\"],[0.8888888888888888,\"#fdca26\"],[1.0,\"#f0f921\"]],\"type\":\"heatmapgl\"}],\"heatmap\":[{\"colorbar\":{\"outlinewidth\":0,\"ticks\":\"\"},\"colorscale\":[[0.0,\"#0d0887\"],[0.1111111111111111,\"#46039f\"],[0.2222222222222222,\"#7201a8\"],[0.3333333333333333,\"#9c179e\"],[0.4444444444444444,\"#bd3786\"],[0.5555555555555556,\"#d8576b\"],[0.6666666666666666,\"#ed7953\"],[0.7777777777777778,\"#fb9f3a\"],[0.8888888888888888,\"#fdca26\"],[1.0,\"#f0f921\"]],\"type\":\"heatmap\"}],\"histogram2dcontour\":[{\"colorbar\":{\"outlinewidth\":0,\"ticks\":\"\"},\"colorscale\":[[0.0,\"#0d0887\"],[0.1111111111111111,\"#46039f\"],[0.2222222222222222,\"#7201a8\"],[0.3333333333333333,\"#9c179e\"],[0.4444444444444444,\"#bd3786\"],[0.5555555555555556,\"#d8576b\"],[0.6666666666666666,\"#ed7953\"],[0.7777777777777778,\"#fb9f3a\"],[0.8888888888888888,\"#fdca26\"],[1.0,\"#f0f921\"]],\"type\":\"histogram2dcontour\"}],\"histogram2d\":[{\"colorbar\":{\"outlinewidth\":0,\"ticks\":\"\"},\"colorscale\":[[0.0,\"#0d0887\"],[0.1111111111111111,\"#46039f\"],[0.2222222222222222,\"#7201a8\"],[0.3333333333333333,\"#9c179e\"],[0.4444444444444444,\"#bd3786\"],[0.5555555555555556,\"#d8576b\"],[0.6666666666666666,\"#ed7953\"],[0.7777777777777778,\"#fb9f3a\"],[0.8888888888888888,\"#fdca26\"],[1.0,\"#f0f921\"]],\"type\":\"histogram2d\"}],\"histogram\":[{\"marker\":{\"pattern\":{\"fillmode\":\"overlay\",\"size\":10,\"solidity\":0.2}},\"type\":\"histogram\"}],\"mesh3d\":[{\"colorbar\":{\"outlinewidth\":0,\"ticks\":\"\"},\"type\":\"mesh3d\"}],\"parcoords\":[{\"line\":{\"colorbar\":{\"outlinewidth\":0,\"ticks\":\"\"}},\"type\":\"parcoords\"}],\"pie\":[{\"automargin\":true,\"type\":\"pie\"}],\"scatter3d\":[{\"line\":{\"colorbar\":{\"outlinewidth\":0,\"ticks\":\"\"}},\"marker\":{\"colorbar\":{\"outlinewidth\":0,\"ticks\":\"\"}},\"type\":\"scatter3d\"}],\"scattercarpet\":[{\"marker\":{\"colorbar\":{\"outlinewidth\":0,\"ticks\":\"\"}},\"type\":\"scattercarpet\"}],\"scattergeo\":[{\"marker\":{\"colorbar\":{\"outlinewidth\":0,\"ticks\":\"\"}},\"type\":\"scattergeo\"}],\"scattergl\":[{\"marker\":{\"colorbar\":{\"outlinewidth\":0,\"ticks\":\"\"}},\"type\":\"scattergl\"}],\"scattermapbox\":[{\"marker\":{\"colorbar\":{\"outlinewidth\":0,\"ticks\":\"\"}},\"type\":\"scattermapbox\"}],\"scatterpolargl\":[{\"marker\":{\"colorbar\":{\"outlinewidth\":0,\"ticks\":\"\"}},\"type\":\"scatterpolargl\"}],\"scatterpolar\":[{\"marker\":{\"colorbar\":{\"outlinewidth\":0,\"ticks\":\"\"}},\"type\":\"scatterpolar\"}],\"scatter\":[{\"fillpattern\":{\"fillmode\":\"overlay\",\"size\":10,\"solidity\":0.2},\"type\":\"scatter\"}],\"scatterternary\":[{\"marker\":{\"colorbar\":{\"outlinewidth\":0,\"ticks\":\"\"}},\"type\":\"scatterternary\"}],\"surface\":[{\"colorbar\":{\"outlinewidth\":0,\"ticks\":\"\"},\"colorscale\":[[0.0,\"#0d0887\"],[0.1111111111111111,\"#46039f\"],[0.2222222222222222,\"#7201a8\"],[0.3333333333333333,\"#9c179e\"],[0.4444444444444444,\"#bd3786\"],[0.5555555555555556,\"#d8576b\"],[0.6666666666666666,\"#ed7953\"],[0.7777777777777778,\"#fb9f3a\"],[0.8888888888888888,\"#fdca26\"],[1.0,\"#f0f921\"]],\"type\":\"surface\"}],\"table\":[{\"cells\":{\"fill\":{\"color\":\"#EBF0F8\"},\"line\":{\"color\":\"white\"}},\"header\":{\"fill\":{\"color\":\"#C8D4E3\"},\"line\":{\"color\":\"white\"}},\"type\":\"table\"}]},\"layout\":{\"annotationdefaults\":{\"arrowcolor\":\"#2a3f5f\",\"arrowhead\":0,\"arrowwidth\":1},\"autotypenumbers\":\"strict\",\"coloraxis\":{\"colorbar\":{\"outlinewidth\":0,\"ticks\":\"\"}},\"colorscale\":{\"diverging\":[[0,\"#8e0152\"],[0.1,\"#c51b7d\"],[0.2,\"#de77ae\"],[0.3,\"#f1b6da\"],[0.4,\"#fde0ef\"],[0.5,\"#f7f7f7\"],[0.6,\"#e6f5d0\"],[0.7,\"#b8e186\"],[0.8,\"#7fbc41\"],[0.9,\"#4d9221\"],[1,\"#276419\"]],\"sequential\":[[0.0,\"#0d0887\"],[0.1111111111111111,\"#46039f\"],[0.2222222222222222,\"#7201a8\"],[0.3333333333333333,\"#9c179e\"],[0.4444444444444444,\"#bd3786\"],[0.5555555555555556,\"#d8576b\"],[0.6666666666666666,\"#ed7953\"],[0.7777777777777778,\"#fb9f3a\"],[0.8888888888888888,\"#fdca26\"],[1.0,\"#f0f921\"]],\"sequentialminus\":[[0.0,\"#0d0887\"],[0.1111111111111111,\"#46039f\"],[0.2222222222222222,\"#7201a8\"],[0.3333333333333333,\"#9c179e\"],[0.4444444444444444,\"#bd3786\"],[0.5555555555555556,\"#d8576b\"],[0.6666666666666666,\"#ed7953\"],[0.7777777777777778,\"#fb9f3a\"],[0.8888888888888888,\"#fdca26\"],[1.0,\"#f0f921\"]]},\"colorway\":[\"#636efa\",\"#EF553B\",\"#00cc96\",\"#ab63fa\",\"#FFA15A\",\"#19d3f3\",\"#FF6692\",\"#B6E880\",\"#FF97FF\",\"#FECB52\"],\"font\":{\"color\":\"#2a3f5f\"},\"geo\":{\"bgcolor\":\"white\",\"lakecolor\":\"white\",\"landcolor\":\"#E5ECF6\",\"showlakes\":true,\"showland\":true,\"subunitcolor\":\"white\"},\"hoverlabel\":{\"align\":\"left\"},\"hovermode\":\"closest\",\"mapbox\":{\"style\":\"light\"},\"paper_bgcolor\":\"white\",\"plot_bgcolor\":\"#E5ECF6\",\"polar\":{\"angularaxis\":{\"gridcolor\":\"white\",\"linecolor\":\"white\",\"ticks\":\"\"},\"bgcolor\":\"#E5ECF6\",\"radialaxis\":{\"gridcolor\":\"white\",\"linecolor\":\"white\",\"ticks\":\"\"}},\"scene\":{\"xaxis\":{\"backgroundcolor\":\"#E5ECF6\",\"gridcolor\":\"white\",\"gridwidth\":2,\"linecolor\":\"white\",\"showbackground\":true,\"ticks\":\"\",\"zerolinecolor\":\"white\"},\"yaxis\":{\"backgroundcolor\":\"#E5ECF6\",\"gridcolor\":\"white\",\"gridwidth\":2,\"linecolor\":\"white\",\"showbackground\":true,\"ticks\":\"\",\"zerolinecolor\":\"white\"},\"zaxis\":{\"backgroundcolor\":\"#E5ECF6\",\"gridcolor\":\"white\",\"gridwidth\":2,\"linecolor\":\"white\",\"showbackground\":true,\"ticks\":\"\",\"zerolinecolor\":\"white\"}},\"shapedefaults\":{\"line\":{\"color\":\"#2a3f5f\"}},\"ternary\":{\"aaxis\":{\"gridcolor\":\"white\",\"linecolor\":\"white\",\"ticks\":\"\"},\"baxis\":{\"gridcolor\":\"white\",\"linecolor\":\"white\",\"ticks\":\"\"},\"bgcolor\":\"#E5ECF6\",\"caxis\":{\"gridcolor\":\"white\",\"linecolor\":\"white\",\"ticks\":\"\"}},\"title\":{\"x\":0.05},\"xaxis\":{\"automargin\":true,\"gridcolor\":\"white\",\"linecolor\":\"white\",\"ticks\":\"\",\"title\":{\"standoff\":15},\"zerolinecolor\":\"white\",\"zerolinewidth\":2},\"yaxis\":{\"automargin\":true,\"gridcolor\":\"white\",\"linecolor\":\"white\",\"ticks\":\"\",\"title\":{\"standoff\":15},\"zerolinecolor\":\"white\",\"zerolinewidth\":2}}},\"title\":{\"font\":{\"color\":\"#4D5663\"},\"text\":\"Quantity per Invoice [Netherlands]\"},\"xaxis\":{\"gridcolor\":\"#E1E5ED\",\"showgrid\":true,\"tickfont\":{\"color\":\"#4D5663\"},\"title\":{\"font\":{\"color\":\"#4D5663\"},\"text\":\"\"},\"zerolinecolor\":\"#E1E5ED\"},\"yaxis\":{\"gridcolor\":\"#E1E5ED\",\"showgrid\":true,\"tickfont\":{\"color\":\"#4D5663\"},\"title\":{\"font\":{\"color\":\"#4D5663\"},\"text\":\"\"},\"zerolinecolor\":\"#E1E5ED\"}},                        {\"showLink\": true, \"linkText\": \"Export to plot.ly\", \"plotlyServerURL\": \"https://plot.ly\", \"responsive\": true}                    ).then(function(){\n",
       "                            \n",
       "var gd = document.getElementById('b5de42f8-69e1-4ec7-83db-c46384ec3f7e');\n",
       "var x = new MutationObserver(function (mutations, observer) {{\n",
       "        var display = window.getComputedStyle(gd).display;\n",
       "        if (!display || display === 'none') {{\n",
       "            console.log([gd, 'removed!']);\n",
       "            Plotly.purge(gd);\n",
       "            observer.disconnect();\n",
       "        }}\n",
       "}});\n",
       "\n",
       "// Listen for the removal of the full notebook cells\n",
       "var notebookContainer = gd.closest('#notebook-container');\n",
       "if (notebookContainer) {{\n",
       "    x.observe(notebookContainer, {childList: true});\n",
       "}}\n",
       "\n",
       "// Listen for the clearing of the current output cell\n",
       "var outputEl = gd.closest('.output');\n",
       "if (outputEl) {{\n",
       "    x.observe(outputEl, {childList: true});\n",
       "}}\n",
       "\n",
       "                        })                };                });            </script>        </div>"
      ]
     },
     "metadata": {},
     "output_type": "display_data"
    }
   ],
   "source": [
    "data_irl = a[a['Country'] == 'EIRE']\n",
    "data_ger = a[a['Country'] == 'Germany']\n",
    "data_fra = a[a['Country'] == 'France']\n",
    "data_net = a[a['Country'] == 'Netherlands']\n",
    "\n",
    "data_irl.groupby('InvoiceNo', as_index=False).sum().InvoiceNo.iplot(kind='hist', x='InvoiceNo',y='Quantity', \n",
    "                title='Quantity per Invoice [EIRE]', bins= len(data_irl['InvoiceNo'].unique()))\n",
    "\n",
    "\n",
    "data_ger.groupby('InvoiceNo', as_index=False).sum().InvoiceNo.iplot(kind='hist', x='InvoiceNo',y='Quantity', \n",
    "                title='Quantity per Invoice [Germany]', bins= len(data_ger['InvoiceNo'].unique()))\n",
    "\n",
    "\n",
    "data_fra.groupby('InvoiceNo', as_index=False).sum().InvoiceNo.iplot(kind='hist', x='InvoiceNo',y='Quantity', \n",
    "                title='Quantity per Invoice [France]', bins= len(data_fra['InvoiceNo'].unique()))\n",
    "\n",
    "data_net.groupby('InvoiceNo', as_index=False).sum().InvoiceNo.iplot(kind='hist', x='InvoiceNo',y='Quantity', \n",
    "                title='Quantity per Invoice [Netherlands]', bins= len(data_net['InvoiceNo'].unique()))\n",
    "\n",
    "\n"
   ]
  },
  {
   "cell_type": "code",
   "execution_count": null,
   "metadata": {},
   "outputs": [],
   "source": []
  },
  {
   "cell_type": "markdown",
   "metadata": {},
   "source": [
    "## 5. Create an interactive side-by-side bar chart showing the revenue by country listed below (bars) for each of the products listed below."
   ]
  },
  {
   "cell_type": "code",
   "execution_count": null,
   "metadata": {},
   "outputs": [],
   "source": [
    "product_list = ['JUMBO BAG RED RETROSPOT',\n",
    "                'CREAM HANGING HEART T-LIGHT HOLDER',\n",
    "                'REGENCY CAKESTAND 3 TIER']\n",
    "\n",
    "country_list = ['EIRE', 'Germany', 'France', 'Netherlands']\n"
   ]
  },
  {
   "cell_type": "code",
   "execution_count": 165,
   "metadata": {},
   "outputs": [
    {
     "data": {
      "application/vnd.plotly.v1+json": {
       "config": {
        "linkText": "Export to plot.ly",
        "plotlyServerURL": "https://plot.ly",
        "showLink": true
       },
       "data": [
        {
         "marker": {
          "color": "rgba(255, 153, 51, 0.6)",
          "line": {
           "color": "rgba(255, 153, 51, 1.0)",
           "width": 1
          }
         },
         "name": "CREAM HANGING HEART T-LIGHT HOLDER",
         "orientation": "v",
         "text": "",
         "type": "bar",
         "x": [
          "EIRE",
          "France",
          "Germany",
          "Netherlands"
         ],
         "y": [
          2740.8,
          131.75,
          35.40000000000001,
          1167
         ]
        },
        {
         "marker": {
          "color": "rgba(55, 128, 191, 0.6)",
          "line": {
           "color": "rgba(55, 128, 191, 1.0)",
           "width": 1
          }
         },
         "name": "JUMBO BAG RED RETROSPOT",
         "orientation": "v",
         "text": "",
         "type": "bar",
         "x": [
          "EIRE",
          "France",
          "Germany",
          "Netherlands"
         ],
         "y": [
          278.72,
          903.37,
          1072.76,
          3468
         ]
        },
        {
         "marker": {
          "color": "rgba(50, 171, 96, 0.6)",
          "line": {
           "color": "rgba(50, 171, 96, 1.0)",
           "width": 1
          }
         },
         "name": "REGENCY CAKESTAND 3 TIER",
         "orientation": "v",
         "text": "",
         "type": "bar",
         "x": [
          "EIRE",
          "France",
          "Germany",
          "Netherlands"
         ],
         "y": [
          7388.55,
          2816.85,
          9061.949999999999,
          3166.35
         ]
        }
       ],
       "layout": {
        "legend": {
         "bgcolor": "#F5F6F9",
         "font": {
          "color": "#4D5663"
         }
        },
        "paper_bgcolor": "#F5F6F9",
        "plot_bgcolor": "#F5F6F9",
        "template": {
         "data": {
          "bar": [
           {
            "error_x": {
             "color": "#2a3f5f"
            },
            "error_y": {
             "color": "#2a3f5f"
            },
            "marker": {
             "line": {
              "color": "#E5ECF6",
              "width": 0.5
             },
             "pattern": {
              "fillmode": "overlay",
              "size": 10,
              "solidity": 0.2
             }
            },
            "type": "bar"
           }
          ],
          "barpolar": [
           {
            "marker": {
             "line": {
              "color": "#E5ECF6",
              "width": 0.5
             },
             "pattern": {
              "fillmode": "overlay",
              "size": 10,
              "solidity": 0.2
             }
            },
            "type": "barpolar"
           }
          ],
          "carpet": [
           {
            "aaxis": {
             "endlinecolor": "#2a3f5f",
             "gridcolor": "white",
             "linecolor": "white",
             "minorgridcolor": "white",
             "startlinecolor": "#2a3f5f"
            },
            "baxis": {
             "endlinecolor": "#2a3f5f",
             "gridcolor": "white",
             "linecolor": "white",
             "minorgridcolor": "white",
             "startlinecolor": "#2a3f5f"
            },
            "type": "carpet"
           }
          ],
          "choropleth": [
           {
            "colorbar": {
             "outlinewidth": 0,
             "ticks": ""
            },
            "type": "choropleth"
           }
          ],
          "contour": [
           {
            "colorbar": {
             "outlinewidth": 0,
             "ticks": ""
            },
            "colorscale": [
             [
              0,
              "#0d0887"
             ],
             [
              0.1111111111111111,
              "#46039f"
             ],
             [
              0.2222222222222222,
              "#7201a8"
             ],
             [
              0.3333333333333333,
              "#9c179e"
             ],
             [
              0.4444444444444444,
              "#bd3786"
             ],
             [
              0.5555555555555556,
              "#d8576b"
             ],
             [
              0.6666666666666666,
              "#ed7953"
             ],
             [
              0.7777777777777778,
              "#fb9f3a"
             ],
             [
              0.8888888888888888,
              "#fdca26"
             ],
             [
              1,
              "#f0f921"
             ]
            ],
            "type": "contour"
           }
          ],
          "contourcarpet": [
           {
            "colorbar": {
             "outlinewidth": 0,
             "ticks": ""
            },
            "type": "contourcarpet"
           }
          ],
          "heatmap": [
           {
            "colorbar": {
             "outlinewidth": 0,
             "ticks": ""
            },
            "colorscale": [
             [
              0,
              "#0d0887"
             ],
             [
              0.1111111111111111,
              "#46039f"
             ],
             [
              0.2222222222222222,
              "#7201a8"
             ],
             [
              0.3333333333333333,
              "#9c179e"
             ],
             [
              0.4444444444444444,
              "#bd3786"
             ],
             [
              0.5555555555555556,
              "#d8576b"
             ],
             [
              0.6666666666666666,
              "#ed7953"
             ],
             [
              0.7777777777777778,
              "#fb9f3a"
             ],
             [
              0.8888888888888888,
              "#fdca26"
             ],
             [
              1,
              "#f0f921"
             ]
            ],
            "type": "heatmap"
           }
          ],
          "heatmapgl": [
           {
            "colorbar": {
             "outlinewidth": 0,
             "ticks": ""
            },
            "colorscale": [
             [
              0,
              "#0d0887"
             ],
             [
              0.1111111111111111,
              "#46039f"
             ],
             [
              0.2222222222222222,
              "#7201a8"
             ],
             [
              0.3333333333333333,
              "#9c179e"
             ],
             [
              0.4444444444444444,
              "#bd3786"
             ],
             [
              0.5555555555555556,
              "#d8576b"
             ],
             [
              0.6666666666666666,
              "#ed7953"
             ],
             [
              0.7777777777777778,
              "#fb9f3a"
             ],
             [
              0.8888888888888888,
              "#fdca26"
             ],
             [
              1,
              "#f0f921"
             ]
            ],
            "type": "heatmapgl"
           }
          ],
          "histogram": [
           {
            "marker": {
             "pattern": {
              "fillmode": "overlay",
              "size": 10,
              "solidity": 0.2
             }
            },
            "type": "histogram"
           }
          ],
          "histogram2d": [
           {
            "colorbar": {
             "outlinewidth": 0,
             "ticks": ""
            },
            "colorscale": [
             [
              0,
              "#0d0887"
             ],
             [
              0.1111111111111111,
              "#46039f"
             ],
             [
              0.2222222222222222,
              "#7201a8"
             ],
             [
              0.3333333333333333,
              "#9c179e"
             ],
             [
              0.4444444444444444,
              "#bd3786"
             ],
             [
              0.5555555555555556,
              "#d8576b"
             ],
             [
              0.6666666666666666,
              "#ed7953"
             ],
             [
              0.7777777777777778,
              "#fb9f3a"
             ],
             [
              0.8888888888888888,
              "#fdca26"
             ],
             [
              1,
              "#f0f921"
             ]
            ],
            "type": "histogram2d"
           }
          ],
          "histogram2dcontour": [
           {
            "colorbar": {
             "outlinewidth": 0,
             "ticks": ""
            },
            "colorscale": [
             [
              0,
              "#0d0887"
             ],
             [
              0.1111111111111111,
              "#46039f"
             ],
             [
              0.2222222222222222,
              "#7201a8"
             ],
             [
              0.3333333333333333,
              "#9c179e"
             ],
             [
              0.4444444444444444,
              "#bd3786"
             ],
             [
              0.5555555555555556,
              "#d8576b"
             ],
             [
              0.6666666666666666,
              "#ed7953"
             ],
             [
              0.7777777777777778,
              "#fb9f3a"
             ],
             [
              0.8888888888888888,
              "#fdca26"
             ],
             [
              1,
              "#f0f921"
             ]
            ],
            "type": "histogram2dcontour"
           }
          ],
          "mesh3d": [
           {
            "colorbar": {
             "outlinewidth": 0,
             "ticks": ""
            },
            "type": "mesh3d"
           }
          ],
          "parcoords": [
           {
            "line": {
             "colorbar": {
              "outlinewidth": 0,
              "ticks": ""
             }
            },
            "type": "parcoords"
           }
          ],
          "pie": [
           {
            "automargin": true,
            "type": "pie"
           }
          ],
          "scatter": [
           {
            "fillpattern": {
             "fillmode": "overlay",
             "size": 10,
             "solidity": 0.2
            },
            "type": "scatter"
           }
          ],
          "scatter3d": [
           {
            "line": {
             "colorbar": {
              "outlinewidth": 0,
              "ticks": ""
             }
            },
            "marker": {
             "colorbar": {
              "outlinewidth": 0,
              "ticks": ""
             }
            },
            "type": "scatter3d"
           }
          ],
          "scattercarpet": [
           {
            "marker": {
             "colorbar": {
              "outlinewidth": 0,
              "ticks": ""
             }
            },
            "type": "scattercarpet"
           }
          ],
          "scattergeo": [
           {
            "marker": {
             "colorbar": {
              "outlinewidth": 0,
              "ticks": ""
             }
            },
            "type": "scattergeo"
           }
          ],
          "scattergl": [
           {
            "marker": {
             "colorbar": {
              "outlinewidth": 0,
              "ticks": ""
             }
            },
            "type": "scattergl"
           }
          ],
          "scattermapbox": [
           {
            "marker": {
             "colorbar": {
              "outlinewidth": 0,
              "ticks": ""
             }
            },
            "type": "scattermapbox"
           }
          ],
          "scatterpolar": [
           {
            "marker": {
             "colorbar": {
              "outlinewidth": 0,
              "ticks": ""
             }
            },
            "type": "scatterpolar"
           }
          ],
          "scatterpolargl": [
           {
            "marker": {
             "colorbar": {
              "outlinewidth": 0,
              "ticks": ""
             }
            },
            "type": "scatterpolargl"
           }
          ],
          "scatterternary": [
           {
            "marker": {
             "colorbar": {
              "outlinewidth": 0,
              "ticks": ""
             }
            },
            "type": "scatterternary"
           }
          ],
          "surface": [
           {
            "colorbar": {
             "outlinewidth": 0,
             "ticks": ""
            },
            "colorscale": [
             [
              0,
              "#0d0887"
             ],
             [
              0.1111111111111111,
              "#46039f"
             ],
             [
              0.2222222222222222,
              "#7201a8"
             ],
             [
              0.3333333333333333,
              "#9c179e"
             ],
             [
              0.4444444444444444,
              "#bd3786"
             ],
             [
              0.5555555555555556,
              "#d8576b"
             ],
             [
              0.6666666666666666,
              "#ed7953"
             ],
             [
              0.7777777777777778,
              "#fb9f3a"
             ],
             [
              0.8888888888888888,
              "#fdca26"
             ],
             [
              1,
              "#f0f921"
             ]
            ],
            "type": "surface"
           }
          ],
          "table": [
           {
            "cells": {
             "fill": {
              "color": "#EBF0F8"
             },
             "line": {
              "color": "white"
             }
            },
            "header": {
             "fill": {
              "color": "#C8D4E3"
             },
             "line": {
              "color": "white"
             }
            },
            "type": "table"
           }
          ]
         },
         "layout": {
          "annotationdefaults": {
           "arrowcolor": "#2a3f5f",
           "arrowhead": 0,
           "arrowwidth": 1
          },
          "autotypenumbers": "strict",
          "coloraxis": {
           "colorbar": {
            "outlinewidth": 0,
            "ticks": ""
           }
          },
          "colorscale": {
           "diverging": [
            [
             0,
             "#8e0152"
            ],
            [
             0.1,
             "#c51b7d"
            ],
            [
             0.2,
             "#de77ae"
            ],
            [
             0.3,
             "#f1b6da"
            ],
            [
             0.4,
             "#fde0ef"
            ],
            [
             0.5,
             "#f7f7f7"
            ],
            [
             0.6,
             "#e6f5d0"
            ],
            [
             0.7,
             "#b8e186"
            ],
            [
             0.8,
             "#7fbc41"
            ],
            [
             0.9,
             "#4d9221"
            ],
            [
             1,
             "#276419"
            ]
           ],
           "sequential": [
            [
             0,
             "#0d0887"
            ],
            [
             0.1111111111111111,
             "#46039f"
            ],
            [
             0.2222222222222222,
             "#7201a8"
            ],
            [
             0.3333333333333333,
             "#9c179e"
            ],
            [
             0.4444444444444444,
             "#bd3786"
            ],
            [
             0.5555555555555556,
             "#d8576b"
            ],
            [
             0.6666666666666666,
             "#ed7953"
            ],
            [
             0.7777777777777778,
             "#fb9f3a"
            ],
            [
             0.8888888888888888,
             "#fdca26"
            ],
            [
             1,
             "#f0f921"
            ]
           ],
           "sequentialminus": [
            [
             0,
             "#0d0887"
            ],
            [
             0.1111111111111111,
             "#46039f"
            ],
            [
             0.2222222222222222,
             "#7201a8"
            ],
            [
             0.3333333333333333,
             "#9c179e"
            ],
            [
             0.4444444444444444,
             "#bd3786"
            ],
            [
             0.5555555555555556,
             "#d8576b"
            ],
            [
             0.6666666666666666,
             "#ed7953"
            ],
            [
             0.7777777777777778,
             "#fb9f3a"
            ],
            [
             0.8888888888888888,
             "#fdca26"
            ],
            [
             1,
             "#f0f921"
            ]
           ]
          },
          "colorway": [
           "#636efa",
           "#EF553B",
           "#00cc96",
           "#ab63fa",
           "#FFA15A",
           "#19d3f3",
           "#FF6692",
           "#B6E880",
           "#FF97FF",
           "#FECB52"
          ],
          "font": {
           "color": "#2a3f5f"
          },
          "geo": {
           "bgcolor": "white",
           "lakecolor": "white",
           "landcolor": "#E5ECF6",
           "showlakes": true,
           "showland": true,
           "subunitcolor": "white"
          },
          "hoverlabel": {
           "align": "left"
          },
          "hovermode": "closest",
          "mapbox": {
           "style": "light"
          },
          "paper_bgcolor": "white",
          "plot_bgcolor": "#E5ECF6",
          "polar": {
           "angularaxis": {
            "gridcolor": "white",
            "linecolor": "white",
            "ticks": ""
           },
           "bgcolor": "#E5ECF6",
           "radialaxis": {
            "gridcolor": "white",
            "linecolor": "white",
            "ticks": ""
           }
          },
          "scene": {
           "xaxis": {
            "backgroundcolor": "#E5ECF6",
            "gridcolor": "white",
            "gridwidth": 2,
            "linecolor": "white",
            "showbackground": true,
            "ticks": "",
            "zerolinecolor": "white"
           },
           "yaxis": {
            "backgroundcolor": "#E5ECF6",
            "gridcolor": "white",
            "gridwidth": 2,
            "linecolor": "white",
            "showbackground": true,
            "ticks": "",
            "zerolinecolor": "white"
           },
           "zaxis": {
            "backgroundcolor": "#E5ECF6",
            "gridcolor": "white",
            "gridwidth": 2,
            "linecolor": "white",
            "showbackground": true,
            "ticks": "",
            "zerolinecolor": "white"
           }
          },
          "shapedefaults": {
           "line": {
            "color": "#2a3f5f"
           }
          },
          "ternary": {
           "aaxis": {
            "gridcolor": "white",
            "linecolor": "white",
            "ticks": ""
           },
           "baxis": {
            "gridcolor": "white",
            "linecolor": "white",
            "ticks": ""
           },
           "bgcolor": "#E5ECF6",
           "caxis": {
            "gridcolor": "white",
            "linecolor": "white",
            "ticks": ""
           }
          },
          "title": {
           "x": 0.05
          },
          "xaxis": {
           "automargin": true,
           "gridcolor": "white",
           "linecolor": "white",
           "ticks": "",
           "title": {
            "standoff": 15
           },
           "zerolinecolor": "white",
           "zerolinewidth": 2
          },
          "yaxis": {
           "automargin": true,
           "gridcolor": "white",
           "linecolor": "white",
           "ticks": "",
           "title": {
            "standoff": 15
           },
           "zerolinecolor": "white",
           "zerolinewidth": 2
          }
         }
        },
        "title": {
         "font": {
          "color": "#4D5663"
         },
         "text": "Revenue by Country"
        },
        "xaxis": {
         "gridcolor": "#E1E5ED",
         "showgrid": true,
         "tickfont": {
          "color": "#4D5663"
         },
         "title": {
          "font": {
           "color": "#4D5663"
          },
          "text": "Country"
         },
         "zerolinecolor": "#E1E5ED"
        },
        "yaxis": {
         "gridcolor": "#E1E5ED",
         "showgrid": true,
         "tickfont": {
          "color": "#4D5663"
         },
         "title": {
          "font": {
           "color": "#4D5663"
          },
          "text": "Revenue"
         },
         "zerolinecolor": "#E1E5ED"
        }
       }
      },
      "text/html": [
       "<div>                            <div id=\"afb7ee9f-478f-4392-a0e1-0cafea0460fd\" class=\"plotly-graph-div\" style=\"height:525px; width:100%;\"></div>            <script type=\"text/javascript\">                require([\"plotly\"], function(Plotly) {                    window.PLOTLYENV=window.PLOTLYENV || {};\n",
       "                    window.PLOTLYENV.BASE_URL='https://plot.ly';                                    if (document.getElementById(\"afb7ee9f-478f-4392-a0e1-0cafea0460fd\")) {                    Plotly.newPlot(                        \"afb7ee9f-478f-4392-a0e1-0cafea0460fd\",                        [{\"marker\":{\"color\":\"rgba(255, 153, 51, 0.6)\",\"line\":{\"color\":\"rgba(255, 153, 51, 1.0)\",\"width\":1}},\"name\":\"CREAM HANGING HEART T-LIGHT HOLDER\",\"orientation\":\"v\",\"text\":\"\",\"x\":[\"EIRE\",\"France\",\"Germany\",\"Netherlands\"],\"y\":[2740.8,131.75,35.40000000000001,1167.0],\"type\":\"bar\"},{\"marker\":{\"color\":\"rgba(55, 128, 191, 0.6)\",\"line\":{\"color\":\"rgba(55, 128, 191, 1.0)\",\"width\":1}},\"name\":\"JUMBO BAG RED RETROSPOT\",\"orientation\":\"v\",\"text\":\"\",\"x\":[\"EIRE\",\"France\",\"Germany\",\"Netherlands\"],\"y\":[278.72,903.37,1072.76,3468.0],\"type\":\"bar\"},{\"marker\":{\"color\":\"rgba(50, 171, 96, 0.6)\",\"line\":{\"color\":\"rgba(50, 171, 96, 1.0)\",\"width\":1}},\"name\":\"REGENCY CAKESTAND 3 TIER\",\"orientation\":\"v\",\"text\":\"\",\"x\":[\"EIRE\",\"France\",\"Germany\",\"Netherlands\"],\"y\":[7388.55,2816.85,9061.949999999999,3166.35],\"type\":\"bar\"}],                        {\"legend\":{\"bgcolor\":\"#F5F6F9\",\"font\":{\"color\":\"#4D5663\"}},\"paper_bgcolor\":\"#F5F6F9\",\"plot_bgcolor\":\"#F5F6F9\",\"template\":{\"data\":{\"barpolar\":[{\"marker\":{\"line\":{\"color\":\"#E5ECF6\",\"width\":0.5},\"pattern\":{\"fillmode\":\"overlay\",\"size\":10,\"solidity\":0.2}},\"type\":\"barpolar\"}],\"bar\":[{\"error_x\":{\"color\":\"#2a3f5f\"},\"error_y\":{\"color\":\"#2a3f5f\"},\"marker\":{\"line\":{\"color\":\"#E5ECF6\",\"width\":0.5},\"pattern\":{\"fillmode\":\"overlay\",\"size\":10,\"solidity\":0.2}},\"type\":\"bar\"}],\"carpet\":[{\"aaxis\":{\"endlinecolor\":\"#2a3f5f\",\"gridcolor\":\"white\",\"linecolor\":\"white\",\"minorgridcolor\":\"white\",\"startlinecolor\":\"#2a3f5f\"},\"baxis\":{\"endlinecolor\":\"#2a3f5f\",\"gridcolor\":\"white\",\"linecolor\":\"white\",\"minorgridcolor\":\"white\",\"startlinecolor\":\"#2a3f5f\"},\"type\":\"carpet\"}],\"choropleth\":[{\"colorbar\":{\"outlinewidth\":0,\"ticks\":\"\"},\"type\":\"choropleth\"}],\"contourcarpet\":[{\"colorbar\":{\"outlinewidth\":0,\"ticks\":\"\"},\"type\":\"contourcarpet\"}],\"contour\":[{\"colorbar\":{\"outlinewidth\":0,\"ticks\":\"\"},\"colorscale\":[[0.0,\"#0d0887\"],[0.1111111111111111,\"#46039f\"],[0.2222222222222222,\"#7201a8\"],[0.3333333333333333,\"#9c179e\"],[0.4444444444444444,\"#bd3786\"],[0.5555555555555556,\"#d8576b\"],[0.6666666666666666,\"#ed7953\"],[0.7777777777777778,\"#fb9f3a\"],[0.8888888888888888,\"#fdca26\"],[1.0,\"#f0f921\"]],\"type\":\"contour\"}],\"heatmapgl\":[{\"colorbar\":{\"outlinewidth\":0,\"ticks\":\"\"},\"colorscale\":[[0.0,\"#0d0887\"],[0.1111111111111111,\"#46039f\"],[0.2222222222222222,\"#7201a8\"],[0.3333333333333333,\"#9c179e\"],[0.4444444444444444,\"#bd3786\"],[0.5555555555555556,\"#d8576b\"],[0.6666666666666666,\"#ed7953\"],[0.7777777777777778,\"#fb9f3a\"],[0.8888888888888888,\"#fdca26\"],[1.0,\"#f0f921\"]],\"type\":\"heatmapgl\"}],\"heatmap\":[{\"colorbar\":{\"outlinewidth\":0,\"ticks\":\"\"},\"colorscale\":[[0.0,\"#0d0887\"],[0.1111111111111111,\"#46039f\"],[0.2222222222222222,\"#7201a8\"],[0.3333333333333333,\"#9c179e\"],[0.4444444444444444,\"#bd3786\"],[0.5555555555555556,\"#d8576b\"],[0.6666666666666666,\"#ed7953\"],[0.7777777777777778,\"#fb9f3a\"],[0.8888888888888888,\"#fdca26\"],[1.0,\"#f0f921\"]],\"type\":\"heatmap\"}],\"histogram2dcontour\":[{\"colorbar\":{\"outlinewidth\":0,\"ticks\":\"\"},\"colorscale\":[[0.0,\"#0d0887\"],[0.1111111111111111,\"#46039f\"],[0.2222222222222222,\"#7201a8\"],[0.3333333333333333,\"#9c179e\"],[0.4444444444444444,\"#bd3786\"],[0.5555555555555556,\"#d8576b\"],[0.6666666666666666,\"#ed7953\"],[0.7777777777777778,\"#fb9f3a\"],[0.8888888888888888,\"#fdca26\"],[1.0,\"#f0f921\"]],\"type\":\"histogram2dcontour\"}],\"histogram2d\":[{\"colorbar\":{\"outlinewidth\":0,\"ticks\":\"\"},\"colorscale\":[[0.0,\"#0d0887\"],[0.1111111111111111,\"#46039f\"],[0.2222222222222222,\"#7201a8\"],[0.3333333333333333,\"#9c179e\"],[0.4444444444444444,\"#bd3786\"],[0.5555555555555556,\"#d8576b\"],[0.6666666666666666,\"#ed7953\"],[0.7777777777777778,\"#fb9f3a\"],[0.8888888888888888,\"#fdca26\"],[1.0,\"#f0f921\"]],\"type\":\"histogram2d\"}],\"histogram\":[{\"marker\":{\"pattern\":{\"fillmode\":\"overlay\",\"size\":10,\"solidity\":0.2}},\"type\":\"histogram\"}],\"mesh3d\":[{\"colorbar\":{\"outlinewidth\":0,\"ticks\":\"\"},\"type\":\"mesh3d\"}],\"parcoords\":[{\"line\":{\"colorbar\":{\"outlinewidth\":0,\"ticks\":\"\"}},\"type\":\"parcoords\"}],\"pie\":[{\"automargin\":true,\"type\":\"pie\"}],\"scatter3d\":[{\"line\":{\"colorbar\":{\"outlinewidth\":0,\"ticks\":\"\"}},\"marker\":{\"colorbar\":{\"outlinewidth\":0,\"ticks\":\"\"}},\"type\":\"scatter3d\"}],\"scattercarpet\":[{\"marker\":{\"colorbar\":{\"outlinewidth\":0,\"ticks\":\"\"}},\"type\":\"scattercarpet\"}],\"scattergeo\":[{\"marker\":{\"colorbar\":{\"outlinewidth\":0,\"ticks\":\"\"}},\"type\":\"scattergeo\"}],\"scattergl\":[{\"marker\":{\"colorbar\":{\"outlinewidth\":0,\"ticks\":\"\"}},\"type\":\"scattergl\"}],\"scattermapbox\":[{\"marker\":{\"colorbar\":{\"outlinewidth\":0,\"ticks\":\"\"}},\"type\":\"scattermapbox\"}],\"scatterpolargl\":[{\"marker\":{\"colorbar\":{\"outlinewidth\":0,\"ticks\":\"\"}},\"type\":\"scatterpolargl\"}],\"scatterpolar\":[{\"marker\":{\"colorbar\":{\"outlinewidth\":0,\"ticks\":\"\"}},\"type\":\"scatterpolar\"}],\"scatter\":[{\"fillpattern\":{\"fillmode\":\"overlay\",\"size\":10,\"solidity\":0.2},\"type\":\"scatter\"}],\"scatterternary\":[{\"marker\":{\"colorbar\":{\"outlinewidth\":0,\"ticks\":\"\"}},\"type\":\"scatterternary\"}],\"surface\":[{\"colorbar\":{\"outlinewidth\":0,\"ticks\":\"\"},\"colorscale\":[[0.0,\"#0d0887\"],[0.1111111111111111,\"#46039f\"],[0.2222222222222222,\"#7201a8\"],[0.3333333333333333,\"#9c179e\"],[0.4444444444444444,\"#bd3786\"],[0.5555555555555556,\"#d8576b\"],[0.6666666666666666,\"#ed7953\"],[0.7777777777777778,\"#fb9f3a\"],[0.8888888888888888,\"#fdca26\"],[1.0,\"#f0f921\"]],\"type\":\"surface\"}],\"table\":[{\"cells\":{\"fill\":{\"color\":\"#EBF0F8\"},\"line\":{\"color\":\"white\"}},\"header\":{\"fill\":{\"color\":\"#C8D4E3\"},\"line\":{\"color\":\"white\"}},\"type\":\"table\"}]},\"layout\":{\"annotationdefaults\":{\"arrowcolor\":\"#2a3f5f\",\"arrowhead\":0,\"arrowwidth\":1},\"autotypenumbers\":\"strict\",\"coloraxis\":{\"colorbar\":{\"outlinewidth\":0,\"ticks\":\"\"}},\"colorscale\":{\"diverging\":[[0,\"#8e0152\"],[0.1,\"#c51b7d\"],[0.2,\"#de77ae\"],[0.3,\"#f1b6da\"],[0.4,\"#fde0ef\"],[0.5,\"#f7f7f7\"],[0.6,\"#e6f5d0\"],[0.7,\"#b8e186\"],[0.8,\"#7fbc41\"],[0.9,\"#4d9221\"],[1,\"#276419\"]],\"sequential\":[[0.0,\"#0d0887\"],[0.1111111111111111,\"#46039f\"],[0.2222222222222222,\"#7201a8\"],[0.3333333333333333,\"#9c179e\"],[0.4444444444444444,\"#bd3786\"],[0.5555555555555556,\"#d8576b\"],[0.6666666666666666,\"#ed7953\"],[0.7777777777777778,\"#fb9f3a\"],[0.8888888888888888,\"#fdca26\"],[1.0,\"#f0f921\"]],\"sequentialminus\":[[0.0,\"#0d0887\"],[0.1111111111111111,\"#46039f\"],[0.2222222222222222,\"#7201a8\"],[0.3333333333333333,\"#9c179e\"],[0.4444444444444444,\"#bd3786\"],[0.5555555555555556,\"#d8576b\"],[0.6666666666666666,\"#ed7953\"],[0.7777777777777778,\"#fb9f3a\"],[0.8888888888888888,\"#fdca26\"],[1.0,\"#f0f921\"]]},\"colorway\":[\"#636efa\",\"#EF553B\",\"#00cc96\",\"#ab63fa\",\"#FFA15A\",\"#19d3f3\",\"#FF6692\",\"#B6E880\",\"#FF97FF\",\"#FECB52\"],\"font\":{\"color\":\"#2a3f5f\"},\"geo\":{\"bgcolor\":\"white\",\"lakecolor\":\"white\",\"landcolor\":\"#E5ECF6\",\"showlakes\":true,\"showland\":true,\"subunitcolor\":\"white\"},\"hoverlabel\":{\"align\":\"left\"},\"hovermode\":\"closest\",\"mapbox\":{\"style\":\"light\"},\"paper_bgcolor\":\"white\",\"plot_bgcolor\":\"#E5ECF6\",\"polar\":{\"angularaxis\":{\"gridcolor\":\"white\",\"linecolor\":\"white\",\"ticks\":\"\"},\"bgcolor\":\"#E5ECF6\",\"radialaxis\":{\"gridcolor\":\"white\",\"linecolor\":\"white\",\"ticks\":\"\"}},\"scene\":{\"xaxis\":{\"backgroundcolor\":\"#E5ECF6\",\"gridcolor\":\"white\",\"gridwidth\":2,\"linecolor\":\"white\",\"showbackground\":true,\"ticks\":\"\",\"zerolinecolor\":\"white\"},\"yaxis\":{\"backgroundcolor\":\"#E5ECF6\",\"gridcolor\":\"white\",\"gridwidth\":2,\"linecolor\":\"white\",\"showbackground\":true,\"ticks\":\"\",\"zerolinecolor\":\"white\"},\"zaxis\":{\"backgroundcolor\":\"#E5ECF6\",\"gridcolor\":\"white\",\"gridwidth\":2,\"linecolor\":\"white\",\"showbackground\":true,\"ticks\":\"\",\"zerolinecolor\":\"white\"}},\"shapedefaults\":{\"line\":{\"color\":\"#2a3f5f\"}},\"ternary\":{\"aaxis\":{\"gridcolor\":\"white\",\"linecolor\":\"white\",\"ticks\":\"\"},\"baxis\":{\"gridcolor\":\"white\",\"linecolor\":\"white\",\"ticks\":\"\"},\"bgcolor\":\"#E5ECF6\",\"caxis\":{\"gridcolor\":\"white\",\"linecolor\":\"white\",\"ticks\":\"\"}},\"title\":{\"x\":0.05},\"xaxis\":{\"automargin\":true,\"gridcolor\":\"white\",\"linecolor\":\"white\",\"ticks\":\"\",\"title\":{\"standoff\":15},\"zerolinecolor\":\"white\",\"zerolinewidth\":2},\"yaxis\":{\"automargin\":true,\"gridcolor\":\"white\",\"linecolor\":\"white\",\"ticks\":\"\",\"title\":{\"standoff\":15},\"zerolinecolor\":\"white\",\"zerolinewidth\":2}}},\"title\":{\"font\":{\"color\":\"#4D5663\"},\"text\":\"Revenue by Country\"},\"xaxis\":{\"gridcolor\":\"#E1E5ED\",\"showgrid\":true,\"tickfont\":{\"color\":\"#4D5663\"},\"title\":{\"font\":{\"color\":\"#4D5663\"},\"text\":\"Country\"},\"zerolinecolor\":\"#E1E5ED\"},\"yaxis\":{\"gridcolor\":\"#E1E5ED\",\"showgrid\":true,\"tickfont\":{\"color\":\"#4D5663\"},\"title\":{\"font\":{\"color\":\"#4D5663\"},\"text\":\"Revenue\"},\"zerolinecolor\":\"#E1E5ED\"}},                        {\"showLink\": true, \"linkText\": \"Export to plot.ly\", \"plotlyServerURL\": \"https://plot.ly\", \"responsive\": true}                    ).then(function(){\n",
       "                            \n",
       "var gd = document.getElementById('afb7ee9f-478f-4392-a0e1-0cafea0460fd');\n",
       "var x = new MutationObserver(function (mutations, observer) {{\n",
       "        var display = window.getComputedStyle(gd).display;\n",
       "        if (!display || display === 'none') {{\n",
       "            console.log([gd, 'removed!']);\n",
       "            Plotly.purge(gd);\n",
       "            observer.disconnect();\n",
       "        }}\n",
       "}});\n",
       "\n",
       "// Listen for the removal of the full notebook cells\n",
       "var notebookContainer = gd.closest('#notebook-container');\n",
       "if (notebookContainer) {{\n",
       "    x.observe(notebookContainer, {childList: true});\n",
       "}}\n",
       "\n",
       "// Listen for the clearing of the current output cell\n",
       "var outputEl = gd.closest('.output');\n",
       "if (outputEl) {{\n",
       "    x.observe(outputEl, {childList: true});\n",
       "}}\n",
       "\n",
       "                        })                };                });            </script>        </div>"
      ]
     },
     "metadata": {},
     "output_type": "display_data"
    }
   ],
   "source": [
    "prod_lst=['JUMBO BAG RED RETROSPOT', \n",
    "          'CREAM HANGING HEART T-LIGHT HOLDER',\n",
    "          'REGENCY CAKESTAND 3 TIER']\n",
    "\n",
    "country_lst= ['EIRE', 'Germany', 'France', 'Netherlands']\n",
    "\n",
    "data=a.loc[a.Description.isin(prod_lst)]\n",
    "data=data.loc[data.Country.isin(country_lst)]\n",
    "\n",
    "\n",
    "\n",
    "data=data.pivot_table(values='Revenue', columns='Description',\n",
    "                      index='Country', aggfunc='sum')\n",
    "\n",
    "data.reset_index(inplace=True)\n",
    "\n",
    "\n",
    "data.iplot(kind='bar', x='Country', title='Revenue by Country',\n",
    "          xTitle='Country', yTitle='Revenue')"
   ]
  },
  {
   "cell_type": "code",
   "execution_count": null,
   "metadata": {},
   "outputs": [],
   "source": []
  },
  {
   "cell_type": "markdown",
   "metadata": {},
   "source": [
    "## 6. Create an interactive line chart showing quantity sold by day for the United Kingdom. Add drop-down boxes for Year and Month that allow you to filter the date range that appears in the chart."
   ]
  },
  {
   "cell_type": "code",
   "execution_count": 170,
   "metadata": {},
   "outputs": [
    {
     "data": {
      "text/html": [
       "<div>\n",
       "<style scoped>\n",
       "    .dataframe tbody tr th:only-of-type {\n",
       "        vertical-align: middle;\n",
       "    }\n",
       "\n",
       "    .dataframe tbody tr th {\n",
       "        vertical-align: top;\n",
       "    }\n",
       "\n",
       "    .dataframe thead th {\n",
       "        text-align: right;\n",
       "    }\n",
       "</style>\n",
       "<table border=\"1\" class=\"dataframe\">\n",
       "  <thead>\n",
       "    <tr style=\"text-align: right;\">\n",
       "      <th></th>\n",
       "      <th>InvoiceNo</th>\n",
       "      <th>InvoiceDate</th>\n",
       "      <th>StockCode</th>\n",
       "      <th>Description</th>\n",
       "      <th>Quantity</th>\n",
       "      <th>UnitPrice</th>\n",
       "      <th>Revenue</th>\n",
       "      <th>CustomerID</th>\n",
       "      <th>Country</th>\n",
       "      <th>month</th>\n",
       "      <th>day</th>\n",
       "      <th>year</th>\n",
       "    </tr>\n",
       "  </thead>\n",
       "  <tbody>\n",
       "    <tr>\n",
       "      <th>0</th>\n",
       "      <td>536365</td>\n",
       "      <td>2010-12-01 08:26:00</td>\n",
       "      <td>85123A</td>\n",
       "      <td>CREAM HANGING HEART T-LIGHT HOLDER</td>\n",
       "      <td>6</td>\n",
       "      <td>2.55</td>\n",
       "      <td>15.3</td>\n",
       "      <td>17850</td>\n",
       "      <td>United Kingdom</td>\n",
       "      <td>12</td>\n",
       "      <td>1</td>\n",
       "      <td>2010</td>\n",
       "    </tr>\n",
       "    <tr>\n",
       "      <th>1</th>\n",
       "      <td>536373</td>\n",
       "      <td>2010-12-01 09:02:00</td>\n",
       "      <td>85123A</td>\n",
       "      <td>CREAM HANGING HEART T-LIGHT HOLDER</td>\n",
       "      <td>6</td>\n",
       "      <td>2.55</td>\n",
       "      <td>15.3</td>\n",
       "      <td>17850</td>\n",
       "      <td>United Kingdom</td>\n",
       "      <td>12</td>\n",
       "      <td>1</td>\n",
       "      <td>2010</td>\n",
       "    </tr>\n",
       "    <tr>\n",
       "      <th>2</th>\n",
       "      <td>536375</td>\n",
       "      <td>2010-12-01 09:32:00</td>\n",
       "      <td>85123A</td>\n",
       "      <td>CREAM HANGING HEART T-LIGHT HOLDER</td>\n",
       "      <td>6</td>\n",
       "      <td>2.55</td>\n",
       "      <td>15.3</td>\n",
       "      <td>17850</td>\n",
       "      <td>United Kingdom</td>\n",
       "      <td>12</td>\n",
       "      <td>1</td>\n",
       "      <td>2010</td>\n",
       "    </tr>\n",
       "    <tr>\n",
       "      <th>3</th>\n",
       "      <td>536390</td>\n",
       "      <td>2010-12-01 10:19:00</td>\n",
       "      <td>85123A</td>\n",
       "      <td>CREAM HANGING HEART T-LIGHT HOLDER</td>\n",
       "      <td>64</td>\n",
       "      <td>2.55</td>\n",
       "      <td>163.2</td>\n",
       "      <td>17511</td>\n",
       "      <td>United Kingdom</td>\n",
       "      <td>12</td>\n",
       "      <td>1</td>\n",
       "      <td>2010</td>\n",
       "    </tr>\n",
       "    <tr>\n",
       "      <th>4</th>\n",
       "      <td>536394</td>\n",
       "      <td>2010-12-01 10:39:00</td>\n",
       "      <td>85123A</td>\n",
       "      <td>CREAM HANGING HEART T-LIGHT HOLDER</td>\n",
       "      <td>32</td>\n",
       "      <td>2.55</td>\n",
       "      <td>81.6</td>\n",
       "      <td>13408</td>\n",
       "      <td>United Kingdom</td>\n",
       "      <td>12</td>\n",
       "      <td>1</td>\n",
       "      <td>2010</td>\n",
       "    </tr>\n",
       "  </tbody>\n",
       "</table>\n",
       "</div>"
      ],
      "text/plain": [
       "   InvoiceNo         InvoiceDate StockCode  \\\n",
       "0     536365 2010-12-01 08:26:00    85123A   \n",
       "1     536373 2010-12-01 09:02:00    85123A   \n",
       "2     536375 2010-12-01 09:32:00    85123A   \n",
       "3     536390 2010-12-01 10:19:00    85123A   \n",
       "4     536394 2010-12-01 10:39:00    85123A   \n",
       "\n",
       "                          Description  Quantity  UnitPrice  Revenue  \\\n",
       "0  CREAM HANGING HEART T-LIGHT HOLDER         6       2.55     15.3   \n",
       "1  CREAM HANGING HEART T-LIGHT HOLDER         6       2.55     15.3   \n",
       "2  CREAM HANGING HEART T-LIGHT HOLDER         6       2.55     15.3   \n",
       "3  CREAM HANGING HEART T-LIGHT HOLDER        64       2.55    163.2   \n",
       "4  CREAM HANGING HEART T-LIGHT HOLDER        32       2.55     81.6   \n",
       "\n",
       "   CustomerID         Country  month  day  year  \n",
       "0       17850  United Kingdom     12    1  2010  \n",
       "1       17850  United Kingdom     12    1  2010  \n",
       "2       17850  United Kingdom     12    1  2010  \n",
       "3       17511  United Kingdom     12    1  2010  \n",
       "4       13408  United Kingdom     12    1  2010  "
      ]
     },
     "execution_count": 170,
     "metadata": {},
     "output_type": "execute_result"
    }
   ],
   "source": [
    "data_UK = a[a['Country']== 'United Kingdom']\n",
    "\n",
    "\n",
    "\n",
    "data_UK['month'] = pd.to_datetime(data_UK['InvoiceDate']).dt.month\n",
    "data_UK['day'] = pd.to_datetime(data_UK['InvoiceDate']).dt.day\n",
    "data_UK['year'] = pd.to_datetime(data_UK['InvoiceDate']).dt.year\n",
    "\n",
    "data_UK.head()"
   ]
  },
  {
   "cell_type": "code",
   "execution_count": 184,
   "metadata": {},
   "outputs": [
    {
     "data": {
      "application/vnd.plotly.v1+json": {
       "config": {
        "linkText": "Export to plot.ly",
        "plotlyServerURL": "https://plot.ly",
        "showLink": true
       },
       "data": [
        {
         "marker": {
          "color": "rgba(255, 153, 51, 0.6)",
          "line": {
           "color": "rgba(255, 153, 51, 1.0)",
           "width": 1
          }
         },
         "name": "Revenue",
         "orientation": "v",
         "text": "",
         "type": "bar",
         "x": [
          "(2010,12,1)",
          "(2010,12,2)",
          "(2010,12,3)",
          "(2010,12,5)",
          "(2010,12,6)",
          "(2010,12,7)",
          "(2010,12,8)",
          "(2010,12,9)",
          "(2010,12,10)",
          "(2010,12,12)",
          "(2010,12,13)",
          "(2010,12,14)",
          "(2010,12,15)",
          "(2010,12,16)",
          "(2010,12,17)",
          "(2010,12,19)",
          "(2010,12,20)",
          "(2010,12,21)",
          "(2010,12,22)",
          "(2010,12,23)",
          "(2011,1,4)",
          "(2011,1,5)",
          "(2011,1,6)",
          "(2011,1,7)",
          "(2011,1,9)",
          "(2011,1,10)",
          "(2011,1,11)",
          "(2011,1,12)",
          "(2011,1,13)",
          "(2011,1,14)",
          "(2011,1,16)",
          "(2011,1,17)",
          "(2011,1,18)",
          "(2011,1,19)",
          "(2011,1,20)",
          "(2011,1,21)",
          "(2011,1,23)",
          "(2011,1,24)",
          "(2011,1,25)",
          "(2011,1,26)",
          "(2011,1,27)",
          "(2011,1,28)",
          "(2011,1,30)",
          "(2011,1,31)",
          "(2011,2,1)",
          "(2011,2,2)",
          "(2011,2,3)",
          "(2011,2,4)",
          "(2011,2,6)",
          "(2011,2,7)",
          "(2011,2,8)",
          "(2011,2,9)",
          "(2011,2,10)",
          "(2011,2,11)",
          "(2011,2,13)",
          "(2011,2,14)",
          "(2011,2,15)",
          "(2011,2,16)",
          "(2011,2,17)",
          "(2011,2,18)",
          "(2011,2,20)",
          "(2011,2,21)",
          "(2011,2,22)",
          "(2011,2,23)",
          "(2011,2,24)",
          "(2011,2,25)",
          "(2011,2,27)",
          "(2011,2,28)",
          "(2011,3,1)",
          "(2011,3,2)",
          "(2011,3,3)",
          "(2011,3,4)",
          "(2011,3,6)",
          "(2011,3,7)",
          "(2011,3,8)",
          "(2011,3,9)",
          "(2011,3,10)",
          "(2011,3,11)",
          "(2011,3,13)",
          "(2011,3,14)",
          "(2011,3,15)",
          "(2011,3,16)",
          "(2011,3,17)",
          "(2011,3,18)",
          "(2011,3,20)",
          "(2011,3,21)",
          "(2011,3,22)",
          "(2011,3,23)",
          "(2011,3,24)",
          "(2011,3,25)",
          "(2011,3,27)",
          "(2011,3,28)",
          "(2011,3,29)",
          "(2011,3,30)",
          "(2011,3,31)",
          "(2011,4,1)",
          "(2011,4,3)",
          "(2011,4,4)",
          "(2011,4,5)",
          "(2011,4,6)",
          "(2011,4,7)",
          "(2011,4,8)",
          "(2011,4,10)",
          "(2011,4,11)",
          "(2011,4,12)",
          "(2011,4,13)",
          "(2011,4,14)",
          "(2011,4,15)",
          "(2011,4,17)",
          "(2011,4,18)",
          "(2011,4,19)",
          "(2011,4,20)",
          "(2011,4,21)",
          "(2011,4,26)",
          "(2011,4,27)",
          "(2011,4,28)",
          "(2011,5,1)",
          "(2011,5,3)",
          "(2011,5,4)",
          "(2011,5,5)",
          "(2011,5,6)",
          "(2011,5,8)",
          "(2011,5,9)",
          "(2011,5,10)",
          "(2011,5,11)",
          "(2011,5,12)",
          "(2011,5,13)",
          "(2011,5,15)",
          "(2011,5,16)",
          "(2011,5,17)",
          "(2011,5,18)",
          "(2011,5,19)",
          "(2011,5,20)",
          "(2011,5,22)",
          "(2011,5,23)",
          "(2011,5,24)",
          "(2011,5,25)",
          "(2011,5,26)",
          "(2011,5,27)",
          "(2011,5,29)",
          "(2011,5,31)",
          "(2011,6,1)",
          "(2011,6,2)",
          "(2011,6,3)",
          "(2011,6,5)",
          "(2011,6,6)",
          "(2011,6,7)",
          "(2011,6,8)",
          "(2011,6,9)",
          "(2011,6,10)",
          "(2011,6,12)",
          "(2011,6,13)",
          "(2011,6,14)",
          "(2011,6,15)",
          "(2011,6,16)",
          "(2011,6,17)",
          "(2011,6,19)",
          "(2011,6,20)",
          "(2011,6,21)",
          "(2011,6,22)",
          "(2011,6,23)",
          "(2011,6,24)",
          "(2011,6,26)",
          "(2011,6,27)",
          "(2011,6,28)",
          "(2011,6,29)",
          "(2011,6,30)",
          "(2011,7,1)",
          "(2011,7,3)",
          "(2011,7,4)",
          "(2011,7,5)",
          "(2011,7,6)",
          "(2011,7,7)",
          "(2011,7,8)",
          "(2011,7,10)",
          "(2011,7,11)",
          "(2011,7,12)",
          "(2011,7,13)",
          "(2011,7,14)",
          "(2011,7,15)",
          "(2011,7,17)",
          "(2011,7,18)",
          "(2011,7,19)",
          "(2011,7,20)",
          "(2011,7,21)",
          "(2011,7,22)",
          "(2011,7,24)",
          "(2011,7,25)",
          "(2011,7,26)",
          "(2011,7,27)",
          "(2011,7,28)",
          "(2011,7,29)",
          "(2011,7,31)",
          "(2011,8,1)",
          "(2011,8,2)",
          "(2011,8,3)",
          "(2011,8,4)",
          "(2011,8,5)",
          "(2011,8,7)",
          "(2011,8,8)",
          "(2011,8,9)",
          "(2011,8,10)",
          "(2011,8,11)",
          "(2011,8,12)",
          "(2011,8,14)",
          "(2011,8,15)",
          "(2011,8,16)",
          "(2011,8,17)",
          "(2011,8,18)",
          "(2011,8,19)",
          "(2011,8,21)",
          "(2011,8,22)",
          "(2011,8,23)",
          "(2011,8,24)",
          "(2011,8,25)",
          "(2011,8,26)",
          "(2011,8,28)",
          "(2011,8,30)",
          "(2011,8,31)",
          "(2011,9,1)",
          "(2011,9,2)",
          "(2011,9,4)",
          "(2011,9,5)",
          "(2011,9,6)",
          "(2011,9,7)",
          "(2011,9,8)",
          "(2011,9,9)",
          "(2011,9,11)",
          "(2011,9,12)",
          "(2011,9,13)",
          "(2011,9,14)",
          "(2011,9,15)",
          "(2011,9,16)",
          "(2011,9,18)",
          "(2011,9,19)",
          "(2011,9,20)",
          "(2011,9,21)",
          "(2011,9,22)",
          "(2011,9,23)",
          "(2011,9,25)",
          "(2011,9,26)",
          "(2011,9,27)",
          "(2011,9,28)",
          "(2011,9,29)",
          "(2011,9,30)",
          "(2011,10,2)",
          "(2011,10,3)",
          "(2011,10,4)",
          "(2011,10,5)",
          "(2011,10,6)",
          "(2011,10,7)",
          "(2011,10,9)",
          "(2011,10,10)",
          "(2011,10,11)",
          "(2011,10,12)",
          "(2011,10,13)",
          "(2011,10,14)",
          "(2011,10,16)",
          "(2011,10,17)",
          "(2011,10,18)",
          "(2011,10,19)",
          "(2011,10,20)",
          "(2011,10,21)",
          "(2011,10,23)",
          "(2011,10,24)",
          "(2011,10,25)",
          "(2011,10,26)",
          "(2011,10,27)",
          "(2011,10,28)",
          "(2011,10,30)",
          "(2011,10,31)",
          "(2011,11,1)",
          "(2011,11,2)",
          "(2011,11,3)",
          "(2011,11,4)",
          "(2011,11,6)",
          "(2011,11,7)",
          "(2011,11,8)",
          "(2011,11,9)",
          "(2011,11,10)",
          "(2011,11,11)",
          "(2011,11,13)",
          "(2011,11,14)",
          "(2011,11,15)",
          "(2011,11,16)",
          "(2011,11,17)",
          "(2011,11,18)",
          "(2011,11,20)",
          "(2011,11,21)",
          "(2011,11,22)",
          "(2011,11,23)",
          "(2011,11,24)",
          "(2011,11,25)",
          "(2011,11,27)",
          "(2011,11,28)",
          "(2011,11,29)",
          "(2011,11,30)",
          "(2011,12,1)",
          "(2011,12,2)",
          "(2011,12,4)",
          "(2011,12,5)",
          "(2011,12,6)",
          "(2011,12,7)",
          "(2011,12,8)",
          "(2011,12,9)"
         ],
         "y": [
          42213.58,
          47123.68,
          18833.99,
          25807.89,
          29651.87,
          51037.74,
          35173.44,
          28574.35,
          28749.97,
          13715.18,
          26747.97,
          26502.22,
          30099.02,
          47419.27,
          9655.86,
          6536.42,
          16546.33,
          5825.53,
          4175.4,
          3963.97,
          11566.75,
          27393.5,
          26405.14,
          17617.9,
          14306.04,
          11622.29,
          53572.33,
          14289,
          12809.2,
          9866.79,
          7239.56,
          13503.789999999999,
          6837.34,
          9149.14,
          10350.03,
          15206.880000000001,
          9885.75,
          11961.26,
          19062.51,
          13900.33,
          16735.68,
          12243.63,
          6615.75,
          12756.47,
          23376.2,
          15925.08,
          18837.75,
          15571.880000000001,
          3457.11,
          21161.1,
          12393.04,
          4707.46,
          13525,
          16012,
          5713.63,
          18841.53,
          17354.33,
          19420.84,
          15468.89,
          12902.36,
          9621.289999999999,
          10549.8,
          25938.28,
          17009.81,
          19781.49,
          16658.04,
          9003.35,
          12270.73,
          12668.97,
          17842.85,
          14253.73,
          14478.59,
          9997.42,
          19354.57,
          19713.19,
          17654.58,
          16104.78,
          15811.39,
          3792.75,
          18687.93,
          10663.51,
          19970.57,
          25161.96,
          20262.1,
          18571.55,
          15497.83,
          15738.3,
          17283.29,
          33742.19,
          20860.69,
          9045.4,
          15495.78,
          18943.02,
          25861.46,
          19193.12,
          22052.6,
          6918.5,
          19082.97,
          18547.91,
          11766.33,
          14086.36,
          17668.04,
          9437.49,
          17591.07,
          23364.57,
          22980.24,
          30923.94,
          15724.42,
          11648.54,
          40258.96,
          15178.83,
          24581.15,
          23982.28,
          20548.39,
          21684.579999999998,
          18803.41,
          5879.33,
          17754.16,
          24794.91,
          21475.05,
          25601.91,
          16911.44,
          19627.7,
          26916.260000000002,
          27145.37,
          26580.56,
          22652.670000000002,
          8921.57,
          30334.72,
          32337.01,
          29700.98,
          26350.84,
          22879.86,
          21616.57,
          23693.96,
          31775.89,
          17844.54,
          21583.03,
          19312.47,
          6811.57,
          14374.19,
          9207.03,
          25990.8,
          13155.64,
          19511.23,
          13613.36,
          32640.34,
          23416.11,
          36922.4,
          50930.64,
          11528.83,
          13925.16,
          33334.08,
          15041.17,
          28619.65,
          14021.47,
          15765.39,
          17482.46,
          16510.28,
          16501.9,
          20230.83,
          13783.66,
          6276.01,
          12394.64,
          15769.63,
          9631.94,
          37862.7,
          9510.05,
          6032.39,
          24928.47,
          24441.87,
          18110.35,
          25901.670000000002,
          14732.53,
          5987.57,
          17514.35,
          15680.52,
          13687.32,
          24341.86,
          9512.26,
          16463.27,
          14851.86,
          29166.329999999998,
          24514.39,
          26473.99,
          12975.68,
          25089.53,
          15845.5,
          16000.09,
          16550.15,
          46586.15,
          15833.77,
          13557.84,
          17709.66,
          13634.55,
          24918.63,
          53726.53,
          15390.97,
          7469.56,
          17281.53,
          13147.09,
          16375.3,
          29988.72,
          12477.289999999999,
          5671.92,
          13110.460000000001,
          15561.4,
          45617.52,
          26373.52,
          12862.03,
          11759.09,
          26609.28,
          17769.56,
          35967.23,
          18238.22,
          13269.81,
          9558.54,
          8292.79,
          12461.460000000001,
          28525.53,
          25771.190000000002,
          13093.460000000001,
          24391.54,
          20044.19,
          15647.37,
          18051.76,
          19156.82,
          33695.4,
          27989.4,
          35062.71,
          19682.51,
          65843.34,
          21472.09,
          15744.08,
          19133.64,
          100457.88,
          29689.97,
          46689.55,
          23874.75,
          28749.49,
          26168.79,
          27596.16,
          32102.49,
          41286.71,
          31335.38,
          11582.95,
          57944.4,
          37282.93,
          47006.13,
          52557.64,
          42327.32,
          12466.81,
          36566.090000000004,
          36646.39,
          20404.32,
          22914.03,
          22124.19,
          22010.57,
          30477.38,
          30769.47,
          23005.5,
          29107.14,
          52604.409999999996,
          12288.78,
          35326.36,
          32357.96,
          29854.5,
          33263.52,
          25666.34,
          30573.58,
          27974.34,
          25110.95,
          31751.010000000002,
          56727.85,
          50905.33,
          33143.99,
          25956.3,
          35801.49,
          58843.67,
          54500.36,
          28480.31,
          24543.63,
          51760.15,
          37377.2,
          38278.08,
          36433.48,
          28864.920000000002,
          26697.37,
          40692.53,
          42999.479999999996,
          55222.93,
          30561.68,
          22976.86,
          16464.77,
          45773.86,
          41509.76,
          31899.45,
          41329.14,
          40707.47,
          17390.66,
          52893.63,
          42063.55,
          49238.47,
          47146.11,
          11093.18
         ]
        }
       ],
       "layout": {
        "legend": {
         "bgcolor": "#F5F6F9",
         "font": {
          "color": "#4D5663"
         }
        },
        "paper_bgcolor": "#F5F6F9",
        "plot_bgcolor": "#F5F6F9",
        "template": {
         "data": {
          "bar": [
           {
            "error_x": {
             "color": "#2a3f5f"
            },
            "error_y": {
             "color": "#2a3f5f"
            },
            "marker": {
             "line": {
              "color": "#E5ECF6",
              "width": 0.5
             },
             "pattern": {
              "fillmode": "overlay",
              "size": 10,
              "solidity": 0.2
             }
            },
            "type": "bar"
           }
          ],
          "barpolar": [
           {
            "marker": {
             "line": {
              "color": "#E5ECF6",
              "width": 0.5
             },
             "pattern": {
              "fillmode": "overlay",
              "size": 10,
              "solidity": 0.2
             }
            },
            "type": "barpolar"
           }
          ],
          "carpet": [
           {
            "aaxis": {
             "endlinecolor": "#2a3f5f",
             "gridcolor": "white",
             "linecolor": "white",
             "minorgridcolor": "white",
             "startlinecolor": "#2a3f5f"
            },
            "baxis": {
             "endlinecolor": "#2a3f5f",
             "gridcolor": "white",
             "linecolor": "white",
             "minorgridcolor": "white",
             "startlinecolor": "#2a3f5f"
            },
            "type": "carpet"
           }
          ],
          "choropleth": [
           {
            "colorbar": {
             "outlinewidth": 0,
             "ticks": ""
            },
            "type": "choropleth"
           }
          ],
          "contour": [
           {
            "colorbar": {
             "outlinewidth": 0,
             "ticks": ""
            },
            "colorscale": [
             [
              0,
              "#0d0887"
             ],
             [
              0.1111111111111111,
              "#46039f"
             ],
             [
              0.2222222222222222,
              "#7201a8"
             ],
             [
              0.3333333333333333,
              "#9c179e"
             ],
             [
              0.4444444444444444,
              "#bd3786"
             ],
             [
              0.5555555555555556,
              "#d8576b"
             ],
             [
              0.6666666666666666,
              "#ed7953"
             ],
             [
              0.7777777777777778,
              "#fb9f3a"
             ],
             [
              0.8888888888888888,
              "#fdca26"
             ],
             [
              1,
              "#f0f921"
             ]
            ],
            "type": "contour"
           }
          ],
          "contourcarpet": [
           {
            "colorbar": {
             "outlinewidth": 0,
             "ticks": ""
            },
            "type": "contourcarpet"
           }
          ],
          "heatmap": [
           {
            "colorbar": {
             "outlinewidth": 0,
             "ticks": ""
            },
            "colorscale": [
             [
              0,
              "#0d0887"
             ],
             [
              0.1111111111111111,
              "#46039f"
             ],
             [
              0.2222222222222222,
              "#7201a8"
             ],
             [
              0.3333333333333333,
              "#9c179e"
             ],
             [
              0.4444444444444444,
              "#bd3786"
             ],
             [
              0.5555555555555556,
              "#d8576b"
             ],
             [
              0.6666666666666666,
              "#ed7953"
             ],
             [
              0.7777777777777778,
              "#fb9f3a"
             ],
             [
              0.8888888888888888,
              "#fdca26"
             ],
             [
              1,
              "#f0f921"
             ]
            ],
            "type": "heatmap"
           }
          ],
          "heatmapgl": [
           {
            "colorbar": {
             "outlinewidth": 0,
             "ticks": ""
            },
            "colorscale": [
             [
              0,
              "#0d0887"
             ],
             [
              0.1111111111111111,
              "#46039f"
             ],
             [
              0.2222222222222222,
              "#7201a8"
             ],
             [
              0.3333333333333333,
              "#9c179e"
             ],
             [
              0.4444444444444444,
              "#bd3786"
             ],
             [
              0.5555555555555556,
              "#d8576b"
             ],
             [
              0.6666666666666666,
              "#ed7953"
             ],
             [
              0.7777777777777778,
              "#fb9f3a"
             ],
             [
              0.8888888888888888,
              "#fdca26"
             ],
             [
              1,
              "#f0f921"
             ]
            ],
            "type": "heatmapgl"
           }
          ],
          "histogram": [
           {
            "marker": {
             "pattern": {
              "fillmode": "overlay",
              "size": 10,
              "solidity": 0.2
             }
            },
            "type": "histogram"
           }
          ],
          "histogram2d": [
           {
            "colorbar": {
             "outlinewidth": 0,
             "ticks": ""
            },
            "colorscale": [
             [
              0,
              "#0d0887"
             ],
             [
              0.1111111111111111,
              "#46039f"
             ],
             [
              0.2222222222222222,
              "#7201a8"
             ],
             [
              0.3333333333333333,
              "#9c179e"
             ],
             [
              0.4444444444444444,
              "#bd3786"
             ],
             [
              0.5555555555555556,
              "#d8576b"
             ],
             [
              0.6666666666666666,
              "#ed7953"
             ],
             [
              0.7777777777777778,
              "#fb9f3a"
             ],
             [
              0.8888888888888888,
              "#fdca26"
             ],
             [
              1,
              "#f0f921"
             ]
            ],
            "type": "histogram2d"
           }
          ],
          "histogram2dcontour": [
           {
            "colorbar": {
             "outlinewidth": 0,
             "ticks": ""
            },
            "colorscale": [
             [
              0,
              "#0d0887"
             ],
             [
              0.1111111111111111,
              "#46039f"
             ],
             [
              0.2222222222222222,
              "#7201a8"
             ],
             [
              0.3333333333333333,
              "#9c179e"
             ],
             [
              0.4444444444444444,
              "#bd3786"
             ],
             [
              0.5555555555555556,
              "#d8576b"
             ],
             [
              0.6666666666666666,
              "#ed7953"
             ],
             [
              0.7777777777777778,
              "#fb9f3a"
             ],
             [
              0.8888888888888888,
              "#fdca26"
             ],
             [
              1,
              "#f0f921"
             ]
            ],
            "type": "histogram2dcontour"
           }
          ],
          "mesh3d": [
           {
            "colorbar": {
             "outlinewidth": 0,
             "ticks": ""
            },
            "type": "mesh3d"
           }
          ],
          "parcoords": [
           {
            "line": {
             "colorbar": {
              "outlinewidth": 0,
              "ticks": ""
             }
            },
            "type": "parcoords"
           }
          ],
          "pie": [
           {
            "automargin": true,
            "type": "pie"
           }
          ],
          "scatter": [
           {
            "fillpattern": {
             "fillmode": "overlay",
             "size": 10,
             "solidity": 0.2
            },
            "type": "scatter"
           }
          ],
          "scatter3d": [
           {
            "line": {
             "colorbar": {
              "outlinewidth": 0,
              "ticks": ""
             }
            },
            "marker": {
             "colorbar": {
              "outlinewidth": 0,
              "ticks": ""
             }
            },
            "type": "scatter3d"
           }
          ],
          "scattercarpet": [
           {
            "marker": {
             "colorbar": {
              "outlinewidth": 0,
              "ticks": ""
             }
            },
            "type": "scattercarpet"
           }
          ],
          "scattergeo": [
           {
            "marker": {
             "colorbar": {
              "outlinewidth": 0,
              "ticks": ""
             }
            },
            "type": "scattergeo"
           }
          ],
          "scattergl": [
           {
            "marker": {
             "colorbar": {
              "outlinewidth": 0,
              "ticks": ""
             }
            },
            "type": "scattergl"
           }
          ],
          "scattermapbox": [
           {
            "marker": {
             "colorbar": {
              "outlinewidth": 0,
              "ticks": ""
             }
            },
            "type": "scattermapbox"
           }
          ],
          "scatterpolar": [
           {
            "marker": {
             "colorbar": {
              "outlinewidth": 0,
              "ticks": ""
             }
            },
            "type": "scatterpolar"
           }
          ],
          "scatterpolargl": [
           {
            "marker": {
             "colorbar": {
              "outlinewidth": 0,
              "ticks": ""
             }
            },
            "type": "scatterpolargl"
           }
          ],
          "scatterternary": [
           {
            "marker": {
             "colorbar": {
              "outlinewidth": 0,
              "ticks": ""
             }
            },
            "type": "scatterternary"
           }
          ],
          "surface": [
           {
            "colorbar": {
             "outlinewidth": 0,
             "ticks": ""
            },
            "colorscale": [
             [
              0,
              "#0d0887"
             ],
             [
              0.1111111111111111,
              "#46039f"
             ],
             [
              0.2222222222222222,
              "#7201a8"
             ],
             [
              0.3333333333333333,
              "#9c179e"
             ],
             [
              0.4444444444444444,
              "#bd3786"
             ],
             [
              0.5555555555555556,
              "#d8576b"
             ],
             [
              0.6666666666666666,
              "#ed7953"
             ],
             [
              0.7777777777777778,
              "#fb9f3a"
             ],
             [
              0.8888888888888888,
              "#fdca26"
             ],
             [
              1,
              "#f0f921"
             ]
            ],
            "type": "surface"
           }
          ],
          "table": [
           {
            "cells": {
             "fill": {
              "color": "#EBF0F8"
             },
             "line": {
              "color": "white"
             }
            },
            "header": {
             "fill": {
              "color": "#C8D4E3"
             },
             "line": {
              "color": "white"
             }
            },
            "type": "table"
           }
          ]
         },
         "layout": {
          "annotationdefaults": {
           "arrowcolor": "#2a3f5f",
           "arrowhead": 0,
           "arrowwidth": 1
          },
          "autotypenumbers": "strict",
          "coloraxis": {
           "colorbar": {
            "outlinewidth": 0,
            "ticks": ""
           }
          },
          "colorscale": {
           "diverging": [
            [
             0,
             "#8e0152"
            ],
            [
             0.1,
             "#c51b7d"
            ],
            [
             0.2,
             "#de77ae"
            ],
            [
             0.3,
             "#f1b6da"
            ],
            [
             0.4,
             "#fde0ef"
            ],
            [
             0.5,
             "#f7f7f7"
            ],
            [
             0.6,
             "#e6f5d0"
            ],
            [
             0.7,
             "#b8e186"
            ],
            [
             0.8,
             "#7fbc41"
            ],
            [
             0.9,
             "#4d9221"
            ],
            [
             1,
             "#276419"
            ]
           ],
           "sequential": [
            [
             0,
             "#0d0887"
            ],
            [
             0.1111111111111111,
             "#46039f"
            ],
            [
             0.2222222222222222,
             "#7201a8"
            ],
            [
             0.3333333333333333,
             "#9c179e"
            ],
            [
             0.4444444444444444,
             "#bd3786"
            ],
            [
             0.5555555555555556,
             "#d8576b"
            ],
            [
             0.6666666666666666,
             "#ed7953"
            ],
            [
             0.7777777777777778,
             "#fb9f3a"
            ],
            [
             0.8888888888888888,
             "#fdca26"
            ],
            [
             1,
             "#f0f921"
            ]
           ],
           "sequentialminus": [
            [
             0,
             "#0d0887"
            ],
            [
             0.1111111111111111,
             "#46039f"
            ],
            [
             0.2222222222222222,
             "#7201a8"
            ],
            [
             0.3333333333333333,
             "#9c179e"
            ],
            [
             0.4444444444444444,
             "#bd3786"
            ],
            [
             0.5555555555555556,
             "#d8576b"
            ],
            [
             0.6666666666666666,
             "#ed7953"
            ],
            [
             0.7777777777777778,
             "#fb9f3a"
            ],
            [
             0.8888888888888888,
             "#fdca26"
            ],
            [
             1,
             "#f0f921"
            ]
           ]
          },
          "colorway": [
           "#636efa",
           "#EF553B",
           "#00cc96",
           "#ab63fa",
           "#FFA15A",
           "#19d3f3",
           "#FF6692",
           "#B6E880",
           "#FF97FF",
           "#FECB52"
          ],
          "font": {
           "color": "#2a3f5f"
          },
          "geo": {
           "bgcolor": "white",
           "lakecolor": "white",
           "landcolor": "#E5ECF6",
           "showlakes": true,
           "showland": true,
           "subunitcolor": "white"
          },
          "hoverlabel": {
           "align": "left"
          },
          "hovermode": "closest",
          "mapbox": {
           "style": "light"
          },
          "paper_bgcolor": "white",
          "plot_bgcolor": "#E5ECF6",
          "polar": {
           "angularaxis": {
            "gridcolor": "white",
            "linecolor": "white",
            "ticks": ""
           },
           "bgcolor": "#E5ECF6",
           "radialaxis": {
            "gridcolor": "white",
            "linecolor": "white",
            "ticks": ""
           }
          },
          "scene": {
           "xaxis": {
            "backgroundcolor": "#E5ECF6",
            "gridcolor": "white",
            "gridwidth": 2,
            "linecolor": "white",
            "showbackground": true,
            "ticks": "",
            "zerolinecolor": "white"
           },
           "yaxis": {
            "backgroundcolor": "#E5ECF6",
            "gridcolor": "white",
            "gridwidth": 2,
            "linecolor": "white",
            "showbackground": true,
            "ticks": "",
            "zerolinecolor": "white"
           },
           "zaxis": {
            "backgroundcolor": "#E5ECF6",
            "gridcolor": "white",
            "gridwidth": 2,
            "linecolor": "white",
            "showbackground": true,
            "ticks": "",
            "zerolinecolor": "white"
           }
          },
          "shapedefaults": {
           "line": {
            "color": "#2a3f5f"
           }
          },
          "ternary": {
           "aaxis": {
            "gridcolor": "white",
            "linecolor": "white",
            "ticks": ""
           },
           "baxis": {
            "gridcolor": "white",
            "linecolor": "white",
            "ticks": ""
           },
           "bgcolor": "#E5ECF6",
           "caxis": {
            "gridcolor": "white",
            "linecolor": "white",
            "ticks": ""
           }
          },
          "title": {
           "x": 0.05
          },
          "xaxis": {
           "automargin": true,
           "gridcolor": "white",
           "linecolor": "white",
           "ticks": "",
           "title": {
            "standoff": 15
           },
           "zerolinecolor": "white",
           "zerolinewidth": 2
          },
          "yaxis": {
           "automargin": true,
           "gridcolor": "white",
           "linecolor": "white",
           "ticks": "",
           "title": {
            "standoff": 15
           },
           "zerolinecolor": "white",
           "zerolinewidth": 2
          }
         }
        },
        "title": {
         "font": {
          "color": "#4D5663"
         },
         "text": "Revenue per Day"
        },
        "xaxis": {
         "gridcolor": "#E1E5ED",
         "showgrid": true,
         "tickfont": {
          "color": "#4D5663"
         },
         "title": {
          "font": {
           "color": "#4D5663"
          },
          "text": ""
         },
         "zerolinecolor": "#E1E5ED"
        },
        "yaxis": {
         "gridcolor": "#E1E5ED",
         "showgrid": true,
         "tickfont": {
          "color": "#4D5663"
         },
         "title": {
          "font": {
           "color": "#4D5663"
          },
          "text": ""
         },
         "zerolinecolor": "#E1E5ED"
        }
       }
      },
      "text/html": [
       "<div>                            <div id=\"944b56b3-9adf-483f-8117-08ef0016d1db\" class=\"plotly-graph-div\" style=\"height:525px; width:100%;\"></div>            <script type=\"text/javascript\">                require([\"plotly\"], function(Plotly) {                    window.PLOTLYENV=window.PLOTLYENV || {};\n",
       "                    window.PLOTLYENV.BASE_URL='https://plot.ly';                                    if (document.getElementById(\"944b56b3-9adf-483f-8117-08ef0016d1db\")) {                    Plotly.newPlot(                        \"944b56b3-9adf-483f-8117-08ef0016d1db\",                        [{\"marker\":{\"color\":\"rgba(255, 153, 51, 0.6)\",\"line\":{\"color\":\"rgba(255, 153, 51, 1.0)\",\"width\":1}},\"name\":\"Revenue\",\"orientation\":\"v\",\"text\":\"\",\"x\":[\"(2010,12,1)\",\"(2010,12,2)\",\"(2010,12,3)\",\"(2010,12,5)\",\"(2010,12,6)\",\"(2010,12,7)\",\"(2010,12,8)\",\"(2010,12,9)\",\"(2010,12,10)\",\"(2010,12,12)\",\"(2010,12,13)\",\"(2010,12,14)\",\"(2010,12,15)\",\"(2010,12,16)\",\"(2010,12,17)\",\"(2010,12,19)\",\"(2010,12,20)\",\"(2010,12,21)\",\"(2010,12,22)\",\"(2010,12,23)\",\"(2011,1,4)\",\"(2011,1,5)\",\"(2011,1,6)\",\"(2011,1,7)\",\"(2011,1,9)\",\"(2011,1,10)\",\"(2011,1,11)\",\"(2011,1,12)\",\"(2011,1,13)\",\"(2011,1,14)\",\"(2011,1,16)\",\"(2011,1,17)\",\"(2011,1,18)\",\"(2011,1,19)\",\"(2011,1,20)\",\"(2011,1,21)\",\"(2011,1,23)\",\"(2011,1,24)\",\"(2011,1,25)\",\"(2011,1,26)\",\"(2011,1,27)\",\"(2011,1,28)\",\"(2011,1,30)\",\"(2011,1,31)\",\"(2011,2,1)\",\"(2011,2,2)\",\"(2011,2,3)\",\"(2011,2,4)\",\"(2011,2,6)\",\"(2011,2,7)\",\"(2011,2,8)\",\"(2011,2,9)\",\"(2011,2,10)\",\"(2011,2,11)\",\"(2011,2,13)\",\"(2011,2,14)\",\"(2011,2,15)\",\"(2011,2,16)\",\"(2011,2,17)\",\"(2011,2,18)\",\"(2011,2,20)\",\"(2011,2,21)\",\"(2011,2,22)\",\"(2011,2,23)\",\"(2011,2,24)\",\"(2011,2,25)\",\"(2011,2,27)\",\"(2011,2,28)\",\"(2011,3,1)\",\"(2011,3,2)\",\"(2011,3,3)\",\"(2011,3,4)\",\"(2011,3,6)\",\"(2011,3,7)\",\"(2011,3,8)\",\"(2011,3,9)\",\"(2011,3,10)\",\"(2011,3,11)\",\"(2011,3,13)\",\"(2011,3,14)\",\"(2011,3,15)\",\"(2011,3,16)\",\"(2011,3,17)\",\"(2011,3,18)\",\"(2011,3,20)\",\"(2011,3,21)\",\"(2011,3,22)\",\"(2011,3,23)\",\"(2011,3,24)\",\"(2011,3,25)\",\"(2011,3,27)\",\"(2011,3,28)\",\"(2011,3,29)\",\"(2011,3,30)\",\"(2011,3,31)\",\"(2011,4,1)\",\"(2011,4,3)\",\"(2011,4,4)\",\"(2011,4,5)\",\"(2011,4,6)\",\"(2011,4,7)\",\"(2011,4,8)\",\"(2011,4,10)\",\"(2011,4,11)\",\"(2011,4,12)\",\"(2011,4,13)\",\"(2011,4,14)\",\"(2011,4,15)\",\"(2011,4,17)\",\"(2011,4,18)\",\"(2011,4,19)\",\"(2011,4,20)\",\"(2011,4,21)\",\"(2011,4,26)\",\"(2011,4,27)\",\"(2011,4,28)\",\"(2011,5,1)\",\"(2011,5,3)\",\"(2011,5,4)\",\"(2011,5,5)\",\"(2011,5,6)\",\"(2011,5,8)\",\"(2011,5,9)\",\"(2011,5,10)\",\"(2011,5,11)\",\"(2011,5,12)\",\"(2011,5,13)\",\"(2011,5,15)\",\"(2011,5,16)\",\"(2011,5,17)\",\"(2011,5,18)\",\"(2011,5,19)\",\"(2011,5,20)\",\"(2011,5,22)\",\"(2011,5,23)\",\"(2011,5,24)\",\"(2011,5,25)\",\"(2011,5,26)\",\"(2011,5,27)\",\"(2011,5,29)\",\"(2011,5,31)\",\"(2011,6,1)\",\"(2011,6,2)\",\"(2011,6,3)\",\"(2011,6,5)\",\"(2011,6,6)\",\"(2011,6,7)\",\"(2011,6,8)\",\"(2011,6,9)\",\"(2011,6,10)\",\"(2011,6,12)\",\"(2011,6,13)\",\"(2011,6,14)\",\"(2011,6,15)\",\"(2011,6,16)\",\"(2011,6,17)\",\"(2011,6,19)\",\"(2011,6,20)\",\"(2011,6,21)\",\"(2011,6,22)\",\"(2011,6,23)\",\"(2011,6,24)\",\"(2011,6,26)\",\"(2011,6,27)\",\"(2011,6,28)\",\"(2011,6,29)\",\"(2011,6,30)\",\"(2011,7,1)\",\"(2011,7,3)\",\"(2011,7,4)\",\"(2011,7,5)\",\"(2011,7,6)\",\"(2011,7,7)\",\"(2011,7,8)\",\"(2011,7,10)\",\"(2011,7,11)\",\"(2011,7,12)\",\"(2011,7,13)\",\"(2011,7,14)\",\"(2011,7,15)\",\"(2011,7,17)\",\"(2011,7,18)\",\"(2011,7,19)\",\"(2011,7,20)\",\"(2011,7,21)\",\"(2011,7,22)\",\"(2011,7,24)\",\"(2011,7,25)\",\"(2011,7,26)\",\"(2011,7,27)\",\"(2011,7,28)\",\"(2011,7,29)\",\"(2011,7,31)\",\"(2011,8,1)\",\"(2011,8,2)\",\"(2011,8,3)\",\"(2011,8,4)\",\"(2011,8,5)\",\"(2011,8,7)\",\"(2011,8,8)\",\"(2011,8,9)\",\"(2011,8,10)\",\"(2011,8,11)\",\"(2011,8,12)\",\"(2011,8,14)\",\"(2011,8,15)\",\"(2011,8,16)\",\"(2011,8,17)\",\"(2011,8,18)\",\"(2011,8,19)\",\"(2011,8,21)\",\"(2011,8,22)\",\"(2011,8,23)\",\"(2011,8,24)\",\"(2011,8,25)\",\"(2011,8,26)\",\"(2011,8,28)\",\"(2011,8,30)\",\"(2011,8,31)\",\"(2011,9,1)\",\"(2011,9,2)\",\"(2011,9,4)\",\"(2011,9,5)\",\"(2011,9,6)\",\"(2011,9,7)\",\"(2011,9,8)\",\"(2011,9,9)\",\"(2011,9,11)\",\"(2011,9,12)\",\"(2011,9,13)\",\"(2011,9,14)\",\"(2011,9,15)\",\"(2011,9,16)\",\"(2011,9,18)\",\"(2011,9,19)\",\"(2011,9,20)\",\"(2011,9,21)\",\"(2011,9,22)\",\"(2011,9,23)\",\"(2011,9,25)\",\"(2011,9,26)\",\"(2011,9,27)\",\"(2011,9,28)\",\"(2011,9,29)\",\"(2011,9,30)\",\"(2011,10,2)\",\"(2011,10,3)\",\"(2011,10,4)\",\"(2011,10,5)\",\"(2011,10,6)\",\"(2011,10,7)\",\"(2011,10,9)\",\"(2011,10,10)\",\"(2011,10,11)\",\"(2011,10,12)\",\"(2011,10,13)\",\"(2011,10,14)\",\"(2011,10,16)\",\"(2011,10,17)\",\"(2011,10,18)\",\"(2011,10,19)\",\"(2011,10,20)\",\"(2011,10,21)\",\"(2011,10,23)\",\"(2011,10,24)\",\"(2011,10,25)\",\"(2011,10,26)\",\"(2011,10,27)\",\"(2011,10,28)\",\"(2011,10,30)\",\"(2011,10,31)\",\"(2011,11,1)\",\"(2011,11,2)\",\"(2011,11,3)\",\"(2011,11,4)\",\"(2011,11,6)\",\"(2011,11,7)\",\"(2011,11,8)\",\"(2011,11,9)\",\"(2011,11,10)\",\"(2011,11,11)\",\"(2011,11,13)\",\"(2011,11,14)\",\"(2011,11,15)\",\"(2011,11,16)\",\"(2011,11,17)\",\"(2011,11,18)\",\"(2011,11,20)\",\"(2011,11,21)\",\"(2011,11,22)\",\"(2011,11,23)\",\"(2011,11,24)\",\"(2011,11,25)\",\"(2011,11,27)\",\"(2011,11,28)\",\"(2011,11,29)\",\"(2011,11,30)\",\"(2011,12,1)\",\"(2011,12,2)\",\"(2011,12,4)\",\"(2011,12,5)\",\"(2011,12,6)\",\"(2011,12,7)\",\"(2011,12,8)\",\"(2011,12,9)\"],\"y\":[42213.58,47123.68,18833.99,25807.89,29651.87,51037.74,35173.44,28574.35,28749.97,13715.18,26747.97,26502.22,30099.02,47419.27,9655.86,6536.42,16546.33,5825.53,4175.4,3963.97,11566.75,27393.5,26405.14,17617.9,14306.04,11622.29,53572.33,14289.0,12809.2,9866.79,7239.56,13503.789999999999,6837.34,9149.14,10350.03,15206.880000000001,9885.75,11961.26,19062.51,13900.33,16735.68,12243.63,6615.75,12756.47,23376.2,15925.08,18837.75,15571.880000000001,3457.11,21161.1,12393.04,4707.46,13525.0,16012.0,5713.63,18841.53,17354.33,19420.84,15468.89,12902.36,9621.289999999999,10549.8,25938.28,17009.81,19781.49,16658.04,9003.35,12270.73,12668.97,17842.85,14253.73,14478.59,9997.42,19354.57,19713.19,17654.58,16104.78,15811.39,3792.75,18687.93,10663.51,19970.57,25161.96,20262.1,18571.55,15497.83,15738.3,17283.29,33742.19,20860.69,9045.4,15495.78,18943.02,25861.46,19193.12,22052.6,6918.5,19082.97,18547.91,11766.33,14086.36,17668.04,9437.49,17591.07,23364.57,22980.24,30923.94,15724.42,11648.54,40258.96,15178.83,24581.15,23982.28,20548.39,21684.579999999998,18803.41,5879.33,17754.16,24794.91,21475.05,25601.91,16911.44,19627.7,26916.260000000002,27145.37,26580.56,22652.670000000002,8921.57,30334.72,32337.01,29700.98,26350.84,22879.86,21616.57,23693.96,31775.89,17844.54,21583.03,19312.47,6811.57,14374.19,9207.03,25990.8,13155.64,19511.23,13613.36,32640.34,23416.11,36922.4,50930.64,11528.83,13925.16,33334.08,15041.17,28619.65,14021.47,15765.39,17482.46,16510.28,16501.9,20230.83,13783.66,6276.01,12394.64,15769.63,9631.94,37862.7,9510.05,6032.39,24928.47,24441.87,18110.35,25901.670000000002,14732.53,5987.57,17514.35,15680.52,13687.32,24341.86,9512.26,16463.27,14851.86,29166.329999999998,24514.39,26473.99,12975.68,25089.53,15845.5,16000.09,16550.15,46586.15,15833.77,13557.84,17709.66,13634.55,24918.63,53726.53,15390.97,7469.56,17281.53,13147.09,16375.3,29988.72,12477.289999999999,5671.92,13110.460000000001,15561.4,45617.52,26373.52,12862.03,11759.09,26609.28,17769.56,35967.23,18238.22,13269.81,9558.54,8292.79,12461.460000000001,28525.53,25771.190000000002,13093.460000000001,24391.54,20044.19,15647.37,18051.76,19156.82,33695.4,27989.4,35062.71,19682.51,65843.34,21472.09,15744.08,19133.64,100457.88,29689.97,46689.55,23874.75,28749.49,26168.79,27596.16,32102.49,41286.71,31335.38,11582.95,57944.4,37282.93,47006.13,52557.64,42327.32,12466.81,36566.090000000004,36646.39,20404.32,22914.03,22124.19,22010.57,30477.38,30769.47,23005.5,29107.14,52604.409999999996,12288.78,35326.36,32357.96,29854.5,33263.52,25666.34,30573.58,27974.34,25110.95,31751.010000000002,56727.85,50905.33,33143.99,25956.3,35801.49,58843.67,54500.36,28480.31,24543.63,51760.15,37377.2,38278.08,36433.48,28864.920000000002,26697.37,40692.53,42999.479999999996,55222.93,30561.68,22976.86,16464.77,45773.86,41509.76,31899.45,41329.14,40707.47,17390.66,52893.63,42063.55,49238.47,47146.11,11093.18],\"type\":\"bar\"}],                        {\"legend\":{\"bgcolor\":\"#F5F6F9\",\"font\":{\"color\":\"#4D5663\"}},\"paper_bgcolor\":\"#F5F6F9\",\"plot_bgcolor\":\"#F5F6F9\",\"template\":{\"data\":{\"barpolar\":[{\"marker\":{\"line\":{\"color\":\"#E5ECF6\",\"width\":0.5},\"pattern\":{\"fillmode\":\"overlay\",\"size\":10,\"solidity\":0.2}},\"type\":\"barpolar\"}],\"bar\":[{\"error_x\":{\"color\":\"#2a3f5f\"},\"error_y\":{\"color\":\"#2a3f5f\"},\"marker\":{\"line\":{\"color\":\"#E5ECF6\",\"width\":0.5},\"pattern\":{\"fillmode\":\"overlay\",\"size\":10,\"solidity\":0.2}},\"type\":\"bar\"}],\"carpet\":[{\"aaxis\":{\"endlinecolor\":\"#2a3f5f\",\"gridcolor\":\"white\",\"linecolor\":\"white\",\"minorgridcolor\":\"white\",\"startlinecolor\":\"#2a3f5f\"},\"baxis\":{\"endlinecolor\":\"#2a3f5f\",\"gridcolor\":\"white\",\"linecolor\":\"white\",\"minorgridcolor\":\"white\",\"startlinecolor\":\"#2a3f5f\"},\"type\":\"carpet\"}],\"choropleth\":[{\"colorbar\":{\"outlinewidth\":0,\"ticks\":\"\"},\"type\":\"choropleth\"}],\"contourcarpet\":[{\"colorbar\":{\"outlinewidth\":0,\"ticks\":\"\"},\"type\":\"contourcarpet\"}],\"contour\":[{\"colorbar\":{\"outlinewidth\":0,\"ticks\":\"\"},\"colorscale\":[[0.0,\"#0d0887\"],[0.1111111111111111,\"#46039f\"],[0.2222222222222222,\"#7201a8\"],[0.3333333333333333,\"#9c179e\"],[0.4444444444444444,\"#bd3786\"],[0.5555555555555556,\"#d8576b\"],[0.6666666666666666,\"#ed7953\"],[0.7777777777777778,\"#fb9f3a\"],[0.8888888888888888,\"#fdca26\"],[1.0,\"#f0f921\"]],\"type\":\"contour\"}],\"heatmapgl\":[{\"colorbar\":{\"outlinewidth\":0,\"ticks\":\"\"},\"colorscale\":[[0.0,\"#0d0887\"],[0.1111111111111111,\"#46039f\"],[0.2222222222222222,\"#7201a8\"],[0.3333333333333333,\"#9c179e\"],[0.4444444444444444,\"#bd3786\"],[0.5555555555555556,\"#d8576b\"],[0.6666666666666666,\"#ed7953\"],[0.7777777777777778,\"#fb9f3a\"],[0.8888888888888888,\"#fdca26\"],[1.0,\"#f0f921\"]],\"type\":\"heatmapgl\"}],\"heatmap\":[{\"colorbar\":{\"outlinewidth\":0,\"ticks\":\"\"},\"colorscale\":[[0.0,\"#0d0887\"],[0.1111111111111111,\"#46039f\"],[0.2222222222222222,\"#7201a8\"],[0.3333333333333333,\"#9c179e\"],[0.4444444444444444,\"#bd3786\"],[0.5555555555555556,\"#d8576b\"],[0.6666666666666666,\"#ed7953\"],[0.7777777777777778,\"#fb9f3a\"],[0.8888888888888888,\"#fdca26\"],[1.0,\"#f0f921\"]],\"type\":\"heatmap\"}],\"histogram2dcontour\":[{\"colorbar\":{\"outlinewidth\":0,\"ticks\":\"\"},\"colorscale\":[[0.0,\"#0d0887\"],[0.1111111111111111,\"#46039f\"],[0.2222222222222222,\"#7201a8\"],[0.3333333333333333,\"#9c179e\"],[0.4444444444444444,\"#bd3786\"],[0.5555555555555556,\"#d8576b\"],[0.6666666666666666,\"#ed7953\"],[0.7777777777777778,\"#fb9f3a\"],[0.8888888888888888,\"#fdca26\"],[1.0,\"#f0f921\"]],\"type\":\"histogram2dcontour\"}],\"histogram2d\":[{\"colorbar\":{\"outlinewidth\":0,\"ticks\":\"\"},\"colorscale\":[[0.0,\"#0d0887\"],[0.1111111111111111,\"#46039f\"],[0.2222222222222222,\"#7201a8\"],[0.3333333333333333,\"#9c179e\"],[0.4444444444444444,\"#bd3786\"],[0.5555555555555556,\"#d8576b\"],[0.6666666666666666,\"#ed7953\"],[0.7777777777777778,\"#fb9f3a\"],[0.8888888888888888,\"#fdca26\"],[1.0,\"#f0f921\"]],\"type\":\"histogram2d\"}],\"histogram\":[{\"marker\":{\"pattern\":{\"fillmode\":\"overlay\",\"size\":10,\"solidity\":0.2}},\"type\":\"histogram\"}],\"mesh3d\":[{\"colorbar\":{\"outlinewidth\":0,\"ticks\":\"\"},\"type\":\"mesh3d\"}],\"parcoords\":[{\"line\":{\"colorbar\":{\"outlinewidth\":0,\"ticks\":\"\"}},\"type\":\"parcoords\"}],\"pie\":[{\"automargin\":true,\"type\":\"pie\"}],\"scatter3d\":[{\"line\":{\"colorbar\":{\"outlinewidth\":0,\"ticks\":\"\"}},\"marker\":{\"colorbar\":{\"outlinewidth\":0,\"ticks\":\"\"}},\"type\":\"scatter3d\"}],\"scattercarpet\":[{\"marker\":{\"colorbar\":{\"outlinewidth\":0,\"ticks\":\"\"}},\"type\":\"scattercarpet\"}],\"scattergeo\":[{\"marker\":{\"colorbar\":{\"outlinewidth\":0,\"ticks\":\"\"}},\"type\":\"scattergeo\"}],\"scattergl\":[{\"marker\":{\"colorbar\":{\"outlinewidth\":0,\"ticks\":\"\"}},\"type\":\"scattergl\"}],\"scattermapbox\":[{\"marker\":{\"colorbar\":{\"outlinewidth\":0,\"ticks\":\"\"}},\"type\":\"scattermapbox\"}],\"scatterpolargl\":[{\"marker\":{\"colorbar\":{\"outlinewidth\":0,\"ticks\":\"\"}},\"type\":\"scatterpolargl\"}],\"scatterpolar\":[{\"marker\":{\"colorbar\":{\"outlinewidth\":0,\"ticks\":\"\"}},\"type\":\"scatterpolar\"}],\"scatter\":[{\"fillpattern\":{\"fillmode\":\"overlay\",\"size\":10,\"solidity\":0.2},\"type\":\"scatter\"}],\"scatterternary\":[{\"marker\":{\"colorbar\":{\"outlinewidth\":0,\"ticks\":\"\"}},\"type\":\"scatterternary\"}],\"surface\":[{\"colorbar\":{\"outlinewidth\":0,\"ticks\":\"\"},\"colorscale\":[[0.0,\"#0d0887\"],[0.1111111111111111,\"#46039f\"],[0.2222222222222222,\"#7201a8\"],[0.3333333333333333,\"#9c179e\"],[0.4444444444444444,\"#bd3786\"],[0.5555555555555556,\"#d8576b\"],[0.6666666666666666,\"#ed7953\"],[0.7777777777777778,\"#fb9f3a\"],[0.8888888888888888,\"#fdca26\"],[1.0,\"#f0f921\"]],\"type\":\"surface\"}],\"table\":[{\"cells\":{\"fill\":{\"color\":\"#EBF0F8\"},\"line\":{\"color\":\"white\"}},\"header\":{\"fill\":{\"color\":\"#C8D4E3\"},\"line\":{\"color\":\"white\"}},\"type\":\"table\"}]},\"layout\":{\"annotationdefaults\":{\"arrowcolor\":\"#2a3f5f\",\"arrowhead\":0,\"arrowwidth\":1},\"autotypenumbers\":\"strict\",\"coloraxis\":{\"colorbar\":{\"outlinewidth\":0,\"ticks\":\"\"}},\"colorscale\":{\"diverging\":[[0,\"#8e0152\"],[0.1,\"#c51b7d\"],[0.2,\"#de77ae\"],[0.3,\"#f1b6da\"],[0.4,\"#fde0ef\"],[0.5,\"#f7f7f7\"],[0.6,\"#e6f5d0\"],[0.7,\"#b8e186\"],[0.8,\"#7fbc41\"],[0.9,\"#4d9221\"],[1,\"#276419\"]],\"sequential\":[[0.0,\"#0d0887\"],[0.1111111111111111,\"#46039f\"],[0.2222222222222222,\"#7201a8\"],[0.3333333333333333,\"#9c179e\"],[0.4444444444444444,\"#bd3786\"],[0.5555555555555556,\"#d8576b\"],[0.6666666666666666,\"#ed7953\"],[0.7777777777777778,\"#fb9f3a\"],[0.8888888888888888,\"#fdca26\"],[1.0,\"#f0f921\"]],\"sequentialminus\":[[0.0,\"#0d0887\"],[0.1111111111111111,\"#46039f\"],[0.2222222222222222,\"#7201a8\"],[0.3333333333333333,\"#9c179e\"],[0.4444444444444444,\"#bd3786\"],[0.5555555555555556,\"#d8576b\"],[0.6666666666666666,\"#ed7953\"],[0.7777777777777778,\"#fb9f3a\"],[0.8888888888888888,\"#fdca26\"],[1.0,\"#f0f921\"]]},\"colorway\":[\"#636efa\",\"#EF553B\",\"#00cc96\",\"#ab63fa\",\"#FFA15A\",\"#19d3f3\",\"#FF6692\",\"#B6E880\",\"#FF97FF\",\"#FECB52\"],\"font\":{\"color\":\"#2a3f5f\"},\"geo\":{\"bgcolor\":\"white\",\"lakecolor\":\"white\",\"landcolor\":\"#E5ECF6\",\"showlakes\":true,\"showland\":true,\"subunitcolor\":\"white\"},\"hoverlabel\":{\"align\":\"left\"},\"hovermode\":\"closest\",\"mapbox\":{\"style\":\"light\"},\"paper_bgcolor\":\"white\",\"plot_bgcolor\":\"#E5ECF6\",\"polar\":{\"angularaxis\":{\"gridcolor\":\"white\",\"linecolor\":\"white\",\"ticks\":\"\"},\"bgcolor\":\"#E5ECF6\",\"radialaxis\":{\"gridcolor\":\"white\",\"linecolor\":\"white\",\"ticks\":\"\"}},\"scene\":{\"xaxis\":{\"backgroundcolor\":\"#E5ECF6\",\"gridcolor\":\"white\",\"gridwidth\":2,\"linecolor\":\"white\",\"showbackground\":true,\"ticks\":\"\",\"zerolinecolor\":\"white\"},\"yaxis\":{\"backgroundcolor\":\"#E5ECF6\",\"gridcolor\":\"white\",\"gridwidth\":2,\"linecolor\":\"white\",\"showbackground\":true,\"ticks\":\"\",\"zerolinecolor\":\"white\"},\"zaxis\":{\"backgroundcolor\":\"#E5ECF6\",\"gridcolor\":\"white\",\"gridwidth\":2,\"linecolor\":\"white\",\"showbackground\":true,\"ticks\":\"\",\"zerolinecolor\":\"white\"}},\"shapedefaults\":{\"line\":{\"color\":\"#2a3f5f\"}},\"ternary\":{\"aaxis\":{\"gridcolor\":\"white\",\"linecolor\":\"white\",\"ticks\":\"\"},\"baxis\":{\"gridcolor\":\"white\",\"linecolor\":\"white\",\"ticks\":\"\"},\"bgcolor\":\"#E5ECF6\",\"caxis\":{\"gridcolor\":\"white\",\"linecolor\":\"white\",\"ticks\":\"\"}},\"title\":{\"x\":0.05},\"xaxis\":{\"automargin\":true,\"gridcolor\":\"white\",\"linecolor\":\"white\",\"ticks\":\"\",\"title\":{\"standoff\":15},\"zerolinecolor\":\"white\",\"zerolinewidth\":2},\"yaxis\":{\"automargin\":true,\"gridcolor\":\"white\",\"linecolor\":\"white\",\"ticks\":\"\",\"title\":{\"standoff\":15},\"zerolinecolor\":\"white\",\"zerolinewidth\":2}}},\"title\":{\"font\":{\"color\":\"#4D5663\"},\"text\":\"Revenue per Day\"},\"xaxis\":{\"gridcolor\":\"#E1E5ED\",\"showgrid\":true,\"tickfont\":{\"color\":\"#4D5663\"},\"title\":{\"font\":{\"color\":\"#4D5663\"},\"text\":\"\"},\"zerolinecolor\":\"#E1E5ED\"},\"yaxis\":{\"gridcolor\":\"#E1E5ED\",\"showgrid\":true,\"tickfont\":{\"color\":\"#4D5663\"},\"title\":{\"font\":{\"color\":\"#4D5663\"},\"text\":\"\"},\"zerolinecolor\":\"#E1E5ED\"}},                        {\"showLink\": true, \"linkText\": \"Export to plot.ly\", \"plotlyServerURL\": \"https://plot.ly\", \"responsive\": true}                    ).then(function(){\n",
       "                            \n",
       "var gd = document.getElementById('944b56b3-9adf-483f-8117-08ef0016d1db');\n",
       "var x = new MutationObserver(function (mutations, observer) {{\n",
       "        var display = window.getComputedStyle(gd).display;\n",
       "        if (!display || display === 'none') {{\n",
       "            console.log([gd, 'removed!']);\n",
       "            Plotly.purge(gd);\n",
       "            observer.disconnect();\n",
       "        }}\n",
       "}});\n",
       "\n",
       "// Listen for the removal of the full notebook cells\n",
       "var notebookContainer = gd.closest('#notebook-container');\n",
       "if (notebookContainer) {{\n",
       "    x.observe(notebookContainer, {childList: true});\n",
       "}}\n",
       "\n",
       "// Listen for the clearing of the current output cell\n",
       "var outputEl = gd.closest('.output');\n",
       "if (outputEl) {{\n",
       "    x.observe(outputEl, {childList: true});\n",
       "}}\n",
       "\n",
       "                        })                };                });            </script>        </div>"
      ]
     },
     "metadata": {},
     "output_type": "display_data"
    },
    {
     "data": {
      "application/vnd.plotly.v1+json": {
       "config": {
        "linkText": "Export to plot.ly",
        "plotlyServerURL": "https://plot.ly",
        "showLink": true
       },
       "data": [
        {
         "marker": {
          "color": "rgba(255, 153, 51, 0.6)",
          "line": {
           "color": "rgba(255, 153, 51, 1.0)",
           "width": 1
          }
         },
         "name": "Revenue",
         "orientation": "v",
         "text": "",
         "type": "bar",
         "x": [
          "(2010,12)",
          "(2011,1)",
          "(2011,2)",
          "(2011,3)",
          "(2011,4)",
          "(2011,5)",
          "(2011,6)",
          "(2011,7)",
          "(2011,8)",
          "(2011,9)",
          "(2011,10)",
          "(2011,11)",
          "(2011,12)"
         ],
         "y": [
          498353.68,
          364897.06,
          355500.99,
          466651.52,
          406830.58,
          542876.56,
          524067.35,
          484289.76,
          495242.66,
          791256.2,
          815103.05,
          973277.41,
          301862.21
         ]
        }
       ],
       "layout": {
        "legend": {
         "bgcolor": "#F5F6F9",
         "font": {
          "color": "#4D5663"
         }
        },
        "paper_bgcolor": "#F5F6F9",
        "plot_bgcolor": "#F5F6F9",
        "template": {
         "data": {
          "bar": [
           {
            "error_x": {
             "color": "#2a3f5f"
            },
            "error_y": {
             "color": "#2a3f5f"
            },
            "marker": {
             "line": {
              "color": "#E5ECF6",
              "width": 0.5
             },
             "pattern": {
              "fillmode": "overlay",
              "size": 10,
              "solidity": 0.2
             }
            },
            "type": "bar"
           }
          ],
          "barpolar": [
           {
            "marker": {
             "line": {
              "color": "#E5ECF6",
              "width": 0.5
             },
             "pattern": {
              "fillmode": "overlay",
              "size": 10,
              "solidity": 0.2
             }
            },
            "type": "barpolar"
           }
          ],
          "carpet": [
           {
            "aaxis": {
             "endlinecolor": "#2a3f5f",
             "gridcolor": "white",
             "linecolor": "white",
             "minorgridcolor": "white",
             "startlinecolor": "#2a3f5f"
            },
            "baxis": {
             "endlinecolor": "#2a3f5f",
             "gridcolor": "white",
             "linecolor": "white",
             "minorgridcolor": "white",
             "startlinecolor": "#2a3f5f"
            },
            "type": "carpet"
           }
          ],
          "choropleth": [
           {
            "colorbar": {
             "outlinewidth": 0,
             "ticks": ""
            },
            "type": "choropleth"
           }
          ],
          "contour": [
           {
            "colorbar": {
             "outlinewidth": 0,
             "ticks": ""
            },
            "colorscale": [
             [
              0,
              "#0d0887"
             ],
             [
              0.1111111111111111,
              "#46039f"
             ],
             [
              0.2222222222222222,
              "#7201a8"
             ],
             [
              0.3333333333333333,
              "#9c179e"
             ],
             [
              0.4444444444444444,
              "#bd3786"
             ],
             [
              0.5555555555555556,
              "#d8576b"
             ],
             [
              0.6666666666666666,
              "#ed7953"
             ],
             [
              0.7777777777777778,
              "#fb9f3a"
             ],
             [
              0.8888888888888888,
              "#fdca26"
             ],
             [
              1,
              "#f0f921"
             ]
            ],
            "type": "contour"
           }
          ],
          "contourcarpet": [
           {
            "colorbar": {
             "outlinewidth": 0,
             "ticks": ""
            },
            "type": "contourcarpet"
           }
          ],
          "heatmap": [
           {
            "colorbar": {
             "outlinewidth": 0,
             "ticks": ""
            },
            "colorscale": [
             [
              0,
              "#0d0887"
             ],
             [
              0.1111111111111111,
              "#46039f"
             ],
             [
              0.2222222222222222,
              "#7201a8"
             ],
             [
              0.3333333333333333,
              "#9c179e"
             ],
             [
              0.4444444444444444,
              "#bd3786"
             ],
             [
              0.5555555555555556,
              "#d8576b"
             ],
             [
              0.6666666666666666,
              "#ed7953"
             ],
             [
              0.7777777777777778,
              "#fb9f3a"
             ],
             [
              0.8888888888888888,
              "#fdca26"
             ],
             [
              1,
              "#f0f921"
             ]
            ],
            "type": "heatmap"
           }
          ],
          "heatmapgl": [
           {
            "colorbar": {
             "outlinewidth": 0,
             "ticks": ""
            },
            "colorscale": [
             [
              0,
              "#0d0887"
             ],
             [
              0.1111111111111111,
              "#46039f"
             ],
             [
              0.2222222222222222,
              "#7201a8"
             ],
             [
              0.3333333333333333,
              "#9c179e"
             ],
             [
              0.4444444444444444,
              "#bd3786"
             ],
             [
              0.5555555555555556,
              "#d8576b"
             ],
             [
              0.6666666666666666,
              "#ed7953"
             ],
             [
              0.7777777777777778,
              "#fb9f3a"
             ],
             [
              0.8888888888888888,
              "#fdca26"
             ],
             [
              1,
              "#f0f921"
             ]
            ],
            "type": "heatmapgl"
           }
          ],
          "histogram": [
           {
            "marker": {
             "pattern": {
              "fillmode": "overlay",
              "size": 10,
              "solidity": 0.2
             }
            },
            "type": "histogram"
           }
          ],
          "histogram2d": [
           {
            "colorbar": {
             "outlinewidth": 0,
             "ticks": ""
            },
            "colorscale": [
             [
              0,
              "#0d0887"
             ],
             [
              0.1111111111111111,
              "#46039f"
             ],
             [
              0.2222222222222222,
              "#7201a8"
             ],
             [
              0.3333333333333333,
              "#9c179e"
             ],
             [
              0.4444444444444444,
              "#bd3786"
             ],
             [
              0.5555555555555556,
              "#d8576b"
             ],
             [
              0.6666666666666666,
              "#ed7953"
             ],
             [
              0.7777777777777778,
              "#fb9f3a"
             ],
             [
              0.8888888888888888,
              "#fdca26"
             ],
             [
              1,
              "#f0f921"
             ]
            ],
            "type": "histogram2d"
           }
          ],
          "histogram2dcontour": [
           {
            "colorbar": {
             "outlinewidth": 0,
             "ticks": ""
            },
            "colorscale": [
             [
              0,
              "#0d0887"
             ],
             [
              0.1111111111111111,
              "#46039f"
             ],
             [
              0.2222222222222222,
              "#7201a8"
             ],
             [
              0.3333333333333333,
              "#9c179e"
             ],
             [
              0.4444444444444444,
              "#bd3786"
             ],
             [
              0.5555555555555556,
              "#d8576b"
             ],
             [
              0.6666666666666666,
              "#ed7953"
             ],
             [
              0.7777777777777778,
              "#fb9f3a"
             ],
             [
              0.8888888888888888,
              "#fdca26"
             ],
             [
              1,
              "#f0f921"
             ]
            ],
            "type": "histogram2dcontour"
           }
          ],
          "mesh3d": [
           {
            "colorbar": {
             "outlinewidth": 0,
             "ticks": ""
            },
            "type": "mesh3d"
           }
          ],
          "parcoords": [
           {
            "line": {
             "colorbar": {
              "outlinewidth": 0,
              "ticks": ""
             }
            },
            "type": "parcoords"
           }
          ],
          "pie": [
           {
            "automargin": true,
            "type": "pie"
           }
          ],
          "scatter": [
           {
            "fillpattern": {
             "fillmode": "overlay",
             "size": 10,
             "solidity": 0.2
            },
            "type": "scatter"
           }
          ],
          "scatter3d": [
           {
            "line": {
             "colorbar": {
              "outlinewidth": 0,
              "ticks": ""
             }
            },
            "marker": {
             "colorbar": {
              "outlinewidth": 0,
              "ticks": ""
             }
            },
            "type": "scatter3d"
           }
          ],
          "scattercarpet": [
           {
            "marker": {
             "colorbar": {
              "outlinewidth": 0,
              "ticks": ""
             }
            },
            "type": "scattercarpet"
           }
          ],
          "scattergeo": [
           {
            "marker": {
             "colorbar": {
              "outlinewidth": 0,
              "ticks": ""
             }
            },
            "type": "scattergeo"
           }
          ],
          "scattergl": [
           {
            "marker": {
             "colorbar": {
              "outlinewidth": 0,
              "ticks": ""
             }
            },
            "type": "scattergl"
           }
          ],
          "scattermapbox": [
           {
            "marker": {
             "colorbar": {
              "outlinewidth": 0,
              "ticks": ""
             }
            },
            "type": "scattermapbox"
           }
          ],
          "scatterpolar": [
           {
            "marker": {
             "colorbar": {
              "outlinewidth": 0,
              "ticks": ""
             }
            },
            "type": "scatterpolar"
           }
          ],
          "scatterpolargl": [
           {
            "marker": {
             "colorbar": {
              "outlinewidth": 0,
              "ticks": ""
             }
            },
            "type": "scatterpolargl"
           }
          ],
          "scatterternary": [
           {
            "marker": {
             "colorbar": {
              "outlinewidth": 0,
              "ticks": ""
             }
            },
            "type": "scatterternary"
           }
          ],
          "surface": [
           {
            "colorbar": {
             "outlinewidth": 0,
             "ticks": ""
            },
            "colorscale": [
             [
              0,
              "#0d0887"
             ],
             [
              0.1111111111111111,
              "#46039f"
             ],
             [
              0.2222222222222222,
              "#7201a8"
             ],
             [
              0.3333333333333333,
              "#9c179e"
             ],
             [
              0.4444444444444444,
              "#bd3786"
             ],
             [
              0.5555555555555556,
              "#d8576b"
             ],
             [
              0.6666666666666666,
              "#ed7953"
             ],
             [
              0.7777777777777778,
              "#fb9f3a"
             ],
             [
              0.8888888888888888,
              "#fdca26"
             ],
             [
              1,
              "#f0f921"
             ]
            ],
            "type": "surface"
           }
          ],
          "table": [
           {
            "cells": {
             "fill": {
              "color": "#EBF0F8"
             },
             "line": {
              "color": "white"
             }
            },
            "header": {
             "fill": {
              "color": "#C8D4E3"
             },
             "line": {
              "color": "white"
             }
            },
            "type": "table"
           }
          ]
         },
         "layout": {
          "annotationdefaults": {
           "arrowcolor": "#2a3f5f",
           "arrowhead": 0,
           "arrowwidth": 1
          },
          "autotypenumbers": "strict",
          "coloraxis": {
           "colorbar": {
            "outlinewidth": 0,
            "ticks": ""
           }
          },
          "colorscale": {
           "diverging": [
            [
             0,
             "#8e0152"
            ],
            [
             0.1,
             "#c51b7d"
            ],
            [
             0.2,
             "#de77ae"
            ],
            [
             0.3,
             "#f1b6da"
            ],
            [
             0.4,
             "#fde0ef"
            ],
            [
             0.5,
             "#f7f7f7"
            ],
            [
             0.6,
             "#e6f5d0"
            ],
            [
             0.7,
             "#b8e186"
            ],
            [
             0.8,
             "#7fbc41"
            ],
            [
             0.9,
             "#4d9221"
            ],
            [
             1,
             "#276419"
            ]
           ],
           "sequential": [
            [
             0,
             "#0d0887"
            ],
            [
             0.1111111111111111,
             "#46039f"
            ],
            [
             0.2222222222222222,
             "#7201a8"
            ],
            [
             0.3333333333333333,
             "#9c179e"
            ],
            [
             0.4444444444444444,
             "#bd3786"
            ],
            [
             0.5555555555555556,
             "#d8576b"
            ],
            [
             0.6666666666666666,
             "#ed7953"
            ],
            [
             0.7777777777777778,
             "#fb9f3a"
            ],
            [
             0.8888888888888888,
             "#fdca26"
            ],
            [
             1,
             "#f0f921"
            ]
           ],
           "sequentialminus": [
            [
             0,
             "#0d0887"
            ],
            [
             0.1111111111111111,
             "#46039f"
            ],
            [
             0.2222222222222222,
             "#7201a8"
            ],
            [
             0.3333333333333333,
             "#9c179e"
            ],
            [
             0.4444444444444444,
             "#bd3786"
            ],
            [
             0.5555555555555556,
             "#d8576b"
            ],
            [
             0.6666666666666666,
             "#ed7953"
            ],
            [
             0.7777777777777778,
             "#fb9f3a"
            ],
            [
             0.8888888888888888,
             "#fdca26"
            ],
            [
             1,
             "#f0f921"
            ]
           ]
          },
          "colorway": [
           "#636efa",
           "#EF553B",
           "#00cc96",
           "#ab63fa",
           "#FFA15A",
           "#19d3f3",
           "#FF6692",
           "#B6E880",
           "#FF97FF",
           "#FECB52"
          ],
          "font": {
           "color": "#2a3f5f"
          },
          "geo": {
           "bgcolor": "white",
           "lakecolor": "white",
           "landcolor": "#E5ECF6",
           "showlakes": true,
           "showland": true,
           "subunitcolor": "white"
          },
          "hoverlabel": {
           "align": "left"
          },
          "hovermode": "closest",
          "mapbox": {
           "style": "light"
          },
          "paper_bgcolor": "white",
          "plot_bgcolor": "#E5ECF6",
          "polar": {
           "angularaxis": {
            "gridcolor": "white",
            "linecolor": "white",
            "ticks": ""
           },
           "bgcolor": "#E5ECF6",
           "radialaxis": {
            "gridcolor": "white",
            "linecolor": "white",
            "ticks": ""
           }
          },
          "scene": {
           "xaxis": {
            "backgroundcolor": "#E5ECF6",
            "gridcolor": "white",
            "gridwidth": 2,
            "linecolor": "white",
            "showbackground": true,
            "ticks": "",
            "zerolinecolor": "white"
           },
           "yaxis": {
            "backgroundcolor": "#E5ECF6",
            "gridcolor": "white",
            "gridwidth": 2,
            "linecolor": "white",
            "showbackground": true,
            "ticks": "",
            "zerolinecolor": "white"
           },
           "zaxis": {
            "backgroundcolor": "#E5ECF6",
            "gridcolor": "white",
            "gridwidth": 2,
            "linecolor": "white",
            "showbackground": true,
            "ticks": "",
            "zerolinecolor": "white"
           }
          },
          "shapedefaults": {
           "line": {
            "color": "#2a3f5f"
           }
          },
          "ternary": {
           "aaxis": {
            "gridcolor": "white",
            "linecolor": "white",
            "ticks": ""
           },
           "baxis": {
            "gridcolor": "white",
            "linecolor": "white",
            "ticks": ""
           },
           "bgcolor": "#E5ECF6",
           "caxis": {
            "gridcolor": "white",
            "linecolor": "white",
            "ticks": ""
           }
          },
          "title": {
           "x": 0.05
          },
          "xaxis": {
           "automargin": true,
           "gridcolor": "white",
           "linecolor": "white",
           "ticks": "",
           "title": {
            "standoff": 15
           },
           "zerolinecolor": "white",
           "zerolinewidth": 2
          },
          "yaxis": {
           "automargin": true,
           "gridcolor": "white",
           "linecolor": "white",
           "ticks": "",
           "title": {
            "standoff": 15
           },
           "zerolinecolor": "white",
           "zerolinewidth": 2
          }
         }
        },
        "title": {
         "font": {
          "color": "#4D5663"
         },
         "text": "Revenue per Month"
        },
        "xaxis": {
         "gridcolor": "#E1E5ED",
         "showgrid": true,
         "tickfont": {
          "color": "#4D5663"
         },
         "title": {
          "font": {
           "color": "#4D5663"
          },
          "text": ""
         },
         "zerolinecolor": "#E1E5ED"
        },
        "yaxis": {
         "gridcolor": "#E1E5ED",
         "showgrid": true,
         "tickfont": {
          "color": "#4D5663"
         },
         "title": {
          "font": {
           "color": "#4D5663"
          },
          "text": ""
         },
         "zerolinecolor": "#E1E5ED"
        }
       }
      },
      "text/html": [
       "<div>                            <div id=\"39120387-114d-4379-89f1-5797e4c59a05\" class=\"plotly-graph-div\" style=\"height:525px; width:100%;\"></div>            <script type=\"text/javascript\">                require([\"plotly\"], function(Plotly) {                    window.PLOTLYENV=window.PLOTLYENV || {};\n",
       "                    window.PLOTLYENV.BASE_URL='https://plot.ly';                                    if (document.getElementById(\"39120387-114d-4379-89f1-5797e4c59a05\")) {                    Plotly.newPlot(                        \"39120387-114d-4379-89f1-5797e4c59a05\",                        [{\"marker\":{\"color\":\"rgba(255, 153, 51, 0.6)\",\"line\":{\"color\":\"rgba(255, 153, 51, 1.0)\",\"width\":1}},\"name\":\"Revenue\",\"orientation\":\"v\",\"text\":\"\",\"x\":[\"(2010,12)\",\"(2011,1)\",\"(2011,2)\",\"(2011,3)\",\"(2011,4)\",\"(2011,5)\",\"(2011,6)\",\"(2011,7)\",\"(2011,8)\",\"(2011,9)\",\"(2011,10)\",\"(2011,11)\",\"(2011,12)\"],\"y\":[498353.68,364897.06,355500.99,466651.52,406830.58,542876.56,524067.35,484289.76,495242.66,791256.2,815103.05,973277.41,301862.21],\"type\":\"bar\"}],                        {\"legend\":{\"bgcolor\":\"#F5F6F9\",\"font\":{\"color\":\"#4D5663\"}},\"paper_bgcolor\":\"#F5F6F9\",\"plot_bgcolor\":\"#F5F6F9\",\"template\":{\"data\":{\"barpolar\":[{\"marker\":{\"line\":{\"color\":\"#E5ECF6\",\"width\":0.5},\"pattern\":{\"fillmode\":\"overlay\",\"size\":10,\"solidity\":0.2}},\"type\":\"barpolar\"}],\"bar\":[{\"error_x\":{\"color\":\"#2a3f5f\"},\"error_y\":{\"color\":\"#2a3f5f\"},\"marker\":{\"line\":{\"color\":\"#E5ECF6\",\"width\":0.5},\"pattern\":{\"fillmode\":\"overlay\",\"size\":10,\"solidity\":0.2}},\"type\":\"bar\"}],\"carpet\":[{\"aaxis\":{\"endlinecolor\":\"#2a3f5f\",\"gridcolor\":\"white\",\"linecolor\":\"white\",\"minorgridcolor\":\"white\",\"startlinecolor\":\"#2a3f5f\"},\"baxis\":{\"endlinecolor\":\"#2a3f5f\",\"gridcolor\":\"white\",\"linecolor\":\"white\",\"minorgridcolor\":\"white\",\"startlinecolor\":\"#2a3f5f\"},\"type\":\"carpet\"}],\"choropleth\":[{\"colorbar\":{\"outlinewidth\":0,\"ticks\":\"\"},\"type\":\"choropleth\"}],\"contourcarpet\":[{\"colorbar\":{\"outlinewidth\":0,\"ticks\":\"\"},\"type\":\"contourcarpet\"}],\"contour\":[{\"colorbar\":{\"outlinewidth\":0,\"ticks\":\"\"},\"colorscale\":[[0.0,\"#0d0887\"],[0.1111111111111111,\"#46039f\"],[0.2222222222222222,\"#7201a8\"],[0.3333333333333333,\"#9c179e\"],[0.4444444444444444,\"#bd3786\"],[0.5555555555555556,\"#d8576b\"],[0.6666666666666666,\"#ed7953\"],[0.7777777777777778,\"#fb9f3a\"],[0.8888888888888888,\"#fdca26\"],[1.0,\"#f0f921\"]],\"type\":\"contour\"}],\"heatmapgl\":[{\"colorbar\":{\"outlinewidth\":0,\"ticks\":\"\"},\"colorscale\":[[0.0,\"#0d0887\"],[0.1111111111111111,\"#46039f\"],[0.2222222222222222,\"#7201a8\"],[0.3333333333333333,\"#9c179e\"],[0.4444444444444444,\"#bd3786\"],[0.5555555555555556,\"#d8576b\"],[0.6666666666666666,\"#ed7953\"],[0.7777777777777778,\"#fb9f3a\"],[0.8888888888888888,\"#fdca26\"],[1.0,\"#f0f921\"]],\"type\":\"heatmapgl\"}],\"heatmap\":[{\"colorbar\":{\"outlinewidth\":0,\"ticks\":\"\"},\"colorscale\":[[0.0,\"#0d0887\"],[0.1111111111111111,\"#46039f\"],[0.2222222222222222,\"#7201a8\"],[0.3333333333333333,\"#9c179e\"],[0.4444444444444444,\"#bd3786\"],[0.5555555555555556,\"#d8576b\"],[0.6666666666666666,\"#ed7953\"],[0.7777777777777778,\"#fb9f3a\"],[0.8888888888888888,\"#fdca26\"],[1.0,\"#f0f921\"]],\"type\":\"heatmap\"}],\"histogram2dcontour\":[{\"colorbar\":{\"outlinewidth\":0,\"ticks\":\"\"},\"colorscale\":[[0.0,\"#0d0887\"],[0.1111111111111111,\"#46039f\"],[0.2222222222222222,\"#7201a8\"],[0.3333333333333333,\"#9c179e\"],[0.4444444444444444,\"#bd3786\"],[0.5555555555555556,\"#d8576b\"],[0.6666666666666666,\"#ed7953\"],[0.7777777777777778,\"#fb9f3a\"],[0.8888888888888888,\"#fdca26\"],[1.0,\"#f0f921\"]],\"type\":\"histogram2dcontour\"}],\"histogram2d\":[{\"colorbar\":{\"outlinewidth\":0,\"ticks\":\"\"},\"colorscale\":[[0.0,\"#0d0887\"],[0.1111111111111111,\"#46039f\"],[0.2222222222222222,\"#7201a8\"],[0.3333333333333333,\"#9c179e\"],[0.4444444444444444,\"#bd3786\"],[0.5555555555555556,\"#d8576b\"],[0.6666666666666666,\"#ed7953\"],[0.7777777777777778,\"#fb9f3a\"],[0.8888888888888888,\"#fdca26\"],[1.0,\"#f0f921\"]],\"type\":\"histogram2d\"}],\"histogram\":[{\"marker\":{\"pattern\":{\"fillmode\":\"overlay\",\"size\":10,\"solidity\":0.2}},\"type\":\"histogram\"}],\"mesh3d\":[{\"colorbar\":{\"outlinewidth\":0,\"ticks\":\"\"},\"type\":\"mesh3d\"}],\"parcoords\":[{\"line\":{\"colorbar\":{\"outlinewidth\":0,\"ticks\":\"\"}},\"type\":\"parcoords\"}],\"pie\":[{\"automargin\":true,\"type\":\"pie\"}],\"scatter3d\":[{\"line\":{\"colorbar\":{\"outlinewidth\":0,\"ticks\":\"\"}},\"marker\":{\"colorbar\":{\"outlinewidth\":0,\"ticks\":\"\"}},\"type\":\"scatter3d\"}],\"scattercarpet\":[{\"marker\":{\"colorbar\":{\"outlinewidth\":0,\"ticks\":\"\"}},\"type\":\"scattercarpet\"}],\"scattergeo\":[{\"marker\":{\"colorbar\":{\"outlinewidth\":0,\"ticks\":\"\"}},\"type\":\"scattergeo\"}],\"scattergl\":[{\"marker\":{\"colorbar\":{\"outlinewidth\":0,\"ticks\":\"\"}},\"type\":\"scattergl\"}],\"scattermapbox\":[{\"marker\":{\"colorbar\":{\"outlinewidth\":0,\"ticks\":\"\"}},\"type\":\"scattermapbox\"}],\"scatterpolargl\":[{\"marker\":{\"colorbar\":{\"outlinewidth\":0,\"ticks\":\"\"}},\"type\":\"scatterpolargl\"}],\"scatterpolar\":[{\"marker\":{\"colorbar\":{\"outlinewidth\":0,\"ticks\":\"\"}},\"type\":\"scatterpolar\"}],\"scatter\":[{\"fillpattern\":{\"fillmode\":\"overlay\",\"size\":10,\"solidity\":0.2},\"type\":\"scatter\"}],\"scatterternary\":[{\"marker\":{\"colorbar\":{\"outlinewidth\":0,\"ticks\":\"\"}},\"type\":\"scatterternary\"}],\"surface\":[{\"colorbar\":{\"outlinewidth\":0,\"ticks\":\"\"},\"colorscale\":[[0.0,\"#0d0887\"],[0.1111111111111111,\"#46039f\"],[0.2222222222222222,\"#7201a8\"],[0.3333333333333333,\"#9c179e\"],[0.4444444444444444,\"#bd3786\"],[0.5555555555555556,\"#d8576b\"],[0.6666666666666666,\"#ed7953\"],[0.7777777777777778,\"#fb9f3a\"],[0.8888888888888888,\"#fdca26\"],[1.0,\"#f0f921\"]],\"type\":\"surface\"}],\"table\":[{\"cells\":{\"fill\":{\"color\":\"#EBF0F8\"},\"line\":{\"color\":\"white\"}},\"header\":{\"fill\":{\"color\":\"#C8D4E3\"},\"line\":{\"color\":\"white\"}},\"type\":\"table\"}]},\"layout\":{\"annotationdefaults\":{\"arrowcolor\":\"#2a3f5f\",\"arrowhead\":0,\"arrowwidth\":1},\"autotypenumbers\":\"strict\",\"coloraxis\":{\"colorbar\":{\"outlinewidth\":0,\"ticks\":\"\"}},\"colorscale\":{\"diverging\":[[0,\"#8e0152\"],[0.1,\"#c51b7d\"],[0.2,\"#de77ae\"],[0.3,\"#f1b6da\"],[0.4,\"#fde0ef\"],[0.5,\"#f7f7f7\"],[0.6,\"#e6f5d0\"],[0.7,\"#b8e186\"],[0.8,\"#7fbc41\"],[0.9,\"#4d9221\"],[1,\"#276419\"]],\"sequential\":[[0.0,\"#0d0887\"],[0.1111111111111111,\"#46039f\"],[0.2222222222222222,\"#7201a8\"],[0.3333333333333333,\"#9c179e\"],[0.4444444444444444,\"#bd3786\"],[0.5555555555555556,\"#d8576b\"],[0.6666666666666666,\"#ed7953\"],[0.7777777777777778,\"#fb9f3a\"],[0.8888888888888888,\"#fdca26\"],[1.0,\"#f0f921\"]],\"sequentialminus\":[[0.0,\"#0d0887\"],[0.1111111111111111,\"#46039f\"],[0.2222222222222222,\"#7201a8\"],[0.3333333333333333,\"#9c179e\"],[0.4444444444444444,\"#bd3786\"],[0.5555555555555556,\"#d8576b\"],[0.6666666666666666,\"#ed7953\"],[0.7777777777777778,\"#fb9f3a\"],[0.8888888888888888,\"#fdca26\"],[1.0,\"#f0f921\"]]},\"colorway\":[\"#636efa\",\"#EF553B\",\"#00cc96\",\"#ab63fa\",\"#FFA15A\",\"#19d3f3\",\"#FF6692\",\"#B6E880\",\"#FF97FF\",\"#FECB52\"],\"font\":{\"color\":\"#2a3f5f\"},\"geo\":{\"bgcolor\":\"white\",\"lakecolor\":\"white\",\"landcolor\":\"#E5ECF6\",\"showlakes\":true,\"showland\":true,\"subunitcolor\":\"white\"},\"hoverlabel\":{\"align\":\"left\"},\"hovermode\":\"closest\",\"mapbox\":{\"style\":\"light\"},\"paper_bgcolor\":\"white\",\"plot_bgcolor\":\"#E5ECF6\",\"polar\":{\"angularaxis\":{\"gridcolor\":\"white\",\"linecolor\":\"white\",\"ticks\":\"\"},\"bgcolor\":\"#E5ECF6\",\"radialaxis\":{\"gridcolor\":\"white\",\"linecolor\":\"white\",\"ticks\":\"\"}},\"scene\":{\"xaxis\":{\"backgroundcolor\":\"#E5ECF6\",\"gridcolor\":\"white\",\"gridwidth\":2,\"linecolor\":\"white\",\"showbackground\":true,\"ticks\":\"\",\"zerolinecolor\":\"white\"},\"yaxis\":{\"backgroundcolor\":\"#E5ECF6\",\"gridcolor\":\"white\",\"gridwidth\":2,\"linecolor\":\"white\",\"showbackground\":true,\"ticks\":\"\",\"zerolinecolor\":\"white\"},\"zaxis\":{\"backgroundcolor\":\"#E5ECF6\",\"gridcolor\":\"white\",\"gridwidth\":2,\"linecolor\":\"white\",\"showbackground\":true,\"ticks\":\"\",\"zerolinecolor\":\"white\"}},\"shapedefaults\":{\"line\":{\"color\":\"#2a3f5f\"}},\"ternary\":{\"aaxis\":{\"gridcolor\":\"white\",\"linecolor\":\"white\",\"ticks\":\"\"},\"baxis\":{\"gridcolor\":\"white\",\"linecolor\":\"white\",\"ticks\":\"\"},\"bgcolor\":\"#E5ECF6\",\"caxis\":{\"gridcolor\":\"white\",\"linecolor\":\"white\",\"ticks\":\"\"}},\"title\":{\"x\":0.05},\"xaxis\":{\"automargin\":true,\"gridcolor\":\"white\",\"linecolor\":\"white\",\"ticks\":\"\",\"title\":{\"standoff\":15},\"zerolinecolor\":\"white\",\"zerolinewidth\":2},\"yaxis\":{\"automargin\":true,\"gridcolor\":\"white\",\"linecolor\":\"white\",\"ticks\":\"\",\"title\":{\"standoff\":15},\"zerolinecolor\":\"white\",\"zerolinewidth\":2}}},\"title\":{\"font\":{\"color\":\"#4D5663\"},\"text\":\"Revenue per Month\"},\"xaxis\":{\"gridcolor\":\"#E1E5ED\",\"showgrid\":true,\"tickfont\":{\"color\":\"#4D5663\"},\"title\":{\"font\":{\"color\":\"#4D5663\"},\"text\":\"\"},\"zerolinecolor\":\"#E1E5ED\"},\"yaxis\":{\"gridcolor\":\"#E1E5ED\",\"showgrid\":true,\"tickfont\":{\"color\":\"#4D5663\"},\"title\":{\"font\":{\"color\":\"#4D5663\"},\"text\":\"\"},\"zerolinecolor\":\"#E1E5ED\"}},                        {\"showLink\": true, \"linkText\": \"Export to plot.ly\", \"plotlyServerURL\": \"https://plot.ly\", \"responsive\": true}                    ).then(function(){\n",
       "                            \n",
       "var gd = document.getElementById('39120387-114d-4379-89f1-5797e4c59a05');\n",
       "var x = new MutationObserver(function (mutations, observer) {{\n",
       "        var display = window.getComputedStyle(gd).display;\n",
       "        if (!display || display === 'none') {{\n",
       "            console.log([gd, 'removed!']);\n",
       "            Plotly.purge(gd);\n",
       "            observer.disconnect();\n",
       "        }}\n",
       "}});\n",
       "\n",
       "// Listen for the removal of the full notebook cells\n",
       "var notebookContainer = gd.closest('#notebook-container');\n",
       "if (notebookContainer) {{\n",
       "    x.observe(notebookContainer, {childList: true});\n",
       "}}\n",
       "\n",
       "// Listen for the clearing of the current output cell\n",
       "var outputEl = gd.closest('.output');\n",
       "if (outputEl) {{\n",
       "    x.observe(outputEl, {childList: true});\n",
       "}}\n",
       "\n",
       "                        })                };                });            </script>        </div>"
      ]
     },
     "metadata": {},
     "output_type": "display_data"
    },
    {
     "data": {
      "application/vnd.plotly.v1+json": {
       "config": {
        "linkText": "Export to plot.ly",
        "plotlyServerURL": "https://plot.ly",
        "showLink": true
       },
       "data": [
        {
         "marker": {
          "color": "rgba(255, 153, 51, 0.6)",
          "line": {
           "color": "rgba(255, 153, 51, 1.0)",
           "width": 1
          }
         },
         "name": "Revenue",
         "orientation": "v",
         "text": "",
         "type": "bar",
         "x": [
          2010,
          2011
         ],
         "y": [
          498353.68,
          6521855.35
         ]
        }
       ],
       "layout": {
        "legend": {
         "bgcolor": "#F5F6F9",
         "font": {
          "color": "#4D5663"
         }
        },
        "paper_bgcolor": "#F5F6F9",
        "plot_bgcolor": "#F5F6F9",
        "template": {
         "data": {
          "bar": [
           {
            "error_x": {
             "color": "#2a3f5f"
            },
            "error_y": {
             "color": "#2a3f5f"
            },
            "marker": {
             "line": {
              "color": "#E5ECF6",
              "width": 0.5
             },
             "pattern": {
              "fillmode": "overlay",
              "size": 10,
              "solidity": 0.2
             }
            },
            "type": "bar"
           }
          ],
          "barpolar": [
           {
            "marker": {
             "line": {
              "color": "#E5ECF6",
              "width": 0.5
             },
             "pattern": {
              "fillmode": "overlay",
              "size": 10,
              "solidity": 0.2
             }
            },
            "type": "barpolar"
           }
          ],
          "carpet": [
           {
            "aaxis": {
             "endlinecolor": "#2a3f5f",
             "gridcolor": "white",
             "linecolor": "white",
             "minorgridcolor": "white",
             "startlinecolor": "#2a3f5f"
            },
            "baxis": {
             "endlinecolor": "#2a3f5f",
             "gridcolor": "white",
             "linecolor": "white",
             "minorgridcolor": "white",
             "startlinecolor": "#2a3f5f"
            },
            "type": "carpet"
           }
          ],
          "choropleth": [
           {
            "colorbar": {
             "outlinewidth": 0,
             "ticks": ""
            },
            "type": "choropleth"
           }
          ],
          "contour": [
           {
            "colorbar": {
             "outlinewidth": 0,
             "ticks": ""
            },
            "colorscale": [
             [
              0,
              "#0d0887"
             ],
             [
              0.1111111111111111,
              "#46039f"
             ],
             [
              0.2222222222222222,
              "#7201a8"
             ],
             [
              0.3333333333333333,
              "#9c179e"
             ],
             [
              0.4444444444444444,
              "#bd3786"
             ],
             [
              0.5555555555555556,
              "#d8576b"
             ],
             [
              0.6666666666666666,
              "#ed7953"
             ],
             [
              0.7777777777777778,
              "#fb9f3a"
             ],
             [
              0.8888888888888888,
              "#fdca26"
             ],
             [
              1,
              "#f0f921"
             ]
            ],
            "type": "contour"
           }
          ],
          "contourcarpet": [
           {
            "colorbar": {
             "outlinewidth": 0,
             "ticks": ""
            },
            "type": "contourcarpet"
           }
          ],
          "heatmap": [
           {
            "colorbar": {
             "outlinewidth": 0,
             "ticks": ""
            },
            "colorscale": [
             [
              0,
              "#0d0887"
             ],
             [
              0.1111111111111111,
              "#46039f"
             ],
             [
              0.2222222222222222,
              "#7201a8"
             ],
             [
              0.3333333333333333,
              "#9c179e"
             ],
             [
              0.4444444444444444,
              "#bd3786"
             ],
             [
              0.5555555555555556,
              "#d8576b"
             ],
             [
              0.6666666666666666,
              "#ed7953"
             ],
             [
              0.7777777777777778,
              "#fb9f3a"
             ],
             [
              0.8888888888888888,
              "#fdca26"
             ],
             [
              1,
              "#f0f921"
             ]
            ],
            "type": "heatmap"
           }
          ],
          "heatmapgl": [
           {
            "colorbar": {
             "outlinewidth": 0,
             "ticks": ""
            },
            "colorscale": [
             [
              0,
              "#0d0887"
             ],
             [
              0.1111111111111111,
              "#46039f"
             ],
             [
              0.2222222222222222,
              "#7201a8"
             ],
             [
              0.3333333333333333,
              "#9c179e"
             ],
             [
              0.4444444444444444,
              "#bd3786"
             ],
             [
              0.5555555555555556,
              "#d8576b"
             ],
             [
              0.6666666666666666,
              "#ed7953"
             ],
             [
              0.7777777777777778,
              "#fb9f3a"
             ],
             [
              0.8888888888888888,
              "#fdca26"
             ],
             [
              1,
              "#f0f921"
             ]
            ],
            "type": "heatmapgl"
           }
          ],
          "histogram": [
           {
            "marker": {
             "pattern": {
              "fillmode": "overlay",
              "size": 10,
              "solidity": 0.2
             }
            },
            "type": "histogram"
           }
          ],
          "histogram2d": [
           {
            "colorbar": {
             "outlinewidth": 0,
             "ticks": ""
            },
            "colorscale": [
             [
              0,
              "#0d0887"
             ],
             [
              0.1111111111111111,
              "#46039f"
             ],
             [
              0.2222222222222222,
              "#7201a8"
             ],
             [
              0.3333333333333333,
              "#9c179e"
             ],
             [
              0.4444444444444444,
              "#bd3786"
             ],
             [
              0.5555555555555556,
              "#d8576b"
             ],
             [
              0.6666666666666666,
              "#ed7953"
             ],
             [
              0.7777777777777778,
              "#fb9f3a"
             ],
             [
              0.8888888888888888,
              "#fdca26"
             ],
             [
              1,
              "#f0f921"
             ]
            ],
            "type": "histogram2d"
           }
          ],
          "histogram2dcontour": [
           {
            "colorbar": {
             "outlinewidth": 0,
             "ticks": ""
            },
            "colorscale": [
             [
              0,
              "#0d0887"
             ],
             [
              0.1111111111111111,
              "#46039f"
             ],
             [
              0.2222222222222222,
              "#7201a8"
             ],
             [
              0.3333333333333333,
              "#9c179e"
             ],
             [
              0.4444444444444444,
              "#bd3786"
             ],
             [
              0.5555555555555556,
              "#d8576b"
             ],
             [
              0.6666666666666666,
              "#ed7953"
             ],
             [
              0.7777777777777778,
              "#fb9f3a"
             ],
             [
              0.8888888888888888,
              "#fdca26"
             ],
             [
              1,
              "#f0f921"
             ]
            ],
            "type": "histogram2dcontour"
           }
          ],
          "mesh3d": [
           {
            "colorbar": {
             "outlinewidth": 0,
             "ticks": ""
            },
            "type": "mesh3d"
           }
          ],
          "parcoords": [
           {
            "line": {
             "colorbar": {
              "outlinewidth": 0,
              "ticks": ""
             }
            },
            "type": "parcoords"
           }
          ],
          "pie": [
           {
            "automargin": true,
            "type": "pie"
           }
          ],
          "scatter": [
           {
            "fillpattern": {
             "fillmode": "overlay",
             "size": 10,
             "solidity": 0.2
            },
            "type": "scatter"
           }
          ],
          "scatter3d": [
           {
            "line": {
             "colorbar": {
              "outlinewidth": 0,
              "ticks": ""
             }
            },
            "marker": {
             "colorbar": {
              "outlinewidth": 0,
              "ticks": ""
             }
            },
            "type": "scatter3d"
           }
          ],
          "scattercarpet": [
           {
            "marker": {
             "colorbar": {
              "outlinewidth": 0,
              "ticks": ""
             }
            },
            "type": "scattercarpet"
           }
          ],
          "scattergeo": [
           {
            "marker": {
             "colorbar": {
              "outlinewidth": 0,
              "ticks": ""
             }
            },
            "type": "scattergeo"
           }
          ],
          "scattergl": [
           {
            "marker": {
             "colorbar": {
              "outlinewidth": 0,
              "ticks": ""
             }
            },
            "type": "scattergl"
           }
          ],
          "scattermapbox": [
           {
            "marker": {
             "colorbar": {
              "outlinewidth": 0,
              "ticks": ""
             }
            },
            "type": "scattermapbox"
           }
          ],
          "scatterpolar": [
           {
            "marker": {
             "colorbar": {
              "outlinewidth": 0,
              "ticks": ""
             }
            },
            "type": "scatterpolar"
           }
          ],
          "scatterpolargl": [
           {
            "marker": {
             "colorbar": {
              "outlinewidth": 0,
              "ticks": ""
             }
            },
            "type": "scatterpolargl"
           }
          ],
          "scatterternary": [
           {
            "marker": {
             "colorbar": {
              "outlinewidth": 0,
              "ticks": ""
             }
            },
            "type": "scatterternary"
           }
          ],
          "surface": [
           {
            "colorbar": {
             "outlinewidth": 0,
             "ticks": ""
            },
            "colorscale": [
             [
              0,
              "#0d0887"
             ],
             [
              0.1111111111111111,
              "#46039f"
             ],
             [
              0.2222222222222222,
              "#7201a8"
             ],
             [
              0.3333333333333333,
              "#9c179e"
             ],
             [
              0.4444444444444444,
              "#bd3786"
             ],
             [
              0.5555555555555556,
              "#d8576b"
             ],
             [
              0.6666666666666666,
              "#ed7953"
             ],
             [
              0.7777777777777778,
              "#fb9f3a"
             ],
             [
              0.8888888888888888,
              "#fdca26"
             ],
             [
              1,
              "#f0f921"
             ]
            ],
            "type": "surface"
           }
          ],
          "table": [
           {
            "cells": {
             "fill": {
              "color": "#EBF0F8"
             },
             "line": {
              "color": "white"
             }
            },
            "header": {
             "fill": {
              "color": "#C8D4E3"
             },
             "line": {
              "color": "white"
             }
            },
            "type": "table"
           }
          ]
         },
         "layout": {
          "annotationdefaults": {
           "arrowcolor": "#2a3f5f",
           "arrowhead": 0,
           "arrowwidth": 1
          },
          "autotypenumbers": "strict",
          "coloraxis": {
           "colorbar": {
            "outlinewidth": 0,
            "ticks": ""
           }
          },
          "colorscale": {
           "diverging": [
            [
             0,
             "#8e0152"
            ],
            [
             0.1,
             "#c51b7d"
            ],
            [
             0.2,
             "#de77ae"
            ],
            [
             0.3,
             "#f1b6da"
            ],
            [
             0.4,
             "#fde0ef"
            ],
            [
             0.5,
             "#f7f7f7"
            ],
            [
             0.6,
             "#e6f5d0"
            ],
            [
             0.7,
             "#b8e186"
            ],
            [
             0.8,
             "#7fbc41"
            ],
            [
             0.9,
             "#4d9221"
            ],
            [
             1,
             "#276419"
            ]
           ],
           "sequential": [
            [
             0,
             "#0d0887"
            ],
            [
             0.1111111111111111,
             "#46039f"
            ],
            [
             0.2222222222222222,
             "#7201a8"
            ],
            [
             0.3333333333333333,
             "#9c179e"
            ],
            [
             0.4444444444444444,
             "#bd3786"
            ],
            [
             0.5555555555555556,
             "#d8576b"
            ],
            [
             0.6666666666666666,
             "#ed7953"
            ],
            [
             0.7777777777777778,
             "#fb9f3a"
            ],
            [
             0.8888888888888888,
             "#fdca26"
            ],
            [
             1,
             "#f0f921"
            ]
           ],
           "sequentialminus": [
            [
             0,
             "#0d0887"
            ],
            [
             0.1111111111111111,
             "#46039f"
            ],
            [
             0.2222222222222222,
             "#7201a8"
            ],
            [
             0.3333333333333333,
             "#9c179e"
            ],
            [
             0.4444444444444444,
             "#bd3786"
            ],
            [
             0.5555555555555556,
             "#d8576b"
            ],
            [
             0.6666666666666666,
             "#ed7953"
            ],
            [
             0.7777777777777778,
             "#fb9f3a"
            ],
            [
             0.8888888888888888,
             "#fdca26"
            ],
            [
             1,
             "#f0f921"
            ]
           ]
          },
          "colorway": [
           "#636efa",
           "#EF553B",
           "#00cc96",
           "#ab63fa",
           "#FFA15A",
           "#19d3f3",
           "#FF6692",
           "#B6E880",
           "#FF97FF",
           "#FECB52"
          ],
          "font": {
           "color": "#2a3f5f"
          },
          "geo": {
           "bgcolor": "white",
           "lakecolor": "white",
           "landcolor": "#E5ECF6",
           "showlakes": true,
           "showland": true,
           "subunitcolor": "white"
          },
          "hoverlabel": {
           "align": "left"
          },
          "hovermode": "closest",
          "mapbox": {
           "style": "light"
          },
          "paper_bgcolor": "white",
          "plot_bgcolor": "#E5ECF6",
          "polar": {
           "angularaxis": {
            "gridcolor": "white",
            "linecolor": "white",
            "ticks": ""
           },
           "bgcolor": "#E5ECF6",
           "radialaxis": {
            "gridcolor": "white",
            "linecolor": "white",
            "ticks": ""
           }
          },
          "scene": {
           "xaxis": {
            "backgroundcolor": "#E5ECF6",
            "gridcolor": "white",
            "gridwidth": 2,
            "linecolor": "white",
            "showbackground": true,
            "ticks": "",
            "zerolinecolor": "white"
           },
           "yaxis": {
            "backgroundcolor": "#E5ECF6",
            "gridcolor": "white",
            "gridwidth": 2,
            "linecolor": "white",
            "showbackground": true,
            "ticks": "",
            "zerolinecolor": "white"
           },
           "zaxis": {
            "backgroundcolor": "#E5ECF6",
            "gridcolor": "white",
            "gridwidth": 2,
            "linecolor": "white",
            "showbackground": true,
            "ticks": "",
            "zerolinecolor": "white"
           }
          },
          "shapedefaults": {
           "line": {
            "color": "#2a3f5f"
           }
          },
          "ternary": {
           "aaxis": {
            "gridcolor": "white",
            "linecolor": "white",
            "ticks": ""
           },
           "baxis": {
            "gridcolor": "white",
            "linecolor": "white",
            "ticks": ""
           },
           "bgcolor": "#E5ECF6",
           "caxis": {
            "gridcolor": "white",
            "linecolor": "white",
            "ticks": ""
           }
          },
          "title": {
           "x": 0.05
          },
          "xaxis": {
           "automargin": true,
           "gridcolor": "white",
           "linecolor": "white",
           "ticks": "",
           "title": {
            "standoff": 15
           },
           "zerolinecolor": "white",
           "zerolinewidth": 2
          },
          "yaxis": {
           "automargin": true,
           "gridcolor": "white",
           "linecolor": "white",
           "ticks": "",
           "title": {
            "standoff": 15
           },
           "zerolinecolor": "white",
           "zerolinewidth": 2
          }
         }
        },
        "title": {
         "font": {
          "color": "#4D5663"
         },
         "text": "Revenue per Year"
        },
        "xaxis": {
         "gridcolor": "#E1E5ED",
         "showgrid": true,
         "tickfont": {
          "color": "#4D5663"
         },
         "title": {
          "font": {
           "color": "#4D5663"
          },
          "text": ""
         },
         "zerolinecolor": "#E1E5ED"
        },
        "yaxis": {
         "gridcolor": "#E1E5ED",
         "showgrid": true,
         "tickfont": {
          "color": "#4D5663"
         },
         "title": {
          "font": {
           "color": "#4D5663"
          },
          "text": ""
         },
         "zerolinecolor": "#E1E5ED"
        }
       }
      },
      "text/html": [
       "<div>                            <div id=\"c4f71927-0ed4-4b06-ad44-af0a7508a6c2\" class=\"plotly-graph-div\" style=\"height:525px; width:100%;\"></div>            <script type=\"text/javascript\">                require([\"plotly\"], function(Plotly) {                    window.PLOTLYENV=window.PLOTLYENV || {};\n",
       "                    window.PLOTLYENV.BASE_URL='https://plot.ly';                                    if (document.getElementById(\"c4f71927-0ed4-4b06-ad44-af0a7508a6c2\")) {                    Plotly.newPlot(                        \"c4f71927-0ed4-4b06-ad44-af0a7508a6c2\",                        [{\"marker\":{\"color\":\"rgba(255, 153, 51, 0.6)\",\"line\":{\"color\":\"rgba(255, 153, 51, 1.0)\",\"width\":1}},\"name\":\"Revenue\",\"orientation\":\"v\",\"text\":\"\",\"x\":[2010,2011],\"y\":[498353.68,6521855.35],\"type\":\"bar\"}],                        {\"legend\":{\"bgcolor\":\"#F5F6F9\",\"font\":{\"color\":\"#4D5663\"}},\"paper_bgcolor\":\"#F5F6F9\",\"plot_bgcolor\":\"#F5F6F9\",\"template\":{\"data\":{\"barpolar\":[{\"marker\":{\"line\":{\"color\":\"#E5ECF6\",\"width\":0.5},\"pattern\":{\"fillmode\":\"overlay\",\"size\":10,\"solidity\":0.2}},\"type\":\"barpolar\"}],\"bar\":[{\"error_x\":{\"color\":\"#2a3f5f\"},\"error_y\":{\"color\":\"#2a3f5f\"},\"marker\":{\"line\":{\"color\":\"#E5ECF6\",\"width\":0.5},\"pattern\":{\"fillmode\":\"overlay\",\"size\":10,\"solidity\":0.2}},\"type\":\"bar\"}],\"carpet\":[{\"aaxis\":{\"endlinecolor\":\"#2a3f5f\",\"gridcolor\":\"white\",\"linecolor\":\"white\",\"minorgridcolor\":\"white\",\"startlinecolor\":\"#2a3f5f\"},\"baxis\":{\"endlinecolor\":\"#2a3f5f\",\"gridcolor\":\"white\",\"linecolor\":\"white\",\"minorgridcolor\":\"white\",\"startlinecolor\":\"#2a3f5f\"},\"type\":\"carpet\"}],\"choropleth\":[{\"colorbar\":{\"outlinewidth\":0,\"ticks\":\"\"},\"type\":\"choropleth\"}],\"contourcarpet\":[{\"colorbar\":{\"outlinewidth\":0,\"ticks\":\"\"},\"type\":\"contourcarpet\"}],\"contour\":[{\"colorbar\":{\"outlinewidth\":0,\"ticks\":\"\"},\"colorscale\":[[0.0,\"#0d0887\"],[0.1111111111111111,\"#46039f\"],[0.2222222222222222,\"#7201a8\"],[0.3333333333333333,\"#9c179e\"],[0.4444444444444444,\"#bd3786\"],[0.5555555555555556,\"#d8576b\"],[0.6666666666666666,\"#ed7953\"],[0.7777777777777778,\"#fb9f3a\"],[0.8888888888888888,\"#fdca26\"],[1.0,\"#f0f921\"]],\"type\":\"contour\"}],\"heatmapgl\":[{\"colorbar\":{\"outlinewidth\":0,\"ticks\":\"\"},\"colorscale\":[[0.0,\"#0d0887\"],[0.1111111111111111,\"#46039f\"],[0.2222222222222222,\"#7201a8\"],[0.3333333333333333,\"#9c179e\"],[0.4444444444444444,\"#bd3786\"],[0.5555555555555556,\"#d8576b\"],[0.6666666666666666,\"#ed7953\"],[0.7777777777777778,\"#fb9f3a\"],[0.8888888888888888,\"#fdca26\"],[1.0,\"#f0f921\"]],\"type\":\"heatmapgl\"}],\"heatmap\":[{\"colorbar\":{\"outlinewidth\":0,\"ticks\":\"\"},\"colorscale\":[[0.0,\"#0d0887\"],[0.1111111111111111,\"#46039f\"],[0.2222222222222222,\"#7201a8\"],[0.3333333333333333,\"#9c179e\"],[0.4444444444444444,\"#bd3786\"],[0.5555555555555556,\"#d8576b\"],[0.6666666666666666,\"#ed7953\"],[0.7777777777777778,\"#fb9f3a\"],[0.8888888888888888,\"#fdca26\"],[1.0,\"#f0f921\"]],\"type\":\"heatmap\"}],\"histogram2dcontour\":[{\"colorbar\":{\"outlinewidth\":0,\"ticks\":\"\"},\"colorscale\":[[0.0,\"#0d0887\"],[0.1111111111111111,\"#46039f\"],[0.2222222222222222,\"#7201a8\"],[0.3333333333333333,\"#9c179e\"],[0.4444444444444444,\"#bd3786\"],[0.5555555555555556,\"#d8576b\"],[0.6666666666666666,\"#ed7953\"],[0.7777777777777778,\"#fb9f3a\"],[0.8888888888888888,\"#fdca26\"],[1.0,\"#f0f921\"]],\"type\":\"histogram2dcontour\"}],\"histogram2d\":[{\"colorbar\":{\"outlinewidth\":0,\"ticks\":\"\"},\"colorscale\":[[0.0,\"#0d0887\"],[0.1111111111111111,\"#46039f\"],[0.2222222222222222,\"#7201a8\"],[0.3333333333333333,\"#9c179e\"],[0.4444444444444444,\"#bd3786\"],[0.5555555555555556,\"#d8576b\"],[0.6666666666666666,\"#ed7953\"],[0.7777777777777778,\"#fb9f3a\"],[0.8888888888888888,\"#fdca26\"],[1.0,\"#f0f921\"]],\"type\":\"histogram2d\"}],\"histogram\":[{\"marker\":{\"pattern\":{\"fillmode\":\"overlay\",\"size\":10,\"solidity\":0.2}},\"type\":\"histogram\"}],\"mesh3d\":[{\"colorbar\":{\"outlinewidth\":0,\"ticks\":\"\"},\"type\":\"mesh3d\"}],\"parcoords\":[{\"line\":{\"colorbar\":{\"outlinewidth\":0,\"ticks\":\"\"}},\"type\":\"parcoords\"}],\"pie\":[{\"automargin\":true,\"type\":\"pie\"}],\"scatter3d\":[{\"line\":{\"colorbar\":{\"outlinewidth\":0,\"ticks\":\"\"}},\"marker\":{\"colorbar\":{\"outlinewidth\":0,\"ticks\":\"\"}},\"type\":\"scatter3d\"}],\"scattercarpet\":[{\"marker\":{\"colorbar\":{\"outlinewidth\":0,\"ticks\":\"\"}},\"type\":\"scattercarpet\"}],\"scattergeo\":[{\"marker\":{\"colorbar\":{\"outlinewidth\":0,\"ticks\":\"\"}},\"type\":\"scattergeo\"}],\"scattergl\":[{\"marker\":{\"colorbar\":{\"outlinewidth\":0,\"ticks\":\"\"}},\"type\":\"scattergl\"}],\"scattermapbox\":[{\"marker\":{\"colorbar\":{\"outlinewidth\":0,\"ticks\":\"\"}},\"type\":\"scattermapbox\"}],\"scatterpolargl\":[{\"marker\":{\"colorbar\":{\"outlinewidth\":0,\"ticks\":\"\"}},\"type\":\"scatterpolargl\"}],\"scatterpolar\":[{\"marker\":{\"colorbar\":{\"outlinewidth\":0,\"ticks\":\"\"}},\"type\":\"scatterpolar\"}],\"scatter\":[{\"fillpattern\":{\"fillmode\":\"overlay\",\"size\":10,\"solidity\":0.2},\"type\":\"scatter\"}],\"scatterternary\":[{\"marker\":{\"colorbar\":{\"outlinewidth\":0,\"ticks\":\"\"}},\"type\":\"scatterternary\"}],\"surface\":[{\"colorbar\":{\"outlinewidth\":0,\"ticks\":\"\"},\"colorscale\":[[0.0,\"#0d0887\"],[0.1111111111111111,\"#46039f\"],[0.2222222222222222,\"#7201a8\"],[0.3333333333333333,\"#9c179e\"],[0.4444444444444444,\"#bd3786\"],[0.5555555555555556,\"#d8576b\"],[0.6666666666666666,\"#ed7953\"],[0.7777777777777778,\"#fb9f3a\"],[0.8888888888888888,\"#fdca26\"],[1.0,\"#f0f921\"]],\"type\":\"surface\"}],\"table\":[{\"cells\":{\"fill\":{\"color\":\"#EBF0F8\"},\"line\":{\"color\":\"white\"}},\"header\":{\"fill\":{\"color\":\"#C8D4E3\"},\"line\":{\"color\":\"white\"}},\"type\":\"table\"}]},\"layout\":{\"annotationdefaults\":{\"arrowcolor\":\"#2a3f5f\",\"arrowhead\":0,\"arrowwidth\":1},\"autotypenumbers\":\"strict\",\"coloraxis\":{\"colorbar\":{\"outlinewidth\":0,\"ticks\":\"\"}},\"colorscale\":{\"diverging\":[[0,\"#8e0152\"],[0.1,\"#c51b7d\"],[0.2,\"#de77ae\"],[0.3,\"#f1b6da\"],[0.4,\"#fde0ef\"],[0.5,\"#f7f7f7\"],[0.6,\"#e6f5d0\"],[0.7,\"#b8e186\"],[0.8,\"#7fbc41\"],[0.9,\"#4d9221\"],[1,\"#276419\"]],\"sequential\":[[0.0,\"#0d0887\"],[0.1111111111111111,\"#46039f\"],[0.2222222222222222,\"#7201a8\"],[0.3333333333333333,\"#9c179e\"],[0.4444444444444444,\"#bd3786\"],[0.5555555555555556,\"#d8576b\"],[0.6666666666666666,\"#ed7953\"],[0.7777777777777778,\"#fb9f3a\"],[0.8888888888888888,\"#fdca26\"],[1.0,\"#f0f921\"]],\"sequentialminus\":[[0.0,\"#0d0887\"],[0.1111111111111111,\"#46039f\"],[0.2222222222222222,\"#7201a8\"],[0.3333333333333333,\"#9c179e\"],[0.4444444444444444,\"#bd3786\"],[0.5555555555555556,\"#d8576b\"],[0.6666666666666666,\"#ed7953\"],[0.7777777777777778,\"#fb9f3a\"],[0.8888888888888888,\"#fdca26\"],[1.0,\"#f0f921\"]]},\"colorway\":[\"#636efa\",\"#EF553B\",\"#00cc96\",\"#ab63fa\",\"#FFA15A\",\"#19d3f3\",\"#FF6692\",\"#B6E880\",\"#FF97FF\",\"#FECB52\"],\"font\":{\"color\":\"#2a3f5f\"},\"geo\":{\"bgcolor\":\"white\",\"lakecolor\":\"white\",\"landcolor\":\"#E5ECF6\",\"showlakes\":true,\"showland\":true,\"subunitcolor\":\"white\"},\"hoverlabel\":{\"align\":\"left\"},\"hovermode\":\"closest\",\"mapbox\":{\"style\":\"light\"},\"paper_bgcolor\":\"white\",\"plot_bgcolor\":\"#E5ECF6\",\"polar\":{\"angularaxis\":{\"gridcolor\":\"white\",\"linecolor\":\"white\",\"ticks\":\"\"},\"bgcolor\":\"#E5ECF6\",\"radialaxis\":{\"gridcolor\":\"white\",\"linecolor\":\"white\",\"ticks\":\"\"}},\"scene\":{\"xaxis\":{\"backgroundcolor\":\"#E5ECF6\",\"gridcolor\":\"white\",\"gridwidth\":2,\"linecolor\":\"white\",\"showbackground\":true,\"ticks\":\"\",\"zerolinecolor\":\"white\"},\"yaxis\":{\"backgroundcolor\":\"#E5ECF6\",\"gridcolor\":\"white\",\"gridwidth\":2,\"linecolor\":\"white\",\"showbackground\":true,\"ticks\":\"\",\"zerolinecolor\":\"white\"},\"zaxis\":{\"backgroundcolor\":\"#E5ECF6\",\"gridcolor\":\"white\",\"gridwidth\":2,\"linecolor\":\"white\",\"showbackground\":true,\"ticks\":\"\",\"zerolinecolor\":\"white\"}},\"shapedefaults\":{\"line\":{\"color\":\"#2a3f5f\"}},\"ternary\":{\"aaxis\":{\"gridcolor\":\"white\",\"linecolor\":\"white\",\"ticks\":\"\"},\"baxis\":{\"gridcolor\":\"white\",\"linecolor\":\"white\",\"ticks\":\"\"},\"bgcolor\":\"#E5ECF6\",\"caxis\":{\"gridcolor\":\"white\",\"linecolor\":\"white\",\"ticks\":\"\"}},\"title\":{\"x\":0.05},\"xaxis\":{\"automargin\":true,\"gridcolor\":\"white\",\"linecolor\":\"white\",\"ticks\":\"\",\"title\":{\"standoff\":15},\"zerolinecolor\":\"white\",\"zerolinewidth\":2},\"yaxis\":{\"automargin\":true,\"gridcolor\":\"white\",\"linecolor\":\"white\",\"ticks\":\"\",\"title\":{\"standoff\":15},\"zerolinecolor\":\"white\",\"zerolinewidth\":2}}},\"title\":{\"font\":{\"color\":\"#4D5663\"},\"text\":\"Revenue per Year\"},\"xaxis\":{\"gridcolor\":\"#E1E5ED\",\"showgrid\":true,\"tickfont\":{\"color\":\"#4D5663\"},\"title\":{\"font\":{\"color\":\"#4D5663\"},\"text\":\"\"},\"zerolinecolor\":\"#E1E5ED\"},\"yaxis\":{\"gridcolor\":\"#E1E5ED\",\"showgrid\":true,\"tickfont\":{\"color\":\"#4D5663\"},\"title\":{\"font\":{\"color\":\"#4D5663\"},\"text\":\"\"},\"zerolinecolor\":\"#E1E5ED\"}},                        {\"showLink\": true, \"linkText\": \"Export to plot.ly\", \"plotlyServerURL\": \"https://plot.ly\", \"responsive\": true}                    ).then(function(){\n",
       "                            \n",
       "var gd = document.getElementById('c4f71927-0ed4-4b06-ad44-af0a7508a6c2');\n",
       "var x = new MutationObserver(function (mutations, observer) {{\n",
       "        var display = window.getComputedStyle(gd).display;\n",
       "        if (!display || display === 'none') {{\n",
       "            console.log([gd, 'removed!']);\n",
       "            Plotly.purge(gd);\n",
       "            observer.disconnect();\n",
       "        }}\n",
       "}});\n",
       "\n",
       "// Listen for the removal of the full notebook cells\n",
       "var notebookContainer = gd.closest('#notebook-container');\n",
       "if (notebookContainer) {{\n",
       "    x.observe(notebookContainer, {childList: true});\n",
       "}}\n",
       "\n",
       "// Listen for the clearing of the current output cell\n",
       "var outputEl = gd.closest('.output');\n",
       "if (outputEl) {{\n",
       "    x.observe(outputEl, {childList: true});\n",
       "}}\n",
       "\n",
       "                        })                };                });            </script>        </div>"
      ]
     },
     "metadata": {},
     "output_type": "display_data"
    }
   ],
   "source": [
    "data_UK.pivot_table(index=['year','month','day'], values='Revenue', aggfunc='sum').iplot(kind='bar',title='Revenue per Day')\n",
    "data_UK.pivot_table(index=['year','month'], values='Revenue', aggfunc='sum').iplot(kind='bar',title='Revenue per Month')\n",
    "data_UK.pivot_table(index=['year'], values='Revenue', aggfunc='sum').iplot(kind='bar',title='Revenue per Year')"
   ]
  },
  {
   "cell_type": "markdown",
   "metadata": {},
   "source": [
    "## 7. Create an interactive scatter plot that plots number of invoices (x-axis) vs. number of customers (y-axis) and the plot points represent individual products. Add two sliders that control the x and y axis ranges."
   ]
  },
  {
   "cell_type": "code",
   "execution_count": 212,
   "metadata": {},
   "outputs": [
    {
     "data": {
      "application/vnd.plotly.v1+json": {
       "config": {
        "linkText": "Export to plot.ly",
        "plotlyServerURL": "https://plot.ly",
        "showLink": true
       },
       "data": [
        {
         "line": {
          "color": "rgba(55, 128, 191, 1.0)",
          "dash": "solid",
          "shape": "linear",
          "width": 1.3
         },
         "mode": "lines",
         "name": "CustomerID",
         "text": "",
         "type": "scatter",
         "x": [
          182,
          27,
          72,
          16,
          77,
          4,
          58,
          13,
          58,
          131,
          17,
          248,
          126,
          9,
          256,
          81,
          21,
          10,
          166,
          62,
          49,
          13,
          32,
          15,
          76,
          219,
          38,
          100,
          82,
          94,
          25,
          10,
          100,
          31,
          100,
          64,
          25,
          144,
          124,
          84,
          55,
          4,
          10,
          4,
          53,
          105,
          72,
          101,
          109,
          25,
          58,
          36,
          15,
          713,
          183,
          34,
          29,
          41,
          38,
          117,
          30,
          36,
          29,
          28,
          287,
          94,
          10,
          233,
          107,
          420,
          50,
          36,
          15,
          184,
          96,
          10,
          11,
          172,
          3,
          57,
          25,
          21,
          187,
          8,
          353,
          20,
          43,
          15,
          85,
          122,
          59,
          36,
          34,
          60,
          79,
          22,
          45,
          36,
          439,
          332,
          161,
          408,
          35,
          224,
          300,
          35,
          30,
          150,
          209,
          68,
          342,
          54,
          14,
          235,
          25,
          18,
          20,
          71,
          13,
          21,
          52,
          148,
          142,
          8,
          23,
          19,
          69,
          6,
          31,
          34,
          34,
          51,
          15,
          24,
          281,
          119,
          17,
          147,
          37,
          10,
          102,
          136,
          68,
          17,
          86,
          62,
          17,
          15,
          62,
          34,
          259,
          21,
          273,
          461,
          49,
          18,
          48,
          67,
          6,
          4,
          56,
          10,
          19,
          182,
          121,
          33,
          11,
          20,
          103,
          16,
          161,
          20,
          9,
          18,
          438,
          157,
          34,
          58,
          28,
          10,
          88,
          146,
          112,
          28,
          23,
          14,
          20,
          232,
          95,
          85,
          11,
          3,
          9,
          33,
          67,
          25,
          16,
          20,
          114,
          25,
          202,
          127,
          55,
          54,
          23,
          12,
          1,
          15,
          101,
          57,
          102,
          65,
          18,
          149,
          20,
          101,
          30,
          42,
          10,
          82,
          91,
          449,
          10,
          17,
          36,
          84,
          285,
          224,
          38,
          62,
          30,
          97,
          99,
          387,
          38,
          21,
          50,
          9,
          44,
          18,
          31,
          69,
          45,
          109,
          20,
          29,
          19,
          9,
          47,
          43,
          34,
          121,
          44,
          35,
          4,
          12,
          220,
          28,
          2,
          32,
          157,
          98,
          87,
          10,
          41,
          79,
          39,
          156,
          44,
          49,
          616,
          496,
          331,
          98,
          151,
          6,
          171,
          70,
          15,
          27,
          35,
          35,
          27,
          38,
          264,
          51,
          11,
          20,
          81,
          328,
          33,
          147,
          203,
          74,
          120,
          37,
          254,
          20,
          67,
          53,
          18,
          37,
          342,
          155,
          52,
          68,
          49,
          23,
          117,
          132,
          42,
          25,
          273,
          11,
          22,
          4,
          41,
          3,
          10,
          37,
          27,
          215,
          103,
          4580,
          198,
          15,
          53,
          197,
          63,
          4,
          4,
          365,
          97,
          92,
          67,
          18,
          45,
          306,
          32,
          12,
          54,
          61,
          44,
          149,
          24,
          98,
          78,
          58,
          13,
          17,
          3,
          20,
          1,
          24,
          22,
          45,
          13,
          12,
          8,
          24,
          27,
          24,
          28,
          15,
          1,
          45,
          27,
          3,
          13,
          59,
          6,
          46,
          5,
          25,
          91,
          25,
          56,
          11,
          38,
          9,
          27,
          24,
          18,
          175,
          12,
          123,
          314,
          113,
          420,
          34,
          103,
          52,
          27,
          91,
          49,
          50,
          17,
          78,
          110,
          3,
          314,
          46,
          5,
          3,
          95,
          25,
          538,
          107,
          11,
          66,
          4,
          2,
          83,
          154,
          47,
          10,
          7,
          13,
          42,
          7,
          71,
          82,
          5,
          82,
          3,
          34,
          22,
          4,
          116,
          10,
          72,
          63,
          2,
          91,
          75,
          24,
          50,
          22,
          107,
          2,
          50,
          28,
          720,
          28,
          28,
          29,
          45,
          84,
          8,
          25,
          82,
          106,
          129,
          62,
          120,
          9,
          47,
          99,
          75,
          30,
          23,
          97,
          116,
          215,
          23,
          63,
          79,
          17,
          180,
          19,
          238,
          16,
          95,
          109,
          10,
          19,
          5,
          151,
          305,
          8,
          22,
          9,
          20,
          20,
          28,
          4,
          76,
          28,
          92,
          64,
          13,
          31,
          27,
          61,
          3,
          59,
          28,
          31,
          339,
          7,
          6,
          404,
          26,
          4,
          14,
          3,
          89,
          219,
          109,
          176,
          47,
          1,
          458,
          131,
          38,
          40,
          26,
          45,
          10,
          99,
          71,
          11,
          37,
          27,
          48,
          28,
          43,
          13,
          33,
          18,
          35,
          171,
          136,
          14,
          402,
          18,
          76,
          8,
          8,
          15,
          10,
          11,
          69,
          14,
          48,
          15,
          2,
          425,
          9,
          7,
          22,
          112,
          358,
          6,
          6,
          1024,
          73,
          18,
          22,
          1818,
          154,
          21,
          25,
          159,
          24,
          6,
          423,
          572,
          1,
          8,
          304,
          8,
          20,
          1,
          58,
          10,
          47,
          145,
          200,
          120,
          30,
          76,
          79,
          1,
          50,
          55,
          235,
          140,
          15,
          2,
          44,
          3,
          7,
          98,
          1,
          127,
          704,
          63,
          170,
          46,
          135,
          23,
          3,
          6,
          17,
          4,
          319,
          86,
          74,
          15,
          85,
          87,
          79,
          121,
          4,
          8,
          79,
          42,
          41,
          64,
          131,
          13,
          32,
          46,
          43,
          313,
          72,
          17,
          265,
          11,
          94,
          180,
          1,
          79,
          37,
          2,
          29,
          63,
          29,
          3,
          110,
          226,
          118,
          46,
          57,
          8,
          147,
          321,
          22,
          56,
          142,
          90,
          5,
          4,
          5,
          21,
          65,
          5,
          107,
          32,
          16,
          9,
          2,
          10,
          611,
          206,
          43,
          58,
          36,
          31,
          21,
          66,
          13,
          58,
          27,
          16,
          141,
          25,
          26,
          23,
          36,
          13,
          38,
          87,
          8,
          9,
          11,
          1672,
          91,
          187,
          211,
          439,
          316,
          1,
          96,
          15,
          16,
          30,
          8,
          46,
          9,
          85,
          37,
          7,
          13,
          187,
          42,
          31,
          54,
          10,
          5,
          59,
          2,
          5,
          20,
          80,
          1,
          21,
          81,
          1,
          54,
          107,
          72,
          26,
          78,
          62,
          87,
          124,
          20,
          476,
          106,
          11,
          25,
          21,
          75,
          12,
          108,
          17,
          17,
          53,
          21,
          268,
          51,
          18,
          54,
          134,
          42,
          18,
          119,
          19,
          7,
          14,
          15,
          38,
          15,
          23,
          51,
          32,
          42,
          90,
          28,
          22,
          166,
          58,
          10,
          128,
          1,
          28,
          13,
          39,
          22,
          158,
          37,
          50,
          97,
          172,
          15,
          152,
          35,
          35,
          51,
          13,
          1,
          155,
          21,
          43,
          38,
          26,
          39,
          3,
          11,
          25,
          478,
          28,
          18,
          24,
          19,
          28,
          304,
          16,
          8,
          103,
          127,
          78,
          157,
          29,
          74,
          67,
          49,
          46,
          10,
          101,
          12,
          167,
          54,
          13,
          59,
          195,
          19,
          71,
          443,
          2,
          17,
          46,
          63,
          382,
          17,
          27,
          9,
          41,
          17,
          99,
          302,
          10,
          260,
          21,
          64,
          86,
          58,
          79,
          15,
          109,
          11,
          10,
          8,
          23,
          69,
          34,
          422,
          14,
          86,
          50,
          6,
          18,
          48,
          35,
          19,
          42,
          65,
          52,
          18,
          17,
          22,
          211,
          26,
          162,
          12,
          43,
          115,
          15,
          10,
          4,
          59,
          44,
          141,
          38,
          8,
          87,
          435,
          5,
          172,
          27,
          6,
          223,
          15,
          22,
          66,
          76,
          296,
          179,
          25,
          37,
          87,
          98,
          124,
          51,
          4,
          109,
          136,
          34,
          175,
          33,
          14,
          82,
          49,
          82,
          38,
          176,
          44,
          84,
          27,
          341,
          33,
          26,
          46,
          126,
          83,
          23,
          10,
          53,
          24,
          8,
          174,
          21,
          87,
          58,
          16,
          128,
          26,
          166,
          40,
          247,
          19,
          99,
          23,
          27,
          43,
          98,
          226,
          74,
          201,
          23,
          44,
          13,
          19,
          81,
          19,
          92,
          59,
          71,
          11,
          146,
          188,
          62,
          63,
          100,
          8,
          40,
          66,
          28,
          146,
          5,
          79,
          23,
          96,
          5,
          63,
          166,
          56,
          49,
          16,
          108,
          104,
          53,
          13,
          12,
          87,
          470,
          9,
          25,
          6,
          65,
          25,
          16,
          195,
          57,
          3,
          30,
          39,
          8,
          6,
          9,
          53,
          568,
          90,
          12,
          14,
          197,
          1,
          134,
          28,
          20,
          48,
          50,
          336,
          8,
          13,
          10,
          105,
          21,
          102,
          12,
          60,
          43,
          28,
          85,
          6,
          104,
          42,
          20,
          63,
          43,
          38,
          33,
          196,
          191,
          30,
          3,
          23,
          34,
          321,
          41,
          72,
          25,
          1,
          28,
          24,
          9,
          76,
          35,
          12,
          342,
          142,
          117,
          25,
          57,
          70,
          7,
          15,
          207,
          368,
          135,
          119,
          177,
          22,
          197,
          9,
          57,
          17,
          115,
          31,
          7,
          31,
          45,
          11,
          13,
          349,
          39,
          33,
          23,
          60,
          17,
          137,
          13,
          10,
          7,
          76,
          12,
          32,
          10,
          33,
          65,
          57,
          173,
          26,
          22,
          36,
          59,
          96,
          40,
          46,
          10,
          93,
          15,
          74,
          3,
          29,
          55,
          19,
          174,
          1,
          206,
          20,
          9,
          55,
          5,
          101,
          93,
          81,
          23,
          110,
          14,
          11,
          28,
          76,
          139,
          20,
          30,
          7,
          61,
          33,
          307,
          115,
          336,
          23,
          18,
          104,
          7,
          3,
          36,
          165,
          178,
          65,
          142,
          59,
          28,
          16,
          19,
          40,
          15,
          110,
          27,
          21,
          27,
          118,
          17,
          12,
          19,
          43,
          149,
          26,
          121,
          148,
          33,
          18,
          30,
          26,
          7,
          20,
          117,
          41,
          11,
          21,
          27,
          9,
          17,
          58,
          16,
          23,
          31,
          26,
          9,
          7,
          45,
          49,
          45,
          11,
          5,
          3,
          160,
          35,
          39,
          136,
          20,
          25,
          33,
          152,
          92,
          12,
          11,
          35,
          2,
          626,
          149,
          15,
          11,
          28,
          338,
          10,
          15,
          54,
          11,
          111,
          107,
          16,
          349,
          13,
          234,
          41,
          16,
          83,
          5,
          121,
          155,
          86,
          208,
          15,
          39,
          47,
          171,
          84,
          30,
          42,
          11,
          34,
          39,
          20,
          160,
          66,
          39,
          22,
          28,
          31,
          16,
          6,
          15,
          243,
          250,
          143,
          89,
          66,
          38,
          28,
          92,
          6,
          235,
          21,
          209,
          6,
          13,
          32,
          85,
          488,
          54,
          210,
          56,
          4,
          6,
          10,
          1106,
          284,
          8,
          202,
          111,
          80,
          7,
          52,
          24,
          322,
          13,
          43,
          46,
          42,
          65,
          12,
          4,
          153,
          29,
          181,
          450,
          69,
          589,
          14,
          1,
          214,
          105,
          5095,
          21,
          250,
          26,
          35,
          79,
          21,
          74,
          123,
          34,
          9,
          155,
          10,
          160,
          34,
          15,
          72,
          3,
          159,
          5,
          167,
          15,
          44,
          46,
          52,
          67,
          200,
          28,
          134,
          47,
          26,
          66,
          40,
          22,
          7,
          11,
          210,
          5,
          3,
          28,
          26,
          49,
          52,
          6,
          1387,
          48,
          41,
          1203,
          108,
          25,
          52,
          29,
          25,
          52,
          58,
          29,
          26,
          149,
          31,
          42,
          325,
          165,
          240,
          24,
          3,
          65,
          265,
          259,
          42,
          579,
          7,
          6,
          39,
          2,
          37,
          44,
          24,
          20,
          10,
          87,
          102,
          112,
          9,
          67,
          108,
          59,
          100,
          12,
          7,
          21,
          193,
          41,
          60,
          118,
          67,
          175,
          40,
          50,
          115,
          35,
          159,
          79,
          15,
          9,
          8,
          112,
          42,
          10,
          16,
          141,
          108,
          75,
          20,
          8,
          111,
          78,
          53,
          106,
          111,
          5,
          52,
          143,
          17,
          55,
          29,
          10,
          33,
          29,
          64,
          224,
          8,
          156,
          32,
          27,
          280,
          9,
          16,
          47,
          101,
          237,
          100,
          61,
          5,
          62,
          1637,
          143,
          3,
          13,
          17,
          105,
          33,
          180,
          117,
          20,
          87,
          8,
          101,
          24,
          31,
          123,
          36,
          8,
          12,
          259,
          28,
          26,
          15,
          162,
          63,
          90,
          31,
          14,
          6,
          129,
          21,
          71,
          6,
          60,
          18,
          31,
          18,
          1,
          47,
          6,
          9,
          11,
          33,
          41,
          55,
          118,
          41,
          69,
          524,
          8,
          4,
          4,
          75,
          11,
          46,
          56,
          131,
          59,
          14,
          7,
          140,
          186,
          45,
          286,
          5,
          350,
          73,
          87,
          25,
          182,
          20,
          103,
          8,
          72,
          107,
          54,
          192,
          14,
          43,
          23,
          97,
          590,
          14,
          124,
          206,
          29,
          27,
          222,
          3,
          1,
          224,
          17,
          144,
          17,
          382,
          12,
          9,
          5,
          9,
          32,
          55,
          51,
          63,
          93,
          292,
          70,
          20,
          258,
          40,
          109,
          62,
          22,
          968,
          4,
          37,
          16,
          179,
          239,
          6,
          130,
          72,
          90,
          43,
          281,
          7,
          29,
          42,
          19,
          10,
          18,
          13,
          30,
          144,
          9,
          14,
          47,
          144,
          46,
          30,
          17,
          120,
          7,
          6,
          19,
          29,
          193,
          194,
          7,
          10,
          623,
          164,
          107,
          799,
          316,
          96,
          57,
          68,
          23,
          12,
          73,
          101,
          18,
          16,
          4,
          17,
          12,
          203,
          291,
          971,
          18,
          229,
          216,
          64,
          62,
          518,
          330,
          19,
          10,
          19,
          32,
          76,
          111,
          5,
          69,
          114,
          399,
          366,
          4,
          56,
          48,
          10,
          58,
          113,
          216,
          21,
          16,
          74,
          69,
          423,
          124,
          4,
          33,
          12,
          28,
          270,
          235,
          1,
          123,
          24,
          17,
          6,
          330,
          100,
          29,
          19,
          383,
          3,
          197,
          164,
          152,
          53,
          102,
          55,
          50,
          25,
          7,
          2,
          2697,
          78,
          20,
          4,
          3,
          16,
          20,
          26,
          92,
          21,
          133,
          13,
          53,
          122,
          24,
          152,
          41,
          8,
          20,
          28,
          16,
          172,
          106,
          7,
          2,
          31,
          26,
          30,
          2060,
          30,
          199,
          102,
          29,
          236,
          49,
          80,
          126,
          29,
          253,
          30,
          4,
          168,
          99,
          90,
          13,
          572,
          170,
          132,
          61,
          74,
          102,
          42,
          258,
          7,
          2,
          421,
          15,
          327,
          13,
          50,
          71,
          68,
          8,
          130,
          22,
          210,
          8,
          115,
          335,
          347,
          22,
          412,
          1,
          28,
          196,
          139,
          357,
          25,
          339,
          10,
          71,
          55,
          237,
          37,
          29,
          277,
          52,
          10,
          71,
          501,
          45,
          147,
          202,
          193,
          17,
          54,
          60,
          89,
          59,
          26,
          69,
          18,
          89,
          5,
          30,
          41,
          235,
          38,
          19,
          71,
          102,
          5,
          11,
          21,
          6,
          39,
          135,
          5,
          1089,
          52,
          9,
          60,
          117,
          35,
          41,
          27,
          6,
          15,
          3,
          30,
          6,
          46,
          2,
          14,
          80,
          6,
          1140,
          12,
          13,
          385,
          59,
          44,
          12,
          47,
          11,
          235,
          255,
          30,
          53,
          4,
          61,
          48,
          13,
          29,
          2,
          70,
          29,
          121,
          17,
          42,
          39,
          67,
          6,
          108,
          4,
          138,
          145,
          130,
          13,
          388,
          21,
          28,
          143,
          9,
          127,
          20,
          66,
          60,
          58,
          11,
          6,
          48,
          11,
          4,
          98,
          36,
          144,
          71,
          13,
          98,
          28,
          47,
          124,
          47,
          17,
          11,
          53,
          15,
          18,
          6,
          20,
          10,
          7,
          33,
          73,
          23,
          498,
          43,
          55,
          116,
          96,
          20,
          355,
          69,
          17,
          165,
          9,
          30,
          5589,
          27,
          87,
          12,
          77,
          45,
          57,
          78,
          44,
          10,
          11,
          128,
          38,
          16,
          87,
          10,
          364,
          34,
          170,
          3,
          14,
          63,
          19,
          20,
          138,
          55,
          85,
          12,
          42,
          59,
          27,
          312,
          5,
          198,
          13,
          83,
          38,
          6,
          37,
          34,
          160,
          18,
          32,
          21,
          11,
          70,
          216,
          8,
          41,
          87,
          4,
          40,
          61,
          26,
          75,
          77,
          115,
          157,
          1118,
          143,
          12,
          182,
          20,
          128,
          35,
          20,
          20,
          31,
          70,
          472,
          135,
          560,
          155,
          72,
          60,
          35,
          48,
          7,
          111,
          52,
          509,
          394,
          27,
          127,
          130,
          1502,
          67,
          5,
          3,
          453,
          12,
          205,
          22,
          97,
          3,
          78,
          143,
          30,
          71,
          114,
          25,
          276,
          237,
          120,
          403,
          57,
          5,
          155,
          42,
          82,
          104,
          70,
          1,
          26,
          54,
          42,
          27,
          49,
          440,
          47,
          33,
          5,
          15,
          57,
          145,
          23,
          30,
          26,
          108,
          47,
          11,
          25,
          3,
          23,
          3,
          8,
          35,
          69,
          101,
          100,
          16,
          28,
          35,
          84,
          99,
          197,
          21,
          45,
          79,
          1,
          14,
          21,
          28,
          82,
          106,
          15,
          127,
          16,
          102,
          84,
          22,
          52,
          29,
          73,
          9,
          68,
          13,
          80,
          26,
          14,
          217,
          67,
          91,
          28,
          20,
          23,
          343,
          271,
          22,
          85,
          55,
          125,
          7,
          710,
          4,
          29,
          103,
          27,
          41,
          5,
          5,
          110,
          11,
          23,
          3,
          93,
          6,
          16,
          29,
          63,
          21,
          19,
          90,
          212,
          51,
          19,
          310,
          1,
          32,
          10,
          13,
          69,
          142,
          9,
          37,
          9,
          42,
          20,
          52,
          5,
          24,
          110,
          35,
          2,
          166,
          9,
          117,
          5,
          5,
          20,
          14,
          23,
          8,
          58,
          125,
          23,
          31,
          14,
          143,
          15,
          99,
          50,
          49,
          78,
          110,
          22,
          34,
          89,
          33,
          6,
          350,
          111,
          44,
          53,
          18,
          47,
          6,
          7,
          34,
          77,
          19,
          10,
          12,
          23,
          82,
          6,
          11,
          2,
          41,
          274,
          63,
          47,
          41,
          52,
          12,
          19,
          16,
          139,
          3,
          20,
          88,
          58,
          204,
          102,
          25,
          194,
          39,
          192,
          6,
          28,
          243,
          31,
          23,
          58,
          12,
          19,
          2379,
          47,
          1,
          24,
          37,
          1,
          33,
          16,
          36,
          95,
          42,
          49,
          29,
          10,
          57,
          13,
          35,
          16,
          98,
          36,
          86,
          17,
          24,
          21,
          26,
          20,
          17,
          5,
          9,
          72,
          5,
          225,
          63,
          14,
          519,
          551,
          13,
          7,
          16,
          29,
          114,
          44,
          95,
          4,
          94,
          27,
          132,
          3,
          117,
          194,
          36,
          8,
          302,
          41,
          12,
          31,
          10,
          1,
          84,
          12,
          85,
          7,
          14,
          6,
          73,
          50,
          12,
          41,
          8,
          53,
          153,
          34,
          122,
          99,
          10,
          39,
          48,
          192,
          28,
          8,
          53,
          6,
          2,
          17,
          292,
          306,
          6,
          82,
          10,
          41,
          55,
          29,
          329,
          45,
          25,
          62,
          2,
          382,
          219,
          5,
          9,
          28,
          60,
          30,
          58,
          286,
          25,
          60,
          58,
          7,
          58,
          11,
          7,
          157,
          97,
          57,
          52,
          24,
          24,
          77,
          76,
          11,
          29,
          46,
          45,
          97,
          88,
          188,
          86,
          2,
          50,
          154,
          35,
          297,
          125,
          15,
          512,
          68,
          209,
          70,
          13,
          97,
          164,
          46,
          92,
          1,
          160,
          7,
          308,
          178,
          15,
          27,
          214,
          18,
          185,
          57,
          10,
          1,
          177,
          4,
          163,
          26,
          671,
          108,
          228,
          255,
          83,
          75,
          24,
          41,
          15,
          29,
          28,
          259,
          81,
          702,
          114,
          61,
          29,
          17,
          56,
          14,
          897,
          31,
          20,
          27,
          1,
          111,
          8,
          7,
          53,
          31,
          323,
          57,
          215,
          103,
          168,
          45,
          39,
          13,
          51,
          146,
          44,
          123,
          31,
          9,
          29,
          24,
          5,
          103,
          77,
          22,
          14,
          52,
          410,
          46,
          2,
          17,
          67,
          77,
          13,
          60,
          16,
          6,
          41,
          6,
          423,
          44,
          3,
          100,
          16,
          185,
          19,
          34,
          64,
          49,
          155,
          60,
          167,
          15,
          25,
          15,
          25,
          484,
          119,
          33,
          238,
          51,
          35,
          25,
          2,
          32,
          21,
          6,
          21,
          34,
          47,
          1,
          48,
          11,
          90,
          5,
          9,
          17,
          116,
          13,
          1,
          33,
          12,
          78,
          155,
          113,
          21,
          202,
          33,
          12,
          110,
          78,
          53,
          10,
          166,
          9,
          19,
          2,
          12,
          77,
          22,
          171,
          18,
          86,
          237,
          5,
          117,
          6,
          55,
          214,
          288,
          6,
          53,
          19,
          35,
          118,
          7,
          936,
          128,
          91,
          69,
          41,
          11,
          32,
          302,
          5,
          70,
          14,
          10,
          26,
          72,
          173,
          8,
          9,
          88,
          3,
          62,
          28,
          93,
          21,
          10,
          293,
          411,
          1,
          28,
          141,
          192,
          45,
          9,
          7,
          37,
          61,
          180,
          11,
          27,
          130,
          10,
          25,
          7,
          18,
          21,
          29,
          20,
          43,
          14,
          83,
          267,
          206,
          25,
          35,
          75,
          12,
          42,
          132,
          7,
          98,
          119,
          64,
          8,
          262,
          301,
          31,
          48,
          208,
          35,
          89,
          133,
          41,
          40,
          72,
          49,
          123,
          17,
          62,
          33,
          20,
          68,
          115,
          51,
          39,
          68,
          54,
          272,
          50,
          10,
          24,
          167,
          62,
          27,
          47,
          8,
          11,
          138,
          22,
          97,
          22,
          30,
          140,
          80,
          644,
          14,
          191,
          142,
          546,
          147,
          18,
          20,
          40,
          45,
          459,
          15,
          76,
          128,
          120,
          129,
          105,
          29,
          22,
          49,
          16,
          12,
          10,
          91,
          61,
          40,
          11,
          24,
          86,
          4,
          51,
          114,
          74,
          30,
          150,
          248,
          7,
          267,
          19,
          155,
          12,
          40,
          143,
          58,
          25,
          11,
          21,
          12,
          21,
          115,
          74,
          11,
          7,
          18,
          75,
          1,
          14,
          6,
          2,
          29,
          60,
          19,
          98,
          41,
          91,
          98,
          183,
          42,
          7,
          28,
          122,
          84,
          20,
          11,
          34,
          4,
          176,
          24,
          98,
          65,
          49,
          43,
          97,
          113,
          270,
          37,
          14,
          140,
          27,
          52,
          3,
          551,
          35,
          130,
          506,
          9,
          103,
          218,
          8,
          385,
          33,
          90,
          86,
          212,
          94,
          139,
          145,
          181,
          235,
          32,
          28,
          160,
          46,
          76,
          101,
          62,
          28,
          32,
          16,
          241,
          29,
          100,
          1137,
          22,
          55,
          39,
          26,
          65,
          6,
          71,
          39,
          83,
          8,
          312,
          10,
          34,
          84,
          70,
          8,
          68,
          121,
          180,
          64,
          23,
          74,
          102,
          33,
          21,
          23,
          1,
          129,
          1,
          21,
          10,
          227,
          31,
          38,
          167,
          39,
          18,
          51,
          1,
          63,
          12,
          10,
          67,
          39,
          76,
          57,
          48,
          29,
          13,
          6,
          31,
          48,
          18,
          354,
          16,
          30,
          8,
          284,
          34,
          30,
          16,
          30,
          212,
          38,
          16,
          11,
          13,
          117,
          40,
          89,
          78,
          338,
          35,
          21,
          37,
          31,
          35,
          30,
          37,
          117,
          1,
          224,
          29,
          22,
          1,
          18,
          117,
          29,
          89,
          130,
          18,
          14,
          20,
          474,
          2,
          6,
          34,
          98,
          85,
          125,
          3,
          69,
          84,
          23,
          58,
          15,
          8,
          11,
          162,
          11,
          28,
          15,
          45,
          31,
          218,
          295,
          67,
          11,
          6,
          134,
          19,
          14,
          179,
          111,
          18,
          35,
          57,
          97,
          63,
          19,
          66,
          46,
          122,
          23,
          41,
          6,
          44,
          14,
          37,
          15,
          84,
          97,
          137,
          96,
          134,
          8,
          6,
          47,
          35,
          37,
          22,
          45,
          20,
          19,
          135,
          662,
          294,
          51,
          91,
          90,
          16,
          7,
          69,
          24,
          123,
          270,
          13,
          1,
          135,
          18,
          124,
          256,
          61,
          44,
          54,
          132,
          25,
          65,
          33,
          6,
          23,
          107,
          17,
          11,
          165,
          109,
          8,
          17,
          118,
          79,
          20,
          27,
          11,
          162,
          22,
          41,
          4,
          42,
          37,
          16,
          14,
          151,
          69,
          19,
          3,
          12,
          37,
          1,
          118,
          18,
          319,
          318,
          39,
          153,
          45,
          10,
          11,
          20,
          153,
          77,
          15,
          47,
          2,
          38,
          92,
          234,
          9,
          57,
          8,
          28,
          94,
          39,
          31,
          34,
          109,
          66,
          662,
          106,
          81,
          5,
          53,
          51,
          18,
          130,
          76,
          116,
          228,
          97,
          110,
          125,
          5,
          23,
          108,
          32,
          102,
          33,
          59,
          88,
          4,
          34,
          45,
          330,
          83,
          210,
          82,
          72,
          29,
          186,
          60,
          10,
          23,
          5,
          62,
          172,
          232,
          45,
          35,
          31,
          7,
          54,
          71,
          102,
          51,
          369,
          18,
          5,
          21,
          372,
          9,
          2,
          6,
          83,
          8,
          17,
          109,
          132,
          282,
          24,
          174,
          84,
          63,
          2,
          36,
          20,
          40,
          11,
          14,
          1,
          99,
          111,
          9,
          202,
          135,
          33,
          3,
          82,
          236,
          148,
          2,
          182,
          170,
          13,
          18,
          359,
          28,
          146,
          17,
          35,
          53,
          18,
          19,
          25,
          42,
          29,
          39,
          56,
          50,
          97,
          95,
          136,
          15,
          19,
          11,
          84,
          86,
          4,
          3,
          13,
          13,
          168,
          35,
          113,
          6,
          17,
          40,
          12,
          156,
          290,
          183,
          15,
          14,
          17,
          30,
          77,
          4,
          177,
          31,
          55,
          45,
          5,
          3,
          25,
          981,
          251,
          32,
          17,
          84,
          52,
          17,
          207,
          11,
          460,
          56,
          31,
          19,
          3,
          18,
          35,
          5,
          126,
          87,
          57,
          42,
          28,
          9,
          6,
          14,
          28,
          8,
          13,
          33,
          10,
          216,
          27,
          53,
          85,
          12,
          7,
          10,
          62,
          30,
          29,
          34,
          172,
          276,
          6,
          10,
          66,
          30,
          26,
          33,
          5,
          96,
          14,
          9,
          29,
          5,
          48,
          23,
          179,
          20,
          117,
          64,
          152,
          9,
          69,
          94,
          50,
          12,
          34,
          27,
          62,
          14,
          19,
          24,
          118,
          69,
          29,
          261,
          73,
          208,
          8,
          2,
          16,
          9,
          32,
          53,
          20,
          158,
          252,
          6,
          114,
          98,
          89,
          163,
          3,
          10,
          44,
          30,
          277,
          62,
          585,
          62,
          13,
          12,
          2,
          60,
          10,
          21,
          5,
          308,
          144,
          270,
          123,
          27,
          79,
          402,
          22,
          446,
          624,
          92,
          19,
          2,
          199,
          45,
          201,
          27,
          37,
          225,
          43,
          150,
          185,
          46,
          269,
          659,
          82,
          28,
          53,
          125,
          1,
          1,
          13,
          191,
          242,
          357,
          449,
          42,
          69,
          95,
          25,
          9,
          34,
          2,
          170,
          13,
          7,
          22,
          42,
          13,
          89,
          23,
          706,
          1,
          34,
          222,
          54,
          40,
          145,
          254,
          26,
          48,
          158,
          76,
          50,
          16,
          333,
          60,
          17,
          190,
          3,
          154,
          5,
          93,
          319,
          12,
          16,
          284,
          66,
          18,
          164,
          76,
          24,
          60,
          98,
          102,
          67,
          23,
          149,
          15,
          28,
          15,
          449,
          323,
          28,
          86,
          188,
          26,
          38,
          26,
          28,
          22,
          7,
          11,
          23,
          12,
          47,
          24,
          10,
          11,
          165,
          25,
          266,
          116,
          63,
          378,
          11,
          12,
          14,
          8,
          19,
          20,
          9,
          19,
          2,
          10,
          52,
          6,
          26,
          11,
          128,
          137,
          7,
          279,
          112,
          159,
          3,
          178,
          1,
          39,
          38,
          26,
          101,
          37,
          135,
          203,
          99,
          45,
          69,
          37,
          162,
          125,
          78,
          44,
          60,
          708,
          208,
          93,
          151,
          18,
          547,
          101,
          8,
          38,
          57,
          143,
          9,
          128,
          327,
          60,
          672,
          83,
          14,
          6,
          208,
          77,
          54,
          898,
          53,
          44,
          62,
          57,
          241,
          305,
          281,
          33,
          249,
          21,
          19,
          60,
          42,
          86,
          16,
          1,
          54,
          25,
          16,
          16,
          7,
          100,
          14,
          7,
          25,
          28,
          21,
          31,
          42,
          41,
          2,
          39,
          89,
          87,
          22,
          148,
          407,
          120,
          3,
          129,
          7,
          12,
          1,
          93,
          37,
          12,
          4,
          23,
          169,
          49,
          44,
          44,
          52,
          11,
          15,
          74,
          217,
          252,
          16,
          234,
          7,
          3,
          9,
          4,
          153,
          2,
          11,
          22,
          28,
          30,
          28,
          75,
          22,
          15,
          70,
          98,
          102,
          6,
          22,
          22,
          65,
          43,
          318,
          316,
          43,
          92,
          13,
          83,
          62,
          516,
          5,
          99,
          69,
          78,
          62,
          295,
          143,
          64,
          140,
          173,
          77,
          25,
          27,
          2,
          8,
          64,
          81,
          52,
          162,
          187,
          96,
          115,
          63,
          195,
          125,
          14,
          74,
          48,
          211,
          65,
          42,
          1,
          90,
          418,
          117,
          12,
          30,
          127,
          39,
          9,
          10,
          35,
          18,
          7,
          9,
          32,
          40,
          260,
          14,
          134,
          27,
          24,
          52,
          24,
          478,
          20,
          15,
          48,
          35,
          81,
          9,
          14,
          14,
          23,
          20,
          13,
          67,
          101,
          229,
          104,
          5,
          144,
          10,
          12,
          54,
          16,
          15,
          86,
          4,
          63,
          15,
          80,
          128,
          23,
          73,
          2,
          10,
          84,
          61,
          19,
          237,
          32,
          25,
          29,
          96,
          40,
          152,
          57,
          13,
          7,
          211,
          4,
          157,
          103,
          9,
          274,
          25,
          472,
          63,
          28,
          48,
          21,
          47,
          208,
          47,
          69,
          541,
          36,
          25,
          14,
          29,
          105,
          19,
          566,
          15,
          40,
          399,
          31,
          9,
          55,
          69,
          57,
          39,
          87,
          18,
          112,
          78,
          16,
          124,
          12,
          23,
          127,
          80,
          38,
          6,
          114,
          27,
          69,
          15,
          9,
          94,
          292,
          45,
          124,
          142,
          111,
          102,
          1,
          135,
          69,
          51,
          30,
          57,
          66,
          79,
          53,
          66,
          12,
          55,
          14,
          24,
          131,
          470,
          9,
          73,
          107,
          199,
          50,
          6,
          33,
          6,
          1,
          28,
          11,
          542,
          751,
          9,
          407,
          183,
          17,
          32,
          87,
          500,
          1,
          215,
          9,
          71,
          27,
          8,
          16,
          19,
          45,
          59,
          15,
          132,
          29,
          35,
          411,
          467,
          34,
          111,
          33,
          87,
          253,
          57,
          28,
          69,
          24,
          418,
          83,
          109,
          2,
          51,
          15,
          47,
          28,
          78,
          15,
          213,
          3,
          61,
          4,
          26,
          92,
          38,
          213,
          58,
          33,
          195,
          82,
          113,
          2,
          13,
          64,
          41,
          66,
          6,
          14,
          269,
          30,
          206,
          30,
          117,
          26,
          43,
          271,
          2,
          328,
          39,
          14,
          43,
          48,
          54,
          134,
          9,
          17,
          5,
          135,
          1,
          134,
          9,
          36,
          276,
          337,
          100,
          19,
          61,
          8,
          17,
          19,
          54,
          111,
          29,
          111,
          27,
          215,
          9,
          41,
          5,
          88,
          78,
          181,
          14,
          29,
          82,
          21,
          24,
          29,
          76,
          109,
          12,
          27,
          10,
          17,
          40,
          5,
          18,
          28,
          38,
          127,
          52,
          14,
          88,
          22,
          366,
          20,
          963,
          105,
          6,
          40,
          87,
          137,
          11,
          82,
          30,
          45,
          72,
          33,
          6,
          9,
          19,
          47,
          253,
          392,
          14,
          9,
          13,
          3,
          75,
          9,
          25,
          25,
          145,
          5,
          6,
          42,
          43,
          49,
          2,
          88,
          106,
          6,
          34,
          26,
          46,
          63,
          49,
          152,
          165,
          29,
          298,
          12,
          25,
          8,
          411,
          5,
          50,
          44,
          440,
          29,
          35,
          214,
          23,
          252,
          200,
          166,
          213,
          50,
          83,
          270,
          55,
          13,
          9,
          560,
          11,
          63,
          59,
          235,
          576,
          135,
          312,
          100,
          14,
          3,
          78,
          77,
          4,
          26,
          33,
          50,
          315,
          5,
          123,
          26,
          39,
          70,
          297,
          20,
          35,
          7,
          5,
          40,
          8,
          157,
          51,
          7,
          91,
          52,
          8,
          232,
          259,
          44,
          22,
          91,
          82,
          19,
          158,
          45,
          86,
          43,
          18,
          116,
          15,
          68,
          11,
          53,
          110,
          227,
          27,
          705,
          78,
          304,
          16,
          30,
          11,
          118,
          15,
          130,
          286,
          256,
          19,
          45,
          16,
          15,
          35,
          115,
          19,
          8,
          142,
          24,
          74,
          55,
          31,
          103,
          382,
          5,
          35,
          7,
          23,
          29,
          10,
          1,
          245,
          6,
          274,
          50,
          115,
          10,
          40,
          192,
          66,
          165,
          218,
          67,
          18,
          35,
          43,
          690,
          25,
          10,
          97,
          47,
          15,
          136,
          6,
          1,
          35,
          191,
          1,
          92,
          740,
          412,
          94,
          25,
          19,
          1,
          75,
          57,
          21,
          105,
          310,
          38,
          53,
          53,
          156,
          3,
          194,
          82,
          12,
          67,
          13,
          72,
          134,
          4,
          14,
          190,
          10,
          58,
          46,
          82,
          111,
          408,
          103,
          140,
          10,
          43,
          61,
          850,
          141,
          371,
          17,
          33,
          48,
          13,
          220,
          64,
          30,
          23,
          2,
          61,
          61,
          23,
          168,
          121,
          56,
          7838,
          35,
          5,
          51,
          26,
          297,
          24,
          15,
          17,
          15,
          48,
          199,
          25,
          58,
          222,
          11,
          148,
          102,
          369,
          9,
          79,
          40,
          279,
          10,
          43,
          46,
          12,
          26,
          6,
          26,
          8,
          145,
          117,
          64,
          109,
          10,
          67,
          21,
          94,
          34,
          28,
          16,
          192,
          16,
          2,
          114,
          28,
          32,
          6,
          19,
          38,
          34,
          12,
          58,
          39,
          38,
          59,
          80,
          94,
          23,
          695,
          145,
          1,
          31,
          1,
          21,
          22,
          5,
          39,
          65,
          90,
          21,
          28,
          77,
          43,
          12,
          18,
          2,
          2,
          20,
          9,
          1,
          69,
          71,
          20,
          485,
          19,
          1,
          30,
          7,
          26,
          249,
          35,
          104,
          329,
          68,
          48,
          85,
          14,
          31,
          31,
          15,
          179,
          295,
          65,
          21,
          12,
          145,
          30,
          48,
          23,
          1,
          13,
          38,
          29,
          5,
          81,
          2,
          166,
          93,
          58,
          40,
          60,
          22,
          30,
          32,
          14,
          28,
          31,
          31,
          46,
          123,
          3,
          29,
          5,
          191,
          21,
          21,
          9,
          5,
          34,
          112,
          53,
          96,
          19,
          19,
          472,
          7,
          121,
          127,
          47,
          7,
          5,
          20,
          360,
          19,
          3,
          18,
          46,
          27,
          7,
          137,
          10,
          37,
          1,
          470,
          25,
          18,
          73,
          13,
          142,
          227,
          29,
          127,
          2,
          17,
          73,
          1,
          29,
          7,
          1,
          39,
          89,
          36,
          70,
          21,
          213,
          108,
          19,
          41,
          431,
          38,
          18,
          39,
          17,
          444,
          46,
          26,
          1,
          28,
          377,
          73,
          1278,
          30,
          17,
          32,
          362,
          36,
          196,
          55,
          47,
          14,
          70,
          1,
          20,
          38,
          8,
          159,
          15,
          61,
          43,
          221,
          10,
          7,
          16,
          37,
          38,
          21,
          25,
          140,
          34,
          23,
          39,
          80,
          24,
          10,
          37,
          131,
          9,
          38,
          54,
          189,
          31,
          1,
          30,
          74,
          97,
          90,
          119,
          44,
          37,
          1,
          17,
          71,
          68,
          15,
          7,
          45,
          16,
          7,
          141,
          159,
          32,
          68,
          19,
          200,
          32,
          8,
          134,
          42,
          43,
          15,
          13,
          26,
          31,
          21,
          114,
          2,
          64,
          19,
          272,
          10,
          271,
          242,
          5,
          30,
          164,
          86,
          124,
          37,
          1,
          104,
          49,
          61,
          88,
          6,
          104,
          78,
          175,
          4,
          47,
          8,
          21,
          16,
          98,
          6,
          118,
          42,
          134,
          21,
          13,
          61,
          46,
          1,
          7,
          11,
          166,
          3,
          11,
          14,
          8,
          9,
          10,
          7,
          12,
          754,
          70
         ],
         "y": [
          12347,
          12348,
          12349,
          12350,
          12352,
          12353,
          12354,
          12355,
          12356,
          12357,
          12358,
          12359,
          12360,
          12361,
          12362,
          12364,
          12365,
          12367,
          12370,
          12371,
          12372,
          12373,
          12374,
          12375,
          12377,
          12378,
          12379,
          12380,
          12381,
          12383,
          12384,
          12386,
          12388,
          12390,
          12391,
          12393,
          12394,
          12395,
          12397,
          12398,
          12399,
          12401,
          12402,
          12403,
          12405,
          12406,
          12407,
          12408,
          12409,
          12410,
          12412,
          12413,
          12414,
          12415,
          12417,
          12418,
          12420,
          12421,
          12422,
          12423,
          12424,
          12425,
          12426,
          12427,
          12428,
          12429,
          12430,
          12431,
          12432,
          12433,
          12434,
          12435,
          12436,
          12437,
          12438,
          12441,
          12442,
          12444,
          12445,
          12446,
          12447,
          12448,
          12449,
          12450,
          12451,
          12452,
          12453,
          12454,
          12455,
          12456,
          12457,
          12458,
          12461,
          12462,
          12463,
          12464,
          12465,
          12468,
          12471,
          12472,
          12473,
          12474,
          12475,
          12476,
          12477,
          12478,
          12479,
          12480,
          12481,
          12483,
          12484,
          12488,
          12489,
          12490,
          12491,
          12492,
          12493,
          12494,
          12497,
          12498,
          12500,
          12501,
          12502,
          12504,
          12506,
          12507,
          12508,
          12509,
          12510,
          12512,
          12513,
          12514,
          12515,
          12516,
          12517,
          12518,
          12519,
          12520,
          12521,
          12522,
          12523,
          12524,
          12526,
          12527,
          12528,
          12530,
          12531,
          12532,
          12534,
          12535,
          12536,
          12538,
          12539,
          12540,
          12541,
          12544,
          12545,
          12546,
          12547,
          12548,
          12550,
          12551,
          12552,
          12553,
          12556,
          12557,
          12558,
          12559,
          12560,
          12561,
          12562,
          12564,
          12565,
          12566,
          12567,
          12569,
          12571,
          12572,
          12573,
          12574,
          12576,
          12577,
          12578,
          12579,
          12580,
          12581,
          12582,
          12583,
          12584,
          12585,
          12586,
          12587,
          12588,
          12589,
          12590,
          12591,
          12592,
          12593,
          12594,
          12596,
          12597,
          12598,
          12599,
          12600,
          12601,
          12602,
          12603,
          12604,
          12607,
          12609,
          12610,
          12611,
          12612,
          12613,
          12614,
          12615,
          12616,
          12617,
          12618,
          12619,
          12620,
          12621,
          12622,
          12623,
          12624,
          12625,
          12626,
          12627,
          12628,
          12630,
          12631,
          12633,
          12635,
          12637,
          12638,
          12639,
          12640,
          12641,
          12642,
          12643,
          12644,
          12645,
          12646,
          12647,
          12648,
          12649,
          12650,
          12651,
          12652,
          12653,
          12654,
          12656,
          12657,
          12658,
          12659,
          12660,
          12662,
          12664,
          12665,
          12667,
          12668,
          12669,
          12670,
          12672,
          12673,
          12674,
          12676,
          12678,
          12679,
          12680,
          12681,
          12682,
          12683,
          12684,
          12685,
          12686,
          12688,
          12689,
          12690,
          12691,
          12693,
          12694,
          12695,
          12697,
          12700,
          12701,
          12702,
          12703,
          12704,
          12705,
          12707,
          12708,
          12709,
          12710,
          12712,
          12713,
          12714,
          12715,
          12716,
          12717,
          12718,
          12719,
          12720,
          12721,
          12722,
          12723,
          12724,
          12725,
          12726,
          12727,
          12728,
          12729,
          12731,
          12732,
          12733,
          12734,
          12735,
          12736,
          12738,
          12739,
          12740,
          12744,
          12747,
          12748,
          12749,
          12750,
          12752,
          12753,
          12754,
          12755,
          12756,
          12757,
          12758,
          12759,
          12762,
          12763,
          12764,
          12766,
          12769,
          12770,
          12772,
          12775,
          12778,
          12779,
          12781,
          12782,
          12783,
          12784,
          12785,
          12787,
          12789,
          12790,
          12791,
          12792,
          12793,
          12794,
          12795,
          12797,
          12798,
          12802,
          12808,
          12809,
          12811,
          12812,
          12814,
          12815,
          12816,
          12817,
          12818,
          12820,
          12821,
          12822,
          12823,
          12824,
          12826,
          12827,
          12828,
          12829,
          12830,
          12831,
          12832,
          12833,
          12834,
          12836,
          12837,
          12838,
          12839,
          12840,
          12841,
          12842,
          12843,
          12844,
          12845,
          12847,
          12849,
          12851,
          12852,
          12853,
          12854,
          12855,
          12856,
          12857,
          12863,
          12864,
          12865,
          12866,
          12867,
          12868,
          12871,
          12872,
          12873,
          12875,
          12876,
          12877,
          12878,
          12879,
          12881,
          12882,
          12883,
          12884,
          12885,
          12886,
          12888,
          12890,
          12891,
          12893,
          12895,
          12897,
          12901,
          12902,
          12904,
          12906,
          12908,
          12909,
          12910,
          12912,
          12913,
          12915,
          12916,
          12917,
          12919,
          12920,
          12921,
          12922,
          12923,
          12924,
          12925,
          12928,
          12929,
          12930,
          12931,
          12933,
          12935,
          12936,
          12937,
          12938,
          12939,
          12940,
          12942,
          12944,
          12945,
          12947,
          12948,
          12949,
          12950,
          12951,
          12952,
          12953,
          12955,
          12956,
          12957,
          12962,
          12963,
          12965,
          12966,
          12967,
          12968,
          12970,
          12971,
          12974,
          12976,
          12977,
          12980,
          12981,
          12982,
          12984,
          12985,
          12987,
          12988,
          12989,
          12990,
          12991,
          12993,
          12994,
          12995,
          12997,
          12999,
          13000,
          13001,
          13002,
          13003,
          13004,
          13005,
          13006,
          13008,
          13011,
          13012,
          13013,
          13014,
          13015,
          13016,
          13017,
          13018,
          13021,
          13023,
          13026,
          13027,
          13028,
          13029,
          13030,
          13032,
          13033,
          13034,
          13035,
          13037,
          13038,
          13040,
          13043,
          13044,
          13045,
          13046,
          13047,
          13048,
          13049,
          13050,
          13052,
          13055,
          13058,
          13059,
          13060,
          13061,
          13062,
          13064,
          13065,
          13066,
          13067,
          13068,
          13069,
          13070,
          13072,
          13075,
          13077,
          13078,
          13079,
          13080,
          13081,
          13082,
          13083,
          13085,
          13089,
          13090,
          13091,
          13092,
          13093,
          13094,
          13095,
          13097,
          13098,
          13099,
          13101,
          13102,
          13103,
          13104,
          13106,
          13107,
          13108,
          13109,
          13110,
          13113,
          13115,
          13116,
          13117,
          13118,
          13120,
          13121,
          13122,
          13124,
          13126,
          13127,
          13130,
          13131,
          13132,
          13133,
          13134,
          13135,
          13136,
          13137,
          13138,
          13139,
          13140,
          13141,
          13142,
          13144,
          13145,
          13146,
          13147,
          13148,
          13149,
          13151,
          13153,
          13155,
          13157,
          13158,
          13159,
          13160,
          13161,
          13162,
          13165,
          13166,
          13167,
          13168,
          13169,
          13170,
          13171,
          13173,
          13174,
          13176,
          13177,
          13178,
          13182,
          13183,
          13184,
          13185,
          13186,
          13187,
          13188,
          13189,
          13192,
          13193,
          13194,
          13196,
          13198,
          13199,
          13200,
          13203,
          13207,
          13208,
          13209,
          13210,
          13211,
          13212,
          13213,
          13216,
          13217,
          13218,
          13220,
          13221,
          13223,
          13224,
          13225,
          13226,
          13227,
          13228,
          13229,
          13230,
          13232,
          13233,
          13235,
          13236,
          13238,
          13239,
          13240,
          13242,
          13243,
          13244,
          13245,
          13246,
          13247,
          13248,
          13249,
          13253,
          13255,
          13258,
          13259,
          13260,
          13261,
          13262,
          13263,
          13265,
          13266,
          13267,
          13268,
          13269,
          13270,
          13271,
          13272,
          13273,
          13276,
          13277,
          13278,
          13279,
          13280,
          13282,
          13283,
          13284,
          13285,
          13291,
          13292,
          13294,
          13295,
          13296,
          13297,
          13298,
          13299,
          13300,
          13301,
          13302,
          13304,
          13305,
          13307,
          13308,
          13309,
          13310,
          13311,
          13313,
          13314,
          13316,
          13317,
          13318,
          13319,
          13320,
          13321,
          13322,
          13323,
          13324,
          13325,
          13327,
          13328,
          13329,
          13330,
          13332,
          13334,
          13336,
          13338,
          13339,
          13340,
          13341,
          13343,
          13344,
          13345,
          13347,
          13348,
          13349,
          13350,
          13351,
          13352,
          13354,
          13355,
          13356,
          13357,
          13358,
          13359,
          13362,
          13363,
          13364,
          13365,
          13366,
          13368,
          13369,
          13370,
          13372,
          13373,
          13375,
          13376,
          13379,
          13381,
          13382,
          13384,
          13385,
          13388,
          13389,
          13390,
          13391,
          13394,
          13395,
          13396,
          13397,
          13398,
          13402,
          13403,
          13404,
          13405,
          13408,
          13410,
          13411,
          13414,
          13416,
          13417,
          13418,
          13419,
          13420,
          13421,
          13422,
          13425,
          13426,
          13427,
          13428,
          13429,
          13430,
          13431,
          13434,
          13435,
          13436,
          13437,
          13439,
          13441,
          13447,
          13448,
          13449,
          13450,
          13451,
          13452,
          13453,
          13455,
          13456,
          13458,
          13460,
          13461,
          13462,
          13464,
          13466,
          13467,
          13468,
          13470,
          13471,
          13473,
          13474,
          13475,
          13476,
          13477,
          13479,
          13481,
          13482,
          13483,
          13484,
          13485,
          13486,
          13487,
          13488,
          13489,
          13491,
          13492,
          13493,
          13494,
          13495,
          13496,
          13497,
          13499,
          13500,
          13501,
          13502,
          13503,
          13504,
          13505,
          13506,
          13507,
          13508,
          13509,
          13510,
          13512,
          13513,
          13514,
          13515,
          13516,
          13517,
          13518,
          13519,
          13520,
          13521,
          13522,
          13523,
          13524,
          13525,
          13527,
          13529,
          13531,
          13532,
          13533,
          13534,
          13536,
          13538,
          13539,
          13544,
          13546,
          13548,
          13549,
          13551,
          13552,
          13555,
          13557,
          13558,
          13560,
          13561,
          13562,
          13563,
          13564,
          13565,
          13566,
          13568,
          13569,
          13570,
          13571,
          13572,
          13573,
          13575,
          13576,
          13577,
          13579,
          13581,
          13583,
          13584,
          13587,
          13588,
          13589,
          13590,
          13591,
          13592,
          13593,
          13594,
          13596,
          13598,
          13599,
          13600,
          13601,
          13602,
          13603,
          13606,
          13607,
          13610,
          13611,
          13614,
          13615,
          13617,
          13618,
          13621,
          13623,
          13626,
          13627,
          13629,
          13630,
          13631,
          13632,
          13634,
          13635,
          13636,
          13637,
          13638,
          13639,
          13642,
          13643,
          13644,
          13645,
          13647,
          13649,
          13650,
          13651,
          13652,
          13654,
          13655,
          13656,
          13657,
          13658,
          13659,
          13662,
          13663,
          13666,
          13667,
          13668,
          13669,
          13670,
          13672,
          13673,
          13675,
          13678,
          13680,
          13681,
          13682,
          13684,
          13685,
          13686,
          13689,
          13690,
          13692,
          13694,
          13695,
          13697,
          13699,
          13700,
          13703,
          13704,
          13705,
          13706,
          13707,
          13708,
          13709,
          13710,
          13711,
          13712,
          13715,
          13716,
          13717,
          13718,
          13719,
          13720,
          13721,
          13722,
          13723,
          13725,
          13726,
          13727,
          13728,
          13730,
          13731,
          13732,
          13735,
          13736,
          13737,
          13739,
          13740,
          13741,
          13742,
          13743,
          13744,
          13745,
          13747,
          13748,
          13750,
          13751,
          13752,
          13753,
          13754,
          13755,
          13756,
          13758,
          13759,
          13760,
          13761,
          13762,
          13763,
          13764,
          13767,
          13769,
          13771,
          13772,
          13774,
          13777,
          13778,
          13780,
          13781,
          13782,
          13784,
          13786,
          13787,
          13790,
          13791,
          13792,
          13798,
          13799,
          13800,
          13801,
          13802,
          13803,
          13804,
          13805,
          13806,
          13807,
          13808,
          13809,
          13810,
          13811,
          13812,
          13813,
          13814,
          13815,
          13816,
          13817,
          13819,
          13821,
          13822,
          13823,
          13824,
          13826,
          13827,
          13828,
          13831,
          13832,
          13833,
          13835,
          13837,
          13838,
          13841,
          13842,
          13844,
          13845,
          13846,
          13848,
          13849,
          13850,
          13851,
          13853,
          13854,
          13856,
          13858,
          13859,
          13860,
          13862,
          13863,
          13865,
          13866,
          13867,
          13868,
          13869,
          13870,
          13871,
          13873,
          13874,
          13875,
          13876,
          13877,
          13878,
          13880,
          13881,
          13882,
          13883,
          13884,
          13885,
          13886,
          13887,
          13888,
          13889,
          13890,
          13892,
          13893,
          13894,
          13895,
          13897,
          13898,
          13899,
          13900,
          13901,
          13904,
          13908,
          13911,
          13914,
          13917,
          13918,
          13919,
          13922,
          13923,
          13924,
          13925,
          13926,
          13927,
          13928,
          13929,
          13930,
          13931,
          13932,
          13933,
          13934,
          13936,
          13937,
          13938,
          13939,
          13940,
          13941,
          13946,
          13947,
          13948,
          13949,
          13950,
          13951,
          13952,
          13953,
          13954,
          13955,
          13956,
          13959,
          13960,
          13962,
          13963,
          13967,
          13969,
          13971,
          13972,
          13973,
          13974,
          13975,
          13976,
          13978,
          13979,
          13980,
          13982,
          13983,
          13984,
          13985,
          13986,
          13988,
          13989,
          13990,
          13991,
          13992,
          13993,
          13994,
          13995,
          13999,
          14000,
          14001,
          14002,
          14004,
          14005,
          14006,
          14009,
          14012,
          14013,
          14014,
          14015,
          14016,
          14019,
          14020,
          14021,
          14022,
          14023,
          14024,
          14027,
          14029,
          14030,
          14031,
          14032,
          14034,
          14035,
          14036,
          14037,
          14038,
          14039,
          14040,
          14041,
          14044,
          14045,
          14046,
          14047,
          14048,
          14049,
          14050,
          14051,
          14052,
          14053,
          14054,
          14055,
          14056,
          14057,
          14059,
          14060,
          14062,
          14064,
          14066,
          14067,
          14068,
          14071,
          14073,
          14075,
          14076,
          14077,
          14078,
          14079,
          14080,
          14081,
          14082,
          14083,
          14085,
          14087,
          14088,
          14089,
          14090,
          14092,
          14093,
          14096,
          14098,
          14099,
          14100,
          14101,
          14102,
          14104,
          14105,
          14107,
          14108,
          14109,
          14110,
          14111,
          14112,
          14113,
          14114,
          14116,
          14117,
          14121,
          14124,
          14125,
          14126,
          14127,
          14128,
          14129,
          14130,
          14132,
          14133,
          14135,
          14138,
          14139,
          14140,
          14141,
          14142,
          14143,
          14145,
          14146,
          14147,
          14148,
          14149,
          14150,
          14152,
          14154,
          14155,
          14156,
          14157,
          14158,
          14159,
          14161,
          14162,
          14163,
          14164,
          14165,
          14167,
          14171,
          14173,
          14174,
          14175,
          14176,
          14177,
          14178,
          14179,
          14180,
          14184,
          14185,
          14188,
          14189,
          14191,
          14193,
          14194,
          14195,
          14196,
          14198,
          14199,
          14201,
          14204,
          14205,
          14206,
          14208,
          14209,
          14210,
          14211,
          14212,
          14214,
          14215,
          14216,
          14217,
          14218,
          14219,
          14220,
          14221,
          14222,
          14223,
          14224,
          14226,
          14227,
          14229,
          14231,
          14232,
          14233,
          14234,
          14235,
          14236,
          14237,
          14238,
          14239,
          14240,
          14241,
          14242,
          14243,
          14245,
          14246,
          14247,
          14248,
          14250,
          14251,
          14256,
          14257,
          14258,
          14259,
          14261,
          14262,
          14264,
          14267,
          14270,
          14271,
          14272,
          14273,
          14276,
          14277,
          14280,
          14282,
          14284,
          14285,
          14286,
          14287,
          14288,
          14289,
          14290,
          14291,
          14292,
          14293,
          14295,
          14297,
          14298,
          14299,
          14300,
          14301,
          14304,
          14305,
          14306,
          14307,
          14309,
          14311,
          14312,
          14314,
          14315,
          14317,
          14320,
          14321,
          14323,
          14326,
          14327,
          14329,
          14331,
          14332,
          14333,
          14334,
          14335,
          14336,
          14338,
          14339,
          14340,
          14341,
          14342,
          14344,
          14345,
          14346,
          14348,
          14349,
          14350,
          14351,
          14352,
          14353,
          14354,
          14355,
          14356,
          14357,
          14359,
          14360,
          14362,
          14364,
          14367,
          14368,
          14371,
          14373,
          14375,
          14377,
          14379,
          14381,
          14382,
          14383,
          14385,
          14386,
          14387,
          14388,
          14389,
          14390,
          14393,
          14395,
          14396,
          14397,
          14400,
          14401,
          14403,
          14404,
          14406,
          14407,
          14408,
          14409,
          14410,
          14411,
          14412,
          14413,
          14414,
          14415,
          14416,
          14418,
          14419,
          14420,
          14421,
          14422,
          14423,
          14424,
          14426,
          14427,
          14428,
          14431,
          14432,
          14434,
          14436,
          14437,
          14438,
          14439,
          14440,
          14441,
          14442,
          14443,
          14446,
          14447,
          14448,
          14449,
          14450,
          14451,
          14452,
          14453,
          14456,
          14457,
          14459,
          14460,
          14461,
          14462,
          14463,
          14465,
          14466,
          14467,
          14470,
          14472,
          14473,
          14474,
          14475,
          14476,
          14477,
          14479,
          14480,
          14481,
          14482,
          14483,
          14484,
          14485,
          14487,
          14488,
          14489,
          14491,
          14493,
          14494,
          14495,
          14496,
          14497,
          14498,
          14499,
          14500,
          14501,
          14502,
          14503,
          14504,
          14505,
          14506,
          14507,
          14508,
          14511,
          14512,
          14513,
          14514,
          14515,
          14517,
          14518,
          14520,
          14522,
          14523,
          14524,
          14525,
          14527,
          14528,
          14529,
          14530,
          14532,
          14533,
          14534,
          14535,
          14536,
          14537,
          14538,
          14539,
          14540,
          14541,
          14542,
          14543,
          14544,
          14546,
          14547,
          14548,
          14549,
          14550,
          14551,
          14552,
          14553,
          14554,
          14555,
          14557,
          14560,
          14561,
          14562,
          14565,
          14566,
          14567,
          14569,
          14570,
          14572,
          14573,
          14576,
          14577,
          14578,
          14581,
          14582,
          14583,
          14584,
          14585,
          14586,
          14587,
          14589,
          14591,
          14592,
          14593,
          14594,
          14595,
          14597,
          14598,
          14600,
          14601,
          14603,
          14606,
          14607,
          14608,
          14609,
          14616,
          14618,
          14619,
          14620,
          14621,
          14622,
          14623,
          14624,
          14625,
          14626,
          14628,
          14629,
          14631,
          14632,
          14633,
          14636,
          14638,
          14639,
          14640,
          14641,
          14642,
          14643,
          14644,
          14645,
          14646,
          14647,
          14649,
          14651,
          14652,
          14653,
          14655,
          14656,
          14657,
          14658,
          14659,
          14660,
          14661,
          14662,
          14664,
          14665,
          14666,
          14667,
          14669,
          14670,
          14672,
          14673,
          14675,
          14676,
          14680,
          14681,
          14682,
          14684,
          14687,
          14688,
          14689,
          14690,
          14691,
          14692,
          14693,
          14696,
          14697,
          14698,
          14699,
          14700,
          14701,
          14702,
          14703,
          14704,
          14705,
          14708,
          14709,
          14710,
          14711,
          14712,
          14713,
          14714,
          14715,
          14716,
          14719,
          14720,
          14722,
          14723,
          14725,
          14727,
          14729,
          14730,
          14731,
          14732,
          14733,
          14735,
          14737,
          14738,
          14739,
          14740,
          14741,
          14744,
          14745,
          14747,
          14748,
          14752,
          14753,
          14754,
          14755,
          14756,
          14757,
          14758,
          14759,
          14760,
          14761,
          14762,
          14764,
          14765,
          14766,
          14768,
          14769,
          14770,
          14772,
          14775,
          14776,
          14778,
          14779,
          14780,
          14782,
          14784,
          14785,
          14788,
          14789,
          14790,
          14792,
          14793,
          14794,
          14795,
          14796,
          14798,
          14799,
          14800,
          14801,
          14803,
          14804,
          14805,
          14806,
          14808,
          14810,
          14813,
          14815,
          14816,
          14817,
          14818,
          14819,
          14820,
          14821,
          14823,
          14824,
          14825,
          14828,
          14829,
          14830,
          14834,
          14836,
          14837,
          14840,
          14841,
          14842,
          14844,
          14847,
          14849,
          14850,
          14851,
          14852,
          14853,
          14854,
          14855,
          14856,
          14857,
          14859,
          14860,
          14861,
          14862,
          14863,
          14865,
          14866,
          14867,
          14868,
          14869,
          14870,
          14871,
          14873,
          14875,
          14878,
          14880,
          14881,
          14882,
          14883,
          14885,
          14886,
          14887,
          14888,
          14889,
          14890,
          14891,
          14893,
          14894,
          14895,
          14896,
          14897,
          14898,
          14901,
          14902,
          14903,
          14904,
          14905,
          14907,
          14908,
          14910,
          14911,
          14912,
          14913,
          14915,
          14916,
          14918,
          14920,
          14921,
          14923,
          14924,
          14929,
          14930,
          14931,
          14932,
          14934,
          14935,
          14936,
          14937,
          14944,
          14946,
          14947,
          14948,
          14950,
          14951,
          14952,
          14953,
          14954,
          14957,
          14958,
          14959,
          14960,
          14961,
          14962,
          14963,
          14964,
          14965,
          14966,
          14967,
          14968,
          14970,
          14971,
          14972,
          14973,
          14974,
          14975,
          14976,
          14978,
          14981,
          14984,
          14985,
          14987,
          14988,
          14995,
          14997,
          14998,
          15000,
          15002,
          15004,
          15005,
          15006,
          15007,
          15009,
          15010,
          15012,
          15014,
          15016,
          15017,
          15018,
          15019,
          15021,
          15022,
          15023,
          15024,
          15025,
          15026,
          15027,
          15028,
          15030,
          15031,
          15032,
          15033,
          15034,
          15035,
          15036,
          15038,
          15039,
          15041,
          15042,
          15043,
          15044,
          15045,
          15046,
          15047,
          15048,
          15049,
          15050,
          15051,
          15052,
          15053,
          15054,
          15057,
          15058,
          15059,
          15060,
          15061,
          15062,
          15063,
          15065,
          15066,
          15067,
          15068,
          15069,
          15070,
          15071,
          15073,
          15074,
          15075,
          15076,
          15078,
          15079,
          15081,
          15083,
          15087,
          15088,
          15089,
          15090,
          15091,
          15092,
          15093,
          15095,
          15096,
          15097,
          15098,
          15099,
          15100,
          15101,
          15103,
          15104,
          15105,
          15106,
          15107,
          15109,
          15110,
          15111,
          15113,
          15114,
          15115,
          15116,
          15117,
          15118,
          15119,
          15120,
          15121,
          15122,
          15123,
          15124,
          15125,
          15127,
          15128,
          15129,
          15130,
          15132,
          15133,
          15134,
          15135,
          15136,
          15139,
          15140,
          15142,
          15143,
          15144,
          15145,
          15146,
          15147,
          15148,
          15149,
          15150,
          15152,
          15153,
          15154,
          15156,
          15157,
          15158,
          15159,
          15160,
          15163,
          15164,
          15165,
          15167,
          15168,
          15171,
          15172,
          15174,
          15175,
          15178,
          15179,
          15180,
          15181,
          15182,
          15184,
          15185,
          15186,
          15187,
          15189,
          15192,
          15193,
          15194,
          15195,
          15197,
          15198,
          15199,
          15201,
          15203,
          15204,
          15205,
          15206,
          15208,
          15210,
          15211,
          15212,
          15213,
          15214,
          15215,
          15216,
          15218,
          15219,
          15220,
          15221,
          15222,
          15223,
          15224,
          15225,
          15226,
          15227,
          15228,
          15230,
          15232,
          15234,
          15235,
          15236,
          15237,
          15238,
          15239,
          15240,
          15241,
          15243,
          15244,
          15245,
          15246,
          15247,
          15249,
          15251,
          15252,
          15253,
          15254,
          15255,
          15256,
          15257,
          15258,
          15260,
          15261,
          15262,
          15263,
          15264,
          15265,
          15266,
          15267,
          15269,
          15270,
          15271,
          15272,
          15274,
          15275,
          15276,
          15277,
          15279,
          15280,
          15281,
          15286,
          15287,
          15288,
          15289,
          15290,
          15291,
          15292,
          15296,
          15297,
          15298,
          15299,
          15300,
          15301,
          15303,
          15304,
          15306,
          15307,
          15308,
          15311,
          15312,
          15313,
          15314,
          15315,
          15316,
          15318,
          15319,
          15320,
          15321,
          15322,
          15325,
          15326,
          15327,
          15329,
          15330,
          15332,
          15333,
          15334,
          15335,
          15339,
          15341,
          15342,
          15343,
          15344,
          15345,
          15346,
          15347,
          15348,
          15349,
          15350,
          15351,
          15353,
          15355,
          15356,
          15358,
          15360,
          15361,
          15363,
          15364,
          15365,
          15366,
          15367,
          15368,
          15370,
          15372,
          15373,
          15374,
          15376,
          15379,
          15380,
          15381,
          15382,
          15384,
          15385,
          15386,
          15388,
          15389,
          15392,
          15393,
          15394,
          15395,
          15396,
          15397,
          15398,
          15399,
          15400,
          15402,
          15405,
          15406,
          15407,
          15408,
          15410,
          15411,
          15412,
          15414,
          15415,
          15416,
          15417,
          15419,
          15421,
          15422,
          15423,
          15424,
          15426,
          15427,
          15428,
          15429,
          15432,
          15433,
          15434,
          15435,
          15436,
          15437,
          15438,
          15440,
          15442,
          15443,
          15444,
          15445,
          15447,
          15448,
          15449,
          15450,
          15452,
          15453,
          15454,
          15456,
          15457,
          15458,
          15460,
          15462,
          15463,
          15464,
          15465,
          15466,
          15467,
          15468,
          15469,
          15471,
          15472,
          15473,
          15475,
          15478,
          15480,
          15482,
          15483,
          15484,
          15485,
          15488,
          15489,
          15491,
          15492,
          15493,
          15494,
          15497,
          15498,
          15500,
          15502,
          15503,
          15504,
          15505,
          15506,
          15507,
          15508,
          15510,
          15511,
          15512,
          15513,
          15514,
          15516,
          15517,
          15518,
          15520,
          15521,
          15522,
          15523,
          15524,
          15525,
          15526,
          15527,
          15528,
          15529,
          15530,
          15531,
          15532,
          15533,
          15535,
          15537,
          15539,
          15540,
          15541,
          15543,
          15544,
          15545,
          15547,
          15549,
          15550,
          15551,
          15552,
          15553,
          15554,
          15555,
          15556,
          15557,
          15561,
          15562,
          15563,
          15565,
          15567,
          15568,
          15569,
          15570,
          15571,
          15572,
          15573,
          15574,
          15576,
          15577,
          15578,
          15579,
          15581,
          15582,
          15584,
          15585,
          15587,
          15589,
          15592,
          15593,
          15594,
          15596,
          15597,
          15598,
          15599,
          15601,
          15602,
          15603,
          15604,
          15605,
          15606,
          15607,
          15608,
          15609,
          15610,
          15611,
          15612,
          15615,
          15618,
          15619,
          15620,
          15621,
          15622,
          15623,
          15624,
          15625,
          15626,
          15628,
          15630,
          15632,
          15634,
          15636,
          15637,
          15639,
          15640,
          15641,
          15643,
          15644,
          15645,
          15646,
          15648,
          15649,
          15651,
          15652,
          15653,
          15654,
          15655,
          15656,
          15657,
          15658,
          15659,
          15660,
          15661,
          15663,
          15664,
          15665,
          15667,
          15668,
          15669,
          15670,
          15671,
          15673,
          15674,
          15675,
          15676,
          15677,
          15678,
          15679,
          15680,
          15681,
          15683,
          15687,
          15689,
          15690,
          15691,
          15692,
          15694,
          15695,
          15696,
          15699,
          15700,
          15701,
          15703,
          15704,
          15705,
          15706,
          15707,
          15708,
          15709,
          15712,
          15713,
          15714,
          15716,
          15717,
          15719,
          15720,
          15721,
          15722,
          15723,
          15724,
          15725,
          15727,
          15729,
          15730,
          15732,
          15733,
          15734,
          15737,
          15738,
          15739,
          15740,
          15743,
          15744,
          15745,
          15746,
          15747,
          15748,
          15749,
          15750,
          15752,
          15753,
          15754,
          15755,
          15756,
          15757,
          15758,
          15759,
          15762,
          15763,
          15764,
          15766,
          15768,
          15769,
          15773,
          15774,
          15775,
          15776,
          15777,
          15780,
          15781,
          15782,
          15783,
          15785,
          15786,
          15787,
          15789,
          15790,
          15791,
          15793,
          15795,
          15796,
          15797,
          15799,
          15800,
          15801,
          15803,
          15804,
          15805,
          15806,
          15807,
          15808,
          15809,
          15810,
          15811,
          15812,
          15813,
          15814,
          15815,
          15819,
          15820,
          15821,
          15822,
          15825,
          15826,
          15827,
          15829,
          15830,
          15831,
          15832,
          15834,
          15835,
          15836,
          15837,
          15838,
          15839,
          15840,
          15841,
          15843,
          15844,
          15845,
          15847,
          15850,
          15852,
          15853,
          15854,
          15855,
          15856,
          15857,
          15858,
          15860,
          15861,
          15862,
          15863,
          15864,
          15865,
          15866,
          15867,
          15869,
          15870,
          15872,
          15874,
          15877,
          15880,
          15881,
          15882,
          15883,
          15885,
          15886,
          15888,
          15889,
          15891,
          15894,
          15895,
          15897,
          15898,
          15899,
          15900,
          15901,
          15903,
          15904,
          15906,
          15907,
          15909,
          15910,
          15912,
          15916,
          15917,
          15918,
          15919,
          15920,
          15921,
          15922,
          15923,
          15925,
          15930,
          15932,
          15933,
          15935,
          15937,
          15938,
          15939,
          15940,
          15942,
          15944,
          15945,
          15947,
          15948,
          15949,
          15950,
          15951,
          15952,
          15953,
          15955,
          15957,
          15958,
          15963,
          15965,
          15967,
          15969,
          15970,
          15971,
          15973,
          15974,
          15975,
          15976,
          15977,
          15978,
          15980,
          15981,
          15983,
          15984,
          15985,
          15986,
          15987,
          15988,
          15990,
          15992,
          15993,
          15994,
          15996,
          15998,
          16000,
          16003,
          16005,
          16006,
          16007,
          16008,
          16009,
          16010,
          16011,
          16012,
          16013,
          16014,
          16015,
          16016,
          16017,
          16018,
          16019,
          16020,
          16022,
          16023,
          16024,
          16025,
          16026,
          16027,
          16029,
          16030,
          16031,
          16033,
          16034,
          16036,
          16037,
          16038,
          16040,
          16041,
          16042,
          16043,
          16045,
          16048,
          16049,
          16050,
          16052,
          16053,
          16054,
          16055,
          16056,
          16057,
          16059,
          16062,
          16063,
          16065,
          16066,
          16070,
          16071,
          16072,
          16073,
          16076,
          16078,
          16079,
          16080,
          16081,
          16083,
          16084,
          16085,
          16086,
          16091,
          16092,
          16093,
          16094,
          16096,
          16097,
          16098,
          16099,
          16101,
          16102,
          16103,
          16104,
          16105,
          16106,
          16107,
          16108,
          16109,
          16110,
          16112,
          16113,
          16114,
          16115,
          16116,
          16117,
          16119,
          16120,
          16121,
          16122,
          16123,
          16124,
          16125,
          16126,
          16127,
          16128,
          16131,
          16133,
          16134,
          16135,
          16136,
          16139,
          16140,
          16141,
          16142,
          16143,
          16144,
          16145,
          16146,
          16147,
          16148,
          16149,
          16150,
          16152,
          16153,
          16156,
          16157,
          16159,
          16160,
          16161,
          16162,
          16163,
          16164,
          16168,
          16169,
          16170,
          16171,
          16172,
          16173,
          16174,
          16175,
          16177,
          16178,
          16179,
          16180,
          16181,
          16182,
          16183,
          16184,
          16185,
          16186,
          16187,
          16188,
          16189,
          16190,
          16191,
          16193,
          16198,
          16200,
          16201,
          16202,
          16203,
          16204,
          16205,
          16206,
          16207,
          16208,
          16209,
          16210,
          16211,
          16212,
          16213,
          16214,
          16215,
          16216,
          16217,
          16218,
          16221,
          16222,
          16224,
          16225,
          16226,
          16227,
          16229,
          16230,
          16232,
          16233,
          16235,
          16236,
          16239,
          16240,
          16241,
          16242,
          16243,
          16244,
          16245,
          16247,
          16248,
          16249,
          16250,
          16253,
          16255,
          16256,
          16257,
          16258,
          16260,
          16261,
          16265,
          16266,
          16268,
          16270,
          16271,
          16272,
          16274,
          16275,
          16276,
          16278,
          16279,
          16281,
          16282,
          16283,
          16284,
          16287,
          16292,
          16293,
          16295,
          16297,
          16298,
          16302,
          16303,
          16305,
          16306,
          16308,
          16309,
          16311,
          16313,
          16315,
          16316,
          16317,
          16318,
          16319,
          16321,
          16322,
          16323,
          16324,
          16325,
          16326,
          16327,
          16330,
          16332,
          16333,
          16337,
          16338,
          16339,
          16340,
          16341,
          16342,
          16343,
          16344,
          16345,
          16347,
          16348,
          16349,
          16350,
          16351,
          16352,
          16353,
          16354,
          16356,
          16357,
          16358,
          16359,
          16360,
          16361,
          16362,
          16363,
          16364,
          16365,
          16366,
          16367,
          16368,
          16369,
          16370,
          16372,
          16374,
          16376,
          16377,
          16378,
          16379,
          16380,
          16383,
          16384,
          16385,
          16386,
          16387,
          16389,
          16392,
          16393,
          16394,
          16395,
          16398,
          16399,
          16400,
          16401,
          16402,
          16403,
          16404,
          16405,
          16406,
          16407,
          16409,
          16411,
          16412,
          16413,
          16414,
          16415,
          16416,
          16418,
          16419,
          16422,
          16423,
          16424,
          16425,
          16426,
          16427,
          16429,
          16430,
          16431,
          16432,
          16433,
          16434,
          16438,
          16440,
          16441,
          16442,
          16444,
          16445,
          16446,
          16447,
          16448,
          16449,
          16450,
          16451,
          16454,
          16455,
          16456,
          16457,
          16458,
          16460,
          16461,
          16462,
          16463,
          16464,
          16466,
          16468,
          16469,
          16470,
          16471,
          16473,
          16474,
          16475,
          16477,
          16478,
          16479,
          16480,
          16482,
          16483,
          16484,
          16485,
          16488,
          16491,
          16493,
          16494,
          16495,
          16496,
          16497,
          16498,
          16499,
          16500,
          16503,
          16504,
          16505,
          16506,
          16509,
          16510,
          16511,
          16513,
          16515,
          16516,
          16517,
          16518,
          16519,
          16520,
          16523,
          16525,
          16526,
          16527,
          16528,
          16529,
          16531,
          16532,
          16533,
          16535,
          16536,
          16539,
          16542,
          16545,
          16546,
          16549,
          16550,
          16551,
          16552,
          16553,
          16554,
          16555,
          16556,
          16557,
          16558,
          16560,
          16561,
          16563,
          16565,
          16566,
          16567,
          16569,
          16570,
          16571,
          16572,
          16573,
          16574,
          16581,
          16582,
          16583,
          16584,
          16586,
          16587,
          16589,
          16591,
          16592,
          16593,
          16594,
          16595,
          16596,
          16597,
          16598,
          16600,
          16601,
          16602,
          16603,
          16607,
          16609,
          16610,
          16611,
          16612,
          16613,
          16614,
          16616,
          16617,
          16618,
          16619,
          16620,
          16621,
          16623,
          16624,
          16625,
          16626,
          16627,
          16628,
          16629,
          16633,
          16634,
          16637,
          16638,
          16639,
          16641,
          16642,
          16643,
          16644,
          16647,
          16648,
          16650,
          16652,
          16653,
          16654,
          16655,
          16656,
          16657,
          16658,
          16659,
          16660,
          16665,
          16666,
          16667,
          16668,
          16669,
          16670,
          16671,
          16672,
          16674,
          16676,
          16678,
          16679,
          16680,
          16681,
          16682,
          16684,
          16685,
          16686,
          16688,
          16689,
          16690,
          16692,
          16693,
          16696,
          16697,
          16698,
          16700,
          16701,
          16705,
          16706,
          16708,
          16709,
          16710,
          16711,
          16712,
          16713,
          16714,
          16715,
          16716,
          16717,
          16718,
          16719,
          16720,
          16721,
          16722,
          16723,
          16725,
          16726,
          16727,
          16728,
          16729,
          16730,
          16732,
          16734,
          16735,
          16737,
          16738,
          16739,
          16743,
          16744,
          16745,
          16746,
          16747,
          16748,
          16750,
          16751,
          16752,
          16753,
          16754,
          16755,
          16756,
          16757,
          16758,
          16759,
          16761,
          16762,
          16763,
          16764,
          16765,
          16766,
          16767,
          16768,
          16769,
          16770,
          16771,
          16773,
          16774,
          16775,
          16776,
          16777,
          16778,
          16779,
          16780,
          16781,
          16782,
          16784,
          16788,
          16789,
          16790,
          16791,
          16792,
          16793,
          16794,
          16795,
          16796,
          16800,
          16801,
          16803,
          16804,
          16805,
          16806,
          16807,
          16808,
          16809,
          16810,
          16811,
          16812,
          16813,
          16814,
          16816,
          16817,
          16818,
          16820,
          16823,
          16824,
          16825,
          16826,
          16828,
          16829,
          16830,
          16832,
          16833,
          16834,
          16835,
          16836,
          16837,
          16838,
          16839,
          16841,
          16842,
          16843,
          16846,
          16847,
          16848,
          16849,
          16850,
          16851,
          16852,
          16855,
          16856,
          16858,
          16859,
          16861,
          16863,
          16866,
          16869,
          16871,
          16872,
          16873,
          16875,
          16877,
          16878,
          16880,
          16881,
          16882,
          16883,
          16884,
          16885,
          16887,
          16889,
          16891,
          16892,
          16893,
          16895,
          16897,
          16898,
          16899,
          16900,
          16902,
          16903,
          16904,
          16905,
          16906,
          16907,
          16909,
          16910,
          16912,
          16913,
          16914,
          16915,
          16916,
          16917,
          16918,
          16919,
          16921,
          16923,
          16924,
          16926,
          16927,
          16928,
          16929,
          16930,
          16931,
          16932,
          16933,
          16934,
          16936,
          16938,
          16940,
          16942,
          16943,
          16945,
          16947,
          16948,
          16949,
          16950,
          16951,
          16952,
          16953,
          16954,
          16955,
          16956,
          16957,
          16959,
          16960,
          16961,
          16963,
          16965,
          16966,
          16967,
          16968,
          16969,
          16971,
          16976,
          16978,
          16979,
          16980,
          16982,
          16983,
          16984,
          16985,
          16986,
          16987,
          16988,
          16989,
          16990,
          16992,
          16996,
          16997,
          16998,
          16999,
          17001,
          17002,
          17004,
          17006,
          17007,
          17010,
          17011,
          17014,
          17015,
          17017,
          17018,
          17019,
          17022,
          17024,
          17025,
          17026,
          17027,
          17029,
          17030,
          17031,
          17033,
          17034,
          17035,
          17037,
          17038,
          17040,
          17041,
          17042,
          17043,
          17044,
          17045,
          17046,
          17047,
          17048,
          17049,
          17050,
          17051,
          17052,
          17053,
          17054,
          17058,
          17059,
          17060,
          17061,
          17062,
          17063,
          17064,
          17068,
          17069,
          17070,
          17071,
          17073,
          17075,
          17076,
          17078,
          17079,
          17080,
          17081,
          17082,
          17083,
          17084,
          17085,
          17086,
          17088,
          17090,
          17091,
          17092,
          17094,
          17095,
          17096,
          17097,
          17100,
          17101,
          17102,
          17105,
          17107,
          17109,
          17110,
          17111,
          17114,
          17115,
          17117,
          17118,
          17119,
          17120,
          17122,
          17123,
          17124,
          17125,
          17126,
          17128,
          17131,
          17133,
          17134,
          17135,
          17138,
          17139,
          17140,
          17142,
          17144,
          17146,
          17147,
          17148,
          17152,
          17153,
          17154,
          17155,
          17157,
          17158,
          17159,
          17160,
          17162,
          17163,
          17164,
          17165,
          17166,
          17169,
          17171,
          17172,
          17173,
          17174,
          17175,
          17176,
          17179,
          17180,
          17181,
          17183,
          17186,
          17187,
          17188,
          17189,
          17190,
          17191,
          17193,
          17194,
          17197,
          17198,
          17201,
          17203,
          17204,
          17205,
          17206,
          17211,
          17212,
          17213,
          17214,
          17217,
          17218,
          17219,
          17220,
          17221,
          17222,
          17223,
          17226,
          17227,
          17228,
          17229,
          17230,
          17231,
          17232,
          17233,
          17234,
          17235,
          17236,
          17237,
          17238,
          17239,
          17242,
          17243,
          17244,
          17245,
          17247,
          17248,
          17250,
          17251,
          17252,
          17253,
          17254,
          17255,
          17256,
          17259,
          17262,
          17263,
          17265,
          17266,
          17267,
          17268,
          17272,
          17274,
          17277,
          17278,
          17279,
          17282,
          17284,
          17286,
          17287,
          17288,
          17289,
          17290,
          17291,
          17293,
          17295,
          17297,
          17298,
          17299,
          17301,
          17302,
          17303,
          17306,
          17309,
          17311,
          17312,
          17313,
          17314,
          17315,
          17317,
          17320,
          17321,
          17323,
          17324,
          17325,
          17329,
          17330,
          17331,
          17333,
          17334,
          17337,
          17338,
          17339,
          17340,
          17341,
          17343,
          17344,
          17345,
          17346,
          17347,
          17348,
          17349,
          17350,
          17351,
          17353,
          17354,
          17356,
          17357,
          17358,
          17359,
          17360,
          17361,
          17362,
          17364,
          17365,
          17367,
          17368,
          17370,
          17371,
          17372,
          17373,
          17374,
          17375,
          17376,
          17377,
          17379,
          17381,
          17382,
          17383,
          17384,
          17385,
          17386,
          17387,
          17388,
          17389,
          17391,
          17392,
          17394,
          17396,
          17397,
          17398,
          17400,
          17402,
          17403,
          17404,
          17405,
          17406,
          17408,
          17409,
          17410,
          17411,
          17412,
          17414,
          17415,
          17416,
          17418,
          17419,
          17420,
          17422,
          17423,
          17425,
          17426,
          17427,
          17428,
          17429,
          17430,
          17431,
          17432,
          17433,
          17434,
          17436,
          17438,
          17440,
          17442,
          17443,
          17444,
          17446,
          17447,
          17449,
          17450,
          17451,
          17453,
          17454,
          17455,
          17456,
          17457,
          17458,
          17459,
          17460,
          17461,
          17462,
          17463,
          17464,
          17466,
          17468,
          17469,
          17470,
          17472,
          17475,
          17480,
          17481,
          17483,
          17486,
          17489,
          17490,
          17491,
          17492,
          17495,
          17496,
          17498,
          17499,
          17500,
          17501,
          17502,
          17503,
          17504,
          17505,
          17506,
          17507,
          17508,
          17509,
          17510,
          17511,
          17512,
          17513,
          17514,
          17515,
          17516,
          17517,
          17519,
          17520,
          17521,
          17522,
          17523,
          17524,
          17525,
          17526,
          17527,
          17528,
          17530,
          17531,
          17534,
          17535,
          17536,
          17537,
          17538,
          17540,
          17542,
          17545,
          17548,
          17549,
          17550,
          17551,
          17552,
          17553,
          17554,
          17555,
          17556,
          17557,
          17560,
          17561,
          17562,
          17564,
          17566,
          17567,
          17569,
          17571,
          17572,
          17573,
          17574,
          17576,
          17578,
          17579,
          17580,
          17581,
          17582,
          17584,
          17585,
          17588,
          17589,
          17590,
          17591,
          17593,
          17594,
          17595,
          17596,
          17597,
          17600,
          17601,
          17602,
          17603,
          17604,
          17608,
          17609,
          17611,
          17612,
          17613,
          17614,
          17615,
          17616,
          17618,
          17619,
          17620,
          17621,
          17623,
          17624,
          17625,
          17628,
          17629,
          17630,
          17631,
          17633,
          17634,
          17636,
          17637,
          17639,
          17640,
          17642,
          17643,
          17644,
          17646,
          17647,
          17648,
          17649,
          17650,
          17651,
          17652,
          17653,
          17654,
          17655,
          17656,
          17658,
          17659,
          17660,
          17663,
          17664,
          17666,
          17667,
          17668,
          17669,
          17670,
          17671,
          17672,
          17673,
          17674,
          17675,
          17676,
          17677,
          17678,
          17679,
          17680,
          17682,
          17684,
          17685,
          17686,
          17690,
          17691,
          17692,
          17693,
          17694,
          17695,
          17696,
          17697,
          17698,
          17700,
          17701,
          17702,
          17703,
          17704,
          17705,
          17706,
          17707,
          17708,
          17709,
          17711,
          17712,
          17714,
          17715,
          17716,
          17718,
          17719,
          17720,
          17722,
          17723,
          17724,
          17725,
          17727,
          17728,
          17730,
          17731,
          17732,
          17733,
          17734,
          17735,
          17736,
          17737,
          17738,
          17739,
          17742,
          17744,
          17746,
          17747,
          17749,
          17750,
          17752,
          17754,
          17757,
          17758,
          17759,
          17760,
          17761,
          17763,
          17764,
          17765,
          17767,
          17768,
          17769,
          17770,
          17771,
          17772,
          17774,
          17775,
          17777,
          17779,
          17781,
          17783,
          17785,
          17786,
          17787,
          17788,
          17789,
          17790,
          17791,
          17793,
          17795,
          17796,
          17797,
          17799,
          17800,
          17802,
          17805,
          17806,
          17809,
          17811,
          17812,
          17813,
          17816,
          17817,
          17819,
          17824,
          17827,
          17828,
          17829,
          17830,
          17831,
          17832,
          17835,
          17836,
          17837,
          17838,
          17839,
          17841,
          17843,
          17844,
          17848,
          17849,
          17850,
          17852,
          17854,
          17855,
          17856,
          17857,
          17858,
          17859,
          17860,
          17861,
          17862,
          17863,
          17864,
          17865,
          17866,
          17867,
          17869,
          17870,
          17871,
          17873,
          17874,
          17877,
          17878,
          17879,
          17880,
          17881,
          17883,
          17884,
          17885,
          17886,
          17887,
          17888,
          17889,
          17890,
          17891,
          17892,
          17893,
          17894,
          17895,
          17896,
          17897,
          17898,
          17899,
          17900,
          17901,
          17904,
          17905,
          17906,
          17908,
          17911,
          17912,
          17913,
          17914,
          17917,
          17919,
          17920,
          17921,
          17923,
          17924,
          17925,
          17926,
          17928,
          17929,
          17930,
          17931,
          17932,
          17934,
          17935,
          17936,
          17937,
          17939,
          17940,
          17941,
          17942,
          17946,
          17947,
          17948,
          17949,
          17950,
          17951,
          17954,
          17955,
          17956,
          17957,
          17958,
          17960,
          17961,
          17962,
          17964,
          17965,
          17966,
          17967,
          17968,
          17969,
          17970,
          17972,
          17973,
          17974,
          17975,
          17976,
          17977,
          17978,
          17979,
          17980,
          17984,
          17985,
          17986,
          17987,
          17988,
          17990,
          17991,
          17994,
          17995,
          17997,
          17999,
          18001,
          18004,
          18005,
          18006,
          18008,
          18009,
          18010,
          18011,
          18013,
          18014,
          18015,
          18016,
          18017,
          18018,
          18019,
          18022,
          18024,
          18027,
          18030,
          18032,
          18033,
          18034,
          18035,
          18036,
          18037,
          18040,
          18041,
          18042,
          18043,
          18044,
          18045,
          18048,
          18050,
          18053,
          18055,
          18056,
          18058,
          18059,
          18061,
          18062,
          18064,
          18065,
          18066,
          18067,
          18068,
          18069,
          18071,
          18072,
          18073,
          18074,
          18075,
          18077,
          18078,
          18079,
          18080,
          18081,
          18082,
          18084,
          18085,
          18086,
          18087,
          18088,
          18092,
          18093,
          18094,
          18095,
          18096,
          18097,
          18099,
          18101,
          18102,
          18104,
          18105,
          18106,
          18108,
          18109,
          18110,
          18112,
          18113,
          18114,
          18116,
          18117,
          18118,
          18119,
          18120,
          18121,
          18122,
          18123,
          18125,
          18126,
          18127,
          18129,
          18130,
          18133,
          18135,
          18136,
          18138,
          18139,
          18142,
          18143,
          18144,
          18145,
          18146,
          18147,
          18149,
          18150,
          18151,
          18154,
          18155,
          18156,
          18158,
          18159,
          18160,
          18161,
          18164,
          18165,
          18167,
          18168,
          18169,
          18170,
          18171,
          18172,
          18173,
          18174,
          18176,
          18177,
          18178,
          18179,
          18180,
          18181,
          18183,
          18184,
          18185,
          18188,
          18189,
          18190,
          18191,
          18192,
          18193,
          18194,
          18196,
          18198,
          18200,
          18202,
          18203,
          18204,
          18205,
          18209,
          18210,
          18211,
          18212,
          18213,
          18215,
          18216,
          18217,
          18218,
          18219,
          18220,
          18221,
          18222,
          18223,
          18224,
          18225,
          18226,
          18227,
          18228,
          18229,
          18230,
          18231,
          18232,
          18233,
          18235,
          18236,
          18237,
          18239,
          18240,
          18241,
          18242,
          18245,
          18246,
          18248,
          18249,
          18250,
          18251,
          18252,
          18255,
          18257,
          18259,
          18260,
          18261,
          18262,
          18263,
          18265,
          18268,
          18269,
          18270,
          18272,
          18273,
          18274,
          18276,
          18277,
          18278,
          18280,
          18281,
          18282,
          18283,
          18287
         ]
        }
       ],
       "layout": {
        "legend": {
         "bgcolor": "#F5F6F9",
         "font": {
          "color": "#4D5663"
         }
        },
        "paper_bgcolor": "#F5F6F9",
        "plot_bgcolor": "#F5F6F9",
        "template": {
         "data": {
          "bar": [
           {
            "error_x": {
             "color": "#2a3f5f"
            },
            "error_y": {
             "color": "#2a3f5f"
            },
            "marker": {
             "line": {
              "color": "#E5ECF6",
              "width": 0.5
             },
             "pattern": {
              "fillmode": "overlay",
              "size": 10,
              "solidity": 0.2
             }
            },
            "type": "bar"
           }
          ],
          "barpolar": [
           {
            "marker": {
             "line": {
              "color": "#E5ECF6",
              "width": 0.5
             },
             "pattern": {
              "fillmode": "overlay",
              "size": 10,
              "solidity": 0.2
             }
            },
            "type": "barpolar"
           }
          ],
          "carpet": [
           {
            "aaxis": {
             "endlinecolor": "#2a3f5f",
             "gridcolor": "white",
             "linecolor": "white",
             "minorgridcolor": "white",
             "startlinecolor": "#2a3f5f"
            },
            "baxis": {
             "endlinecolor": "#2a3f5f",
             "gridcolor": "white",
             "linecolor": "white",
             "minorgridcolor": "white",
             "startlinecolor": "#2a3f5f"
            },
            "type": "carpet"
           }
          ],
          "choropleth": [
           {
            "colorbar": {
             "outlinewidth": 0,
             "ticks": ""
            },
            "type": "choropleth"
           }
          ],
          "contour": [
           {
            "colorbar": {
             "outlinewidth": 0,
             "ticks": ""
            },
            "colorscale": [
             [
              0,
              "#0d0887"
             ],
             [
              0.1111111111111111,
              "#46039f"
             ],
             [
              0.2222222222222222,
              "#7201a8"
             ],
             [
              0.3333333333333333,
              "#9c179e"
             ],
             [
              0.4444444444444444,
              "#bd3786"
             ],
             [
              0.5555555555555556,
              "#d8576b"
             ],
             [
              0.6666666666666666,
              "#ed7953"
             ],
             [
              0.7777777777777778,
              "#fb9f3a"
             ],
             [
              0.8888888888888888,
              "#fdca26"
             ],
             [
              1,
              "#f0f921"
             ]
            ],
            "type": "contour"
           }
          ],
          "contourcarpet": [
           {
            "colorbar": {
             "outlinewidth": 0,
             "ticks": ""
            },
            "type": "contourcarpet"
           }
          ],
          "heatmap": [
           {
            "colorbar": {
             "outlinewidth": 0,
             "ticks": ""
            },
            "colorscale": [
             [
              0,
              "#0d0887"
             ],
             [
              0.1111111111111111,
              "#46039f"
             ],
             [
              0.2222222222222222,
              "#7201a8"
             ],
             [
              0.3333333333333333,
              "#9c179e"
             ],
             [
              0.4444444444444444,
              "#bd3786"
             ],
             [
              0.5555555555555556,
              "#d8576b"
             ],
             [
              0.6666666666666666,
              "#ed7953"
             ],
             [
              0.7777777777777778,
              "#fb9f3a"
             ],
             [
              0.8888888888888888,
              "#fdca26"
             ],
             [
              1,
              "#f0f921"
             ]
            ],
            "type": "heatmap"
           }
          ],
          "heatmapgl": [
           {
            "colorbar": {
             "outlinewidth": 0,
             "ticks": ""
            },
            "colorscale": [
             [
              0,
              "#0d0887"
             ],
             [
              0.1111111111111111,
              "#46039f"
             ],
             [
              0.2222222222222222,
              "#7201a8"
             ],
             [
              0.3333333333333333,
              "#9c179e"
             ],
             [
              0.4444444444444444,
              "#bd3786"
             ],
             [
              0.5555555555555556,
              "#d8576b"
             ],
             [
              0.6666666666666666,
              "#ed7953"
             ],
             [
              0.7777777777777778,
              "#fb9f3a"
             ],
             [
              0.8888888888888888,
              "#fdca26"
             ],
             [
              1,
              "#f0f921"
             ]
            ],
            "type": "heatmapgl"
           }
          ],
          "histogram": [
           {
            "marker": {
             "pattern": {
              "fillmode": "overlay",
              "size": 10,
              "solidity": 0.2
             }
            },
            "type": "histogram"
           }
          ],
          "histogram2d": [
           {
            "colorbar": {
             "outlinewidth": 0,
             "ticks": ""
            },
            "colorscale": [
             [
              0,
              "#0d0887"
             ],
             [
              0.1111111111111111,
              "#46039f"
             ],
             [
              0.2222222222222222,
              "#7201a8"
             ],
             [
              0.3333333333333333,
              "#9c179e"
             ],
             [
              0.4444444444444444,
              "#bd3786"
             ],
             [
              0.5555555555555556,
              "#d8576b"
             ],
             [
              0.6666666666666666,
              "#ed7953"
             ],
             [
              0.7777777777777778,
              "#fb9f3a"
             ],
             [
              0.8888888888888888,
              "#fdca26"
             ],
             [
              1,
              "#f0f921"
             ]
            ],
            "type": "histogram2d"
           }
          ],
          "histogram2dcontour": [
           {
            "colorbar": {
             "outlinewidth": 0,
             "ticks": ""
            },
            "colorscale": [
             [
              0,
              "#0d0887"
             ],
             [
              0.1111111111111111,
              "#46039f"
             ],
             [
              0.2222222222222222,
              "#7201a8"
             ],
             [
              0.3333333333333333,
              "#9c179e"
             ],
             [
              0.4444444444444444,
              "#bd3786"
             ],
             [
              0.5555555555555556,
              "#d8576b"
             ],
             [
              0.6666666666666666,
              "#ed7953"
             ],
             [
              0.7777777777777778,
              "#fb9f3a"
             ],
             [
              0.8888888888888888,
              "#fdca26"
             ],
             [
              1,
              "#f0f921"
             ]
            ],
            "type": "histogram2dcontour"
           }
          ],
          "mesh3d": [
           {
            "colorbar": {
             "outlinewidth": 0,
             "ticks": ""
            },
            "type": "mesh3d"
           }
          ],
          "parcoords": [
           {
            "line": {
             "colorbar": {
              "outlinewidth": 0,
              "ticks": ""
             }
            },
            "type": "parcoords"
           }
          ],
          "pie": [
           {
            "automargin": true,
            "type": "pie"
           }
          ],
          "scatter": [
           {
            "fillpattern": {
             "fillmode": "overlay",
             "size": 10,
             "solidity": 0.2
            },
            "type": "scatter"
           }
          ],
          "scatter3d": [
           {
            "line": {
             "colorbar": {
              "outlinewidth": 0,
              "ticks": ""
             }
            },
            "marker": {
             "colorbar": {
              "outlinewidth": 0,
              "ticks": ""
             }
            },
            "type": "scatter3d"
           }
          ],
          "scattercarpet": [
           {
            "marker": {
             "colorbar": {
              "outlinewidth": 0,
              "ticks": ""
             }
            },
            "type": "scattercarpet"
           }
          ],
          "scattergeo": [
           {
            "marker": {
             "colorbar": {
              "outlinewidth": 0,
              "ticks": ""
             }
            },
            "type": "scattergeo"
           }
          ],
          "scattergl": [
           {
            "marker": {
             "colorbar": {
              "outlinewidth": 0,
              "ticks": ""
             }
            },
            "type": "scattergl"
           }
          ],
          "scattermapbox": [
           {
            "marker": {
             "colorbar": {
              "outlinewidth": 0,
              "ticks": ""
             }
            },
            "type": "scattermapbox"
           }
          ],
          "scatterpolar": [
           {
            "marker": {
             "colorbar": {
              "outlinewidth": 0,
              "ticks": ""
             }
            },
            "type": "scatterpolar"
           }
          ],
          "scatterpolargl": [
           {
            "marker": {
             "colorbar": {
              "outlinewidth": 0,
              "ticks": ""
             }
            },
            "type": "scatterpolargl"
           }
          ],
          "scatterternary": [
           {
            "marker": {
             "colorbar": {
              "outlinewidth": 0,
              "ticks": ""
             }
            },
            "type": "scatterternary"
           }
          ],
          "surface": [
           {
            "colorbar": {
             "outlinewidth": 0,
             "ticks": ""
            },
            "colorscale": [
             [
              0,
              "#0d0887"
             ],
             [
              0.1111111111111111,
              "#46039f"
             ],
             [
              0.2222222222222222,
              "#7201a8"
             ],
             [
              0.3333333333333333,
              "#9c179e"
             ],
             [
              0.4444444444444444,
              "#bd3786"
             ],
             [
              0.5555555555555556,
              "#d8576b"
             ],
             [
              0.6666666666666666,
              "#ed7953"
             ],
             [
              0.7777777777777778,
              "#fb9f3a"
             ],
             [
              0.8888888888888888,
              "#fdca26"
             ],
             [
              1,
              "#f0f921"
             ]
            ],
            "type": "surface"
           }
          ],
          "table": [
           {
            "cells": {
             "fill": {
              "color": "#EBF0F8"
             },
             "line": {
              "color": "white"
             }
            },
            "header": {
             "fill": {
              "color": "#C8D4E3"
             },
             "line": {
              "color": "white"
             }
            },
            "type": "table"
           }
          ]
         },
         "layout": {
          "annotationdefaults": {
           "arrowcolor": "#2a3f5f",
           "arrowhead": 0,
           "arrowwidth": 1
          },
          "autotypenumbers": "strict",
          "coloraxis": {
           "colorbar": {
            "outlinewidth": 0,
            "ticks": ""
           }
          },
          "colorscale": {
           "diverging": [
            [
             0,
             "#8e0152"
            ],
            [
             0.1,
             "#c51b7d"
            ],
            [
             0.2,
             "#de77ae"
            ],
            [
             0.3,
             "#f1b6da"
            ],
            [
             0.4,
             "#fde0ef"
            ],
            [
             0.5,
             "#f7f7f7"
            ],
            [
             0.6,
             "#e6f5d0"
            ],
            [
             0.7,
             "#b8e186"
            ],
            [
             0.8,
             "#7fbc41"
            ],
            [
             0.9,
             "#4d9221"
            ],
            [
             1,
             "#276419"
            ]
           ],
           "sequential": [
            [
             0,
             "#0d0887"
            ],
            [
             0.1111111111111111,
             "#46039f"
            ],
            [
             0.2222222222222222,
             "#7201a8"
            ],
            [
             0.3333333333333333,
             "#9c179e"
            ],
            [
             0.4444444444444444,
             "#bd3786"
            ],
            [
             0.5555555555555556,
             "#d8576b"
            ],
            [
             0.6666666666666666,
             "#ed7953"
            ],
            [
             0.7777777777777778,
             "#fb9f3a"
            ],
            [
             0.8888888888888888,
             "#fdca26"
            ],
            [
             1,
             "#f0f921"
            ]
           ],
           "sequentialminus": [
            [
             0,
             "#0d0887"
            ],
            [
             0.1111111111111111,
             "#46039f"
            ],
            [
             0.2222222222222222,
             "#7201a8"
            ],
            [
             0.3333333333333333,
             "#9c179e"
            ],
            [
             0.4444444444444444,
             "#bd3786"
            ],
            [
             0.5555555555555556,
             "#d8576b"
            ],
            [
             0.6666666666666666,
             "#ed7953"
            ],
            [
             0.7777777777777778,
             "#fb9f3a"
            ],
            [
             0.8888888888888888,
             "#fdca26"
            ],
            [
             1,
             "#f0f921"
            ]
           ]
          },
          "colorway": [
           "#636efa",
           "#EF553B",
           "#00cc96",
           "#ab63fa",
           "#FFA15A",
           "#19d3f3",
           "#FF6692",
           "#B6E880",
           "#FF97FF",
           "#FECB52"
          ],
          "font": {
           "color": "#2a3f5f"
          },
          "geo": {
           "bgcolor": "white",
           "lakecolor": "white",
           "landcolor": "#E5ECF6",
           "showlakes": true,
           "showland": true,
           "subunitcolor": "white"
          },
          "hoverlabel": {
           "align": "left"
          },
          "hovermode": "closest",
          "mapbox": {
           "style": "light"
          },
          "paper_bgcolor": "white",
          "plot_bgcolor": "#E5ECF6",
          "polar": {
           "angularaxis": {
            "gridcolor": "white",
            "linecolor": "white",
            "ticks": ""
           },
           "bgcolor": "#E5ECF6",
           "radialaxis": {
            "gridcolor": "white",
            "linecolor": "white",
            "ticks": ""
           }
          },
          "scene": {
           "xaxis": {
            "backgroundcolor": "#E5ECF6",
            "gridcolor": "white",
            "gridwidth": 2,
            "linecolor": "white",
            "showbackground": true,
            "ticks": "",
            "zerolinecolor": "white"
           },
           "yaxis": {
            "backgroundcolor": "#E5ECF6",
            "gridcolor": "white",
            "gridwidth": 2,
            "linecolor": "white",
            "showbackground": true,
            "ticks": "",
            "zerolinecolor": "white"
           },
           "zaxis": {
            "backgroundcolor": "#E5ECF6",
            "gridcolor": "white",
            "gridwidth": 2,
            "linecolor": "white",
            "showbackground": true,
            "ticks": "",
            "zerolinecolor": "white"
           }
          },
          "shapedefaults": {
           "line": {
            "color": "#2a3f5f"
           }
          },
          "ternary": {
           "aaxis": {
            "gridcolor": "white",
            "linecolor": "white",
            "ticks": ""
           },
           "baxis": {
            "gridcolor": "white",
            "linecolor": "white",
            "ticks": ""
           },
           "bgcolor": "#E5ECF6",
           "caxis": {
            "gridcolor": "white",
            "linecolor": "white",
            "ticks": ""
           }
          },
          "title": {
           "x": 0.05
          },
          "xaxis": {
           "automargin": true,
           "gridcolor": "white",
           "linecolor": "white",
           "ticks": "",
           "title": {
            "standoff": 15
           },
           "zerolinecolor": "white",
           "zerolinewidth": 2
          },
          "yaxis": {
           "automargin": true,
           "gridcolor": "white",
           "linecolor": "white",
           "ticks": "",
           "title": {
            "standoff": 15
           },
           "zerolinecolor": "white",
           "zerolinewidth": 2
          }
         }
        },
        "title": {
         "font": {
          "color": "#4D5663"
         }
        },
        "xaxis": {
         "gridcolor": "#E1E5ED",
         "showgrid": true,
         "tickfont": {
          "color": "#4D5663"
         },
         "title": {
          "font": {
           "color": "#4D5663"
          },
          "text": "Number of Invoice"
         },
         "zerolinecolor": "#E1E5ED"
        },
        "yaxis": {
         "gridcolor": "#E1E5ED",
         "showgrid": true,
         "tickfont": {
          "color": "#4D5663"
         },
         "title": {
          "font": {
           "color": "#4D5663"
          },
          "text": "Numer of costumer"
         },
         "zerolinecolor": "#E1E5ED"
        }
       }
      },
      "text/html": [
       "<div>                            <div id=\"650bc5f7-4cf9-4028-939c-a06b05bd9eec\" class=\"plotly-graph-div\" style=\"height:525px; width:100%;\"></div>            <script type=\"text/javascript\">                require([\"plotly\"], function(Plotly) {                    window.PLOTLYENV=window.PLOTLYENV || {};\n",
       "                    window.PLOTLYENV.BASE_URL='https://plot.ly';                                    if (document.getElementById(\"650bc5f7-4cf9-4028-939c-a06b05bd9eec\")) {                    Plotly.newPlot(                        \"650bc5f7-4cf9-4028-939c-a06b05bd9eec\",                        [{\"line\":{\"color\":\"rgba(55, 128, 191, 1.0)\",\"dash\":\"solid\",\"shape\":\"linear\",\"width\":1.3},\"mode\":\"lines\",\"name\":\"CustomerID\",\"text\":\"\",\"x\":[182,27,72,16,77,4,58,13,58,131,17,248,126,9,256,81,21,10,166,62,49,13,32,15,76,219,38,100,82,94,25,10,100,31,100,64,25,144,124,84,55,4,10,4,53,105,72,101,109,25,58,36,15,713,183,34,29,41,38,117,30,36,29,28,287,94,10,233,107,420,50,36,15,184,96,10,11,172,3,57,25,21,187,8,353,20,43,15,85,122,59,36,34,60,79,22,45,36,439,332,161,408,35,224,300,35,30,150,209,68,342,54,14,235,25,18,20,71,13,21,52,148,142,8,23,19,69,6,31,34,34,51,15,24,281,119,17,147,37,10,102,136,68,17,86,62,17,15,62,34,259,21,273,461,49,18,48,67,6,4,56,10,19,182,121,33,11,20,103,16,161,20,9,18,438,157,34,58,28,10,88,146,112,28,23,14,20,232,95,85,11,3,9,33,67,25,16,20,114,25,202,127,55,54,23,12,1,15,101,57,102,65,18,149,20,101,30,42,10,82,91,449,10,17,36,84,285,224,38,62,30,97,99,387,38,21,50,9,44,18,31,69,45,109,20,29,19,9,47,43,34,121,44,35,4,12,220,28,2,32,157,98,87,10,41,79,39,156,44,49,616,496,331,98,151,6,171,70,15,27,35,35,27,38,264,51,11,20,81,328,33,147,203,74,120,37,254,20,67,53,18,37,342,155,52,68,49,23,117,132,42,25,273,11,22,4,41,3,10,37,27,215,103,4580,198,15,53,197,63,4,4,365,97,92,67,18,45,306,32,12,54,61,44,149,24,98,78,58,13,17,3,20,1,24,22,45,13,12,8,24,27,24,28,15,1,45,27,3,13,59,6,46,5,25,91,25,56,11,38,9,27,24,18,175,12,123,314,113,420,34,103,52,27,91,49,50,17,78,110,3,314,46,5,3,95,25,538,107,11,66,4,2,83,154,47,10,7,13,42,7,71,82,5,82,3,34,22,4,116,10,72,63,2,91,75,24,50,22,107,2,50,28,720,28,28,29,45,84,8,25,82,106,129,62,120,9,47,99,75,30,23,97,116,215,23,63,79,17,180,19,238,16,95,109,10,19,5,151,305,8,22,9,20,20,28,4,76,28,92,64,13,31,27,61,3,59,28,31,339,7,6,404,26,4,14,3,89,219,109,176,47,1,458,131,38,40,26,45,10,99,71,11,37,27,48,28,43,13,33,18,35,171,136,14,402,18,76,8,8,15,10,11,69,14,48,15,2,425,9,7,22,112,358,6,6,1024,73,18,22,1818,154,21,25,159,24,6,423,572,1,8,304,8,20,1,58,10,47,145,200,120,30,76,79,1,50,55,235,140,15,2,44,3,7,98,1,127,704,63,170,46,135,23,3,6,17,4,319,86,74,15,85,87,79,121,4,8,79,42,41,64,131,13,32,46,43,313,72,17,265,11,94,180,1,79,37,2,29,63,29,3,110,226,118,46,57,8,147,321,22,56,142,90,5,4,5,21,65,5,107,32,16,9,2,10,611,206,43,58,36,31,21,66,13,58,27,16,141,25,26,23,36,13,38,87,8,9,11,1672,91,187,211,439,316,1,96,15,16,30,8,46,9,85,37,7,13,187,42,31,54,10,5,59,2,5,20,80,1,21,81,1,54,107,72,26,78,62,87,124,20,476,106,11,25,21,75,12,108,17,17,53,21,268,51,18,54,134,42,18,119,19,7,14,15,38,15,23,51,32,42,90,28,22,166,58,10,128,1,28,13,39,22,158,37,50,97,172,15,152,35,35,51,13,1,155,21,43,38,26,39,3,11,25,478,28,18,24,19,28,304,16,8,103,127,78,157,29,74,67,49,46,10,101,12,167,54,13,59,195,19,71,443,2,17,46,63,382,17,27,9,41,17,99,302,10,260,21,64,86,58,79,15,109,11,10,8,23,69,34,422,14,86,50,6,18,48,35,19,42,65,52,18,17,22,211,26,162,12,43,115,15,10,4,59,44,141,38,8,87,435,5,172,27,6,223,15,22,66,76,296,179,25,37,87,98,124,51,4,109,136,34,175,33,14,82,49,82,38,176,44,84,27,341,33,26,46,126,83,23,10,53,24,8,174,21,87,58,16,128,26,166,40,247,19,99,23,27,43,98,226,74,201,23,44,13,19,81,19,92,59,71,11,146,188,62,63,100,8,40,66,28,146,5,79,23,96,5,63,166,56,49,16,108,104,53,13,12,87,470,9,25,6,65,25,16,195,57,3,30,39,8,6,9,53,568,90,12,14,197,1,134,28,20,48,50,336,8,13,10,105,21,102,12,60,43,28,85,6,104,42,20,63,43,38,33,196,191,30,3,23,34,321,41,72,25,1,28,24,9,76,35,12,342,142,117,25,57,70,7,15,207,368,135,119,177,22,197,9,57,17,115,31,7,31,45,11,13,349,39,33,23,60,17,137,13,10,7,76,12,32,10,33,65,57,173,26,22,36,59,96,40,46,10,93,15,74,3,29,55,19,174,1,206,20,9,55,5,101,93,81,23,110,14,11,28,76,139,20,30,7,61,33,307,115,336,23,18,104,7,3,36,165,178,65,142,59,28,16,19,40,15,110,27,21,27,118,17,12,19,43,149,26,121,148,33,18,30,26,7,20,117,41,11,21,27,9,17,58,16,23,31,26,9,7,45,49,45,11,5,3,160,35,39,136,20,25,33,152,92,12,11,35,2,626,149,15,11,28,338,10,15,54,11,111,107,16,349,13,234,41,16,83,5,121,155,86,208,15,39,47,171,84,30,42,11,34,39,20,160,66,39,22,28,31,16,6,15,243,250,143,89,66,38,28,92,6,235,21,209,6,13,32,85,488,54,210,56,4,6,10,1106,284,8,202,111,80,7,52,24,322,13,43,46,42,65,12,4,153,29,181,450,69,589,14,1,214,105,5095,21,250,26,35,79,21,74,123,34,9,155,10,160,34,15,72,3,159,5,167,15,44,46,52,67,200,28,134,47,26,66,40,22,7,11,210,5,3,28,26,49,52,6,1387,48,41,1203,108,25,52,29,25,52,58,29,26,149,31,42,325,165,240,24,3,65,265,259,42,579,7,6,39,2,37,44,24,20,10,87,102,112,9,67,108,59,100,12,7,21,193,41,60,118,67,175,40,50,115,35,159,79,15,9,8,112,42,10,16,141,108,75,20,8,111,78,53,106,111,5,52,143,17,55,29,10,33,29,64,224,8,156,32,27,280,9,16,47,101,237,100,61,5,62,1637,143,3,13,17,105,33,180,117,20,87,8,101,24,31,123,36,8,12,259,28,26,15,162,63,90,31,14,6,129,21,71,6,60,18,31,18,1,47,6,9,11,33,41,55,118,41,69,524,8,4,4,75,11,46,56,131,59,14,7,140,186,45,286,5,350,73,87,25,182,20,103,8,72,107,54,192,14,43,23,97,590,14,124,206,29,27,222,3,1,224,17,144,17,382,12,9,5,9,32,55,51,63,93,292,70,20,258,40,109,62,22,968,4,37,16,179,239,6,130,72,90,43,281,7,29,42,19,10,18,13,30,144,9,14,47,144,46,30,17,120,7,6,19,29,193,194,7,10,623,164,107,799,316,96,57,68,23,12,73,101,18,16,4,17,12,203,291,971,18,229,216,64,62,518,330,19,10,19,32,76,111,5,69,114,399,366,4,56,48,10,58,113,216,21,16,74,69,423,124,4,33,12,28,270,235,1,123,24,17,6,330,100,29,19,383,3,197,164,152,53,102,55,50,25,7,2,2697,78,20,4,3,16,20,26,92,21,133,13,53,122,24,152,41,8,20,28,16,172,106,7,2,31,26,30,2060,30,199,102,29,236,49,80,126,29,253,30,4,168,99,90,13,572,170,132,61,74,102,42,258,7,2,421,15,327,13,50,71,68,8,130,22,210,8,115,335,347,22,412,1,28,196,139,357,25,339,10,71,55,237,37,29,277,52,10,71,501,45,147,202,193,17,54,60,89,59,26,69,18,89,5,30,41,235,38,19,71,102,5,11,21,6,39,135,5,1089,52,9,60,117,35,41,27,6,15,3,30,6,46,2,14,80,6,1140,12,13,385,59,44,12,47,11,235,255,30,53,4,61,48,13,29,2,70,29,121,17,42,39,67,6,108,4,138,145,130,13,388,21,28,143,9,127,20,66,60,58,11,6,48,11,4,98,36,144,71,13,98,28,47,124,47,17,11,53,15,18,6,20,10,7,33,73,23,498,43,55,116,96,20,355,69,17,165,9,30,5589,27,87,12,77,45,57,78,44,10,11,128,38,16,87,10,364,34,170,3,14,63,19,20,138,55,85,12,42,59,27,312,5,198,13,83,38,6,37,34,160,18,32,21,11,70,216,8,41,87,4,40,61,26,75,77,115,157,1118,143,12,182,20,128,35,20,20,31,70,472,135,560,155,72,60,35,48,7,111,52,509,394,27,127,130,1502,67,5,3,453,12,205,22,97,3,78,143,30,71,114,25,276,237,120,403,57,5,155,42,82,104,70,1,26,54,42,27,49,440,47,33,5,15,57,145,23,30,26,108,47,11,25,3,23,3,8,35,69,101,100,16,28,35,84,99,197,21,45,79,1,14,21,28,82,106,15,127,16,102,84,22,52,29,73,9,68,13,80,26,14,217,67,91,28,20,23,343,271,22,85,55,125,7,710,4,29,103,27,41,5,5,110,11,23,3,93,6,16,29,63,21,19,90,212,51,19,310,1,32,10,13,69,142,9,37,9,42,20,52,5,24,110,35,2,166,9,117,5,5,20,14,23,8,58,125,23,31,14,143,15,99,50,49,78,110,22,34,89,33,6,350,111,44,53,18,47,6,7,34,77,19,10,12,23,82,6,11,2,41,274,63,47,41,52,12,19,16,139,3,20,88,58,204,102,25,194,39,192,6,28,243,31,23,58,12,19,2379,47,1,24,37,1,33,16,36,95,42,49,29,10,57,13,35,16,98,36,86,17,24,21,26,20,17,5,9,72,5,225,63,14,519,551,13,7,16,29,114,44,95,4,94,27,132,3,117,194,36,8,302,41,12,31,10,1,84,12,85,7,14,6,73,50,12,41,8,53,153,34,122,99,10,39,48,192,28,8,53,6,2,17,292,306,6,82,10,41,55,29,329,45,25,62,2,382,219,5,9,28,60,30,58,286,25,60,58,7,58,11,7,157,97,57,52,24,24,77,76,11,29,46,45,97,88,188,86,2,50,154,35,297,125,15,512,68,209,70,13,97,164,46,92,1,160,7,308,178,15,27,214,18,185,57,10,1,177,4,163,26,671,108,228,255,83,75,24,41,15,29,28,259,81,702,114,61,29,17,56,14,897,31,20,27,1,111,8,7,53,31,323,57,215,103,168,45,39,13,51,146,44,123,31,9,29,24,5,103,77,22,14,52,410,46,2,17,67,77,13,60,16,6,41,6,423,44,3,100,16,185,19,34,64,49,155,60,167,15,25,15,25,484,119,33,238,51,35,25,2,32,21,6,21,34,47,1,48,11,90,5,9,17,116,13,1,33,12,78,155,113,21,202,33,12,110,78,53,10,166,9,19,2,12,77,22,171,18,86,237,5,117,6,55,214,288,6,53,19,35,118,7,936,128,91,69,41,11,32,302,5,70,14,10,26,72,173,8,9,88,3,62,28,93,21,10,293,411,1,28,141,192,45,9,7,37,61,180,11,27,130,10,25,7,18,21,29,20,43,14,83,267,206,25,35,75,12,42,132,7,98,119,64,8,262,301,31,48,208,35,89,133,41,40,72,49,123,17,62,33,20,68,115,51,39,68,54,272,50,10,24,167,62,27,47,8,11,138,22,97,22,30,140,80,644,14,191,142,546,147,18,20,40,45,459,15,76,128,120,129,105,29,22,49,16,12,10,91,61,40,11,24,86,4,51,114,74,30,150,248,7,267,19,155,12,40,143,58,25,11,21,12,21,115,74,11,7,18,75,1,14,6,2,29,60,19,98,41,91,98,183,42,7,28,122,84,20,11,34,4,176,24,98,65,49,43,97,113,270,37,14,140,27,52,3,551,35,130,506,9,103,218,8,385,33,90,86,212,94,139,145,181,235,32,28,160,46,76,101,62,28,32,16,241,29,100,1137,22,55,39,26,65,6,71,39,83,8,312,10,34,84,70,8,68,121,180,64,23,74,102,33,21,23,1,129,1,21,10,227,31,38,167,39,18,51,1,63,12,10,67,39,76,57,48,29,13,6,31,48,18,354,16,30,8,284,34,30,16,30,212,38,16,11,13,117,40,89,78,338,35,21,37,31,35,30,37,117,1,224,29,22,1,18,117,29,89,130,18,14,20,474,2,6,34,98,85,125,3,69,84,23,58,15,8,11,162,11,28,15,45,31,218,295,67,11,6,134,19,14,179,111,18,35,57,97,63,19,66,46,122,23,41,6,44,14,37,15,84,97,137,96,134,8,6,47,35,37,22,45,20,19,135,662,294,51,91,90,16,7,69,24,123,270,13,1,135,18,124,256,61,44,54,132,25,65,33,6,23,107,17,11,165,109,8,17,118,79,20,27,11,162,22,41,4,42,37,16,14,151,69,19,3,12,37,1,118,18,319,318,39,153,45,10,11,20,153,77,15,47,2,38,92,234,9,57,8,28,94,39,31,34,109,66,662,106,81,5,53,51,18,130,76,116,228,97,110,125,5,23,108,32,102,33,59,88,4,34,45,330,83,210,82,72,29,186,60,10,23,5,62,172,232,45,35,31,7,54,71,102,51,369,18,5,21,372,9,2,6,83,8,17,109,132,282,24,174,84,63,2,36,20,40,11,14,1,99,111,9,202,135,33,3,82,236,148,2,182,170,13,18,359,28,146,17,35,53,18,19,25,42,29,39,56,50,97,95,136,15,19,11,84,86,4,3,13,13,168,35,113,6,17,40,12,156,290,183,15,14,17,30,77,4,177,31,55,45,5,3,25,981,251,32,17,84,52,17,207,11,460,56,31,19,3,18,35,5,126,87,57,42,28,9,6,14,28,8,13,33,10,216,27,53,85,12,7,10,62,30,29,34,172,276,6,10,66,30,26,33,5,96,14,9,29,5,48,23,179,20,117,64,152,9,69,94,50,12,34,27,62,14,19,24,118,69,29,261,73,208,8,2,16,9,32,53,20,158,252,6,114,98,89,163,3,10,44,30,277,62,585,62,13,12,2,60,10,21,5,308,144,270,123,27,79,402,22,446,624,92,19,2,199,45,201,27,37,225,43,150,185,46,269,659,82,28,53,125,1,1,13,191,242,357,449,42,69,95,25,9,34,2,170,13,7,22,42,13,89,23,706,1,34,222,54,40,145,254,26,48,158,76,50,16,333,60,17,190,3,154,5,93,319,12,16,284,66,18,164,76,24,60,98,102,67,23,149,15,28,15,449,323,28,86,188,26,38,26,28,22,7,11,23,12,47,24,10,11,165,25,266,116,63,378,11,12,14,8,19,20,9,19,2,10,52,6,26,11,128,137,7,279,112,159,3,178,1,39,38,26,101,37,135,203,99,45,69,37,162,125,78,44,60,708,208,93,151,18,547,101,8,38,57,143,9,128,327,60,672,83,14,6,208,77,54,898,53,44,62,57,241,305,281,33,249,21,19,60,42,86,16,1,54,25,16,16,7,100,14,7,25,28,21,31,42,41,2,39,89,87,22,148,407,120,3,129,7,12,1,93,37,12,4,23,169,49,44,44,52,11,15,74,217,252,16,234,7,3,9,4,153,2,11,22,28,30,28,75,22,15,70,98,102,6,22,22,65,43,318,316,43,92,13,83,62,516,5,99,69,78,62,295,143,64,140,173,77,25,27,2,8,64,81,52,162,187,96,115,63,195,125,14,74,48,211,65,42,1,90,418,117,12,30,127,39,9,10,35,18,7,9,32,40,260,14,134,27,24,52,24,478,20,15,48,35,81,9,14,14,23,20,13,67,101,229,104,5,144,10,12,54,16,15,86,4,63,15,80,128,23,73,2,10,84,61,19,237,32,25,29,96,40,152,57,13,7,211,4,157,103,9,274,25,472,63,28,48,21,47,208,47,69,541,36,25,14,29,105,19,566,15,40,399,31,9,55,69,57,39,87,18,112,78,16,124,12,23,127,80,38,6,114,27,69,15,9,94,292,45,124,142,111,102,1,135,69,51,30,57,66,79,53,66,12,55,14,24,131,470,9,73,107,199,50,6,33,6,1,28,11,542,751,9,407,183,17,32,87,500,1,215,9,71,27,8,16,19,45,59,15,132,29,35,411,467,34,111,33,87,253,57,28,69,24,418,83,109,2,51,15,47,28,78,15,213,3,61,4,26,92,38,213,58,33,195,82,113,2,13,64,41,66,6,14,269,30,206,30,117,26,43,271,2,328,39,14,43,48,54,134,9,17,5,135,1,134,9,36,276,337,100,19,61,8,17,19,54,111,29,111,27,215,9,41,5,88,78,181,14,29,82,21,24,29,76,109,12,27,10,17,40,5,18,28,38,127,52,14,88,22,366,20,963,105,6,40,87,137,11,82,30,45,72,33,6,9,19,47,253,392,14,9,13,3,75,9,25,25,145,5,6,42,43,49,2,88,106,6,34,26,46,63,49,152,165,29,298,12,25,8,411,5,50,44,440,29,35,214,23,252,200,166,213,50,83,270,55,13,9,560,11,63,59,235,576,135,312,100,14,3,78,77,4,26,33,50,315,5,123,26,39,70,297,20,35,7,5,40,8,157,51,7,91,52,8,232,259,44,22,91,82,19,158,45,86,43,18,116,15,68,11,53,110,227,27,705,78,304,16,30,11,118,15,130,286,256,19,45,16,15,35,115,19,8,142,24,74,55,31,103,382,5,35,7,23,29,10,1,245,6,274,50,115,10,40,192,66,165,218,67,18,35,43,690,25,10,97,47,15,136,6,1,35,191,1,92,740,412,94,25,19,1,75,57,21,105,310,38,53,53,156,3,194,82,12,67,13,72,134,4,14,190,10,58,46,82,111,408,103,140,10,43,61,850,141,371,17,33,48,13,220,64,30,23,2,61,61,23,168,121,56,7838,35,5,51,26,297,24,15,17,15,48,199,25,58,222,11,148,102,369,9,79,40,279,10,43,46,12,26,6,26,8,145,117,64,109,10,67,21,94,34,28,16,192,16,2,114,28,32,6,19,38,34,12,58,39,38,59,80,94,23,695,145,1,31,1,21,22,5,39,65,90,21,28,77,43,12,18,2,2,20,9,1,69,71,20,485,19,1,30,7,26,249,35,104,329,68,48,85,14,31,31,15,179,295,65,21,12,145,30,48,23,1,13,38,29,5,81,2,166,93,58,40,60,22,30,32,14,28,31,31,46,123,3,29,5,191,21,21,9,5,34,112,53,96,19,19,472,7,121,127,47,7,5,20,360,19,3,18,46,27,7,137,10,37,1,470,25,18,73,13,142,227,29,127,2,17,73,1,29,7,1,39,89,36,70,21,213,108,19,41,431,38,18,39,17,444,46,26,1,28,377,73,1278,30,17,32,362,36,196,55,47,14,70,1,20,38,8,159,15,61,43,221,10,7,16,37,38,21,25,140,34,23,39,80,24,10,37,131,9,38,54,189,31,1,30,74,97,90,119,44,37,1,17,71,68,15,7,45,16,7,141,159,32,68,19,200,32,8,134,42,43,15,13,26,31,21,114,2,64,19,272,10,271,242,5,30,164,86,124,37,1,104,49,61,88,6,104,78,175,4,47,8,21,16,98,6,118,42,134,21,13,61,46,1,7,11,166,3,11,14,8,9,10,7,12,754,70],\"y\":[12347,12348,12349,12350,12352,12353,12354,12355,12356,12357,12358,12359,12360,12361,12362,12364,12365,12367,12370,12371,12372,12373,12374,12375,12377,12378,12379,12380,12381,12383,12384,12386,12388,12390,12391,12393,12394,12395,12397,12398,12399,12401,12402,12403,12405,12406,12407,12408,12409,12410,12412,12413,12414,12415,12417,12418,12420,12421,12422,12423,12424,12425,12426,12427,12428,12429,12430,12431,12432,12433,12434,12435,12436,12437,12438,12441,12442,12444,12445,12446,12447,12448,12449,12450,12451,12452,12453,12454,12455,12456,12457,12458,12461,12462,12463,12464,12465,12468,12471,12472,12473,12474,12475,12476,12477,12478,12479,12480,12481,12483,12484,12488,12489,12490,12491,12492,12493,12494,12497,12498,12500,12501,12502,12504,12506,12507,12508,12509,12510,12512,12513,12514,12515,12516,12517,12518,12519,12520,12521,12522,12523,12524,12526,12527,12528,12530,12531,12532,12534,12535,12536,12538,12539,12540,12541,12544,12545,12546,12547,12548,12550,12551,12552,12553,12556,12557,12558,12559,12560,12561,12562,12564,12565,12566,12567,12569,12571,12572,12573,12574,12576,12577,12578,12579,12580,12581,12582,12583,12584,12585,12586,12587,12588,12589,12590,12591,12592,12593,12594,12596,12597,12598,12599,12600,12601,12602,12603,12604,12607,12609,12610,12611,12612,12613,12614,12615,12616,12617,12618,12619,12620,12621,12622,12623,12624,12625,12626,12627,12628,12630,12631,12633,12635,12637,12638,12639,12640,12641,12642,12643,12644,12645,12646,12647,12648,12649,12650,12651,12652,12653,12654,12656,12657,12658,12659,12660,12662,12664,12665,12667,12668,12669,12670,12672,12673,12674,12676,12678,12679,12680,12681,12682,12683,12684,12685,12686,12688,12689,12690,12691,12693,12694,12695,12697,12700,12701,12702,12703,12704,12705,12707,12708,12709,12710,12712,12713,12714,12715,12716,12717,12718,12719,12720,12721,12722,12723,12724,12725,12726,12727,12728,12729,12731,12732,12733,12734,12735,12736,12738,12739,12740,12744,12747,12748,12749,12750,12752,12753,12754,12755,12756,12757,12758,12759,12762,12763,12764,12766,12769,12770,12772,12775,12778,12779,12781,12782,12783,12784,12785,12787,12789,12790,12791,12792,12793,12794,12795,12797,12798,12802,12808,12809,12811,12812,12814,12815,12816,12817,12818,12820,12821,12822,12823,12824,12826,12827,12828,12829,12830,12831,12832,12833,12834,12836,12837,12838,12839,12840,12841,12842,12843,12844,12845,12847,12849,12851,12852,12853,12854,12855,12856,12857,12863,12864,12865,12866,12867,12868,12871,12872,12873,12875,12876,12877,12878,12879,12881,12882,12883,12884,12885,12886,12888,12890,12891,12893,12895,12897,12901,12902,12904,12906,12908,12909,12910,12912,12913,12915,12916,12917,12919,12920,12921,12922,12923,12924,12925,12928,12929,12930,12931,12933,12935,12936,12937,12938,12939,12940,12942,12944,12945,12947,12948,12949,12950,12951,12952,12953,12955,12956,12957,12962,12963,12965,12966,12967,12968,12970,12971,12974,12976,12977,12980,12981,12982,12984,12985,12987,12988,12989,12990,12991,12993,12994,12995,12997,12999,13000,13001,13002,13003,13004,13005,13006,13008,13011,13012,13013,13014,13015,13016,13017,13018,13021,13023,13026,13027,13028,13029,13030,13032,13033,13034,13035,13037,13038,13040,13043,13044,13045,13046,13047,13048,13049,13050,13052,13055,13058,13059,13060,13061,13062,13064,13065,13066,13067,13068,13069,13070,13072,13075,13077,13078,13079,13080,13081,13082,13083,13085,13089,13090,13091,13092,13093,13094,13095,13097,13098,13099,13101,13102,13103,13104,13106,13107,13108,13109,13110,13113,13115,13116,13117,13118,13120,13121,13122,13124,13126,13127,13130,13131,13132,13133,13134,13135,13136,13137,13138,13139,13140,13141,13142,13144,13145,13146,13147,13148,13149,13151,13153,13155,13157,13158,13159,13160,13161,13162,13165,13166,13167,13168,13169,13170,13171,13173,13174,13176,13177,13178,13182,13183,13184,13185,13186,13187,13188,13189,13192,13193,13194,13196,13198,13199,13200,13203,13207,13208,13209,13210,13211,13212,13213,13216,13217,13218,13220,13221,13223,13224,13225,13226,13227,13228,13229,13230,13232,13233,13235,13236,13238,13239,13240,13242,13243,13244,13245,13246,13247,13248,13249,13253,13255,13258,13259,13260,13261,13262,13263,13265,13266,13267,13268,13269,13270,13271,13272,13273,13276,13277,13278,13279,13280,13282,13283,13284,13285,13291,13292,13294,13295,13296,13297,13298,13299,13300,13301,13302,13304,13305,13307,13308,13309,13310,13311,13313,13314,13316,13317,13318,13319,13320,13321,13322,13323,13324,13325,13327,13328,13329,13330,13332,13334,13336,13338,13339,13340,13341,13343,13344,13345,13347,13348,13349,13350,13351,13352,13354,13355,13356,13357,13358,13359,13362,13363,13364,13365,13366,13368,13369,13370,13372,13373,13375,13376,13379,13381,13382,13384,13385,13388,13389,13390,13391,13394,13395,13396,13397,13398,13402,13403,13404,13405,13408,13410,13411,13414,13416,13417,13418,13419,13420,13421,13422,13425,13426,13427,13428,13429,13430,13431,13434,13435,13436,13437,13439,13441,13447,13448,13449,13450,13451,13452,13453,13455,13456,13458,13460,13461,13462,13464,13466,13467,13468,13470,13471,13473,13474,13475,13476,13477,13479,13481,13482,13483,13484,13485,13486,13487,13488,13489,13491,13492,13493,13494,13495,13496,13497,13499,13500,13501,13502,13503,13504,13505,13506,13507,13508,13509,13510,13512,13513,13514,13515,13516,13517,13518,13519,13520,13521,13522,13523,13524,13525,13527,13529,13531,13532,13533,13534,13536,13538,13539,13544,13546,13548,13549,13551,13552,13555,13557,13558,13560,13561,13562,13563,13564,13565,13566,13568,13569,13570,13571,13572,13573,13575,13576,13577,13579,13581,13583,13584,13587,13588,13589,13590,13591,13592,13593,13594,13596,13598,13599,13600,13601,13602,13603,13606,13607,13610,13611,13614,13615,13617,13618,13621,13623,13626,13627,13629,13630,13631,13632,13634,13635,13636,13637,13638,13639,13642,13643,13644,13645,13647,13649,13650,13651,13652,13654,13655,13656,13657,13658,13659,13662,13663,13666,13667,13668,13669,13670,13672,13673,13675,13678,13680,13681,13682,13684,13685,13686,13689,13690,13692,13694,13695,13697,13699,13700,13703,13704,13705,13706,13707,13708,13709,13710,13711,13712,13715,13716,13717,13718,13719,13720,13721,13722,13723,13725,13726,13727,13728,13730,13731,13732,13735,13736,13737,13739,13740,13741,13742,13743,13744,13745,13747,13748,13750,13751,13752,13753,13754,13755,13756,13758,13759,13760,13761,13762,13763,13764,13767,13769,13771,13772,13774,13777,13778,13780,13781,13782,13784,13786,13787,13790,13791,13792,13798,13799,13800,13801,13802,13803,13804,13805,13806,13807,13808,13809,13810,13811,13812,13813,13814,13815,13816,13817,13819,13821,13822,13823,13824,13826,13827,13828,13831,13832,13833,13835,13837,13838,13841,13842,13844,13845,13846,13848,13849,13850,13851,13853,13854,13856,13858,13859,13860,13862,13863,13865,13866,13867,13868,13869,13870,13871,13873,13874,13875,13876,13877,13878,13880,13881,13882,13883,13884,13885,13886,13887,13888,13889,13890,13892,13893,13894,13895,13897,13898,13899,13900,13901,13904,13908,13911,13914,13917,13918,13919,13922,13923,13924,13925,13926,13927,13928,13929,13930,13931,13932,13933,13934,13936,13937,13938,13939,13940,13941,13946,13947,13948,13949,13950,13951,13952,13953,13954,13955,13956,13959,13960,13962,13963,13967,13969,13971,13972,13973,13974,13975,13976,13978,13979,13980,13982,13983,13984,13985,13986,13988,13989,13990,13991,13992,13993,13994,13995,13999,14000,14001,14002,14004,14005,14006,14009,14012,14013,14014,14015,14016,14019,14020,14021,14022,14023,14024,14027,14029,14030,14031,14032,14034,14035,14036,14037,14038,14039,14040,14041,14044,14045,14046,14047,14048,14049,14050,14051,14052,14053,14054,14055,14056,14057,14059,14060,14062,14064,14066,14067,14068,14071,14073,14075,14076,14077,14078,14079,14080,14081,14082,14083,14085,14087,14088,14089,14090,14092,14093,14096,14098,14099,14100,14101,14102,14104,14105,14107,14108,14109,14110,14111,14112,14113,14114,14116,14117,14121,14124,14125,14126,14127,14128,14129,14130,14132,14133,14135,14138,14139,14140,14141,14142,14143,14145,14146,14147,14148,14149,14150,14152,14154,14155,14156,14157,14158,14159,14161,14162,14163,14164,14165,14167,14171,14173,14174,14175,14176,14177,14178,14179,14180,14184,14185,14188,14189,14191,14193,14194,14195,14196,14198,14199,14201,14204,14205,14206,14208,14209,14210,14211,14212,14214,14215,14216,14217,14218,14219,14220,14221,14222,14223,14224,14226,14227,14229,14231,14232,14233,14234,14235,14236,14237,14238,14239,14240,14241,14242,14243,14245,14246,14247,14248,14250,14251,14256,14257,14258,14259,14261,14262,14264,14267,14270,14271,14272,14273,14276,14277,14280,14282,14284,14285,14286,14287,14288,14289,14290,14291,14292,14293,14295,14297,14298,14299,14300,14301,14304,14305,14306,14307,14309,14311,14312,14314,14315,14317,14320,14321,14323,14326,14327,14329,14331,14332,14333,14334,14335,14336,14338,14339,14340,14341,14342,14344,14345,14346,14348,14349,14350,14351,14352,14353,14354,14355,14356,14357,14359,14360,14362,14364,14367,14368,14371,14373,14375,14377,14379,14381,14382,14383,14385,14386,14387,14388,14389,14390,14393,14395,14396,14397,14400,14401,14403,14404,14406,14407,14408,14409,14410,14411,14412,14413,14414,14415,14416,14418,14419,14420,14421,14422,14423,14424,14426,14427,14428,14431,14432,14434,14436,14437,14438,14439,14440,14441,14442,14443,14446,14447,14448,14449,14450,14451,14452,14453,14456,14457,14459,14460,14461,14462,14463,14465,14466,14467,14470,14472,14473,14474,14475,14476,14477,14479,14480,14481,14482,14483,14484,14485,14487,14488,14489,14491,14493,14494,14495,14496,14497,14498,14499,14500,14501,14502,14503,14504,14505,14506,14507,14508,14511,14512,14513,14514,14515,14517,14518,14520,14522,14523,14524,14525,14527,14528,14529,14530,14532,14533,14534,14535,14536,14537,14538,14539,14540,14541,14542,14543,14544,14546,14547,14548,14549,14550,14551,14552,14553,14554,14555,14557,14560,14561,14562,14565,14566,14567,14569,14570,14572,14573,14576,14577,14578,14581,14582,14583,14584,14585,14586,14587,14589,14591,14592,14593,14594,14595,14597,14598,14600,14601,14603,14606,14607,14608,14609,14616,14618,14619,14620,14621,14622,14623,14624,14625,14626,14628,14629,14631,14632,14633,14636,14638,14639,14640,14641,14642,14643,14644,14645,14646,14647,14649,14651,14652,14653,14655,14656,14657,14658,14659,14660,14661,14662,14664,14665,14666,14667,14669,14670,14672,14673,14675,14676,14680,14681,14682,14684,14687,14688,14689,14690,14691,14692,14693,14696,14697,14698,14699,14700,14701,14702,14703,14704,14705,14708,14709,14710,14711,14712,14713,14714,14715,14716,14719,14720,14722,14723,14725,14727,14729,14730,14731,14732,14733,14735,14737,14738,14739,14740,14741,14744,14745,14747,14748,14752,14753,14754,14755,14756,14757,14758,14759,14760,14761,14762,14764,14765,14766,14768,14769,14770,14772,14775,14776,14778,14779,14780,14782,14784,14785,14788,14789,14790,14792,14793,14794,14795,14796,14798,14799,14800,14801,14803,14804,14805,14806,14808,14810,14813,14815,14816,14817,14818,14819,14820,14821,14823,14824,14825,14828,14829,14830,14834,14836,14837,14840,14841,14842,14844,14847,14849,14850,14851,14852,14853,14854,14855,14856,14857,14859,14860,14861,14862,14863,14865,14866,14867,14868,14869,14870,14871,14873,14875,14878,14880,14881,14882,14883,14885,14886,14887,14888,14889,14890,14891,14893,14894,14895,14896,14897,14898,14901,14902,14903,14904,14905,14907,14908,14910,14911,14912,14913,14915,14916,14918,14920,14921,14923,14924,14929,14930,14931,14932,14934,14935,14936,14937,14944,14946,14947,14948,14950,14951,14952,14953,14954,14957,14958,14959,14960,14961,14962,14963,14964,14965,14966,14967,14968,14970,14971,14972,14973,14974,14975,14976,14978,14981,14984,14985,14987,14988,14995,14997,14998,15000,15002,15004,15005,15006,15007,15009,15010,15012,15014,15016,15017,15018,15019,15021,15022,15023,15024,15025,15026,15027,15028,15030,15031,15032,15033,15034,15035,15036,15038,15039,15041,15042,15043,15044,15045,15046,15047,15048,15049,15050,15051,15052,15053,15054,15057,15058,15059,15060,15061,15062,15063,15065,15066,15067,15068,15069,15070,15071,15073,15074,15075,15076,15078,15079,15081,15083,15087,15088,15089,15090,15091,15092,15093,15095,15096,15097,15098,15099,15100,15101,15103,15104,15105,15106,15107,15109,15110,15111,15113,15114,15115,15116,15117,15118,15119,15120,15121,15122,15123,15124,15125,15127,15128,15129,15130,15132,15133,15134,15135,15136,15139,15140,15142,15143,15144,15145,15146,15147,15148,15149,15150,15152,15153,15154,15156,15157,15158,15159,15160,15163,15164,15165,15167,15168,15171,15172,15174,15175,15178,15179,15180,15181,15182,15184,15185,15186,15187,15189,15192,15193,15194,15195,15197,15198,15199,15201,15203,15204,15205,15206,15208,15210,15211,15212,15213,15214,15215,15216,15218,15219,15220,15221,15222,15223,15224,15225,15226,15227,15228,15230,15232,15234,15235,15236,15237,15238,15239,15240,15241,15243,15244,15245,15246,15247,15249,15251,15252,15253,15254,15255,15256,15257,15258,15260,15261,15262,15263,15264,15265,15266,15267,15269,15270,15271,15272,15274,15275,15276,15277,15279,15280,15281,15286,15287,15288,15289,15290,15291,15292,15296,15297,15298,15299,15300,15301,15303,15304,15306,15307,15308,15311,15312,15313,15314,15315,15316,15318,15319,15320,15321,15322,15325,15326,15327,15329,15330,15332,15333,15334,15335,15339,15341,15342,15343,15344,15345,15346,15347,15348,15349,15350,15351,15353,15355,15356,15358,15360,15361,15363,15364,15365,15366,15367,15368,15370,15372,15373,15374,15376,15379,15380,15381,15382,15384,15385,15386,15388,15389,15392,15393,15394,15395,15396,15397,15398,15399,15400,15402,15405,15406,15407,15408,15410,15411,15412,15414,15415,15416,15417,15419,15421,15422,15423,15424,15426,15427,15428,15429,15432,15433,15434,15435,15436,15437,15438,15440,15442,15443,15444,15445,15447,15448,15449,15450,15452,15453,15454,15456,15457,15458,15460,15462,15463,15464,15465,15466,15467,15468,15469,15471,15472,15473,15475,15478,15480,15482,15483,15484,15485,15488,15489,15491,15492,15493,15494,15497,15498,15500,15502,15503,15504,15505,15506,15507,15508,15510,15511,15512,15513,15514,15516,15517,15518,15520,15521,15522,15523,15524,15525,15526,15527,15528,15529,15530,15531,15532,15533,15535,15537,15539,15540,15541,15543,15544,15545,15547,15549,15550,15551,15552,15553,15554,15555,15556,15557,15561,15562,15563,15565,15567,15568,15569,15570,15571,15572,15573,15574,15576,15577,15578,15579,15581,15582,15584,15585,15587,15589,15592,15593,15594,15596,15597,15598,15599,15601,15602,15603,15604,15605,15606,15607,15608,15609,15610,15611,15612,15615,15618,15619,15620,15621,15622,15623,15624,15625,15626,15628,15630,15632,15634,15636,15637,15639,15640,15641,15643,15644,15645,15646,15648,15649,15651,15652,15653,15654,15655,15656,15657,15658,15659,15660,15661,15663,15664,15665,15667,15668,15669,15670,15671,15673,15674,15675,15676,15677,15678,15679,15680,15681,15683,15687,15689,15690,15691,15692,15694,15695,15696,15699,15700,15701,15703,15704,15705,15706,15707,15708,15709,15712,15713,15714,15716,15717,15719,15720,15721,15722,15723,15724,15725,15727,15729,15730,15732,15733,15734,15737,15738,15739,15740,15743,15744,15745,15746,15747,15748,15749,15750,15752,15753,15754,15755,15756,15757,15758,15759,15762,15763,15764,15766,15768,15769,15773,15774,15775,15776,15777,15780,15781,15782,15783,15785,15786,15787,15789,15790,15791,15793,15795,15796,15797,15799,15800,15801,15803,15804,15805,15806,15807,15808,15809,15810,15811,15812,15813,15814,15815,15819,15820,15821,15822,15825,15826,15827,15829,15830,15831,15832,15834,15835,15836,15837,15838,15839,15840,15841,15843,15844,15845,15847,15850,15852,15853,15854,15855,15856,15857,15858,15860,15861,15862,15863,15864,15865,15866,15867,15869,15870,15872,15874,15877,15880,15881,15882,15883,15885,15886,15888,15889,15891,15894,15895,15897,15898,15899,15900,15901,15903,15904,15906,15907,15909,15910,15912,15916,15917,15918,15919,15920,15921,15922,15923,15925,15930,15932,15933,15935,15937,15938,15939,15940,15942,15944,15945,15947,15948,15949,15950,15951,15952,15953,15955,15957,15958,15963,15965,15967,15969,15970,15971,15973,15974,15975,15976,15977,15978,15980,15981,15983,15984,15985,15986,15987,15988,15990,15992,15993,15994,15996,15998,16000,16003,16005,16006,16007,16008,16009,16010,16011,16012,16013,16014,16015,16016,16017,16018,16019,16020,16022,16023,16024,16025,16026,16027,16029,16030,16031,16033,16034,16036,16037,16038,16040,16041,16042,16043,16045,16048,16049,16050,16052,16053,16054,16055,16056,16057,16059,16062,16063,16065,16066,16070,16071,16072,16073,16076,16078,16079,16080,16081,16083,16084,16085,16086,16091,16092,16093,16094,16096,16097,16098,16099,16101,16102,16103,16104,16105,16106,16107,16108,16109,16110,16112,16113,16114,16115,16116,16117,16119,16120,16121,16122,16123,16124,16125,16126,16127,16128,16131,16133,16134,16135,16136,16139,16140,16141,16142,16143,16144,16145,16146,16147,16148,16149,16150,16152,16153,16156,16157,16159,16160,16161,16162,16163,16164,16168,16169,16170,16171,16172,16173,16174,16175,16177,16178,16179,16180,16181,16182,16183,16184,16185,16186,16187,16188,16189,16190,16191,16193,16198,16200,16201,16202,16203,16204,16205,16206,16207,16208,16209,16210,16211,16212,16213,16214,16215,16216,16217,16218,16221,16222,16224,16225,16226,16227,16229,16230,16232,16233,16235,16236,16239,16240,16241,16242,16243,16244,16245,16247,16248,16249,16250,16253,16255,16256,16257,16258,16260,16261,16265,16266,16268,16270,16271,16272,16274,16275,16276,16278,16279,16281,16282,16283,16284,16287,16292,16293,16295,16297,16298,16302,16303,16305,16306,16308,16309,16311,16313,16315,16316,16317,16318,16319,16321,16322,16323,16324,16325,16326,16327,16330,16332,16333,16337,16338,16339,16340,16341,16342,16343,16344,16345,16347,16348,16349,16350,16351,16352,16353,16354,16356,16357,16358,16359,16360,16361,16362,16363,16364,16365,16366,16367,16368,16369,16370,16372,16374,16376,16377,16378,16379,16380,16383,16384,16385,16386,16387,16389,16392,16393,16394,16395,16398,16399,16400,16401,16402,16403,16404,16405,16406,16407,16409,16411,16412,16413,16414,16415,16416,16418,16419,16422,16423,16424,16425,16426,16427,16429,16430,16431,16432,16433,16434,16438,16440,16441,16442,16444,16445,16446,16447,16448,16449,16450,16451,16454,16455,16456,16457,16458,16460,16461,16462,16463,16464,16466,16468,16469,16470,16471,16473,16474,16475,16477,16478,16479,16480,16482,16483,16484,16485,16488,16491,16493,16494,16495,16496,16497,16498,16499,16500,16503,16504,16505,16506,16509,16510,16511,16513,16515,16516,16517,16518,16519,16520,16523,16525,16526,16527,16528,16529,16531,16532,16533,16535,16536,16539,16542,16545,16546,16549,16550,16551,16552,16553,16554,16555,16556,16557,16558,16560,16561,16563,16565,16566,16567,16569,16570,16571,16572,16573,16574,16581,16582,16583,16584,16586,16587,16589,16591,16592,16593,16594,16595,16596,16597,16598,16600,16601,16602,16603,16607,16609,16610,16611,16612,16613,16614,16616,16617,16618,16619,16620,16621,16623,16624,16625,16626,16627,16628,16629,16633,16634,16637,16638,16639,16641,16642,16643,16644,16647,16648,16650,16652,16653,16654,16655,16656,16657,16658,16659,16660,16665,16666,16667,16668,16669,16670,16671,16672,16674,16676,16678,16679,16680,16681,16682,16684,16685,16686,16688,16689,16690,16692,16693,16696,16697,16698,16700,16701,16705,16706,16708,16709,16710,16711,16712,16713,16714,16715,16716,16717,16718,16719,16720,16721,16722,16723,16725,16726,16727,16728,16729,16730,16732,16734,16735,16737,16738,16739,16743,16744,16745,16746,16747,16748,16750,16751,16752,16753,16754,16755,16756,16757,16758,16759,16761,16762,16763,16764,16765,16766,16767,16768,16769,16770,16771,16773,16774,16775,16776,16777,16778,16779,16780,16781,16782,16784,16788,16789,16790,16791,16792,16793,16794,16795,16796,16800,16801,16803,16804,16805,16806,16807,16808,16809,16810,16811,16812,16813,16814,16816,16817,16818,16820,16823,16824,16825,16826,16828,16829,16830,16832,16833,16834,16835,16836,16837,16838,16839,16841,16842,16843,16846,16847,16848,16849,16850,16851,16852,16855,16856,16858,16859,16861,16863,16866,16869,16871,16872,16873,16875,16877,16878,16880,16881,16882,16883,16884,16885,16887,16889,16891,16892,16893,16895,16897,16898,16899,16900,16902,16903,16904,16905,16906,16907,16909,16910,16912,16913,16914,16915,16916,16917,16918,16919,16921,16923,16924,16926,16927,16928,16929,16930,16931,16932,16933,16934,16936,16938,16940,16942,16943,16945,16947,16948,16949,16950,16951,16952,16953,16954,16955,16956,16957,16959,16960,16961,16963,16965,16966,16967,16968,16969,16971,16976,16978,16979,16980,16982,16983,16984,16985,16986,16987,16988,16989,16990,16992,16996,16997,16998,16999,17001,17002,17004,17006,17007,17010,17011,17014,17015,17017,17018,17019,17022,17024,17025,17026,17027,17029,17030,17031,17033,17034,17035,17037,17038,17040,17041,17042,17043,17044,17045,17046,17047,17048,17049,17050,17051,17052,17053,17054,17058,17059,17060,17061,17062,17063,17064,17068,17069,17070,17071,17073,17075,17076,17078,17079,17080,17081,17082,17083,17084,17085,17086,17088,17090,17091,17092,17094,17095,17096,17097,17100,17101,17102,17105,17107,17109,17110,17111,17114,17115,17117,17118,17119,17120,17122,17123,17124,17125,17126,17128,17131,17133,17134,17135,17138,17139,17140,17142,17144,17146,17147,17148,17152,17153,17154,17155,17157,17158,17159,17160,17162,17163,17164,17165,17166,17169,17171,17172,17173,17174,17175,17176,17179,17180,17181,17183,17186,17187,17188,17189,17190,17191,17193,17194,17197,17198,17201,17203,17204,17205,17206,17211,17212,17213,17214,17217,17218,17219,17220,17221,17222,17223,17226,17227,17228,17229,17230,17231,17232,17233,17234,17235,17236,17237,17238,17239,17242,17243,17244,17245,17247,17248,17250,17251,17252,17253,17254,17255,17256,17259,17262,17263,17265,17266,17267,17268,17272,17274,17277,17278,17279,17282,17284,17286,17287,17288,17289,17290,17291,17293,17295,17297,17298,17299,17301,17302,17303,17306,17309,17311,17312,17313,17314,17315,17317,17320,17321,17323,17324,17325,17329,17330,17331,17333,17334,17337,17338,17339,17340,17341,17343,17344,17345,17346,17347,17348,17349,17350,17351,17353,17354,17356,17357,17358,17359,17360,17361,17362,17364,17365,17367,17368,17370,17371,17372,17373,17374,17375,17376,17377,17379,17381,17382,17383,17384,17385,17386,17387,17388,17389,17391,17392,17394,17396,17397,17398,17400,17402,17403,17404,17405,17406,17408,17409,17410,17411,17412,17414,17415,17416,17418,17419,17420,17422,17423,17425,17426,17427,17428,17429,17430,17431,17432,17433,17434,17436,17438,17440,17442,17443,17444,17446,17447,17449,17450,17451,17453,17454,17455,17456,17457,17458,17459,17460,17461,17462,17463,17464,17466,17468,17469,17470,17472,17475,17480,17481,17483,17486,17489,17490,17491,17492,17495,17496,17498,17499,17500,17501,17502,17503,17504,17505,17506,17507,17508,17509,17510,17511,17512,17513,17514,17515,17516,17517,17519,17520,17521,17522,17523,17524,17525,17526,17527,17528,17530,17531,17534,17535,17536,17537,17538,17540,17542,17545,17548,17549,17550,17551,17552,17553,17554,17555,17556,17557,17560,17561,17562,17564,17566,17567,17569,17571,17572,17573,17574,17576,17578,17579,17580,17581,17582,17584,17585,17588,17589,17590,17591,17593,17594,17595,17596,17597,17600,17601,17602,17603,17604,17608,17609,17611,17612,17613,17614,17615,17616,17618,17619,17620,17621,17623,17624,17625,17628,17629,17630,17631,17633,17634,17636,17637,17639,17640,17642,17643,17644,17646,17647,17648,17649,17650,17651,17652,17653,17654,17655,17656,17658,17659,17660,17663,17664,17666,17667,17668,17669,17670,17671,17672,17673,17674,17675,17676,17677,17678,17679,17680,17682,17684,17685,17686,17690,17691,17692,17693,17694,17695,17696,17697,17698,17700,17701,17702,17703,17704,17705,17706,17707,17708,17709,17711,17712,17714,17715,17716,17718,17719,17720,17722,17723,17724,17725,17727,17728,17730,17731,17732,17733,17734,17735,17736,17737,17738,17739,17742,17744,17746,17747,17749,17750,17752,17754,17757,17758,17759,17760,17761,17763,17764,17765,17767,17768,17769,17770,17771,17772,17774,17775,17777,17779,17781,17783,17785,17786,17787,17788,17789,17790,17791,17793,17795,17796,17797,17799,17800,17802,17805,17806,17809,17811,17812,17813,17816,17817,17819,17824,17827,17828,17829,17830,17831,17832,17835,17836,17837,17838,17839,17841,17843,17844,17848,17849,17850,17852,17854,17855,17856,17857,17858,17859,17860,17861,17862,17863,17864,17865,17866,17867,17869,17870,17871,17873,17874,17877,17878,17879,17880,17881,17883,17884,17885,17886,17887,17888,17889,17890,17891,17892,17893,17894,17895,17896,17897,17898,17899,17900,17901,17904,17905,17906,17908,17911,17912,17913,17914,17917,17919,17920,17921,17923,17924,17925,17926,17928,17929,17930,17931,17932,17934,17935,17936,17937,17939,17940,17941,17942,17946,17947,17948,17949,17950,17951,17954,17955,17956,17957,17958,17960,17961,17962,17964,17965,17966,17967,17968,17969,17970,17972,17973,17974,17975,17976,17977,17978,17979,17980,17984,17985,17986,17987,17988,17990,17991,17994,17995,17997,17999,18001,18004,18005,18006,18008,18009,18010,18011,18013,18014,18015,18016,18017,18018,18019,18022,18024,18027,18030,18032,18033,18034,18035,18036,18037,18040,18041,18042,18043,18044,18045,18048,18050,18053,18055,18056,18058,18059,18061,18062,18064,18065,18066,18067,18068,18069,18071,18072,18073,18074,18075,18077,18078,18079,18080,18081,18082,18084,18085,18086,18087,18088,18092,18093,18094,18095,18096,18097,18099,18101,18102,18104,18105,18106,18108,18109,18110,18112,18113,18114,18116,18117,18118,18119,18120,18121,18122,18123,18125,18126,18127,18129,18130,18133,18135,18136,18138,18139,18142,18143,18144,18145,18146,18147,18149,18150,18151,18154,18155,18156,18158,18159,18160,18161,18164,18165,18167,18168,18169,18170,18171,18172,18173,18174,18176,18177,18178,18179,18180,18181,18183,18184,18185,18188,18189,18190,18191,18192,18193,18194,18196,18198,18200,18202,18203,18204,18205,18209,18210,18211,18212,18213,18215,18216,18217,18218,18219,18220,18221,18222,18223,18224,18225,18226,18227,18228,18229,18230,18231,18232,18233,18235,18236,18237,18239,18240,18241,18242,18245,18246,18248,18249,18250,18251,18252,18255,18257,18259,18260,18261,18262,18263,18265,18268,18269,18270,18272,18273,18274,18276,18277,18278,18280,18281,18282,18283,18287],\"type\":\"scatter\"}],                        {\"legend\":{\"bgcolor\":\"#F5F6F9\",\"font\":{\"color\":\"#4D5663\"}},\"paper_bgcolor\":\"#F5F6F9\",\"plot_bgcolor\":\"#F5F6F9\",\"template\":{\"data\":{\"barpolar\":[{\"marker\":{\"line\":{\"color\":\"#E5ECF6\",\"width\":0.5},\"pattern\":{\"fillmode\":\"overlay\",\"size\":10,\"solidity\":0.2}},\"type\":\"barpolar\"}],\"bar\":[{\"error_x\":{\"color\":\"#2a3f5f\"},\"error_y\":{\"color\":\"#2a3f5f\"},\"marker\":{\"line\":{\"color\":\"#E5ECF6\",\"width\":0.5},\"pattern\":{\"fillmode\":\"overlay\",\"size\":10,\"solidity\":0.2}},\"type\":\"bar\"}],\"carpet\":[{\"aaxis\":{\"endlinecolor\":\"#2a3f5f\",\"gridcolor\":\"white\",\"linecolor\":\"white\",\"minorgridcolor\":\"white\",\"startlinecolor\":\"#2a3f5f\"},\"baxis\":{\"endlinecolor\":\"#2a3f5f\",\"gridcolor\":\"white\",\"linecolor\":\"white\",\"minorgridcolor\":\"white\",\"startlinecolor\":\"#2a3f5f\"},\"type\":\"carpet\"}],\"choropleth\":[{\"colorbar\":{\"outlinewidth\":0,\"ticks\":\"\"},\"type\":\"choropleth\"}],\"contourcarpet\":[{\"colorbar\":{\"outlinewidth\":0,\"ticks\":\"\"},\"type\":\"contourcarpet\"}],\"contour\":[{\"colorbar\":{\"outlinewidth\":0,\"ticks\":\"\"},\"colorscale\":[[0.0,\"#0d0887\"],[0.1111111111111111,\"#46039f\"],[0.2222222222222222,\"#7201a8\"],[0.3333333333333333,\"#9c179e\"],[0.4444444444444444,\"#bd3786\"],[0.5555555555555556,\"#d8576b\"],[0.6666666666666666,\"#ed7953\"],[0.7777777777777778,\"#fb9f3a\"],[0.8888888888888888,\"#fdca26\"],[1.0,\"#f0f921\"]],\"type\":\"contour\"}],\"heatmapgl\":[{\"colorbar\":{\"outlinewidth\":0,\"ticks\":\"\"},\"colorscale\":[[0.0,\"#0d0887\"],[0.1111111111111111,\"#46039f\"],[0.2222222222222222,\"#7201a8\"],[0.3333333333333333,\"#9c179e\"],[0.4444444444444444,\"#bd3786\"],[0.5555555555555556,\"#d8576b\"],[0.6666666666666666,\"#ed7953\"],[0.7777777777777778,\"#fb9f3a\"],[0.8888888888888888,\"#fdca26\"],[1.0,\"#f0f921\"]],\"type\":\"heatmapgl\"}],\"heatmap\":[{\"colorbar\":{\"outlinewidth\":0,\"ticks\":\"\"},\"colorscale\":[[0.0,\"#0d0887\"],[0.1111111111111111,\"#46039f\"],[0.2222222222222222,\"#7201a8\"],[0.3333333333333333,\"#9c179e\"],[0.4444444444444444,\"#bd3786\"],[0.5555555555555556,\"#d8576b\"],[0.6666666666666666,\"#ed7953\"],[0.7777777777777778,\"#fb9f3a\"],[0.8888888888888888,\"#fdca26\"],[1.0,\"#f0f921\"]],\"type\":\"heatmap\"}],\"histogram2dcontour\":[{\"colorbar\":{\"outlinewidth\":0,\"ticks\":\"\"},\"colorscale\":[[0.0,\"#0d0887\"],[0.1111111111111111,\"#46039f\"],[0.2222222222222222,\"#7201a8\"],[0.3333333333333333,\"#9c179e\"],[0.4444444444444444,\"#bd3786\"],[0.5555555555555556,\"#d8576b\"],[0.6666666666666666,\"#ed7953\"],[0.7777777777777778,\"#fb9f3a\"],[0.8888888888888888,\"#fdca26\"],[1.0,\"#f0f921\"]],\"type\":\"histogram2dcontour\"}],\"histogram2d\":[{\"colorbar\":{\"outlinewidth\":0,\"ticks\":\"\"},\"colorscale\":[[0.0,\"#0d0887\"],[0.1111111111111111,\"#46039f\"],[0.2222222222222222,\"#7201a8\"],[0.3333333333333333,\"#9c179e\"],[0.4444444444444444,\"#bd3786\"],[0.5555555555555556,\"#d8576b\"],[0.6666666666666666,\"#ed7953\"],[0.7777777777777778,\"#fb9f3a\"],[0.8888888888888888,\"#fdca26\"],[1.0,\"#f0f921\"]],\"type\":\"histogram2d\"}],\"histogram\":[{\"marker\":{\"pattern\":{\"fillmode\":\"overlay\",\"size\":10,\"solidity\":0.2}},\"type\":\"histogram\"}],\"mesh3d\":[{\"colorbar\":{\"outlinewidth\":0,\"ticks\":\"\"},\"type\":\"mesh3d\"}],\"parcoords\":[{\"line\":{\"colorbar\":{\"outlinewidth\":0,\"ticks\":\"\"}},\"type\":\"parcoords\"}],\"pie\":[{\"automargin\":true,\"type\":\"pie\"}],\"scatter3d\":[{\"line\":{\"colorbar\":{\"outlinewidth\":0,\"ticks\":\"\"}},\"marker\":{\"colorbar\":{\"outlinewidth\":0,\"ticks\":\"\"}},\"type\":\"scatter3d\"}],\"scattercarpet\":[{\"marker\":{\"colorbar\":{\"outlinewidth\":0,\"ticks\":\"\"}},\"type\":\"scattercarpet\"}],\"scattergeo\":[{\"marker\":{\"colorbar\":{\"outlinewidth\":0,\"ticks\":\"\"}},\"type\":\"scattergeo\"}],\"scattergl\":[{\"marker\":{\"colorbar\":{\"outlinewidth\":0,\"ticks\":\"\"}},\"type\":\"scattergl\"}],\"scattermapbox\":[{\"marker\":{\"colorbar\":{\"outlinewidth\":0,\"ticks\":\"\"}},\"type\":\"scattermapbox\"}],\"scatterpolargl\":[{\"marker\":{\"colorbar\":{\"outlinewidth\":0,\"ticks\":\"\"}},\"type\":\"scatterpolargl\"}],\"scatterpolar\":[{\"marker\":{\"colorbar\":{\"outlinewidth\":0,\"ticks\":\"\"}},\"type\":\"scatterpolar\"}],\"scatter\":[{\"fillpattern\":{\"fillmode\":\"overlay\",\"size\":10,\"solidity\":0.2},\"type\":\"scatter\"}],\"scatterternary\":[{\"marker\":{\"colorbar\":{\"outlinewidth\":0,\"ticks\":\"\"}},\"type\":\"scatterternary\"}],\"surface\":[{\"colorbar\":{\"outlinewidth\":0,\"ticks\":\"\"},\"colorscale\":[[0.0,\"#0d0887\"],[0.1111111111111111,\"#46039f\"],[0.2222222222222222,\"#7201a8\"],[0.3333333333333333,\"#9c179e\"],[0.4444444444444444,\"#bd3786\"],[0.5555555555555556,\"#d8576b\"],[0.6666666666666666,\"#ed7953\"],[0.7777777777777778,\"#fb9f3a\"],[0.8888888888888888,\"#fdca26\"],[1.0,\"#f0f921\"]],\"type\":\"surface\"}],\"table\":[{\"cells\":{\"fill\":{\"color\":\"#EBF0F8\"},\"line\":{\"color\":\"white\"}},\"header\":{\"fill\":{\"color\":\"#C8D4E3\"},\"line\":{\"color\":\"white\"}},\"type\":\"table\"}]},\"layout\":{\"annotationdefaults\":{\"arrowcolor\":\"#2a3f5f\",\"arrowhead\":0,\"arrowwidth\":1},\"autotypenumbers\":\"strict\",\"coloraxis\":{\"colorbar\":{\"outlinewidth\":0,\"ticks\":\"\"}},\"colorscale\":{\"diverging\":[[0,\"#8e0152\"],[0.1,\"#c51b7d\"],[0.2,\"#de77ae\"],[0.3,\"#f1b6da\"],[0.4,\"#fde0ef\"],[0.5,\"#f7f7f7\"],[0.6,\"#e6f5d0\"],[0.7,\"#b8e186\"],[0.8,\"#7fbc41\"],[0.9,\"#4d9221\"],[1,\"#276419\"]],\"sequential\":[[0.0,\"#0d0887\"],[0.1111111111111111,\"#46039f\"],[0.2222222222222222,\"#7201a8\"],[0.3333333333333333,\"#9c179e\"],[0.4444444444444444,\"#bd3786\"],[0.5555555555555556,\"#d8576b\"],[0.6666666666666666,\"#ed7953\"],[0.7777777777777778,\"#fb9f3a\"],[0.8888888888888888,\"#fdca26\"],[1.0,\"#f0f921\"]],\"sequentialminus\":[[0.0,\"#0d0887\"],[0.1111111111111111,\"#46039f\"],[0.2222222222222222,\"#7201a8\"],[0.3333333333333333,\"#9c179e\"],[0.4444444444444444,\"#bd3786\"],[0.5555555555555556,\"#d8576b\"],[0.6666666666666666,\"#ed7953\"],[0.7777777777777778,\"#fb9f3a\"],[0.8888888888888888,\"#fdca26\"],[1.0,\"#f0f921\"]]},\"colorway\":[\"#636efa\",\"#EF553B\",\"#00cc96\",\"#ab63fa\",\"#FFA15A\",\"#19d3f3\",\"#FF6692\",\"#B6E880\",\"#FF97FF\",\"#FECB52\"],\"font\":{\"color\":\"#2a3f5f\"},\"geo\":{\"bgcolor\":\"white\",\"lakecolor\":\"white\",\"landcolor\":\"#E5ECF6\",\"showlakes\":true,\"showland\":true,\"subunitcolor\":\"white\"},\"hoverlabel\":{\"align\":\"left\"},\"hovermode\":\"closest\",\"mapbox\":{\"style\":\"light\"},\"paper_bgcolor\":\"white\",\"plot_bgcolor\":\"#E5ECF6\",\"polar\":{\"angularaxis\":{\"gridcolor\":\"white\",\"linecolor\":\"white\",\"ticks\":\"\"},\"bgcolor\":\"#E5ECF6\",\"radialaxis\":{\"gridcolor\":\"white\",\"linecolor\":\"white\",\"ticks\":\"\"}},\"scene\":{\"xaxis\":{\"backgroundcolor\":\"#E5ECF6\",\"gridcolor\":\"white\",\"gridwidth\":2,\"linecolor\":\"white\",\"showbackground\":true,\"ticks\":\"\",\"zerolinecolor\":\"white\"},\"yaxis\":{\"backgroundcolor\":\"#E5ECF6\",\"gridcolor\":\"white\",\"gridwidth\":2,\"linecolor\":\"white\",\"showbackground\":true,\"ticks\":\"\",\"zerolinecolor\":\"white\"},\"zaxis\":{\"backgroundcolor\":\"#E5ECF6\",\"gridcolor\":\"white\",\"gridwidth\":2,\"linecolor\":\"white\",\"showbackground\":true,\"ticks\":\"\",\"zerolinecolor\":\"white\"}},\"shapedefaults\":{\"line\":{\"color\":\"#2a3f5f\"}},\"ternary\":{\"aaxis\":{\"gridcolor\":\"white\",\"linecolor\":\"white\",\"ticks\":\"\"},\"baxis\":{\"gridcolor\":\"white\",\"linecolor\":\"white\",\"ticks\":\"\"},\"bgcolor\":\"#E5ECF6\",\"caxis\":{\"gridcolor\":\"white\",\"linecolor\":\"white\",\"ticks\":\"\"}},\"title\":{\"x\":0.05},\"xaxis\":{\"automargin\":true,\"gridcolor\":\"white\",\"linecolor\":\"white\",\"ticks\":\"\",\"title\":{\"standoff\":15},\"zerolinecolor\":\"white\",\"zerolinewidth\":2},\"yaxis\":{\"automargin\":true,\"gridcolor\":\"white\",\"linecolor\":\"white\",\"ticks\":\"\",\"title\":{\"standoff\":15},\"zerolinecolor\":\"white\",\"zerolinewidth\":2}}},\"title\":{\"font\":{\"color\":\"#4D5663\"}},\"xaxis\":{\"gridcolor\":\"#E1E5ED\",\"showgrid\":true,\"tickfont\":{\"color\":\"#4D5663\"},\"title\":{\"font\":{\"color\":\"#4D5663\"},\"text\":\"Number of Invoice\"},\"zerolinecolor\":\"#E1E5ED\"},\"yaxis\":{\"gridcolor\":\"#E1E5ED\",\"showgrid\":true,\"tickfont\":{\"color\":\"#4D5663\"},\"title\":{\"font\":{\"color\":\"#4D5663\"},\"text\":\"Numer of costumer\"},\"zerolinecolor\":\"#E1E5ED\"}},                        {\"showLink\": true, \"linkText\": \"Export to plot.ly\", \"plotlyServerURL\": \"https://plot.ly\", \"responsive\": true}                    ).then(function(){\n",
       "                            \n",
       "var gd = document.getElementById('650bc5f7-4cf9-4028-939c-a06b05bd9eec');\n",
       "var x = new MutationObserver(function (mutations, observer) {{\n",
       "        var display = window.getComputedStyle(gd).display;\n",
       "        if (!display || display === 'none') {{\n",
       "            console.log([gd, 'removed!']);\n",
       "            Plotly.purge(gd);\n",
       "            observer.disconnect();\n",
       "        }}\n",
       "}});\n",
       "\n",
       "// Listen for the removal of the full notebook cells\n",
       "var notebookContainer = gd.closest('#notebook-container');\n",
       "if (notebookContainer) {{\n",
       "    x.observe(notebookContainer, {childList: true});\n",
       "}}\n",
       "\n",
       "// Listen for the clearing of the current output cell\n",
       "var outputEl = gd.closest('.output');\n",
       "if (outputEl) {{\n",
       "    x.observe(outputEl, {childList: true});\n",
       "}}\n",
       "\n",
       "                        })                };                });            </script>        </div>"
      ]
     },
     "metadata": {},
     "output_type": "display_data"
    }
   ],
   "source": [
    "data=a[['InvoiceNo', 'Description', 'CustomerID']]\n",
    "\n",
    "data=data.groupby('CustomerID').count()\n",
    "data['InvoiceNo']\n",
    "\n",
    "data.reset_index(inplace=True)\n",
    "\n",
    "data.iplot(x='InvoiceNo', y='CustomerID', \n",
    "           xTitle='Number of Invoice', yTitle='Numer of costumer',\n",
    "           color='blue')"
   ]
  },
  {
   "cell_type": "code",
   "execution_count": null,
   "metadata": {},
   "outputs": [],
   "source": []
  },
  {
   "cell_type": "code",
   "execution_count": null,
   "metadata": {},
   "outputs": [],
   "source": []
  },
  {
   "cell_type": "markdown",
   "metadata": {},
   "source": [
    "## 8. Creat an interactive bar chart that shows revenue by product description. Add a text field widget that filters the results to show the product that contain the text entered in their description."
   ]
  },
  {
   "cell_type": "code",
   "execution_count": null,
   "metadata": {},
   "outputs": [],
   "source": [
    "\n"
   ]
  },
  {
   "cell_type": "code",
   "execution_count": null,
   "metadata": {},
   "outputs": [],
   "source": []
  }
 ],
 "metadata": {
  "kernelspec": {
   "display_name": "base",
   "language": "python",
   "name": "python3"
  },
  "language_info": {
   "codemirror_mode": {
    "name": "ipython",
    "version": 3
   },
   "file_extension": ".py",
   "mimetype": "text/x-python",
   "name": "python",
   "nbconvert_exporter": "python",
   "pygments_lexer": "ipython3",
   "version": "3.9.13"
  },
  "vscode": {
   "interpreter": {
    "hash": "0d25c6841c13b43e6c2d09f1288701674cd83386a6b31b0980317526c0cec0b9"
   }
  }
 },
 "nbformat": 4,
 "nbformat_minor": 2
}
