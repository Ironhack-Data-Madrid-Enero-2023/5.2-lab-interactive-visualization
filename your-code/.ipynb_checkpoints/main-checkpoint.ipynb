{
 "cells": [
  {
   "cell_type": "markdown",
   "metadata": {},
   "source": [
    "# Interactive Visualization Lab\n",
    "\n",
    "Complete the following set of exercises to solidify your knowledge of interactive visualization using Plotly, Cufflinks, and IPyWidgets."
   ]
  },
  {
   "cell_type": "code",
   "execution_count": 6,
   "metadata": {},
   "outputs": [
    {
     "name": "stdout",
     "output_type": "stream",
     "text": [
      "Requirement already satisfied: chart-studio in /home/usuario/anaconda3/lib/python3.9/site-packages (1.1.0)\n",
      "Requirement already satisfied: plotly in /home/usuario/anaconda3/lib/python3.9/site-packages (from chart-studio) (5.9.0)\n",
      "Requirement already satisfied: six in /home/usuario/anaconda3/lib/python3.9/site-packages (from chart-studio) (1.16.0)\n",
      "Requirement already satisfied: requests in /home/usuario/anaconda3/lib/python3.9/site-packages (from chart-studio) (2.28.1)\n",
      "Requirement already satisfied: retrying>=1.3.3 in /home/usuario/anaconda3/lib/python3.9/site-packages (from chart-studio) (1.3.4)\n",
      "Requirement already satisfied: tenacity>=6.2.0 in /home/usuario/anaconda3/lib/python3.9/site-packages (from plotly->chart-studio) (8.0.1)\n",
      "Requirement already satisfied: charset-normalizer<3,>=2 in /home/usuario/anaconda3/lib/python3.9/site-packages (from requests->chart-studio) (2.0.4)\n",
      "Requirement already satisfied: urllib3<1.27,>=1.21.1 in /home/usuario/anaconda3/lib/python3.9/site-packages (from requests->chart-studio) (1.26.11)\n",
      "Requirement already satisfied: certifi>=2017.4.17 in /home/usuario/anaconda3/lib/python3.9/site-packages (from requests->chart-studio) (2022.9.14)\n",
      "Requirement already satisfied: idna<4,>=2.5 in /home/usuario/anaconda3/lib/python3.9/site-packages (from requests->chart-studio) (3.3)\n",
      "Note: you may need to restart the kernel to use updated packages.\n",
      "Requirement already satisfied: cufflinks in /home/usuario/anaconda3/lib/python3.9/site-packages (0.17.3)\n",
      "Requirement already satisfied: colorlover>=0.2.1 in /home/usuario/anaconda3/lib/python3.9/site-packages (from cufflinks) (0.3.0)\n",
      "Requirement already satisfied: ipython>=5.3.0 in /home/usuario/anaconda3/lib/python3.9/site-packages (from cufflinks) (7.31.1)\n",
      "Requirement already satisfied: plotly>=4.1.1 in /home/usuario/anaconda3/lib/python3.9/site-packages (from cufflinks) (5.9.0)\n",
      "Requirement already satisfied: ipywidgets>=7.0.0 in /home/usuario/anaconda3/lib/python3.9/site-packages (from cufflinks) (7.6.5)\n",
      "Requirement already satisfied: setuptools>=34.4.1 in /home/usuario/anaconda3/lib/python3.9/site-packages (from cufflinks) (63.4.1)\n",
      "Requirement already satisfied: pandas>=0.19.2 in /home/usuario/anaconda3/lib/python3.9/site-packages (from cufflinks) (1.4.4)\n",
      "Requirement already satisfied: numpy>=1.9.2 in /home/usuario/anaconda3/lib/python3.9/site-packages (from cufflinks) (1.24.2)\n",
      "Requirement already satisfied: six>=1.9.0 in /home/usuario/anaconda3/lib/python3.9/site-packages (from cufflinks) (1.16.0)\n",
      "Requirement already satisfied: pygments in /home/usuario/anaconda3/lib/python3.9/site-packages (from ipython>=5.3.0->cufflinks) (2.11.2)\n",
      "Requirement already satisfied: backcall in /home/usuario/anaconda3/lib/python3.9/site-packages (from ipython>=5.3.0->cufflinks) (0.2.0)\n",
      "Requirement already satisfied: jedi>=0.16 in /home/usuario/anaconda3/lib/python3.9/site-packages (from ipython>=5.3.0->cufflinks) (0.18.1)\n",
      "Requirement already satisfied: prompt-toolkit!=3.0.0,!=3.0.1,<3.1.0,>=2.0.0 in /home/usuario/anaconda3/lib/python3.9/site-packages (from ipython>=5.3.0->cufflinks) (3.0.20)\n",
      "Requirement already satisfied: decorator in /home/usuario/anaconda3/lib/python3.9/site-packages (from ipython>=5.3.0->cufflinks) (5.1.1)\n",
      "Requirement already satisfied: matplotlib-inline in /home/usuario/anaconda3/lib/python3.9/site-packages (from ipython>=5.3.0->cufflinks) (0.1.6)\n",
      "Requirement already satisfied: traitlets>=4.2 in /home/usuario/anaconda3/lib/python3.9/site-packages (from ipython>=5.3.0->cufflinks) (5.1.1)\n",
      "Requirement already satisfied: pickleshare in /home/usuario/anaconda3/lib/python3.9/site-packages (from ipython>=5.3.0->cufflinks) (0.7.5)\n",
      "Requirement already satisfied: pexpect>4.3 in /home/usuario/anaconda3/lib/python3.9/site-packages (from ipython>=5.3.0->cufflinks) (4.8.0)\n",
      "Requirement already satisfied: widgetsnbextension~=3.5.0 in /home/usuario/anaconda3/lib/python3.9/site-packages (from ipywidgets>=7.0.0->cufflinks) (3.5.2)\n",
      "Requirement already satisfied: nbformat>=4.2.0 in /home/usuario/anaconda3/lib/python3.9/site-packages (from ipywidgets>=7.0.0->cufflinks) (5.5.0)\n",
      "Requirement already satisfied: ipykernel>=4.5.1 in /home/usuario/anaconda3/lib/python3.9/site-packages (from ipywidgets>=7.0.0->cufflinks) (6.15.2)\n",
      "Requirement already satisfied: ipython-genutils~=0.2.0 in /home/usuario/anaconda3/lib/python3.9/site-packages (from ipywidgets>=7.0.0->cufflinks) (0.2.0)\n",
      "Requirement already satisfied: jupyterlab-widgets>=1.0.0 in /home/usuario/anaconda3/lib/python3.9/site-packages (from ipywidgets>=7.0.0->cufflinks) (1.0.0)\n",
      "Requirement already satisfied: python-dateutil>=2.8.1 in /home/usuario/anaconda3/lib/python3.9/site-packages (from pandas>=0.19.2->cufflinks) (2.8.2)\n",
      "Requirement already satisfied: pytz>=2020.1 in /home/usuario/anaconda3/lib/python3.9/site-packages (from pandas>=0.19.2->cufflinks) (2022.1)\n",
      "Requirement already satisfied: tenacity>=6.2.0 in /home/usuario/anaconda3/lib/python3.9/site-packages (from plotly>=4.1.1->cufflinks) (8.0.1)\n",
      "Requirement already satisfied: jupyter-client>=6.1.12 in /home/usuario/anaconda3/lib/python3.9/site-packages (from ipykernel>=4.5.1->ipywidgets>=7.0.0->cufflinks) (7.3.4)\n",
      "Requirement already satisfied: nest-asyncio in /home/usuario/anaconda3/lib/python3.9/site-packages (from ipykernel>=4.5.1->ipywidgets>=7.0.0->cufflinks) (1.5.5)\n",
      "Requirement already satisfied: debugpy>=1.0 in /home/usuario/anaconda3/lib/python3.9/site-packages (from ipykernel>=4.5.1->ipywidgets>=7.0.0->cufflinks) (1.5.1)\n",
      "Requirement already satisfied: tornado>=6.1 in /home/usuario/anaconda3/lib/python3.9/site-packages (from ipykernel>=4.5.1->ipywidgets>=7.0.0->cufflinks) (6.1)\n",
      "Requirement already satisfied: packaging in /home/usuario/anaconda3/lib/python3.9/site-packages (from ipykernel>=4.5.1->ipywidgets>=7.0.0->cufflinks) (21.3)\n",
      "Requirement already satisfied: psutil in /home/usuario/anaconda3/lib/python3.9/site-packages (from ipykernel>=4.5.1->ipywidgets>=7.0.0->cufflinks) (5.9.0)\n",
      "Requirement already satisfied: pyzmq>=17 in /home/usuario/anaconda3/lib/python3.9/site-packages (from ipykernel>=4.5.1->ipywidgets>=7.0.0->cufflinks) (23.2.0)\n",
      "Requirement already satisfied: parso<0.9.0,>=0.8.0 in /home/usuario/anaconda3/lib/python3.9/site-packages (from jedi>=0.16->ipython>=5.3.0->cufflinks) (0.8.3)\n",
      "Requirement already satisfied: fastjsonschema in /home/usuario/anaconda3/lib/python3.9/site-packages (from nbformat>=4.2.0->ipywidgets>=7.0.0->cufflinks) (2.16.2)\n",
      "Requirement already satisfied: jsonschema>=2.6 in /home/usuario/anaconda3/lib/python3.9/site-packages (from nbformat>=4.2.0->ipywidgets>=7.0.0->cufflinks) (4.16.0)\n",
      "Requirement already satisfied: jupyter_core in /home/usuario/anaconda3/lib/python3.9/site-packages (from nbformat>=4.2.0->ipywidgets>=7.0.0->cufflinks) (4.11.1)\n",
      "Requirement already satisfied: ptyprocess>=0.5 in /home/usuario/anaconda3/lib/python3.9/site-packages (from pexpect>4.3->ipython>=5.3.0->cufflinks) (0.7.0)\n",
      "Requirement already satisfied: wcwidth in /home/usuario/anaconda3/lib/python3.9/site-packages (from prompt-toolkit!=3.0.0,!=3.0.1,<3.1.0,>=2.0.0->ipython>=5.3.0->cufflinks) (0.2.5)\n",
      "Requirement already satisfied: notebook>=4.4.1 in /home/usuario/anaconda3/lib/python3.9/site-packages (from widgetsnbextension~=3.5.0->ipywidgets>=7.0.0->cufflinks) (6.4.12)\n",
      "Requirement already satisfied: attrs>=17.4.0 in /home/usuario/anaconda3/lib/python3.9/site-packages (from jsonschema>=2.6->nbformat>=4.2.0->ipywidgets>=7.0.0->cufflinks) (21.4.0)\n",
      "Requirement already satisfied: pyrsistent!=0.17.0,!=0.17.1,!=0.17.2,>=0.14.0 in /home/usuario/anaconda3/lib/python3.9/site-packages (from jsonschema>=2.6->nbformat>=4.2.0->ipywidgets>=7.0.0->cufflinks) (0.18.0)\n",
      "Requirement already satisfied: entrypoints in /home/usuario/anaconda3/lib/python3.9/site-packages (from jupyter-client>=6.1.12->ipykernel>=4.5.1->ipywidgets>=7.0.0->cufflinks) (0.4)\n",
      "Requirement already satisfied: Send2Trash>=1.8.0 in /home/usuario/anaconda3/lib/python3.9/site-packages (from notebook>=4.4.1->widgetsnbextension~=3.5.0->ipywidgets>=7.0.0->cufflinks) (1.8.0)\n",
      "Requirement already satisfied: prometheus-client in /home/usuario/anaconda3/lib/python3.9/site-packages (from notebook>=4.4.1->widgetsnbextension~=3.5.0->ipywidgets>=7.0.0->cufflinks) (0.14.1)\n",
      "Requirement already satisfied: jinja2 in /home/usuario/anaconda3/lib/python3.9/site-packages (from notebook>=4.4.1->widgetsnbextension~=3.5.0->ipywidgets>=7.0.0->cufflinks) (2.11.3)\n",
      "Requirement already satisfied: argon2-cffi in /home/usuario/anaconda3/lib/python3.9/site-packages (from notebook>=4.4.1->widgetsnbextension~=3.5.0->ipywidgets>=7.0.0->cufflinks) (21.3.0)\n",
      "Requirement already satisfied: nbconvert>=5 in /home/usuario/anaconda3/lib/python3.9/site-packages (from notebook>=4.4.1->widgetsnbextension~=3.5.0->ipywidgets>=7.0.0->cufflinks) (6.4.4)\n",
      "Requirement already satisfied: terminado>=0.8.3 in /home/usuario/anaconda3/lib/python3.9/site-packages (from notebook>=4.4.1->widgetsnbextension~=3.5.0->ipywidgets>=7.0.0->cufflinks) (0.13.1)\n"
     ]
    },
    {
     "name": "stdout",
     "output_type": "stream",
     "text": [
      "Requirement already satisfied: pyparsing!=3.0.5,>=2.0.2 in /home/usuario/anaconda3/lib/python3.9/site-packages (from packaging->ipykernel>=4.5.1->ipywidgets>=7.0.0->cufflinks) (3.0.9)\n",
      "Requirement already satisfied: mistune<2,>=0.8.1 in /home/usuario/anaconda3/lib/python3.9/site-packages (from nbconvert>=5->notebook>=4.4.1->widgetsnbextension~=3.5.0->ipywidgets>=7.0.0->cufflinks) (0.8.4)\n",
      "Requirement already satisfied: bleach in /home/usuario/anaconda3/lib/python3.9/site-packages (from nbconvert>=5->notebook>=4.4.1->widgetsnbextension~=3.5.0->ipywidgets>=7.0.0->cufflinks) (4.1.0)\n",
      "Requirement already satisfied: jupyterlab-pygments in /home/usuario/anaconda3/lib/python3.9/site-packages (from nbconvert>=5->notebook>=4.4.1->widgetsnbextension~=3.5.0->ipywidgets>=7.0.0->cufflinks) (0.1.2)\n",
      "Requirement already satisfied: pandocfilters>=1.4.1 in /home/usuario/anaconda3/lib/python3.9/site-packages (from nbconvert>=5->notebook>=4.4.1->widgetsnbextension~=3.5.0->ipywidgets>=7.0.0->cufflinks) (1.5.0)\n",
      "Requirement already satisfied: nbclient<0.6.0,>=0.5.0 in /home/usuario/anaconda3/lib/python3.9/site-packages (from nbconvert>=5->notebook>=4.4.1->widgetsnbextension~=3.5.0->ipywidgets>=7.0.0->cufflinks) (0.5.13)\n",
      "Requirement already satisfied: testpath in /home/usuario/anaconda3/lib/python3.9/site-packages (from nbconvert>=5->notebook>=4.4.1->widgetsnbextension~=3.5.0->ipywidgets>=7.0.0->cufflinks) (0.6.0)\n",
      "Requirement already satisfied: defusedxml in /home/usuario/anaconda3/lib/python3.9/site-packages (from nbconvert>=5->notebook>=4.4.1->widgetsnbextension~=3.5.0->ipywidgets>=7.0.0->cufflinks) (0.7.1)\n",
      "Requirement already satisfied: beautifulsoup4 in /home/usuario/anaconda3/lib/python3.9/site-packages (from nbconvert>=5->notebook>=4.4.1->widgetsnbextension~=3.5.0->ipywidgets>=7.0.0->cufflinks) (4.11.1)\n",
      "Requirement already satisfied: MarkupSafe>=0.23 in /home/usuario/anaconda3/lib/python3.9/site-packages (from jinja2->notebook>=4.4.1->widgetsnbextension~=3.5.0->ipywidgets>=7.0.0->cufflinks) (2.0.1)\n",
      "Requirement already satisfied: argon2-cffi-bindings in /home/usuario/anaconda3/lib/python3.9/site-packages (from argon2-cffi->notebook>=4.4.1->widgetsnbextension~=3.5.0->ipywidgets>=7.0.0->cufflinks) (21.2.0)\n",
      "Requirement already satisfied: cffi>=1.0.1 in /home/usuario/anaconda3/lib/python3.9/site-packages (from argon2-cffi-bindings->argon2-cffi->notebook>=4.4.1->widgetsnbextension~=3.5.0->ipywidgets>=7.0.0->cufflinks) (1.15.1)\n",
      "Requirement already satisfied: soupsieve>1.2 in /home/usuario/anaconda3/lib/python3.9/site-packages (from beautifulsoup4->nbconvert>=5->notebook>=4.4.1->widgetsnbextension~=3.5.0->ipywidgets>=7.0.0->cufflinks) (2.3.1)\n",
      "Requirement already satisfied: webencodings in /home/usuario/anaconda3/lib/python3.9/site-packages (from bleach->nbconvert>=5->notebook>=4.4.1->widgetsnbextension~=3.5.0->ipywidgets>=7.0.0->cufflinks) (0.5.1)\n",
      "Requirement already satisfied: pycparser in /home/usuario/anaconda3/lib/python3.9/site-packages (from cffi>=1.0.1->argon2-cffi-bindings->argon2-cffi->notebook>=4.4.1->widgetsnbextension~=3.5.0->ipywidgets>=7.0.0->cufflinks) (2.21)\n",
      "Note: you may need to restart the kernel to use updated packages.\n"
     ]
    },
    {
     "data": {
      "text/html": [
       "        <script type=\"text/javascript\">\n",
       "        window.PlotlyConfig = {MathJaxConfig: 'local'};\n",
       "        if (window.MathJax && window.MathJax.Hub && window.MathJax.Hub.Config) {window.MathJax.Hub.Config({SVG: {font: \"STIX-Web\"}});}\n",
       "        if (typeof require !== 'undefined') {\n",
       "        require.undef(\"plotly\");\n",
       "        requirejs.config({\n",
       "            paths: {\n",
       "                'plotly': ['https://cdn.plot.ly/plotly-2.12.1.min']\n",
       "            }\n",
       "        });\n",
       "        require(['plotly'], function(Plotly) {\n",
       "            window._Plotly = Plotly;\n",
       "        });\n",
       "        }\n",
       "        </script>\n",
       "        "
      ]
     },
     "metadata": {},
     "output_type": "display_data"
    }
   ],
   "source": [
    "%pip install chart-studio\n",
    "%pip install cufflinks\n",
    "%matplotlib inline\n",
    "import pandas as pd\n",
    "import chart_studio.plotly as py\n",
    "import cufflinks as cf\n",
    "from ipywidgets import interact\n",
    "\n",
    "cf.go_offline()"
   ]
  },
  {
   "cell_type": "code",
   "execution_count": 7,
   "metadata": {},
   "outputs": [],
   "source": [
    "import pandas as pd\n",
    "import numpy as np"
   ]
  },
  {
   "cell_type": "code",
   "execution_count": null,
   "metadata": {},
   "outputs": [],
   "source": []
  },
  {
   "cell_type": "code",
   "execution_count": null,
   "metadata": {},
   "outputs": [],
   "source": []
  },
  {
   "cell_type": "markdown",
   "metadata": {},
   "source": [
    "## 1. Create an interactive bar chart showing total quantity and revenue by country (excluding United Kingdom) for the month of April 2011."
   ]
  },
  {
   "cell_type": "code",
   "execution_count": 29,
   "metadata": {},
   "outputs": [
    {
     "data": {
      "text/plain": [
       "0        2010-12-01 08:26:00\n",
       "1        2010-12-01 09:02:00\n",
       "2        2010-12-01 09:32:00\n",
       "3        2010-12-01 10:19:00\n",
       "4        2010-12-01 10:39:00\n",
       "                 ...        \n",
       "396029   2011-12-05 15:48:00\n",
       "396030   2011-12-05 15:48:00\n",
       "396031   2011-12-06 11:58:00\n",
       "396032   2011-12-06 11:58:00\n",
       "396033   2011-12-08 15:31:00\n",
       "Name: InvoiceDate, Length: 396034, dtype: datetime64[ns]"
      ]
     },
     "execution_count": 29,
     "metadata": {},
     "output_type": "execute_result"
    }
   ],
   "source": [
    "df=pd.read_excel('../data/Online Retail.xlsx')\n",
    "\n",
    "df.InvoiceDate"
   ]
  },
  {
   "cell_type": "code",
   "execution_count": 30,
   "metadata": {},
   "outputs": [
    {
     "data": {
      "text/plain": [
       "0        2010-12-01 08:26:00\n",
       "1        2010-12-01 09:02:00\n",
       "2        2010-12-01 09:32:00\n",
       "3        2010-12-01 10:19:00\n",
       "4        2010-12-01 10:39:00\n",
       "                 ...        \n",
       "396029   2011-12-05 15:48:00\n",
       "396030   2011-12-05 15:48:00\n",
       "396031   2011-12-06 11:58:00\n",
       "396032   2011-12-06 11:58:00\n",
       "396033   2011-12-08 15:31:00\n",
       "Name: InvoiceDate, Length: 396034, dtype: datetime64[ns]"
      ]
     },
     "execution_count": 30,
     "metadata": {},
     "output_type": "execute_result"
    }
   ],
   "source": [
    "df['InvoiceDate']"
   ]
  },
  {
   "cell_type": "code",
   "execution_count": 31,
   "metadata": {},
   "outputs": [
    {
     "data": {
      "text/html": [
       "<div>\n",
       "<style scoped>\n",
       "    .dataframe tbody tr th:only-of-type {\n",
       "        vertical-align: middle;\n",
       "    }\n",
       "\n",
       "    .dataframe tbody tr th {\n",
       "        vertical-align: top;\n",
       "    }\n",
       "\n",
       "    .dataframe thead th {\n",
       "        text-align: right;\n",
       "    }\n",
       "</style>\n",
       "<table border=\"1\" class=\"dataframe\">\n",
       "  <thead>\n",
       "    <tr style=\"text-align: right;\">\n",
       "      <th></th>\n",
       "      <th>InvoiceNo</th>\n",
       "      <th>InvoiceDate</th>\n",
       "      <th>StockCode</th>\n",
       "      <th>Description</th>\n",
       "      <th>Quantity</th>\n",
       "      <th>UnitPrice</th>\n",
       "      <th>Revenue</th>\n",
       "      <th>CustomerID</th>\n",
       "      <th>Country</th>\n",
       "    </tr>\n",
       "  </thead>\n",
       "  <tbody>\n",
       "    <tr>\n",
       "      <th>724</th>\n",
       "      <td>549667</td>\n",
       "      <td>2011-04-11 12:20:00</td>\n",
       "      <td>85123A</td>\n",
       "      <td>CREAM HANGING HEART T-LIGHT HOLDER</td>\n",
       "      <td>6</td>\n",
       "      <td>2.95</td>\n",
       "      <td>17.70</td>\n",
       "      <td>14911</td>\n",
       "      <td>EIRE</td>\n",
       "    </tr>\n",
       "    <tr>\n",
       "      <th>807</th>\n",
       "      <td>551163</td>\n",
       "      <td>2011-04-26 15:52:00</td>\n",
       "      <td>85123A</td>\n",
       "      <td>CREAM HANGING HEART T-LIGHT HOLDER</td>\n",
       "      <td>9</td>\n",
       "      <td>2.95</td>\n",
       "      <td>26.55</td>\n",
       "      <td>12573</td>\n",
       "      <td>France</td>\n",
       "    </tr>\n",
       "    <tr>\n",
       "      <th>3320</th>\n",
       "      <td>550899</td>\n",
       "      <td>2011-04-21 12:07:00</td>\n",
       "      <td>22752</td>\n",
       "      <td>SET 7 BABUSHKA NESTING BOXES</td>\n",
       "      <td>2</td>\n",
       "      <td>8.50</td>\n",
       "      <td>17.00</td>\n",
       "      <td>13505</td>\n",
       "      <td>Switzerland</td>\n",
       "    </tr>\n",
       "    <tr>\n",
       "      <th>4880</th>\n",
       "      <td>550527</td>\n",
       "      <td>2011-04-19 10:48:00</td>\n",
       "      <td>84879</td>\n",
       "      <td>ASSORTED COLOUR BIRD ORNAMENT</td>\n",
       "      <td>40</td>\n",
       "      <td>1.69</td>\n",
       "      <td>67.60</td>\n",
       "      <td>12476</td>\n",
       "      <td>Germany</td>\n",
       "    </tr>\n",
       "    <tr>\n",
       "      <th>4882</th>\n",
       "      <td>550620</td>\n",
       "      <td>2011-04-19 13:39:00</td>\n",
       "      <td>84879</td>\n",
       "      <td>ASSORTED COLOUR BIRD ORNAMENT</td>\n",
       "      <td>32</td>\n",
       "      <td>1.69</td>\n",
       "      <td>54.08</td>\n",
       "      <td>12585</td>\n",
       "      <td>Germany</td>\n",
       "    </tr>\n",
       "  </tbody>\n",
       "</table>\n",
       "</div>"
      ],
      "text/plain": [
       "      InvoiceNo         InvoiceDate StockCode  \\\n",
       "724      549667 2011-04-11 12:20:00    85123A   \n",
       "807      551163 2011-04-26 15:52:00    85123A   \n",
       "3320     550899 2011-04-21 12:07:00     22752   \n",
       "4880     550527 2011-04-19 10:48:00     84879   \n",
       "4882     550620 2011-04-19 13:39:00     84879   \n",
       "\n",
       "                             Description  Quantity  UnitPrice  Revenue  \\\n",
       "724   CREAM HANGING HEART T-LIGHT HOLDER         6       2.95    17.70   \n",
       "807   CREAM HANGING HEART T-LIGHT HOLDER         9       2.95    26.55   \n",
       "3320        SET 7 BABUSHKA NESTING BOXES         2       8.50    17.00   \n",
       "4880       ASSORTED COLOUR BIRD ORNAMENT        40       1.69    67.60   \n",
       "4882       ASSORTED COLOUR BIRD ORNAMENT        32       1.69    54.08   \n",
       "\n",
       "      CustomerID      Country  \n",
       "724        14911         EIRE  \n",
       "807        12573       France  \n",
       "3320       13505  Switzerland  \n",
       "4880       12476      Germany  \n",
       "4882       12585      Germany  "
      ]
     },
     "execution_count": 31,
     "metadata": {},
     "output_type": "execute_result"
    }
   ],
   "source": [
    "data=df[df.Country!='United Kingdom']\n",
    "\n",
    "data=data.loc[(data.InvoiceDate >= '2011-4-1') & (data.InvoiceDate <= '2011-4-30')]\n",
    "\n",
    "data.head()"
   ]
  },
  {
   "cell_type": "code",
   "execution_count": 32,
   "metadata": {},
   "outputs": [
    {
     "data": {
      "text/html": [
       "<div>\n",
       "<style scoped>\n",
       "    .dataframe tbody tr th:only-of-type {\n",
       "        vertical-align: middle;\n",
       "    }\n",
       "\n",
       "    .dataframe tbody tr th {\n",
       "        vertical-align: top;\n",
       "    }\n",
       "\n",
       "    .dataframe thead th {\n",
       "        text-align: right;\n",
       "    }\n",
       "</style>\n",
       "<table border=\"1\" class=\"dataframe\">\n",
       "  <thead>\n",
       "    <tr style=\"text-align: right;\">\n",
       "      <th></th>\n",
       "      <th>Quantity</th>\n",
       "      <th>Revenue</th>\n",
       "    </tr>\n",
       "    <tr>\n",
       "      <th>Country</th>\n",
       "      <th></th>\n",
       "      <th></th>\n",
       "    </tr>\n",
       "  </thead>\n",
       "  <tbody>\n",
       "    <tr>\n",
       "      <th>Australia</th>\n",
       "      <td>224</td>\n",
       "      <td>421.60</td>\n",
       "    </tr>\n",
       "    <tr>\n",
       "      <th>Austria</th>\n",
       "      <td>308</td>\n",
       "      <td>584.78</td>\n",
       "    </tr>\n",
       "    <tr>\n",
       "      <th>Belgium</th>\n",
       "      <td>1170</td>\n",
       "      <td>1788.48</td>\n",
       "    </tr>\n",
       "    <tr>\n",
       "      <th>Brazil</th>\n",
       "      <td>356</td>\n",
       "      <td>1143.60</td>\n",
       "    </tr>\n",
       "    <tr>\n",
       "      <th>Channel Islands</th>\n",
       "      <td>96</td>\n",
       "      <td>243.00</td>\n",
       "    </tr>\n",
       "    <tr>\n",
       "      <th>EIRE</th>\n",
       "      <td>4129</td>\n",
       "      <td>7270.50</td>\n",
       "    </tr>\n",
       "    <tr>\n",
       "      <th>Finland</th>\n",
       "      <td>810</td>\n",
       "      <td>1368.92</td>\n",
       "    </tr>\n",
       "    <tr>\n",
       "      <th>France</th>\n",
       "      <td>2265</td>\n",
       "      <td>3899.31</td>\n",
       "    </tr>\n",
       "    <tr>\n",
       "      <th>Germany</th>\n",
       "      <td>5702</td>\n",
       "      <td>10994.79</td>\n",
       "    </tr>\n",
       "    <tr>\n",
       "      <th>Greece</th>\n",
       "      <td>260</td>\n",
       "      <td>509.74</td>\n",
       "    </tr>\n",
       "    <tr>\n",
       "      <th>Iceland</th>\n",
       "      <td>483</td>\n",
       "      <td>636.25</td>\n",
       "    </tr>\n",
       "    <tr>\n",
       "      <th>Italy</th>\n",
       "      <td>653</td>\n",
       "      <td>737.83</td>\n",
       "    </tr>\n",
       "    <tr>\n",
       "      <th>Japan</th>\n",
       "      <td>8058</td>\n",
       "      <td>6548.50</td>\n",
       "    </tr>\n",
       "    <tr>\n",
       "      <th>Netherlands</th>\n",
       "      <td>1762</td>\n",
       "      <td>2886.56</td>\n",
       "    </tr>\n",
       "    <tr>\n",
       "      <th>Poland</th>\n",
       "      <td>432</td>\n",
       "      <td>705.84</td>\n",
       "    </tr>\n",
       "    <tr>\n",
       "      <th>Portugal</th>\n",
       "      <td>951</td>\n",
       "      <td>1687.75</td>\n",
       "    </tr>\n",
       "    <tr>\n",
       "      <th>Singapore</th>\n",
       "      <td>1384</td>\n",
       "      <td>2118.74</td>\n",
       "    </tr>\n",
       "    <tr>\n",
       "      <th>Spain</th>\n",
       "      <td>948</td>\n",
       "      <td>1645.65</td>\n",
       "    </tr>\n",
       "    <tr>\n",
       "      <th>Sweden</th>\n",
       "      <td>306</td>\n",
       "      <td>649.10</td>\n",
       "    </tr>\n",
       "    <tr>\n",
       "      <th>Switzerland</th>\n",
       "      <td>878</td>\n",
       "      <td>1756.94</td>\n",
       "    </tr>\n",
       "    <tr>\n",
       "      <th>USA</th>\n",
       "      <td>137</td>\n",
       "      <td>383.95</td>\n",
       "    </tr>\n",
       "  </tbody>\n",
       "</table>\n",
       "</div>"
      ],
      "text/plain": [
       "                 Quantity   Revenue\n",
       "Country                            \n",
       "Australia             224    421.60\n",
       "Austria               308    584.78\n",
       "Belgium              1170   1788.48\n",
       "Brazil                356   1143.60\n",
       "Channel Islands        96    243.00\n",
       "EIRE                 4129   7270.50\n",
       "Finland               810   1368.92\n",
       "France               2265   3899.31\n",
       "Germany              5702  10994.79\n",
       "Greece                260    509.74\n",
       "Iceland               483    636.25\n",
       "Italy                 653    737.83\n",
       "Japan                8058   6548.50\n",
       "Netherlands          1762   2886.56\n",
       "Poland                432    705.84\n",
       "Portugal              951   1687.75\n",
       "Singapore            1384   2118.74\n",
       "Spain                 948   1645.65\n",
       "Sweden                306    649.10\n",
       "Switzerland           878   1756.94\n",
       "USA                   137    383.95"
      ]
     },
     "execution_count": 32,
     "metadata": {},
     "output_type": "execute_result"
    }
   ],
   "source": [
    "data=data.groupby('Country').sum()\n",
    "\n",
    "data=data[['Quantity', 'Revenue']]\n",
    "\n",
    "data"
   ]
  },
  {
   "cell_type": "code",
   "execution_count": 33,
   "metadata": {},
   "outputs": [
    {
     "data": {
      "application/vnd.plotly.v1+json": {
       "config": {
        "linkText": "Export to plot.ly",
        "plotlyServerURL": "https://plot.ly",
        "showLink": true
       },
       "data": [
        {
         "marker": {
          "color": "rgba(255, 153, 51, 0.6)",
          "line": {
           "color": "rgba(255, 153, 51, 1.0)",
           "width": 1
          }
         },
         "name": "Quantity",
         "orientation": "v",
         "text": "",
         "type": "bar",
         "x": [
          "Australia",
          "Austria",
          "Belgium",
          "Brazil",
          "Channel Islands",
          "EIRE",
          "Finland",
          "France",
          "Germany",
          "Greece",
          "Iceland",
          "Italy",
          "Japan",
          "Netherlands",
          "Poland",
          "Portugal",
          "Singapore",
          "Spain",
          "Sweden",
          "Switzerland",
          "USA"
         ],
         "y": [
          224,
          308,
          1170,
          356,
          96,
          4129,
          810,
          2265,
          5702,
          260,
          483,
          653,
          8058,
          1762,
          432,
          951,
          1384,
          948,
          306,
          878,
          137
         ]
        },
        {
         "marker": {
          "color": "rgba(55, 128, 191, 0.6)",
          "line": {
           "color": "rgba(55, 128, 191, 1.0)",
           "width": 1
          }
         },
         "name": "Revenue",
         "orientation": "v",
         "text": "",
         "type": "bar",
         "x": [
          "Australia",
          "Austria",
          "Belgium",
          "Brazil",
          "Channel Islands",
          "EIRE",
          "Finland",
          "France",
          "Germany",
          "Greece",
          "Iceland",
          "Italy",
          "Japan",
          "Netherlands",
          "Poland",
          "Portugal",
          "Singapore",
          "Spain",
          "Sweden",
          "Switzerland",
          "USA"
         ],
         "y": [
          421.6,
          584.78,
          1788.48,
          1143.6,
          243,
          7270.5,
          1368.92,
          3899.31,
          10994.79,
          509.74,
          636.25,
          737.83,
          6548.5,
          2886.56,
          705.8399999999999,
          1687.75,
          2118.74,
          1645.65,
          649.1,
          1756.94,
          383.95
         ]
        }
       ],
       "layout": {
        "legend": {
         "bgcolor": "#F5F6F9",
         "font": {
          "color": "#4D5663"
         }
        },
        "paper_bgcolor": "#F5F6F9",
        "plot_bgcolor": "#F5F6F9",
        "template": {
         "data": {
          "bar": [
           {
            "error_x": {
             "color": "#2a3f5f"
            },
            "error_y": {
             "color": "#2a3f5f"
            },
            "marker": {
             "line": {
              "color": "#E5ECF6",
              "width": 0.5
             },
             "pattern": {
              "fillmode": "overlay",
              "size": 10,
              "solidity": 0.2
             }
            },
            "type": "bar"
           }
          ],
          "barpolar": [
           {
            "marker": {
             "line": {
              "color": "#E5ECF6",
              "width": 0.5
             },
             "pattern": {
              "fillmode": "overlay",
              "size": 10,
              "solidity": 0.2
             }
            },
            "type": "barpolar"
           }
          ],
          "carpet": [
           {
            "aaxis": {
             "endlinecolor": "#2a3f5f",
             "gridcolor": "white",
             "linecolor": "white",
             "minorgridcolor": "white",
             "startlinecolor": "#2a3f5f"
            },
            "baxis": {
             "endlinecolor": "#2a3f5f",
             "gridcolor": "white",
             "linecolor": "white",
             "minorgridcolor": "white",
             "startlinecolor": "#2a3f5f"
            },
            "type": "carpet"
           }
          ],
          "choropleth": [
           {
            "colorbar": {
             "outlinewidth": 0,
             "ticks": ""
            },
            "type": "choropleth"
           }
          ],
          "contour": [
           {
            "colorbar": {
             "outlinewidth": 0,
             "ticks": ""
            },
            "colorscale": [
             [
              0,
              "#0d0887"
             ],
             [
              0.1111111111111111,
              "#46039f"
             ],
             [
              0.2222222222222222,
              "#7201a8"
             ],
             [
              0.3333333333333333,
              "#9c179e"
             ],
             [
              0.4444444444444444,
              "#bd3786"
             ],
             [
              0.5555555555555556,
              "#d8576b"
             ],
             [
              0.6666666666666666,
              "#ed7953"
             ],
             [
              0.7777777777777778,
              "#fb9f3a"
             ],
             [
              0.8888888888888888,
              "#fdca26"
             ],
             [
              1,
              "#f0f921"
             ]
            ],
            "type": "contour"
           }
          ],
          "contourcarpet": [
           {
            "colorbar": {
             "outlinewidth": 0,
             "ticks": ""
            },
            "type": "contourcarpet"
           }
          ],
          "heatmap": [
           {
            "colorbar": {
             "outlinewidth": 0,
             "ticks": ""
            },
            "colorscale": [
             [
              0,
              "#0d0887"
             ],
             [
              0.1111111111111111,
              "#46039f"
             ],
             [
              0.2222222222222222,
              "#7201a8"
             ],
             [
              0.3333333333333333,
              "#9c179e"
             ],
             [
              0.4444444444444444,
              "#bd3786"
             ],
             [
              0.5555555555555556,
              "#d8576b"
             ],
             [
              0.6666666666666666,
              "#ed7953"
             ],
             [
              0.7777777777777778,
              "#fb9f3a"
             ],
             [
              0.8888888888888888,
              "#fdca26"
             ],
             [
              1,
              "#f0f921"
             ]
            ],
            "type": "heatmap"
           }
          ],
          "heatmapgl": [
           {
            "colorbar": {
             "outlinewidth": 0,
             "ticks": ""
            },
            "colorscale": [
             [
              0,
              "#0d0887"
             ],
             [
              0.1111111111111111,
              "#46039f"
             ],
             [
              0.2222222222222222,
              "#7201a8"
             ],
             [
              0.3333333333333333,
              "#9c179e"
             ],
             [
              0.4444444444444444,
              "#bd3786"
             ],
             [
              0.5555555555555556,
              "#d8576b"
             ],
             [
              0.6666666666666666,
              "#ed7953"
             ],
             [
              0.7777777777777778,
              "#fb9f3a"
             ],
             [
              0.8888888888888888,
              "#fdca26"
             ],
             [
              1,
              "#f0f921"
             ]
            ],
            "type": "heatmapgl"
           }
          ],
          "histogram": [
           {
            "marker": {
             "pattern": {
              "fillmode": "overlay",
              "size": 10,
              "solidity": 0.2
             }
            },
            "type": "histogram"
           }
          ],
          "histogram2d": [
           {
            "colorbar": {
             "outlinewidth": 0,
             "ticks": ""
            },
            "colorscale": [
             [
              0,
              "#0d0887"
             ],
             [
              0.1111111111111111,
              "#46039f"
             ],
             [
              0.2222222222222222,
              "#7201a8"
             ],
             [
              0.3333333333333333,
              "#9c179e"
             ],
             [
              0.4444444444444444,
              "#bd3786"
             ],
             [
              0.5555555555555556,
              "#d8576b"
             ],
             [
              0.6666666666666666,
              "#ed7953"
             ],
             [
              0.7777777777777778,
              "#fb9f3a"
             ],
             [
              0.8888888888888888,
              "#fdca26"
             ],
             [
              1,
              "#f0f921"
             ]
            ],
            "type": "histogram2d"
           }
          ],
          "histogram2dcontour": [
           {
            "colorbar": {
             "outlinewidth": 0,
             "ticks": ""
            },
            "colorscale": [
             [
              0,
              "#0d0887"
             ],
             [
              0.1111111111111111,
              "#46039f"
             ],
             [
              0.2222222222222222,
              "#7201a8"
             ],
             [
              0.3333333333333333,
              "#9c179e"
             ],
             [
              0.4444444444444444,
              "#bd3786"
             ],
             [
              0.5555555555555556,
              "#d8576b"
             ],
             [
              0.6666666666666666,
              "#ed7953"
             ],
             [
              0.7777777777777778,
              "#fb9f3a"
             ],
             [
              0.8888888888888888,
              "#fdca26"
             ],
             [
              1,
              "#f0f921"
             ]
            ],
            "type": "histogram2dcontour"
           }
          ],
          "mesh3d": [
           {
            "colorbar": {
             "outlinewidth": 0,
             "ticks": ""
            },
            "type": "mesh3d"
           }
          ],
          "parcoords": [
           {
            "line": {
             "colorbar": {
              "outlinewidth": 0,
              "ticks": ""
             }
            },
            "type": "parcoords"
           }
          ],
          "pie": [
           {
            "automargin": true,
            "type": "pie"
           }
          ],
          "scatter": [
           {
            "fillpattern": {
             "fillmode": "overlay",
             "size": 10,
             "solidity": 0.2
            },
            "type": "scatter"
           }
          ],
          "scatter3d": [
           {
            "line": {
             "colorbar": {
              "outlinewidth": 0,
              "ticks": ""
             }
            },
            "marker": {
             "colorbar": {
              "outlinewidth": 0,
              "ticks": ""
             }
            },
            "type": "scatter3d"
           }
          ],
          "scattercarpet": [
           {
            "marker": {
             "colorbar": {
              "outlinewidth": 0,
              "ticks": ""
             }
            },
            "type": "scattercarpet"
           }
          ],
          "scattergeo": [
           {
            "marker": {
             "colorbar": {
              "outlinewidth": 0,
              "ticks": ""
             }
            },
            "type": "scattergeo"
           }
          ],
          "scattergl": [
           {
            "marker": {
             "colorbar": {
              "outlinewidth": 0,
              "ticks": ""
             }
            },
            "type": "scattergl"
           }
          ],
          "scattermapbox": [
           {
            "marker": {
             "colorbar": {
              "outlinewidth": 0,
              "ticks": ""
             }
            },
            "type": "scattermapbox"
           }
          ],
          "scatterpolar": [
           {
            "marker": {
             "colorbar": {
              "outlinewidth": 0,
              "ticks": ""
             }
            },
            "type": "scatterpolar"
           }
          ],
          "scatterpolargl": [
           {
            "marker": {
             "colorbar": {
              "outlinewidth": 0,
              "ticks": ""
             }
            },
            "type": "scatterpolargl"
           }
          ],
          "scatterternary": [
           {
            "marker": {
             "colorbar": {
              "outlinewidth": 0,
              "ticks": ""
             }
            },
            "type": "scatterternary"
           }
          ],
          "surface": [
           {
            "colorbar": {
             "outlinewidth": 0,
             "ticks": ""
            },
            "colorscale": [
             [
              0,
              "#0d0887"
             ],
             [
              0.1111111111111111,
              "#46039f"
             ],
             [
              0.2222222222222222,
              "#7201a8"
             ],
             [
              0.3333333333333333,
              "#9c179e"
             ],
             [
              0.4444444444444444,
              "#bd3786"
             ],
             [
              0.5555555555555556,
              "#d8576b"
             ],
             [
              0.6666666666666666,
              "#ed7953"
             ],
             [
              0.7777777777777778,
              "#fb9f3a"
             ],
             [
              0.8888888888888888,
              "#fdca26"
             ],
             [
              1,
              "#f0f921"
             ]
            ],
            "type": "surface"
           }
          ],
          "table": [
           {
            "cells": {
             "fill": {
              "color": "#EBF0F8"
             },
             "line": {
              "color": "white"
             }
            },
            "header": {
             "fill": {
              "color": "#C8D4E3"
             },
             "line": {
              "color": "white"
             }
            },
            "type": "table"
           }
          ]
         },
         "layout": {
          "annotationdefaults": {
           "arrowcolor": "#2a3f5f",
           "arrowhead": 0,
           "arrowwidth": 1
          },
          "autotypenumbers": "strict",
          "coloraxis": {
           "colorbar": {
            "outlinewidth": 0,
            "ticks": ""
           }
          },
          "colorscale": {
           "diverging": [
            [
             0,
             "#8e0152"
            ],
            [
             0.1,
             "#c51b7d"
            ],
            [
             0.2,
             "#de77ae"
            ],
            [
             0.3,
             "#f1b6da"
            ],
            [
             0.4,
             "#fde0ef"
            ],
            [
             0.5,
             "#f7f7f7"
            ],
            [
             0.6,
             "#e6f5d0"
            ],
            [
             0.7,
             "#b8e186"
            ],
            [
             0.8,
             "#7fbc41"
            ],
            [
             0.9,
             "#4d9221"
            ],
            [
             1,
             "#276419"
            ]
           ],
           "sequential": [
            [
             0,
             "#0d0887"
            ],
            [
             0.1111111111111111,
             "#46039f"
            ],
            [
             0.2222222222222222,
             "#7201a8"
            ],
            [
             0.3333333333333333,
             "#9c179e"
            ],
            [
             0.4444444444444444,
             "#bd3786"
            ],
            [
             0.5555555555555556,
             "#d8576b"
            ],
            [
             0.6666666666666666,
             "#ed7953"
            ],
            [
             0.7777777777777778,
             "#fb9f3a"
            ],
            [
             0.8888888888888888,
             "#fdca26"
            ],
            [
             1,
             "#f0f921"
            ]
           ],
           "sequentialminus": [
            [
             0,
             "#0d0887"
            ],
            [
             0.1111111111111111,
             "#46039f"
            ],
            [
             0.2222222222222222,
             "#7201a8"
            ],
            [
             0.3333333333333333,
             "#9c179e"
            ],
            [
             0.4444444444444444,
             "#bd3786"
            ],
            [
             0.5555555555555556,
             "#d8576b"
            ],
            [
             0.6666666666666666,
             "#ed7953"
            ],
            [
             0.7777777777777778,
             "#fb9f3a"
            ],
            [
             0.8888888888888888,
             "#fdca26"
            ],
            [
             1,
             "#f0f921"
            ]
           ]
          },
          "colorway": [
           "#636efa",
           "#EF553B",
           "#00cc96",
           "#ab63fa",
           "#FFA15A",
           "#19d3f3",
           "#FF6692",
           "#B6E880",
           "#FF97FF",
           "#FECB52"
          ],
          "font": {
           "color": "#2a3f5f"
          },
          "geo": {
           "bgcolor": "white",
           "lakecolor": "white",
           "landcolor": "#E5ECF6",
           "showlakes": true,
           "showland": true,
           "subunitcolor": "white"
          },
          "hoverlabel": {
           "align": "left"
          },
          "hovermode": "closest",
          "mapbox": {
           "style": "light"
          },
          "paper_bgcolor": "white",
          "plot_bgcolor": "#E5ECF6",
          "polar": {
           "angularaxis": {
            "gridcolor": "white",
            "linecolor": "white",
            "ticks": ""
           },
           "bgcolor": "#E5ECF6",
           "radialaxis": {
            "gridcolor": "white",
            "linecolor": "white",
            "ticks": ""
           }
          },
          "scene": {
           "xaxis": {
            "backgroundcolor": "#E5ECF6",
            "gridcolor": "white",
            "gridwidth": 2,
            "linecolor": "white",
            "showbackground": true,
            "ticks": "",
            "zerolinecolor": "white"
           },
           "yaxis": {
            "backgroundcolor": "#E5ECF6",
            "gridcolor": "white",
            "gridwidth": 2,
            "linecolor": "white",
            "showbackground": true,
            "ticks": "",
            "zerolinecolor": "white"
           },
           "zaxis": {
            "backgroundcolor": "#E5ECF6",
            "gridcolor": "white",
            "gridwidth": 2,
            "linecolor": "white",
            "showbackground": true,
            "ticks": "",
            "zerolinecolor": "white"
           }
          },
          "shapedefaults": {
           "line": {
            "color": "#2a3f5f"
           }
          },
          "ternary": {
           "aaxis": {
            "gridcolor": "white",
            "linecolor": "white",
            "ticks": ""
           },
           "baxis": {
            "gridcolor": "white",
            "linecolor": "white",
            "ticks": ""
           },
           "bgcolor": "#E5ECF6",
           "caxis": {
            "gridcolor": "white",
            "linecolor": "white",
            "ticks": ""
           }
          },
          "title": {
           "x": 0.05
          },
          "xaxis": {
           "automargin": true,
           "gridcolor": "white",
           "linecolor": "white",
           "ticks": "",
           "title": {
            "standoff": 15
           },
           "zerolinecolor": "white",
           "zerolinewidth": 2
          },
          "yaxis": {
           "automargin": true,
           "gridcolor": "white",
           "linecolor": "white",
           "ticks": "",
           "title": {
            "standoff": 15
           },
           "zerolinecolor": "white",
           "zerolinewidth": 2
          }
         }
        },
        "title": {
         "font": {
          "color": "#4D5663"
         },
         "text": "Cantidad Total y Beneficio"
        },
        "xaxis": {
         "gridcolor": "#E1E5ED",
         "showgrid": true,
         "tickfont": {
          "color": "#4D5663"
         },
         "title": {
          "font": {
           "color": "#4D5663"
          },
          "text": "Country"
         },
         "zerolinecolor": "#E1E5ED"
        },
        "yaxis": {
         "gridcolor": "#E1E5ED",
         "showgrid": true,
         "tickfont": {
          "color": "#4D5663"
         },
         "title": {
          "font": {
           "color": "#4D5663"
          },
          "text": ""
         },
         "zerolinecolor": "#E1E5ED"
        }
       }
      },
      "text/html": [
       "<div>                            <div id=\"abf89e4b-6641-436c-af92-f7230635af1b\" class=\"plotly-graph-div\" style=\"height:525px; width:100%;\"></div>            <script type=\"text/javascript\">                require([\"plotly\"], function(Plotly) {                    window.PLOTLYENV=window.PLOTLYENV || {};\n",
       "                    window.PLOTLYENV.BASE_URL='https://plot.ly';                                    if (document.getElementById(\"abf89e4b-6641-436c-af92-f7230635af1b\")) {                    Plotly.newPlot(                        \"abf89e4b-6641-436c-af92-f7230635af1b\",                        [{\"marker\":{\"color\":\"rgba(255, 153, 51, 0.6)\",\"line\":{\"color\":\"rgba(255, 153, 51, 1.0)\",\"width\":1}},\"name\":\"Quantity\",\"orientation\":\"v\",\"text\":\"\",\"x\":[\"Australia\",\"Austria\",\"Belgium\",\"Brazil\",\"Channel Islands\",\"EIRE\",\"Finland\",\"France\",\"Germany\",\"Greece\",\"Iceland\",\"Italy\",\"Japan\",\"Netherlands\",\"Poland\",\"Portugal\",\"Singapore\",\"Spain\",\"Sweden\",\"Switzerland\",\"USA\"],\"y\":[224,308,1170,356,96,4129,810,2265,5702,260,483,653,8058,1762,432,951,1384,948,306,878,137],\"type\":\"bar\"},{\"marker\":{\"color\":\"rgba(55, 128, 191, 0.6)\",\"line\":{\"color\":\"rgba(55, 128, 191, 1.0)\",\"width\":1}},\"name\":\"Revenue\",\"orientation\":\"v\",\"text\":\"\",\"x\":[\"Australia\",\"Austria\",\"Belgium\",\"Brazil\",\"Channel Islands\",\"EIRE\",\"Finland\",\"France\",\"Germany\",\"Greece\",\"Iceland\",\"Italy\",\"Japan\",\"Netherlands\",\"Poland\",\"Portugal\",\"Singapore\",\"Spain\",\"Sweden\",\"Switzerland\",\"USA\"],\"y\":[421.6,584.78,1788.48,1143.6,243.0,7270.5,1368.92,3899.31,10994.79,509.74,636.25,737.83,6548.5,2886.56,705.8399999999999,1687.75,2118.74,1645.65,649.1,1756.94,383.95],\"type\":\"bar\"}],                        {\"legend\":{\"bgcolor\":\"#F5F6F9\",\"font\":{\"color\":\"#4D5663\"}},\"paper_bgcolor\":\"#F5F6F9\",\"plot_bgcolor\":\"#F5F6F9\",\"template\":{\"data\":{\"barpolar\":[{\"marker\":{\"line\":{\"color\":\"#E5ECF6\",\"width\":0.5},\"pattern\":{\"fillmode\":\"overlay\",\"size\":10,\"solidity\":0.2}},\"type\":\"barpolar\"}],\"bar\":[{\"error_x\":{\"color\":\"#2a3f5f\"},\"error_y\":{\"color\":\"#2a3f5f\"},\"marker\":{\"line\":{\"color\":\"#E5ECF6\",\"width\":0.5},\"pattern\":{\"fillmode\":\"overlay\",\"size\":10,\"solidity\":0.2}},\"type\":\"bar\"}],\"carpet\":[{\"aaxis\":{\"endlinecolor\":\"#2a3f5f\",\"gridcolor\":\"white\",\"linecolor\":\"white\",\"minorgridcolor\":\"white\",\"startlinecolor\":\"#2a3f5f\"},\"baxis\":{\"endlinecolor\":\"#2a3f5f\",\"gridcolor\":\"white\",\"linecolor\":\"white\",\"minorgridcolor\":\"white\",\"startlinecolor\":\"#2a3f5f\"},\"type\":\"carpet\"}],\"choropleth\":[{\"colorbar\":{\"outlinewidth\":0,\"ticks\":\"\"},\"type\":\"choropleth\"}],\"contourcarpet\":[{\"colorbar\":{\"outlinewidth\":0,\"ticks\":\"\"},\"type\":\"contourcarpet\"}],\"contour\":[{\"colorbar\":{\"outlinewidth\":0,\"ticks\":\"\"},\"colorscale\":[[0.0,\"#0d0887\"],[0.1111111111111111,\"#46039f\"],[0.2222222222222222,\"#7201a8\"],[0.3333333333333333,\"#9c179e\"],[0.4444444444444444,\"#bd3786\"],[0.5555555555555556,\"#d8576b\"],[0.6666666666666666,\"#ed7953\"],[0.7777777777777778,\"#fb9f3a\"],[0.8888888888888888,\"#fdca26\"],[1.0,\"#f0f921\"]],\"type\":\"contour\"}],\"heatmapgl\":[{\"colorbar\":{\"outlinewidth\":0,\"ticks\":\"\"},\"colorscale\":[[0.0,\"#0d0887\"],[0.1111111111111111,\"#46039f\"],[0.2222222222222222,\"#7201a8\"],[0.3333333333333333,\"#9c179e\"],[0.4444444444444444,\"#bd3786\"],[0.5555555555555556,\"#d8576b\"],[0.6666666666666666,\"#ed7953\"],[0.7777777777777778,\"#fb9f3a\"],[0.8888888888888888,\"#fdca26\"],[1.0,\"#f0f921\"]],\"type\":\"heatmapgl\"}],\"heatmap\":[{\"colorbar\":{\"outlinewidth\":0,\"ticks\":\"\"},\"colorscale\":[[0.0,\"#0d0887\"],[0.1111111111111111,\"#46039f\"],[0.2222222222222222,\"#7201a8\"],[0.3333333333333333,\"#9c179e\"],[0.4444444444444444,\"#bd3786\"],[0.5555555555555556,\"#d8576b\"],[0.6666666666666666,\"#ed7953\"],[0.7777777777777778,\"#fb9f3a\"],[0.8888888888888888,\"#fdca26\"],[1.0,\"#f0f921\"]],\"type\":\"heatmap\"}],\"histogram2dcontour\":[{\"colorbar\":{\"outlinewidth\":0,\"ticks\":\"\"},\"colorscale\":[[0.0,\"#0d0887\"],[0.1111111111111111,\"#46039f\"],[0.2222222222222222,\"#7201a8\"],[0.3333333333333333,\"#9c179e\"],[0.4444444444444444,\"#bd3786\"],[0.5555555555555556,\"#d8576b\"],[0.6666666666666666,\"#ed7953\"],[0.7777777777777778,\"#fb9f3a\"],[0.8888888888888888,\"#fdca26\"],[1.0,\"#f0f921\"]],\"type\":\"histogram2dcontour\"}],\"histogram2d\":[{\"colorbar\":{\"outlinewidth\":0,\"ticks\":\"\"},\"colorscale\":[[0.0,\"#0d0887\"],[0.1111111111111111,\"#46039f\"],[0.2222222222222222,\"#7201a8\"],[0.3333333333333333,\"#9c179e\"],[0.4444444444444444,\"#bd3786\"],[0.5555555555555556,\"#d8576b\"],[0.6666666666666666,\"#ed7953\"],[0.7777777777777778,\"#fb9f3a\"],[0.8888888888888888,\"#fdca26\"],[1.0,\"#f0f921\"]],\"type\":\"histogram2d\"}],\"histogram\":[{\"marker\":{\"pattern\":{\"fillmode\":\"overlay\",\"size\":10,\"solidity\":0.2}},\"type\":\"histogram\"}],\"mesh3d\":[{\"colorbar\":{\"outlinewidth\":0,\"ticks\":\"\"},\"type\":\"mesh3d\"}],\"parcoords\":[{\"line\":{\"colorbar\":{\"outlinewidth\":0,\"ticks\":\"\"}},\"type\":\"parcoords\"}],\"pie\":[{\"automargin\":true,\"type\":\"pie\"}],\"scatter3d\":[{\"line\":{\"colorbar\":{\"outlinewidth\":0,\"ticks\":\"\"}},\"marker\":{\"colorbar\":{\"outlinewidth\":0,\"ticks\":\"\"}},\"type\":\"scatter3d\"}],\"scattercarpet\":[{\"marker\":{\"colorbar\":{\"outlinewidth\":0,\"ticks\":\"\"}},\"type\":\"scattercarpet\"}],\"scattergeo\":[{\"marker\":{\"colorbar\":{\"outlinewidth\":0,\"ticks\":\"\"}},\"type\":\"scattergeo\"}],\"scattergl\":[{\"marker\":{\"colorbar\":{\"outlinewidth\":0,\"ticks\":\"\"}},\"type\":\"scattergl\"}],\"scattermapbox\":[{\"marker\":{\"colorbar\":{\"outlinewidth\":0,\"ticks\":\"\"}},\"type\":\"scattermapbox\"}],\"scatterpolargl\":[{\"marker\":{\"colorbar\":{\"outlinewidth\":0,\"ticks\":\"\"}},\"type\":\"scatterpolargl\"}],\"scatterpolar\":[{\"marker\":{\"colorbar\":{\"outlinewidth\":0,\"ticks\":\"\"}},\"type\":\"scatterpolar\"}],\"scatter\":[{\"fillpattern\":{\"fillmode\":\"overlay\",\"size\":10,\"solidity\":0.2},\"type\":\"scatter\"}],\"scatterternary\":[{\"marker\":{\"colorbar\":{\"outlinewidth\":0,\"ticks\":\"\"}},\"type\":\"scatterternary\"}],\"surface\":[{\"colorbar\":{\"outlinewidth\":0,\"ticks\":\"\"},\"colorscale\":[[0.0,\"#0d0887\"],[0.1111111111111111,\"#46039f\"],[0.2222222222222222,\"#7201a8\"],[0.3333333333333333,\"#9c179e\"],[0.4444444444444444,\"#bd3786\"],[0.5555555555555556,\"#d8576b\"],[0.6666666666666666,\"#ed7953\"],[0.7777777777777778,\"#fb9f3a\"],[0.8888888888888888,\"#fdca26\"],[1.0,\"#f0f921\"]],\"type\":\"surface\"}],\"table\":[{\"cells\":{\"fill\":{\"color\":\"#EBF0F8\"},\"line\":{\"color\":\"white\"}},\"header\":{\"fill\":{\"color\":\"#C8D4E3\"},\"line\":{\"color\":\"white\"}},\"type\":\"table\"}]},\"layout\":{\"annotationdefaults\":{\"arrowcolor\":\"#2a3f5f\",\"arrowhead\":0,\"arrowwidth\":1},\"autotypenumbers\":\"strict\",\"coloraxis\":{\"colorbar\":{\"outlinewidth\":0,\"ticks\":\"\"}},\"colorscale\":{\"diverging\":[[0,\"#8e0152\"],[0.1,\"#c51b7d\"],[0.2,\"#de77ae\"],[0.3,\"#f1b6da\"],[0.4,\"#fde0ef\"],[0.5,\"#f7f7f7\"],[0.6,\"#e6f5d0\"],[0.7,\"#b8e186\"],[0.8,\"#7fbc41\"],[0.9,\"#4d9221\"],[1,\"#276419\"]],\"sequential\":[[0.0,\"#0d0887\"],[0.1111111111111111,\"#46039f\"],[0.2222222222222222,\"#7201a8\"],[0.3333333333333333,\"#9c179e\"],[0.4444444444444444,\"#bd3786\"],[0.5555555555555556,\"#d8576b\"],[0.6666666666666666,\"#ed7953\"],[0.7777777777777778,\"#fb9f3a\"],[0.8888888888888888,\"#fdca26\"],[1.0,\"#f0f921\"]],\"sequentialminus\":[[0.0,\"#0d0887\"],[0.1111111111111111,\"#46039f\"],[0.2222222222222222,\"#7201a8\"],[0.3333333333333333,\"#9c179e\"],[0.4444444444444444,\"#bd3786\"],[0.5555555555555556,\"#d8576b\"],[0.6666666666666666,\"#ed7953\"],[0.7777777777777778,\"#fb9f3a\"],[0.8888888888888888,\"#fdca26\"],[1.0,\"#f0f921\"]]},\"colorway\":[\"#636efa\",\"#EF553B\",\"#00cc96\",\"#ab63fa\",\"#FFA15A\",\"#19d3f3\",\"#FF6692\",\"#B6E880\",\"#FF97FF\",\"#FECB52\"],\"font\":{\"color\":\"#2a3f5f\"},\"geo\":{\"bgcolor\":\"white\",\"lakecolor\":\"white\",\"landcolor\":\"#E5ECF6\",\"showlakes\":true,\"showland\":true,\"subunitcolor\":\"white\"},\"hoverlabel\":{\"align\":\"left\"},\"hovermode\":\"closest\",\"mapbox\":{\"style\":\"light\"},\"paper_bgcolor\":\"white\",\"plot_bgcolor\":\"#E5ECF6\",\"polar\":{\"angularaxis\":{\"gridcolor\":\"white\",\"linecolor\":\"white\",\"ticks\":\"\"},\"bgcolor\":\"#E5ECF6\",\"radialaxis\":{\"gridcolor\":\"white\",\"linecolor\":\"white\",\"ticks\":\"\"}},\"scene\":{\"xaxis\":{\"backgroundcolor\":\"#E5ECF6\",\"gridcolor\":\"white\",\"gridwidth\":2,\"linecolor\":\"white\",\"showbackground\":true,\"ticks\":\"\",\"zerolinecolor\":\"white\"},\"yaxis\":{\"backgroundcolor\":\"#E5ECF6\",\"gridcolor\":\"white\",\"gridwidth\":2,\"linecolor\":\"white\",\"showbackground\":true,\"ticks\":\"\",\"zerolinecolor\":\"white\"},\"zaxis\":{\"backgroundcolor\":\"#E5ECF6\",\"gridcolor\":\"white\",\"gridwidth\":2,\"linecolor\":\"white\",\"showbackground\":true,\"ticks\":\"\",\"zerolinecolor\":\"white\"}},\"shapedefaults\":{\"line\":{\"color\":\"#2a3f5f\"}},\"ternary\":{\"aaxis\":{\"gridcolor\":\"white\",\"linecolor\":\"white\",\"ticks\":\"\"},\"baxis\":{\"gridcolor\":\"white\",\"linecolor\":\"white\",\"ticks\":\"\"},\"bgcolor\":\"#E5ECF6\",\"caxis\":{\"gridcolor\":\"white\",\"linecolor\":\"white\",\"ticks\":\"\"}},\"title\":{\"x\":0.05},\"xaxis\":{\"automargin\":true,\"gridcolor\":\"white\",\"linecolor\":\"white\",\"ticks\":\"\",\"title\":{\"standoff\":15},\"zerolinecolor\":\"white\",\"zerolinewidth\":2},\"yaxis\":{\"automargin\":true,\"gridcolor\":\"white\",\"linecolor\":\"white\",\"ticks\":\"\",\"title\":{\"standoff\":15},\"zerolinecolor\":\"white\",\"zerolinewidth\":2}}},\"title\":{\"font\":{\"color\":\"#4D5663\"},\"text\":\"Cantidad Total y Beneficio\"},\"xaxis\":{\"gridcolor\":\"#E1E5ED\",\"showgrid\":true,\"tickfont\":{\"color\":\"#4D5663\"},\"title\":{\"font\":{\"color\":\"#4D5663\"},\"text\":\"Country\"},\"zerolinecolor\":\"#E1E5ED\"},\"yaxis\":{\"gridcolor\":\"#E1E5ED\",\"showgrid\":true,\"tickfont\":{\"color\":\"#4D5663\"},\"title\":{\"font\":{\"color\":\"#4D5663\"},\"text\":\"\"},\"zerolinecolor\":\"#E1E5ED\"}},                        {\"showLink\": true, \"linkText\": \"Export to plot.ly\", \"plotlyServerURL\": \"https://plot.ly\", \"responsive\": true}                    ).then(function(){\n",
       "                            \n",
       "var gd = document.getElementById('abf89e4b-6641-436c-af92-f7230635af1b');\n",
       "var x = new MutationObserver(function (mutations, observer) {{\n",
       "        var display = window.getComputedStyle(gd).display;\n",
       "        if (!display || display === 'none') {{\n",
       "            console.log([gd, 'removed!']);\n",
       "            Plotly.purge(gd);\n",
       "            observer.disconnect();\n",
       "        }}\n",
       "}});\n",
       "\n",
       "// Listen for the removal of the full notebook cells\n",
       "var notebookContainer = gd.closest('#notebook-container');\n",
       "if (notebookContainer) {{\n",
       "    x.observe(notebookContainer, {childList: true});\n",
       "}}\n",
       "\n",
       "// Listen for the clearing of the current output cell\n",
       "var outputEl = gd.closest('.output');\n",
       "if (outputEl) {{\n",
       "    x.observe(outputEl, {childList: true});\n",
       "}}\n",
       "\n",
       "                        })                };                });            </script>        </div>"
      ]
     },
     "metadata": {},
     "output_type": "display_data"
    }
   ],
   "source": [
    "data.iplot(kind='bar', xTitle='Country', title='Cantidad Total y Beneficio')"
   ]
  },
  {
   "cell_type": "markdown",
   "metadata": {},
   "source": [
    "## 2. Create an interactive line chart showing quantity and revenue sold to France between January 1st and May 31st 2011."
   ]
  },
  {
   "cell_type": "code",
   "execution_count": 37,
   "metadata": {},
   "outputs": [
    {
     "data": {
      "text/html": [
       "<div>\n",
       "<style scoped>\n",
       "    .dataframe tbody tr th:only-of-type {\n",
       "        vertical-align: middle;\n",
       "    }\n",
       "\n",
       "    .dataframe tbody tr th {\n",
       "        vertical-align: top;\n",
       "    }\n",
       "\n",
       "    .dataframe thead th {\n",
       "        text-align: right;\n",
       "    }\n",
       "</style>\n",
       "<table border=\"1\" class=\"dataframe\">\n",
       "  <thead>\n",
       "    <tr style=\"text-align: right;\">\n",
       "      <th></th>\n",
       "      <th>InvoiceNo</th>\n",
       "      <th>InvoiceDate</th>\n",
       "      <th>StockCode</th>\n",
       "      <th>Description</th>\n",
       "      <th>Quantity</th>\n",
       "      <th>UnitPrice</th>\n",
       "      <th>Revenue</th>\n",
       "      <th>CustomerID</th>\n",
       "      <th>Country</th>\n",
       "    </tr>\n",
       "  </thead>\n",
       "  <tbody>\n",
       "    <tr>\n",
       "      <th>807</th>\n",
       "      <td>551163</td>\n",
       "      <td>2011-04-26 15:52:00</td>\n",
       "      <td>85123A</td>\n",
       "      <td>CREAM HANGING HEART T-LIGHT HOLDER</td>\n",
       "      <td>9</td>\n",
       "      <td>2.95</td>\n",
       "      <td>26.55</td>\n",
       "      <td>12573</td>\n",
       "      <td>France</td>\n",
       "    </tr>\n",
       "    <tr>\n",
       "      <th>2645</th>\n",
       "      <td>540976</td>\n",
       "      <td>2011-01-12 15:00:00</td>\n",
       "      <td>84029G</td>\n",
       "      <td>KNITTED UNION FLAG HOT WATER BOTTLE</td>\n",
       "      <td>4</td>\n",
       "      <td>3.75</td>\n",
       "      <td>15.00</td>\n",
       "      <td>12652</td>\n",
       "      <td>France</td>\n",
       "    </tr>\n",
       "    <tr>\n",
       "      <th>3290</th>\n",
       "      <td>545181</td>\n",
       "      <td>2011-02-28 14:45:00</td>\n",
       "      <td>22752</td>\n",
       "      <td>SET 7 BABUSHKA NESTING BOXES</td>\n",
       "      <td>4</td>\n",
       "      <td>8.50</td>\n",
       "      <td>34.00</td>\n",
       "      <td>12509</td>\n",
       "      <td>France</td>\n",
       "    </tr>\n",
       "    <tr>\n",
       "      <th>4614</th>\n",
       "      <td>542629</td>\n",
       "      <td>2011-01-31 09:57:00</td>\n",
       "      <td>84879</td>\n",
       "      <td>ASSORTED COLOUR BIRD ORNAMENT</td>\n",
       "      <td>160</td>\n",
       "      <td>1.45</td>\n",
       "      <td>232.00</td>\n",
       "      <td>12731</td>\n",
       "      <td>France</td>\n",
       "    </tr>\n",
       "    <tr>\n",
       "      <th>4795</th>\n",
       "      <td>548409</td>\n",
       "      <td>2011-03-31 10:27:00</td>\n",
       "      <td>84879</td>\n",
       "      <td>ASSORTED COLOUR BIRD ORNAMENT</td>\n",
       "      <td>160</td>\n",
       "      <td>1.45</td>\n",
       "      <td>232.00</td>\n",
       "      <td>12731</td>\n",
       "      <td>France</td>\n",
       "    </tr>\n",
       "    <tr>\n",
       "      <th>...</th>\n",
       "      <td>...</td>\n",
       "      <td>...</td>\n",
       "      <td>...</td>\n",
       "      <td>...</td>\n",
       "      <td>...</td>\n",
       "      <td>...</td>\n",
       "      <td>...</td>\n",
       "      <td>...</td>\n",
       "      <td>...</td>\n",
       "    </tr>\n",
       "    <tr>\n",
       "      <th>345712</th>\n",
       "      <td>553566</td>\n",
       "      <td>2011-05-18 09:09:00</td>\n",
       "      <td>23112</td>\n",
       "      <td>PARISIENNE CURIO CABINET</td>\n",
       "      <td>2</td>\n",
       "      <td>7.50</td>\n",
       "      <td>15.00</td>\n",
       "      <td>12690</td>\n",
       "      <td>France</td>\n",
       "    </tr>\n",
       "    <tr>\n",
       "      <th>345885</th>\n",
       "      <td>552826</td>\n",
       "      <td>2011-05-11 13:20:00</td>\n",
       "      <td>23111</td>\n",
       "      <td>PARISIENNE SEWING BOX</td>\n",
       "      <td>2</td>\n",
       "      <td>12.50</td>\n",
       "      <td>25.00</td>\n",
       "      <td>14277</td>\n",
       "      <td>France</td>\n",
       "    </tr>\n",
       "    <tr>\n",
       "      <th>345892</th>\n",
       "      <td>553566</td>\n",
       "      <td>2011-05-18 09:09:00</td>\n",
       "      <td>23111</td>\n",
       "      <td>PARISIENNE SEWING BOX</td>\n",
       "      <td>4</td>\n",
       "      <td>12.50</td>\n",
       "      <td>50.00</td>\n",
       "      <td>12690</td>\n",
       "      <td>France</td>\n",
       "    </tr>\n",
       "    <tr>\n",
       "      <th>346009</th>\n",
       "      <td>552826</td>\n",
       "      <td>2011-05-11 13:20:00</td>\n",
       "      <td>23079</td>\n",
       "      <td>TOADSTOOL BEDSIDE LIGHT</td>\n",
       "      <td>4</td>\n",
       "      <td>8.95</td>\n",
       "      <td>35.80</td>\n",
       "      <td>14277</td>\n",
       "      <td>France</td>\n",
       "    </tr>\n",
       "    <tr>\n",
       "      <th>350024</th>\n",
       "      <td>553838</td>\n",
       "      <td>2011-05-19 12:10:00</td>\n",
       "      <td>23086</td>\n",
       "      <td>ZINC  STAR T-LIGHT HOLDER</td>\n",
       "      <td>32</td>\n",
       "      <td>1.25</td>\n",
       "      <td>40.00</td>\n",
       "      <td>12620</td>\n",
       "      <td>France</td>\n",
       "    </tr>\n",
       "  </tbody>\n",
       "</table>\n",
       "<p>2454 rows × 9 columns</p>\n",
       "</div>"
      ],
      "text/plain": [
       "        InvoiceNo         InvoiceDate StockCode  \\\n",
       "807        551163 2011-04-26 15:52:00    85123A   \n",
       "2645       540976 2011-01-12 15:00:00    84029G   \n",
       "3290       545181 2011-02-28 14:45:00     22752   \n",
       "4614       542629 2011-01-31 09:57:00     84879   \n",
       "4795       548409 2011-03-31 10:27:00     84879   \n",
       "...           ...                 ...       ...   \n",
       "345712     553566 2011-05-18 09:09:00     23112   \n",
       "345885     552826 2011-05-11 13:20:00     23111   \n",
       "345892     553566 2011-05-18 09:09:00     23111   \n",
       "346009     552826 2011-05-11 13:20:00     23079   \n",
       "350024     553838 2011-05-19 12:10:00     23086   \n",
       "\n",
       "                                Description  Quantity  UnitPrice  Revenue  \\\n",
       "807      CREAM HANGING HEART T-LIGHT HOLDER         9       2.95    26.55   \n",
       "2645    KNITTED UNION FLAG HOT WATER BOTTLE         4       3.75    15.00   \n",
       "3290           SET 7 BABUSHKA NESTING BOXES         4       8.50    34.00   \n",
       "4614          ASSORTED COLOUR BIRD ORNAMENT       160       1.45   232.00   \n",
       "4795          ASSORTED COLOUR BIRD ORNAMENT       160       1.45   232.00   \n",
       "...                                     ...       ...        ...      ...   \n",
       "345712             PARISIENNE CURIO CABINET         2       7.50    15.00   \n",
       "345885                PARISIENNE SEWING BOX         2      12.50    25.00   \n",
       "345892                PARISIENNE SEWING BOX         4      12.50    50.00   \n",
       "346009             TOADSTOOL BEDSIDE LIGHT          4       8.95    35.80   \n",
       "350024           ZINC  STAR T-LIGHT HOLDER         32       1.25    40.00   \n",
       "\n",
       "        CustomerID Country  \n",
       "807          12573  France  \n",
       "2645         12652  France  \n",
       "3290         12509  France  \n",
       "4614         12731  France  \n",
       "4795         12731  France  \n",
       "...            ...     ...  \n",
       "345712       12690  France  \n",
       "345885       14277  France  \n",
       "345892       12690  France  \n",
       "346009       14277  France  \n",
       "350024       12620  France  \n",
       "\n",
       "[2454 rows x 9 columns]"
      ]
     },
     "execution_count": 37,
     "metadata": {},
     "output_type": "execute_result"
    }
   ],
   "source": [
    "francia=df[df.Country=='France']\n",
    "\n",
    "francia=francia.loc[(francia.InvoiceDate >= '2011-1-1') & (francia.InvoiceDate <= '2011-5-31')]\n",
    "\n",
    "francia"
   ]
  },
  {
   "cell_type": "code",
   "execution_count": null,
   "metadata": {},
   "outputs": [],
   "source": []
  },
  {
   "cell_type": "code",
   "execution_count": 38,
   "metadata": {},
   "outputs": [
    {
     "data": {
      "application/vnd.plotly.v1+json": {
       "config": {
        "plotlyServerURL": "https://plot.ly"
       },
       "data": [
        {
         "hovertemplate": "Quantity=%{x}<br>Revenue=%{y}<extra></extra>",
         "legendgroup": "",
         "line": {
          "color": "#636efa",
          "dash": "solid"
         },
         "marker": {
          "symbol": "circle"
         },
         "mode": "lines",
         "name": "",
         "showlegend": false,
         "type": "scattergl",
         "x": [
          9,
          4,
          4,
          160,
          160,
          4,
          16,
          120,
          32,
          6,
          12,
          6,
          24,
          6,
          6,
          12,
          12,
          6,
          6,
          6,
          24,
          6,
          4,
          4,
          3,
          3,
          10,
          6,
          6,
          6,
          1,
          6,
          6,
          6,
          6,
          3,
          12,
          8,
          8,
          8,
          8,
          12,
          4,
          8,
          12,
          8,
          8,
          8,
          4,
          4,
          8,
          16,
          8,
          8,
          8,
          4,
          8,
          24,
          12,
          144,
          12,
          12,
          12,
          12,
          120,
          12,
          120,
          12,
          24,
          6,
          6,
          1,
          12,
          6,
          6,
          6,
          18,
          6,
          12,
          6,
          6,
          4,
          12,
          6,
          6,
          12,
          12,
          6,
          6,
          24,
          12,
          12,
          24,
          24,
          12,
          2,
          64,
          12,
          12,
          12,
          12,
          12,
          12,
          12,
          12,
          12,
          12,
          64,
          12,
          12,
          12,
          12,
          12,
          12,
          24,
          64,
          12,
          12,
          12,
          12,
          12,
          12,
          12,
          12,
          12,
          2,
          12,
          12,
          12,
          10,
          10,
          10,
          10,
          10,
          10,
          10,
          10,
          12,
          12,
          12,
          12,
          12,
          12,
          24,
          24,
          24,
          12,
          12,
          12,
          12,
          24,
          24,
          24,
          12,
          12,
          24,
          12,
          12,
          12,
          6,
          6,
          6,
          72,
          12,
          60,
          24,
          72,
          48,
          24,
          60,
          24,
          24,
          24,
          24,
          24,
          36,
          72,
          108,
          36,
          36,
          108,
          36,
          36,
          36,
          36,
          144,
          72,
          36,
          36,
          36,
          36,
          72,
          9,
          3,
          3,
          3,
          9,
          6,
          12,
          12,
          6,
          200,
          10,
          10,
          10,
          10,
          10,
          10,
          10,
          4,
          6,
          5,
          4,
          6,
          4,
          4,
          6,
          4,
          6,
          5,
          6,
          4,
          4,
          12,
          12,
          12,
          12,
          24,
          12,
          12,
          12,
          12,
          12,
          12,
          24,
          24,
          12,
          12,
          12,
          24,
          24,
          12,
          96,
          24,
          12,
          12,
          36,
          10,
          10,
          10,
          10,
          30,
          10,
          10,
          10,
          3,
          10,
          10,
          20,
          20,
          20,
          20,
          10,
          20,
          10,
          20,
          50,
          10,
          10,
          10,
          6,
          6,
          6,
          6,
          6,
          6,
          12,
          6,
          6,
          6,
          6,
          12,
          6,
          6,
          6,
          6,
          6,
          6,
          6,
          6,
          6,
          6,
          6,
          6,
          6,
          6,
          12,
          6,
          12,
          12,
          6,
          6,
          6,
          6,
          6,
          24,
          6,
          12,
          12,
          6,
          6,
          6,
          6,
          24,
          24,
          120,
          24,
          24,
          24,
          24,
          24,
          24,
          24,
          24,
          24,
          24,
          24,
          24,
          24,
          24,
          24,
          24,
          24,
          24,
          24,
          24,
          24,
          24,
          24,
          24,
          24,
          24,
          24,
          10,
          10,
          10,
          10,
          10,
          12,
          12,
          36,
          12,
          12,
          12,
          48,
          12,
          6,
          3,
          3,
          3,
          12,
          6,
          3,
          3,
          12,
          24,
          3,
          6,
          12,
          12,
          12,
          4,
          8,
          4,
          4,
          4,
          1,
          3,
          12,
          12,
          6,
          1,
          40,
          12,
          3,
          6,
          6,
          9,
          3,
          15,
          15,
          3,
          3,
          3,
          3,
          3,
          3,
          12,
          12,
          10,
          4,
          10,
          8,
          1,
          2,
          3,
          4,
          3,
          1,
          10,
          10,
          10,
          10,
          10,
          1,
          10,
          10,
          10,
          20,
          10,
          10,
          10,
          20,
          10,
          30,
          10,
          10,
          10,
          10,
          10,
          10,
          10,
          30,
          1,
          10,
          10,
          10,
          10,
          10,
          12,
          12,
          12,
          12,
          24,
          12,
          12,
          12,
          12,
          120,
          12,
          12,
          120,
          12,
          12,
          1,
          4,
          3,
          96,
          3,
          6,
          6,
          3,
          96,
          6,
          3,
          3,
          3,
          2,
          2,
          2,
          2,
          12,
          12,
          96,
          12,
          1,
          12,
          96,
          12,
          1,
          12,
          12,
          36,
          36,
          12,
          12,
          12,
          12,
          12,
          12,
          12,
          12,
          24,
          12,
          12,
          12,
          12,
          24,
          12,
          12,
          12,
          12,
          24,
          96,
          24,
          12,
          12,
          12,
          12,
          12,
          12,
          24,
          12,
          24,
          12,
          12,
          12,
          12,
          24,
          12,
          36,
          24,
          24,
          12,
          108,
          48,
          24,
          12,
          12,
          24,
          36,
          24,
          24,
          12,
          4,
          4,
          12,
          12,
          12,
          12,
          24,
          4,
          4,
          12,
          12,
          48,
          12,
          2,
          12,
          10,
          10,
          10,
          8,
          12,
          8,
          8,
          8,
          4,
          4,
          4,
          4,
          4,
          24,
          24,
          24,
          24,
          36,
          6,
          6,
          6,
          4,
          12,
          4,
          72,
          12,
          12,
          6,
          6,
          24,
          12,
          12,
          36,
          12,
          12,
          12,
          4,
          6,
          6,
          6,
          3,
          12,
          24,
          24,
          24,
          24,
          24,
          24,
          24,
          12,
          12,
          24,
          36,
          12,
          12,
          100,
          12,
          24,
          12,
          48,
          10,
          10,
          6,
          2,
          2,
          2,
          2,
          4,
          2,
          10,
          10,
          10,
          10,
          2,
          10,
          10,
          10,
          20,
          10,
          10,
          10,
          50,
          10,
          10,
          10,
          10,
          10,
          10,
          1,
          10,
          10,
          10,
          10,
          20,
          10,
          10,
          10,
          20,
          10,
          10,
          10,
          10,
          10,
          20,
          10,
          6,
          12,
          12,
          36,
          6,
          36,
          6,
          6,
          24,
          9,
          1,
          2,
          12,
          12,
          12,
          12,
          12,
          12,
          12,
          12,
          24,
          24,
          12,
          24,
          12,
          12,
          12,
          12,
          12,
          12,
          1,
          6,
          6,
          6,
          12,
          6,
          24,
          48,
          24,
          24,
          24,
          24,
          24,
          10,
          10,
          10,
          10,
          2,
          10,
          10,
          10,
          10,
          10,
          1,
          10,
          2,
          10,
          20,
          10,
          6,
          3,
          3,
          12,
          12,
          24,
          36,
          12,
          12,
          36,
          12,
          24,
          36,
          12,
          36,
          12,
          12,
          24,
          24,
          24,
          12,
          12,
          12,
          12,
          12,
          12,
          24,
          36,
          12,
          96,
          1,
          24,
          24,
          24,
          24,
          24,
          24,
          24,
          30,
          12,
          2,
          4,
          10,
          24,
          12,
          12,
          12,
          4,
          12,
          12,
          12,
          12,
          12,
          12,
          12,
          12,
          2,
          12,
          48,
          12,
          12,
          30,
          30,
          30,
          24,
          10,
          12,
          12,
          24,
          12,
          12,
          12,
          12,
          12,
          12,
          12,
          48,
          12,
          24,
          12,
          24,
          12,
          1,
          12,
          12,
          24,
          2,
          12,
          4,
          5,
          2,
          2,
          4,
          96,
          72,
          96,
          12,
          12,
          28,
          28,
          2,
          10,
          200,
          6,
          12,
          6,
          6,
          6,
          6,
          6,
          6,
          6,
          6,
          1,
          12,
          6,
          12,
          6,
          12,
          12,
          12,
          12,
          24,
          12,
          12,
          12,
          12,
          12,
          12,
          12,
          12,
          64,
          12,
          8,
          8,
          8,
          8,
          8,
          8,
          8,
          8,
          8,
          8,
          16,
          8,
          8,
          24,
          8,
          6,
          6,
          24,
          12,
          24,
          12,
          12,
          12,
          12,
          24,
          12,
          24,
          12,
          6,
          12,
          4,
          4,
          4,
          12,
          4,
          4,
          4,
          4,
          4,
          4,
          4,
          24,
          12,
          4,
          6,
          4,
          2,
          2,
          4,
          6,
          4,
          12,
          2,
          4,
          4,
          8,
          2,
          2,
          2,
          2,
          8,
          2,
          2,
          10,
          12,
          12,
          4,
          4,
          8,
          24,
          24,
          24,
          120,
          12,
          6,
          12,
          12,
          6,
          8,
          8,
          12,
          8,
          8,
          8,
          8,
          8,
          16,
          8,
          24,
          24,
          24,
          24,
          24,
          24,
          24,
          24,
          24,
          12,
          12,
          3,
          12,
          12,
          48,
          12,
          12,
          12,
          24,
          12,
          12,
          24,
          24,
          12,
          12,
          12,
          96,
          12,
          12,
          12,
          12,
          12,
          12,
          2,
          12,
          96,
          24,
          12,
          12,
          12,
          12,
          12,
          24,
          12,
          12,
          12,
          48,
          12,
          12,
          24,
          12,
          12,
          12,
          24,
          1,
          1,
          12,
          96,
          12,
          12,
          36,
          12,
          12,
          12,
          12,
          24,
          12,
          12,
          12,
          6,
          6,
          8,
          8,
          6,
          1,
          6,
          12,
          12,
          24,
          12,
          12,
          12,
          12,
          2,
          10,
          2,
          10,
          8,
          24,
          8,
          8,
          16,
          8,
          8,
          6,
          1,
          2,
          24,
          24,
          24,
          24,
          24,
          24,
          24,
          24,
          24,
          24,
          10,
          6,
          24,
          24,
          24,
          20,
          40,
          100,
          12,
          12,
          8,
          16,
          16,
          24,
          24,
          8,
          8,
          20,
          12,
          6,
          18,
          6,
          6,
          4,
          8,
          12,
          16,
          16,
          16,
          16,
          16,
          16,
          3,
          1,
          1,
          16,
          1,
          3,
          1,
          2,
          16,
          1,
          2,
          1,
          2,
          1,
          2,
          4,
          6,
          6,
          12,
          12,
          4,
          12,
          12,
          12,
          12,
          12,
          12,
          12,
          12,
          6,
          6,
          6,
          12,
          12,
          6,
          6,
          1,
          1,
          6,
          6,
          12,
          6,
          6,
          12,
          6,
          1,
          12,
          6,
          6,
          18,
          6,
          6,
          12,
          6,
          1,
          6,
          1,
          4,
          6,
          5,
          6,
          4,
          8,
          4,
          4,
          4,
          24,
          30,
          18,
          12,
          12,
          12,
          12,
          12,
          1,
          2,
          12,
          6,
          12,
          12,
          12,
          12,
          24,
          24,
          24,
          24,
          24,
          24,
          2,
          2,
          1,
          12,
          10,
          10,
          10,
          10,
          10,
          10,
          10,
          24,
          12,
          12,
          12,
          12,
          12,
          24,
          12,
          2,
          12,
          6,
          6,
          2,
          2,
          8,
          2,
          2,
          2,
          4,
          2,
          3,
          2,
          2,
          24,
          3,
          6,
          1,
          12,
          25,
          25,
          25,
          25,
          25,
          25,
          25,
          24,
          12,
          12,
          24,
          12,
          12,
          24,
          12,
          12,
          12,
          12,
          24,
          12,
          12,
          24,
          12,
          2,
          12,
          96,
          12,
          12,
          12,
          12,
          12,
          12,
          12,
          12,
          24,
          12,
          12,
          24,
          12,
          24,
          12,
          12,
          2,
          12,
          96,
          12,
          12,
          24,
          24,
          24,
          72,
          48,
          24,
          144,
          24,
          24,
          24,
          24,
          24,
          24,
          24,
          24,
          24,
          24,
          24,
          12,
          12,
          12,
          12,
          12,
          6,
          12,
          12,
          3,
          12,
          2,
          96,
          48,
          48,
          1,
          3,
          1,
          8,
          8,
          2,
          3,
          2,
          6,
          6,
          4,
          1,
          6,
          4,
          6,
          2,
          2,
          4,
          4,
          2,
          10,
          2,
          10,
          2,
          10,
          2,
          8,
          10,
          2,
          2,
          8,
          8,
          10,
          20,
          10,
          10,
          10,
          10,
          12,
          1,
          3,
          5,
          1,
          5,
          2,
          10,
          24,
          24,
          24,
          24,
          4,
          2,
          24,
          12,
          12,
          6,
          2,
          4,
          48,
          60,
          12,
          12,
          12,
          12,
          6,
          24,
          6,
          6,
          6,
          1,
          3,
          12,
          24,
          12,
          12,
          12,
          12,
          12,
          1,
          2,
          12,
          12,
          12,
          6,
          12,
          3,
          12,
          3,
          12,
          12,
          12,
          6,
          6,
          12,
          12,
          12,
          12,
          12,
          8,
          4,
          8,
          8,
          5,
          4,
          4,
          8,
          8,
          8,
          8,
          8,
          16,
          8,
          8,
          8,
          8,
          16,
          6,
          12,
          6,
          6,
          6,
          12,
          12,
          10,
          10,
          24,
          6,
          6,
          6,
          24,
          6,
          6,
          6,
          24,
          6,
          4,
          24,
          6,
          3,
          6,
          3,
          3,
          3,
          8,
          6,
          6,
          6,
          12,
          6,
          2,
          2,
          2,
          4,
          2,
          2,
          24,
          24,
          24,
          12,
          12,
          24,
          12,
          12,
          12,
          12,
          12,
          12,
          12,
          12,
          12,
          12,
          48,
          48,
          48,
          48,
          8,
          8,
          8,
          8,
          2,
          24,
          24,
          24,
          24,
          24,
          20,
          16,
          72,
          8,
          12,
          12,
          12,
          12,
          12,
          24,
          12,
          24,
          12,
          24,
          12,
          12,
          12,
          24,
          12,
          12,
          12,
          12,
          12,
          12,
          12,
          24,
          12,
          12,
          12,
          12,
          12,
          12,
          12,
          12,
          12,
          12,
          6,
          8,
          6,
          1,
          12,
          6,
          1,
          6,
          6,
          6,
          6,
          8,
          1,
          8,
          6,
          1,
          6,
          1,
          6,
          6,
          12,
          12,
          12,
          120,
          1,
          12,
          6,
          8,
          8,
          16,
          8,
          16,
          8,
          8,
          12,
          4,
          4,
          1,
          2,
          2,
          12,
          24,
          48,
          24,
          24,
          48,
          12,
          12,
          4,
          10,
          4,
          6,
          6,
          12,
          6,
          6,
          6,
          12,
          6,
          18,
          1,
          24,
          40,
          80,
          6,
          6,
          40,
          3,
          12,
          12,
          24,
          12,
          12,
          2,
          4,
          24,
          12,
          576,
          3,
          12,
          12,
          10,
          10,
          10,
          3,
          10,
          10,
          10,
          10,
          4,
          4,
          2,
          1,
          24,
          2,
          2,
          8,
          12,
          6,
          12,
          5,
          5,
          3,
          6,
          6,
          6,
          12,
          6,
          6,
          6,
          6,
          2,
          3,
          24,
          4,
          6,
          4,
          8,
          8,
          8,
          8,
          8,
          8,
          8,
          24,
          36,
          12,
          12,
          12,
          12,
          12,
          48,
          12,
          12,
          12,
          12,
          24,
          12,
          12,
          12,
          12,
          12,
          12,
          12,
          12,
          24,
          20,
          20,
          20,
          20,
          20,
          20,
          20,
          20,
          20,
          20,
          40,
          20,
          12,
          8,
          8,
          8,
          8,
          48,
          24,
          1,
          2,
          6,
          6,
          6,
          1,
          6,
          12,
          6,
          24,
          6,
          20,
          20,
          20,
          20,
          24,
          2,
          3,
          24,
          2,
          12,
          12,
          12,
          12,
          12,
          12,
          12,
          12,
          48,
          12,
          25,
          25,
          10,
          10,
          10,
          10,
          10,
          10,
          10,
          10,
          20,
          10,
          10,
          10,
          6,
          10,
          10,
          20,
          10,
          30,
          10,
          10,
          5,
          12,
          6,
          2,
          12,
          3,
          6,
          6,
          12,
          12,
          12,
          12,
          20,
          10,
          10,
          10,
          10,
          10,
          10,
          10,
          10,
          10,
          6,
          12,
          1,
          6,
          24,
          24,
          12,
          6,
          6,
          6,
          6,
          6,
          6,
          6,
          6,
          60,
          8,
          4,
          2,
          3,
          8,
          2,
          6,
          12,
          6,
          12,
          4,
          4,
          12,
          6,
          24,
          4,
          8,
          8,
          8,
          8,
          8,
          4,
          24,
          1,
          6,
          6,
          6,
          6,
          6,
          6,
          6,
          2,
          2,
          6,
          2,
          6,
          6,
          6,
          5,
          1,
          2,
          2,
          4,
          1,
          4,
          3,
          1,
          6,
          6,
          6,
          6,
          12,
          12,
          12,
          2,
          6,
          6,
          6,
          12,
          1,
          4,
          4,
          4,
          12,
          12,
          12,
          24,
          24,
          12,
          12,
          72,
          12,
          12,
          72,
          12,
          6,
          8,
          24,
          6,
          6,
          6,
          5,
          10,
          12,
          2,
          12,
          10,
          6,
          6,
          12,
          12,
          24,
          12,
          6,
          12,
          12,
          24,
          1,
          4,
          8,
          16,
          8,
          8,
          8,
          6,
          6,
          6,
          6,
          24,
          6,
          12,
          48,
          12,
          60,
          12,
          12,
          1,
          3,
          5,
          3,
          5,
          5,
          10,
          5,
          5,
          5,
          10,
          30,
          5,
          5,
          5,
          100,
          5,
          10,
          5,
          5,
          50,
          5,
          6,
          6,
          12,
          24,
          24,
          12,
          10,
          10,
          20,
          12,
          12,
          12,
          12,
          12,
          1,
          12,
          1,
          1,
          60,
          12,
          24,
          10,
          12,
          12,
          48,
          12,
          12,
          6,
          4,
          4,
          36,
          36,
          72,
          60,
          6,
          6,
          6,
          6,
          6,
          6,
          6,
          6,
          24,
          10,
          2,
          4,
          4,
          2,
          4,
          10,
          2,
          4,
          6,
          12,
          12,
          12,
          5,
          12,
          12,
          12,
          12,
          6,
          24,
          6,
          12,
          12,
          12,
          6,
          6,
          6,
          6,
          12,
          6,
          6,
          6,
          12,
          24,
          6,
          6,
          3,
          3,
          1,
          3,
          1,
          6,
          24,
          12,
          12,
          6,
          12,
          12,
          12,
          6,
          6,
          12,
          12,
          6,
          18,
          12,
          12,
          12,
          1,
          2,
          4,
          2,
          4,
          24,
          10,
          10,
          10,
          1,
          24,
          6,
          24,
          8,
          12,
          12,
          12,
          12,
          12,
          12,
          12,
          12,
          48,
          12,
          12,
          24,
          24,
          24,
          24,
          24,
          24,
          12,
          24,
          12,
          12,
          1,
          60,
          12,
          12,
          12,
          12,
          6,
          6,
          6,
          6,
          6,
          12,
          24,
          12,
          24,
          1,
          4,
          6,
          6,
          6,
          36,
          12,
          12,
          6,
          6,
          6,
          2,
          24,
          6,
          6,
          6,
          12,
          12,
          12,
          12,
          12,
          12,
          12,
          12,
          2,
          1,
          48,
          15,
          15,
          12,
          18,
          6,
          12,
          12,
          6,
          6,
          12,
          12,
          12,
          12,
          1,
          2,
          2,
          24,
          12,
          28,
          28,
          28,
          4,
          3,
          4,
          4,
          20,
          2,
          2,
          6,
          24,
          12,
          12,
          24,
          6,
          6,
          12,
          80,
          12,
          12,
          4,
          12,
          6,
          1,
          3,
          6,
          3,
          2,
          12,
          12,
          24,
          1,
          3,
          12,
          12,
          12,
          12,
          12,
          12,
          6,
          18,
          12,
          6,
          6,
          4,
          6,
          24,
          8,
          12,
          4,
          6,
          6,
          12,
          6,
          36,
          6,
          6,
          6,
          6,
          6,
          6,
          12,
          6,
          24,
          6,
          12,
          12,
          6,
          6,
          6,
          36,
          6,
          12,
          12,
          12,
          6,
          12,
          6,
          24,
          6,
          6,
          6,
          12,
          12,
          12,
          12,
          24,
          6,
          24,
          12,
          12,
          12,
          2,
          15,
          48,
          6,
          3,
          6,
          6,
          6,
          6,
          3,
          3,
          3,
          3,
          3,
          6,
          9,
          3,
          3,
          6,
          3,
          2,
          6,
          48,
          1,
          12,
          12,
          6,
          1,
          25,
          12,
          12,
          12,
          12,
          12,
          12,
          25,
          25,
          25,
          25,
          6,
          6,
          6,
          12,
          6,
          6,
          6,
          6,
          6,
          25,
          25,
          6,
          6,
          24,
          24,
          12,
          8,
          4,
          6,
          10,
          100,
          6,
          1,
          48,
          2,
          12,
          12,
          12,
          24,
          1,
          24,
          1,
          2,
          24,
          12,
          60,
          12,
          1,
          12,
          60,
          12,
          12,
          12,
          1,
          1,
          18,
          1,
          6,
          6,
          24,
          24,
          24,
          8,
          8,
          8,
          6,
          6,
          2,
          2,
          2,
          2,
          2,
          2,
          4,
          2,
          2,
          2,
          2,
          2,
          2,
          2,
          2,
          2,
          2,
          2,
          2,
          2,
          2,
          4,
          2,
          2,
          2,
          2,
          2,
          6,
          1,
          6,
          2,
          6,
          1,
          6,
          1,
          1,
          6,
          1,
          3,
          6,
          6,
          6,
          20,
          20,
          48,
          48,
          48,
          24,
          24,
          24,
          24,
          48,
          24,
          24,
          2,
          12,
          12,
          24,
          24,
          24,
          24,
          24,
          12,
          12,
          1,
          8,
          4,
          6,
          4,
          4,
          8,
          4,
          4,
          4,
          4,
          8,
          4,
          10,
          10,
          20,
          10,
          10,
          10,
          10,
          10,
          10,
          10,
          10,
          10,
          10,
          10,
          10,
          10,
          30,
          10,
          20,
          10,
          10,
          10,
          20,
          10,
          20,
          10,
          10,
          10,
          10,
          10,
          4,
          3,
          4,
          1,
          4,
          4,
          2,
          10,
          8,
          2,
          12,
          12,
          12,
          8,
          2,
          3,
          12,
          6,
          10,
          10,
          10,
          20,
          10,
          10,
          10,
          2,
          10,
          24,
          12,
          12,
          24,
          12,
          12,
          24,
          12,
          6,
          2,
          12,
          12,
          48,
          12,
          120,
          12,
          6,
          6,
          12,
          12,
          24,
          18,
          24,
          24,
          6,
          24,
          4,
          2,
          5,
          12,
          6,
          2,
          2,
          12,
          24,
          24,
          2,
          2,
          2,
          4,
          4,
          32
         ],
         "xaxis": "x",
         "y": [
          26.55,
          15,
          34,
          232,
          232,
          6.76,
          27.04,
          202.8,
          54.08,
          12.6,
          25.2,
          12.6,
          50.40000000000001,
          12.6,
          12.6,
          25.2,
          25.2,
          12.6,
          12.6,
          12.6,
          50.40000000000001,
          12.6,
          15,
          15,
          14.85,
          17.85,
          67.5,
          25.5,
          25.5,
          25.5,
          4.25,
          25.5,
          29.7,
          29.7,
          29.7,
          17.85,
          45,
          30,
          30,
          30,
          30,
          45,
          15,
          30,
          45,
          30,
          30,
          30,
          15,
          15,
          30,
          60,
          30,
          30,
          30,
          15,
          30,
          20.4,
          7.800000000000001,
          27.36,
          7.800000000000001,
          7.800000000000001,
          10.2,
          10.2,
          102,
          10.2,
          102,
          15,
          30,
          17.7,
          17.7,
          3.25,
          39,
          19.5,
          17.7,
          17.7,
          53.1,
          17.7,
          35.40000000000001,
          17.7,
          17.7,
          11.8,
          35.40000000000001,
          17.7,
          17.7,
          35.40000000000001,
          35.40000000000001,
          17.7,
          17.7,
          46.8,
          23.4,
          23.4,
          46.8,
          46.8,
          23.4,
          3.9,
          105.6,
          23.4,
          23.4,
          23.4,
          23.4,
          23.4,
          23.4,
          23.4,
          23.4,
          23.4,
          23.4,
          105.6,
          23.4,
          23.4,
          23.4,
          23.4,
          23.4,
          23.4,
          46.8,
          105.6,
          23.4,
          23.4,
          23.4,
          23.4,
          23.4,
          23.4,
          23.4,
          23.4,
          23.4,
          3.9,
          23.4,
          23.4,
          23.4,
          8.5,
          8.5,
          8.5,
          8.5,
          8.5,
          8.5,
          8.5,
          8.5,
          19.8,
          19.8,
          19.8,
          19.8,
          19.8,
          19.8,
          39.59999999999999,
          39.59999999999999,
          39.59999999999999,
          19.8,
          19.8,
          19.8,
          19.8,
          39.59999999999999,
          39.59999999999999,
          39.59999999999999,
          19.8,
          19.8,
          39.59999999999999,
          19.8,
          19.8,
          19.8,
          17.7,
          17.7,
          17.7,
          234,
          39,
          25.2,
          10.08,
          30.24,
          20.16,
          10.08,
          25.2,
          10.08,
          10.08,
          10.08,
          10.08,
          10.08,
          23.4,
          46.8,
          70.2,
          23.4,
          23.4,
          70.2,
          23.4,
          23.4,
          23.4,
          23.4,
          93.60000000000001,
          46.8,
          23.4,
          23.4,
          23.4,
          23.4,
          46.8,
          53.55,
          17.85,
          17.85,
          17.85,
          53.55,
          35.7,
          15,
          15,
          15.3,
          358,
          20.8,
          20.8,
          20.8,
          8.5,
          8.5,
          8.5,
          8.5,
          16.6,
          24.9,
          20.75,
          16.6,
          24.9,
          16.6,
          16.6,
          22.5,
          16.6,
          24.9,
          20.75,
          24.9,
          16.6,
          16.6,
          10.2,
          10.2,
          10.2,
          10.2,
          20.4,
          10.2,
          10.2,
          10.2,
          10.2,
          10.2,
          10.2,
          20.4,
          20.4,
          10.2,
          10.2,
          10.2,
          20.4,
          20.4,
          10.2,
          61.44,
          20.4,
          10.2,
          10.2,
          30.6,
          16.5,
          16.5,
          16.5,
          16.5,
          49.5,
          16.5,
          16.5,
          16.5,
          4.949999999999999,
          16.5,
          16.5,
          33,
          33,
          33,
          33,
          16.5,
          33,
          16.5,
          33,
          82.5,
          16.5,
          16.5,
          16.5,
          15.3,
          15.3,
          15.3,
          15.3,
          15.3,
          15.3,
          30.6,
          15.3,
          15.3,
          15.3,
          15.3,
          30.6,
          15.3,
          15.3,
          15.3,
          15.3,
          15.3,
          15.3,
          15.3,
          15.3,
          15.3,
          15.3,
          15.3,
          15.3,
          15.3,
          15.3,
          30.6,
          15.3,
          30.6,
          30.6,
          15.3,
          15.3,
          15.3,
          15.3,
          15.3,
          61.2,
          15.3,
          30.6,
          30.6,
          15.3,
          15.3,
          15.3,
          15.3,
          13.2,
          13.2,
          50.4,
          13.2,
          13.2,
          13.2,
          13.2,
          13.2,
          13.2,
          13.2,
          13.2,
          13.2,
          13.2,
          13.2,
          13.2,
          13.2,
          10.08,
          13.2,
          13.2,
          13.2,
          13.2,
          13.2,
          13.2,
          13.2,
          13.2,
          13.2,
          13.2,
          13.2,
          13.2,
          13.2,
          19.5,
          19.5,
          19.5,
          20.8,
          20.8,
          17.4,
          17.4,
          52.2,
          17.4,
          17.4,
          17.4,
          69.6,
          17.4,
          29.7,
          14.85,
          14.85,
          14.85,
          59.40000000000001,
          29.7,
          14.85,
          14.85,
          59.40000000000001,
          102,
          14.85,
          12.6,
          15,
          15,
          10.2,
          10.2,
          20.4,
          10.2,
          10.2,
          10.2,
          2.08,
          6.24,
          24.96,
          30.6,
          17.7,
          2.95,
          102,
          17.4,
          14.85,
          29.7,
          29.7,
          53.55,
          17.85,
          89.25,
          89.25,
          17.85,
          17.85,
          17.85,
          17.85,
          17.85,
          17.85,
          17.4,
          17.4,
          19.5,
          15,
          21,
          23.6,
          5.95,
          29.9,
          19.35,
          11.8,
          17.85,
          1.95,
          20.8,
          16.5,
          16.5,
          16.5,
          16.5,
          1.65,
          16.5,
          16.5,
          16.5,
          33,
          16.5,
          16.5,
          16.5,
          33,
          16.5,
          49.5,
          16.5,
          19.5,
          19.5,
          19.5,
          19.5,
          19.5,
          19.5,
          58.5,
          1.95,
          20.8,
          20.8,
          20.8,
          20.8,
          20.8,
          23.4,
          23.4,
          23.4,
          5.04,
          10.08,
          5.04,
          10.2,
          10.2,
          10.2,
          86.39999999999999,
          17.4,
          17.4,
          86.39999999999999,
          19.8,
          19.8,
          8.5,
          19.8,
          17.85,
          475.2,
          17.85,
          35.7,
          35.7,
          17.85,
          475.2,
          35.7,
          17.85,
          17.85,
          17.85,
          17,
          17,
          17,
          17,
          10.2,
          10.2,
          69.12,
          10.2,
          0.85,
          10.2,
          69.12,
          10.2,
          0.85,
          10.2,
          10.2,
          30.6,
          30.6,
          10.2,
          10.2,
          10.2,
          10.2,
          10.2,
          10.2,
          10.2,
          10.2,
          20.4,
          10.2,
          10.2,
          10.2,
          10.2,
          20.4,
          10.2,
          10.2,
          10.2,
          10.2,
          20.4,
          69.12,
          20.4,
          7.800000000000001,
          7.800000000000001,
          7.800000000000001,
          7.800000000000001,
          7.800000000000001,
          7.800000000000001,
          15.6,
          7.800000000000001,
          15.6,
          7.800000000000001,
          7.800000000000001,
          7.800000000000001,
          7.800000000000001,
          15.6,
          7.800000000000001,
          23.4,
          15.6,
          15.6,
          7.800000000000001,
          70.2,
          31.2,
          15.6,
          7.800000000000001,
          7.800000000000001,
          15.6,
          23.4,
          10.08,
          10.08,
          19.8,
          15,
          15,
          15,
          15,
          17.4,
          15,
          30,
          23.8,
          23.8,
          5.04,
          17.88,
          60,
          17.88,
          2.98,
          19.8,
          16.5,
          16.5,
          16.5,
          30,
          45,
          30,
          30,
          30,
          15,
          15,
          15,
          15,
          15,
          6.959999999999999,
          6.959999999999999,
          6.959999999999999,
          6.959999999999999,
          91.8,
          17.7,
          17.7,
          40.5,
          27,
          15,
          5,
          76.32000000000001,
          19.8,
          19.8,
          20.1,
          20.1,
          34.8,
          17.4,
          17.4,
          52.2,
          17.4,
          19.8,
          19.8,
          10.2,
          17.7,
          17.7,
          17.7,
          6.300000000000001,
          25.2,
          30,
          30,
          30,
          30,
          30,
          30,
          20.4,
          15,
          15,
          30,
          45,
          15,
          15,
          106,
          15,
          30,
          15,
          60,
          12.5,
          12.5,
          47.7,
          15.9,
          15.9,
          15.9,
          15.9,
          31.8,
          15.9,
          16.5,
          16.5,
          16.5,
          16.5,
          3.3,
          16.5,
          16.5,
          16.5,
          33,
          16.5,
          16.5,
          16.5,
          82.5,
          16.5,
          16.5,
          16.5,
          16.5,
          16.5,
          16.5,
          1.65,
          16.5,
          16.5,
          16.5,
          16.5,
          33,
          16.5,
          16.5,
          16.5,
          33,
          16.5,
          16.5,
          16.5,
          16.5,
          16.5,
          33,
          16.5,
          15.3,
          30.6,
          30.6,
          75.60000000000001,
          15.3,
          75.60000000000001,
          15.3,
          15.3,
          20.4,
          22.95,
          16.95,
          21.3,
          15,
          15,
          15,
          15,
          15,
          15,
          15,
          15,
          20.4,
          20.4,
          10.2,
          20.4,
          15,
          15,
          15,
          15,
          15,
          15,
          1.25,
          12.6,
          12.6,
          12.6,
          25.2,
          12.6,
          13.2,
          20.16,
          13.2,
          13.2,
          13.2,
          13.2,
          13.2,
          16.5,
          16.5,
          16.5,
          16.5,
          3.3,
          16.5,
          16.5,
          16.5,
          16.5,
          16.5,
          1.65,
          16.5,
          3.3,
          16.5,
          33,
          16.5,
          17.7,
          8.850000000000001,
          8.850000000000001,
          15,
          15,
          30,
          45,
          15,
          15,
          45,
          15,
          30,
          45,
          15,
          45,
          10.2,
          10.2,
          20.4,
          20.4,
          20.4,
          10.2,
          23.4,
          25.2,
          25.2,
          25.2,
          25.2,
          50.40000000000001,
          75.60000000000001,
          25.2,
          201.6,
          2.1,
          20.4,
          20.4,
          20.4,
          20.4,
          20.4,
          20.4,
          20.4,
          37.5,
          11.4,
          15.9,
          31.8,
          67.5,
          10.08,
          5.04,
          5.04,
          5.04,
          17,
          17.4,
          17.4,
          17.4,
          17.4,
          17.4,
          19.8,
          19.8,
          19.8,
          3.3,
          19.8,
          79.19999999999999,
          19.8,
          19.8,
          6.3,
          6.3,
          6.3,
          10.08,
          16.5,
          15,
          15,
          30,
          15,
          15,
          15,
          15,
          15,
          15,
          15,
          60,
          17.4,
          34.8,
          17.4,
          30,
          15,
          1.25,
          15,
          15,
          39.59999999999999,
          3.3,
          19.8,
          15,
          10.5,
          15.9,
          15.9,
          15,
          40.32,
          30.24,
          40.32,
          10.2,
          15,
          5.88,
          5.88,
          3.9,
          19.5,
          358,
          17.7,
          35.40000000000001,
          17.7,
          17.7,
          17.7,
          17.7,
          17.7,
          17.7,
          17.7,
          17.7,
          2.95,
          35.40000000000001,
          17.7,
          35.40000000000001,
          17.7,
          23.4,
          23.4,
          23.4,
          23.4,
          46.8,
          23.4,
          23.4,
          23.4,
          23.4,
          23.4,
          23.4,
          23.4,
          23.4,
          105.6,
          23.4,
          13.52,
          13.52,
          13.52,
          13.52,
          13.52,
          13.52,
          13.52,
          13.52,
          13.52,
          13.52,
          27.04,
          13.52,
          13.52,
          40.56,
          13.52,
          17.7,
          17.7,
          70.80000000000001,
          19.8,
          4.56,
          7.800000000000001,
          7.800000000000001,
          19.8,
          19.8,
          39.59999999999999,
          19.8,
          39.59999999999999,
          35.40000000000001,
          17.7,
          35.40000000000001,
          15,
          15,
          15,
          25.2,
          19.8,
          19.8,
          19.8,
          19.8,
          19.8,
          19.8,
          19.8,
          30,
          15,
          31.8,
          47.7,
          31.8,
          15.9,
          15.9,
          31.8,
          47.7,
          31.8,
          76.19999999999999,
          15.9,
          31.8,
          31.8,
          63.6,
          15.9,
          15.9,
          15.9,
          15.9,
          63.6,
          15.9,
          15.9,
          16.5,
          10.2,
          10.2,
          15,
          15,
          30,
          6.959999999999999,
          6.959999999999999,
          6.959999999999999,
          34.8,
          25.2,
          12.6,
          25.2,
          25.2,
          12.6,
          15.6,
          15.6,
          23.4,
          15.6,
          15.6,
          15.6,
          15.6,
          15.6,
          31.2,
          15.6,
          13.2,
          13.2,
          13.2,
          13.2,
          13.2,
          13.2,
          13.2,
          13.2,
          13.2,
          10.2,
          10.2,
          14.85,
          19.8,
          19.8,
          79.19999999999999,
          19.8,
          19.8,
          19.8,
          39.59999999999999,
          19.8,
          19.8,
          39.59999999999999,
          39.59999999999999,
          19.8,
          19.8,
          19.8,
          139.2,
          19.8,
          19.8,
          19.8,
          19.8,
          19.8,
          19.8,
          3.3,
          19.8,
          139.2,
          39.59999999999999,
          19.8,
          19.8,
          19.8,
          19.8,
          19.8,
          39.59999999999999,
          19.8,
          19.8,
          19.8,
          79.19999999999999,
          19.8,
          19.8,
          39.59999999999999,
          19.8,
          19.8,
          19.8,
          39.59999999999999,
          1.65,
          1.65,
          19.8,
          139.2,
          19.8,
          19.8,
          59.4,
          19.8,
          19.8,
          19.8,
          19.8,
          10.08,
          15,
          23.4,
          23.4,
          17.7,
          17.7,
          20.4,
          20.4,
          17.7,
          2.95,
          17.7,
          15,
          15,
          54,
          17.4,
          17.4,
          17.4,
          17.4,
          19.9,
          12.5,
          2.5,
          12.5,
          15.6,
          46.8,
          15.6,
          15.6,
          31.2,
          15.6,
          15.6,
          9.899999999999999,
          5.95,
          11.9,
          30,
          30,
          30,
          30,
          30,
          30,
          30,
          30,
          30,
          30,
          16.5,
          17.7,
          6.959999999999999,
          30,
          30,
          8.4,
          34,
          85,
          15,
          15,
          13.2,
          26.4,
          26.4,
          39.59999999999999,
          39.59999999999999,
          13.2,
          13.2,
          33,
          30.6,
          17.7,
          53.1,
          17.7,
          17.7,
          15,
          30,
          30.6,
          20,
          20,
          20,
          20,
          20,
          20,
          38.25,
          12.75,
          12.75,
          175.2,
          12.75,
          38.25,
          12.75,
          25.5,
          175.2,
          12.75,
          25.5,
          12.75,
          25.5,
          12.75,
          25.5,
          51,
          17.7,
          17.7,
          5.04,
          5.04,
          17,
          15,
          5.04,
          5.04,
          5.04,
          5.04,
          5.04,
          5.04,
          5.04,
          17.7,
          17.7,
          17.7,
          35.40000000000001,
          35.40000000000001,
          17.7,
          17.7,
          2.95,
          2.95,
          17.7,
          19.5,
          39,
          19.5,
          19.5,
          39,
          15.3,
          2.55,
          30.6,
          17.7,
          17.7,
          53.1,
          17.7,
          17.7,
          35.40000000000001,
          17.7,
          1.95,
          17.7,
          9.95,
          19.8,
          22.5,
          20.75,
          24.9,
          16.6,
          33.2,
          16.6,
          16.6,
          16.6,
          50.40000000000001,
          63,
          37.8,
          15,
          10.2,
          10.2,
          10.2,
          10.2,
          0.85,
          19.9,
          35.40000000000001,
          17.7,
          35.40000000000001,
          35.40000000000001,
          35.40000000000001,
          35.40000000000001,
          15.6,
          15.6,
          15.6,
          15.6,
          15.6,
          15.6,
          17,
          17,
          8.5,
          23.4,
          19.5,
          19.5,
          19.5,
          19.5,
          20.8,
          20.8,
          20.8,
          39.59999999999999,
          19.8,
          19.8,
          5.04,
          5.04,
          30.6,
          39.59999999999999,
          19.8,
          3.3,
          19.8,
          17.7,
          17.7,
          5.9,
          19.9,
          68,
          19.9,
          19.9,
          19.9,
          39.8,
          19.9,
          29.85,
          19.9,
          19.9,
          46.8,
          14.85,
          59.7,
          3.95,
          5.04,
          10.5,
          10.5,
          10.5,
          10.5,
          10.5,
          10.5,
          10.5,
          30,
          19.8,
          19.8,
          39.59999999999999,
          19.8,
          19.8,
          39.59999999999999,
          19.8,
          19.8,
          19.8,
          19.8,
          39.59999999999999,
          19.8,
          19.8,
          39.59999999999999,
          19.8,
          3.3,
          19.8,
          139.2,
          19.8,
          19.8,
          19.8,
          19.8,
          19.8,
          19.8,
          19.8,
          19.8,
          39.59999999999999,
          19.8,
          19.8,
          39.59999999999999,
          19.8,
          39.59999999999999,
          19.8,
          19.8,
          3.3,
          19.8,
          139.2,
          19.8,
          19.8,
          10.08,
          10.08,
          10.08,
          30.24,
          20.16,
          10.08,
          51.84,
          6.959999999999999,
          6.959999999999999,
          6.959999999999999,
          6.959999999999999,
          6.959999999999999,
          6.959999999999999,
          6.959999999999999,
          6.959999999999999,
          6.959999999999999,
          6.959999999999999,
          6.959999999999999,
          15,
          15,
          15,
          15,
          15,
          17.7,
          15,
          15,
          6.300000000000001,
          25.2,
          13.5,
          81.6,
          40.8,
          40.8,
          16.95,
          32.84999999999999,
          10.95,
          87.6,
          87.6,
          21.9,
          32.84999999999999,
          21.9,
          65.69999999999999,
          65.69999999999999,
          43.8,
          10.95,
          17.7,
          15,
          45.90000000000001,
          15.3,
          15.3,
          15,
          15,
          15.9,
          67.5,
          15.9,
          67.5,
          15.9,
          67.5,
          15.9,
          63.6,
          67.5,
          15.9,
          15.9,
          13.2,
          13.2,
          8.5,
          17,
          8.5,
          8.5,
          8.5,
          8.5,
          19.8,
          8.95,
          26.85,
          44.75,
          8.95,
          44.75,
          17.9,
          19.5,
          10.08,
          10.08,
          10.08,
          10.08,
          31.8,
          9.9,
          20.4,
          10.2,
          10.2,
          47.7,
          33.9,
          59.8,
          60,
          75,
          15,
          15,
          15,
          15,
          17.7,
          70.80000000000001,
          17.7,
          17.7,
          17.7,
          2.1,
          6.300000000000001,
          15,
          30,
          15,
          15,
          15,
          15,
          15,
          1.25,
          2.5,
          15,
          15,
          15,
          47.7,
          25.2,
          17.85,
          71.4,
          17.85,
          15,
          15,
          15,
          12.6,
          17.7,
          5.04,
          5.04,
          5.04,
          5.04,
          5.04,
          30,
          15,
          30,
          30,
          20.75,
          16.6,
          15,
          6.8,
          6.8,
          6.8,
          6.8,
          6.8,
          13.6,
          6.8,
          6.8,
          6.8,
          6.8,
          20,
          12.6,
          19.8,
          12.6,
          12.6,
          22.5,
          15,
          15,
          12.5,
          12.5,
          10.08,
          19.5,
          19.5,
          19.5,
          78,
          19.5,
          19.5,
          19.5,
          78,
          19.5,
          19.8,
          61.2,
          29.7,
          14.85,
          29.7,
          14.85,
          14.85,
          14.85,
          23.6,
          35.7,
          35.7,
          35.7,
          35.40000000000001,
          59.7,
          19.9,
          15.9,
          15.9,
          31.8,
          15.9,
          9.9,
          10.08,
          10.08,
          10.08,
          5.04,
          5.04,
          10.08,
          5.04,
          5.04,
          5.04,
          5.04,
          5.04,
          5.04,
          5.04,
          5.04,
          5.04,
          5.04,
          13.92,
          13.92,
          13.92,
          13.92,
          15.6,
          15.6,
          15.6,
          15.6,
          9.3,
          15.6,
          15.6,
          15.6,
          15.6,
          15.6,
          8.4,
          31.2,
          140.4,
          15.6,
          10.2,
          10.2,
          10.2,
          10.2,
          10.2,
          4.56,
          7.800000000000001,
          4.56,
          10.2,
          20.4,
          15,
          5.04,
          5.04,
          10.08,
          5.04,
          5.04,
          5.04,
          5.04,
          5.04,
          5.04,
          5.04,
          10.08,
          5.04,
          5.04,
          5.04,
          5.04,
          5.04,
          5.04,
          15,
          15,
          15,
          15,
          11.7,
          15.6,
          11.7,
          1.95,
          23.4,
          11.7,
          1.95,
          11.7,
          11.7,
          11.7,
          11.7,
          15.6,
          1.95,
          15.6,
          11.7,
          1.95,
          11.7,
          1.95,
          11.7,
          11.7,
          23.4,
          15,
          10.2,
          86.39999999999999,
          9.95,
          30.6,
          15.3,
          10,
          10,
          20,
          10,
          20,
          10,
          10,
          25.2,
          8.4,
          17,
          7.95,
          15.9,
          15.9,
          10.2,
          30,
          50.88,
          30,
          30,
          50.88,
          15,
          15,
          15,
          49.5,
          19.8,
          17.7,
          17.7,
          35.40000000000001,
          17.7,
          17.7,
          17.7,
          35.40000000000001,
          17.7,
          53.1,
          2.95,
          70.80000000000001,
          102,
          204,
          17.7,
          17.7,
          102,
          14.85,
          10.2,
          10.2,
          20.4,
          10.2,
          83.4,
          15.9,
          5.8,
          34.8,
          19.8,
          835.1999999999999,
          16.35,
          19.8,
          19.8,
          19.5,
          19.5,
          19.5,
          5.85,
          20.8,
          20.8,
          20.8,
          20.8,
          17,
          17,
          1.7,
          0.85,
          10.08,
          11.9,
          11.9,
          15.6,
          35.40000000000001,
          17.7,
          10.2,
          14.75,
          14.75,
          17.85,
          17.7,
          17.7,
          17.7,
          30.6,
          15.3,
          22.5,
          22.5,
          22.5,
          17,
          25.5,
          183.6,
          34,
          51,
          34,
          10,
          10,
          6.8,
          6.8,
          6.8,
          6.8,
          6.8,
          39.59999999999999,
          23.4,
          7.800000000000001,
          7.800000000000001,
          7.800000000000001,
          7.800000000000001,
          7.800000000000001,
          40.8,
          10.2,
          10.2,
          10.2,
          10.2,
          20.4,
          10.2,
          10.2,
          10.2,
          10.2,
          10.2,
          10.2,
          10.2,
          10.2,
          39.59999999999999,
          17,
          17,
          17,
          17,
          17,
          17,
          17,
          17,
          17,
          17,
          34,
          17,
          19.8,
          10,
          10,
          10,
          10,
          20.16,
          10.08,
          7.95,
          9.9,
          12.6,
          12.6,
          12.6,
          1.45,
          12.6,
          25.2,
          12.6,
          50.40000000000001,
          12.6,
          13,
          13,
          13,
          13,
          5.04,
          19.9,
          14.85,
          30,
          2.5,
          15,
          15,
          15,
          10.2,
          10.2,
          10.2,
          10.2,
          10.2,
          40.8,
          10.2,
          10.5,
          10.5,
          8.5,
          8.5,
          8.5,
          8.5,
          8.5,
          8.5,
          8.5,
          8.5,
          17,
          8.5,
          8.5,
          8.5,
          17.7,
          8.5,
          8.5,
          17,
          8.5,
          25.5,
          8.5,
          8.5,
          10.5,
          9,
          29.7,
          9.9,
          59.40000000000001,
          14.85,
          17.7,
          17.7,
          5.04,
          5.04,
          5.04,
          5.04,
          17,
          8.5,
          8.5,
          8.5,
          8.5,
          8.5,
          8.5,
          8.5,
          8.5,
          8.5,
          17.7,
          35.40000000000001,
          2.95,
          17.7,
          20.4,
          20.4,
          10.2,
          13.5,
          13.5,
          13.5,
          13.5,
          13.5,
          13.5,
          15.3,
          2.34,
          75,
          61.2,
          34,
          17,
          25.5,
          61.2,
          17,
          13.5,
          25.2,
          12.6,
          25.2,
          8.4,
          8.4,
          15,
          17.7,
          20.4,
          19.8,
          6.8,
          6.8,
          6.8,
          6.8,
          6.8,
          17,
          39.59999999999999,
          2.55,
          15.3,
          15.3,
          15.3,
          15.3,
          15.3,
          15.3,
          15.3,
          9.9,
          19.9,
          41.7,
          15.9,
          19.5,
          19.5,
          19.5,
          16.25,
          14.95,
          29.9,
          29.9,
          51,
          14.95,
          51,
          38.25,
          29.95,
          12.6,
          12.6,
          12.6,
          12.6,
          25.2,
          17.4,
          17.4,
          12.7,
          15.3,
          15.3,
          15.3,
          17.4,
          1.45,
          15,
          15,
          15,
          10.2,
          5.04,
          5.04,
          15.6,
          15.6,
          15,
          10.2,
          61.2,
          10.2,
          10.2,
          61.2,
          10.2,
          17.7,
          30,
          81.36,
          17.7,
          17.7,
          17.7,
          23.25,
          49.5,
          59.40000000000001,
          9.9,
          59.40000000000001,
          67.5,
          29.7,
          17.7,
          15,
          15,
          30,
          15,
          7.5,
          15,
          15,
          30,
          1.69,
          6.76,
          13.2,
          26.4,
          13.2,
          13.2,
          13.2,
          15.3,
          15.3,
          15.3,
          15.3,
          61.2,
          15.3,
          15,
          60,
          15,
          75,
          15,
          15,
          8.95,
          26.85,
          44.75,
          26.85,
          14.75,
          14.75,
          29.5,
          14.75,
          14.75,
          14.75,
          29.5,
          88.5,
          14.75,
          14.75,
          14.75,
          255,
          14.75,
          29.5,
          14.75,
          14.75,
          127.5,
          14.75,
          17.7,
          17.7,
          10.2,
          20.4,
          20.4,
          10.2,
          12.5,
          12.5,
          25,
          10.2,
          17.4,
          17.4,
          17.4,
          17.4,
          1.45,
          17.4,
          2.55,
          1.25,
          75,
          30.6,
          20.4,
          12.5,
          15,
          15,
          31.2,
          25.2,
          25.2,
          12.6,
          15,
          15,
          7.56,
          7.56,
          15.12,
          51,
          15.3,
          15.3,
          19.5,
          19.5,
          9.899999999999999,
          19.5,
          19.5,
          19.5,
          46.8,
          14.5,
          17,
          34,
          34,
          17,
          39.8,
          99.5,
          19.9,
          39.8,
          59.7,
          10.2,
          10.2,
          19.8,
          18.75,
          15,
          15,
          25.2,
          25.2,
          17.7,
          20.4,
          17.7,
          35.40000000000001,
          17.4,
          19.8,
          9.899999999999999,
          9.899999999999999,
          9.899999999999999,
          9.899999999999999,
          19.8,
          9.899999999999999,
          9.899999999999999,
          9.899999999999999,
          15,
          20.4,
          25.5,
          25.5,
          12.75,
          12.75,
          12.75,
          14.85,
          0.42,
          15.3,
          10.08,
          5.04,
          5.04,
          15.3,
          5.04,
          5.04,
          17.4,
          12.6,
          17.7,
          10.2,
          10.2,
          17.7,
          53.1,
          45,
          10.2,
          10.2,
          15.95,
          31.9,
          51,
          31.9,
          51,
          34.8,
          12.5,
          12.5,
          12.5,
          0.42,
          20.4,
          9.899999999999999,
          9.36,
          30,
          19.8,
          19.8,
          15,
          15,
          15,
          15,
          15,
          15,
          50.88,
          15,
          15,
          30,
          30,
          30,
          30,
          30,
          30,
          10.2,
          20.4,
          10.2,
          10.2,
          0.85,
          51,
          10.2,
          10.2,
          10.2,
          10.2,
          12.6,
          12.6,
          12.6,
          12.6,
          12.6,
          10.2,
          20.4,
          10.2,
          10.08,
          0.42,
          15,
          15.3,
          15.3,
          15.3,
          91.8,
          15,
          15,
          29.7,
          29.7,
          29.7,
          5.9,
          6.959999999999999,
          12.6,
          12.6,
          12.6,
          10.2,
          10.2,
          10.2,
          10.2,
          10.2,
          15,
          15,
          131.4,
          25.5,
          2.95,
          40.8,
          6.3,
          6.3,
          30.6,
          45.9,
          15.3,
          30.6,
          20.28,
          12.6,
          12.6,
          23.4,
          5.04,
          15,
          15,
          2.95,
          15.9,
          15.9,
          5.04,
          10.2,
          5.88,
          5.88,
          5.88,
          19.8,
          14.85,
          19.8,
          19.8,
          17,
          15.9,
          15.9,
          15.3,
          6.959999999999999,
          10.2,
          10.2,
          20.4,
          9.899999999999999,
          9.899999999999999,
          19.8,
          12.8,
          10.2,
          10.2,
          5.8,
          19.8,
          12.6,
          3.95,
          14.85,
          29.7,
          14.85,
          9.9,
          15,
          15,
          10.08,
          2.1,
          14.85,
          10.2,
          10.2,
          10.2,
          10.2,
          10.2,
          35.40000000000001,
          15.3,
          45.9,
          19.8,
          12.6,
          12.6,
          8.4,
          12.6,
          46.8,
          10,
          19.8,
          19.8,
          15.3,
          15.3,
          30.6,
          15.3,
          75.60000000000001,
          15.3,
          15.3,
          15.3,
          15.3,
          15.3,
          15.3,
          30.6,
          15.3,
          61.2,
          15.3,
          30.6,
          30.6,
          15.3,
          15.3,
          15.3,
          75.60000000000001,
          15.3,
          30.6,
          30.6,
          30.6,
          15.3,
          30.6,
          15.3,
          61.2,
          15.3,
          15.3,
          15.3,
          10.2,
          30.6,
          30.6,
          10.2,
          10.08,
          15.3,
          15.6,
          9.959999999999999,
          9.959999999999999,
          9.959999999999999,
          19.9,
          44.25,
          50.40000000000001,
          17.7,
          38.25,
          12.6,
          12.6,
          12.6,
          29.7,
          14.85,
          14.85,
          14.85,
          14.85,
          14.85,
          29.7,
          44.55,
          14.85,
          14.85,
          29.7,
          14.85,
          25.5,
          2.34,
          18.72,
          0.65,
          5.04,
          5.04,
          12.6,
          2.1,
          10.5,
          7.800000000000001,
          7.800000000000001,
          2.28,
          19.8,
          19.8,
          19.8,
          10.5,
          10.5,
          10.5,
          10.5,
          17.7,
          17.7,
          17.7,
          35.40000000000001,
          17.7,
          17.7,
          17.7,
          17.7,
          17.7,
          10.5,
          10.5,
          17.7,
          12.6,
          20.4,
          20.4,
          10.2,
          30,
          15,
          17.7,
          39.5,
          275,
          19.5,
          3.25,
          20.16,
          9.9,
          15,
          15,
          15,
          10.08,
          0.42,
          10.08,
          0.42,
          0.84,
          10.08,
          23.4,
          117,
          23.4,
          1.95,
          23.4,
          117,
          23.4,
          23.4,
          23.4,
          0.42,
          0.42,
          67.5,
          3.75,
          22.5,
          22.5,
          10.08,
          15.6,
          15.6,
          18,
          18,
          18,
          17.34,
          17.34,
          16.5,
          16.5,
          16.5,
          16.5,
          16.5,
          16.5,
          33,
          16.5,
          16.5,
          16.5,
          16.5,
          16.5,
          16.5,
          16.5,
          16.5,
          16.5,
          16.5,
          16.5,
          16.5,
          16.5,
          16.5,
          33,
          16.5,
          16.5,
          16.5,
          16.5,
          16.5,
          89.69999999999999,
          16.95,
          89.69999999999999,
          33.9,
          89.69999999999999,
          16.95,
          89.69999999999999,
          16.95,
          16.95,
          89.69999999999999,
          16.95,
          50.84999999999999,
          89.69999999999999,
          89.69999999999999,
          89.69999999999999,
          25,
          25,
          60,
          60,
          60,
          30,
          30,
          30,
          30,
          60,
          30,
          30,
          9.9,
          24.96,
          24.96,
          49.92,
          49.92,
          19.92,
          19.92,
          49.92,
          24.96,
          24.96,
          2.08,
          33.2,
          16.6,
          24.9,
          16.6,
          16.6,
          33.2,
          16.6,
          16.6,
          16.6,
          16.6,
          33.2,
          16.6,
          16.5,
          20.8,
          41.6,
          20.8,
          20.8,
          20.8,
          20.8,
          16.5,
          16.5,
          16.5,
          16.5,
          16.5,
          16.5,
          16.5,
          16.5,
          16.5,
          49.5,
          16.5,
          33,
          16.5,
          16.5,
          16.5,
          17,
          8.5,
          17,
          8.5,
          8.5,
          16.5,
          16.5,
          16.5,
          50,
          37.5,
          50,
          12.5,
          33,
          33,
          16.5,
          41.5,
          26.32,
          25,
          17.4,
          9.959999999999999,
          11.4,
          19.92,
          15.9,
          14.85,
          59.40000000000001,
          29.7,
          16.5,
          16.5,
          16.5,
          33,
          16.5,
          20.8,
          20.8,
          25,
          20.8,
          19.92,
          9.959999999999999,
          19.8,
          39.59999999999999,
          19.8,
          19.8,
          39.59999999999999,
          19.8,
          24.9,
          19.9,
          19.8,
          19.8,
          69.6,
          19.8,
          214.8,
          24.96,
          12.48,
          12.48,
          24.96,
          24.96,
          42.96,
          37.44,
          42.96,
          42.96,
          12.48,
          19.92,
          30,
          15,
          31.25,
          64.67999999999999,
          37.5,
          12.5,
          11.5,
          19.8,
          39.59999999999999,
          69.36,
          15,
          15,
          25,
          50,
          35.8,
          40
         ],
         "yaxis": "y"
        }
       ],
       "layout": {
        "legend": {
         "tracegroupgap": 0
        },
        "template": {
         "data": {
          "bar": [
           {
            "error_x": {
             "color": "#2a3f5f"
            },
            "error_y": {
             "color": "#2a3f5f"
            },
            "marker": {
             "line": {
              "color": "#E5ECF6",
              "width": 0.5
             },
             "pattern": {
              "fillmode": "overlay",
              "size": 10,
              "solidity": 0.2
             }
            },
            "type": "bar"
           }
          ],
          "barpolar": [
           {
            "marker": {
             "line": {
              "color": "#E5ECF6",
              "width": 0.5
             },
             "pattern": {
              "fillmode": "overlay",
              "size": 10,
              "solidity": 0.2
             }
            },
            "type": "barpolar"
           }
          ],
          "carpet": [
           {
            "aaxis": {
             "endlinecolor": "#2a3f5f",
             "gridcolor": "white",
             "linecolor": "white",
             "minorgridcolor": "white",
             "startlinecolor": "#2a3f5f"
            },
            "baxis": {
             "endlinecolor": "#2a3f5f",
             "gridcolor": "white",
             "linecolor": "white",
             "minorgridcolor": "white",
             "startlinecolor": "#2a3f5f"
            },
            "type": "carpet"
           }
          ],
          "choropleth": [
           {
            "colorbar": {
             "outlinewidth": 0,
             "ticks": ""
            },
            "type": "choropleth"
           }
          ],
          "contour": [
           {
            "colorbar": {
             "outlinewidth": 0,
             "ticks": ""
            },
            "colorscale": [
             [
              0,
              "#0d0887"
             ],
             [
              0.1111111111111111,
              "#46039f"
             ],
             [
              0.2222222222222222,
              "#7201a8"
             ],
             [
              0.3333333333333333,
              "#9c179e"
             ],
             [
              0.4444444444444444,
              "#bd3786"
             ],
             [
              0.5555555555555556,
              "#d8576b"
             ],
             [
              0.6666666666666666,
              "#ed7953"
             ],
             [
              0.7777777777777778,
              "#fb9f3a"
             ],
             [
              0.8888888888888888,
              "#fdca26"
             ],
             [
              1,
              "#f0f921"
             ]
            ],
            "type": "contour"
           }
          ],
          "contourcarpet": [
           {
            "colorbar": {
             "outlinewidth": 0,
             "ticks": ""
            },
            "type": "contourcarpet"
           }
          ],
          "heatmap": [
           {
            "colorbar": {
             "outlinewidth": 0,
             "ticks": ""
            },
            "colorscale": [
             [
              0,
              "#0d0887"
             ],
             [
              0.1111111111111111,
              "#46039f"
             ],
             [
              0.2222222222222222,
              "#7201a8"
             ],
             [
              0.3333333333333333,
              "#9c179e"
             ],
             [
              0.4444444444444444,
              "#bd3786"
             ],
             [
              0.5555555555555556,
              "#d8576b"
             ],
             [
              0.6666666666666666,
              "#ed7953"
             ],
             [
              0.7777777777777778,
              "#fb9f3a"
             ],
             [
              0.8888888888888888,
              "#fdca26"
             ],
             [
              1,
              "#f0f921"
             ]
            ],
            "type": "heatmap"
           }
          ],
          "heatmapgl": [
           {
            "colorbar": {
             "outlinewidth": 0,
             "ticks": ""
            },
            "colorscale": [
             [
              0,
              "#0d0887"
             ],
             [
              0.1111111111111111,
              "#46039f"
             ],
             [
              0.2222222222222222,
              "#7201a8"
             ],
             [
              0.3333333333333333,
              "#9c179e"
             ],
             [
              0.4444444444444444,
              "#bd3786"
             ],
             [
              0.5555555555555556,
              "#d8576b"
             ],
             [
              0.6666666666666666,
              "#ed7953"
             ],
             [
              0.7777777777777778,
              "#fb9f3a"
             ],
             [
              0.8888888888888888,
              "#fdca26"
             ],
             [
              1,
              "#f0f921"
             ]
            ],
            "type": "heatmapgl"
           }
          ],
          "histogram": [
           {
            "marker": {
             "pattern": {
              "fillmode": "overlay",
              "size": 10,
              "solidity": 0.2
             }
            },
            "type": "histogram"
           }
          ],
          "histogram2d": [
           {
            "colorbar": {
             "outlinewidth": 0,
             "ticks": ""
            },
            "colorscale": [
             [
              0,
              "#0d0887"
             ],
             [
              0.1111111111111111,
              "#46039f"
             ],
             [
              0.2222222222222222,
              "#7201a8"
             ],
             [
              0.3333333333333333,
              "#9c179e"
             ],
             [
              0.4444444444444444,
              "#bd3786"
             ],
             [
              0.5555555555555556,
              "#d8576b"
             ],
             [
              0.6666666666666666,
              "#ed7953"
             ],
             [
              0.7777777777777778,
              "#fb9f3a"
             ],
             [
              0.8888888888888888,
              "#fdca26"
             ],
             [
              1,
              "#f0f921"
             ]
            ],
            "type": "histogram2d"
           }
          ],
          "histogram2dcontour": [
           {
            "colorbar": {
             "outlinewidth": 0,
             "ticks": ""
            },
            "colorscale": [
             [
              0,
              "#0d0887"
             ],
             [
              0.1111111111111111,
              "#46039f"
             ],
             [
              0.2222222222222222,
              "#7201a8"
             ],
             [
              0.3333333333333333,
              "#9c179e"
             ],
             [
              0.4444444444444444,
              "#bd3786"
             ],
             [
              0.5555555555555556,
              "#d8576b"
             ],
             [
              0.6666666666666666,
              "#ed7953"
             ],
             [
              0.7777777777777778,
              "#fb9f3a"
             ],
             [
              0.8888888888888888,
              "#fdca26"
             ],
             [
              1,
              "#f0f921"
             ]
            ],
            "type": "histogram2dcontour"
           }
          ],
          "mesh3d": [
           {
            "colorbar": {
             "outlinewidth": 0,
             "ticks": ""
            },
            "type": "mesh3d"
           }
          ],
          "parcoords": [
           {
            "line": {
             "colorbar": {
              "outlinewidth": 0,
              "ticks": ""
             }
            },
            "type": "parcoords"
           }
          ],
          "pie": [
           {
            "automargin": true,
            "type": "pie"
           }
          ],
          "scatter": [
           {
            "fillpattern": {
             "fillmode": "overlay",
             "size": 10,
             "solidity": 0.2
            },
            "type": "scatter"
           }
          ],
          "scatter3d": [
           {
            "line": {
             "colorbar": {
              "outlinewidth": 0,
              "ticks": ""
             }
            },
            "marker": {
             "colorbar": {
              "outlinewidth": 0,
              "ticks": ""
             }
            },
            "type": "scatter3d"
           }
          ],
          "scattercarpet": [
           {
            "marker": {
             "colorbar": {
              "outlinewidth": 0,
              "ticks": ""
             }
            },
            "type": "scattercarpet"
           }
          ],
          "scattergeo": [
           {
            "marker": {
             "colorbar": {
              "outlinewidth": 0,
              "ticks": ""
             }
            },
            "type": "scattergeo"
           }
          ],
          "scattergl": [
           {
            "marker": {
             "colorbar": {
              "outlinewidth": 0,
              "ticks": ""
             }
            },
            "type": "scattergl"
           }
          ],
          "scattermapbox": [
           {
            "marker": {
             "colorbar": {
              "outlinewidth": 0,
              "ticks": ""
             }
            },
            "type": "scattermapbox"
           }
          ],
          "scatterpolar": [
           {
            "marker": {
             "colorbar": {
              "outlinewidth": 0,
              "ticks": ""
             }
            },
            "type": "scatterpolar"
           }
          ],
          "scatterpolargl": [
           {
            "marker": {
             "colorbar": {
              "outlinewidth": 0,
              "ticks": ""
             }
            },
            "type": "scatterpolargl"
           }
          ],
          "scatterternary": [
           {
            "marker": {
             "colorbar": {
              "outlinewidth": 0,
              "ticks": ""
             }
            },
            "type": "scatterternary"
           }
          ],
          "surface": [
           {
            "colorbar": {
             "outlinewidth": 0,
             "ticks": ""
            },
            "colorscale": [
             [
              0,
              "#0d0887"
             ],
             [
              0.1111111111111111,
              "#46039f"
             ],
             [
              0.2222222222222222,
              "#7201a8"
             ],
             [
              0.3333333333333333,
              "#9c179e"
             ],
             [
              0.4444444444444444,
              "#bd3786"
             ],
             [
              0.5555555555555556,
              "#d8576b"
             ],
             [
              0.6666666666666666,
              "#ed7953"
             ],
             [
              0.7777777777777778,
              "#fb9f3a"
             ],
             [
              0.8888888888888888,
              "#fdca26"
             ],
             [
              1,
              "#f0f921"
             ]
            ],
            "type": "surface"
           }
          ],
          "table": [
           {
            "cells": {
             "fill": {
              "color": "#EBF0F8"
             },
             "line": {
              "color": "white"
             }
            },
            "header": {
             "fill": {
              "color": "#C8D4E3"
             },
             "line": {
              "color": "white"
             }
            },
            "type": "table"
           }
          ]
         },
         "layout": {
          "annotationdefaults": {
           "arrowcolor": "#2a3f5f",
           "arrowhead": 0,
           "arrowwidth": 1
          },
          "autotypenumbers": "strict",
          "coloraxis": {
           "colorbar": {
            "outlinewidth": 0,
            "ticks": ""
           }
          },
          "colorscale": {
           "diverging": [
            [
             0,
             "#8e0152"
            ],
            [
             0.1,
             "#c51b7d"
            ],
            [
             0.2,
             "#de77ae"
            ],
            [
             0.3,
             "#f1b6da"
            ],
            [
             0.4,
             "#fde0ef"
            ],
            [
             0.5,
             "#f7f7f7"
            ],
            [
             0.6,
             "#e6f5d0"
            ],
            [
             0.7,
             "#b8e186"
            ],
            [
             0.8,
             "#7fbc41"
            ],
            [
             0.9,
             "#4d9221"
            ],
            [
             1,
             "#276419"
            ]
           ],
           "sequential": [
            [
             0,
             "#0d0887"
            ],
            [
             0.1111111111111111,
             "#46039f"
            ],
            [
             0.2222222222222222,
             "#7201a8"
            ],
            [
             0.3333333333333333,
             "#9c179e"
            ],
            [
             0.4444444444444444,
             "#bd3786"
            ],
            [
             0.5555555555555556,
             "#d8576b"
            ],
            [
             0.6666666666666666,
             "#ed7953"
            ],
            [
             0.7777777777777778,
             "#fb9f3a"
            ],
            [
             0.8888888888888888,
             "#fdca26"
            ],
            [
             1,
             "#f0f921"
            ]
           ],
           "sequentialminus": [
            [
             0,
             "#0d0887"
            ],
            [
             0.1111111111111111,
             "#46039f"
            ],
            [
             0.2222222222222222,
             "#7201a8"
            ],
            [
             0.3333333333333333,
             "#9c179e"
            ],
            [
             0.4444444444444444,
             "#bd3786"
            ],
            [
             0.5555555555555556,
             "#d8576b"
            ],
            [
             0.6666666666666666,
             "#ed7953"
            ],
            [
             0.7777777777777778,
             "#fb9f3a"
            ],
            [
             0.8888888888888888,
             "#fdca26"
            ],
            [
             1,
             "#f0f921"
            ]
           ]
          },
          "colorway": [
           "#636efa",
           "#EF553B",
           "#00cc96",
           "#ab63fa",
           "#FFA15A",
           "#19d3f3",
           "#FF6692",
           "#B6E880",
           "#FF97FF",
           "#FECB52"
          ],
          "font": {
           "color": "#2a3f5f"
          },
          "geo": {
           "bgcolor": "white",
           "lakecolor": "white",
           "landcolor": "#E5ECF6",
           "showlakes": true,
           "showland": true,
           "subunitcolor": "white"
          },
          "hoverlabel": {
           "align": "left"
          },
          "hovermode": "closest",
          "mapbox": {
           "style": "light"
          },
          "paper_bgcolor": "white",
          "plot_bgcolor": "#E5ECF6",
          "polar": {
           "angularaxis": {
            "gridcolor": "white",
            "linecolor": "white",
            "ticks": ""
           },
           "bgcolor": "#E5ECF6",
           "radialaxis": {
            "gridcolor": "white",
            "linecolor": "white",
            "ticks": ""
           }
          },
          "scene": {
           "xaxis": {
            "backgroundcolor": "#E5ECF6",
            "gridcolor": "white",
            "gridwidth": 2,
            "linecolor": "white",
            "showbackground": true,
            "ticks": "",
            "zerolinecolor": "white"
           },
           "yaxis": {
            "backgroundcolor": "#E5ECF6",
            "gridcolor": "white",
            "gridwidth": 2,
            "linecolor": "white",
            "showbackground": true,
            "ticks": "",
            "zerolinecolor": "white"
           },
           "zaxis": {
            "backgroundcolor": "#E5ECF6",
            "gridcolor": "white",
            "gridwidth": 2,
            "linecolor": "white",
            "showbackground": true,
            "ticks": "",
            "zerolinecolor": "white"
           }
          },
          "shapedefaults": {
           "line": {
            "color": "#2a3f5f"
           }
          },
          "ternary": {
           "aaxis": {
            "gridcolor": "white",
            "linecolor": "white",
            "ticks": ""
           },
           "baxis": {
            "gridcolor": "white",
            "linecolor": "white",
            "ticks": ""
           },
           "bgcolor": "#E5ECF6",
           "caxis": {
            "gridcolor": "white",
            "linecolor": "white",
            "ticks": ""
           }
          },
          "title": {
           "x": 0.05
          },
          "xaxis": {
           "automargin": true,
           "gridcolor": "white",
           "linecolor": "white",
           "ticks": "",
           "title": {
            "standoff": 15
           },
           "zerolinecolor": "white",
           "zerolinewidth": 2
          },
          "yaxis": {
           "automargin": true,
           "gridcolor": "white",
           "linecolor": "white",
           "ticks": "",
           "title": {
            "standoff": 15
           },
           "zerolinecolor": "white",
           "zerolinewidth": 2
          }
         }
        },
        "title": {
         "text": "Francia"
        },
        "xaxis": {
         "anchor": "y",
         "domain": [
          0,
          1
         ],
         "title": {
          "text": "Quantity"
         }
        },
        "yaxis": {
         "anchor": "x",
         "domain": [
          0,
          1
         ],
         "title": {
          "text": "Revenue"
         }
        }
       }
      },
      "text/html": [
       "<div>                            <div id=\"69a721d6-bef2-4d5d-9597-937106359ec8\" class=\"plotly-graph-div\" style=\"height:525px; width:100%;\"></div>            <script type=\"text/javascript\">                require([\"plotly\"], function(Plotly) {                    window.PLOTLYENV=window.PLOTLYENV || {};                                    if (document.getElementById(\"69a721d6-bef2-4d5d-9597-937106359ec8\")) {                    Plotly.newPlot(                        \"69a721d6-bef2-4d5d-9597-937106359ec8\",                        [{\"hovertemplate\":\"Quantity=%{x}<br>Revenue=%{y}<extra></extra>\",\"legendgroup\":\"\",\"line\":{\"color\":\"#636efa\",\"dash\":\"solid\"},\"marker\":{\"symbol\":\"circle\"},\"mode\":\"lines\",\"name\":\"\",\"showlegend\":false,\"x\":[9,4,4,160,160,4,16,120,32,6,12,6,24,6,6,12,12,6,6,6,24,6,4,4,3,3,10,6,6,6,1,6,6,6,6,3,12,8,8,8,8,12,4,8,12,8,8,8,4,4,8,16,8,8,8,4,8,24,12,144,12,12,12,12,120,12,120,12,24,6,6,1,12,6,6,6,18,6,12,6,6,4,12,6,6,12,12,6,6,24,12,12,24,24,12,2,64,12,12,12,12,12,12,12,12,12,12,64,12,12,12,12,12,12,24,64,12,12,12,12,12,12,12,12,12,2,12,12,12,10,10,10,10,10,10,10,10,12,12,12,12,12,12,24,24,24,12,12,12,12,24,24,24,12,12,24,12,12,12,6,6,6,72,12,60,24,72,48,24,60,24,24,24,24,24,36,72,108,36,36,108,36,36,36,36,144,72,36,36,36,36,72,9,3,3,3,9,6,12,12,6,200,10,10,10,10,10,10,10,4,6,5,4,6,4,4,6,4,6,5,6,4,4,12,12,12,12,24,12,12,12,12,12,12,24,24,12,12,12,24,24,12,96,24,12,12,36,10,10,10,10,30,10,10,10,3,10,10,20,20,20,20,10,20,10,20,50,10,10,10,6,6,6,6,6,6,12,6,6,6,6,12,6,6,6,6,6,6,6,6,6,6,6,6,6,6,12,6,12,12,6,6,6,6,6,24,6,12,12,6,6,6,6,24,24,120,24,24,24,24,24,24,24,24,24,24,24,24,24,24,24,24,24,24,24,24,24,24,24,24,24,24,24,10,10,10,10,10,12,12,36,12,12,12,48,12,6,3,3,3,12,6,3,3,12,24,3,6,12,12,12,4,8,4,4,4,1,3,12,12,6,1,40,12,3,6,6,9,3,15,15,3,3,3,3,3,3,12,12,10,4,10,8,1,2,3,4,3,1,10,10,10,10,10,1,10,10,10,20,10,10,10,20,10,30,10,10,10,10,10,10,10,30,1,10,10,10,10,10,12,12,12,12,24,12,12,12,12,120,12,12,120,12,12,1,4,3,96,3,6,6,3,96,6,3,3,3,2,2,2,2,12,12,96,12,1,12,96,12,1,12,12,36,36,12,12,12,12,12,12,12,12,24,12,12,12,12,24,12,12,12,12,24,96,24,12,12,12,12,12,12,24,12,24,12,12,12,12,24,12,36,24,24,12,108,48,24,12,12,24,36,24,24,12,4,4,12,12,12,12,24,4,4,12,12,48,12,2,12,10,10,10,8,12,8,8,8,4,4,4,4,4,24,24,24,24,36,6,6,6,4,12,4,72,12,12,6,6,24,12,12,36,12,12,12,4,6,6,6,3,12,24,24,24,24,24,24,24,12,12,24,36,12,12,100,12,24,12,48,10,10,6,2,2,2,2,4,2,10,10,10,10,2,10,10,10,20,10,10,10,50,10,10,10,10,10,10,1,10,10,10,10,20,10,10,10,20,10,10,10,10,10,20,10,6,12,12,36,6,36,6,6,24,9,1,2,12,12,12,12,12,12,12,12,24,24,12,24,12,12,12,12,12,12,1,6,6,6,12,6,24,48,24,24,24,24,24,10,10,10,10,2,10,10,10,10,10,1,10,2,10,20,10,6,3,3,12,12,24,36,12,12,36,12,24,36,12,36,12,12,24,24,24,12,12,12,12,12,12,24,36,12,96,1,24,24,24,24,24,24,24,30,12,2,4,10,24,12,12,12,4,12,12,12,12,12,12,12,12,2,12,48,12,12,30,30,30,24,10,12,12,24,12,12,12,12,12,12,12,48,12,24,12,24,12,1,12,12,24,2,12,4,5,2,2,4,96,72,96,12,12,28,28,2,10,200,6,12,6,6,6,6,6,6,6,6,1,12,6,12,6,12,12,12,12,24,12,12,12,12,12,12,12,12,64,12,8,8,8,8,8,8,8,8,8,8,16,8,8,24,8,6,6,24,12,24,12,12,12,12,24,12,24,12,6,12,4,4,4,12,4,4,4,4,4,4,4,24,12,4,6,4,2,2,4,6,4,12,2,4,4,8,2,2,2,2,8,2,2,10,12,12,4,4,8,24,24,24,120,12,6,12,12,6,8,8,12,8,8,8,8,8,16,8,24,24,24,24,24,24,24,24,24,12,12,3,12,12,48,12,12,12,24,12,12,24,24,12,12,12,96,12,12,12,12,12,12,2,12,96,24,12,12,12,12,12,24,12,12,12,48,12,12,24,12,12,12,24,1,1,12,96,12,12,36,12,12,12,12,24,12,12,12,6,6,8,8,6,1,6,12,12,24,12,12,12,12,2,10,2,10,8,24,8,8,16,8,8,6,1,2,24,24,24,24,24,24,24,24,24,24,10,6,24,24,24,20,40,100,12,12,8,16,16,24,24,8,8,20,12,6,18,6,6,4,8,12,16,16,16,16,16,16,3,1,1,16,1,3,1,2,16,1,2,1,2,1,2,4,6,6,12,12,4,12,12,12,12,12,12,12,12,6,6,6,12,12,6,6,1,1,6,6,12,6,6,12,6,1,12,6,6,18,6,6,12,6,1,6,1,4,6,5,6,4,8,4,4,4,24,30,18,12,12,12,12,12,1,2,12,6,12,12,12,12,24,24,24,24,24,24,2,2,1,12,10,10,10,10,10,10,10,24,12,12,12,12,12,24,12,2,12,6,6,2,2,8,2,2,2,4,2,3,2,2,24,3,6,1,12,25,25,25,25,25,25,25,24,12,12,24,12,12,24,12,12,12,12,24,12,12,24,12,2,12,96,12,12,12,12,12,12,12,12,24,12,12,24,12,24,12,12,2,12,96,12,12,24,24,24,72,48,24,144,24,24,24,24,24,24,24,24,24,24,24,12,12,12,12,12,6,12,12,3,12,2,96,48,48,1,3,1,8,8,2,3,2,6,6,4,1,6,4,6,2,2,4,4,2,10,2,10,2,10,2,8,10,2,2,8,8,10,20,10,10,10,10,12,1,3,5,1,5,2,10,24,24,24,24,4,2,24,12,12,6,2,4,48,60,12,12,12,12,6,24,6,6,6,1,3,12,24,12,12,12,12,12,1,2,12,12,12,6,12,3,12,3,12,12,12,6,6,12,12,12,12,12,8,4,8,8,5,4,4,8,8,8,8,8,16,8,8,8,8,16,6,12,6,6,6,12,12,10,10,24,6,6,6,24,6,6,6,24,6,4,24,6,3,6,3,3,3,8,6,6,6,12,6,2,2,2,4,2,2,24,24,24,12,12,24,12,12,12,12,12,12,12,12,12,12,48,48,48,48,8,8,8,8,2,24,24,24,24,24,20,16,72,8,12,12,12,12,12,24,12,24,12,24,12,12,12,24,12,12,12,12,12,12,12,24,12,12,12,12,12,12,12,12,12,12,6,8,6,1,12,6,1,6,6,6,6,8,1,8,6,1,6,1,6,6,12,12,12,120,1,12,6,8,8,16,8,16,8,8,12,4,4,1,2,2,12,24,48,24,24,48,12,12,4,10,4,6,6,12,6,6,6,12,6,18,1,24,40,80,6,6,40,3,12,12,24,12,12,2,4,24,12,576,3,12,12,10,10,10,3,10,10,10,10,4,4,2,1,24,2,2,8,12,6,12,5,5,3,6,6,6,12,6,6,6,6,2,3,24,4,6,4,8,8,8,8,8,8,8,24,36,12,12,12,12,12,48,12,12,12,12,24,12,12,12,12,12,12,12,12,24,20,20,20,20,20,20,20,20,20,20,40,20,12,8,8,8,8,48,24,1,2,6,6,6,1,6,12,6,24,6,20,20,20,20,24,2,3,24,2,12,12,12,12,12,12,12,12,48,12,25,25,10,10,10,10,10,10,10,10,20,10,10,10,6,10,10,20,10,30,10,10,5,12,6,2,12,3,6,6,12,12,12,12,20,10,10,10,10,10,10,10,10,10,6,12,1,6,24,24,12,6,6,6,6,6,6,6,6,60,8,4,2,3,8,2,6,12,6,12,4,4,12,6,24,4,8,8,8,8,8,4,24,1,6,6,6,6,6,6,6,2,2,6,2,6,6,6,5,1,2,2,4,1,4,3,1,6,6,6,6,12,12,12,2,6,6,6,12,1,4,4,4,12,12,12,24,24,12,12,72,12,12,72,12,6,8,24,6,6,6,5,10,12,2,12,10,6,6,12,12,24,12,6,12,12,24,1,4,8,16,8,8,8,6,6,6,6,24,6,12,48,12,60,12,12,1,3,5,3,5,5,10,5,5,5,10,30,5,5,5,100,5,10,5,5,50,5,6,6,12,24,24,12,10,10,20,12,12,12,12,12,1,12,1,1,60,12,24,10,12,12,48,12,12,6,4,4,36,36,72,60,6,6,6,6,6,6,6,6,24,10,2,4,4,2,4,10,2,4,6,12,12,12,5,12,12,12,12,6,24,6,12,12,12,6,6,6,6,12,6,6,6,12,24,6,6,3,3,1,3,1,6,24,12,12,6,12,12,12,6,6,12,12,6,18,12,12,12,1,2,4,2,4,24,10,10,10,1,24,6,24,8,12,12,12,12,12,12,12,12,48,12,12,24,24,24,24,24,24,12,24,12,12,1,60,12,12,12,12,6,6,6,6,6,12,24,12,24,1,4,6,6,6,36,12,12,6,6,6,2,24,6,6,6,12,12,12,12,12,12,12,12,2,1,48,15,15,12,18,6,12,12,6,6,12,12,12,12,1,2,2,24,12,28,28,28,4,3,4,4,20,2,2,6,24,12,12,24,6,6,12,80,12,12,4,12,6,1,3,6,3,2,12,12,24,1,3,12,12,12,12,12,12,6,18,12,6,6,4,6,24,8,12,4,6,6,12,6,36,6,6,6,6,6,6,12,6,24,6,12,12,6,6,6,36,6,12,12,12,6,12,6,24,6,6,6,12,12,12,12,24,6,24,12,12,12,2,15,48,6,3,6,6,6,6,3,3,3,3,3,6,9,3,3,6,3,2,6,48,1,12,12,6,1,25,12,12,12,12,12,12,25,25,25,25,6,6,6,12,6,6,6,6,6,25,25,6,6,24,24,12,8,4,6,10,100,6,1,48,2,12,12,12,24,1,24,1,2,24,12,60,12,1,12,60,12,12,12,1,1,18,1,6,6,24,24,24,8,8,8,6,6,2,2,2,2,2,2,4,2,2,2,2,2,2,2,2,2,2,2,2,2,2,4,2,2,2,2,2,6,1,6,2,6,1,6,1,1,6,1,3,6,6,6,20,20,48,48,48,24,24,24,24,48,24,24,2,12,12,24,24,24,24,24,12,12,1,8,4,6,4,4,8,4,4,4,4,8,4,10,10,20,10,10,10,10,10,10,10,10,10,10,10,10,10,30,10,20,10,10,10,20,10,20,10,10,10,10,10,4,3,4,1,4,4,2,10,8,2,12,12,12,8,2,3,12,6,10,10,10,20,10,10,10,2,10,24,12,12,24,12,12,24,12,6,2,12,12,48,12,120,12,6,6,12,12,24,18,24,24,6,24,4,2,5,12,6,2,2,12,24,24,2,2,2,4,4,32],\"xaxis\":\"x\",\"y\":[26.55,15.0,34.0,232.0,232.0,6.76,27.04,202.8,54.08,12.6,25.2,12.6,50.40000000000001,12.6,12.6,25.2,25.2,12.6,12.6,12.6,50.40000000000001,12.6,15.0,15.0,14.85,17.85,67.5,25.5,25.5,25.5,4.25,25.5,29.7,29.7,29.7,17.85,45.0,30.0,30.0,30.0,30.0,45.0,15.0,30.0,45.0,30.0,30.0,30.0,15.0,15.0,30.0,60.0,30.0,30.0,30.0,15.0,30.0,20.4,7.800000000000001,27.36,7.800000000000001,7.800000000000001,10.2,10.2,102.0,10.2,102.0,15.0,30.0,17.7,17.7,3.25,39.0,19.5,17.7,17.7,53.1,17.7,35.40000000000001,17.7,17.7,11.8,35.40000000000001,17.7,17.7,35.40000000000001,35.40000000000001,17.7,17.7,46.8,23.4,23.4,46.8,46.8,23.4,3.9,105.6,23.4,23.4,23.4,23.4,23.4,23.4,23.4,23.4,23.4,23.4,105.6,23.4,23.4,23.4,23.4,23.4,23.4,46.8,105.6,23.4,23.4,23.4,23.4,23.4,23.4,23.4,23.4,23.4,3.9,23.4,23.4,23.4,8.5,8.5,8.5,8.5,8.5,8.5,8.5,8.5,19.8,19.8,19.8,19.8,19.8,19.8,39.59999999999999,39.59999999999999,39.59999999999999,19.8,19.8,19.8,19.8,39.59999999999999,39.59999999999999,39.59999999999999,19.8,19.8,39.59999999999999,19.8,19.8,19.8,17.7,17.7,17.7,234.0,39.0,25.2,10.08,30.24,20.16,10.08,25.2,10.08,10.08,10.08,10.08,10.08,23.4,46.8,70.2,23.4,23.4,70.2,23.4,23.4,23.4,23.4,93.60000000000001,46.8,23.4,23.4,23.4,23.4,46.8,53.55,17.85,17.85,17.85,53.55,35.7,15.0,15.0,15.3,358.0,20.8,20.8,20.8,8.5,8.5,8.5,8.5,16.6,24.9,20.75,16.6,24.9,16.6,16.6,22.5,16.6,24.9,20.75,24.9,16.6,16.6,10.2,10.2,10.2,10.2,20.4,10.2,10.2,10.2,10.2,10.2,10.2,20.4,20.4,10.2,10.2,10.2,20.4,20.4,10.2,61.44,20.4,10.2,10.2,30.6,16.5,16.5,16.5,16.5,49.5,16.5,16.5,16.5,4.949999999999999,16.5,16.5,33.0,33.0,33.0,33.0,16.5,33.0,16.5,33.0,82.5,16.5,16.5,16.5,15.3,15.3,15.3,15.3,15.3,15.3,30.6,15.3,15.3,15.3,15.3,30.6,15.3,15.3,15.3,15.3,15.3,15.3,15.3,15.3,15.3,15.3,15.3,15.3,15.3,15.3,30.6,15.3,30.6,30.6,15.3,15.3,15.3,15.3,15.3,61.2,15.3,30.6,30.6,15.3,15.3,15.3,15.3,13.2,13.2,50.4,13.2,13.2,13.2,13.2,13.2,13.2,13.2,13.2,13.2,13.2,13.2,13.2,13.2,10.08,13.2,13.2,13.2,13.2,13.2,13.2,13.2,13.2,13.2,13.2,13.2,13.2,13.2,19.5,19.5,19.5,20.8,20.8,17.4,17.4,52.2,17.4,17.4,17.4,69.6,17.4,29.7,14.85,14.85,14.85,59.40000000000001,29.7,14.85,14.85,59.40000000000001,102.0,14.85,12.6,15.0,15.0,10.2,10.2,20.4,10.2,10.2,10.2,2.08,6.24,24.96,30.6,17.7,2.95,102.0,17.4,14.85,29.7,29.7,53.55,17.85,89.25,89.25,17.85,17.85,17.85,17.85,17.85,17.85,17.4,17.4,19.5,15.0,21.0,23.6,5.95,29.9,19.35,11.8,17.85,1.95,20.8,16.5,16.5,16.5,16.5,1.65,16.5,16.5,16.5,33.0,16.5,16.5,16.5,33.0,16.5,49.5,16.5,19.5,19.5,19.5,19.5,19.5,19.5,58.5,1.95,20.8,20.8,20.8,20.8,20.8,23.4,23.4,23.4,5.04,10.08,5.04,10.2,10.2,10.2,86.39999999999999,17.4,17.4,86.39999999999999,19.8,19.8,8.5,19.8,17.85,475.2,17.85,35.7,35.7,17.85,475.2,35.7,17.85,17.85,17.85,17.0,17.0,17.0,17.0,10.2,10.2,69.12,10.2,0.85,10.2,69.12,10.2,0.85,10.2,10.2,30.6,30.6,10.2,10.2,10.2,10.2,10.2,10.2,10.2,10.2,20.4,10.2,10.2,10.2,10.2,20.4,10.2,10.2,10.2,10.2,20.4,69.12,20.4,7.800000000000001,7.800000000000001,7.800000000000001,7.800000000000001,7.800000000000001,7.800000000000001,15.6,7.800000000000001,15.6,7.800000000000001,7.800000000000001,7.800000000000001,7.800000000000001,15.6,7.800000000000001,23.4,15.6,15.6,7.800000000000001,70.2,31.2,15.6,7.800000000000001,7.800000000000001,15.6,23.4,10.08,10.08,19.8,15.0,15.0,15.0,15.0,17.4,15.0,30.0,23.8,23.8,5.04,17.88,60.0,17.88,2.98,19.8,16.5,16.5,16.5,30.0,45.0,30.0,30.0,30.0,15.0,15.0,15.0,15.0,15.0,6.959999999999999,6.959999999999999,6.959999999999999,6.959999999999999,91.8,17.7,17.7,40.5,27.0,15.0,5.0,76.32000000000001,19.8,19.8,20.1,20.1,34.8,17.4,17.4,52.2,17.4,19.8,19.8,10.2,17.7,17.7,17.7,6.300000000000001,25.2,30.0,30.0,30.0,30.0,30.0,30.0,20.4,15.0,15.0,30.0,45.0,15.0,15.0,106.0,15.0,30.0,15.0,60.0,12.5,12.5,47.7,15.9,15.9,15.9,15.9,31.8,15.9,16.5,16.5,16.5,16.5,3.3,16.5,16.5,16.5,33.0,16.5,16.5,16.5,82.5,16.5,16.5,16.5,16.5,16.5,16.5,1.65,16.5,16.5,16.5,16.5,33.0,16.5,16.5,16.5,33.0,16.5,16.5,16.5,16.5,16.5,33.0,16.5,15.3,30.6,30.6,75.60000000000001,15.3,75.60000000000001,15.3,15.3,20.4,22.95,16.95,21.3,15.0,15.0,15.0,15.0,15.0,15.0,15.0,15.0,20.4,20.4,10.2,20.4,15.0,15.0,15.0,15.0,15.0,15.0,1.25,12.6,12.6,12.6,25.2,12.6,13.2,20.16,13.2,13.2,13.2,13.2,13.2,16.5,16.5,16.5,16.5,3.3,16.5,16.5,16.5,16.5,16.5,1.65,16.5,3.3,16.5,33.0,16.5,17.7,8.850000000000001,8.850000000000001,15.0,15.0,30.0,45.0,15.0,15.0,45.0,15.0,30.0,45.0,15.0,45.0,10.2,10.2,20.4,20.4,20.4,10.2,23.4,25.2,25.2,25.2,25.2,50.40000000000001,75.60000000000001,25.2,201.6,2.1,20.4,20.4,20.4,20.4,20.4,20.4,20.4,37.5,11.4,15.9,31.8,67.5,10.08,5.04,5.04,5.04,17.0,17.4,17.4,17.4,17.4,17.4,19.8,19.8,19.8,3.3,19.8,79.19999999999999,19.8,19.8,6.3,6.3,6.3,10.08,16.5,15.0,15.0,30.0,15.0,15.0,15.0,15.0,15.0,15.0,15.0,60.0,17.4,34.8,17.4,30.0,15.0,1.25,15.0,15.0,39.59999999999999,3.3,19.8,15.0,10.5,15.9,15.9,15.0,40.32,30.24,40.32,10.2,15.0,5.88,5.88,3.9,19.5,358.0,17.7,35.40000000000001,17.7,17.7,17.7,17.7,17.7,17.7,17.7,17.7,2.95,35.40000000000001,17.7,35.40000000000001,17.7,23.4,23.4,23.4,23.4,46.8,23.4,23.4,23.4,23.4,23.4,23.4,23.4,23.4,105.6,23.4,13.52,13.52,13.52,13.52,13.52,13.52,13.52,13.52,13.52,13.52,27.04,13.52,13.52,40.56,13.52,17.7,17.7,70.80000000000001,19.8,4.56,7.800000000000001,7.800000000000001,19.8,19.8,39.59999999999999,19.8,39.59999999999999,35.40000000000001,17.7,35.40000000000001,15.0,15.0,15.0,25.2,19.8,19.8,19.8,19.8,19.8,19.8,19.8,30.0,15.0,31.8,47.7,31.8,15.9,15.9,31.8,47.7,31.8,76.19999999999999,15.9,31.8,31.8,63.6,15.9,15.9,15.9,15.9,63.6,15.9,15.9,16.5,10.2,10.2,15.0,15.0,30.0,6.959999999999999,6.959999999999999,6.959999999999999,34.8,25.2,12.6,25.2,25.2,12.6,15.6,15.6,23.4,15.6,15.6,15.6,15.6,15.6,31.2,15.6,13.2,13.2,13.2,13.2,13.2,13.2,13.2,13.2,13.2,10.2,10.2,14.85,19.8,19.8,79.19999999999999,19.8,19.8,19.8,39.59999999999999,19.8,19.8,39.59999999999999,39.59999999999999,19.8,19.8,19.8,139.2,19.8,19.8,19.8,19.8,19.8,19.8,3.3,19.8,139.2,39.59999999999999,19.8,19.8,19.8,19.8,19.8,39.59999999999999,19.8,19.8,19.8,79.19999999999999,19.8,19.8,39.59999999999999,19.8,19.8,19.8,39.59999999999999,1.65,1.65,19.8,139.2,19.8,19.8,59.4,19.8,19.8,19.8,19.8,10.08,15.0,23.4,23.4,17.7,17.7,20.4,20.4,17.7,2.95,17.7,15.0,15.0,54.0,17.4,17.4,17.4,17.4,19.9,12.5,2.5,12.5,15.6,46.8,15.6,15.6,31.2,15.6,15.6,9.899999999999999,5.95,11.9,30.0,30.0,30.0,30.0,30.0,30.0,30.0,30.0,30.0,30.0,16.5,17.7,6.959999999999999,30.0,30.0,8.4,34.0,85.0,15.0,15.0,13.2,26.4,26.4,39.59999999999999,39.59999999999999,13.2,13.2,33.0,30.6,17.7,53.1,17.7,17.7,15.0,30.0,30.6,20.0,20.0,20.0,20.0,20.0,20.0,38.25,12.75,12.75,175.2,12.75,38.25,12.75,25.5,175.2,12.75,25.5,12.75,25.5,12.75,25.5,51.0,17.7,17.7,5.04,5.04,17.0,15.0,5.04,5.04,5.04,5.04,5.04,5.04,5.04,17.7,17.7,17.7,35.40000000000001,35.40000000000001,17.7,17.7,2.95,2.95,17.7,19.5,39.0,19.5,19.5,39.0,15.3,2.55,30.6,17.7,17.7,53.1,17.7,17.7,35.40000000000001,17.7,1.95,17.7,9.95,19.8,22.5,20.75,24.9,16.6,33.2,16.6,16.6,16.6,50.40000000000001,63.0,37.8,15.0,10.2,10.2,10.2,10.2,0.85,19.9,35.40000000000001,17.7,35.40000000000001,35.40000000000001,35.40000000000001,35.40000000000001,15.6,15.6,15.6,15.6,15.6,15.6,17.0,17.0,8.5,23.4,19.5,19.5,19.5,19.5,20.8,20.8,20.8,39.59999999999999,19.8,19.8,5.04,5.04,30.6,39.59999999999999,19.8,3.3,19.8,17.7,17.7,5.9,19.9,68.0,19.9,19.9,19.9,39.8,19.9,29.85,19.9,19.9,46.8,14.85,59.7,3.95,5.04,10.5,10.5,10.5,10.5,10.5,10.5,10.5,30.0,19.8,19.8,39.59999999999999,19.8,19.8,39.59999999999999,19.8,19.8,19.8,19.8,39.59999999999999,19.8,19.8,39.59999999999999,19.8,3.3,19.8,139.2,19.8,19.8,19.8,19.8,19.8,19.8,19.8,19.8,39.59999999999999,19.8,19.8,39.59999999999999,19.8,39.59999999999999,19.8,19.8,3.3,19.8,139.2,19.8,19.8,10.08,10.08,10.08,30.24,20.16,10.08,51.84,6.959999999999999,6.959999999999999,6.959999999999999,6.959999999999999,6.959999999999999,6.959999999999999,6.959999999999999,6.959999999999999,6.959999999999999,6.959999999999999,6.959999999999999,15.0,15.0,15.0,15.0,15.0,17.7,15.0,15.0,6.300000000000001,25.2,13.5,81.6,40.8,40.8,16.95,32.84999999999999,10.95,87.6,87.6,21.9,32.84999999999999,21.9,65.69999999999999,65.69999999999999,43.8,10.95,17.7,15.0,45.90000000000001,15.3,15.3,15.0,15.0,15.9,67.5,15.9,67.5,15.9,67.5,15.9,63.6,67.5,15.9,15.9,13.2,13.2,8.5,17.0,8.5,8.5,8.5,8.5,19.8,8.95,26.85,44.75,8.95,44.75,17.9,19.5,10.08,10.08,10.08,10.08,31.8,9.9,20.4,10.2,10.2,47.7,33.9,59.8,60.0,75.0,15.0,15.0,15.0,15.0,17.7,70.80000000000001,17.7,17.7,17.7,2.1,6.300000000000001,15.0,30.0,15.0,15.0,15.0,15.0,15.0,1.25,2.5,15.0,15.0,15.0,47.7,25.2,17.85,71.4,17.85,15.0,15.0,15.0,12.6,17.7,5.04,5.04,5.04,5.04,5.04,30.0,15.0,30.0,30.0,20.75,16.6,15.0,6.8,6.8,6.8,6.8,6.8,13.6,6.8,6.8,6.8,6.8,20.0,12.6,19.8,12.6,12.6,22.5,15.0,15.0,12.5,12.5,10.08,19.5,19.5,19.5,78.0,19.5,19.5,19.5,78.0,19.5,19.8,61.2,29.7,14.85,29.7,14.85,14.85,14.85,23.6,35.7,35.7,35.7,35.40000000000001,59.7,19.9,15.9,15.9,31.8,15.9,9.9,10.08,10.08,10.08,5.04,5.04,10.08,5.04,5.04,5.04,5.04,5.04,5.04,5.04,5.04,5.04,5.04,13.92,13.92,13.92,13.92,15.6,15.6,15.6,15.6,9.3,15.6,15.6,15.6,15.6,15.6,8.4,31.2,140.4,15.6,10.2,10.2,10.2,10.2,10.2,4.56,7.800000000000001,4.56,10.2,20.4,15.0,5.04,5.04,10.08,5.04,5.04,5.04,5.04,5.04,5.04,5.04,10.08,5.04,5.04,5.04,5.04,5.04,5.04,15.0,15.0,15.0,15.0,11.7,15.6,11.7,1.95,23.4,11.7,1.95,11.7,11.7,11.7,11.7,15.6,1.95,15.6,11.7,1.95,11.7,1.95,11.7,11.7,23.4,15.0,10.2,86.39999999999999,9.95,30.6,15.3,10.0,10.0,20.0,10.0,20.0,10.0,10.0,25.2,8.4,17.0,7.95,15.9,15.9,10.2,30.0,50.88,30.0,30.0,50.88,15.0,15.0,15.0,49.5,19.8,17.7,17.7,35.40000000000001,17.7,17.7,17.7,35.40000000000001,17.7,53.1,2.95,70.80000000000001,102.0,204.0,17.7,17.7,102.0,14.85,10.2,10.2,20.4,10.2,83.4,15.9,5.8,34.8,19.8,835.1999999999999,16.35,19.8,19.8,19.5,19.5,19.5,5.85,20.8,20.8,20.8,20.8,17.0,17.0,1.7,0.85,10.08,11.9,11.9,15.6,35.40000000000001,17.7,10.2,14.75,14.75,17.85,17.7,17.7,17.7,30.6,15.3,22.5,22.5,22.5,17.0,25.5,183.6,34.0,51.0,34.0,10.0,10.0,6.8,6.8,6.8,6.8,6.8,39.59999999999999,23.4,7.800000000000001,7.800000000000001,7.800000000000001,7.800000000000001,7.800000000000001,40.8,10.2,10.2,10.2,10.2,20.4,10.2,10.2,10.2,10.2,10.2,10.2,10.2,10.2,39.59999999999999,17.0,17.0,17.0,17.0,17.0,17.0,17.0,17.0,17.0,17.0,34.0,17.0,19.8,10.0,10.0,10.0,10.0,20.16,10.08,7.95,9.9,12.6,12.6,12.6,1.45,12.6,25.2,12.6,50.40000000000001,12.6,13.0,13.0,13.0,13.0,5.04,19.9,14.85,30.0,2.5,15.0,15.0,15.0,10.2,10.2,10.2,10.2,10.2,40.8,10.2,10.5,10.5,8.5,8.5,8.5,8.5,8.5,8.5,8.5,8.5,17.0,8.5,8.5,8.5,17.7,8.5,8.5,17.0,8.5,25.5,8.5,8.5,10.5,9.0,29.7,9.9,59.40000000000001,14.85,17.7,17.7,5.04,5.04,5.04,5.04,17.0,8.5,8.5,8.5,8.5,8.5,8.5,8.5,8.5,8.5,17.7,35.40000000000001,2.95,17.7,20.4,20.4,10.2,13.5,13.5,13.5,13.5,13.5,13.5,15.3,2.34,75.0,61.2,34.0,17.0,25.5,61.2,17.0,13.5,25.2,12.6,25.2,8.4,8.4,15.0,17.7,20.4,19.8,6.8,6.8,6.8,6.8,6.8,17.0,39.59999999999999,2.55,15.3,15.3,15.3,15.3,15.3,15.3,15.3,9.9,19.9,41.7,15.9,19.5,19.5,19.5,16.25,14.95,29.9,29.9,51.0,14.95,51.0,38.25,29.95,12.6,12.6,12.6,12.6,25.2,17.4,17.4,12.7,15.3,15.3,15.3,17.4,1.45,15.0,15.0,15.0,10.2,5.04,5.04,15.6,15.6,15.0,10.2,61.2,10.2,10.2,61.2,10.2,17.7,30.0,81.36,17.7,17.7,17.7,23.25,49.5,59.40000000000001,9.9,59.40000000000001,67.5,29.7,17.7,15.0,15.0,30.0,15.0,7.5,15.0,15.0,30.0,1.69,6.76,13.2,26.4,13.2,13.2,13.2,15.3,15.3,15.3,15.3,61.2,15.3,15.0,60.0,15.0,75.0,15.0,15.0,8.95,26.85,44.75,26.85,14.75,14.75,29.5,14.75,14.75,14.75,29.5,88.5,14.75,14.75,14.75,255.0,14.75,29.5,14.75,14.75,127.5,14.75,17.7,17.7,10.2,20.4,20.4,10.2,12.5,12.5,25.0,10.2,17.4,17.4,17.4,17.4,1.45,17.4,2.55,1.25,75.0,30.6,20.4,12.5,15.0,15.0,31.2,25.2,25.2,12.6,15.0,15.0,7.56,7.56,15.12,51.0,15.3,15.3,19.5,19.5,9.899999999999999,19.5,19.5,19.5,46.8,14.5,17.0,34.0,34.0,17.0,39.8,99.5,19.9,39.8,59.7,10.2,10.2,19.8,18.75,15.0,15.0,25.2,25.2,17.7,20.4,17.7,35.40000000000001,17.4,19.8,9.899999999999999,9.899999999999999,9.899999999999999,9.899999999999999,19.8,9.899999999999999,9.899999999999999,9.899999999999999,15.0,20.4,25.5,25.5,12.75,12.75,12.75,14.85,0.42,15.3,10.08,5.04,5.04,15.3,5.04,5.04,17.4,12.6,17.7,10.2,10.2,17.7,53.1,45.0,10.2,10.2,15.95,31.9,51.0,31.9,51.0,34.8,12.5,12.5,12.5,0.42,20.4,9.899999999999999,9.36,30.0,19.8,19.8,15.0,15.0,15.0,15.0,15.0,15.0,50.88,15.0,15.0,30.0,30.0,30.0,30.0,30.0,30.0,10.2,20.4,10.2,10.2,0.85,51.0,10.2,10.2,10.2,10.2,12.6,12.6,12.6,12.6,12.6,10.2,20.4,10.2,10.08,0.42,15.0,15.3,15.3,15.3,91.8,15.0,15.0,29.7,29.7,29.7,5.9,6.959999999999999,12.6,12.6,12.6,10.2,10.2,10.2,10.2,10.2,15.0,15.0,131.4,25.5,2.95,40.8,6.3,6.3,30.6,45.9,15.3,30.6,20.28,12.6,12.6,23.4,5.04,15.0,15.0,2.95,15.9,15.9,5.04,10.2,5.88,5.88,5.88,19.8,14.85,19.8,19.8,17.0,15.9,15.9,15.3,6.959999999999999,10.2,10.2,20.4,9.899999999999999,9.899999999999999,19.8,12.8,10.2,10.2,5.8,19.8,12.6,3.95,14.85,29.7,14.85,9.9,15.0,15.0,10.08,2.1,14.85,10.2,10.2,10.2,10.2,10.2,35.40000000000001,15.3,45.9,19.8,12.6,12.6,8.4,12.6,46.8,10.0,19.8,19.8,15.3,15.3,30.6,15.3,75.60000000000001,15.3,15.3,15.3,15.3,15.3,15.3,30.6,15.3,61.2,15.3,30.6,30.6,15.3,15.3,15.3,75.60000000000001,15.3,30.6,30.6,30.6,15.3,30.6,15.3,61.2,15.3,15.3,15.3,10.2,30.6,30.6,10.2,10.08,15.3,15.6,9.959999999999999,9.959999999999999,9.959999999999999,19.9,44.25,50.40000000000001,17.7,38.25,12.6,12.6,12.6,29.7,14.85,14.85,14.85,14.85,14.85,29.7,44.55,14.85,14.85,29.7,14.85,25.5,2.34,18.72,0.65,5.04,5.04,12.6,2.1,10.5,7.800000000000001,7.800000000000001,2.28,19.8,19.8,19.8,10.5,10.5,10.5,10.5,17.7,17.7,17.7,35.40000000000001,17.7,17.7,17.7,17.7,17.7,10.5,10.5,17.7,12.6,20.4,20.4,10.2,30.0,15.0,17.7,39.5,275.0,19.5,3.25,20.16,9.9,15.0,15.0,15.0,10.08,0.42,10.08,0.42,0.84,10.08,23.4,117.0,23.4,1.95,23.4,117.0,23.4,23.4,23.4,0.42,0.42,67.5,3.75,22.5,22.5,10.08,15.6,15.6,18.0,18.0,18.0,17.34,17.34,16.5,16.5,16.5,16.5,16.5,16.5,33.0,16.5,16.5,16.5,16.5,16.5,16.5,16.5,16.5,16.5,16.5,16.5,16.5,16.5,16.5,33.0,16.5,16.5,16.5,16.5,16.5,89.69999999999999,16.95,89.69999999999999,33.9,89.69999999999999,16.95,89.69999999999999,16.95,16.95,89.69999999999999,16.95,50.84999999999999,89.69999999999999,89.69999999999999,89.69999999999999,25.0,25.0,60.0,60.0,60.0,30.0,30.0,30.0,30.0,60.0,30.0,30.0,9.9,24.96,24.96,49.92,49.92,19.92,19.92,49.92,24.96,24.96,2.08,33.2,16.6,24.9,16.6,16.6,33.2,16.6,16.6,16.6,16.6,33.2,16.6,16.5,20.8,41.6,20.8,20.8,20.8,20.8,16.5,16.5,16.5,16.5,16.5,16.5,16.5,16.5,16.5,49.5,16.5,33.0,16.5,16.5,16.5,17.0,8.5,17.0,8.5,8.5,16.5,16.5,16.5,50.0,37.5,50.0,12.5,33.0,33.0,16.5,41.5,26.32,25.0,17.4,9.959999999999999,11.4,19.92,15.9,14.85,59.40000000000001,29.7,16.5,16.5,16.5,33.0,16.5,20.8,20.8,25.0,20.8,19.92,9.959999999999999,19.8,39.59999999999999,19.8,19.8,39.59999999999999,19.8,24.9,19.9,19.8,19.8,69.6,19.8,214.8,24.96,12.48,12.48,24.96,24.96,42.96,37.44,42.96,42.96,12.48,19.92,30.0,15.0,31.25,64.67999999999999,37.5,12.5,11.5,19.8,39.59999999999999,69.36,15.0,15.0,25.0,50.0,35.8,40.0],\"yaxis\":\"y\",\"type\":\"scattergl\"}],                        {\"template\":{\"data\":{\"histogram2dcontour\":[{\"type\":\"histogram2dcontour\",\"colorbar\":{\"outlinewidth\":0,\"ticks\":\"\"},\"colorscale\":[[0.0,\"#0d0887\"],[0.1111111111111111,\"#46039f\"],[0.2222222222222222,\"#7201a8\"],[0.3333333333333333,\"#9c179e\"],[0.4444444444444444,\"#bd3786\"],[0.5555555555555556,\"#d8576b\"],[0.6666666666666666,\"#ed7953\"],[0.7777777777777778,\"#fb9f3a\"],[0.8888888888888888,\"#fdca26\"],[1.0,\"#f0f921\"]]}],\"choropleth\":[{\"type\":\"choropleth\",\"colorbar\":{\"outlinewidth\":0,\"ticks\":\"\"}}],\"histogram2d\":[{\"type\":\"histogram2d\",\"colorbar\":{\"outlinewidth\":0,\"ticks\":\"\"},\"colorscale\":[[0.0,\"#0d0887\"],[0.1111111111111111,\"#46039f\"],[0.2222222222222222,\"#7201a8\"],[0.3333333333333333,\"#9c179e\"],[0.4444444444444444,\"#bd3786\"],[0.5555555555555556,\"#d8576b\"],[0.6666666666666666,\"#ed7953\"],[0.7777777777777778,\"#fb9f3a\"],[0.8888888888888888,\"#fdca26\"],[1.0,\"#f0f921\"]]}],\"heatmap\":[{\"type\":\"heatmap\",\"colorbar\":{\"outlinewidth\":0,\"ticks\":\"\"},\"colorscale\":[[0.0,\"#0d0887\"],[0.1111111111111111,\"#46039f\"],[0.2222222222222222,\"#7201a8\"],[0.3333333333333333,\"#9c179e\"],[0.4444444444444444,\"#bd3786\"],[0.5555555555555556,\"#d8576b\"],[0.6666666666666666,\"#ed7953\"],[0.7777777777777778,\"#fb9f3a\"],[0.8888888888888888,\"#fdca26\"],[1.0,\"#f0f921\"]]}],\"heatmapgl\":[{\"type\":\"heatmapgl\",\"colorbar\":{\"outlinewidth\":0,\"ticks\":\"\"},\"colorscale\":[[0.0,\"#0d0887\"],[0.1111111111111111,\"#46039f\"],[0.2222222222222222,\"#7201a8\"],[0.3333333333333333,\"#9c179e\"],[0.4444444444444444,\"#bd3786\"],[0.5555555555555556,\"#d8576b\"],[0.6666666666666666,\"#ed7953\"],[0.7777777777777778,\"#fb9f3a\"],[0.8888888888888888,\"#fdca26\"],[1.0,\"#f0f921\"]]}],\"contourcarpet\":[{\"type\":\"contourcarpet\",\"colorbar\":{\"outlinewidth\":0,\"ticks\":\"\"}}],\"contour\":[{\"type\":\"contour\",\"colorbar\":{\"outlinewidth\":0,\"ticks\":\"\"},\"colorscale\":[[0.0,\"#0d0887\"],[0.1111111111111111,\"#46039f\"],[0.2222222222222222,\"#7201a8\"],[0.3333333333333333,\"#9c179e\"],[0.4444444444444444,\"#bd3786\"],[0.5555555555555556,\"#d8576b\"],[0.6666666666666666,\"#ed7953\"],[0.7777777777777778,\"#fb9f3a\"],[0.8888888888888888,\"#fdca26\"],[1.0,\"#f0f921\"]]}],\"surface\":[{\"type\":\"surface\",\"colorbar\":{\"outlinewidth\":0,\"ticks\":\"\"},\"colorscale\":[[0.0,\"#0d0887\"],[0.1111111111111111,\"#46039f\"],[0.2222222222222222,\"#7201a8\"],[0.3333333333333333,\"#9c179e\"],[0.4444444444444444,\"#bd3786\"],[0.5555555555555556,\"#d8576b\"],[0.6666666666666666,\"#ed7953\"],[0.7777777777777778,\"#fb9f3a\"],[0.8888888888888888,\"#fdca26\"],[1.0,\"#f0f921\"]]}],\"mesh3d\":[{\"type\":\"mesh3d\",\"colorbar\":{\"outlinewidth\":0,\"ticks\":\"\"}}],\"scatter\":[{\"fillpattern\":{\"fillmode\":\"overlay\",\"size\":10,\"solidity\":0.2},\"type\":\"scatter\"}],\"parcoords\":[{\"type\":\"parcoords\",\"line\":{\"colorbar\":{\"outlinewidth\":0,\"ticks\":\"\"}}}],\"scatterpolargl\":[{\"type\":\"scatterpolargl\",\"marker\":{\"colorbar\":{\"outlinewidth\":0,\"ticks\":\"\"}}}],\"bar\":[{\"error_x\":{\"color\":\"#2a3f5f\"},\"error_y\":{\"color\":\"#2a3f5f\"},\"marker\":{\"line\":{\"color\":\"#E5ECF6\",\"width\":0.5},\"pattern\":{\"fillmode\":\"overlay\",\"size\":10,\"solidity\":0.2}},\"type\":\"bar\"}],\"scattergeo\":[{\"type\":\"scattergeo\",\"marker\":{\"colorbar\":{\"outlinewidth\":0,\"ticks\":\"\"}}}],\"scatterpolar\":[{\"type\":\"scatterpolar\",\"marker\":{\"colorbar\":{\"outlinewidth\":0,\"ticks\":\"\"}}}],\"histogram\":[{\"marker\":{\"pattern\":{\"fillmode\":\"overlay\",\"size\":10,\"solidity\":0.2}},\"type\":\"histogram\"}],\"scattergl\":[{\"type\":\"scattergl\",\"marker\":{\"colorbar\":{\"outlinewidth\":0,\"ticks\":\"\"}}}],\"scatter3d\":[{\"type\":\"scatter3d\",\"line\":{\"colorbar\":{\"outlinewidth\":0,\"ticks\":\"\"}},\"marker\":{\"colorbar\":{\"outlinewidth\":0,\"ticks\":\"\"}}}],\"scattermapbox\":[{\"type\":\"scattermapbox\",\"marker\":{\"colorbar\":{\"outlinewidth\":0,\"ticks\":\"\"}}}],\"scatterternary\":[{\"type\":\"scatterternary\",\"marker\":{\"colorbar\":{\"outlinewidth\":0,\"ticks\":\"\"}}}],\"scattercarpet\":[{\"type\":\"scattercarpet\",\"marker\":{\"colorbar\":{\"outlinewidth\":0,\"ticks\":\"\"}}}],\"carpet\":[{\"aaxis\":{\"endlinecolor\":\"#2a3f5f\",\"gridcolor\":\"white\",\"linecolor\":\"white\",\"minorgridcolor\":\"white\",\"startlinecolor\":\"#2a3f5f\"},\"baxis\":{\"endlinecolor\":\"#2a3f5f\",\"gridcolor\":\"white\",\"linecolor\":\"white\",\"minorgridcolor\":\"white\",\"startlinecolor\":\"#2a3f5f\"},\"type\":\"carpet\"}],\"table\":[{\"cells\":{\"fill\":{\"color\":\"#EBF0F8\"},\"line\":{\"color\":\"white\"}},\"header\":{\"fill\":{\"color\":\"#C8D4E3\"},\"line\":{\"color\":\"white\"}},\"type\":\"table\"}],\"barpolar\":[{\"marker\":{\"line\":{\"color\":\"#E5ECF6\",\"width\":0.5},\"pattern\":{\"fillmode\":\"overlay\",\"size\":10,\"solidity\":0.2}},\"type\":\"barpolar\"}],\"pie\":[{\"automargin\":true,\"type\":\"pie\"}]},\"layout\":{\"autotypenumbers\":\"strict\",\"colorway\":[\"#636efa\",\"#EF553B\",\"#00cc96\",\"#ab63fa\",\"#FFA15A\",\"#19d3f3\",\"#FF6692\",\"#B6E880\",\"#FF97FF\",\"#FECB52\"],\"font\":{\"color\":\"#2a3f5f\"},\"hovermode\":\"closest\",\"hoverlabel\":{\"align\":\"left\"},\"paper_bgcolor\":\"white\",\"plot_bgcolor\":\"#E5ECF6\",\"polar\":{\"bgcolor\":\"#E5ECF6\",\"angularaxis\":{\"gridcolor\":\"white\",\"linecolor\":\"white\",\"ticks\":\"\"},\"radialaxis\":{\"gridcolor\":\"white\",\"linecolor\":\"white\",\"ticks\":\"\"}},\"ternary\":{\"bgcolor\":\"#E5ECF6\",\"aaxis\":{\"gridcolor\":\"white\",\"linecolor\":\"white\",\"ticks\":\"\"},\"baxis\":{\"gridcolor\":\"white\",\"linecolor\":\"white\",\"ticks\":\"\"},\"caxis\":{\"gridcolor\":\"white\",\"linecolor\":\"white\",\"ticks\":\"\"}},\"coloraxis\":{\"colorbar\":{\"outlinewidth\":0,\"ticks\":\"\"}},\"colorscale\":{\"sequential\":[[0.0,\"#0d0887\"],[0.1111111111111111,\"#46039f\"],[0.2222222222222222,\"#7201a8\"],[0.3333333333333333,\"#9c179e\"],[0.4444444444444444,\"#bd3786\"],[0.5555555555555556,\"#d8576b\"],[0.6666666666666666,\"#ed7953\"],[0.7777777777777778,\"#fb9f3a\"],[0.8888888888888888,\"#fdca26\"],[1.0,\"#f0f921\"]],\"sequentialminus\":[[0.0,\"#0d0887\"],[0.1111111111111111,\"#46039f\"],[0.2222222222222222,\"#7201a8\"],[0.3333333333333333,\"#9c179e\"],[0.4444444444444444,\"#bd3786\"],[0.5555555555555556,\"#d8576b\"],[0.6666666666666666,\"#ed7953\"],[0.7777777777777778,\"#fb9f3a\"],[0.8888888888888888,\"#fdca26\"],[1.0,\"#f0f921\"]],\"diverging\":[[0,\"#8e0152\"],[0.1,\"#c51b7d\"],[0.2,\"#de77ae\"],[0.3,\"#f1b6da\"],[0.4,\"#fde0ef\"],[0.5,\"#f7f7f7\"],[0.6,\"#e6f5d0\"],[0.7,\"#b8e186\"],[0.8,\"#7fbc41\"],[0.9,\"#4d9221\"],[1,\"#276419\"]]},\"xaxis\":{\"gridcolor\":\"white\",\"linecolor\":\"white\",\"ticks\":\"\",\"title\":{\"standoff\":15},\"zerolinecolor\":\"white\",\"automargin\":true,\"zerolinewidth\":2},\"yaxis\":{\"gridcolor\":\"white\",\"linecolor\":\"white\",\"ticks\":\"\",\"title\":{\"standoff\":15},\"zerolinecolor\":\"white\",\"automargin\":true,\"zerolinewidth\":2},\"scene\":{\"xaxis\":{\"backgroundcolor\":\"#E5ECF6\",\"gridcolor\":\"white\",\"linecolor\":\"white\",\"showbackground\":true,\"ticks\":\"\",\"zerolinecolor\":\"white\",\"gridwidth\":2},\"yaxis\":{\"backgroundcolor\":\"#E5ECF6\",\"gridcolor\":\"white\",\"linecolor\":\"white\",\"showbackground\":true,\"ticks\":\"\",\"zerolinecolor\":\"white\",\"gridwidth\":2},\"zaxis\":{\"backgroundcolor\":\"#E5ECF6\",\"gridcolor\":\"white\",\"linecolor\":\"white\",\"showbackground\":true,\"ticks\":\"\",\"zerolinecolor\":\"white\",\"gridwidth\":2}},\"shapedefaults\":{\"line\":{\"color\":\"#2a3f5f\"}},\"annotationdefaults\":{\"arrowcolor\":\"#2a3f5f\",\"arrowhead\":0,\"arrowwidth\":1},\"geo\":{\"bgcolor\":\"white\",\"landcolor\":\"#E5ECF6\",\"subunitcolor\":\"white\",\"showland\":true,\"showlakes\":true,\"lakecolor\":\"white\"},\"title\":{\"x\":0.05},\"mapbox\":{\"style\":\"light\"}}},\"xaxis\":{\"anchor\":\"y\",\"domain\":[0.0,1.0],\"title\":{\"text\":\"Quantity\"}},\"yaxis\":{\"anchor\":\"x\",\"domain\":[0.0,1.0],\"title\":{\"text\":\"Revenue\"}},\"legend\":{\"tracegroupgap\":0},\"title\":{\"text\":\"Francia\"}},                        {\"responsive\": true}                    ).then(function(){\n",
       "                            \n",
       "var gd = document.getElementById('69a721d6-bef2-4d5d-9597-937106359ec8');\n",
       "var x = new MutationObserver(function (mutations, observer) {{\n",
       "        var display = window.getComputedStyle(gd).display;\n",
       "        if (!display || display === 'none') {{\n",
       "            console.log([gd, 'removed!']);\n",
       "            Plotly.purge(gd);\n",
       "            observer.disconnect();\n",
       "        }}\n",
       "}});\n",
       "\n",
       "// Listen for the removal of the full notebook cells\n",
       "var notebookContainer = gd.closest('#notebook-container');\n",
       "if (notebookContainer) {{\n",
       "    x.observe(notebookContainer, {childList: true});\n",
       "}}\n",
       "\n",
       "// Listen for the clearing of the current output cell\n",
       "var outputEl = gd.closest('.output');\n",
       "if (outputEl) {{\n",
       "    x.observe(outputEl, {childList: true});\n",
       "}}\n",
       "\n",
       "                        })                };                });            </script>        </div>"
      ]
     },
     "metadata": {},
     "output_type": "display_data"
    }
   ],
   "source": [
    "import plotly.express as px\n",
    "\n",
    "fig = px.line(francia, x=\"Quantity\", y=\"Revenue\", title='Francia')\n",
    "fig.show()"
   ]
  },
  {
   "cell_type": "markdown",
   "metadata": {},
   "source": [
    "## 3. Create an interactive scatter plot showing the relationship between average quantity (x-axis) and average unit price (y-axis) for the product PARTY BUNTING with the plot points color-coded by country (categories)."
   ]
  },
  {
   "cell_type": "code",
   "execution_count": 39,
   "metadata": {},
   "outputs": [
    {
     "name": "stderr",
     "output_type": "stream",
     "text": [
      "2023-02-14 21:08:07,289 [15896] WARNING  py.warnings:109: [JupyterRequire] /home/usuario/anaconda3/lib/python3.9/site-packages/cufflinks/plotlytools.py:807: FutureWarning:\n",
      "\n",
      "The pandas.np module is deprecated and will be removed from pandas in a future version. Import numpy directly instead.\n",
      "\n",
      "\n",
      "2023-02-14 21:08:07,290 [15896] WARNING  py.warnings:109: [JupyterRequire] /home/usuario/anaconda3/lib/python3.9/site-packages/cufflinks/plotlytools.py:810: FutureWarning:\n",
      "\n",
      "The pandas.np module is deprecated and will be removed from pandas in a future version. Import numpy directly instead.\n",
      "\n",
      "\n"
     ]
    },
    {
     "data": {
      "application/vnd.plotly.v1+json": {
       "config": {
        "linkText": "Export to plot.ly",
        "plotlyServerURL": "https://plot.ly",
        "showLink": true
       },
       "data": [
        {
         "marker": {
          "color": "rgba(55, 128, 191, 1.0)",
          "line": {
           "width": 1.3
          },
          "opacity": 0.8,
          "size": 12,
          "symbol": "circle"
         },
         "mode": "markers",
         "name": "Australia",
         "textfont": {
          "color": "#4D5663"
         },
         "type": "scatter",
         "x": [
          33.125
         ],
         "y": [
          4.7125
         ]
        },
        {
         "marker": {
          "color": "rgba(55, 128, 191, 0.96)",
          "line": {
           "width": 1.3
          },
          "opacity": 0.8,
          "size": 12,
          "symbol": "circle"
         },
         "mode": "markers",
         "name": "Austria",
         "textfont": {
          "color": "#4D5663"
         },
         "type": "scatter",
         "x": [
          8
         ],
         "y": [
          4.95
         ]
        },
        {
         "marker": {
          "color": "rgba(55, 128, 191, 0.9199999999999999)",
          "line": {
           "width": 1.3
          },
          "opacity": 0.8,
          "size": 12,
          "symbol": "circle"
         },
         "mode": "markers",
         "name": "Belgium",
         "textfont": {
          "color": "#4D5663"
         },
         "type": "scatter",
         "x": [
          4
         ],
         "y": [
          4.95
         ]
        },
        {
         "marker": {
          "color": "rgba(55, 128, 191, 0.8799999999999999)",
          "line": {
           "width": 1.3
          },
          "opacity": 0.8,
          "size": 12,
          "symbol": "circle"
         },
         "mode": "markers",
         "name": "Channel Islands",
         "textfont": {
          "color": "#4D5663"
         },
         "type": "scatter",
         "x": [
          13.333333333333334
         ],
         "y": [
          4.95
         ]
        },
        {
         "marker": {
          "color": "rgba(55, 128, 191, 0.8399999999999999)",
          "line": {
           "width": 1.3
          },
          "opacity": 0.8,
          "size": 12,
          "symbol": "circle"
         },
         "mode": "markers",
         "name": "Cyprus",
         "textfont": {
          "color": "#4D5663"
         },
         "type": "scatter",
         "x": [
          2.3333333333333335
         ],
         "y": [
          4.75
         ]
        },
        {
         "marker": {
          "color": "rgba(55, 128, 191, 0.8)",
          "line": {
           "width": 1.3
          },
          "opacity": 0.8,
          "size": 12,
          "symbol": "circle"
         },
         "mode": "markers",
         "name": "Denmark",
         "textfont": {
          "color": "#4D5663"
         },
         "type": "scatter",
         "x": [
          12
         ],
         "y": [
          4.95
         ]
        },
        {
         "marker": {
          "color": "rgba(55, 128, 191, 0.76)",
          "line": {
           "width": 1.3
          },
          "opacity": 0.8,
          "size": 12,
          "symbol": "circle"
         },
         "mode": "markers",
         "name": "EIRE",
         "textfont": {
          "color": "#4D5663"
         },
         "type": "scatter",
         "x": [
          21.210526315789473
         ],
         "y": [
          4.739473684210527
         ]
        },
        {
         "marker": {
          "color": "rgba(55, 128, 191, 0.72)",
          "line": {
           "width": 1.3
          },
          "opacity": 0.8,
          "size": 12,
          "symbol": "circle"
         },
         "mode": "markers",
         "name": "Finland",
         "textfont": {
          "color": "#4D5663"
         },
         "type": "scatter",
         "x": [
          6
         ],
         "y": [
          4.95
         ]
        },
        {
         "marker": {
          "color": "rgba(55, 128, 191, 0.6799999999999999)",
          "line": {
           "width": 1.3
          },
          "opacity": 0.8,
          "size": 12,
          "symbol": "circle"
         },
         "mode": "markers",
         "name": "France",
         "textfont": {
          "color": "#4D5663"
         },
         "type": "scatter",
         "x": [
          5.7272727272727275
         ],
         "y": [
          4.922727272727273
         ]
        },
        {
         "marker": {
          "color": "rgba(55, 128, 191, 0.6399999999999999)",
          "line": {
           "width": 1.3
          },
          "opacity": 0.8,
          "size": 12,
          "symbol": "circle"
         },
         "mode": "markers",
         "name": "Germany",
         "textfont": {
          "color": "#4D5663"
         },
         "type": "scatter",
         "x": [
          6.8
         ],
         "y": [
          4.890000000000001
         ]
        },
        {
         "marker": {
          "color": "rgba(55, 128, 191, 0.5999999999999999)",
          "line": {
           "width": 1.3
          },
          "opacity": 0.8,
          "size": 12,
          "symbol": "circle"
         },
         "mode": "markers",
         "name": "Israel",
         "textfont": {
          "color": "#4D5663"
         },
         "type": "scatter",
         "x": [
          1
         ],
         "y": [
          4.95
         ]
        },
        {
         "marker": {
          "color": "rgba(55, 128, 191, 0.5599999999999998)",
          "line": {
           "width": 1.3
          },
          "opacity": 0.8,
          "size": 12,
          "symbol": "circle"
         },
         "mode": "markers",
         "name": "Japan",
         "textfont": {
          "color": "#4D5663"
         },
         "type": "scatter",
         "x": [
          56.666666666666664
         ],
         "y": [
          4.183333333333334
         ]
        },
        {
         "marker": {
          "color": "rgba(55, 128, 191, 0.5199999999999998)",
          "line": {
           "width": 1.3
          },
          "opacity": 0.8,
          "size": 12,
          "symbol": "circle"
         },
         "mode": "markers",
         "name": "Lebanon",
         "textfont": {
          "color": "#4D5663"
         },
         "type": "scatter",
         "x": [
          15
         ],
         "y": [
          4.65
         ]
        },
        {
         "marker": {
          "color": "rgba(55, 128, 191, 0.4799999999999998)",
          "line": {
           "width": 1.3
          },
          "opacity": 0.8,
          "size": 12,
          "symbol": "circle"
         },
         "mode": "markers",
         "name": "Netherlands",
         "textfont": {
          "color": "#4D5663"
         },
         "type": "scatter",
         "x": [
          50
         ],
         "y": [
          4.15
         ]
        },
        {
         "marker": {
          "color": "rgba(55, 128, 191, 0.44)",
          "line": {
           "width": 1.3
          },
          "opacity": 0.8,
          "size": 12,
          "symbol": "circle"
         },
         "mode": "markers",
         "name": "Norway",
         "textfont": {
          "color": "#4D5663"
         },
         "type": "scatter",
         "x": [
          6
         ],
         "y": [
          4.95
         ]
        },
        {
         "marker": {
          "color": "rgba(55, 128, 191, 0.39999999999999997)",
          "line": {
           "width": 1.3
          },
          "opacity": 0.8,
          "size": 12,
          "symbol": "circle"
         },
         "mode": "markers",
         "name": "Singapore",
         "textfont": {
          "color": "#4D5663"
         },
         "type": "scatter",
         "x": [
          8
         ],
         "y": [
          4.95
         ]
        },
        {
         "marker": {
          "color": "rgba(55, 128, 191, 0.35999999999999993)",
          "line": {
           "width": 1.3
          },
          "opacity": 0.8,
          "size": 12,
          "symbol": "circle"
         },
         "mode": "markers",
         "name": "South Africa",
         "textfont": {
          "color": "#4D5663"
         },
         "type": "scatter",
         "x": [
          4
         ],
         "y": [
          4.95
         ]
        },
        {
         "marker": {
          "color": "rgba(55, 128, 191, 0.3199999999999999)",
          "line": {
           "width": 1.3
          },
          "opacity": 0.8,
          "size": 12,
          "symbol": "circle"
         },
         "mode": "markers",
         "name": "Spain",
         "textfont": {
          "color": "#4D5663"
         },
         "type": "scatter",
         "x": [
          4.75
         ],
         "y": [
          4.8375
         ]
        },
        {
         "marker": {
          "color": "rgba(55, 128, 191, 0.27999999999999986)",
          "line": {
           "width": 1.3
          },
          "opacity": 0.8,
          "size": 12,
          "symbol": "circle"
         },
         "mode": "markers",
         "name": "Switzerland",
         "textfont": {
          "color": "#4D5663"
         },
         "type": "scatter",
         "x": [
          17.2
         ],
         "y": [
          4.790000000000001
         ]
        },
        {
         "marker": {
          "color": "rgba(55, 128, 191, 0.23999999999999982)",
          "line": {
           "width": 1.3
          },
          "opacity": 0.8,
          "size": 12,
          "symbol": "circle"
         },
         "mode": "markers",
         "name": "United Kingdom",
         "textfont": {
          "color": "#4D5663"
         },
         "type": "scatter",
         "x": [
          10.705432287681713
         ],
         "y": [
          4.880925784238714
         ]
        }
       ],
       "layout": {
        "legend": {
         "bgcolor": "#F5F6F9",
         "font": {
          "color": "#4D5663"
         }
        },
        "paper_bgcolor": "#F5F6F9",
        "plot_bgcolor": "#F5F6F9",
        "template": {
         "data": {
          "bar": [
           {
            "error_x": {
             "color": "#2a3f5f"
            },
            "error_y": {
             "color": "#2a3f5f"
            },
            "marker": {
             "line": {
              "color": "#E5ECF6",
              "width": 0.5
             },
             "pattern": {
              "fillmode": "overlay",
              "size": 10,
              "solidity": 0.2
             }
            },
            "type": "bar"
           }
          ],
          "barpolar": [
           {
            "marker": {
             "line": {
              "color": "#E5ECF6",
              "width": 0.5
             },
             "pattern": {
              "fillmode": "overlay",
              "size": 10,
              "solidity": 0.2
             }
            },
            "type": "barpolar"
           }
          ],
          "carpet": [
           {
            "aaxis": {
             "endlinecolor": "#2a3f5f",
             "gridcolor": "white",
             "linecolor": "white",
             "minorgridcolor": "white",
             "startlinecolor": "#2a3f5f"
            },
            "baxis": {
             "endlinecolor": "#2a3f5f",
             "gridcolor": "white",
             "linecolor": "white",
             "minorgridcolor": "white",
             "startlinecolor": "#2a3f5f"
            },
            "type": "carpet"
           }
          ],
          "choropleth": [
           {
            "colorbar": {
             "outlinewidth": 0,
             "ticks": ""
            },
            "type": "choropleth"
           }
          ],
          "contour": [
           {
            "colorbar": {
             "outlinewidth": 0,
             "ticks": ""
            },
            "colorscale": [
             [
              0,
              "#0d0887"
             ],
             [
              0.1111111111111111,
              "#46039f"
             ],
             [
              0.2222222222222222,
              "#7201a8"
             ],
             [
              0.3333333333333333,
              "#9c179e"
             ],
             [
              0.4444444444444444,
              "#bd3786"
             ],
             [
              0.5555555555555556,
              "#d8576b"
             ],
             [
              0.6666666666666666,
              "#ed7953"
             ],
             [
              0.7777777777777778,
              "#fb9f3a"
             ],
             [
              0.8888888888888888,
              "#fdca26"
             ],
             [
              1,
              "#f0f921"
             ]
            ],
            "type": "contour"
           }
          ],
          "contourcarpet": [
           {
            "colorbar": {
             "outlinewidth": 0,
             "ticks": ""
            },
            "type": "contourcarpet"
           }
          ],
          "heatmap": [
           {
            "colorbar": {
             "outlinewidth": 0,
             "ticks": ""
            },
            "colorscale": [
             [
              0,
              "#0d0887"
             ],
             [
              0.1111111111111111,
              "#46039f"
             ],
             [
              0.2222222222222222,
              "#7201a8"
             ],
             [
              0.3333333333333333,
              "#9c179e"
             ],
             [
              0.4444444444444444,
              "#bd3786"
             ],
             [
              0.5555555555555556,
              "#d8576b"
             ],
             [
              0.6666666666666666,
              "#ed7953"
             ],
             [
              0.7777777777777778,
              "#fb9f3a"
             ],
             [
              0.8888888888888888,
              "#fdca26"
             ],
             [
              1,
              "#f0f921"
             ]
            ],
            "type": "heatmap"
           }
          ],
          "heatmapgl": [
           {
            "colorbar": {
             "outlinewidth": 0,
             "ticks": ""
            },
            "colorscale": [
             [
              0,
              "#0d0887"
             ],
             [
              0.1111111111111111,
              "#46039f"
             ],
             [
              0.2222222222222222,
              "#7201a8"
             ],
             [
              0.3333333333333333,
              "#9c179e"
             ],
             [
              0.4444444444444444,
              "#bd3786"
             ],
             [
              0.5555555555555556,
              "#d8576b"
             ],
             [
              0.6666666666666666,
              "#ed7953"
             ],
             [
              0.7777777777777778,
              "#fb9f3a"
             ],
             [
              0.8888888888888888,
              "#fdca26"
             ],
             [
              1,
              "#f0f921"
             ]
            ],
            "type": "heatmapgl"
           }
          ],
          "histogram": [
           {
            "marker": {
             "pattern": {
              "fillmode": "overlay",
              "size": 10,
              "solidity": 0.2
             }
            },
            "type": "histogram"
           }
          ],
          "histogram2d": [
           {
            "colorbar": {
             "outlinewidth": 0,
             "ticks": ""
            },
            "colorscale": [
             [
              0,
              "#0d0887"
             ],
             [
              0.1111111111111111,
              "#46039f"
             ],
             [
              0.2222222222222222,
              "#7201a8"
             ],
             [
              0.3333333333333333,
              "#9c179e"
             ],
             [
              0.4444444444444444,
              "#bd3786"
             ],
             [
              0.5555555555555556,
              "#d8576b"
             ],
             [
              0.6666666666666666,
              "#ed7953"
             ],
             [
              0.7777777777777778,
              "#fb9f3a"
             ],
             [
              0.8888888888888888,
              "#fdca26"
             ],
             [
              1,
              "#f0f921"
             ]
            ],
            "type": "histogram2d"
           }
          ],
          "histogram2dcontour": [
           {
            "colorbar": {
             "outlinewidth": 0,
             "ticks": ""
            },
            "colorscale": [
             [
              0,
              "#0d0887"
             ],
             [
              0.1111111111111111,
              "#46039f"
             ],
             [
              0.2222222222222222,
              "#7201a8"
             ],
             [
              0.3333333333333333,
              "#9c179e"
             ],
             [
              0.4444444444444444,
              "#bd3786"
             ],
             [
              0.5555555555555556,
              "#d8576b"
             ],
             [
              0.6666666666666666,
              "#ed7953"
             ],
             [
              0.7777777777777778,
              "#fb9f3a"
             ],
             [
              0.8888888888888888,
              "#fdca26"
             ],
             [
              1,
              "#f0f921"
             ]
            ],
            "type": "histogram2dcontour"
           }
          ],
          "mesh3d": [
           {
            "colorbar": {
             "outlinewidth": 0,
             "ticks": ""
            },
            "type": "mesh3d"
           }
          ],
          "parcoords": [
           {
            "line": {
             "colorbar": {
              "outlinewidth": 0,
              "ticks": ""
             }
            },
            "type": "parcoords"
           }
          ],
          "pie": [
           {
            "automargin": true,
            "type": "pie"
           }
          ],
          "scatter": [
           {
            "fillpattern": {
             "fillmode": "overlay",
             "size": 10,
             "solidity": 0.2
            },
            "type": "scatter"
           }
          ],
          "scatter3d": [
           {
            "line": {
             "colorbar": {
              "outlinewidth": 0,
              "ticks": ""
             }
            },
            "marker": {
             "colorbar": {
              "outlinewidth": 0,
              "ticks": ""
             }
            },
            "type": "scatter3d"
           }
          ],
          "scattercarpet": [
           {
            "marker": {
             "colorbar": {
              "outlinewidth": 0,
              "ticks": ""
             }
            },
            "type": "scattercarpet"
           }
          ],
          "scattergeo": [
           {
            "marker": {
             "colorbar": {
              "outlinewidth": 0,
              "ticks": ""
             }
            },
            "type": "scattergeo"
           }
          ],
          "scattergl": [
           {
            "marker": {
             "colorbar": {
              "outlinewidth": 0,
              "ticks": ""
             }
            },
            "type": "scattergl"
           }
          ],
          "scattermapbox": [
           {
            "marker": {
             "colorbar": {
              "outlinewidth": 0,
              "ticks": ""
             }
            },
            "type": "scattermapbox"
           }
          ],
          "scatterpolar": [
           {
            "marker": {
             "colorbar": {
              "outlinewidth": 0,
              "ticks": ""
             }
            },
            "type": "scatterpolar"
           }
          ],
          "scatterpolargl": [
           {
            "marker": {
             "colorbar": {
              "outlinewidth": 0,
              "ticks": ""
             }
            },
            "type": "scatterpolargl"
           }
          ],
          "scatterternary": [
           {
            "marker": {
             "colorbar": {
              "outlinewidth": 0,
              "ticks": ""
             }
            },
            "type": "scatterternary"
           }
          ],
          "surface": [
           {
            "colorbar": {
             "outlinewidth": 0,
             "ticks": ""
            },
            "colorscale": [
             [
              0,
              "#0d0887"
             ],
             [
              0.1111111111111111,
              "#46039f"
             ],
             [
              0.2222222222222222,
              "#7201a8"
             ],
             [
              0.3333333333333333,
              "#9c179e"
             ],
             [
              0.4444444444444444,
              "#bd3786"
             ],
             [
              0.5555555555555556,
              "#d8576b"
             ],
             [
              0.6666666666666666,
              "#ed7953"
             ],
             [
              0.7777777777777778,
              "#fb9f3a"
             ],
             [
              0.8888888888888888,
              "#fdca26"
             ],
             [
              1,
              "#f0f921"
             ]
            ],
            "type": "surface"
           }
          ],
          "table": [
           {
            "cells": {
             "fill": {
              "color": "#EBF0F8"
             },
             "line": {
              "color": "white"
             }
            },
            "header": {
             "fill": {
              "color": "#C8D4E3"
             },
             "line": {
              "color": "white"
             }
            },
            "type": "table"
           }
          ]
         },
         "layout": {
          "annotationdefaults": {
           "arrowcolor": "#2a3f5f",
           "arrowhead": 0,
           "arrowwidth": 1
          },
          "autotypenumbers": "strict",
          "coloraxis": {
           "colorbar": {
            "outlinewidth": 0,
            "ticks": ""
           }
          },
          "colorscale": {
           "diverging": [
            [
             0,
             "#8e0152"
            ],
            [
             0.1,
             "#c51b7d"
            ],
            [
             0.2,
             "#de77ae"
            ],
            [
             0.3,
             "#f1b6da"
            ],
            [
             0.4,
             "#fde0ef"
            ],
            [
             0.5,
             "#f7f7f7"
            ],
            [
             0.6,
             "#e6f5d0"
            ],
            [
             0.7,
             "#b8e186"
            ],
            [
             0.8,
             "#7fbc41"
            ],
            [
             0.9,
             "#4d9221"
            ],
            [
             1,
             "#276419"
            ]
           ],
           "sequential": [
            [
             0,
             "#0d0887"
            ],
            [
             0.1111111111111111,
             "#46039f"
            ],
            [
             0.2222222222222222,
             "#7201a8"
            ],
            [
             0.3333333333333333,
             "#9c179e"
            ],
            [
             0.4444444444444444,
             "#bd3786"
            ],
            [
             0.5555555555555556,
             "#d8576b"
            ],
            [
             0.6666666666666666,
             "#ed7953"
            ],
            [
             0.7777777777777778,
             "#fb9f3a"
            ],
            [
             0.8888888888888888,
             "#fdca26"
            ],
            [
             1,
             "#f0f921"
            ]
           ],
           "sequentialminus": [
            [
             0,
             "#0d0887"
            ],
            [
             0.1111111111111111,
             "#46039f"
            ],
            [
             0.2222222222222222,
             "#7201a8"
            ],
            [
             0.3333333333333333,
             "#9c179e"
            ],
            [
             0.4444444444444444,
             "#bd3786"
            ],
            [
             0.5555555555555556,
             "#d8576b"
            ],
            [
             0.6666666666666666,
             "#ed7953"
            ],
            [
             0.7777777777777778,
             "#fb9f3a"
            ],
            [
             0.8888888888888888,
             "#fdca26"
            ],
            [
             1,
             "#f0f921"
            ]
           ]
          },
          "colorway": [
           "#636efa",
           "#EF553B",
           "#00cc96",
           "#ab63fa",
           "#FFA15A",
           "#19d3f3",
           "#FF6692",
           "#B6E880",
           "#FF97FF",
           "#FECB52"
          ],
          "font": {
           "color": "#2a3f5f"
          },
          "geo": {
           "bgcolor": "white",
           "lakecolor": "white",
           "landcolor": "#E5ECF6",
           "showlakes": true,
           "showland": true,
           "subunitcolor": "white"
          },
          "hoverlabel": {
           "align": "left"
          },
          "hovermode": "closest",
          "mapbox": {
           "style": "light"
          },
          "paper_bgcolor": "white",
          "plot_bgcolor": "#E5ECF6",
          "polar": {
           "angularaxis": {
            "gridcolor": "white",
            "linecolor": "white",
            "ticks": ""
           },
           "bgcolor": "#E5ECF6",
           "radialaxis": {
            "gridcolor": "white",
            "linecolor": "white",
            "ticks": ""
           }
          },
          "scene": {
           "xaxis": {
            "backgroundcolor": "#E5ECF6",
            "gridcolor": "white",
            "gridwidth": 2,
            "linecolor": "white",
            "showbackground": true,
            "ticks": "",
            "zerolinecolor": "white"
           },
           "yaxis": {
            "backgroundcolor": "#E5ECF6",
            "gridcolor": "white",
            "gridwidth": 2,
            "linecolor": "white",
            "showbackground": true,
            "ticks": "",
            "zerolinecolor": "white"
           },
           "zaxis": {
            "backgroundcolor": "#E5ECF6",
            "gridcolor": "white",
            "gridwidth": 2,
            "linecolor": "white",
            "showbackground": true,
            "ticks": "",
            "zerolinecolor": "white"
           }
          },
          "shapedefaults": {
           "line": {
            "color": "#2a3f5f"
           }
          },
          "ternary": {
           "aaxis": {
            "gridcolor": "white",
            "linecolor": "white",
            "ticks": ""
           },
           "baxis": {
            "gridcolor": "white",
            "linecolor": "white",
            "ticks": ""
           },
           "bgcolor": "#E5ECF6",
           "caxis": {
            "gridcolor": "white",
            "linecolor": "white",
            "ticks": ""
           }
          },
          "title": {
           "x": 0.05
          },
          "xaxis": {
           "automargin": true,
           "gridcolor": "white",
           "linecolor": "white",
           "ticks": "",
           "title": {
            "standoff": 15
           },
           "zerolinecolor": "white",
           "zerolinewidth": 2
          },
          "yaxis": {
           "automargin": true,
           "gridcolor": "white",
           "linecolor": "white",
           "ticks": "",
           "title": {
            "standoff": 15
           },
           "zerolinecolor": "white",
           "zerolinewidth": 2
          }
         }
        },
        "title": {
         "font": {
          "color": "#4D5663"
         },
         "text": "AVG by COuntry"
        },
        "xaxis": {
         "gridcolor": "#E1E5ED",
         "showgrid": true,
         "tickfont": {
          "color": "#4D5663"
         },
         "title": {
          "font": {
           "color": "#4D5663"
          },
          "text": "Avg qty"
         },
         "zerolinecolor": "#E1E5ED"
        },
        "yaxis": {
         "gridcolor": "#E1E5ED",
         "showgrid": true,
         "tickfont": {
          "color": "#4D5663"
         },
         "title": {
          "font": {
           "color": "#4D5663"
          },
          "text": "Avg unit price"
         },
         "zerolinecolor": "#E1E5ED"
        }
       }
      },
      "text/html": [
       "<div>                            <div id=\"9ab51b4d-34c1-46b4-8ee3-3b280f962b78\" class=\"plotly-graph-div\" style=\"height:525px; width:100%;\"></div>            <script type=\"text/javascript\">                require([\"plotly\"], function(Plotly) {                    window.PLOTLYENV=window.PLOTLYENV || {};\n",
       "                    window.PLOTLYENV.BASE_URL='https://plot.ly';                                    if (document.getElementById(\"9ab51b4d-34c1-46b4-8ee3-3b280f962b78\")) {                    Plotly.newPlot(                        \"9ab51b4d-34c1-46b4-8ee3-3b280f962b78\",                        [{\"marker\":{\"color\":\"rgba(55, 128, 191, 1.0)\",\"line\":{\"width\":1.3},\"opacity\":0.8,\"size\":12,\"symbol\":\"circle\"},\"mode\":\"markers\",\"name\":\"Australia\",\"textfont\":{\"color\":\"#4D5663\"},\"x\":[33.125],\"y\":[4.7125],\"type\":\"scatter\"},{\"marker\":{\"color\":\"rgba(55, 128, 191, 0.96)\",\"line\":{\"width\":1.3},\"opacity\":0.8,\"size\":12,\"symbol\":\"circle\"},\"mode\":\"markers\",\"name\":\"Austria\",\"textfont\":{\"color\":\"#4D5663\"},\"x\":[8.0],\"y\":[4.95],\"type\":\"scatter\"},{\"marker\":{\"color\":\"rgba(55, 128, 191, 0.9199999999999999)\",\"line\":{\"width\":1.3},\"opacity\":0.8,\"size\":12,\"symbol\":\"circle\"},\"mode\":\"markers\",\"name\":\"Belgium\",\"textfont\":{\"color\":\"#4D5663\"},\"x\":[4.0],\"y\":[4.95],\"type\":\"scatter\"},{\"marker\":{\"color\":\"rgba(55, 128, 191, 0.8799999999999999)\",\"line\":{\"width\":1.3},\"opacity\":0.8,\"size\":12,\"symbol\":\"circle\"},\"mode\":\"markers\",\"name\":\"Channel Islands\",\"textfont\":{\"color\":\"#4D5663\"},\"x\":[13.333333333333334],\"y\":[4.95],\"type\":\"scatter\"},{\"marker\":{\"color\":\"rgba(55, 128, 191, 0.8399999999999999)\",\"line\":{\"width\":1.3},\"opacity\":0.8,\"size\":12,\"symbol\":\"circle\"},\"mode\":\"markers\",\"name\":\"Cyprus\",\"textfont\":{\"color\":\"#4D5663\"},\"x\":[2.3333333333333335],\"y\":[4.75],\"type\":\"scatter\"},{\"marker\":{\"color\":\"rgba(55, 128, 191, 0.8)\",\"line\":{\"width\":1.3},\"opacity\":0.8,\"size\":12,\"symbol\":\"circle\"},\"mode\":\"markers\",\"name\":\"Denmark\",\"textfont\":{\"color\":\"#4D5663\"},\"x\":[12.0],\"y\":[4.95],\"type\":\"scatter\"},{\"marker\":{\"color\":\"rgba(55, 128, 191, 0.76)\",\"line\":{\"width\":1.3},\"opacity\":0.8,\"size\":12,\"symbol\":\"circle\"},\"mode\":\"markers\",\"name\":\"EIRE\",\"textfont\":{\"color\":\"#4D5663\"},\"x\":[21.210526315789473],\"y\":[4.739473684210527],\"type\":\"scatter\"},{\"marker\":{\"color\":\"rgba(55, 128, 191, 0.72)\",\"line\":{\"width\":1.3},\"opacity\":0.8,\"size\":12,\"symbol\":\"circle\"},\"mode\":\"markers\",\"name\":\"Finland\",\"textfont\":{\"color\":\"#4D5663\"},\"x\":[6.0],\"y\":[4.95],\"type\":\"scatter\"},{\"marker\":{\"color\":\"rgba(55, 128, 191, 0.6799999999999999)\",\"line\":{\"width\":1.3},\"opacity\":0.8,\"size\":12,\"symbol\":\"circle\"},\"mode\":\"markers\",\"name\":\"France\",\"textfont\":{\"color\":\"#4D5663\"},\"x\":[5.7272727272727275],\"y\":[4.922727272727273],\"type\":\"scatter\"},{\"marker\":{\"color\":\"rgba(55, 128, 191, 0.6399999999999999)\",\"line\":{\"width\":1.3},\"opacity\":0.8,\"size\":12,\"symbol\":\"circle\"},\"mode\":\"markers\",\"name\":\"Germany\",\"textfont\":{\"color\":\"#4D5663\"},\"x\":[6.8],\"y\":[4.890000000000001],\"type\":\"scatter\"},{\"marker\":{\"color\":\"rgba(55, 128, 191, 0.5999999999999999)\",\"line\":{\"width\":1.3},\"opacity\":0.8,\"size\":12,\"symbol\":\"circle\"},\"mode\":\"markers\",\"name\":\"Israel\",\"textfont\":{\"color\":\"#4D5663\"},\"x\":[1.0],\"y\":[4.95],\"type\":\"scatter\"},{\"marker\":{\"color\":\"rgba(55, 128, 191, 0.5599999999999998)\",\"line\":{\"width\":1.3},\"opacity\":0.8,\"size\":12,\"symbol\":\"circle\"},\"mode\":\"markers\",\"name\":\"Japan\",\"textfont\":{\"color\":\"#4D5663\"},\"x\":[56.666666666666664],\"y\":[4.183333333333334],\"type\":\"scatter\"},{\"marker\":{\"color\":\"rgba(55, 128, 191, 0.5199999999999998)\",\"line\":{\"width\":1.3},\"opacity\":0.8,\"size\":12,\"symbol\":\"circle\"},\"mode\":\"markers\",\"name\":\"Lebanon\",\"textfont\":{\"color\":\"#4D5663\"},\"x\":[15.0],\"y\":[4.65],\"type\":\"scatter\"},{\"marker\":{\"color\":\"rgba(55, 128, 191, 0.4799999999999998)\",\"line\":{\"width\":1.3},\"opacity\":0.8,\"size\":12,\"symbol\":\"circle\"},\"mode\":\"markers\",\"name\":\"Netherlands\",\"textfont\":{\"color\":\"#4D5663\"},\"x\":[50.0],\"y\":[4.15],\"type\":\"scatter\"},{\"marker\":{\"color\":\"rgba(55, 128, 191, 0.44)\",\"line\":{\"width\":1.3},\"opacity\":0.8,\"size\":12,\"symbol\":\"circle\"},\"mode\":\"markers\",\"name\":\"Norway\",\"textfont\":{\"color\":\"#4D5663\"},\"x\":[6.0],\"y\":[4.95],\"type\":\"scatter\"},{\"marker\":{\"color\":\"rgba(55, 128, 191, 0.39999999999999997)\",\"line\":{\"width\":1.3},\"opacity\":0.8,\"size\":12,\"symbol\":\"circle\"},\"mode\":\"markers\",\"name\":\"Singapore\",\"textfont\":{\"color\":\"#4D5663\"},\"x\":[8.0],\"y\":[4.95],\"type\":\"scatter\"},{\"marker\":{\"color\":\"rgba(55, 128, 191, 0.35999999999999993)\",\"line\":{\"width\":1.3},\"opacity\":0.8,\"size\":12,\"symbol\":\"circle\"},\"mode\":\"markers\",\"name\":\"South Africa\",\"textfont\":{\"color\":\"#4D5663\"},\"x\":[4.0],\"y\":[4.95],\"type\":\"scatter\"},{\"marker\":{\"color\":\"rgba(55, 128, 191, 0.3199999999999999)\",\"line\":{\"width\":1.3},\"opacity\":0.8,\"size\":12,\"symbol\":\"circle\"},\"mode\":\"markers\",\"name\":\"Spain\",\"textfont\":{\"color\":\"#4D5663\"},\"x\":[4.75],\"y\":[4.8375],\"type\":\"scatter\"},{\"marker\":{\"color\":\"rgba(55, 128, 191, 0.27999999999999986)\",\"line\":{\"width\":1.3},\"opacity\":0.8,\"size\":12,\"symbol\":\"circle\"},\"mode\":\"markers\",\"name\":\"Switzerland\",\"textfont\":{\"color\":\"#4D5663\"},\"x\":[17.2],\"y\":[4.790000000000001],\"type\":\"scatter\"},{\"marker\":{\"color\":\"rgba(55, 128, 191, 0.23999999999999982)\",\"line\":{\"width\":1.3},\"opacity\":0.8,\"size\":12,\"symbol\":\"circle\"},\"mode\":\"markers\",\"name\":\"United Kingdom\",\"textfont\":{\"color\":\"#4D5663\"},\"x\":[10.705432287681713],\"y\":[4.880925784238714],\"type\":\"scatter\"}],                        {\"legend\":{\"bgcolor\":\"#F5F6F9\",\"font\":{\"color\":\"#4D5663\"}},\"paper_bgcolor\":\"#F5F6F9\",\"plot_bgcolor\":\"#F5F6F9\",\"template\":{\"data\":{\"barpolar\":[{\"marker\":{\"line\":{\"color\":\"#E5ECF6\",\"width\":0.5},\"pattern\":{\"fillmode\":\"overlay\",\"size\":10,\"solidity\":0.2}},\"type\":\"barpolar\"}],\"bar\":[{\"error_x\":{\"color\":\"#2a3f5f\"},\"error_y\":{\"color\":\"#2a3f5f\"},\"marker\":{\"line\":{\"color\":\"#E5ECF6\",\"width\":0.5},\"pattern\":{\"fillmode\":\"overlay\",\"size\":10,\"solidity\":0.2}},\"type\":\"bar\"}],\"carpet\":[{\"aaxis\":{\"endlinecolor\":\"#2a3f5f\",\"gridcolor\":\"white\",\"linecolor\":\"white\",\"minorgridcolor\":\"white\",\"startlinecolor\":\"#2a3f5f\"},\"baxis\":{\"endlinecolor\":\"#2a3f5f\",\"gridcolor\":\"white\",\"linecolor\":\"white\",\"minorgridcolor\":\"white\",\"startlinecolor\":\"#2a3f5f\"},\"type\":\"carpet\"}],\"choropleth\":[{\"colorbar\":{\"outlinewidth\":0,\"ticks\":\"\"},\"type\":\"choropleth\"}],\"contourcarpet\":[{\"colorbar\":{\"outlinewidth\":0,\"ticks\":\"\"},\"type\":\"contourcarpet\"}],\"contour\":[{\"colorbar\":{\"outlinewidth\":0,\"ticks\":\"\"},\"colorscale\":[[0.0,\"#0d0887\"],[0.1111111111111111,\"#46039f\"],[0.2222222222222222,\"#7201a8\"],[0.3333333333333333,\"#9c179e\"],[0.4444444444444444,\"#bd3786\"],[0.5555555555555556,\"#d8576b\"],[0.6666666666666666,\"#ed7953\"],[0.7777777777777778,\"#fb9f3a\"],[0.8888888888888888,\"#fdca26\"],[1.0,\"#f0f921\"]],\"type\":\"contour\"}],\"heatmapgl\":[{\"colorbar\":{\"outlinewidth\":0,\"ticks\":\"\"},\"colorscale\":[[0.0,\"#0d0887\"],[0.1111111111111111,\"#46039f\"],[0.2222222222222222,\"#7201a8\"],[0.3333333333333333,\"#9c179e\"],[0.4444444444444444,\"#bd3786\"],[0.5555555555555556,\"#d8576b\"],[0.6666666666666666,\"#ed7953\"],[0.7777777777777778,\"#fb9f3a\"],[0.8888888888888888,\"#fdca26\"],[1.0,\"#f0f921\"]],\"type\":\"heatmapgl\"}],\"heatmap\":[{\"colorbar\":{\"outlinewidth\":0,\"ticks\":\"\"},\"colorscale\":[[0.0,\"#0d0887\"],[0.1111111111111111,\"#46039f\"],[0.2222222222222222,\"#7201a8\"],[0.3333333333333333,\"#9c179e\"],[0.4444444444444444,\"#bd3786\"],[0.5555555555555556,\"#d8576b\"],[0.6666666666666666,\"#ed7953\"],[0.7777777777777778,\"#fb9f3a\"],[0.8888888888888888,\"#fdca26\"],[1.0,\"#f0f921\"]],\"type\":\"heatmap\"}],\"histogram2dcontour\":[{\"colorbar\":{\"outlinewidth\":0,\"ticks\":\"\"},\"colorscale\":[[0.0,\"#0d0887\"],[0.1111111111111111,\"#46039f\"],[0.2222222222222222,\"#7201a8\"],[0.3333333333333333,\"#9c179e\"],[0.4444444444444444,\"#bd3786\"],[0.5555555555555556,\"#d8576b\"],[0.6666666666666666,\"#ed7953\"],[0.7777777777777778,\"#fb9f3a\"],[0.8888888888888888,\"#fdca26\"],[1.0,\"#f0f921\"]],\"type\":\"histogram2dcontour\"}],\"histogram2d\":[{\"colorbar\":{\"outlinewidth\":0,\"ticks\":\"\"},\"colorscale\":[[0.0,\"#0d0887\"],[0.1111111111111111,\"#46039f\"],[0.2222222222222222,\"#7201a8\"],[0.3333333333333333,\"#9c179e\"],[0.4444444444444444,\"#bd3786\"],[0.5555555555555556,\"#d8576b\"],[0.6666666666666666,\"#ed7953\"],[0.7777777777777778,\"#fb9f3a\"],[0.8888888888888888,\"#fdca26\"],[1.0,\"#f0f921\"]],\"type\":\"histogram2d\"}],\"histogram\":[{\"marker\":{\"pattern\":{\"fillmode\":\"overlay\",\"size\":10,\"solidity\":0.2}},\"type\":\"histogram\"}],\"mesh3d\":[{\"colorbar\":{\"outlinewidth\":0,\"ticks\":\"\"},\"type\":\"mesh3d\"}],\"parcoords\":[{\"line\":{\"colorbar\":{\"outlinewidth\":0,\"ticks\":\"\"}},\"type\":\"parcoords\"}],\"pie\":[{\"automargin\":true,\"type\":\"pie\"}],\"scatter3d\":[{\"line\":{\"colorbar\":{\"outlinewidth\":0,\"ticks\":\"\"}},\"marker\":{\"colorbar\":{\"outlinewidth\":0,\"ticks\":\"\"}},\"type\":\"scatter3d\"}],\"scattercarpet\":[{\"marker\":{\"colorbar\":{\"outlinewidth\":0,\"ticks\":\"\"}},\"type\":\"scattercarpet\"}],\"scattergeo\":[{\"marker\":{\"colorbar\":{\"outlinewidth\":0,\"ticks\":\"\"}},\"type\":\"scattergeo\"}],\"scattergl\":[{\"marker\":{\"colorbar\":{\"outlinewidth\":0,\"ticks\":\"\"}},\"type\":\"scattergl\"}],\"scattermapbox\":[{\"marker\":{\"colorbar\":{\"outlinewidth\":0,\"ticks\":\"\"}},\"type\":\"scattermapbox\"}],\"scatterpolargl\":[{\"marker\":{\"colorbar\":{\"outlinewidth\":0,\"ticks\":\"\"}},\"type\":\"scatterpolargl\"}],\"scatterpolar\":[{\"marker\":{\"colorbar\":{\"outlinewidth\":0,\"ticks\":\"\"}},\"type\":\"scatterpolar\"}],\"scatter\":[{\"fillpattern\":{\"fillmode\":\"overlay\",\"size\":10,\"solidity\":0.2},\"type\":\"scatter\"}],\"scatterternary\":[{\"marker\":{\"colorbar\":{\"outlinewidth\":0,\"ticks\":\"\"}},\"type\":\"scatterternary\"}],\"surface\":[{\"colorbar\":{\"outlinewidth\":0,\"ticks\":\"\"},\"colorscale\":[[0.0,\"#0d0887\"],[0.1111111111111111,\"#46039f\"],[0.2222222222222222,\"#7201a8\"],[0.3333333333333333,\"#9c179e\"],[0.4444444444444444,\"#bd3786\"],[0.5555555555555556,\"#d8576b\"],[0.6666666666666666,\"#ed7953\"],[0.7777777777777778,\"#fb9f3a\"],[0.8888888888888888,\"#fdca26\"],[1.0,\"#f0f921\"]],\"type\":\"surface\"}],\"table\":[{\"cells\":{\"fill\":{\"color\":\"#EBF0F8\"},\"line\":{\"color\":\"white\"}},\"header\":{\"fill\":{\"color\":\"#C8D4E3\"},\"line\":{\"color\":\"white\"}},\"type\":\"table\"}]},\"layout\":{\"annotationdefaults\":{\"arrowcolor\":\"#2a3f5f\",\"arrowhead\":0,\"arrowwidth\":1},\"autotypenumbers\":\"strict\",\"coloraxis\":{\"colorbar\":{\"outlinewidth\":0,\"ticks\":\"\"}},\"colorscale\":{\"diverging\":[[0,\"#8e0152\"],[0.1,\"#c51b7d\"],[0.2,\"#de77ae\"],[0.3,\"#f1b6da\"],[0.4,\"#fde0ef\"],[0.5,\"#f7f7f7\"],[0.6,\"#e6f5d0\"],[0.7,\"#b8e186\"],[0.8,\"#7fbc41\"],[0.9,\"#4d9221\"],[1,\"#276419\"]],\"sequential\":[[0.0,\"#0d0887\"],[0.1111111111111111,\"#46039f\"],[0.2222222222222222,\"#7201a8\"],[0.3333333333333333,\"#9c179e\"],[0.4444444444444444,\"#bd3786\"],[0.5555555555555556,\"#d8576b\"],[0.6666666666666666,\"#ed7953\"],[0.7777777777777778,\"#fb9f3a\"],[0.8888888888888888,\"#fdca26\"],[1.0,\"#f0f921\"]],\"sequentialminus\":[[0.0,\"#0d0887\"],[0.1111111111111111,\"#46039f\"],[0.2222222222222222,\"#7201a8\"],[0.3333333333333333,\"#9c179e\"],[0.4444444444444444,\"#bd3786\"],[0.5555555555555556,\"#d8576b\"],[0.6666666666666666,\"#ed7953\"],[0.7777777777777778,\"#fb9f3a\"],[0.8888888888888888,\"#fdca26\"],[1.0,\"#f0f921\"]]},\"colorway\":[\"#636efa\",\"#EF553B\",\"#00cc96\",\"#ab63fa\",\"#FFA15A\",\"#19d3f3\",\"#FF6692\",\"#B6E880\",\"#FF97FF\",\"#FECB52\"],\"font\":{\"color\":\"#2a3f5f\"},\"geo\":{\"bgcolor\":\"white\",\"lakecolor\":\"white\",\"landcolor\":\"#E5ECF6\",\"showlakes\":true,\"showland\":true,\"subunitcolor\":\"white\"},\"hoverlabel\":{\"align\":\"left\"},\"hovermode\":\"closest\",\"mapbox\":{\"style\":\"light\"},\"paper_bgcolor\":\"white\",\"plot_bgcolor\":\"#E5ECF6\",\"polar\":{\"angularaxis\":{\"gridcolor\":\"white\",\"linecolor\":\"white\",\"ticks\":\"\"},\"bgcolor\":\"#E5ECF6\",\"radialaxis\":{\"gridcolor\":\"white\",\"linecolor\":\"white\",\"ticks\":\"\"}},\"scene\":{\"xaxis\":{\"backgroundcolor\":\"#E5ECF6\",\"gridcolor\":\"white\",\"gridwidth\":2,\"linecolor\":\"white\",\"showbackground\":true,\"ticks\":\"\",\"zerolinecolor\":\"white\"},\"yaxis\":{\"backgroundcolor\":\"#E5ECF6\",\"gridcolor\":\"white\",\"gridwidth\":2,\"linecolor\":\"white\",\"showbackground\":true,\"ticks\":\"\",\"zerolinecolor\":\"white\"},\"zaxis\":{\"backgroundcolor\":\"#E5ECF6\",\"gridcolor\":\"white\",\"gridwidth\":2,\"linecolor\":\"white\",\"showbackground\":true,\"ticks\":\"\",\"zerolinecolor\":\"white\"}},\"shapedefaults\":{\"line\":{\"color\":\"#2a3f5f\"}},\"ternary\":{\"aaxis\":{\"gridcolor\":\"white\",\"linecolor\":\"white\",\"ticks\":\"\"},\"baxis\":{\"gridcolor\":\"white\",\"linecolor\":\"white\",\"ticks\":\"\"},\"bgcolor\":\"#E5ECF6\",\"caxis\":{\"gridcolor\":\"white\",\"linecolor\":\"white\",\"ticks\":\"\"}},\"title\":{\"x\":0.05},\"xaxis\":{\"automargin\":true,\"gridcolor\":\"white\",\"linecolor\":\"white\",\"ticks\":\"\",\"title\":{\"standoff\":15},\"zerolinecolor\":\"white\",\"zerolinewidth\":2},\"yaxis\":{\"automargin\":true,\"gridcolor\":\"white\",\"linecolor\":\"white\",\"ticks\":\"\",\"title\":{\"standoff\":15},\"zerolinecolor\":\"white\",\"zerolinewidth\":2}}},\"title\":{\"font\":{\"color\":\"#4D5663\"},\"text\":\"AVG by COuntry\"},\"xaxis\":{\"gridcolor\":\"#E1E5ED\",\"showgrid\":true,\"tickfont\":{\"color\":\"#4D5663\"},\"title\":{\"font\":{\"color\":\"#4D5663\"},\"text\":\"Avg qty\"},\"zerolinecolor\":\"#E1E5ED\"},\"yaxis\":{\"gridcolor\":\"#E1E5ED\",\"showgrid\":true,\"tickfont\":{\"color\":\"#4D5663\"},\"title\":{\"font\":{\"color\":\"#4D5663\"},\"text\":\"Avg unit price\"},\"zerolinecolor\":\"#E1E5ED\"}},                        {\"showLink\": true, \"linkText\": \"Export to plot.ly\", \"plotlyServerURL\": \"https://plot.ly\", \"responsive\": true}                    ).then(function(){\n",
       "                            \n",
       "var gd = document.getElementById('9ab51b4d-34c1-46b4-8ee3-3b280f962b78');\n",
       "var x = new MutationObserver(function (mutations, observer) {{\n",
       "        var display = window.getComputedStyle(gd).display;\n",
       "        if (!display || display === 'none') {{\n",
       "            console.log([gd, 'removed!']);\n",
       "            Plotly.purge(gd);\n",
       "            observer.disconnect();\n",
       "        }}\n",
       "}});\n",
       "\n",
       "// Listen for the removal of the full notebook cells\n",
       "var notebookContainer = gd.closest('#notebook-container');\n",
       "if (notebookContainer) {{\n",
       "    x.observe(notebookContainer, {childList: true});\n",
       "}}\n",
       "\n",
       "// Listen for the clearing of the current output cell\n",
       "var outputEl = gd.closest('.output');\n",
       "if (outputEl) {{\n",
       "    x.observe(outputEl, {childList: true});\n",
       "}}\n",
       "\n",
       "                        })                };                });            </script>        </div>"
      ]
     },
     "metadata": {},
     "output_type": "display_data"
    }
   ],
   "source": [
    "\n",
    "party=df.loc[df.Description=='PARTY BUNTING']\n",
    "\n",
    "party=party.groupby('Country').mean()\n",
    "party=party[['Quantity', 'UnitPrice']]\n",
    "\n",
    "\n",
    "party.reset_index(inplace=True)\n",
    "\n",
    "\n",
    "party.iplot(x='Quantity', y='UnitPrice', categories='Country',\n",
    "           xTitle='Avg qty', yTitle='Avg unit price',\n",
    "           color='blue', title='AVG by COuntry')"
   ]
  },
  {
   "cell_type": "code",
   "execution_count": null,
   "metadata": {},
   "outputs": [],
   "source": []
  },
  {
   "cell_type": "markdown",
   "metadata": {},
   "source": [
    "## 4. Create a set of interactive histograms showing the distributions of quantity per invoice for the following countries: EIRE, Germany, France, and Netherlands."
   ]
  },
  {
   "cell_type": "code",
   "execution_count": null,
   "metadata": {},
   "outputs": [],
   "source": []
  },
  {
   "cell_type": "code",
   "execution_count": null,
   "metadata": {},
   "outputs": [],
   "source": []
  },
  {
   "cell_type": "code",
   "execution_count": null,
   "metadata": {},
   "outputs": [],
   "source": []
  },
  {
   "cell_type": "code",
   "execution_count": null,
   "metadata": {},
   "outputs": [],
   "source": []
  },
  {
   "cell_type": "markdown",
   "metadata": {},
   "source": [
    "## 5. Create an interactive side-by-side bar chart showing the revenue by country listed below (bars) for each of the products listed below."
   ]
  },
  {
   "cell_type": "code",
   "execution_count": 40,
   "metadata": {},
   "outputs": [
    {
     "data": {
      "application/vnd.plotly.v1+json": {
       "config": {
        "linkText": "Export to plot.ly",
        "plotlyServerURL": "https://plot.ly",
        "showLink": true
       },
       "data": [
        {
         "marker": {
          "color": "rgba(255, 153, 51, 0.6)",
          "line": {
           "color": "rgba(255, 153, 51, 1.0)",
           "width": 1
          }
         },
         "name": "CREAM HANGING HEART T-LIGHT HOLDER",
         "orientation": "v",
         "text": "",
         "type": "bar",
         "x": [
          "EIRE",
          "France",
          "Germany"
         ],
         "y": [
          2740.8,
          131.75,
          35.40000000000001
         ]
        },
        {
         "marker": {
          "color": "rgba(55, 128, 191, 0.6)",
          "line": {
           "color": "rgba(55, 128, 191, 1.0)",
           "width": 1
          }
         },
         "name": "JUMBO BAG RED RETROSPOT",
         "orientation": "v",
         "text": "",
         "type": "bar",
         "x": [
          "EIRE",
          "France",
          "Germany"
         ],
         "y": [
          278.72,
          903.37,
          1072.76
         ]
        },
        {
         "marker": {
          "color": "rgba(50, 171, 96, 0.6)",
          "line": {
           "color": "rgba(50, 171, 96, 1.0)",
           "width": 1
          }
         },
         "name": "REGENCY CAKESTAND 3 TIER",
         "orientation": "v",
         "text": "",
         "type": "bar",
         "x": [
          "EIRE",
          "France",
          "Germany"
         ],
         "y": [
          7388.55,
          2816.85,
          9061.949999999999
         ]
        }
       ],
       "layout": {
        "legend": {
         "bgcolor": "#F5F6F9",
         "font": {
          "color": "#4D5663"
         }
        },
        "paper_bgcolor": "#F5F6F9",
        "plot_bgcolor": "#F5F6F9",
        "template": {
         "data": {
          "bar": [
           {
            "error_x": {
             "color": "#2a3f5f"
            },
            "error_y": {
             "color": "#2a3f5f"
            },
            "marker": {
             "line": {
              "color": "#E5ECF6",
              "width": 0.5
             },
             "pattern": {
              "fillmode": "overlay",
              "size": 10,
              "solidity": 0.2
             }
            },
            "type": "bar"
           }
          ],
          "barpolar": [
           {
            "marker": {
             "line": {
              "color": "#E5ECF6",
              "width": 0.5
             },
             "pattern": {
              "fillmode": "overlay",
              "size": 10,
              "solidity": 0.2
             }
            },
            "type": "barpolar"
           }
          ],
          "carpet": [
           {
            "aaxis": {
             "endlinecolor": "#2a3f5f",
             "gridcolor": "white",
             "linecolor": "white",
             "minorgridcolor": "white",
             "startlinecolor": "#2a3f5f"
            },
            "baxis": {
             "endlinecolor": "#2a3f5f",
             "gridcolor": "white",
             "linecolor": "white",
             "minorgridcolor": "white",
             "startlinecolor": "#2a3f5f"
            },
            "type": "carpet"
           }
          ],
          "choropleth": [
           {
            "colorbar": {
             "outlinewidth": 0,
             "ticks": ""
            },
            "type": "choropleth"
           }
          ],
          "contour": [
           {
            "colorbar": {
             "outlinewidth": 0,
             "ticks": ""
            },
            "colorscale": [
             [
              0,
              "#0d0887"
             ],
             [
              0.1111111111111111,
              "#46039f"
             ],
             [
              0.2222222222222222,
              "#7201a8"
             ],
             [
              0.3333333333333333,
              "#9c179e"
             ],
             [
              0.4444444444444444,
              "#bd3786"
             ],
             [
              0.5555555555555556,
              "#d8576b"
             ],
             [
              0.6666666666666666,
              "#ed7953"
             ],
             [
              0.7777777777777778,
              "#fb9f3a"
             ],
             [
              0.8888888888888888,
              "#fdca26"
             ],
             [
              1,
              "#f0f921"
             ]
            ],
            "type": "contour"
           }
          ],
          "contourcarpet": [
           {
            "colorbar": {
             "outlinewidth": 0,
             "ticks": ""
            },
            "type": "contourcarpet"
           }
          ],
          "heatmap": [
           {
            "colorbar": {
             "outlinewidth": 0,
             "ticks": ""
            },
            "colorscale": [
             [
              0,
              "#0d0887"
             ],
             [
              0.1111111111111111,
              "#46039f"
             ],
             [
              0.2222222222222222,
              "#7201a8"
             ],
             [
              0.3333333333333333,
              "#9c179e"
             ],
             [
              0.4444444444444444,
              "#bd3786"
             ],
             [
              0.5555555555555556,
              "#d8576b"
             ],
             [
              0.6666666666666666,
              "#ed7953"
             ],
             [
              0.7777777777777778,
              "#fb9f3a"
             ],
             [
              0.8888888888888888,
              "#fdca26"
             ],
             [
              1,
              "#f0f921"
             ]
            ],
            "type": "heatmap"
           }
          ],
          "heatmapgl": [
           {
            "colorbar": {
             "outlinewidth": 0,
             "ticks": ""
            },
            "colorscale": [
             [
              0,
              "#0d0887"
             ],
             [
              0.1111111111111111,
              "#46039f"
             ],
             [
              0.2222222222222222,
              "#7201a8"
             ],
             [
              0.3333333333333333,
              "#9c179e"
             ],
             [
              0.4444444444444444,
              "#bd3786"
             ],
             [
              0.5555555555555556,
              "#d8576b"
             ],
             [
              0.6666666666666666,
              "#ed7953"
             ],
             [
              0.7777777777777778,
              "#fb9f3a"
             ],
             [
              0.8888888888888888,
              "#fdca26"
             ],
             [
              1,
              "#f0f921"
             ]
            ],
            "type": "heatmapgl"
           }
          ],
          "histogram": [
           {
            "marker": {
             "pattern": {
              "fillmode": "overlay",
              "size": 10,
              "solidity": 0.2
             }
            },
            "type": "histogram"
           }
          ],
          "histogram2d": [
           {
            "colorbar": {
             "outlinewidth": 0,
             "ticks": ""
            },
            "colorscale": [
             [
              0,
              "#0d0887"
             ],
             [
              0.1111111111111111,
              "#46039f"
             ],
             [
              0.2222222222222222,
              "#7201a8"
             ],
             [
              0.3333333333333333,
              "#9c179e"
             ],
             [
              0.4444444444444444,
              "#bd3786"
             ],
             [
              0.5555555555555556,
              "#d8576b"
             ],
             [
              0.6666666666666666,
              "#ed7953"
             ],
             [
              0.7777777777777778,
              "#fb9f3a"
             ],
             [
              0.8888888888888888,
              "#fdca26"
             ],
             [
              1,
              "#f0f921"
             ]
            ],
            "type": "histogram2d"
           }
          ],
          "histogram2dcontour": [
           {
            "colorbar": {
             "outlinewidth": 0,
             "ticks": ""
            },
            "colorscale": [
             [
              0,
              "#0d0887"
             ],
             [
              0.1111111111111111,
              "#46039f"
             ],
             [
              0.2222222222222222,
              "#7201a8"
             ],
             [
              0.3333333333333333,
              "#9c179e"
             ],
             [
              0.4444444444444444,
              "#bd3786"
             ],
             [
              0.5555555555555556,
              "#d8576b"
             ],
             [
              0.6666666666666666,
              "#ed7953"
             ],
             [
              0.7777777777777778,
              "#fb9f3a"
             ],
             [
              0.8888888888888888,
              "#fdca26"
             ],
             [
              1,
              "#f0f921"
             ]
            ],
            "type": "histogram2dcontour"
           }
          ],
          "mesh3d": [
           {
            "colorbar": {
             "outlinewidth": 0,
             "ticks": ""
            },
            "type": "mesh3d"
           }
          ],
          "parcoords": [
           {
            "line": {
             "colorbar": {
              "outlinewidth": 0,
              "ticks": ""
             }
            },
            "type": "parcoords"
           }
          ],
          "pie": [
           {
            "automargin": true,
            "type": "pie"
           }
          ],
          "scatter": [
           {
            "fillpattern": {
             "fillmode": "overlay",
             "size": 10,
             "solidity": 0.2
            },
            "type": "scatter"
           }
          ],
          "scatter3d": [
           {
            "line": {
             "colorbar": {
              "outlinewidth": 0,
              "ticks": ""
             }
            },
            "marker": {
             "colorbar": {
              "outlinewidth": 0,
              "ticks": ""
             }
            },
            "type": "scatter3d"
           }
          ],
          "scattercarpet": [
           {
            "marker": {
             "colorbar": {
              "outlinewidth": 0,
              "ticks": ""
             }
            },
            "type": "scattercarpet"
           }
          ],
          "scattergeo": [
           {
            "marker": {
             "colorbar": {
              "outlinewidth": 0,
              "ticks": ""
             }
            },
            "type": "scattergeo"
           }
          ],
          "scattergl": [
           {
            "marker": {
             "colorbar": {
              "outlinewidth": 0,
              "ticks": ""
             }
            },
            "type": "scattergl"
           }
          ],
          "scattermapbox": [
           {
            "marker": {
             "colorbar": {
              "outlinewidth": 0,
              "ticks": ""
             }
            },
            "type": "scattermapbox"
           }
          ],
          "scatterpolar": [
           {
            "marker": {
             "colorbar": {
              "outlinewidth": 0,
              "ticks": ""
             }
            },
            "type": "scatterpolar"
           }
          ],
          "scatterpolargl": [
           {
            "marker": {
             "colorbar": {
              "outlinewidth": 0,
              "ticks": ""
             }
            },
            "type": "scatterpolargl"
           }
          ],
          "scatterternary": [
           {
            "marker": {
             "colorbar": {
              "outlinewidth": 0,
              "ticks": ""
             }
            },
            "type": "scatterternary"
           }
          ],
          "surface": [
           {
            "colorbar": {
             "outlinewidth": 0,
             "ticks": ""
            },
            "colorscale": [
             [
              0,
              "#0d0887"
             ],
             [
              0.1111111111111111,
              "#46039f"
             ],
             [
              0.2222222222222222,
              "#7201a8"
             ],
             [
              0.3333333333333333,
              "#9c179e"
             ],
             [
              0.4444444444444444,
              "#bd3786"
             ],
             [
              0.5555555555555556,
              "#d8576b"
             ],
             [
              0.6666666666666666,
              "#ed7953"
             ],
             [
              0.7777777777777778,
              "#fb9f3a"
             ],
             [
              0.8888888888888888,
              "#fdca26"
             ],
             [
              1,
              "#f0f921"
             ]
            ],
            "type": "surface"
           }
          ],
          "table": [
           {
            "cells": {
             "fill": {
              "color": "#EBF0F8"
             },
             "line": {
              "color": "white"
             }
            },
            "header": {
             "fill": {
              "color": "#C8D4E3"
             },
             "line": {
              "color": "white"
             }
            },
            "type": "table"
           }
          ]
         },
         "layout": {
          "annotationdefaults": {
           "arrowcolor": "#2a3f5f",
           "arrowhead": 0,
           "arrowwidth": 1
          },
          "autotypenumbers": "strict",
          "coloraxis": {
           "colorbar": {
            "outlinewidth": 0,
            "ticks": ""
           }
          },
          "colorscale": {
           "diverging": [
            [
             0,
             "#8e0152"
            ],
            [
             0.1,
             "#c51b7d"
            ],
            [
             0.2,
             "#de77ae"
            ],
            [
             0.3,
             "#f1b6da"
            ],
            [
             0.4,
             "#fde0ef"
            ],
            [
             0.5,
             "#f7f7f7"
            ],
            [
             0.6,
             "#e6f5d0"
            ],
            [
             0.7,
             "#b8e186"
            ],
            [
             0.8,
             "#7fbc41"
            ],
            [
             0.9,
             "#4d9221"
            ],
            [
             1,
             "#276419"
            ]
           ],
           "sequential": [
            [
             0,
             "#0d0887"
            ],
            [
             0.1111111111111111,
             "#46039f"
            ],
            [
             0.2222222222222222,
             "#7201a8"
            ],
            [
             0.3333333333333333,
             "#9c179e"
            ],
            [
             0.4444444444444444,
             "#bd3786"
            ],
            [
             0.5555555555555556,
             "#d8576b"
            ],
            [
             0.6666666666666666,
             "#ed7953"
            ],
            [
             0.7777777777777778,
             "#fb9f3a"
            ],
            [
             0.8888888888888888,
             "#fdca26"
            ],
            [
             1,
             "#f0f921"
            ]
           ],
           "sequentialminus": [
            [
             0,
             "#0d0887"
            ],
            [
             0.1111111111111111,
             "#46039f"
            ],
            [
             0.2222222222222222,
             "#7201a8"
            ],
            [
             0.3333333333333333,
             "#9c179e"
            ],
            [
             0.4444444444444444,
             "#bd3786"
            ],
            [
             0.5555555555555556,
             "#d8576b"
            ],
            [
             0.6666666666666666,
             "#ed7953"
            ],
            [
             0.7777777777777778,
             "#fb9f3a"
            ],
            [
             0.8888888888888888,
             "#fdca26"
            ],
            [
             1,
             "#f0f921"
            ]
           ]
          },
          "colorway": [
           "#636efa",
           "#EF553B",
           "#00cc96",
           "#ab63fa",
           "#FFA15A",
           "#19d3f3",
           "#FF6692",
           "#B6E880",
           "#FF97FF",
           "#FECB52"
          ],
          "font": {
           "color": "#2a3f5f"
          },
          "geo": {
           "bgcolor": "white",
           "lakecolor": "white",
           "landcolor": "#E5ECF6",
           "showlakes": true,
           "showland": true,
           "subunitcolor": "white"
          },
          "hoverlabel": {
           "align": "left"
          },
          "hovermode": "closest",
          "mapbox": {
           "style": "light"
          },
          "paper_bgcolor": "white",
          "plot_bgcolor": "#E5ECF6",
          "polar": {
           "angularaxis": {
            "gridcolor": "white",
            "linecolor": "white",
            "ticks": ""
           },
           "bgcolor": "#E5ECF6",
           "radialaxis": {
            "gridcolor": "white",
            "linecolor": "white",
            "ticks": ""
           }
          },
          "scene": {
           "xaxis": {
            "backgroundcolor": "#E5ECF6",
            "gridcolor": "white",
            "gridwidth": 2,
            "linecolor": "white",
            "showbackground": true,
            "ticks": "",
            "zerolinecolor": "white"
           },
           "yaxis": {
            "backgroundcolor": "#E5ECF6",
            "gridcolor": "white",
            "gridwidth": 2,
            "linecolor": "white",
            "showbackground": true,
            "ticks": "",
            "zerolinecolor": "white"
           },
           "zaxis": {
            "backgroundcolor": "#E5ECF6",
            "gridcolor": "white",
            "gridwidth": 2,
            "linecolor": "white",
            "showbackground": true,
            "ticks": "",
            "zerolinecolor": "white"
           }
          },
          "shapedefaults": {
           "line": {
            "color": "#2a3f5f"
           }
          },
          "ternary": {
           "aaxis": {
            "gridcolor": "white",
            "linecolor": "white",
            "ticks": ""
           },
           "baxis": {
            "gridcolor": "white",
            "linecolor": "white",
            "ticks": ""
           },
           "bgcolor": "#E5ECF6",
           "caxis": {
            "gridcolor": "white",
            "linecolor": "white",
            "ticks": ""
           }
          },
          "title": {
           "x": 0.05
          },
          "xaxis": {
           "automargin": true,
           "gridcolor": "white",
           "linecolor": "white",
           "ticks": "",
           "title": {
            "standoff": 15
           },
           "zerolinecolor": "white",
           "zerolinewidth": 2
          },
          "yaxis": {
           "automargin": true,
           "gridcolor": "white",
           "linecolor": "white",
           "ticks": "",
           "title": {
            "standoff": 15
           },
           "zerolinecolor": "white",
           "zerolinewidth": 2
          }
         }
        },
        "title": {
         "font": {
          "color": "#4D5663"
         },
         "text": "Revenue by Country"
        },
        "xaxis": {
         "gridcolor": "#E1E5ED",
         "showgrid": true,
         "tickfont": {
          "color": "#4D5663"
         },
         "title": {
          "font": {
           "color": "#4D5663"
          },
          "text": "Country"
         },
         "zerolinecolor": "#E1E5ED"
        },
        "yaxis": {
         "gridcolor": "#E1E5ED",
         "showgrid": true,
         "tickfont": {
          "color": "#4D5663"
         },
         "title": {
          "font": {
           "color": "#4D5663"
          },
          "text": "Revenue"
         },
         "zerolinecolor": "#E1E5ED"
        }
       }
      },
      "text/html": [
       "<div>                            <div id=\"39b6d8ce-d44c-47e1-81a3-3072185567e3\" class=\"plotly-graph-div\" style=\"height:525px; width:100%;\"></div>            <script type=\"text/javascript\">                require([\"plotly\"], function(Plotly) {                    window.PLOTLYENV=window.PLOTLYENV || {};\n",
       "                    window.PLOTLYENV.BASE_URL='https://plot.ly';                                    if (document.getElementById(\"39b6d8ce-d44c-47e1-81a3-3072185567e3\")) {                    Plotly.newPlot(                        \"39b6d8ce-d44c-47e1-81a3-3072185567e3\",                        [{\"marker\":{\"color\":\"rgba(255, 153, 51, 0.6)\",\"line\":{\"color\":\"rgba(255, 153, 51, 1.0)\",\"width\":1}},\"name\":\"CREAM HANGING HEART T-LIGHT HOLDER\",\"orientation\":\"v\",\"text\":\"\",\"x\":[\"EIRE\",\"France\",\"Germany\"],\"y\":[2740.8,131.75,35.40000000000001],\"type\":\"bar\"},{\"marker\":{\"color\":\"rgba(55, 128, 191, 0.6)\",\"line\":{\"color\":\"rgba(55, 128, 191, 1.0)\",\"width\":1}},\"name\":\"JUMBO BAG RED RETROSPOT\",\"orientation\":\"v\",\"text\":\"\",\"x\":[\"EIRE\",\"France\",\"Germany\"],\"y\":[278.72,903.37,1072.76],\"type\":\"bar\"},{\"marker\":{\"color\":\"rgba(50, 171, 96, 0.6)\",\"line\":{\"color\":\"rgba(50, 171, 96, 1.0)\",\"width\":1}},\"name\":\"REGENCY CAKESTAND 3 TIER\",\"orientation\":\"v\",\"text\":\"\",\"x\":[\"EIRE\",\"France\",\"Germany\"],\"y\":[7388.55,2816.85,9061.949999999999],\"type\":\"bar\"}],                        {\"legend\":{\"bgcolor\":\"#F5F6F9\",\"font\":{\"color\":\"#4D5663\"}},\"paper_bgcolor\":\"#F5F6F9\",\"plot_bgcolor\":\"#F5F6F9\",\"template\":{\"data\":{\"barpolar\":[{\"marker\":{\"line\":{\"color\":\"#E5ECF6\",\"width\":0.5},\"pattern\":{\"fillmode\":\"overlay\",\"size\":10,\"solidity\":0.2}},\"type\":\"barpolar\"}],\"bar\":[{\"error_x\":{\"color\":\"#2a3f5f\"},\"error_y\":{\"color\":\"#2a3f5f\"},\"marker\":{\"line\":{\"color\":\"#E5ECF6\",\"width\":0.5},\"pattern\":{\"fillmode\":\"overlay\",\"size\":10,\"solidity\":0.2}},\"type\":\"bar\"}],\"carpet\":[{\"aaxis\":{\"endlinecolor\":\"#2a3f5f\",\"gridcolor\":\"white\",\"linecolor\":\"white\",\"minorgridcolor\":\"white\",\"startlinecolor\":\"#2a3f5f\"},\"baxis\":{\"endlinecolor\":\"#2a3f5f\",\"gridcolor\":\"white\",\"linecolor\":\"white\",\"minorgridcolor\":\"white\",\"startlinecolor\":\"#2a3f5f\"},\"type\":\"carpet\"}],\"choropleth\":[{\"colorbar\":{\"outlinewidth\":0,\"ticks\":\"\"},\"type\":\"choropleth\"}],\"contourcarpet\":[{\"colorbar\":{\"outlinewidth\":0,\"ticks\":\"\"},\"type\":\"contourcarpet\"}],\"contour\":[{\"colorbar\":{\"outlinewidth\":0,\"ticks\":\"\"},\"colorscale\":[[0.0,\"#0d0887\"],[0.1111111111111111,\"#46039f\"],[0.2222222222222222,\"#7201a8\"],[0.3333333333333333,\"#9c179e\"],[0.4444444444444444,\"#bd3786\"],[0.5555555555555556,\"#d8576b\"],[0.6666666666666666,\"#ed7953\"],[0.7777777777777778,\"#fb9f3a\"],[0.8888888888888888,\"#fdca26\"],[1.0,\"#f0f921\"]],\"type\":\"contour\"}],\"heatmapgl\":[{\"colorbar\":{\"outlinewidth\":0,\"ticks\":\"\"},\"colorscale\":[[0.0,\"#0d0887\"],[0.1111111111111111,\"#46039f\"],[0.2222222222222222,\"#7201a8\"],[0.3333333333333333,\"#9c179e\"],[0.4444444444444444,\"#bd3786\"],[0.5555555555555556,\"#d8576b\"],[0.6666666666666666,\"#ed7953\"],[0.7777777777777778,\"#fb9f3a\"],[0.8888888888888888,\"#fdca26\"],[1.0,\"#f0f921\"]],\"type\":\"heatmapgl\"}],\"heatmap\":[{\"colorbar\":{\"outlinewidth\":0,\"ticks\":\"\"},\"colorscale\":[[0.0,\"#0d0887\"],[0.1111111111111111,\"#46039f\"],[0.2222222222222222,\"#7201a8\"],[0.3333333333333333,\"#9c179e\"],[0.4444444444444444,\"#bd3786\"],[0.5555555555555556,\"#d8576b\"],[0.6666666666666666,\"#ed7953\"],[0.7777777777777778,\"#fb9f3a\"],[0.8888888888888888,\"#fdca26\"],[1.0,\"#f0f921\"]],\"type\":\"heatmap\"}],\"histogram2dcontour\":[{\"colorbar\":{\"outlinewidth\":0,\"ticks\":\"\"},\"colorscale\":[[0.0,\"#0d0887\"],[0.1111111111111111,\"#46039f\"],[0.2222222222222222,\"#7201a8\"],[0.3333333333333333,\"#9c179e\"],[0.4444444444444444,\"#bd3786\"],[0.5555555555555556,\"#d8576b\"],[0.6666666666666666,\"#ed7953\"],[0.7777777777777778,\"#fb9f3a\"],[0.8888888888888888,\"#fdca26\"],[1.0,\"#f0f921\"]],\"type\":\"histogram2dcontour\"}],\"histogram2d\":[{\"colorbar\":{\"outlinewidth\":0,\"ticks\":\"\"},\"colorscale\":[[0.0,\"#0d0887\"],[0.1111111111111111,\"#46039f\"],[0.2222222222222222,\"#7201a8\"],[0.3333333333333333,\"#9c179e\"],[0.4444444444444444,\"#bd3786\"],[0.5555555555555556,\"#d8576b\"],[0.6666666666666666,\"#ed7953\"],[0.7777777777777778,\"#fb9f3a\"],[0.8888888888888888,\"#fdca26\"],[1.0,\"#f0f921\"]],\"type\":\"histogram2d\"}],\"histogram\":[{\"marker\":{\"pattern\":{\"fillmode\":\"overlay\",\"size\":10,\"solidity\":0.2}},\"type\":\"histogram\"}],\"mesh3d\":[{\"colorbar\":{\"outlinewidth\":0,\"ticks\":\"\"},\"type\":\"mesh3d\"}],\"parcoords\":[{\"line\":{\"colorbar\":{\"outlinewidth\":0,\"ticks\":\"\"}},\"type\":\"parcoords\"}],\"pie\":[{\"automargin\":true,\"type\":\"pie\"}],\"scatter3d\":[{\"line\":{\"colorbar\":{\"outlinewidth\":0,\"ticks\":\"\"}},\"marker\":{\"colorbar\":{\"outlinewidth\":0,\"ticks\":\"\"}},\"type\":\"scatter3d\"}],\"scattercarpet\":[{\"marker\":{\"colorbar\":{\"outlinewidth\":0,\"ticks\":\"\"}},\"type\":\"scattercarpet\"}],\"scattergeo\":[{\"marker\":{\"colorbar\":{\"outlinewidth\":0,\"ticks\":\"\"}},\"type\":\"scattergeo\"}],\"scattergl\":[{\"marker\":{\"colorbar\":{\"outlinewidth\":0,\"ticks\":\"\"}},\"type\":\"scattergl\"}],\"scattermapbox\":[{\"marker\":{\"colorbar\":{\"outlinewidth\":0,\"ticks\":\"\"}},\"type\":\"scattermapbox\"}],\"scatterpolargl\":[{\"marker\":{\"colorbar\":{\"outlinewidth\":0,\"ticks\":\"\"}},\"type\":\"scatterpolargl\"}],\"scatterpolar\":[{\"marker\":{\"colorbar\":{\"outlinewidth\":0,\"ticks\":\"\"}},\"type\":\"scatterpolar\"}],\"scatter\":[{\"fillpattern\":{\"fillmode\":\"overlay\",\"size\":10,\"solidity\":0.2},\"type\":\"scatter\"}],\"scatterternary\":[{\"marker\":{\"colorbar\":{\"outlinewidth\":0,\"ticks\":\"\"}},\"type\":\"scatterternary\"}],\"surface\":[{\"colorbar\":{\"outlinewidth\":0,\"ticks\":\"\"},\"colorscale\":[[0.0,\"#0d0887\"],[0.1111111111111111,\"#46039f\"],[0.2222222222222222,\"#7201a8\"],[0.3333333333333333,\"#9c179e\"],[0.4444444444444444,\"#bd3786\"],[0.5555555555555556,\"#d8576b\"],[0.6666666666666666,\"#ed7953\"],[0.7777777777777778,\"#fb9f3a\"],[0.8888888888888888,\"#fdca26\"],[1.0,\"#f0f921\"]],\"type\":\"surface\"}],\"table\":[{\"cells\":{\"fill\":{\"color\":\"#EBF0F8\"},\"line\":{\"color\":\"white\"}},\"header\":{\"fill\":{\"color\":\"#C8D4E3\"},\"line\":{\"color\":\"white\"}},\"type\":\"table\"}]},\"layout\":{\"annotationdefaults\":{\"arrowcolor\":\"#2a3f5f\",\"arrowhead\":0,\"arrowwidth\":1},\"autotypenumbers\":\"strict\",\"coloraxis\":{\"colorbar\":{\"outlinewidth\":0,\"ticks\":\"\"}},\"colorscale\":{\"diverging\":[[0,\"#8e0152\"],[0.1,\"#c51b7d\"],[0.2,\"#de77ae\"],[0.3,\"#f1b6da\"],[0.4,\"#fde0ef\"],[0.5,\"#f7f7f7\"],[0.6,\"#e6f5d0\"],[0.7,\"#b8e186\"],[0.8,\"#7fbc41\"],[0.9,\"#4d9221\"],[1,\"#276419\"]],\"sequential\":[[0.0,\"#0d0887\"],[0.1111111111111111,\"#46039f\"],[0.2222222222222222,\"#7201a8\"],[0.3333333333333333,\"#9c179e\"],[0.4444444444444444,\"#bd3786\"],[0.5555555555555556,\"#d8576b\"],[0.6666666666666666,\"#ed7953\"],[0.7777777777777778,\"#fb9f3a\"],[0.8888888888888888,\"#fdca26\"],[1.0,\"#f0f921\"]],\"sequentialminus\":[[0.0,\"#0d0887\"],[0.1111111111111111,\"#46039f\"],[0.2222222222222222,\"#7201a8\"],[0.3333333333333333,\"#9c179e\"],[0.4444444444444444,\"#bd3786\"],[0.5555555555555556,\"#d8576b\"],[0.6666666666666666,\"#ed7953\"],[0.7777777777777778,\"#fb9f3a\"],[0.8888888888888888,\"#fdca26\"],[1.0,\"#f0f921\"]]},\"colorway\":[\"#636efa\",\"#EF553B\",\"#00cc96\",\"#ab63fa\",\"#FFA15A\",\"#19d3f3\",\"#FF6692\",\"#B6E880\",\"#FF97FF\",\"#FECB52\"],\"font\":{\"color\":\"#2a3f5f\"},\"geo\":{\"bgcolor\":\"white\",\"lakecolor\":\"white\",\"landcolor\":\"#E5ECF6\",\"showlakes\":true,\"showland\":true,\"subunitcolor\":\"white\"},\"hoverlabel\":{\"align\":\"left\"},\"hovermode\":\"closest\",\"mapbox\":{\"style\":\"light\"},\"paper_bgcolor\":\"white\",\"plot_bgcolor\":\"#E5ECF6\",\"polar\":{\"angularaxis\":{\"gridcolor\":\"white\",\"linecolor\":\"white\",\"ticks\":\"\"},\"bgcolor\":\"#E5ECF6\",\"radialaxis\":{\"gridcolor\":\"white\",\"linecolor\":\"white\",\"ticks\":\"\"}},\"scene\":{\"xaxis\":{\"backgroundcolor\":\"#E5ECF6\",\"gridcolor\":\"white\",\"gridwidth\":2,\"linecolor\":\"white\",\"showbackground\":true,\"ticks\":\"\",\"zerolinecolor\":\"white\"},\"yaxis\":{\"backgroundcolor\":\"#E5ECF6\",\"gridcolor\":\"white\",\"gridwidth\":2,\"linecolor\":\"white\",\"showbackground\":true,\"ticks\":\"\",\"zerolinecolor\":\"white\"},\"zaxis\":{\"backgroundcolor\":\"#E5ECF6\",\"gridcolor\":\"white\",\"gridwidth\":2,\"linecolor\":\"white\",\"showbackground\":true,\"ticks\":\"\",\"zerolinecolor\":\"white\"}},\"shapedefaults\":{\"line\":{\"color\":\"#2a3f5f\"}},\"ternary\":{\"aaxis\":{\"gridcolor\":\"white\",\"linecolor\":\"white\",\"ticks\":\"\"},\"baxis\":{\"gridcolor\":\"white\",\"linecolor\":\"white\",\"ticks\":\"\"},\"bgcolor\":\"#E5ECF6\",\"caxis\":{\"gridcolor\":\"white\",\"linecolor\":\"white\",\"ticks\":\"\"}},\"title\":{\"x\":0.05},\"xaxis\":{\"automargin\":true,\"gridcolor\":\"white\",\"linecolor\":\"white\",\"ticks\":\"\",\"title\":{\"standoff\":15},\"zerolinecolor\":\"white\",\"zerolinewidth\":2},\"yaxis\":{\"automargin\":true,\"gridcolor\":\"white\",\"linecolor\":\"white\",\"ticks\":\"\",\"title\":{\"standoff\":15},\"zerolinecolor\":\"white\",\"zerolinewidth\":2}}},\"title\":{\"font\":{\"color\":\"#4D5663\"},\"text\":\"Revenue by Country\"},\"xaxis\":{\"gridcolor\":\"#E1E5ED\",\"showgrid\":true,\"tickfont\":{\"color\":\"#4D5663\"},\"title\":{\"font\":{\"color\":\"#4D5663\"},\"text\":\"Country\"},\"zerolinecolor\":\"#E1E5ED\"},\"yaxis\":{\"gridcolor\":\"#E1E5ED\",\"showgrid\":true,\"tickfont\":{\"color\":\"#4D5663\"},\"title\":{\"font\":{\"color\":\"#4D5663\"},\"text\":\"Revenue\"},\"zerolinecolor\":\"#E1E5ED\"}},                        {\"showLink\": true, \"linkText\": \"Export to plot.ly\", \"plotlyServerURL\": \"https://plot.ly\", \"responsive\": true}                    ).then(function(){\n",
       "                            \n",
       "var gd = document.getElementById('39b6d8ce-d44c-47e1-81a3-3072185567e3');\n",
       "var x = new MutationObserver(function (mutations, observer) {{\n",
       "        var display = window.getComputedStyle(gd).display;\n",
       "        if (!display || display === 'none') {{\n",
       "            console.log([gd, 'removed!']);\n",
       "            Plotly.purge(gd);\n",
       "            observer.disconnect();\n",
       "        }}\n",
       "}});\n",
       "\n",
       "// Listen for the removal of the full notebook cells\n",
       "var notebookContainer = gd.closest('#notebook-container');\n",
       "if (notebookContainer) {{\n",
       "    x.observe(notebookContainer, {childList: true});\n",
       "}}\n",
       "\n",
       "// Listen for the clearing of the current output cell\n",
       "var outputEl = gd.closest('.output');\n",
       "if (outputEl) {{\n",
       "    x.observe(outputEl, {childList: true});\n",
       "}}\n",
       "\n",
       "                        })                };                });            </script>        </div>"
      ]
     },
     "metadata": {},
     "output_type": "display_data"
    }
   ],
   "source": [
    "prod_lst=['JUMBO BAG RED RETROSPOT', \n",
    "          'CREAM HANGING HEART T-LIGHT HOLDER',\n",
    "          'REGENCY CAKESTAND 3 TIER']\n",
    "\n",
    "country_lst=['EIRE', 'Germany', 'France']\n",
    "\n",
    "data=df.loc[df.Description.isin(prod_lst)]\n",
    "data=data.loc[data.Country.isin(country_lst)]\n",
    "\n",
    "\n",
    "\n",
    "data=data.pivot_table(values='Revenue', columns='Description',\n",
    "                      index='Country', aggfunc='sum')\n",
    "\n",
    "data.reset_index(inplace=True)\n",
    "\n",
    "\n",
    "data.iplot(kind='bar', x='Country', title='Revenue by Country',\n",
    "          xTitle='Country', yTitle='Revenue')"
   ]
  },
  {
   "cell_type": "code",
   "execution_count": null,
   "metadata": {},
   "outputs": [],
   "source": []
  },
  {
   "cell_type": "markdown",
   "metadata": {},
   "source": [
    "## 6. Create an interactive line chart showing quantity sold by day for the United Kingdom. Add drop-down boxes for Year and Month that allow you to filter the date range that appears in the chart."
   ]
  },
  {
   "cell_type": "code",
   "execution_count": null,
   "metadata": {},
   "outputs": [],
   "source": []
  },
  {
   "cell_type": "code",
   "execution_count": null,
   "metadata": {},
   "outputs": [],
   "source": []
  },
  {
   "cell_type": "code",
   "execution_count": null,
   "metadata": {},
   "outputs": [],
   "source": []
  },
  {
   "cell_type": "markdown",
   "metadata": {},
   "source": [
    "## 7. Create an interactive scatter plot that plots number of invoices (x-axis) vs. number of customers (y-axis) and the plot points represent individual products. Add two sliders that control the x and y axis ranges."
   ]
  },
  {
   "cell_type": "code",
   "execution_count": null,
   "metadata": {},
   "outputs": [],
   "source": []
  },
  {
   "cell_type": "code",
   "execution_count": null,
   "metadata": {},
   "outputs": [],
   "source": []
  },
  {
   "cell_type": "code",
   "execution_count": null,
   "metadata": {},
   "outputs": [],
   "source": []
  },
  {
   "cell_type": "markdown",
   "metadata": {},
   "source": [
    "## 8. Creat an interactive bar chart that shows revenue by product description. Add a text field widget that filters the results to show the product that contain the text entered in their description."
   ]
  },
  {
   "cell_type": "code",
   "execution_count": null,
   "metadata": {},
   "outputs": [],
   "source": []
  }
 ],
 "metadata": {
  "kernelspec": {
   "display_name": "Python 3 (ipykernel)",
   "language": "python",
   "name": "python3"
  },
  "language_info": {
   "codemirror_mode": {
    "name": "ipython",
    "version": 3
   },
   "file_extension": ".py",
   "mimetype": "text/x-python",
   "name": "python",
   "nbconvert_exporter": "python",
   "pygments_lexer": "ipython3",
   "version": "3.9.13"
  }
 },
 "nbformat": 4,
 "nbformat_minor": 2
}
